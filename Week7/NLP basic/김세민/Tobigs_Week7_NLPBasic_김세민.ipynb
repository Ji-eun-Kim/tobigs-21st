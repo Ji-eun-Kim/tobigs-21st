{
 "cells": [
  {
   "cell_type": "code",
   "execution_count": 243,
   "metadata": {},
   "outputs": [
    {
     "name": "stderr",
     "output_type": "stream",
     "text": [
      "[nltk_data] Downloading package punkt to\n",
      "[nltk_data]     C:\\Users\\seriz\\AppData\\Roaming\\nltk_data...\n",
      "[nltk_data]   Package punkt is already up-to-date!\n",
      "[nltk_data] Downloading package stopwords to\n",
      "[nltk_data]     C:\\Users\\seriz\\AppData\\Roaming\\nltk_data...\n",
      "[nltk_data]   Package stopwords is already up-to-date!\n"
     ]
    }
   ],
   "source": [
    "import torch\n",
    "import torch.nn as nn\n",
    "import torch.optim as optim\n",
    "\n",
    "# 토크나이징을 위한 라이브러리\n",
    "from nltk.corpus import stopwords\n",
    "from torchtext.data.utils import get_tokenizer\n",
    "from torchtext.vocab import build_vocab_from_iterator\n",
    "from torch.nn.utils.rnn import pad_sequence\n",
    "\n",
    "# 임베딩 모델을 위한 라이브러리\n",
    "from gensim.models import KeyedVectors\n",
    "import gensim.downloader\n",
    "\n",
    "# 데이터 전처리 및 시각화를 위한 라이브러리\n",
    "import re\n",
    "from wordcloud import WordCloud\n",
    "import matplotlib.pyplot as plt\n",
    "import seaborn as sns\n",
    "\n",
    "# 데이터 다루기 및 시각화를 위한 라이브러리\n",
    "import pandas as pd\n",
    "import numpy as np\n",
    "\n",
    "# 불용어 처리를 위한 라이브러리\n",
    "import nltk\n",
    "nltk.download('punkt')\n",
    "nltk.download('stopwords')\n",
    "\n",
    "# 훈련 및 테스트 데이터셋 생성을 위한 라이브러리\n",
    "from torch.utils.data import DataLoader, TensorDataset\n",
    "from sklearn.model_selection import train_test_split"
   ]
  },
  {
   "cell_type": "markdown",
   "metadata": {},
   "source": [
    "## EDA"
   ]
  },
  {
   "cell_type": "code",
   "execution_count": 244,
   "metadata": {},
   "outputs": [],
   "source": [
    "data = pd.read_csv('spam.csv')"
   ]
  },
  {
   "cell_type": "code",
   "execution_count": 245,
   "metadata": {},
   "outputs": [
    {
     "data": {
      "text/html": [
       "<div>\n",
       "<style scoped>\n",
       "    .dataframe tbody tr th:only-of-type {\n",
       "        vertical-align: middle;\n",
       "    }\n",
       "\n",
       "    .dataframe tbody tr th {\n",
       "        vertical-align: top;\n",
       "    }\n",
       "\n",
       "    .dataframe thead th {\n",
       "        text-align: right;\n",
       "    }\n",
       "</style>\n",
       "<table border=\"1\" class=\"dataframe\">\n",
       "  <thead>\n",
       "    <tr style=\"text-align: right;\">\n",
       "      <th></th>\n",
       "      <th>v1</th>\n",
       "      <th>v2</th>\n",
       "    </tr>\n",
       "  </thead>\n",
       "  <tbody>\n",
       "    <tr>\n",
       "      <th>0</th>\n",
       "      <td>ham</td>\n",
       "      <td>Go until jurong point, crazy.. Available only ...</td>\n",
       "    </tr>\n",
       "    <tr>\n",
       "      <th>1</th>\n",
       "      <td>ham</td>\n",
       "      <td>Ok lar... Joking wif u oni...</td>\n",
       "    </tr>\n",
       "    <tr>\n",
       "      <th>2</th>\n",
       "      <td>spam</td>\n",
       "      <td>Free entry in 2 a wkly comp to win FA Cup fina...</td>\n",
       "    </tr>\n",
       "    <tr>\n",
       "      <th>3</th>\n",
       "      <td>ham</td>\n",
       "      <td>U dun say so early hor... U c already then say...</td>\n",
       "    </tr>\n",
       "    <tr>\n",
       "      <th>4</th>\n",
       "      <td>ham</td>\n",
       "      <td>Nah I don't think he goes to usf, he lives aro...</td>\n",
       "    </tr>\n",
       "  </tbody>\n",
       "</table>\n",
       "</div>"
      ],
      "text/plain": [
       "     v1                                                 v2\n",
       "0   ham  Go until jurong point, crazy.. Available only ...\n",
       "1   ham                      Ok lar... Joking wif u oni...\n",
       "2  spam  Free entry in 2 a wkly comp to win FA Cup fina...\n",
       "3   ham  U dun say so early hor... U c already then say...\n",
       "4   ham  Nah I don't think he goes to usf, he lives aro..."
      ]
     },
     "execution_count": 245,
     "metadata": {},
     "output_type": "execute_result"
    }
   ],
   "source": [
    "data.head(5)"
   ]
  },
  {
   "cell_type": "code",
   "execution_count": 246,
   "metadata": {},
   "outputs": [],
   "source": [
    "# 타겟값 인코딩\n",
    "data.v1 = data.v1.apply(lambda x: 1 if x == 'spam' else 0)"
   ]
  },
  {
   "cell_type": "code",
   "execution_count": 247,
   "metadata": {},
   "outputs": [
    {
     "name": "stdout",
     "output_type": "stream",
     "text": [
      "Non-Spam:  4825\n",
      "Spam:  747\n"
     ]
    },
    {
     "data": {
      "image/png": "[encoded data removed]",
      "text/plain": [
       "<Figure size 432x288 with 1 Axes>"
      ]
     },
     "metadata": {
      "needs_background": "light"
     },
     "output_type": "display_data"
    }
   ],
   "source": [
    "data.v1.value_counts().plot(kind='bar')\n",
    "\n",
    "print('Non-Spam: ', data.v1.value_counts()[0])\n",
    "print('Spam: ', data.v1.value_counts()[1])"
   ]
  },
  {
   "cell_type": "markdown",
   "metadata": {},
   "source": [
    "Spam의 비율이 압도적으로 적음을 알 수 있음"
   ]
  },
  {
   "cell_type": "code",
   "execution_count": 248,
   "metadata": {},
   "outputs": [
    {
     "data": {
      "image/png": "[encoded data removed]",
      "text/plain": [
       "<Figure size 1008x504 with 1 Axes>"
      ]
     },
     "metadata": {
      "needs_background": "light"
     },
     "output_type": "display_data"
    },
    {
     "name": "stdout",
     "output_type": "stream",
     "text": [
      "max: 910\n",
      "min: 2\n",
      "mean: 80.11880832735105\n"
     ]
    }
   ],
   "source": [
    "import seaborn as sns\n",
    "\n",
    "plt.figure(figsize=(14,7))\n",
    "data['length'] = data.v2.apply(lambda x: len(x))\n",
    "sns.histplot(data=data.length, kde=True)\n",
    "plt.title('Distribution of text length')\n",
    "plt.show()\n",
    "\n",
    "print(f'max: {data.length.max()}')\n",
    "print(f'min: {data.length.min()}')\n",
    "print(f'mean: {data.length.mean()}')"
   ]
  },
  {
   "cell_type": "markdown",
   "metadata": {},
   "source": [
    "## Preprocessing"
   ]
  },
  {
   "cell_type": "markdown",
   "metadata": {},
   "source": [
    "정규표현식을 활용한 정제 및 불용어 제거"
   ]
  },
  {
   "cell_type": "code",
   "execution_count": 249,
   "metadata": {},
   "outputs": [
    {
     "data": {
      "text/html": [
       "<div>\n",
       "<style scoped>\n",
       "    .dataframe tbody tr th:only-of-type {\n",
       "        vertical-align: middle;\n",
       "    }\n",
       "\n",
       "    .dataframe tbody tr th {\n",
       "        vertical-align: top;\n",
       "    }\n",
       "\n",
       "    .dataframe thead th {\n",
       "        text-align: right;\n",
       "    }\n",
       "</style>\n",
       "<table border=\"1\" class=\"dataframe\">\n",
       "  <thead>\n",
       "    <tr style=\"text-align: right;\">\n",
       "      <th></th>\n",
       "      <th>v1</th>\n",
       "      <th>v2</th>\n",
       "      <th>length</th>\n",
       "      <th>cleaned_v2</th>\n",
       "    </tr>\n",
       "  </thead>\n",
       "  <tbody>\n",
       "    <tr>\n",
       "      <th>0</th>\n",
       "      <td>0</td>\n",
       "      <td>Go until jurong point, crazy.. Available only ...</td>\n",
       "      <td>111</td>\n",
       "      <td>jurong point crazy available bugis great world...</td>\n",
       "    </tr>\n",
       "    <tr>\n",
       "      <th>1</th>\n",
       "      <td>0</td>\n",
       "      <td>Ok lar... Joking wif u oni...</td>\n",
       "      <td>29</td>\n",
       "      <td>lar joking wif oni</td>\n",
       "    </tr>\n",
       "    <tr>\n",
       "      <th>2</th>\n",
       "      <td>1</td>\n",
       "      <td>Free entry in 2 a wkly comp to win FA Cup fina...</td>\n",
       "      <td>155</td>\n",
       "      <td>free entry wkly comp win cup final tkts may te...</td>\n",
       "    </tr>\n",
       "    <tr>\n",
       "      <th>3</th>\n",
       "      <td>0</td>\n",
       "      <td>U dun say so early hor... U c already then say...</td>\n",
       "      <td>49</td>\n",
       "      <td>dun say early hor already say</td>\n",
       "    </tr>\n",
       "    <tr>\n",
       "      <th>4</th>\n",
       "      <td>0</td>\n",
       "      <td>Nah I don't think he goes to usf, he lives aro...</td>\n",
       "      <td>61</td>\n",
       "      <td>nah think goes usf lives around though</td>\n",
       "    </tr>\n",
       "    <tr>\n",
       "      <th>...</th>\n",
       "      <td>...</td>\n",
       "      <td>...</td>\n",
       "      <td>...</td>\n",
       "      <td>...</td>\n",
       "    </tr>\n",
       "    <tr>\n",
       "      <th>5567</th>\n",
       "      <td>1</td>\n",
       "      <td>This is the 2nd time we have tried 2 contact u...</td>\n",
       "      <td>161</td>\n",
       "      <td>time tried contact pound prize claim easy call...</td>\n",
       "    </tr>\n",
       "    <tr>\n",
       "      <th>5568</th>\n",
       "      <td>0</td>\n",
       "      <td>Will Ì_ b going to esplanade fr home?</td>\n",
       "      <td>37</td>\n",
       "      <td>going esplanade home</td>\n",
       "    </tr>\n",
       "    <tr>\n",
       "      <th>5569</th>\n",
       "      <td>0</td>\n",
       "      <td>Pity, * was in mood for that. So...any other s...</td>\n",
       "      <td>57</td>\n",
       "      <td>pity mood suggestions</td>\n",
       "    </tr>\n",
       "    <tr>\n",
       "      <th>5570</th>\n",
       "      <td>0</td>\n",
       "      <td>The guy did some bitching but I acted like i'd...</td>\n",
       "      <td>125</td>\n",
       "      <td>guy bitching acted like interested buying some...</td>\n",
       "    </tr>\n",
       "    <tr>\n",
       "      <th>5571</th>\n",
       "      <td>0</td>\n",
       "      <td>Rofl. Its true to its name</td>\n",
       "      <td>26</td>\n",
       "      <td>rofl true name</td>\n",
       "    </tr>\n",
       "  </tbody>\n",
       "</table>\n",
       "<p>5572 rows × 4 columns</p>\n",
       "</div>"
      ],
      "text/plain": [
       "      v1                                                 v2  length  \\\n",
       "0      0  Go until jurong point, crazy.. Available only ...     111   \n",
       "1      0                      Ok lar... Joking wif u oni...      29   \n",
       "2      1  Free entry in 2 a wkly comp to win FA Cup fina...     155   \n",
       "3      0  U dun say so early hor... U c already then say...      49   \n",
       "4      0  Nah I don't think he goes to usf, he lives aro...      61   \n",
       "...   ..                                                ...     ...   \n",
       "5567   1  This is the 2nd time we have tried 2 contact u...     161   \n",
       "5568   0              Will Ì_ b going to esplanade fr home?      37   \n",
       "5569   0  Pity, * was in mood for that. So...any other s...      57   \n",
       "5570   0  The guy did some bitching but I acted like i'd...     125   \n",
       "5571   0                         Rofl. Its true to its name      26   \n",
       "\n",
       "                                             cleaned_v2  \n",
       "0     jurong point crazy available bugis great world...  \n",
       "1                                    lar joking wif oni  \n",
       "2     free entry wkly comp win cup final tkts may te...  \n",
       "3                         dun say early hor already say  \n",
       "4                nah think goes usf lives around though  \n",
       "...                                                 ...  \n",
       "5567  time tried contact pound prize claim easy call...  \n",
       "5568                               going esplanade home  \n",
       "5569                              pity mood suggestions  \n",
       "5570  guy bitching acted like interested buying some...  \n",
       "5571                                     rofl true name  \n",
       "\n",
       "[5572 rows x 4 columns]"
      ]
     },
     "execution_count": 249,
     "metadata": {},
     "output_type": "execute_result"
    }
   ],
   "source": [
    "stop_words = set(stopwords.words('english'))\n",
    "\n",
    "def preprocess_words(x):\n",
    "    x = x.lower()\n",
    "    x = re.sub(r'\\([^)]*\\)', '', x)\n",
    "    x = re.sub(r'\\W', ' ', x)\n",
    "    x = re.sub(r'\\d', ' ', x)\n",
    "    x = re.sub(r'\\s+', ' ', x)\n",
    "    x = re.sub(r'\\W*\\b\\w{1,2}\\b', ' ', x).strip()\n",
    "    x = \" \".join([t for t in word_tokenize(x) if t not in stop_words])\n",
    "    return x\n",
    "\n",
    "data['cleaned_v2'] = data.v2.apply(preprocess_words)\n",
    "\n",
    "data"
   ]
  },
  {
   "cell_type": "markdown",
   "metadata": {},
   "source": [
    "토큰화 및 임베딩"
   ]
  },
  {
   "cell_type": "code",
   "execution_count": 250,
   "metadata": {},
   "outputs": [],
   "source": [
    "# Word2Vec 모델 로드\n",
    "# 보편적으로 가장 많이 사용하는 임베딩 모델이기 때문에 선택하게 됨.\n",
    "word2vec_model = gensim.downloader.load('word2vec-google-news-300')"
   ]
  },
  {
   "cell_type": "code",
   "execution_count": 251,
   "metadata": {},
   "outputs": [],
   "source": [
    "# 토크나이저 및 vocab 정의\n",
    "# 파이토치에서 제공하는 기본 영어 토크나이저 사용\n",
    "tokenizer = get_tokenizer(\"basic_english\")\n",
    "\n",
    "def yielder(dataset):\n",
    "    for text in dataset:\n",
    "        yield tokenizer(text)\n",
    "\n",
    "vocab = build_vocab_from_iterator(yielder(data.cleaned_v2), specials=[\"<unk>\"])\n",
    "vocab.set_default_index(vocab[\"<unk>\"])"
   ]
  },
  {
   "cell_type": "code",
   "execution_count": 252,
   "metadata": {},
   "outputs": [
    {
     "name": "stderr",
     "output_type": "stream",
     "text": [
      "Making Embedding Matrix:   0%|          | 0/7310 [00:00<?, ?it/s]"
     ]
    },
    {
     "name": "stderr",
     "output_type": "stream",
     "text": [
      "Making Embedding Matrix: 100%|██████████| 7310/7310 [00:00<00:00, 37215.73it/s]\n"
     ]
    }
   ],
   "source": [
    "# 텍스트 임베딩 진행\n",
    "\n",
    "from tqdm import tqdm\n",
    "\n",
    "vocab_size = len(vocab)\n",
    "embedding_dim = word2vec_model.vectors.shape[1]\n",
    "embedding_matrix = torch.zeros((vocab_size, embedding_dim))\n",
    "\n",
    "for word, i in tqdm(vocab.get_stoi().items(), desc='Making Embedding Matrix'):\n",
    "    try:\n",
    "        embedding_matrix[i] = torch.tensor(word2vec_model[word])\n",
    "    except KeyError:\n",
    "        # Word2Vec의 vocab에 해당 단어가 없을 경우, 균등분포를 따르는 랜덤 가중치 값 생성\n",
    "        embedding_matrix[i] = torch.tensor(np.random.uniform(-0.25, 0.25, embedding_dim))"
   ]
  },
  {
   "cell_type": "markdown",
   "metadata": {},
   "source": [
    "CNN 기반 스팸문자 탐지 모델 구현"
   ]
  },
  {
   "cell_type": "code",
   "execution_count": 258,
   "metadata": {},
   "outputs": [],
   "source": [
    "class SpamPrediction(nn.Module):\n",
    "    def __init__(self, embedding_matrix, embedding_dim, num_filters, kernel_size, dr_ratio):\n",
    "        super(SpamPrediction, self).__init__()\n",
    "\n",
    "        self.embedding = nn.Embedding.from_pretrained(embedding_matrix, freeze=True)\n",
    "        self.conv = nn.Conv1d(in_channels=embedding_dim, out_channels=num_filters, kernel_size=kernel_size)\n",
    "        self.dropout = nn.Dropout(dr_ratio)\n",
    "        self.max_pool = nn.MaxPool1d(kernel_size)\n",
    "        self.fc = nn.Linear(num_filters * 6, 1)\n",
    "        self.sigmoid = nn.Sigmoid()\n",
    "\n",
    "    def forward(self, x):\n",
    "    \n",
    "        x = self.embedding(x)\n",
    "        x = x.permute(0, 2, 1)\n",
    "        x = self.conv(x)\n",
    "        x = torch.relu(x)\n",
    "        x = self.max_pool(x)\n",
    "        x = x.squeeze(2)\n",
    "        x = self.dropout(x)\n",
    "        x = x.view(x.size(0), -1)\n",
    "        x = self.fc(x)\n",
    "        x = self.sigmoid(x)\n",
    "\n",
    "        return x"
   ]
  },
  {
   "cell_type": "code",
   "execution_count": 259,
   "metadata": {},
   "outputs": [
    {
     "name": "stdout",
     "output_type": "stream",
     "text": [
      "cpu\n"
     ]
    }
   ],
   "source": [
    "# GPU 사용\n",
    "\n",
    "if torch.cuda.is_available():\n",
    "  DEVICE = torch.device('cuda')\n",
    "else:\n",
    "  DEVICE = torch.device('cpu')\n",
    "\n",
    "print(DEVICE)"
   ]
  },
  {
   "cell_type": "markdown",
   "metadata": {},
   "source": [
    "## Training and Evaluation"
   ]
  },
  {
   "cell_type": "code",
   "execution_count": 260,
   "metadata": {},
   "outputs": [],
   "source": [
    "# 하이퍼파라미터 설정\n",
    "\n",
    "BATCH_SIZE = 128\n",
    "EPOCH = 5\n",
    "learning_rate = 1e-3\n",
    "model = SpamPrediction(embedding_matrix, embedding_dim, 512, 10, 0.5).to(DEVICE)\n",
    "criterion = nn.BCELoss()\n",
    "optimizer = optim.Adam(model.parameters(), lr=learning_rate)"
   ]
  },
  {
   "cell_type": "code",
   "execution_count": 261,
   "metadata": {},
   "outputs": [],
   "source": [
    "X = data.cleaned_v2.apply(lambda x: vocab(tokenizer(x)))\n",
    "X = pad_sequence([torch.tensor(seq) for seq in X], batch_first=True, padding_value=0)\n",
    "\n",
    "y = torch.tensor(data.v1, dtype=torch.float)\n",
    "\n",
    "X_train, X_test, y_train, y_test = train_test_split(X, y, test_size=0.2, shuffle=True, random_state=42)\n",
    "X_train, X_val, y_train, y_val = train_test_split(X_train, y_train, test_size=0.2, shuffle=True, random_state=42)\n",
    "\n",
    "train_dataset = TensorDataset(X_train, y_train)\n",
    "train_loader = DataLoader(train_dataset, batch_size=BATCH_SIZE)\n",
    "val_dataset = TensorDataset(X_val, y_val)\n",
    "val_loader = DataLoader(val_dataset, batch_size=BATCH_SIZE)\n",
    "test_dataset = TensorDataset(X_test, y_test)\n",
    "test_loader = DataLoader(test_dataset, batch_size=BATCH_SIZE)"
   ]
  },
  {
   "cell_type": "code",
   "execution_count": 262,
   "metadata": {},
   "outputs": [
    {
     "name": "stderr",
     "output_type": "stream",
     "text": [
      "Training: 100%|██████████| 28/28 [00:05<00:00,  4.70it/s]\n",
      "Validating: 100%|██████████| 7/7 [00:00<00:00,  8.38it/s]\n"
     ]
    },
    {
     "name": "stdout",
     "output_type": "stream",
     "text": [
      "Epoch 1/5, Train Loss: 0.2956, Train Acc: 88.6957, Train Recall: 0.5300, Train Precision: 0.3619, Train F1: 0.3992, Val Loss: 0.1567, Val Acc: 96.0762, Val Recall: 0.8485, Val Precision: 0.7642, Val F1: 0.8006\n"
     ]
    },
    {
     "name": "stderr",
     "output_type": "stream",
     "text": [
      "Training: 100%|██████████| 28/28 [00:06<00:00,  4.49it/s]\n",
      "Validating: 100%|██████████| 7/7 [00:00<00:00,  9.07it/s]\n"
     ]
    },
    {
     "name": "stdout",
     "output_type": "stream",
     "text": [
      "Epoch 2/5, Train Loss: 0.1122, Train Acc: 96.6900, Train Recall: 0.9358, Train Precision: 0.8188, Train F1: 0.8692, Val Loss: 0.0927, Val Acc: 97.0852, Val Recall: 0.9369, Val Precision: 0.7704, Val F1: 0.8410\n"
     ]
    },
    {
     "name": "stderr",
     "output_type": "stream",
     "text": [
      "Training: 100%|██████████| 28/28 [00:06<00:00,  4.16it/s]\n",
      "Validating: 100%|██████████| 7/7 [00:00<00:00,  7.54it/s]\n"
     ]
    },
    {
     "name": "stdout",
     "output_type": "stream",
     "text": [
      "Epoch 3/5, Train Loss: 0.0659, Train Acc: 97.9523, Train Recall: 0.9542, Train Precision: 0.8916, Train F1: 0.9206, Val Loss: 0.0787, Val Acc: 97.8700, Val Recall: 0.9484, Val Precision: 0.8267, Val F1: 0.8814\n"
     ]
    },
    {
     "name": "stderr",
     "output_type": "stream",
     "text": [
      "Training: 100%|██████████| 28/28 [00:08<00:00,  3.18it/s]\n",
      "Validating: 100%|██████████| 7/7 [00:01<00:00,  6.24it/s]\n"
     ]
    },
    {
     "name": "stdout",
     "output_type": "stream",
     "text": [
      "Epoch 4/5, Train Loss: 0.0469, Train Acc: 98.4853, Train Recall: 0.9658, Train Precision: 0.9204, Train F1: 0.9413, Val Loss: 0.0745, Val Acc: 97.8700, Val Recall: 0.9099, Val Precision: 0.8722, Val F1: 0.8886\n"
     ]
    },
    {
     "name": "stderr",
     "output_type": "stream",
     "text": [
      "Training: 100%|██████████| 28/28 [00:08<00:00,  3.34it/s]\n",
      "Validating: 100%|██████████| 7/7 [00:01<00:00,  6.25it/s]\n"
     ]
    },
    {
     "name": "stdout",
     "output_type": "stream",
     "text": [
      "Epoch 5/5, Train Loss: 0.0311, Train Acc: 99.1304, Train Recall: 0.9783, Train Precision: 0.9546, Train F1: 0.9659, Val Loss: 0.0684, Val Acc: 98.0942, Val Recall: 0.9520, Val Precision: 0.8540, Val F1: 0.8987\n",
      "\n",
      "\n"
     ]
    },
    {
     "name": "stderr",
     "output_type": "stream",
     "text": [
      "Evaluating: 100%|██████████| 9/9 [00:01<00:00,  6.65it/s]"
     ]
    },
    {
     "name": "stdout",
     "output_type": "stream",
     "text": [
      "Test Loss: 0.0911, Test Acc: 97.3991, Test Recall: 0.9636, Test Precision: 0.8421, Test F1: 0.8973\n"
     ]
    },
    {
     "name": "stderr",
     "output_type": "stream",
     "text": [
      "\n"
     ]
    }
   ],
   "source": [
    "from sklearn.metrics import precision_recall_fscore_support\n",
    "import warnings\n",
    "warnings.filterwarnings(\"ignore\")\n",
    "\n",
    "def train(model, train_loader, optimizer, criterion):\n",
    "    model.train()\n",
    "    total_loss = 0.0\n",
    "    correct = 0\n",
    "    total_recall = 0.0\n",
    "    total_precision = 0.0\n",
    "    total_f1 = 0.0\n",
    "    for inputs, labels in tqdm(train_loader, desc='Training'):\n",
    "        inputs.to(DEVICE)\n",
    "        labels.to(DEVICE)\n",
    "\n",
    "        optimizer.zero_grad()\n",
    "        outputs = model(inputs)\n",
    "        loss = criterion(outputs.squeeze(), labels)\n",
    "        loss.backward()\n",
    "        optimizer.step()\n",
    "        \n",
    "        total_loss += loss.item()\n",
    "        predicted = torch.round(outputs)\n",
    "        correct += (predicted.squeeze(1) == labels).sum().item()\n",
    "\n",
    "        # recall, precision, f1-score 계산\n",
    "        recall, precision, f1, _ = precision_recall_fscore_support(\n",
    "            labels.detach().numpy(), \n",
    "            predicted.squeeze(1).detach().numpy(), \n",
    "            average='binary'\n",
    "            )\n",
    "        total_recall += recall\n",
    "        total_precision += precision\n",
    "        total_f1 += f1\n",
    "\n",
    "    epoch_loss = total_loss / len(train_loader)\n",
    "    epoch_acc = correct / len(train_loader.dataset) * 100\n",
    "    epoch_recall = total_recall / len(train_loader)\n",
    "    epoch_precision = total_precision / len(train_loader)\n",
    "    epoch_f1 = total_f1 / len(train_loader)\n",
    "    return epoch_loss, epoch_acc, epoch_recall, epoch_precision, epoch_f1\n",
    "\n",
    "def validate(model, val_loader, criterion):\n",
    "    model.eval()\n",
    "    total_loss = 0.0\n",
    "    correct = 0\n",
    "    total_recall = 0.0\n",
    "    total_precision = 0.0\n",
    "    total_f1 = 0.0\n",
    "    with torch.no_grad():\n",
    "        for inputs, labels in tqdm(val_loader, desc='Validating'):\n",
    "            inputs.to(DEVICE)\n",
    "            labels.to(DEVICE)\n",
    "\n",
    "            outputs = model(inputs)\n",
    "            loss = criterion(outputs.squeeze(), labels)\n",
    "            total_loss += loss.item()\n",
    "            predicted = torch.round(outputs)\n",
    "            correct += (predicted.squeeze(1) == labels).sum().item()\n",
    "            \n",
    "            # recall, precision, f1-score 계산\n",
    "            recall, precision, f1, _ = precision_recall_fscore_support(\n",
    "                labels.detach().numpy(), \n",
    "                predicted.squeeze(1).detach().numpy(), \n",
    "                average='binary'\n",
    "                )\n",
    "            total_recall += recall\n",
    "            total_precision += precision\n",
    "            total_f1 += f1\n",
    "        \n",
    "    epoch_loss = total_loss / len(val_loader)\n",
    "    epoch_acc = correct / len(val_loader.dataset) * 100\n",
    "    epoch_recall = total_recall / len(val_loader)\n",
    "    epoch_precision = total_precision / len(val_loader)\n",
    "    epoch_f1 = total_f1 / len(val_loader)\n",
    "    return epoch_loss, epoch_acc, epoch_recall, epoch_precision, epoch_f1\n",
    "\n",
    "def evaluate(model, test_loader, criterion):\n",
    "    model.train()\n",
    "    total_loss = 0.0\n",
    "    correct = 0\n",
    "    total_recall = 0.0\n",
    "    total_precision = 0.0\n",
    "    total_f1 = 0.0\n",
    "    with torch.no_grad():\n",
    "        for inputs, labels in tqdm(test_loader, desc='Evaluating'):\n",
    "            inputs.to(DEVICE)\n",
    "            labels.to(DEVICE)\n",
    "\n",
    "            outputs = model(inputs)\n",
    "            loss = criterion(outputs.squeeze(), labels)\n",
    "            total_loss += loss.item()\n",
    "            predicted = torch.round(outputs)\n",
    "            correct += (predicted.squeeze(1) == labels).sum().item()\n",
    "            \n",
    "            # recall, precision, f1-score 계산\n",
    "            recall, precision, f1, _ = precision_recall_fscore_support(\n",
    "                labels.detach().numpy(), \n",
    "                predicted.squeeze(1).detach().numpy(), \n",
    "                average='binary'\n",
    "                )\n",
    "            total_recall += recall\n",
    "            total_precision += precision\n",
    "            total_f1 += f1\n",
    "        \n",
    "    epoch_loss = total_loss / len(test_loader)\n",
    "    epoch_acc = correct / len(test_loader.dataset) * 100\n",
    "    epoch_recall = total_recall / len(test_loader)\n",
    "    epoch_precision = total_precision / len(test_loader)\n",
    "    epoch_f1 = total_f1 / len(test_loader)\n",
    "    return epoch_loss, epoch_acc, epoch_recall, epoch_precision, epoch_f1\n",
    "\n",
    "\n",
    "train_loss_history = []\n",
    "val_loss_history = []\n",
    "train_acc_history = []\n",
    "val_acc_history = []\n",
    "train_recall_history = []\n",
    "val_recall_history = []\n",
    "train_precision_history = []\n",
    "val_precision_history = []\n",
    "train_f1_history = []\n",
    "val_f1_history = []\n",
    "\n",
    "# 학습 및 평가\n",
    "for epoch in range(1, EPOCH+1):\n",
    "    train_loss, train_acc, train_recall, train_precision, train_f1 = train(model, train_loader, optimizer, criterion)\n",
    "    val_loss, val_acc, val_recall, val_precision, val_f1 = validate(model, val_loader, criterion)\n",
    "    print(f'Epoch {epoch}/{EPOCH}, Train Loss: {train_loss:.4f}, Train Acc: {train_acc:.4f}, Train Recall: {train_recall:.4f}, Train Precision: {train_precision:.4f}, Train F1: {train_f1:.4f}, Val Loss: {val_loss:.4f}, Val Acc: {val_acc:.4f}, Val Recall: {val_recall:.4f}, Val Precision: {val_precision:.4f}, Val F1: {val_f1:.4f}')\n",
    "\n",
    "    train_loss_history.append(train_loss)\n",
    "    val_loss_history.append(val_loss)\n",
    "    train_acc_history.append(train_acc)\n",
    "    val_acc_history.append(val_acc)\n",
    "\n",
    "print('\\n')\n",
    "test_loss, test_acc, test_recall, test_precision, test_f1 = evaluate(model, test_loader, criterion)\n",
    "print(f'Test Loss: {test_loss:.4f}, Test Acc: {test_acc:.4f}, Test Recall: {test_recall:.4f}, Test Precision: {test_precision:.4f}, Test F1: {test_f1:.4f}')\n"
   ]
  },
  {
   "cell_type": "code",
   "execution_count": 263,
   "metadata": {},
   "outputs": [
    {
     "data": {
      "image/png": "[encoded data removed]",
      "text/plain": [
       "<Figure size 864x288 with 2 Axes>"
      ]
     },
     "metadata": {
      "needs_background": "light"
     },
     "output_type": "display_data"
    }
   ],
   "source": [
    "def plot_metrics(train_loss, val_loss, train_acc, val_acc):\n",
    "    epochs = range(1, len(train_loss) + 1)\n",
    "\n",
    "    plt.figure(figsize=(12, 4))\n",
    "    plt.subplot(1, 2, 1)\n",
    "    plt.plot(epochs, train_loss, label='Train')\n",
    "    plt.plot(epochs, val_loss, label='Validation')\n",
    "    plt.title('Training and Validation Loss')\n",
    "    plt.xlabel('Epochs')\n",
    "    plt.ylabel('Loss')\n",
    "    plt.legend()\n",
    "\n",
    "    plt.subplot(1, 2, 2)\n",
    "    plt.plot(epochs, train_acc, label='Train')\n",
    "    plt.plot(epochs, val_acc, label='Validation')\n",
    "    plt.title('Training and Validation Accuracy')\n",
    "    plt.xlabel('Epochs')\n",
    "    plt.ylabel('Accuracy')\n",
    "    plt.legend()\n",
    "\n",
    "    plt.show()\n",
    "\n",
    "\n",
    "plot_metrics(train_loss_history, val_loss_history, train_acc_history, val_acc_history)"
   ]
  },
  {
   "cell_type": "code",
   "execution_count": 264,
   "metadata": {},
   "outputs": [
    {
     "name": "stderr",
     "output_type": "stream",
     "text": [
      "Evaluating: 100%|██████████| 9/9 [00:01<00:00,  6.47it/s]\n"
     ]
    },
    {
     "data": {
      "image/png": "[encoded data removed]",
      "text/plain": [
       "<Figure size 720x576 with 2 Axes>"
      ]
     },
     "metadata": {
      "needs_background": "light"
     },
     "output_type": "display_data"
    }
   ],
   "source": [
    "from sklearn.metrics import confusion_matrix\n",
    "\n",
    "def evaluate_confusion_matrix(model, test_loader):\n",
    "    model.eval()\n",
    "    true_labels = []\n",
    "    predicted_labels = []\n",
    "    with torch.no_grad():\n",
    "        for inputs, labels in tqdm(test_loader, desc='Evaluating'):\n",
    "            inputs.to(DEVICE)\n",
    "            labels.to(DEVICE)\n",
    "\n",
    "            outputs = model(inputs)\n",
    "            predicted = torch.round(outputs).squeeze(1)\n",
    "            true_labels.extend(labels.cpu().numpy())\n",
    "            predicted_labels.extend(predicted.cpu().numpy())\n",
    "        \n",
    "    cm = confusion_matrix(true_labels, predicted_labels)\n",
    "    return cm\n",
    "\n",
    "# 테스트 데이터에 대한 confusion matrix 생성\n",
    "conf_matrix = evaluate_confusion_matrix(model, test_loader)\n",
    "\n",
    "plt.figure(figsize=(10, 8))\n",
    "sns.heatmap(conf_matrix, annot=True, fmt='d', cmap='Blues')\n",
    "plt.xlabel('Predicted labels')\n",
    "plt.ylabel('True labels')\n",
    "plt.title('Confusion Matrix')\n",
    "plt.show()"
   ]
  },
  {
   "cell_type": "markdown",
   "metadata": {},
   "source": [
    "accuracy 값에 비해 precision 값이 상당히 낮게 나타나는 것을 알 수 있음. 이는 양성 클래스의 수가 지나치게 적기 때문에 발생한 문제로, class weight 등을 설정하여 손실함수에 전달하는 등의 방법을 활용하면 성능을 조금 더 좋게 개선할 수 있을 것으로 보임"
   ]
  }
 ],
 "metadata": {
  "kernelspec": {
   "display_name": "base",
   "language": "python",
   "name": "python3"
  },
  "language_info": {
   "codemirror_mode": {
    "name": "ipython",
    "version": 3
   },
   "file_extension": ".py",
   "mimetype": "text/x-python",
   "name": "python",
   "nbconvert_exporter": "python",
   "pygments_lexer": "ipython3",
   "version": "3.9.7"
  }
 },
 "nbformat": 4,
 "nbformat_minor": 2
}
