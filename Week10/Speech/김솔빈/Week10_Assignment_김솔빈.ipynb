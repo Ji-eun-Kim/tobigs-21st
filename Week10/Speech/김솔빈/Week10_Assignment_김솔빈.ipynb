{
  "nbformat": 4,
  "nbformat_minor": 0,
  "metadata": {
    "colab": {
      "provenance": [],
      "machine_shape": "hm",
      "gpuType": "T4"
    },
    "kernelspec": {
      "name": "python3",
      "display_name": "Python 3"
    },
    "language_info": {
      "name": "python"
    },
    "accelerator": "GPU"
  },
  "cells": [
    {
      "cell_type": "markdown",
      "source": [
        "# Tobig's 정규세션 10주차 음성 과제 1"
      ],
      "metadata": {
        "id": "nDSTchLGlKbK"
      }
    },
    {
      "cell_type": "markdown",
      "source": [
        "- 다음 5개의 질문에 **단답형**으로 답해주세요."
      ],
      "metadata": {
        "id": "y9kYTwinlcw2"
      }
    },
    {
      "cell_type": "markdown",
      "source": [
        "## Q1. 시간에 따른 소리의 진폭을 나타낸 그래프를 영어로 무엇이라고 하나요?"
      ],
      "metadata": {
        "id": "-Z4WnJw7lhnf"
      }
    },
    {
      "cell_type": "markdown",
      "source": [
        "A1. Waveform"
      ],
      "metadata": {
        "id": "14GNeFpPl5Y4"
      }
    },
    {
      "cell_type": "markdown",
      "source": [
        "## Q2. 샘플링 주파수는 원래 신호의 최고 주파수의 2배 이상이 되어야 원래 신호로 복구할 수 있다는 정리의 이름을 영어로 무엇이라고 하나요?"
      ],
      "metadata": {
        "id": "m4zQxujcl-SY"
      }
    },
    {
      "cell_type": "markdown",
      "source": [
        "A2. Nyquist-Shannon Sampling Theorem"
      ],
      "metadata": {
        "id": "WTKEol3_l-U9"
      }
    },
    {
      "cell_type": "markdown",
      "source": [
        "## Q3. 소리를 시각화한 것으로, 단시간 푸리에 변환을 통해 시간, 주파수, 진폭 정보를 모두 담고 있는 것을 영어로 무엇이라고 하나요?"
      ],
      "metadata": {
        "id": "C7oHJrZdmQlx"
      }
    },
    {
      "cell_type": "markdown",
      "source": [
        "A3. Spectrogram"
      ],
      "metadata": {
        "id": "t3r_CJxTmQnW"
      }
    },
    {
      "cell_type": "markdown",
      "source": [
        "## Q4. 인간의 청각 시스템에 맞게 Mel-scale을 적용하여 주파수를 조절한 스펙트로그램을 영어로 무엇이라고 하나요?"
      ],
      "metadata": {
        "id": "2Rth8m6cl-XP"
      }
    },
    {
      "cell_type": "markdown",
      "source": [
        "A4. Mel-spectrogram"
      ],
      "metadata": {
        "id": "4e_82O4VmxV9"
      }
    },
    {
      "cell_type": "markdown",
      "source": [
        "## Q5. Speech 정규세션 강의자가 수업 시작할 때 5명을 랜덤으로 지목하여 질문하겠다고 했으나, 실제로는 그보다 적은 n명에게 질문하였습니다. n의 값은 무엇입니까?"
      ],
      "metadata": {
        "id": "1HcK1vyamxYZ"
      }
    },
    {
      "cell_type": "markdown",
      "source": [
        "A5. 0"
      ],
      "metadata": {
        "id": "4XGpjY4wl-ZS"
      }
    },
    {
      "cell_type": "markdown",
      "source": [
        "# Tobig's 정규세션 10주차 음성 과제 2"
      ],
      "metadata": {
        "id": "8M8RTTiVnnVC"
      }
    },
    {
      "cell_type": "markdown",
      "source": [
        "1. train 폴더 내의 2,000개 음원을 이용하여 음성 분류 모델을 만들어보세요.\n",
        "2. 음성 분류 모델을 이용하여 test 폴더 내의 300개 음원을 분류하세요."
      ],
      "metadata": {
        "id": "FQArErJ0nr9O"
      }
    },
    {
      "cell_type": "code",
      "source": [
        "from google.colab import drive\n",
        "drive.mount('/content/drive', force_remount=True)\n"
      ],
      "metadata": {
        "colab": {
          "base_uri": "https://localhost:8080/"
        },
        "id": "UF7tqPu1lnjA",
        "outputId": "a5eaf9e8-946b-49b1-962a-af3802e111db"
      },
      "execution_count": 54,
      "outputs": [
        {
          "output_type": "stream",
          "name": "stdout",
          "text": [
            "Mounted at /content/drive\n"
          ]
        }
      ]
    },
    {
      "cell_type": "code",
      "source": [
        "import os\n",
        "import numpy as np\n",
        "import librosa\n",
        "from sklearn.model_selection import train_test_split\n",
        "from keras.models import Sequential\n",
        "from keras.layers import Conv2D, MaxPooling2D, Flatten, Dense, Dropout\n",
        "from keras.regularizers import l2"
      ],
      "metadata": {
        "id": "XBN1Bu02922w"
      },
      "execution_count": 55,
      "outputs": []
    },
    {
      "cell_type": "code",
      "source": [
        "data_path = '/content/drive/MyDrive/Dataset/train'\n",
        "files = os.listdir(data_path)\n",
        "max_len = 500\n",
        "\n",
        "X = []\n",
        "y = []\n",
        "\n",
        "for label in range(10):\n",
        "    class_files = [file for file in files if int(file[-5]) == label]\n",
        "    class_files = class_files[:200]\n",
        "    for file in class_files:\n",
        "        file_path = os.path.join(data_path, file)\n",
        "        audio, sr = librosa.load(file_path, sr=None)\n",
        "        mfccs = librosa.feature.mfcc(y=audio, sr=sr, n_mfcc=13)  # MFCC 추출\n",
        "\n",
        "        pad_width = max_len - mfccs.shape[1]\n",
        "        mfccs_padded = np.pad(mfccs, pad_width=((0, 0), (0, pad_width)), mode='constant')\n",
        "\n",
        "        X.append(mfccs_padded)\n",
        "        y.append(label)\n",
        "\n",
        "X = np.array(X)\n",
        "y = np.array(y)\n"
      ],
      "metadata": {
        "id": "BTkYYmrW3veu"
      },
      "execution_count": 56,
      "outputs": []
    },
    {
      "cell_type": "code",
      "source": [
        "X = np.expand_dims(X, axis=-1)\n",
        "y = np.expand_dims(y, axis=-1)\n",
        "\n",
        "X_train, X_val, y_train, y_val = train_test_split(X, y, test_size=0.2, random_state=42)\n",
        "\n",
        "model = Sequential([\n",
        "    Conv2D(32, kernel_size=(3, 3), activation='relu', input_shape=(X_train.shape[1:])),\n",
        "    MaxPooling2D(pool_size=(2, 2)),\n",
        "    Conv2D(64, kernel_size=(3, 3), activation='relu'),\n",
        "    MaxPooling2D(pool_size=(2, 2)),\n",
        "    Flatten(),\n",
        "    Dense(128, activation='relu'),\n",
        "    Dropout(0.5),\n",
        "    Dense(10, activation='softmax')\n",
        "])\n"
      ],
      "metadata": {
        "id": "dCS4E4Lfnb3p"
      },
      "execution_count": 57,
      "outputs": []
    },
    {
      "cell_type": "code",
      "source": [
        "model.compile(loss='sparse_categorical_crossentropy', optimizer='adam', metrics=['accuracy'])\n",
        "\n",
        "model.fit(X_train, y_train, validation_data=(X_val, y_val), epochs=40, batch_size=32)\n",
        "\n",
        "loss, accuracy = model.evaluate(X_val, y_val)\n",
        "print(\"Validation Accuracy:\", accuracy)\n"
      ],
      "metadata": {
        "colab": {
          "base_uri": "https://localhost:8080/"
        },
        "id": "pXN1FRuB8i6u",
        "outputId": "1720e55c-73ed-47b7-9829-253ed476368f"
      },
      "execution_count": 62,
      "outputs": [
        {
          "output_type": "stream",
          "name": "stdout",
          "text": [
            "Epoch 1/40\n",
            "50/50 [==============================] - 2s 10ms/step - loss: 0.0562 - accuracy: 0.9869 - val_loss: 4.2070 - val_accuracy: 0.7275\n",
            "Epoch 2/40\n",
            "50/50 [==============================] - 0s 6ms/step - loss: 0.0468 - accuracy: 0.9887 - val_loss: 4.2708 - val_accuracy: 0.7050\n",
            "Epoch 3/40\n",
            "50/50 [==============================] - 0s 6ms/step - loss: 0.0456 - accuracy: 0.9912 - val_loss: 4.5094 - val_accuracy: 0.7300\n",
            "Epoch 4/40\n",
            "50/50 [==============================] - 0s 6ms/step - loss: 0.0303 - accuracy: 0.9869 - val_loss: 4.6186 - val_accuracy: 0.7400\n",
            "Epoch 5/40\n",
            "50/50 [==============================] - 0s 6ms/step - loss: 0.0266 - accuracy: 0.9937 - val_loss: 4.4563 - val_accuracy: 0.7425\n",
            "Epoch 6/40\n",
            "50/50 [==============================] - 0s 6ms/step - loss: 0.0216 - accuracy: 0.9925 - val_loss: 4.4558 - val_accuracy: 0.7475\n",
            "Epoch 7/40\n",
            "50/50 [==============================] - 0s 6ms/step - loss: 0.0444 - accuracy: 0.9900 - val_loss: 4.3837 - val_accuracy: 0.7375\n",
            "Epoch 8/40\n",
            "50/50 [==============================] - 0s 6ms/step - loss: 0.0506 - accuracy: 0.9931 - val_loss: 4.8817 - val_accuracy: 0.7225\n",
            "Epoch 9/40\n",
            "50/50 [==============================] - 0s 6ms/step - loss: 0.0343 - accuracy: 0.9894 - val_loss: 4.0045 - val_accuracy: 0.7250\n",
            "Epoch 10/40\n",
            "50/50 [==============================] - 0s 6ms/step - loss: 0.0927 - accuracy: 0.9837 - val_loss: 4.7107 - val_accuracy: 0.7250\n",
            "Epoch 11/40\n",
            "50/50 [==============================] - 0s 6ms/step - loss: 0.0821 - accuracy: 0.9812 - val_loss: 4.0189 - val_accuracy: 0.7375\n",
            "Epoch 12/40\n",
            "50/50 [==============================] - 0s 6ms/step - loss: 0.0605 - accuracy: 0.9875 - val_loss: 4.0206 - val_accuracy: 0.7200\n",
            "Epoch 13/40\n",
            "50/50 [==============================] - 0s 6ms/step - loss: 0.0602 - accuracy: 0.9912 - val_loss: 4.4007 - val_accuracy: 0.7250\n",
            "Epoch 14/40\n",
            "50/50 [==============================] - 0s 6ms/step - loss: 0.0309 - accuracy: 0.9919 - val_loss: 3.8949 - val_accuracy: 0.7400\n",
            "Epoch 15/40\n",
            "50/50 [==============================] - 0s 6ms/step - loss: 0.0488 - accuracy: 0.9875 - val_loss: 3.8240 - val_accuracy: 0.7500\n",
            "Epoch 16/40\n",
            "50/50 [==============================] - 0s 6ms/step - loss: 0.0428 - accuracy: 0.9875 - val_loss: 3.6048 - val_accuracy: 0.7525\n",
            "Epoch 17/40\n",
            "50/50 [==============================] - 0s 6ms/step - loss: 0.0174 - accuracy: 0.9931 - val_loss: 3.8779 - val_accuracy: 0.7425\n",
            "Epoch 18/40\n",
            "50/50 [==============================] - 0s 6ms/step - loss: 0.0173 - accuracy: 0.9937 - val_loss: 3.8996 - val_accuracy: 0.7400\n",
            "Epoch 19/40\n",
            "50/50 [==============================] - 0s 6ms/step - loss: 0.0262 - accuracy: 0.9937 - val_loss: 3.9412 - val_accuracy: 0.7425\n",
            "Epoch 20/40\n",
            "50/50 [==============================] - 0s 6ms/step - loss: 0.0515 - accuracy: 0.9887 - val_loss: 3.8623 - val_accuracy: 0.7200\n",
            "Epoch 21/40\n",
            "50/50 [==============================] - 0s 6ms/step - loss: 0.0252 - accuracy: 0.9919 - val_loss: 4.3445 - val_accuracy: 0.7500\n",
            "Epoch 22/40\n",
            "50/50 [==============================] - 0s 6ms/step - loss: 0.0379 - accuracy: 0.9875 - val_loss: 4.0435 - val_accuracy: 0.7525\n",
            "Epoch 23/40\n",
            "50/50 [==============================] - 0s 6ms/step - loss: 0.0396 - accuracy: 0.9856 - val_loss: 4.3018 - val_accuracy: 0.7425\n",
            "Epoch 24/40\n",
            "50/50 [==============================] - 0s 6ms/step - loss: 0.0336 - accuracy: 0.9894 - val_loss: 4.5087 - val_accuracy: 0.7075\n",
            "Epoch 25/40\n",
            "50/50 [==============================] - 0s 6ms/step - loss: 0.0571 - accuracy: 0.9831 - val_loss: 4.4829 - val_accuracy: 0.7225\n",
            "Epoch 26/40\n",
            "50/50 [==============================] - 0s 6ms/step - loss: 0.0408 - accuracy: 0.9875 - val_loss: 4.2870 - val_accuracy: 0.7125\n",
            "Epoch 27/40\n",
            "50/50 [==============================] - 0s 6ms/step - loss: 0.0293 - accuracy: 0.9919 - val_loss: 4.3866 - val_accuracy: 0.7600\n",
            "Epoch 28/40\n",
            "50/50 [==============================] - 0s 6ms/step - loss: 0.0406 - accuracy: 0.9900 - val_loss: 3.8080 - val_accuracy: 0.7625\n",
            "Epoch 29/40\n",
            "50/50 [==============================] - 0s 6ms/step - loss: 0.0385 - accuracy: 0.9912 - val_loss: 4.7487 - val_accuracy: 0.7450\n",
            "Epoch 30/40\n",
            "50/50 [==============================] - 0s 6ms/step - loss: 0.0803 - accuracy: 0.9850 - val_loss: 4.6368 - val_accuracy: 0.7225\n",
            "Epoch 31/40\n",
            "50/50 [==============================] - 0s 6ms/step - loss: 0.0598 - accuracy: 0.9856 - val_loss: 4.0593 - val_accuracy: 0.7350\n",
            "Epoch 32/40\n",
            "50/50 [==============================] - 0s 6ms/step - loss: 0.0492 - accuracy: 0.9850 - val_loss: 4.5942 - val_accuracy: 0.7275\n",
            "Epoch 33/40\n",
            "50/50 [==============================] - 0s 6ms/step - loss: 0.0631 - accuracy: 0.9875 - val_loss: 4.5018 - val_accuracy: 0.7200\n",
            "Epoch 34/40\n",
            "50/50 [==============================] - 0s 6ms/step - loss: 0.1216 - accuracy: 0.9762 - val_loss: 4.5475 - val_accuracy: 0.7300\n",
            "Epoch 35/40\n",
            "50/50 [==============================] - 0s 6ms/step - loss: 0.0817 - accuracy: 0.9825 - val_loss: 4.6240 - val_accuracy: 0.7125\n",
            "Epoch 36/40\n",
            "50/50 [==============================] - 0s 6ms/step - loss: 0.0451 - accuracy: 0.9881 - val_loss: 4.8723 - val_accuracy: 0.7275\n",
            "Epoch 37/40\n",
            "50/50 [==============================] - 0s 6ms/step - loss: 0.0366 - accuracy: 0.9912 - val_loss: 4.4568 - val_accuracy: 0.7300\n",
            "Epoch 38/40\n",
            "50/50 [==============================] - 0s 6ms/step - loss: 0.0316 - accuracy: 0.9919 - val_loss: 4.4580 - val_accuracy: 0.7425\n",
            "Epoch 39/40\n",
            "50/50 [==============================] - 0s 6ms/step - loss: 0.0386 - accuracy: 0.9962 - val_loss: 4.8236 - val_accuracy: 0.7350\n",
            "Epoch 40/40\n",
            "50/50 [==============================] - 0s 6ms/step - loss: 0.0401 - accuracy: 0.9906 - val_loss: 4.4771 - val_accuracy: 0.7400\n",
            "13/13 [==============================] - 0s 3ms/step - loss: 4.4771 - accuracy: 0.7400\n",
            "Validation Accuracy: 0.7400000095367432\n"
          ]
        }
      ]
    },
    {
      "cell_type": "code",
      "source": [
        "test_data_path = '/content/drive/MyDrive/Dataset/test'\n",
        "\n",
        "def load_test_data(data_path, max_len=500):\n",
        "    files = os.listdir(data_path)\n",
        "    X_test = []\n",
        "\n",
        "    for file in files:\n",
        "        file_path = os.path.join(data_path, file)\n",
        "        audio, sr = librosa.load(file_path, sr=None)\n",
        "        mfccs = librosa.feature.mfcc(y=audio, sr=sr, n_mfcc=13)  # MFCC 추출\n",
        "        pad_width = max_len - mfccs.shape[1]\n",
        "        mfccs_padded = np.pad(mfccs, pad_width=((0, 0), (0, pad_width)), mode='constant')\n",
        "        X_test.append(mfccs_padded)\n",
        "\n",
        "    X_test = np.array(X_test)\n",
        "    X_test = np.expand_dims(X_test, axis=-1)\n",
        "    return X_test\n",
        "\n",
        "X_test = load_test_data(test_data_path)\n",
        "\n",
        "predictions = model.predict(X_test)\n",
        "predicted_labels = np.argmax(predictions, axis=1)\n",
        "\n",
        "print(\"Test result:\")\n",
        "print(' '.join(map(str, predicted_labels)))\n"
      ],
      "metadata": {
        "colab": {
          "base_uri": "https://localhost:8080/"
        },
        "id": "wnXSslb6w3NQ",
        "outputId": "7cdd7c66-9510-4382-f2c6-13104c814ba1"
      },
      "execution_count": 63,
      "outputs": [
        {
          "output_type": "stream",
          "name": "stdout",
          "text": [
            "10/10 [==============================] - 0s 2ms/step\n",
            "Test result:\n",
            "7 7 7 6 8 1 8 5 8 4 5 9 0 4 5 3 3 6 3 6 0 5 7 1 4 7 1 3 5 0 6 6 5 4 9 7 7 1 7 1 4 7 0 5 3 6 5 9 5 5 5 1 7 4 5 6 6 5 6 7 6 2 8 1 1 4 0 7 3 3 3 0 3 5 3 5 4 7 5 9 4 5 7 1 4 8 2 1 7 8 1 9 5 6 3 6 3 1 9 4 2 7 4 6 6 3 6 7 3 3 1 6 5 3 3 5 8 7 6 6 3 3 7 3 6 5 5 3 6 0 3 5 0 3 3 0 8 5 3 3 0 3 3 4 2 9 5 2 6 0 5 5 5 3 3 6 1 3 1 7 3 3 3 5 8 5 9 6 5 4 0 4 9 3 7 6 4 3 9 3 6 5 5 3 6 5 6 5 6 1 9 7 7 5 1 0 1 9 0 1 6 5 6 3 8 3 4 2 8 1 9 3 0 5 0 3 1 5 4 0 6 6 6 3 3 6 3 3 3 3 4 1 6 7 5 0 3 3 4 4 7 6 1 4 6 0 6 6 8 0 8 7 2 1 3 5 3 3 6 0 4 4 3 4 4 3 4 0 8 4 3 3 3 3 3 3 3 3 3 3 3 3 3 3 3 3 3 3 3 3 3 3 3 3 3 0 3 3 3 3\n"
          ]
        }
      ]
    },
    {
      "cell_type": "code",
      "source": [],
      "metadata": {
        "id": "cM3PomXYEfi7"
      },
      "execution_count": null,
      "outputs": []
    }
  ]
}