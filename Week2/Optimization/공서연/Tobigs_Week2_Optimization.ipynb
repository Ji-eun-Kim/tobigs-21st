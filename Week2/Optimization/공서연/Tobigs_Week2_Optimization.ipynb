{
  "cells": [
    {
      "cell_type": "markdown",
      "metadata": {
        "id": "view-in-github",
        "colab_type": "text"
      },
      "source": [
        "<a href=\"https://colab.research.google.com/github/0seoyeon/tobigs-21st/blob/%EA%B3%B5%EC%84%9C%EC%97%B0/Week2/Optimization/%EA%B3%B5%EC%84%9C%EC%97%B0/Tobigs_Week2_Optimization.ipynb\" target=\"_parent\"><img src=\"https://colab.research.google.com/assets/colab-badge.svg\" alt=\"Open In Colab\"/></a>"
      ]
    },
    {
      "cell_type": "markdown",
      "metadata": {
        "id": "d2StPehwLMat"
      },
      "source": [
        "# Tobig's 21기 2주차 Optimization 과제"
      ]
    },
    {
      "cell_type": "markdown",
      "metadata": {
        "id": "DKIX8PqcLMaw"
      },
      "source": [
        "# Gradient Descent 구현하기\n",
        "\n",
        "### 1)\"...\"표시되어 있는 빈 칸을 채워주세요\n",
        "### 2)강의내용과 코드에 대해 공부한 내용을 마크다운 또는 주석으로 설명해주세요"
      ]
    },
    {
      "cell_type": "markdown",
      "metadata": {
        "id": "C6DNHHXfLMax"
      },
      "source": [
        "## 데이터"
      ]
    },
    {
      "cell_type": "code",
      "execution_count": null,
      "metadata": {
        "id": "EP3O4xptLMay"
      },
      "outputs": [],
      "source": [
        "import pandas as pd\n",
        "import numpy as np\n",
        "import random"
      ]
    },
    {
      "cell_type": "code",
      "source": [
        "from google.colab import drive\n",
        "drive.mount('/content/drive')\n",
        "\n",
        "import os\n",
        "\n",
        "# 현재 작업 디렉토리 확인\n",
        "current_directory = os.getcwd()\n",
        "print(\"Current directory:\", current_directory) # /content\n",
        "\n",
        "# 작업 디렉토리 내의 파일 목록 확인\n",
        "# os.listdir(current_directory)\n",
        "\n",
        "# 작업 디렉토리 변경\n",
        "new_directory = os.chdir('/content/drive/MyDrive/Tobigs/regular_session')\n",
        "current_directory = os.getcwd()\n",
        "print('Current directory:', current_directory)"
      ],
      "metadata": {
        "colab": {
          "base_uri": "https://localhost:8080/"
        },
        "id": "I4J-B5RoErY8",
        "outputId": "4717ea24-bb1a-4ec8-80f9-96966c7afcb7"
      },
      "execution_count": null,
      "outputs": [
        {
          "output_type": "stream",
          "name": "stdout",
          "text": [
            "Drive already mounted at /content/drive; to attempt to forcibly remount, call drive.mount(\"/content/drive\", force_remount=True).\n",
            "Current directory: /content/drive/My Drive/Tobigs/regular_session\n",
            "Current directory: /content/drive/MyDrive/Tobigs/regular_session\n"
          ]
        }
      ]
    },
    {
      "cell_type": "code",
      "source": [
        "# row 생략 없이 출력\n",
        "pd.set_option('display.max_rows', None)\n",
        "# col 생략 없이 출력\n",
        "pd.set_option('display.max_columns', None)"
      ],
      "metadata": {
        "id": "6TdR8yusUI-w"
      },
      "execution_count": null,
      "outputs": []
    },
    {
      "cell_type": "code",
      "execution_count": null,
      "metadata": {
        "id": "oByQ9wXHLMay",
        "colab": {
          "base_uri": "https://localhost:8080/",
          "height": 206
        },
        "outputId": "f2a32e83-e073-4960-c4a6-d5c8b4ddd50f"
      },
      "outputs": [
        {
          "output_type": "execute_result",
          "data": {
            "text/plain": [
              "   Label  bias  experience  salary\n",
              "0      1     1         0.7   48000\n",
              "1      0     1         1.9   48000\n",
              "2      1     1         2.5   60000\n",
              "3      0     1         4.2   63000\n",
              "4      0     1         6.0   76000"
            ],
            "text/html": [
              "\n",
              "  <div id=\"df-e455eaf2-b1b2-43a0-a02d-b65e0d6b3b73\" class=\"colab-df-container\">\n",
              "    <div>\n",
              "<style scoped>\n",
              "    .dataframe tbody tr th:only-of-type {\n",
              "        vertical-align: middle;\n",
              "    }\n",
              "\n",
              "    .dataframe tbody tr th {\n",
              "        vertical-align: top;\n",
              "    }\n",
              "\n",
              "    .dataframe thead th {\n",
              "        text-align: right;\n",
              "    }\n",
              "</style>\n",
              "<table border=\"1\" class=\"dataframe\">\n",
              "  <thead>\n",
              "    <tr style=\"text-align: right;\">\n",
              "      <th></th>\n",
              "      <th>Label</th>\n",
              "      <th>bias</th>\n",
              "      <th>experience</th>\n",
              "      <th>salary</th>\n",
              "    </tr>\n",
              "  </thead>\n",
              "  <tbody>\n",
              "    <tr>\n",
              "      <th>0</th>\n",
              "      <td>1</td>\n",
              "      <td>1</td>\n",
              "      <td>0.7</td>\n",
              "      <td>48000</td>\n",
              "    </tr>\n",
              "    <tr>\n",
              "      <th>1</th>\n",
              "      <td>0</td>\n",
              "      <td>1</td>\n",
              "      <td>1.9</td>\n",
              "      <td>48000</td>\n",
              "    </tr>\n",
              "    <tr>\n",
              "      <th>2</th>\n",
              "      <td>1</td>\n",
              "      <td>1</td>\n",
              "      <td>2.5</td>\n",
              "      <td>60000</td>\n",
              "    </tr>\n",
              "    <tr>\n",
              "      <th>3</th>\n",
              "      <td>0</td>\n",
              "      <td>1</td>\n",
              "      <td>4.2</td>\n",
              "      <td>63000</td>\n",
              "    </tr>\n",
              "    <tr>\n",
              "      <th>4</th>\n",
              "      <td>0</td>\n",
              "      <td>1</td>\n",
              "      <td>6.0</td>\n",
              "      <td>76000</td>\n",
              "    </tr>\n",
              "  </tbody>\n",
              "</table>\n",
              "</div>\n",
              "    <div class=\"colab-df-buttons\">\n",
              "\n",
              "  <div class=\"colab-df-container\">\n",
              "    <button class=\"colab-df-convert\" onclick=\"convertToInteractive('df-e455eaf2-b1b2-43a0-a02d-b65e0d6b3b73')\"\n",
              "            title=\"Convert this dataframe to an interactive table.\"\n",
              "            style=\"display:none;\">\n",
              "\n",
              "  <svg xmlns=\"http://www.w3.org/2000/svg\" height=\"24px\" viewBox=\"0 -960 960 960\">\n",
              "    <path d=\"M120-120v-720h720v720H120Zm60-500h600v-160H180v160Zm220 220h160v-160H400v160Zm0 220h160v-160H400v160ZM180-400h160v-160H180v160Zm440 0h160v-160H620v160ZM180-180h160v-160H180v160Zm440 0h160v-160H620v160Z\"/>\n",
              "  </svg>\n",
              "    </button>\n",
              "\n",
              "  <style>\n",
              "    .colab-df-container {\n",
              "      display:flex;\n",
              "      gap: 12px;\n",
              "    }\n",
              "\n",
              "    .colab-df-convert {\n",
              "      background-color: #E8F0FE;\n",
              "      border: none;\n",
              "      border-radius: 50%;\n",
              "      cursor: pointer;\n",
              "      display: none;\n",
              "      fill: #1967D2;\n",
              "      height: 32px;\n",
              "      padding: 0 0 0 0;\n",
              "      width: 32px;\n",
              "    }\n",
              "\n",
              "    .colab-df-convert:hover {\n",
              "      background-color: #E2EBFA;\n",
              "      box-shadow: 0px 1px 2px rgba(60, 64, 67, 0.3), 0px 1px 3px 1px rgba(60, 64, 67, 0.15);\n",
              "      fill: #174EA6;\n",
              "    }\n",
              "\n",
              "    .colab-df-buttons div {\n",
              "      margin-bottom: 4px;\n",
              "    }\n",
              "\n",
              "    [theme=dark] .colab-df-convert {\n",
              "      background-color: #3B4455;\n",
              "      fill: #D2E3FC;\n",
              "    }\n",
              "\n",
              "    [theme=dark] .colab-df-convert:hover {\n",
              "      background-color: #434B5C;\n",
              "      box-shadow: 0px 1px 3px 1px rgba(0, 0, 0, 0.15);\n",
              "      filter: drop-shadow(0px 1px 2px rgba(0, 0, 0, 0.3));\n",
              "      fill: #FFFFFF;\n",
              "    }\n",
              "  </style>\n",
              "\n",
              "    <script>\n",
              "      const buttonEl =\n",
              "        document.querySelector('#df-e455eaf2-b1b2-43a0-a02d-b65e0d6b3b73 button.colab-df-convert');\n",
              "      buttonEl.style.display =\n",
              "        google.colab.kernel.accessAllowed ? 'block' : 'none';\n",
              "\n",
              "      async function convertToInteractive(key) {\n",
              "        const element = document.querySelector('#df-e455eaf2-b1b2-43a0-a02d-b65e0d6b3b73');\n",
              "        const dataTable =\n",
              "          await google.colab.kernel.invokeFunction('convertToInteractive',\n",
              "                                                    [key], {});\n",
              "        if (!dataTable) return;\n",
              "\n",
              "        const docLinkHtml = 'Like what you see? Visit the ' +\n",
              "          '<a target=\"_blank\" href=https://colab.research.google.com/notebooks/data_table.ipynb>data table notebook</a>'\n",
              "          + ' to learn more about interactive tables.';\n",
              "        element.innerHTML = '';\n",
              "        dataTable['output_type'] = 'display_data';\n",
              "        await google.colab.output.renderOutput(dataTable, element);\n",
              "        const docLink = document.createElement('div');\n",
              "        docLink.innerHTML = docLinkHtml;\n",
              "        element.appendChild(docLink);\n",
              "      }\n",
              "    </script>\n",
              "  </div>\n",
              "\n",
              "\n",
              "<div id=\"df-b5c28c01-69f7-4b42-b155-acbd5cebe254\">\n",
              "  <button class=\"colab-df-quickchart\" onclick=\"quickchart('df-b5c28c01-69f7-4b42-b155-acbd5cebe254')\"\n",
              "            title=\"Suggest charts\"\n",
              "            style=\"display:none;\">\n",
              "\n",
              "<svg xmlns=\"http://www.w3.org/2000/svg\" height=\"24px\"viewBox=\"0 0 24 24\"\n",
              "     width=\"24px\">\n",
              "    <g>\n",
              "        <path d=\"M19 3H5c-1.1 0-2 .9-2 2v14c0 1.1.9 2 2 2h14c1.1 0 2-.9 2-2V5c0-1.1-.9-2-2-2zM9 17H7v-7h2v7zm4 0h-2V7h2v10zm4 0h-2v-4h2v4z\"/>\n",
              "    </g>\n",
              "</svg>\n",
              "  </button>\n",
              "\n",
              "<style>\n",
              "  .colab-df-quickchart {\n",
              "      --bg-color: #E8F0FE;\n",
              "      --fill-color: #1967D2;\n",
              "      --hover-bg-color: #E2EBFA;\n",
              "      --hover-fill-color: #174EA6;\n",
              "      --disabled-fill-color: #AAA;\n",
              "      --disabled-bg-color: #DDD;\n",
              "  }\n",
              "\n",
              "  [theme=dark] .colab-df-quickchart {\n",
              "      --bg-color: #3B4455;\n",
              "      --fill-color: #D2E3FC;\n",
              "      --hover-bg-color: #434B5C;\n",
              "      --hover-fill-color: #FFFFFF;\n",
              "      --disabled-bg-color: #3B4455;\n",
              "      --disabled-fill-color: #666;\n",
              "  }\n",
              "\n",
              "  .colab-df-quickchart {\n",
              "    background-color: var(--bg-color);\n",
              "    border: none;\n",
              "    border-radius: 50%;\n",
              "    cursor: pointer;\n",
              "    display: none;\n",
              "    fill: var(--fill-color);\n",
              "    height: 32px;\n",
              "    padding: 0;\n",
              "    width: 32px;\n",
              "  }\n",
              "\n",
              "  .colab-df-quickchart:hover {\n",
              "    background-color: var(--hover-bg-color);\n",
              "    box-shadow: 0 1px 2px rgba(60, 64, 67, 0.3), 0 1px 3px 1px rgba(60, 64, 67, 0.15);\n",
              "    fill: var(--button-hover-fill-color);\n",
              "  }\n",
              "\n",
              "  .colab-df-quickchart-complete:disabled,\n",
              "  .colab-df-quickchart-complete:disabled:hover {\n",
              "    background-color: var(--disabled-bg-color);\n",
              "    fill: var(--disabled-fill-color);\n",
              "    box-shadow: none;\n",
              "  }\n",
              "\n",
              "  .colab-df-spinner {\n",
              "    border: 2px solid var(--fill-color);\n",
              "    border-color: transparent;\n",
              "    border-bottom-color: var(--fill-color);\n",
              "    animation:\n",
              "      spin 1s steps(1) infinite;\n",
              "  }\n",
              "\n",
              "  @keyframes spin {\n",
              "    0% {\n",
              "      border-color: transparent;\n",
              "      border-bottom-color: var(--fill-color);\n",
              "      border-left-color: var(--fill-color);\n",
              "    }\n",
              "    20% {\n",
              "      border-color: transparent;\n",
              "      border-left-color: var(--fill-color);\n",
              "      border-top-color: var(--fill-color);\n",
              "    }\n",
              "    30% {\n",
              "      border-color: transparent;\n",
              "      border-left-color: var(--fill-color);\n",
              "      border-top-color: var(--fill-color);\n",
              "      border-right-color: var(--fill-color);\n",
              "    }\n",
              "    40% {\n",
              "      border-color: transparent;\n",
              "      border-right-color: var(--fill-color);\n",
              "      border-top-color: var(--fill-color);\n",
              "    }\n",
              "    60% {\n",
              "      border-color: transparent;\n",
              "      border-right-color: var(--fill-color);\n",
              "    }\n",
              "    80% {\n",
              "      border-color: transparent;\n",
              "      border-right-color: var(--fill-color);\n",
              "      border-bottom-color: var(--fill-color);\n",
              "    }\n",
              "    90% {\n",
              "      border-color: transparent;\n",
              "      border-bottom-color: var(--fill-color);\n",
              "    }\n",
              "  }\n",
              "</style>\n",
              "\n",
              "  <script>\n",
              "    async function quickchart(key) {\n",
              "      const quickchartButtonEl =\n",
              "        document.querySelector('#' + key + ' button');\n",
              "      quickchartButtonEl.disabled = true;  // To prevent multiple clicks.\n",
              "      quickchartButtonEl.classList.add('colab-df-spinner');\n",
              "      try {\n",
              "        const charts = await google.colab.kernel.invokeFunction(\n",
              "            'suggestCharts', [key], {});\n",
              "      } catch (error) {\n",
              "        console.error('Error during call to suggestCharts:', error);\n",
              "      }\n",
              "      quickchartButtonEl.classList.remove('colab-df-spinner');\n",
              "      quickchartButtonEl.classList.add('colab-df-quickchart-complete');\n",
              "    }\n",
              "    (() => {\n",
              "      let quickchartButtonEl =\n",
              "        document.querySelector('#df-b5c28c01-69f7-4b42-b155-acbd5cebe254 button');\n",
              "      quickchartButtonEl.style.display =\n",
              "        google.colab.kernel.accessAllowed ? 'block' : 'none';\n",
              "    })();\n",
              "  </script>\n",
              "</div>\n",
              "\n",
              "    </div>\n",
              "  </div>\n"
            ]
          },
          "metadata": {},
          "execution_count": 51
        }
      ],
      "source": [
        "data = pd.read_csv('./data/assignment_2.csv')\n",
        "data.head()"
      ]
    },
    {
      "cell_type": "markdown",
      "metadata": {
        "id": "ubOR3hWGLMaz"
      },
      "source": [
        "## Train Test 데이터 나누기"
      ]
    },
    {
      "cell_type": "code",
      "execution_count": null,
      "metadata": {
        "id": "IySSjlizLMaz"
      },
      "outputs": [],
      "source": [
        "from sklearn.model_selection import train_test_split"
      ]
    },
    {
      "cell_type": "code",
      "execution_count": null,
      "metadata": {
        "id": "075EQI1bLMa0"
      },
      "outputs": [],
      "source": [
        "X_train, X_test, y_train, y_test = train_test_split(data.iloc[:, 1:], data.iloc[:, 0], test_size = 0.25, random_state = 0)"
      ]
    },
    {
      "cell_type": "code",
      "execution_count": null,
      "metadata": {
        "id": "O8Ht5u8kLMa1",
        "colab": {
          "base_uri": "https://localhost:8080/"
        },
        "outputId": "87fcbbcf-50fe-41c1-8e37-20a164dd9f69"
      },
      "outputs": [
        {
          "output_type": "execute_result",
          "data": {
            "text/plain": [
              "((150, 3), (50, 3), (150,), (50,))"
            ]
          },
          "metadata": {},
          "execution_count": 54
        }
      ],
      "source": [
        "X_train.shape, X_test.shape, y_train.shape, y_test.shape"
      ]
    },
    {
      "cell_type": "markdown",
      "metadata": {
        "id": "hYmxND_xLMa2"
      },
      "source": [
        "## Scaling\n",
        "\n",
        "experience와 salary의 단위, 평균, 분산이 크게 차이나므로 scaler를 사용해 단위를 맞춰줍니다."
      ]
    },
    {
      "cell_type": "code",
      "execution_count": null,
      "metadata": {
        "id": "UI0Xy0gHLMa3",
        "colab": {
          "base_uri": "https://localhost:8080/",
          "height": 206
        },
        "outputId": "7cbef157-39fe-4479-9653-e03af39b0992"
      },
      "outputs": [
        {
          "output_type": "execute_result",
          "data": {
            "text/plain": [
              "   bias  experience    salary\n",
              "0     1    0.187893 -1.143335\n",
              "1     1    1.185555  0.043974\n",
              "2     1   -0.310938 -0.351795\n",
              "3     1   -1.629277 -1.341220\n",
              "4     1   -1.308600  0.043974"
            ],
            "text/html": [
              "\n",
              "  <div id=\"df-2550a063-eeaa-48a8-b5cf-9b8bcceb1c1a\" class=\"colab-df-container\">\n",
              "    <div>\n",
              "<style scoped>\n",
              "    .dataframe tbody tr th:only-of-type {\n",
              "        vertical-align: middle;\n",
              "    }\n",
              "\n",
              "    .dataframe tbody tr th {\n",
              "        vertical-align: top;\n",
              "    }\n",
              "\n",
              "    .dataframe thead th {\n",
              "        text-align: right;\n",
              "    }\n",
              "</style>\n",
              "<table border=\"1\" class=\"dataframe\">\n",
              "  <thead>\n",
              "    <tr style=\"text-align: right;\">\n",
              "      <th></th>\n",
              "      <th>bias</th>\n",
              "      <th>experience</th>\n",
              "      <th>salary</th>\n",
              "    </tr>\n",
              "  </thead>\n",
              "  <tbody>\n",
              "    <tr>\n",
              "      <th>0</th>\n",
              "      <td>1</td>\n",
              "      <td>0.187893</td>\n",
              "      <td>-1.143335</td>\n",
              "    </tr>\n",
              "    <tr>\n",
              "      <th>1</th>\n",
              "      <td>1</td>\n",
              "      <td>1.185555</td>\n",
              "      <td>0.043974</td>\n",
              "    </tr>\n",
              "    <tr>\n",
              "      <th>2</th>\n",
              "      <td>1</td>\n",
              "      <td>-0.310938</td>\n",
              "      <td>-0.351795</td>\n",
              "    </tr>\n",
              "    <tr>\n",
              "      <th>3</th>\n",
              "      <td>1</td>\n",
              "      <td>-1.629277</td>\n",
              "      <td>-1.341220</td>\n",
              "    </tr>\n",
              "    <tr>\n",
              "      <th>4</th>\n",
              "      <td>1</td>\n",
              "      <td>-1.308600</td>\n",
              "      <td>0.043974</td>\n",
              "    </tr>\n",
              "  </tbody>\n",
              "</table>\n",
              "</div>\n",
              "    <div class=\"colab-df-buttons\">\n",
              "\n",
              "  <div class=\"colab-df-container\">\n",
              "    <button class=\"colab-df-convert\" onclick=\"convertToInteractive('df-2550a063-eeaa-48a8-b5cf-9b8bcceb1c1a')\"\n",
              "            title=\"Convert this dataframe to an interactive table.\"\n",
              "            style=\"display:none;\">\n",
              "\n",
              "  <svg xmlns=\"http://www.w3.org/2000/svg\" height=\"24px\" viewBox=\"0 -960 960 960\">\n",
              "    <path d=\"M120-120v-720h720v720H120Zm60-500h600v-160H180v160Zm220 220h160v-160H400v160Zm0 220h160v-160H400v160ZM180-400h160v-160H180v160Zm440 0h160v-160H620v160ZM180-180h160v-160H180v160Zm440 0h160v-160H620v160Z\"/>\n",
              "  </svg>\n",
              "    </button>\n",
              "\n",
              "  <style>\n",
              "    .colab-df-container {\n",
              "      display:flex;\n",
              "      gap: 12px;\n",
              "    }\n",
              "\n",
              "    .colab-df-convert {\n",
              "      background-color: #E8F0FE;\n",
              "      border: none;\n",
              "      border-radius: 50%;\n",
              "      cursor: pointer;\n",
              "      display: none;\n",
              "      fill: #1967D2;\n",
              "      height: 32px;\n",
              "      padding: 0 0 0 0;\n",
              "      width: 32px;\n",
              "    }\n",
              "\n",
              "    .colab-df-convert:hover {\n",
              "      background-color: #E2EBFA;\n",
              "      box-shadow: 0px 1px 2px rgba(60, 64, 67, 0.3), 0px 1px 3px 1px rgba(60, 64, 67, 0.15);\n",
              "      fill: #174EA6;\n",
              "    }\n",
              "\n",
              "    .colab-df-buttons div {\n",
              "      margin-bottom: 4px;\n",
              "    }\n",
              "\n",
              "    [theme=dark] .colab-df-convert {\n",
              "      background-color: #3B4455;\n",
              "      fill: #D2E3FC;\n",
              "    }\n",
              "\n",
              "    [theme=dark] .colab-df-convert:hover {\n",
              "      background-color: #434B5C;\n",
              "      box-shadow: 0px 1px 3px 1px rgba(0, 0, 0, 0.15);\n",
              "      filter: drop-shadow(0px 1px 2px rgba(0, 0, 0, 0.3));\n",
              "      fill: #FFFFFF;\n",
              "    }\n",
              "  </style>\n",
              "\n",
              "    <script>\n",
              "      const buttonEl =\n",
              "        document.querySelector('#df-2550a063-eeaa-48a8-b5cf-9b8bcceb1c1a button.colab-df-convert');\n",
              "      buttonEl.style.display =\n",
              "        google.colab.kernel.accessAllowed ? 'block' : 'none';\n",
              "\n",
              "      async function convertToInteractive(key) {\n",
              "        const element = document.querySelector('#df-2550a063-eeaa-48a8-b5cf-9b8bcceb1c1a');\n",
              "        const dataTable =\n",
              "          await google.colab.kernel.invokeFunction('convertToInteractive',\n",
              "                                                    [key], {});\n",
              "        if (!dataTable) return;\n",
              "\n",
              "        const docLinkHtml = 'Like what you see? Visit the ' +\n",
              "          '<a target=\"_blank\" href=https://colab.research.google.com/notebooks/data_table.ipynb>data table notebook</a>'\n",
              "          + ' to learn more about interactive tables.';\n",
              "        element.innerHTML = '';\n",
              "        dataTable['output_type'] = 'display_data';\n",
              "        await google.colab.output.renderOutput(dataTable, element);\n",
              "        const docLink = document.createElement('div');\n",
              "        docLink.innerHTML = docLinkHtml;\n",
              "        element.appendChild(docLink);\n",
              "      }\n",
              "    </script>\n",
              "  </div>\n",
              "\n",
              "\n",
              "<div id=\"df-de3e1166-adda-4a6d-b6eb-0465385fe8e0\">\n",
              "  <button class=\"colab-df-quickchart\" onclick=\"quickchart('df-de3e1166-adda-4a6d-b6eb-0465385fe8e0')\"\n",
              "            title=\"Suggest charts\"\n",
              "            style=\"display:none;\">\n",
              "\n",
              "<svg xmlns=\"http://www.w3.org/2000/svg\" height=\"24px\"viewBox=\"0 0 24 24\"\n",
              "     width=\"24px\">\n",
              "    <g>\n",
              "        <path d=\"M19 3H5c-1.1 0-2 .9-2 2v14c0 1.1.9 2 2 2h14c1.1 0 2-.9 2-2V5c0-1.1-.9-2-2-2zM9 17H7v-7h2v7zm4 0h-2V7h2v10zm4 0h-2v-4h2v4z\"/>\n",
              "    </g>\n",
              "</svg>\n",
              "  </button>\n",
              "\n",
              "<style>\n",
              "  .colab-df-quickchart {\n",
              "      --bg-color: #E8F0FE;\n",
              "      --fill-color: #1967D2;\n",
              "      --hover-bg-color: #E2EBFA;\n",
              "      --hover-fill-color: #174EA6;\n",
              "      --disabled-fill-color: #AAA;\n",
              "      --disabled-bg-color: #DDD;\n",
              "  }\n",
              "\n",
              "  [theme=dark] .colab-df-quickchart {\n",
              "      --bg-color: #3B4455;\n",
              "      --fill-color: #D2E3FC;\n",
              "      --hover-bg-color: #434B5C;\n",
              "      --hover-fill-color: #FFFFFF;\n",
              "      --disabled-bg-color: #3B4455;\n",
              "      --disabled-fill-color: #666;\n",
              "  }\n",
              "\n",
              "  .colab-df-quickchart {\n",
              "    background-color: var(--bg-color);\n",
              "    border: none;\n",
              "    border-radius: 50%;\n",
              "    cursor: pointer;\n",
              "    display: none;\n",
              "    fill: var(--fill-color);\n",
              "    height: 32px;\n",
              "    padding: 0;\n",
              "    width: 32px;\n",
              "  }\n",
              "\n",
              "  .colab-df-quickchart:hover {\n",
              "    background-color: var(--hover-bg-color);\n",
              "    box-shadow: 0 1px 2px rgba(60, 64, 67, 0.3), 0 1px 3px 1px rgba(60, 64, 67, 0.15);\n",
              "    fill: var(--button-hover-fill-color);\n",
              "  }\n",
              "\n",
              "  .colab-df-quickchart-complete:disabled,\n",
              "  .colab-df-quickchart-complete:disabled:hover {\n",
              "    background-color: var(--disabled-bg-color);\n",
              "    fill: var(--disabled-fill-color);\n",
              "    box-shadow: none;\n",
              "  }\n",
              "\n",
              "  .colab-df-spinner {\n",
              "    border: 2px solid var(--fill-color);\n",
              "    border-color: transparent;\n",
              "    border-bottom-color: var(--fill-color);\n",
              "    animation:\n",
              "      spin 1s steps(1) infinite;\n",
              "  }\n",
              "\n",
              "  @keyframes spin {\n",
              "    0% {\n",
              "      border-color: transparent;\n",
              "      border-bottom-color: var(--fill-color);\n",
              "      border-left-color: var(--fill-color);\n",
              "    }\n",
              "    20% {\n",
              "      border-color: transparent;\n",
              "      border-left-color: var(--fill-color);\n",
              "      border-top-color: var(--fill-color);\n",
              "    }\n",
              "    30% {\n",
              "      border-color: transparent;\n",
              "      border-left-color: var(--fill-color);\n",
              "      border-top-color: var(--fill-color);\n",
              "      border-right-color: var(--fill-color);\n",
              "    }\n",
              "    40% {\n",
              "      border-color: transparent;\n",
              "      border-right-color: var(--fill-color);\n",
              "      border-top-color: var(--fill-color);\n",
              "    }\n",
              "    60% {\n",
              "      border-color: transparent;\n",
              "      border-right-color: var(--fill-color);\n",
              "    }\n",
              "    80% {\n",
              "      border-color: transparent;\n",
              "      border-right-color: var(--fill-color);\n",
              "      border-bottom-color: var(--fill-color);\n",
              "    }\n",
              "    90% {\n",
              "      border-color: transparent;\n",
              "      border-bottom-color: var(--fill-color);\n",
              "    }\n",
              "  }\n",
              "</style>\n",
              "\n",
              "  <script>\n",
              "    async function quickchart(key) {\n",
              "      const quickchartButtonEl =\n",
              "        document.querySelector('#' + key + ' button');\n",
              "      quickchartButtonEl.disabled = true;  // To prevent multiple clicks.\n",
              "      quickchartButtonEl.classList.add('colab-df-spinner');\n",
              "      try {\n",
              "        const charts = await google.colab.kernel.invokeFunction(\n",
              "            'suggestCharts', [key], {});\n",
              "      } catch (error) {\n",
              "        console.error('Error during call to suggestCharts:', error);\n",
              "      }\n",
              "      quickchartButtonEl.classList.remove('colab-df-spinner');\n",
              "      quickchartButtonEl.classList.add('colab-df-quickchart-complete');\n",
              "    }\n",
              "    (() => {\n",
              "      let quickchartButtonEl =\n",
              "        document.querySelector('#df-de3e1166-adda-4a6d-b6eb-0465385fe8e0 button');\n",
              "      quickchartButtonEl.style.display =\n",
              "        google.colab.kernel.accessAllowed ? 'block' : 'none';\n",
              "    })();\n",
              "  </script>\n",
              "</div>\n",
              "\n",
              "    </div>\n",
              "  </div>\n"
            ]
          },
          "metadata": {},
          "execution_count": 55
        }
      ],
      "source": [
        "from sklearn.preprocessing import StandardScaler\n",
        "scaler = StandardScaler()\n",
        "bias_train = X_train[\"bias\"]\n",
        "bias_train = bias_train.reset_index()[\"bias\"]\n",
        "X_train = pd.DataFrame(scaler.fit_transform(X_train), columns = X_train.columns)\n",
        "X_train[\"bias\"] = bias_train\n",
        "X_train.head()"
      ]
    },
    {
      "cell_type": "markdown",
      "metadata": {
        "id": "xD7L7RwZLMa3"
      },
      "source": [
        "이때 scaler는 X_train에 fit 해주시고, fit한 scaler를 X_test에 적용시켜줍니다.  \n",
        "**똑같이 X_test에다 fit하면 안돼요!**"
      ]
    },
    {
      "cell_type": "code",
      "execution_count": null,
      "metadata": {
        "id": "xBsUSCGGLMa3",
        "colab": {
          "base_uri": "https://localhost:8080/",
          "height": 206
        },
        "outputId": "67dcc79c-e86e-4a64-fd8c-bde70edd03e4"
      },
      "outputs": [
        {
          "output_type": "execute_result",
          "data": {
            "text/plain": [
              "   bias  experience    salary\n",
              "0     1   -1.344231 -0.615642\n",
              "1     1    0.508570  0.307821\n",
              "2     1   -0.310938  0.571667\n",
              "3     1    1.363709  1.956862\n",
              "4     1   -0.987923 -0.747565"
            ],
            "text/html": [
              "\n",
              "  <div id=\"df-cdf8f018-5d58-4265-b596-4a58084f843c\" class=\"colab-df-container\">\n",
              "    <div>\n",
              "<style scoped>\n",
              "    .dataframe tbody tr th:only-of-type {\n",
              "        vertical-align: middle;\n",
              "    }\n",
              "\n",
              "    .dataframe tbody tr th {\n",
              "        vertical-align: top;\n",
              "    }\n",
              "\n",
              "    .dataframe thead th {\n",
              "        text-align: right;\n",
              "    }\n",
              "</style>\n",
              "<table border=\"1\" class=\"dataframe\">\n",
              "  <thead>\n",
              "    <tr style=\"text-align: right;\">\n",
              "      <th></th>\n",
              "      <th>bias</th>\n",
              "      <th>experience</th>\n",
              "      <th>salary</th>\n",
              "    </tr>\n",
              "  </thead>\n",
              "  <tbody>\n",
              "    <tr>\n",
              "      <th>0</th>\n",
              "      <td>1</td>\n",
              "      <td>-1.344231</td>\n",
              "      <td>-0.615642</td>\n",
              "    </tr>\n",
              "    <tr>\n",
              "      <th>1</th>\n",
              "      <td>1</td>\n",
              "      <td>0.508570</td>\n",
              "      <td>0.307821</td>\n",
              "    </tr>\n",
              "    <tr>\n",
              "      <th>2</th>\n",
              "      <td>1</td>\n",
              "      <td>-0.310938</td>\n",
              "      <td>0.571667</td>\n",
              "    </tr>\n",
              "    <tr>\n",
              "      <th>3</th>\n",
              "      <td>1</td>\n",
              "      <td>1.363709</td>\n",
              "      <td>1.956862</td>\n",
              "    </tr>\n",
              "    <tr>\n",
              "      <th>4</th>\n",
              "      <td>1</td>\n",
              "      <td>-0.987923</td>\n",
              "      <td>-0.747565</td>\n",
              "    </tr>\n",
              "  </tbody>\n",
              "</table>\n",
              "</div>\n",
              "    <div class=\"colab-df-buttons\">\n",
              "\n",
              "  <div class=\"colab-df-container\">\n",
              "    <button class=\"colab-df-convert\" onclick=\"convertToInteractive('df-cdf8f018-5d58-4265-b596-4a58084f843c')\"\n",
              "            title=\"Convert this dataframe to an interactive table.\"\n",
              "            style=\"display:none;\">\n",
              "\n",
              "  <svg xmlns=\"http://www.w3.org/2000/svg\" height=\"24px\" viewBox=\"0 -960 960 960\">\n",
              "    <path d=\"M120-120v-720h720v720H120Zm60-500h600v-160H180v160Zm220 220h160v-160H400v160Zm0 220h160v-160H400v160ZM180-400h160v-160H180v160Zm440 0h160v-160H620v160ZM180-180h160v-160H180v160Zm440 0h160v-160H620v160Z\"/>\n",
              "  </svg>\n",
              "    </button>\n",
              "\n",
              "  <style>\n",
              "    .colab-df-container {\n",
              "      display:flex;\n",
              "      gap: 12px;\n",
              "    }\n",
              "\n",
              "    .colab-df-convert {\n",
              "      background-color: #E8F0FE;\n",
              "      border: none;\n",
              "      border-radius: 50%;\n",
              "      cursor: pointer;\n",
              "      display: none;\n",
              "      fill: #1967D2;\n",
              "      height: 32px;\n",
              "      padding: 0 0 0 0;\n",
              "      width: 32px;\n",
              "    }\n",
              "\n",
              "    .colab-df-convert:hover {\n",
              "      background-color: #E2EBFA;\n",
              "      box-shadow: 0px 1px 2px rgba(60, 64, 67, 0.3), 0px 1px 3px 1px rgba(60, 64, 67, 0.15);\n",
              "      fill: #174EA6;\n",
              "    }\n",
              "\n",
              "    .colab-df-buttons div {\n",
              "      margin-bottom: 4px;\n",
              "    }\n",
              "\n",
              "    [theme=dark] .colab-df-convert {\n",
              "      background-color: #3B4455;\n",
              "      fill: #D2E3FC;\n",
              "    }\n",
              "\n",
              "    [theme=dark] .colab-df-convert:hover {\n",
              "      background-color: #434B5C;\n",
              "      box-shadow: 0px 1px 3px 1px rgba(0, 0, 0, 0.15);\n",
              "      filter: drop-shadow(0px 1px 2px rgba(0, 0, 0, 0.3));\n",
              "      fill: #FFFFFF;\n",
              "    }\n",
              "  </style>\n",
              "\n",
              "    <script>\n",
              "      const buttonEl =\n",
              "        document.querySelector('#df-cdf8f018-5d58-4265-b596-4a58084f843c button.colab-df-convert');\n",
              "      buttonEl.style.display =\n",
              "        google.colab.kernel.accessAllowed ? 'block' : 'none';\n",
              "\n",
              "      async function convertToInteractive(key) {\n",
              "        const element = document.querySelector('#df-cdf8f018-5d58-4265-b596-4a58084f843c');\n",
              "        const dataTable =\n",
              "          await google.colab.kernel.invokeFunction('convertToInteractive',\n",
              "                                                    [key], {});\n",
              "        if (!dataTable) return;\n",
              "\n",
              "        const docLinkHtml = 'Like what you see? Visit the ' +\n",
              "          '<a target=\"_blank\" href=https://colab.research.google.com/notebooks/data_table.ipynb>data table notebook</a>'\n",
              "          + ' to learn more about interactive tables.';\n",
              "        element.innerHTML = '';\n",
              "        dataTable['output_type'] = 'display_data';\n",
              "        await google.colab.output.renderOutput(dataTable, element);\n",
              "        const docLink = document.createElement('div');\n",
              "        docLink.innerHTML = docLinkHtml;\n",
              "        element.appendChild(docLink);\n",
              "      }\n",
              "    </script>\n",
              "  </div>\n",
              "\n",
              "\n",
              "<div id=\"df-a809bb6a-2fd1-4622-8b2c-a5b6ba3ca1c3\">\n",
              "  <button class=\"colab-df-quickchart\" onclick=\"quickchart('df-a809bb6a-2fd1-4622-8b2c-a5b6ba3ca1c3')\"\n",
              "            title=\"Suggest charts\"\n",
              "            style=\"display:none;\">\n",
              "\n",
              "<svg xmlns=\"http://www.w3.org/2000/svg\" height=\"24px\"viewBox=\"0 0 24 24\"\n",
              "     width=\"24px\">\n",
              "    <g>\n",
              "        <path d=\"M19 3H5c-1.1 0-2 .9-2 2v14c0 1.1.9 2 2 2h14c1.1 0 2-.9 2-2V5c0-1.1-.9-2-2-2zM9 17H7v-7h2v7zm4 0h-2V7h2v10zm4 0h-2v-4h2v4z\"/>\n",
              "    </g>\n",
              "</svg>\n",
              "  </button>\n",
              "\n",
              "<style>\n",
              "  .colab-df-quickchart {\n",
              "      --bg-color: #E8F0FE;\n",
              "      --fill-color: #1967D2;\n",
              "      --hover-bg-color: #E2EBFA;\n",
              "      --hover-fill-color: #174EA6;\n",
              "      --disabled-fill-color: #AAA;\n",
              "      --disabled-bg-color: #DDD;\n",
              "  }\n",
              "\n",
              "  [theme=dark] .colab-df-quickchart {\n",
              "      --bg-color: #3B4455;\n",
              "      --fill-color: #D2E3FC;\n",
              "      --hover-bg-color: #434B5C;\n",
              "      --hover-fill-color: #FFFFFF;\n",
              "      --disabled-bg-color: #3B4455;\n",
              "      --disabled-fill-color: #666;\n",
              "  }\n",
              "\n",
              "  .colab-df-quickchart {\n",
              "    background-color: var(--bg-color);\n",
              "    border: none;\n",
              "    border-radius: 50%;\n",
              "    cursor: pointer;\n",
              "    display: none;\n",
              "    fill: var(--fill-color);\n",
              "    height: 32px;\n",
              "    padding: 0;\n",
              "    width: 32px;\n",
              "  }\n",
              "\n",
              "  .colab-df-quickchart:hover {\n",
              "    background-color: var(--hover-bg-color);\n",
              "    box-shadow: 0 1px 2px rgba(60, 64, 67, 0.3), 0 1px 3px 1px rgba(60, 64, 67, 0.15);\n",
              "    fill: var(--button-hover-fill-color);\n",
              "  }\n",
              "\n",
              "  .colab-df-quickchart-complete:disabled,\n",
              "  .colab-df-quickchart-complete:disabled:hover {\n",
              "    background-color: var(--disabled-bg-color);\n",
              "    fill: var(--disabled-fill-color);\n",
              "    box-shadow: none;\n",
              "  }\n",
              "\n",
              "  .colab-df-spinner {\n",
              "    border: 2px solid var(--fill-color);\n",
              "    border-color: transparent;\n",
              "    border-bottom-color: var(--fill-color);\n",
              "    animation:\n",
              "      spin 1s steps(1) infinite;\n",
              "  }\n",
              "\n",
              "  @keyframes spin {\n",
              "    0% {\n",
              "      border-color: transparent;\n",
              "      border-bottom-color: var(--fill-color);\n",
              "      border-left-color: var(--fill-color);\n",
              "    }\n",
              "    20% {\n",
              "      border-color: transparent;\n",
              "      border-left-color: var(--fill-color);\n",
              "      border-top-color: var(--fill-color);\n",
              "    }\n",
              "    30% {\n",
              "      border-color: transparent;\n",
              "      border-left-color: var(--fill-color);\n",
              "      border-top-color: var(--fill-color);\n",
              "      border-right-color: var(--fill-color);\n",
              "    }\n",
              "    40% {\n",
              "      border-color: transparent;\n",
              "      border-right-color: var(--fill-color);\n",
              "      border-top-color: var(--fill-color);\n",
              "    }\n",
              "    60% {\n",
              "      border-color: transparent;\n",
              "      border-right-color: var(--fill-color);\n",
              "    }\n",
              "    80% {\n",
              "      border-color: transparent;\n",
              "      border-right-color: var(--fill-color);\n",
              "      border-bottom-color: var(--fill-color);\n",
              "    }\n",
              "    90% {\n",
              "      border-color: transparent;\n",
              "      border-bottom-color: var(--fill-color);\n",
              "    }\n",
              "  }\n",
              "</style>\n",
              "\n",
              "  <script>\n",
              "    async function quickchart(key) {\n",
              "      const quickchartButtonEl =\n",
              "        document.querySelector('#' + key + ' button');\n",
              "      quickchartButtonEl.disabled = true;  // To prevent multiple clicks.\n",
              "      quickchartButtonEl.classList.add('colab-df-spinner');\n",
              "      try {\n",
              "        const charts = await google.colab.kernel.invokeFunction(\n",
              "            'suggestCharts', [key], {});\n",
              "      } catch (error) {\n",
              "        console.error('Error during call to suggestCharts:', error);\n",
              "      }\n",
              "      quickchartButtonEl.classList.remove('colab-df-spinner');\n",
              "      quickchartButtonEl.classList.add('colab-df-quickchart-complete');\n",
              "    }\n",
              "    (() => {\n",
              "      let quickchartButtonEl =\n",
              "        document.querySelector('#df-a809bb6a-2fd1-4622-8b2c-a5b6ba3ca1c3 button');\n",
              "      quickchartButtonEl.style.display =\n",
              "        google.colab.kernel.accessAllowed ? 'block' : 'none';\n",
              "    })();\n",
              "  </script>\n",
              "</div>\n",
              "\n",
              "    </div>\n",
              "  </div>\n"
            ]
          },
          "metadata": {},
          "execution_count": 56
        }
      ],
      "source": [
        "bias_test = X_test[\"bias\"]\n",
        "bias_test = bias_test.reset_index()[\"bias\"]\n",
        "X_test = pd.DataFrame(scaler.transform(X_test), columns = X_test.columns) # fit_transform() 대신 transform() 사용: X_train에 fit한 scaler를 그대로 적용\n",
        "X_test[\"bias\"] = bias_test\n",
        "X_test.head()"
      ]
    },
    {
      "cell_type": "code",
      "execution_count": null,
      "metadata": {
        "id": "m9sP3nzlLMa4"
      },
      "outputs": [],
      "source": [
        "# parameter 개수\n",
        "N = len(X_train.loc[0]) # 3"
      ]
    },
    {
      "cell_type": "code",
      "execution_count": null,
      "metadata": {
        "id": "qz7xz9dbLMa4",
        "colab": {
          "base_uri": "https://localhost:8080/"
        },
        "outputId": "0bf0f4a3-cd50-404f-8f8e-3374ed328808"
      },
      "outputs": [
        {
          "output_type": "execute_result",
          "data": {
            "text/plain": [
              "array([0.50210549, 0.75187647, 0.05822907])"
            ]
          },
          "metadata": {},
          "execution_count": 58
        }
      ],
      "source": [
        "# 초기 parameter들을 임의로 설정해줍니다.\n",
        "parameters = np.array([random.random() for i in range(N)])\n",
        "random_parameters = parameters.copy() # 얕은 복사\n",
        "parameters"
      ]
    },
    {
      "cell_type": "markdown",
      "metadata": {
        "id": "QINz-EAKLMa4"
      },
      "source": [
        "### * LaTeX   \n",
        "\n",
        "Jupyter Notebook은 LaTeX 문법으로 수식 입력을 지원하고 있습니다.  \n",
        "LaTeX문법으로 아래의 수식을 완성해주세요  \n",
        "http://triki.net/apps/3466  \n",
        "https://jjycjnmath.tistory.com/117"
      ]
    },
    {
      "cell_type": "markdown",
      "metadata": {
        "id": "D2DsTfXuLMa5"
      },
      "source": [
        "## Dot product\n",
        "## $z =\\theta_0 + \\theta_1 x_1 + \\theta_2 x_2 + ... + \\theta_n x_n$\n",
        "\n",
        "$\\text{n: number of features}$"
      ]
    },
    {
      "cell_type": "code",
      "execution_count": null,
      "metadata": {
        "id": "2y05lS6xLMa5"
      },
      "outputs": [],
      "source": [
        "def dot_product(X, parameters):\n",
        "    z = sum([X[i] * parameters[i] for i in range(len(X))]) + 1 # +1: bias\n",
        "    return z"
      ]
    },
    {
      "cell_type": "code",
      "execution_count": null,
      "metadata": {
        "colab": {
          "base_uri": "https://localhost:8080/"
        },
        "id": "Lfmd0ZFDEbda",
        "outputId": "765613e6-76ee-422e-a077-e24636accc91"
      },
      "outputs": [
        {
          "output_type": "execute_result",
          "data": {
            "text/plain": [
              "1.588825443516698"
            ]
          },
          "metadata": {},
          "execution_count": 219
        }
      ],
      "source": [
        "# 확인\n",
        "z_result = dot_product(X_train.loc[0], parameters)\n",
        "z_result"
      ]
    },
    {
      "cell_type": "markdown",
      "metadata": {
        "id": "fOGPEhtOLMa5"
      },
      "source": [
        "## Logistic Function\n",
        "\n",
        "## $p = \\frac{1}{1+e^{-z}}$"
      ]
    },
    {
      "cell_type": "code",
      "execution_count": null,
      "metadata": {
        "id": "2awM57u5LMa5"
      },
      "outputs": [],
      "source": [
        "def logistic(X, parameters):\n",
        "    z = dot_product(X, parameters)\n",
        "    p = 1 / (1 + np.exp(-z))\n",
        "    return p"
      ]
    },
    {
      "cell_type": "code",
      "execution_count": null,
      "metadata": {
        "id": "WVaZEwrdLMa5",
        "colab": {
          "base_uri": "https://localhost:8080/"
        },
        "outputId": "399c3906-eee1-4895-e000-b62bc6471603"
      },
      "outputs": [
        {
          "output_type": "execute_result",
          "data": {
            "text/plain": [
              "0.830450787021885"
            ]
          },
          "metadata": {},
          "execution_count": 221
        }
      ],
      "source": [
        "logistic(X_train.iloc[0], parameters)"
      ]
    },
    {
      "cell_type": "markdown",
      "metadata": {
        "id": "E6cXHl8bLMa6"
      },
      "source": [
        "## Object function\n",
        "\n",
        "Object Function : 목적함수는 Gradient Descent를 통해 최적화 하고자 하는 함수입니다.  \n",
        "<br>\n",
        "선형 회귀의 목적함수 : MSE\n",
        "## $l(\\theta) = \\frac{1}{2}\\Sigma(y_i - \\theta^{T}X_i)^2, \\space i = 1, ..., N(\\text{Number of samples})$\n",
        "$l(\\theta) =  \\frac{1}{2}\\Sigma(y_i - z_i)^2$\n",
        "\n",
        "참고)\n",
        "$z_i = \\hat{y_i} = \\theta^{T}X_i$.   \n",
        "1/2 은 계산상의 편의를 위해 곱합니다\n",
        "  \n",
        "로지스틱 회귀의 목적함수를 작성해주세요  \n",
        "(선형 회귀의 목적함수처럼 sum 형태까지만 작성해주세요. 평균을 고려하는 것은 뒤에 코드에서 수행합니다)\n",
        "## $l(p) = -\\Sigma{[y_i logp_i + (1-y_i)log(1-p_i)]}$\n",
        "\n",
        "$wh. \\space p = \\frac{1}{1+e^{-z}}$"
      ]
    },
    {
      "cell_type": "code",
      "execution_count": null,
      "metadata": {
        "id": "FnGRAur3LMa6"
      },
      "outputs": [],
      "source": [
        "def minus_log_cross_entropy_i(X, y, parameters): # X: 1 sample\n",
        "    loss = -y * np.log(logistic(X, parameters)) - (1 - y) * np.log(1 - logistic(X, parameters)) # sigmoid함수 특성에 의해 logistic값은 절대 0이나 1이 되지 않으므로 log취할 수 있다.\n",
        "    return loss"
      ]
    },
    {
      "cell_type": "code",
      "execution_count": null,
      "metadata": {
        "id": "C922eXYyLMa6"
      },
      "outputs": [],
      "source": [
        "def mse_i(X, y, parameters): # X: 1 sample\n",
        "    loss = (y - dot_product(X, parameters))**2\n",
        "    loss /= 2 # 계산의 편의를 위해 2로 나눠줌.\n",
        "    return loss"
      ]
    },
    {
      "cell_type": "code",
      "source": [
        "def batch_loss(X_set, y_set, parameters, loss_function, n): # n: 배치 사이즈\n",
        "    loss = 0\n",
        "    for i in range(len(X_set)):  # 반복문에서 인덱스 오류 수정(X_set이 batch_size보다 작은 경우, 즉 마지막 배치)\n",
        "        loss += loss_function(X_set.iloc[i], y_set.iloc[i], parameters)  # sum of the loss from batch samples\n",
        "\n",
        "    loss /= n #loss 평균값으로 계산\n",
        "    return loss\n"
      ],
      "metadata": {
        "id": "plJ2AC-ePnMS"
      },
      "execution_count": null,
      "outputs": []
    },
    {
      "cell_type": "code",
      "execution_count": null,
      "metadata": {
        "colab": {
          "base_uri": "https://localhost:8080/"
        },
        "id": "3XzEiZ_-Ebdk",
        "outputId": "373a0691-de2f-4a60-c683-a72d9ecd2f74"
      },
      "outputs": [
        {
          "output_type": "execute_result",
          "data": {
            "text/plain": [
              "1.622559090649511"
            ]
          },
          "metadata": {},
          "execution_count": 188
        }
      ],
      "source": [
        "batch_loss(X_test, y_test, parameters, mse_i, len(X_test))"
      ]
    },
    {
      "cell_type": "code",
      "execution_count": null,
      "metadata": {
        "colab": {
          "base_uri": "https://localhost:8080/"
        },
        "id": "AffOoJnyEbdm",
        "outputId": "3d1bc793-8892-466a-bf0f-8695d2971698"
      },
      "outputs": [
        {
          "output_type": "execute_result",
          "data": {
            "text/plain": [
              "1.5705298912239376"
            ]
          },
          "metadata": {},
          "execution_count": 189
        }
      ],
      "source": [
        "batch_loss(X_test, y_test, parameters, minus_log_cross_entropy_i, len(X_test))"
      ]
    },
    {
      "cell_type": "markdown",
      "metadata": {
        "id": "ACLi9vCyLMa7"
      },
      "source": [
        "## Gradient\n",
        "위의 선형회귀의 목적함수 $l(\\theta)$와 로지스틱회귀의 목적함수 $l(p)$의 gradient를 작성해주세요  \n",
        "(위의 목적함수를 참고해서 작성해주세요 = 평균을 고려하는 것은 뒤에 코드에서 수행합니다)"
      ]
    },
    {
      "cell_type": "markdown",
      "metadata": {
        "id": "caMA-f00LMa7"
      },
      "source": [
        "## ${\\partial\\over{\\partial \\theta_j}}l(\\theta)= -\\Sigma_{i}(y_i - \\theta^{T}X_i)\\cdot x_{ij}$\n",
        "## ${\\partial\\over{\\partial \\theta_j}}l(p)=-\\Sigma_{i}(y_i - p_i)x_{ij}$   \n",
        "$\\text{j = index of the parameter}$"
      ]
    },
    {
      "cell_type": "code",
      "execution_count": null,
      "metadata": {
        "id": "apZ0Miz5LMa7"
      },
      "outputs": [],
      "source": [
        "def get_gradient_ij(X, y, parameters, j, model): # gradient of jth parameter\n",
        "# X: 1 sample\n",
        "    if model == 'linear':\n",
        "        gradient = - (y - dot_product(X, parameters))*X[j]\n",
        "    elif model == 'logistic':\n",
        "        gradient = - (y - logistic(X, parameters))*X[j]\n",
        "    return gradient"
      ]
    },
    {
      "cell_type": "code",
      "execution_count": null,
      "metadata": {
        "colab": {
          "base_uri": "https://localhost:8080/"
        },
        "id": "u1GaFBD-Ebdr",
        "outputId": "eb2ee58a-7342-4cd2-9e39-1dacab680c9c"
      },
      "outputs": [
        {
          "output_type": "execute_result",
          "data": {
            "text/plain": [
              "0.11120719992804357"
            ]
          },
          "metadata": {},
          "execution_count": 191
        }
      ],
      "source": [
        "get_gradient_ij(X_train.iloc[0,:], y_train.iloc[0], parameters, 1, 'linear') # 1: 첫번째 parameter에 대해서 계산"
      ]
    },
    {
      "cell_type": "code",
      "execution_count": null,
      "metadata": {
        "id": "XXBe6q8gLMa7",
        "scrolled": true,
        "colab": {
          "base_uri": "https://localhost:8080/"
        },
        "outputId": "ca7f5c27-72f6-4589-916e-4fe9023ec92d"
      },
      "outputs": [
        {
          "output_type": "execute_result",
          "data": {
            "text/plain": [
              "-0.03177680026367921"
            ]
          },
          "metadata": {},
          "execution_count": 192
        }
      ],
      "source": [
        "get_gradient_ij(X_train.iloc[0,:], y_train.iloc[0], parameters, 1, 'logistic') # 1: 첫번째 parameter에 대해서 계산"
      ]
    },
    {
      "cell_type": "code",
      "execution_count": null,
      "metadata": {
        "id": "YTRKiQ-lEbdu"
      },
      "outputs": [],
      "source": [
        "# from IPython.display import Image\n",
        "\n",
        "# Image(\"C:/Users/rhskr/Desktop/배치알고리즘_구현.png\")"
      ]
    },
    {
      "cell_type": "markdown",
      "metadata": {
        "id": "wTfzKh_nLMa7"
      },
      "source": [
        "## Batch Gradient\n",
        "하나의 배치 (X_set, y_set)에 대해 기울기를 구하는 코드를 작성해주세요"
      ]
    },
    {
      "cell_type": "code",
      "execution_count": null,
      "metadata": {
        "id": "Qby2_X1vLMa7"
      },
      "outputs": [],
      "source": [
        "def batch_gradient(X_set, y_set, parameters, model): # batch_size로 나누는 것은 'step'함수에서 update할 때 수행된다.\n",
        "    num_features = len(parameters)\n",
        "    gradients = np.zeros(num_features)\n",
        "\n",
        "    # batch gradient 계산 (sigma_i)\n",
        "    for j in range(len(parameters)):\n",
        "      for i in range(len(X_set)):\n",
        "          x_i = X_set.iloc[i]\n",
        "          y_i = y_set.iloc[i]\n",
        "\n",
        "          gradients[j] += get_gradient_ij(x_i, y_i, parameters, j, model)\n",
        "\n",
        "    return gradients"
      ]
    },
    {
      "cell_type": "code",
      "execution_count": null,
      "metadata": {
        "colab": {
          "base_uri": "https://localhost:8080/"
        },
        "id": "HHzWC3dOEbdv",
        "outputId": "328e468e-35b3-4c23-dae6-1eeffdc3156b"
      },
      "outputs": [
        {
          "output_type": "execute_result",
          "data": {
            "text/plain": [
              "array([186.36835724, 101.95892218, 107.57046552])"
            ]
          },
          "metadata": {},
          "execution_count": 247
        }
      ],
      "source": [
        "gradients1 = batch_gradient(X_train, y_train, parameters, 'linear')\n",
        "gradients1"
      ]
    },
    {
      "cell_type": "code",
      "execution_count": null,
      "metadata": {
        "id": "rHxBS5RnLMa8",
        "colab": {
          "base_uri": "https://localhost:8080/"
        },
        "outputId": "dd33b054-b784-41c1-c7f7-13b5add3f169"
      },
      "outputs": [
        {
          "output_type": "execute_result",
          "data": {
            "text/plain": [
              "array([76.94230192, -0.79553664, 27.38359911])"
            ]
          },
          "metadata": {},
          "execution_count": 248
        }
      ],
      "source": [
        "gradients1 = batch_gradient(X_train, y_train, parameters, 'logistic')\n",
        "gradients1"
      ]
    },
    {
      "cell_type": "markdown",
      "metadata": {
        "id": "cQnlDboALMa8"
      },
      "source": [
        "## mini-batch\n",
        "인덱스로 미니 배치 나누기"
      ]
    },
    {
      "cell_type": "code",
      "execution_count": null,
      "metadata": {
        "id": "LgnfT6eHLMa8"
      },
      "outputs": [],
      "source": [
        "def batch_idx(X_train, batch_size):\n",
        "    N = len(X_train)\n",
        "    nb = (N // batch_size)+1 #number of batch\n",
        "    idx = np.array([i for i in range(N)])\n",
        "    idx_list = [idx[i*batch_size:(i+1)*batch_size] for i in range(nb) if len(idx[i*batch_size:(i+1)*batch_size]) != 0]\n",
        "    return idx_list"
      ]
    },
    {
      "cell_type": "markdown",
      "metadata": {
        "id": "9S9fk1UTLMa8"
      },
      "source": [
        "batch_idx 함수에 대한 설명을 batch_size와 함께 간략하게 작성해주세요  \n",
        "### 설명:\n",
        "\n",
        "- N: 훈련 데이터셋의 전체 샘플 개수\n",
        "- nb: 미니배치의 개수\n",
        "- idx: 전체 샘플 개수에 대한 인덱스 배열\n",
        "- idx_list: 각 미니배치의 인덱스 리스트(미니배치의 크기에 따라 인덱스를 나누기)\n",
        "\n",
        "예를 들어, X_train의 샘플이 100개이고 batch_size가 30이라면, 미니배치 인덱스 리스트는 각 미니배치마다 30개의 샘플을 갖게 되고, 마지막 미니배치는 10개의 샘플을 갖는다.  \n",
        "[[1, 2, 3, ..., 30], [31, 32, ..., 60], [61, 62, ..., 90], [91, 92, ..., 100]]"
      ]
    },
    {
      "cell_type": "markdown",
      "metadata": {
        "id": "4pMuZbkQLMa8"
      },
      "source": [
        "## Update Parameters\n",
        "기울기를 갱신하는 코드를 작성해주세요  \n",
        "(loss와 마찬가지로 기울기를 갱신할 때 배치 사이즈를 고려해 평균으로 갱신해주세요)"
      ]
    },
    {
      "cell_type": "code",
      "execution_count": null,
      "metadata": {
        "id": "loeL51rPLMa8"
      },
      "outputs": [],
      "source": [
        "def step(parameters, gradients, learning_rate, n): #n: 현재 배치의 데이터 수\n",
        "    for j in range(len(parameters)):\n",
        "        parameters[j] -= (learning_rate * gradients[j] / n)\n",
        "    return parameters"
      ]
    },
    {
      "cell_type": "code",
      "execution_count": null,
      "metadata": {
        "id": "NLB2dUVTLMa8",
        "colab": {
          "base_uri": "https://localhost:8080/"
        },
        "outputId": "624fd6c9-72c2-473b-fc00-86af06d8525f"
      },
      "outputs": [
        {
          "output_type": "execute_result",
          "data": {
            "text/plain": [
              "array([0.51732623, 0.7517088 , 0.06366582])"
            ]
          },
          "metadata": {},
          "execution_count": 251
        }
      ],
      "source": [
        "step(parameters, gradients1, 0.01, len(X_train))"
      ]
    },
    {
      "cell_type": "markdown",
      "metadata": {
        "id": "RX8RJFd_LMa9"
      },
      "source": [
        "## Gradient Descent\n",
        "위에서 작성한 함수들을 조합해서 경사하강법 함수를 완성해주세요\n",
        "\n",
        "- learning_rate: 학습률\n",
        "- tolerance: Step이 너무 작아서 더 이상의 학습이 무의미할 때 학습을 멈추는 조건  \n",
        "- batch: 한 번에 학습시킬 데이터 크기\n",
        "- epoch: 모든 mini batch를 다 사용  \n",
        "- num_epoch: 총 학습 횟수\n",
        "<br>\n",
        "\n",
        "BGD: 학습 한 번에 전체 데이터를 모두 사영하여 gradient 계산   \n",
        "SGD: 학습 한 번에 1개의 데이터를 사용하여 gradient를 계산  \n",
        "MGD: 학습 한 번에 1개의 데이터를 사용하여 gradient를 계산  \n",
        "<br>\n",
        "\n",
        "**batch_size에 따른 경사하강법의 종류**  \n",
        "batch_size=1 -> Stochastic Gradient Descent  \n",
        "batch_size=k -> Mini Batch Gradient Descent  \n",
        "batch_size=whole -> (Batch) Gradient Descent  "
      ]
    },
    {
      "cell_type": "code",
      "execution_count": null,
      "metadata": {
        "id": "ZGbnVHbbLMa9"
      },
      "outputs": [],
      "source": [
        "def gradient_descent(X_train, y_train, learning_rate = 0.1, num_epoch = 1000, tolerance = 0.00001, model = 'logistic', batch_size = 16):\n",
        "    stopper = False\n",
        "\n",
        "    N = len(X_train.iloc[0])\n",
        "    parameters = np.random.rand(N) # 파라미터 임의로 초기화\n",
        "    loss_function = minus_log_cross_entropy_i if model == 'logistic' else mse_i\n",
        "    loss = 999\n",
        "    batch_idx_list = batch_idx(X_train, batch_size)\n",
        "\n",
        "    for epoch in range(num_epoch):\n",
        "        if stopper:\n",
        "            break\n",
        "        for idx in batch_idx_list:\n",
        "            X_batch = X_train.iloc[idx,] # 미니배치 생성\n",
        "            y_batch = y_train.iloc[idx]\n",
        "\n",
        "            new_loss = batch_loss(X_batch, y_batch, parameters, loss_function, batch_size) # 배치 loss\n",
        "            gradients = batch_gradient(X_batch, y_batch, parameters, model) # 미니 배치 그래디언트\n",
        "            parameters = step(parameters, gradients, learning_rate, batch_size) # 파라미터 업데이트\n",
        "\n",
        "\n",
        "            #중단 조건\n",
        "            if abs(new_loss - loss) < tolerance: # loss 감소량이 tolerance 미만이면 중단하겠다.\n",
        "                stopper = True\n",
        "                break\n",
        "            loss = new_loss\n",
        "\n",
        "        #100epoch마다 학습 상태 출력\n",
        "        if epoch%100 == 0: #출력이 길게 나오면 check point를 수정해도 됩니다.\n",
        "            print(f\"epoch: {epoch}  loss: {new_loss}  params: {parameters}  gradients: {gradients}\")\n",
        "\n",
        "    return parameters"
      ]
    },
    {
      "cell_type": "markdown",
      "metadata": {
        "id": "3CTtc3eiLMa9"
      },
      "source": [
        "## Implement\n",
        "경사하강법 함수를 이용해 최적의 모수를 찾아보세요. 학습을 진행할 때, hyperparameter를 바꿔가면서 학습시켜보세요."
      ]
    },
    {
      "cell_type": "markdown",
      "metadata": {
        "id": "KnUpYC7_LMa9"
      },
      "source": [
        "## Logistic Regression"
      ]
    },
    {
      "cell_type": "markdown",
      "metadata": {
        "id": "F9TeDRJPEbeM"
      },
      "source": [
        "default: learning_rate = 0.1, num_epoch = 1000, tolerance = 0.00001, model = 'logistic', batch_size = 16"
      ]
    },
    {
      "cell_type": "code",
      "execution_count": null,
      "metadata": {
        "id": "-LS6o3aeLMa-",
        "colab": {
          "base_uri": "https://localhost:8080/"
        },
        "outputId": "a13dccaf-4872-45a6-866c-bdaa356c192e"
      },
      "outputs": [
        {
          "output_type": "stream",
          "name": "stdout",
          "text": [
            "epoch: 0  loss: 1.1420275455135356  params: [0.15042303 0.52883219 0.27880342]  gradients: [69.26765089  1.041243   31.41969136]\n",
            "epoch: 100  loss: 0.4507179790799826  params: [-1.75192401  0.92907816 -0.84460998]  gradients: [ 8.10251558 -8.7125125   9.26580598]\n",
            "epoch: 200  loss: 0.38956828309520114  params: [-2.03075429  1.43550321 -1.35112591]  gradients: [ 2.26388175 -6.51764316  6.36945867]\n",
            "epoch: 300  loss: 0.3601751804554664  params: [-2.1444071   1.81310562 -1.71860102]  gradients: [ 1.36669463 -4.94335245  4.79340488]\n",
            "epoch: 400  loss: 0.34281285332575  params: [-2.22452032  2.10584023 -2.00161491]  gradients: [ 1.07463289 -3.91710204  3.7755772 ]\n",
            "epoch: 500  loss: 0.3315997885090201  params: [-2.2899978   2.34179495 -2.22845116]  gradients: [ 0.90169528 -3.20881177  3.07681014]\n",
            "epoch: 600  loss: 0.3239133511743186  params: [-2.34560386  2.53751633 -2.41570385]  gradients: [ 0.77312778 -2.69320892  2.57103827]\n",
            "epoch: 700  loss: 0.31841326315981666  params: [-2.39358906  2.70332688 -2.57369266]  gradients: [ 0.67111139 -2.30179294  2.18913032]\n",
            "epoch: 800  loss: 0.3143485517268637  params: [-2.43544428  2.84605511 -2.7092134 ]  gradients: [ 0.58810338 -1.99482118  1.8910572 ]\n",
            "epoch: 900  loss: 0.31126838229814024  params: [-2.47227098  2.97044544 -2.82696615]  gradients: [ 0.51947878 -1.74784013  1.65227649]\n"
          ]
        },
        {
          "output_type": "execute_result",
          "data": {
            "text/plain": [
              "array([-2.50460511,  3.07889825, -2.92936314])"
            ]
          },
          "metadata": {},
          "execution_count": 253
        }
      ],
      "source": [
        "new_param_bgd = gradient_descent(X_train, y_train, batch_size=X_train.shape[0]) # batch gradient descent (batch size: 전체 데이터셋)\n",
        "new_param_bgd"
      ]
    },
    {
      "cell_type": "code",
      "source": [
        "# 모델 정확도\n",
        "y_predict = []\n",
        "for i in range(len(y_test)):\n",
        "    p = logistic(X_test.iloc[i,:], new_param_bgd)\n",
        "    if p> 0.5 : # 임계값 0.5로 설정\n",
        "        y_predict.append(1)\n",
        "    else :\n",
        "        y_predict.append(0)\n",
        "\n",
        "tn, fp, fn, tp = confusion_matrix(y_test, y_predict).ravel()\n",
        "accuracy = (tp+tn) / (tp+fn+fp+tn)\n",
        "print(\"accuracy:\",accuracy)"
      ],
      "metadata": {
        "colab": {
          "base_uri": "https://localhost:8080/"
        },
        "id": "h-rXLA6KkK1n",
        "outputId": "262adc8e-50d7-474c-e5f6-f9bbb815606b"
      },
      "execution_count": null,
      "outputs": [
        {
          "output_type": "stream",
          "name": "stdout",
          "text": [
            "accuracy: 0.88\n"
          ]
        }
      ]
    },
    {
      "cell_type": "code",
      "execution_count": null,
      "metadata": {
        "id": "x0H5tnauLMa-",
        "colab": {
          "base_uri": "https://localhost:8080/"
        },
        "outputId": "06bcb017-b23d-4b8b-db91-c5f83c6f7d90"
      },
      "outputs": [
        {
          "output_type": "stream",
          "name": "stdout",
          "text": [
            "epoch: 0  loss: 0.3066597962207803  params: [-1.80387661  1.09298074 -1.22656669]  gradients: [0.26409909 0.14372297 0.18581767]\n",
            "epoch: 100  loss: 0.07837831463551066  params: [-2.93032567  4.17501946 -4.06769109]  gradients: [0.07538543 0.04102483 0.05304049]\n",
            "epoch: 200  loss: 0.07837416195685158  params: [-2.9303681   4.1751431  -4.06780374]  gradients: [0.0753816  0.04102274 0.05303779]\n",
            "epoch: 300  loss: 0.07837416161020425  params: [-2.9303681   4.17514311 -4.06780375]  gradients: [0.07538159 0.04102274 0.05303779]\n",
            "epoch: 400  loss: 0.07837416161017663  params: [-2.9303681   4.17514311 -4.06780375]  gradients: [0.07538159 0.04102274 0.05303779]\n",
            "epoch: 500  loss: 0.07837416161017663  params: [-2.9303681   4.17514311 -4.06780375]  gradients: [0.07538159 0.04102274 0.05303779]\n",
            "epoch: 600  loss: 0.07837416161017663  params: [-2.9303681   4.17514311 -4.06780375]  gradients: [0.07538159 0.04102274 0.05303779]\n",
            "epoch: 700  loss: 0.07837416161017663  params: [-2.9303681   4.17514311 -4.06780375]  gradients: [0.07538159 0.04102274 0.05303779]\n",
            "epoch: 800  loss: 0.07837416161017663  params: [-2.9303681   4.17514311 -4.06780375]  gradients: [0.07538159 0.04102274 0.05303779]\n",
            "epoch: 900  loss: 0.07837416161017663  params: [-2.9303681   4.17514311 -4.06780375]  gradients: [0.07538159 0.04102274 0.05303779]\n"
          ]
        },
        {
          "output_type": "execute_result",
          "data": {
            "text/plain": [
              "array([-2.9303681 ,  4.17514311, -4.06780375])"
            ]
          },
          "metadata": {},
          "execution_count": 258
        }
      ],
      "source": [
        "new_param_sgd = gradient_descent(X_train, y_train, batch_size=1) # stochastic gradient descent (batch size: 1)\n",
        "new_param_sgd"
      ]
    },
    {
      "cell_type": "code",
      "source": [
        "# 모델 정확도\n",
        "y_predict = []\n",
        "for i in range(len(y_test)):\n",
        "    p = logistic(X_test.iloc[i,:], new_param_sgd)\n",
        "    if p> 0.5 : # 임계값 0.5로 설정\n",
        "        y_predict.append(1)\n",
        "    else :\n",
        "        y_predict.append(0)\n",
        "\n",
        "tn, fp, fn, tp = confusion_matrix(y_test, y_predict).ravel()\n",
        "accuracy = (tp+tn) / (tp+fn+fp+tn)\n",
        "print(\"accuracy:\",accuracy)"
      ],
      "metadata": {
        "colab": {
          "base_uri": "https://localhost:8080/"
        },
        "id": "P-Sp2nV7jykQ",
        "outputId": "8864f928-c98c-4575-946e-ea3d0765c4c8"
      },
      "execution_count": null,
      "outputs": [
        {
          "output_type": "stream",
          "name": "stdout",
          "text": [
            "accuracy: 0.94\n"
          ]
        }
      ]
    },
    {
      "cell_type": "code",
      "execution_count": null,
      "metadata": {
        "id": "iGfXGoJaLMa-",
        "colab": {
          "base_uri": "https://localhost:8080/"
        },
        "outputId": "02c7cffa-727e-4649-db62-fb8ab1725c32"
      },
      "outputs": [
        {
          "output_type": "stream",
          "name": "stdout",
          "text": [
            "epoch: 0  loss: 0.5741809894506735  params: [-0.04712887  0.08662282  0.47853012]  gradients: [3.86240017 3.37539689 4.32080004]\n",
            "epoch: 100  loss: 0.08349838853422051  params: [-2.47943593  2.98051608 -2.84425241]  gradients: [0.53841711 0.76321958 0.98256195]\n",
            "epoch: 200  loss: 0.07157869960245086  params: [-2.68380478  3.65323844 -3.47482013]  gradients: [0.50977979 0.74556474 0.89393309]\n",
            "epoch: 300  loss: 0.06742453160965807  params: [-2.77331881  3.9436952  -3.74434275]  gradients: [0.50266194 0.74072896 0.8637826 ]\n",
            "epoch: 400  loss: 0.06554744248747771  params: [-2.81805778  4.08823935 -3.87788712]  gradients: [0.50001312 0.73883842 0.85032951]\n",
            "epoch: 500  loss: 0.06460585456640601  params: [-2.84166896  4.16437828 -3.94808102]  gradients: [0.49882449 0.73796612 0.84362577]\n",
            "epoch: 600  loss: 0.06410928625121277  params: [-2.85446064  4.20558845 -3.98603074]  gradients: [0.4982362  0.73752749 0.84010305]\n",
            "epoch: 700  loss: 0.06384055504316269  params: [-2.86148516  4.22820759 -4.00684767]  gradients: [0.49792907 0.73729643 0.83820038]\n",
            "epoch: 800  loss: 0.06369309887080844  params: [-2.86537071  4.24071579 -4.01835544]  gradients: [0.49776391 0.73717154 0.83715749]\n",
            "epoch: 900  loss: 0.06361157516827488  params: [-2.86752849  4.24766098 -4.02474397]  gradients: [0.49767363 0.73710308 0.83658126]\n"
          ]
        },
        {
          "output_type": "execute_result",
          "data": {
            "text/plain": [
              "array([-2.86872053,  4.25149745, -4.02827258])"
            ]
          },
          "metadata": {},
          "execution_count": 259
        }
      ],
      "source": [
        "new_param_mgd = gradient_descent(X_train, y_train) # minibatch gradient (batch size: 16)\n",
        "new_param_mgd"
      ]
    },
    {
      "cell_type": "code",
      "source": [
        "# 모델 정확도\n",
        "y_predict = []\n",
        "for i in range(len(y_test)):\n",
        "    p = logistic(X_test.iloc[i,:], new_param_mgd)\n",
        "    if p> 0.5 : # 임계값 0.5로 설정\n",
        "        y_predict.append(1)\n",
        "    else :\n",
        "        y_predict.append(0)\n",
        "\n",
        "tn, fp, fn, tp = confusion_matrix(y_test, y_predict).ravel()\n",
        "accuracy = (tp+tn) / (tp+fn+fp+tn)\n",
        "print(\"accuracy:\",accuracy)"
      ],
      "metadata": {
        "colab": {
          "base_uri": "https://localhost:8080/"
        },
        "id": "74dHdVt5j0g8",
        "outputId": "73f50f0d-fb65-4369-e6aa-3ea481dfdaf1"
      },
      "execution_count": null,
      "outputs": [
        {
          "output_type": "stream",
          "name": "stdout",
          "text": [
            "accuracy: 0.92\n"
          ]
        }
      ]
    },
    {
      "cell_type": "markdown",
      "source": [
        "## Hyperparameter 조정\n",
        "### mini batch size = 32, 64, 128"
      ],
      "metadata": {
        "id": "4_X93vg5Vzgb"
      }
    },
    {
      "cell_type": "code",
      "source": [
        "new_param_mgd32 = gradient_descent(X_train, y_train, batch_size=32) # minibatch gradient (bah size: 32)\n",
        "new_param_mgd32"
      ],
      "metadata": {
        "colab": {
          "base_uri": "https://localhost:8080/"
        },
        "id": "vpKoJ7U_fGOG",
        "outputId": "9713cf5e-f69f-4b52-a5bd-726650646b9e"
      },
      "execution_count": null,
      "outputs": [
        {
          "output_type": "stream",
          "name": "stdout",
          "text": [
            "epoch: 0  loss: 0.7154747926016725  params: [-0.15948152  0.39404816  0.0914636 ]  gradients: [8.94033014 3.94999686 8.62347981]\n",
            "epoch: 100  loss: 0.23842286253151568  params: [-2.27359257  2.27786196 -2.17191993]  gradients: [0.49589228 0.09108943 1.18346201]\n",
            "epoch: 200  loss: 0.21805887610611074  params: [-2.4873706   3.01449145 -2.87278342]  gradients: [0.87005295 0.20560616 0.60096461]\n",
            "epoch: 300  loss: 0.21173849408677692  params: [-2.60848985  3.41612463 -3.25013288]  gradients: [1.06725985 0.26538682 0.35885354]\n",
            "epoch: 400  loss: 0.20913185123801695  params: [-2.68517149  3.66742507 -3.48458462]  gradients: [1.18623504 0.30080162 0.22762332]\n",
            "epoch: 500  loss: 0.20789514644421142  params: [-2.73666061  3.83523927 -3.64046404]  gradients: [1.26339812 0.32339984 0.14736183]\n",
            "epoch: 600  loss: 0.2072550463002713  params: [-2.77244927  3.95151762 -3.74816093]  gradients: [1.3156929  0.33851505 0.09486929]\n",
            "epoch: 700  loss: 0.20690250390156845  params: [-2.79787488  4.03396335 -3.82437074]  gradients: [1.35216341 0.34894884 0.05909321]\n",
            "epoch: 800  loss: 0.20669862410254844  params: [-2.81620278  4.09331566 -3.87915733]  gradients: [1.37809728 0.35631004 0.0340442 ]\n",
            "epoch: 900  loss: 0.20657579797844083  params: [-2.8295471   4.13649003 -3.91897074]  gradients: [1.39679054 0.36158434 0.01618161]\n"
          ]
        },
        {
          "output_type": "execute_result",
          "data": {
            "text/plain": [
              "array([-2.83924781,  4.1678557 , -3.94787388])"
            ]
          },
          "metadata": {},
          "execution_count": 285
        }
      ]
    },
    {
      "cell_type": "code",
      "source": [
        "# 모델 성능\n",
        "y_predict = []\n",
        "for i in range(len(y_test)):\n",
        "    p = logistic(X_test.iloc[i,:], new_param_mgd32)\n",
        "    if p> 0.5 : # 임계값 0.5로 설정\n",
        "        y_predict.append(1)\n",
        "    else :\n",
        "        y_predict.append(0)\n",
        "\n",
        "tn, fp, fn, tp = confusion_matrix(y_test, y_predict).ravel()\n",
        "accuracy = (tp+tn) / (tp+fn+fp+tn)\n",
        "print(\"accuracy:\",accuracy)"
      ],
      "metadata": {
        "colab": {
          "base_uri": "https://localhost:8080/"
        },
        "id": "aDU1bsG3iFPE",
        "outputId": "80ad9219-4f0d-41c5-f038-cb20464f15d2"
      },
      "execution_count": null,
      "outputs": [
        {
          "output_type": "stream",
          "name": "stdout",
          "text": [
            "accuracy: 0.94\n"
          ]
        }
      ]
    },
    {
      "cell_type": "code",
      "source": [
        "new_param_mgd64 = gradient_descent(X_train, y_train, batch_size=64) # minibatch gradient (batch size: 64)\n",
        "new_param_mgd64"
      ],
      "metadata": {
        "colab": {
          "base_uri": "https://localhost:8080/"
        },
        "id": "L2dTminagviO",
        "outputId": "e2908101-45b5-416a-a768-5d784e738e31"
      },
      "execution_count": null,
      "outputs": [
        {
          "output_type": "stream",
          "name": "stdout",
          "text": [
            "epoch: 0  loss: 0.5571634621398871  params: [0.52973142 0.6598081  0.5646043 ]  gradients: [10.99654396  5.67833239 10.89373188]\n",
            "epoch: 100  loss: 0.13729040298900191  params: [-2.06785434  1.54651082 -1.46109527]  gradients: [0.19596504 0.00511738 2.02366232]\n",
            "epoch: 200  loss: 0.11966315835594882  params: [-2.26707834  2.25500194 -2.14655575]  gradients: [0.48109335 0.09136021 1.21192166]\n",
            "epoch: 300  loss: 0.11266177038727418  params: [-2.39292554  2.69585428 -2.56784153]  gradients: [0.70496322 0.16044682 0.83522749]\n",
            "epoch: 400  loss: 0.10913713610027663  params: [-2.48388588  3.00404296 -2.85987742]  gradients: [0.86015232 0.20829671 0.61592469]\n",
            "epoch: 500  loss: 0.10712958741641973  params: [-2.55265573  3.23334916 -3.07586145]  gradients: [0.97352961 0.24296961 0.47192351]\n",
            "epoch: 600  loss: 0.10589623235581877  params: [-2.60627574  3.41057749 -3.24204634]  gradients: [1.05949937 0.26900122 0.37030091]\n",
            "epoch: 700  loss: 0.10509844013229624  params: [-2.6490161   3.55107667 -3.37333765]  gradients: [1.12643552 0.28906941 0.29510804]\n",
            "epoch: 800  loss: 0.10456260303815526  params: [-2.6836416   3.66447957 -3.47902197]  gradients: [1.17959036 0.30485808 0.23759676]\n",
            "epoch: 900  loss: 0.10419214508004959  params: [-2.71203865  3.75723619 -3.56527835]  gradients: [1.2224467  0.31748006 0.1925299 ]\n"
          ]
        },
        {
          "output_type": "execute_result",
          "data": {
            "text/plain": [
              "array([-2.73533459,  3.83317922, -3.63577609])"
            ]
          },
          "metadata": {},
          "execution_count": 287
        }
      ]
    },
    {
      "cell_type": "code",
      "source": [
        "# 모델 성능\n",
        "y_predict = []\n",
        "for i in range(len(y_test)):\n",
        "    p = logistic(X_test.iloc[i,:], new_param_mgd64)\n",
        "    if p> 0.5 : # 임계값 0.5로 설정\n",
        "        y_predict.append(1)\n",
        "    else :\n",
        "        y_predict.append(0)\n",
        "\n",
        "tn, fp, fn, tp = confusion_matrix(y_test, y_predict).ravel()\n",
        "accuracy = (tp+tn) / (tp+fn+fp+tn)\n",
        "print(\"accuracy:\",accuracy)"
      ],
      "metadata": {
        "colab": {
          "base_uri": "https://localhost:8080/"
        },
        "id": "exn8NrU4iguM",
        "outputId": "b99276e4-1a6b-4118-c6d0-d781227bed72"
      },
      "execution_count": null,
      "outputs": [
        {
          "output_type": "stream",
          "name": "stdout",
          "text": [
            "accuracy: 0.94\n"
          ]
        }
      ]
    },
    {
      "cell_type": "code",
      "source": [
        "new_param_mgd128 = gradient_descent(X_train, y_train, batch_size=128) # minibatch gradient (batch size: 128)\n",
        "new_param_mgd128"
      ],
      "metadata": {
        "colab": {
          "base_uri": "https://localhost:8080/"
        },
        "id": "jsn1tNwng4BT",
        "outputId": "a3cafb3c-6259-43e3-a477-8b19ca755aaa"
      },
      "execution_count": null,
      "outputs": [
        {
          "output_type": "stream",
          "name": "stdout",
          "text": [
            "epoch: 0  loss: 0.2789593720922235  params: [0.59558905 0.93522736 0.37513373]  gradients: [11.22288115  5.73431407 10.67737464]\n",
            "epoch: 100  loss: 0.07726966630875054  params: [-1.79768849  1.11878118 -1.02959399]  gradients: [0.80046431 0.22621467 2.76776661]\n",
            "epoch: 200  loss: 0.06732571609565129  params: [-2.08324446  1.63343099 -1.54426127]  gradients: [0.2569434  0.02240092 1.9039713 ]\n",
            "epoch: 300  loss: 0.062346386408242506  params: [-2.19783639  2.01334576 -1.91254952]  gradients: [0.37093478 0.05791099 1.45627374]\n",
            "epoch: 400  loss: 0.059378080471517436  params: [-2.2794986   2.30478945 -2.19310177]  gradients: [0.50983833 0.100903   1.16570378]\n",
            "epoch: 500  loss: 0.05744994867871639  params: [-2.3457581   2.53772454 -2.41603977]  gradients: [0.6271993  0.13731676 0.96191401]\n",
            "epoch: 600  loss: 0.056121021616366784  params: [-2.4013655   2.729486   -2.59869255]  gradients: [0.72427295 0.16744528 0.81079589]\n",
            "epoch: 700  loss: 0.055165620932952374  params: [-2.44880475  2.89077421 -2.75170596]  gradients: [0.80547416 0.19258816 0.69404301]\n",
            "epoch: 800  loss: 0.054456865019100374  params: [-2.48975709  3.02862764 -2.8820457 ]  gradients: [0.87430408 0.21381634 0.60102894]\n",
            "epoch: 900  loss: 0.05391816691664281  params: [-2.52544982  3.14792128 -2.99451211]  gradients: [0.93331843 0.23193058 0.52516114]\n"
          ]
        },
        {
          "output_type": "execute_result",
          "data": {
            "text/plain": [
              "array([-2.55651311,  3.25119602, -3.09163532])"
            ]
          },
          "metadata": {},
          "execution_count": 278
        }
      ]
    },
    {
      "cell_type": "code",
      "source": [
        "# 모델 성능\n",
        "y_predict = []\n",
        "for i in range(len(y_test)):\n",
        "    p = logistic(X_test.iloc[i,:], new_param_mgd128)\n",
        "    if p> 0.5 : # 임계값 0.5로 설정\n",
        "        y_predict.append(1)\n",
        "    else :\n",
        "        y_predict.append(0)\n",
        "\n",
        "tn, fp, fn, tp = confusion_matrix(y_test, y_predict).ravel()\n",
        "accuracy = (tp+tn) / (tp+fn+fp+tn)\n",
        "print(\"accuracy:\",accuracy)"
      ],
      "metadata": {
        "colab": {
          "base_uri": "https://localhost:8080/"
        },
        "id": "hwEXEq5Ni4q6",
        "outputId": "e5ea0629-c4bc-45a1-a6f5-ee1d0f95253b"
      },
      "execution_count": null,
      "outputs": [
        {
          "output_type": "stream",
          "name": "stdout",
          "text": [
            "accuracy: 0.92\n"
          ]
        }
      ]
    },
    {
      "cell_type": "markdown",
      "source": [
        "### learning_rate = 1e-2, 1e-4"
      ],
      "metadata": {
        "id": "2VtnHfnHgp9P"
      }
    },
    {
      "cell_type": "code",
      "source": [
        "new_param_mgd1e_2 = gradient_descent(X_train, y_train, learning_rate=1e-2, batch_size=64)\n",
        "new_param_mgd1e_2"
      ],
      "metadata": {
        "colab": {
          "base_uri": "https://localhost:8080/"
        },
        "id": "jU-1SGdhf4dQ",
        "outputId": "e94d558b-a846-474d-fb33-0489db903dd2"
      },
      "execution_count": null,
      "outputs": [
        {
          "output_type": "stream",
          "name": "stdout",
          "text": [
            "epoch: 0  loss: 0.66053577515376  params: [0.83630063 0.51990988 0.95662194]  gradients: [11.35054573  5.98095162 11.47360679]\n",
            "epoch: 100  loss: 0.3851906169798399  params: [-0.22614186  0.44699805  0.37260823]  gradients: [ 8.56926512  4.75672734 10.06170882]\n",
            "epoch: 200  loss: 0.24613209181526852  params: [-0.9447842   0.44777706 -0.08362165]  gradients: [4.90009721 2.53988937 6.98079612]\n",
            "epoch: 300  loss: 0.19781381398508543  params: [-1.36255343  0.55102738 -0.37613953]  gradients: [2.49785561 1.10435513 4.88687032]\n",
            "epoch: 400  loss: 0.17822964524877055  params: [-1.60499106  0.69325605 -0.58366453]  gradients: [1.29816441 0.48028043 3.88080976]\n",
            "epoch: 500  loss: 0.16721034644330768  params: [-1.75411777  0.8398628  -0.75229771]  gradients: [0.69802425 0.20705873 3.33131335]\n",
            "epoch: 600  loss: 0.15946578012381782  params: [-1.85193368  0.97999118 -0.89919781]  gradients: [0.39261834 0.0811212  2.97234862]\n",
            "epoch: 700  loss: 0.1533807604506761  params: [-1.92032184  1.11087569 -1.03121084]  gradients: [0.24069985 0.02246867 2.70559712]\n",
            "epoch: 800  loss: 0.14834773849105498  params: [-1.97119723  1.23232149 -1.15162604]  gradients: [ 0.17231337 -0.00309325  2.49118746]\n",
            "epoch: 900  loss: 0.14407964490106626  params: [-2.01128957  1.34493981 -1.26237552]  gradients: [ 0.15055673 -0.01153418  2.3108654 ]\n"
          ]
        },
        {
          "output_type": "execute_result",
          "data": {
            "text/plain": [
              "array([-2.04420274,  1.44854343, -1.36380995])"
            ]
          },
          "metadata": {},
          "execution_count": 291
        }
      ]
    },
    {
      "cell_type": "code",
      "source": [
        "# 모델 정확도\n",
        "y_predict = []\n",
        "for i in range(len(y_test)):\n",
        "    p = logistic(X_test.iloc[i,:], new_param_mgd1e_2)\n",
        "    if p> 0.5 : # 임계값 0.5로 설정\n",
        "        y_predict.append(1)\n",
        "    else :\n",
        "        y_predict.append(0)\n",
        "\n",
        "tn, fp, fn, tp = confusion_matrix(y_test, y_predict).ravel()\n",
        "accuracy = (tp+tn) / (tp+fn+fp+tn)\n",
        "print(\"accuracy:\",accuracy)"
      ],
      "metadata": {
        "colab": {
          "base_uri": "https://localhost:8080/"
        },
        "id": "vaQeNdUMjr8d",
        "outputId": "4c53c028-fe8c-46bb-f1e7-bb16baa41d13"
      },
      "execution_count": null,
      "outputs": [
        {
          "output_type": "stream",
          "name": "stdout",
          "text": [
            "accuracy: 0.82\n"
          ]
        }
      ]
    },
    {
      "cell_type": "code",
      "source": [
        "new_param_mgd1e_4 = gradient_descent(X_train, y_train, learning_rate=1e-4, batch_size=64)\n",
        "new_param_mgd1e_4"
      ],
      "metadata": {
        "colab": {
          "base_uri": "https://localhost:8080/"
        },
        "id": "QP1WtIBOhtyK",
        "outputId": "04ddc65b-0f20-4e30-e3e6-be566b9743ec"
      },
      "execution_count": null,
      "outputs": [
        {
          "output_type": "stream",
          "name": "stdout",
          "text": [
            "epoch: 0  loss: 0.6130193269874047  params: [0.73571346 0.1704104  0.96966475]  gradients: [11.2162022   5.48578758 11.03428077]\n",
            "epoch: 100  loss: 0.6099592457020573  params: [0.72344632 0.17063129 0.96426139]  gradients: [11.19165552  5.47949871 11.03174736]\n",
            "epoch: 200  loss: 0.6069080136602544  params: [0.71120978 0.170846   0.95885288]  gradients: [11.16695872  5.47306922 11.02901597]\n",
            "epoch: 300  loss: 0.6038657133751435  params: [0.69900397 0.17105466 0.95343939]  gradients: [11.14211101  5.46649842 11.026085  ]\n",
            "epoch: 400  loss: 0.6008324276678331  params: [0.686829   0.17125738 0.94802108]  gradients: [11.11711162  5.45978562 11.02295285]\n",
            "epoch: 500  loss: 0.5978082396518204  params: [0.67468499 0.17145431 0.94259812]  gradients: [11.09195981  5.45293012 11.01961793]\n",
            "epoch: 600  loss: 0.5947932327169301  params: [0.66257204 0.17164558 0.93717067]  gradients: [11.06665482  5.44593126 11.01607863]\n",
            "epoch: 700  loss: 0.5917874905127726  params: [0.65049029 0.1718313  0.9317389 ]  gradients: [11.04119595  5.43878835 11.01233337]\n",
            "epoch: 800  loss: 0.5887910969317112  params: [0.63843984 0.17201163 0.92630298]  gradients: [11.01558248  5.43150074 11.00838056]\n",
            "epoch: 900  loss: 0.5858041360913343  params: [0.62642081 0.17218669 0.92086309]  gradients: [10.98981372  5.42406777 11.00421863]\n"
          ]
        },
        {
          "output_type": "execute_result",
          "data": {
            "text/plain": [
              "array([0.61455305, 0.17235493, 0.91547386])"
            ]
          },
          "metadata": {},
          "execution_count": 293
        }
      ]
    },
    {
      "cell_type": "code",
      "source": [
        "# 모델 정확도\n",
        "y_predict = []\n",
        "for i in range(len(y_test)):\n",
        "    p = logistic(X_test.iloc[i,:], new_param_mgd1e_4)\n",
        "    if p> 0.5 : # 임계값 0.5로 설정\n",
        "        y_predict.append(1)\n",
        "    else :\n",
        "        y_predict.append(0)\n",
        "\n",
        "tn, fp, fn, tp = confusion_matrix(y_test, y_predict).ravel()\n",
        "accuracy = (tp+tn) / (tp+fn+fp+tn)\n",
        "print(\"accuracy:\",accuracy)"
      ],
      "metadata": {
        "colab": {
          "base_uri": "https://localhost:8080/"
        },
        "id": "XRbVV3uskhNL",
        "outputId": "b5fe8d40-9d8f-4730-d213-cb63a685d59e"
      },
      "execution_count": null,
      "outputs": [
        {
          "output_type": "stream",
          "name": "stdout",
          "text": [
            "accuracy: 0.2\n"
          ]
        }
      ]
    },
    {
      "cell_type": "markdown",
      "source": [
        "### num_epoch: 1500, 2000"
      ],
      "metadata": {
        "id": "GYe6d9oRk2cB"
      }
    },
    {
      "cell_type": "code",
      "source": [
        "new_param_mgd1500 = gradient_descent(X_train, y_train, num_epoch=1500, learning_rate=0.1, batch_size=64)\n",
        "new_param_mgd1500"
      ],
      "metadata": {
        "colab": {
          "base_uri": "https://localhost:8080/"
        },
        "id": "j2fjQdDok1XZ",
        "outputId": "39e5d540-b941-4805-dd96-a026a31154c4"
      },
      "execution_count": null,
      "outputs": [
        {
          "output_type": "stream",
          "name": "stdout",
          "text": [
            "epoch: 0  loss: 0.5823233680921039  params: [0.62069592 0.61593035 0.64207552]  gradients: [11.16834786  5.71533459 10.97693803]\n",
            "epoch: 100  loss: 0.13799529671348562  params: [-2.06268777  1.52433213 -1.43946236]  gradients: [0.18566324 0.00225386 2.05473063]\n",
            "epoch: 200  loss: 0.1199013551684419  params: [-2.26361833  2.24242768 -2.13447812]  gradients: [0.47461757 0.08937793 1.22395638]\n",
            "epoch: 300  loss: 0.11277263415702482  params: [-2.39047194  2.6874356  -2.55983561]  gradients: [0.70068709 0.1591253  0.84168255]\n",
            "epoch: 400  loss: 0.10919744370433268  params: [-2.48206436  2.99793202 -2.85410639]  gradients: [0.85710239 0.20735978 0.61997222]\n",
            "epoch: 500  loss: 0.10716553353566112  params: [-2.55125424  3.22870036 -3.07149363]  gradients: [0.97125357 0.24227702 0.47469752]\n",
            "epoch: 600  loss: 0.10591898895006316  params: [-2.60516938  3.40693218 -3.23863464]  gradients: [1.05774768 0.26847352 0.37231285]\n",
            "epoch: 700  loss: 0.10511347904532367  params: [-2.64812625  3.54815758 -3.37061389]  gradients: [1.12505668 0.28865802 0.29662492]\n",
            "epoch: 800  loss: 0.10457286878836519  params: [-2.68291582  3.66210608 -3.47681262]  gradients: [1.17848626 0.30453158 0.23877275]\n",
            "epoch: 900  loss: 0.10419933371264223  params: [-2.71144035  3.75528403 -3.56346471]  gradients: [1.22155071 0.31721723 0.1934608 ]\n",
            "epoch: 1000  loss: 0.10393516199740722  params: [-2.73505162  3.83225755 -3.63492117]  gradients: [1.25667988 0.32748652 0.15731046]\n",
            "epoch: 1100  loss: 0.10374470104521358  params: [-2.75474276  3.89635167 -3.6943355 ]  gradients: [1.28561234 0.33588702 0.12805472]\n",
            "epoch: 1200  loss: 0.1036051130174183  params: [-2.7712631   3.95005897 -3.744062  ]  gradients: [1.30962722 0.34281795 0.10411037]\n",
            "epoch: 1300  loss: 0.1035013353116022  params: [-2.78519043  3.99529182 -3.7859006 ]  gradients: [1.32968771 0.34857714 0.08433535]\n",
            "epoch: 1400  loss: 0.1034231919420453  params: [-2.7969783   4.0335454  -3.82125424]  gradients: [1.34653336 0.35339105 0.06788357]\n"
          ]
        },
        {
          "output_type": "execute_result",
          "data": {
            "text/plain": [
              "array([-2.80689565,  4.06570766, -3.85095762])"
            ]
          },
          "metadata": {},
          "execution_count": 304
        }
      ]
    },
    {
      "cell_type": "code",
      "source": [
        "# 모델 정확도\n",
        "y_predict = []\n",
        "for i in range(len(y_test)):\n",
        "    p = logistic(X_test.iloc[i,:], new_param_mgd1500)\n",
        "    if p> 0.5 : # 임계값 0.5로 설정\n",
        "        y_predict.append(1)\n",
        "    else :\n",
        "        y_predict.append(0)\n",
        "\n",
        "tn, fp, fn, tp = confusion_matrix(y_test, y_predict).ravel()\n",
        "accuracy = (tp+tn) / (tp+fn+fp+tn)\n",
        "print(\"accuracy:\",accuracy)"
      ],
      "metadata": {
        "colab": {
          "base_uri": "https://localhost:8080/"
        },
        "id": "PP_iqE6Qm_ZY",
        "outputId": "27ded347-00c0-4e6f-d49e-17382882b427"
      },
      "execution_count": null,
      "outputs": [
        {
          "output_type": "stream",
          "name": "stdout",
          "text": [
            "accuracy: 0.94\n"
          ]
        }
      ]
    },
    {
      "cell_type": "code",
      "source": [
        "new_param_mgd2000 = gradient_descent(X_train, y_train, num_epoch=2000, learning_rate=0.1, batch_size=64)\n",
        "new_param_mgd2000"
      ],
      "metadata": {
        "colab": {
          "base_uri": "https://localhost:8080/"
        },
        "id": "ES04nu3rn7bK",
        "outputId": "3aad9e74-59d7-436f-9ad6-162e470408c3"
      },
      "execution_count": null,
      "outputs": [
        {
          "output_type": "stream",
          "name": "stdout",
          "text": [
            "epoch: 0  loss: 0.5749564578016177  params: [0.68826291 0.15353479 0.76205718]  gradients: [11.35594595  5.10921858 10.41636116]\n",
            "epoch: 100  loss: 0.1412914354075136  params: [-2.04359406  1.42471361 -1.34217004]  gradients: [ 0.12505394 -0.01455476  2.19958574]\n",
            "epoch: 200  loss: 0.12097695976636341  params: [-2.2485639   2.18709519 -2.08128937]  gradients: [0.44581676 0.0805914  1.27789902]\n",
            "epoch: 300  loss: 0.11326668824846325  params: [-2.37977624  2.65065103 -2.52483669]  gradients: [0.68197627 0.15334269 0.8702005 ]\n",
            "epoch: 400  loss: 0.10946427107777913  params: [-2.47414272  2.97133037 -2.82897526]  gradients: [0.84381005 0.20327428 0.63772556]\n",
            "epoch: 500  loss: 0.10732385616679285  params: [-2.54517064  3.20851011 -3.05251851]  gradients: [0.96135679 0.23926364 0.48681232]\n",
            "epoch: 600  loss: 0.10601890702561353  params: [-2.60037335  3.39112461 -3.22383697]  gradients: [1.05014324 0.26618127 0.3810743 ]\n",
            "epoch: 700  loss: 0.10517935987467189  params: [-2.64427258  3.53551311 -3.35881354]  gradients: [1.11907802 0.28687322 0.30321722]\n",
            "epoch: 800  loss: 0.10461776054913846  params: [-2.67977508  3.6518333  -3.46724897]  gradients: [1.17370332 0.30311646 0.243876  ]\n",
            "epoch: 900  loss: 0.10423072486110008  params: [-2.70885274  3.74684006 -3.55561904]  gradients: [1.21767215 0.31607895 0.1974959 ]\n",
            "epoch: 1000  loss: 0.10395758031619216  params: [-2.73290163  3.825254   -3.62842427]  gradients: [1.25350071 0.32656023 0.16055319]\n",
            "epoch: 1100  loss: 0.10376099748168173  params: [-2.75294434  3.89050148 -3.68891566]  gradients: [1.28298376 0.33512604 0.13069397]\n",
            "epoch: 1200  loss: 0.10361714171675329  params: [-2.76975062  3.94514437 -3.73951391]  gradients: [1.30743848 0.34218789 0.10628029]\n",
            "epoch: 1300  loss: 0.10351033437111688  params: [-2.78391284  3.99114416 -3.78206576]  gradients: [1.3278546  0.34805205 0.086134  ]\n",
            "epoch: 1400  loss: 0.10343000641959099  params: [-2.79589522  4.03003178 -3.8180081 ]  gradients: [1.34499069 0.35295108 0.06938443]\n",
            "epoch: 1500  loss: 0.10336888593877872  params: [-2.80606702  4.06302113 -3.84847721]  gradients: [1.35943793 0.35706451 0.05537337]\n",
            "epoch: 1600  loss: 0.10332188164219541  params: [-2.8147257   4.09108738 -3.87438374]  gradients: [1.37166371 0.36053303 0.04359366]\n",
            "epoch: 1700  loss: 0.10328537484949493  params: [-2.82211335  4.11502252 -3.89646581]  gradients: [1.38204205 0.36346828 0.03364823]\n",
            "epoch: 1800  loss: 0.10325675924101865  params: [-2.82842874  4.13547568 -3.9153273 ]  gradients: [1.39087544 0.36595982 0.02522188]\n",
            "epoch: 1900  loss: 0.1032341352851284  params: [-2.83383633  4.15298299 -3.93146625]  gradients: [1.3984107  0.36808023 0.01806146]\n"
          ]
        },
        {
          "output_type": "execute_result",
          "data": {
            "text/plain": [
              "array([-2.83843005,  4.16785122, -3.94516809])"
            ]
          },
          "metadata": {},
          "execution_count": 306
        }
      ]
    },
    {
      "cell_type": "code",
      "source": [
        "# 모델 정확도\n",
        "y_predict = []\n",
        "for i in range(len(y_test)):\n",
        "    p = logistic(X_test.iloc[i,:], new_param_mgd2000)\n",
        "    if p> 0.5 : # 임계값 0.5로 설정\n",
        "        y_predict.append(1)\n",
        "    else :\n",
        "        y_predict.append(0)\n",
        "\n",
        "tn, fp, fn, tp = confusion_matrix(y_test, y_predict).ravel()\n",
        "accuracy = (tp+tn) / (tp+fn+fp+tn)\n",
        "print(\"accuracy:\",accuracy)"
      ],
      "metadata": {
        "colab": {
          "base_uri": "https://localhost:8080/"
        },
        "id": "sGtGfzQbn-3J",
        "outputId": "5e23a1b2-a4a2-4cc8-ca14-2a06290dd7a1"
      },
      "execution_count": null,
      "outputs": [
        {
          "output_type": "stream",
          "name": "stdout",
          "text": [
            "accuracy: 0.94\n"
          ]
        }
      ]
    },
    {
      "cell_type": "markdown",
      "source": [
        "- Hyperparameters(batch_size in case of mgd, learning rate, number of epochs)를 조정한 결과 얻은 최대 성능(정확도)는 0.94였다.\n",
        "- 일차적으로 bgd, sgd, mgd(batch size: 16)을 비교했을 때 bgd의 경우 첫 epoch에서 얻은 loss의 값이 상대적으로 컸지만 다음 epoch부터 loss가 급감하는 모습을 보였고, sgd는 첫 epoch에서 얻은 loss의 값이 작았고 얼마 지나지 않아 gradient와 loss의 값이 학습에 따라 변화하지 않는 모습을 보였다. 이에 학습이 제대로 수행되지 않은 상황을 우려했으나 accuracy가 0.94로 셋 중에 제일 높은 것을 보아 문제 상황(데이터)가 제시하는 문제가 매우 단순하여 모델이 빠르게 수렴한 것으로 추측된다. mgd는 수렴 속도와 성능이 sgd와 bgd의 중간이었다.\n",
        "- 최적의 batch size는 16, 32, 64였으며, batch size가 너무 작거나 크면 성능이 다소 떨어짐을 관찰했다.\n",
        "- 최적의 learning rate는 0.1이었으며, learning rate가 1e-2, 1e-4로 작아지면 loss의 변화율이 매우 작아짐, 즉 수렴 속도가 느려짐은 물론이고 전체적인 성능도 저하됨을 알 수 있었다.\n",
        "- epoch 수를 1000에서 1500, 2000으로 늘려보았지만 성능이 향상되지 않았다. 1000번의 반복 학습으로 모델이 이미 충분히 학습되었기 때문이라고 추측된다."
      ],
      "metadata": {
        "id": "wbeNvdgKprrq"
      }
    },
    {
      "cell_type": "markdown",
      "metadata": {
        "id": "k0oCaZ0tLMa-"
      },
      "source": [
        "### Predict Label"
      ]
    },
    {
      "cell_type": "code",
      "execution_count": null,
      "metadata": {
        "id": "syJE3oiNLMa-"
      },
      "outputs": [],
      "source": [
        "# bgd 활용하여 학습한 parameters로 예측\n",
        "y_predict = []\n",
        "for i in range(len(y_test)):\n",
        "    p = logistic(X_test.iloc[i,:], new_param_bgd)\n",
        "    if p> 0.5 : # 임계값 0.5로 설정\n",
        "        y_predict.append(1)\n",
        "    else :\n",
        "        y_predict.append(0)\n",
        "\n",
        "# 초기에 설정한 random parameters로 예측\n",
        "y_predict_random = []\n",
        "for i in range(len(y_test)):\n",
        "    p = logistic(X_test.iloc[i,:], random_parameters)\n",
        "    if p> 0.5 :\n",
        "        y_predict_random.append(1)\n",
        "    else :\n",
        "        y_predict_random.append(0)"
      ]
    },
    {
      "cell_type": "markdown",
      "metadata": {
        "id": "pZKpFItfLMa-"
      },
      "source": [
        "### Confusion Matrix (default)"
      ]
    },
    {
      "cell_type": "code",
      "execution_count": null,
      "metadata": {
        "id": "W4E1PgX5LMa-"
      },
      "outputs": [],
      "source": [
        "from sklearn.metrics import *"
      ]
    },
    {
      "cell_type": "code",
      "execution_count": null,
      "metadata": {
        "id": "-veTwxu4LMa-",
        "colab": {
          "base_uri": "https://localhost:8080/"
        },
        "outputId": "2cad5344-42c2-4c8a-d7a1-fdc3b5cee5e7"
      },
      "outputs": [
        {
          "output_type": "execute_result",
          "data": {
            "text/plain": [
              "array([[38,  2],\n",
              "       [ 4,  6]])"
            ]
          },
          "metadata": {},
          "execution_count": 256
        }
      ],
      "source": [
        "tn, fp, fn, tp = confusion_matrix(y_test, y_predict).ravel()\n",
        "confusion_matrix(y_test, y_predict)"
      ]
    },
    {
      "cell_type": "code",
      "execution_count": null,
      "metadata": {
        "id": "h4_dW9rDLMa_",
        "colab": {
          "base_uri": "https://localhost:8080/"
        },
        "outputId": "673bf5b8-8b4f-48fb-e6ac-409b2ac47764"
      },
      "outputs": [
        {
          "output_type": "stream",
          "name": "stdout",
          "text": [
            "accuracy: 0.88\n"
          ]
        }
      ],
      "source": [
        "accuracy = (tp+tn) / (tp+fn+fp+tn)\n",
        "print(\"accuracy:\",accuracy)"
      ]
    },
    {
      "cell_type": "markdown",
      "metadata": {
        "id": "XIgqa85aLMa_"
      },
      "source": [
        "## Linear regression\n",
        "### $y = 0.5 + 2.7x$"
      ]
    },
    {
      "cell_type": "markdown",
      "metadata": {
        "id": "qYeIg9QNLMa_"
      },
      "source": [
        "### Data"
      ]
    },
    {
      "cell_type": "code",
      "execution_count": null,
      "metadata": {
        "id": "nv8-yhszLMa_"
      },
      "outputs": [],
      "source": [
        "raw_X = np.random.rand(150)\n",
        "y = 2.7*raw_X + 0.5 + np.random.randn(150)"
      ]
    },
    {
      "cell_type": "code",
      "execution_count": null,
      "metadata": {
        "id": "07XtxLGWLMa_"
      },
      "outputs": [],
      "source": [
        "tmp = np.array([1 for _ in range(150)])\n",
        "X = np.vstack((tmp, raw_X)).T\n",
        "X = pd.DataFrame(X)\n",
        "y = pd.Series(y)"
      ]
    },
    {
      "cell_type": "markdown",
      "metadata": {
        "id": "6oENC02TLMa_"
      },
      "source": [
        "### Estimation"
      ]
    },
    {
      "cell_type": "code",
      "execution_count": null,
      "metadata": {
        "id": "fu578YrKLMa_",
        "colab": {
          "base_uri": "https://localhost:8080/"
        },
        "outputId": "c73f671b-ea2c-416d-b3f1-d0ff9837c302"
      },
      "outputs": [
        {
          "output_type": "execute_result",
          "data": {
            "text/plain": [
              "array([0.37305984, 2.93289293])"
            ]
          },
          "metadata": {},
          "execution_count": 260
        }
      ],
      "source": [
        "#정규방정식\n",
        "theta = np.linalg.inv(np.dot(X.T,X)).dot(X.T).dot(y)\n",
        "theta"
      ]
    },
    {
      "cell_type": "code",
      "execution_count": null,
      "metadata": {
        "id": "M74iqj4WLMa_",
        "colab": {
          "base_uri": "https://localhost:8080/"
        },
        "outputId": "cb0f268f-d27e-427a-ec58-7fffe650a5f5"
      },
      "outputs": [
        {
          "output_type": "stream",
          "name": "stdout",
          "text": [
            "epoch: 0  loss: 0.48302043585102383  params: [0.54399523 0.34320448]  gradients: [ 0.39235964 -0.96331791]\n",
            "epoch: 100  loss: 0.38931867403662557  params: [-0.6566742   2.92651946]  gradients: [0.24401063 0.10083706]\n",
            "epoch: 200  loss: 0.3893109365432629  params: [-0.65970616  2.93256167]  gradients: [0.24225795 0.10268556]\n",
            "epoch: 300  loss: 0.38931091939082935  params: [-0.65971337  2.93257603]  gradients: [0.24225379 0.10268995]\n",
            "epoch: 400  loss: 0.389310919350087  params: [-0.65971338  2.93257606]  gradients: [0.24225378 0.10268996]\n",
            "epoch: 500  loss: 0.3893109193499902  params: [-0.65971338  2.93257606]  gradients: [0.24225378 0.10268996]\n",
            "epoch: 600  loss: 0.38931091934998996  params: [-0.65971338  2.93257606]  gradients: [0.24225378 0.10268996]\n",
            "epoch: 700  loss: 0.38931091934998996  params: [-0.65971338  2.93257606]  gradients: [0.24225378 0.10268996]\n",
            "epoch: 800  loss: 0.38931091934998996  params: [-0.65971338  2.93257606]  gradients: [0.24225378 0.10268996]\n",
            "epoch: 900  loss: 0.38931091934998996  params: [-0.65971338  2.93257606]  gradients: [0.24225378 0.10268996]\n"
          ]
        },
        {
          "output_type": "execute_result",
          "data": {
            "text/plain": [
              "array([-0.65971338,  2.93257606])"
            ]
          },
          "metadata": {},
          "execution_count": 261
        }
      ],
      "source": [
        "#경사하강법\n",
        "new_param = gradient_descent(X, y, model = 'linear')\n",
        "new_param"
      ]
    },
    {
      "cell_type": "code",
      "execution_count": null,
      "metadata": {
        "id": "Ii3zBOwSLMa_"
      },
      "outputs": [],
      "source": [
        "y_hat_NE = theta.dot(X.T)\n",
        "y_hat_GD = new_param.dot(X.T)"
      ]
    },
    {
      "cell_type": "markdown",
      "metadata": {
        "id": "oCVynFSPLMbA"
      },
      "source": [
        "### Visualization\n",
        "시각화를 통해 정규방정식과 경사하강법을 통한 선형회귀를 비교해보세요  \n",
        "(밑의 코드를 실행만 시키면 됩니다. 추가 코드 x)"
      ]
    },
    {
      "cell_type": "code",
      "execution_count": null,
      "metadata": {
        "id": "UoEACrbYLMbA",
        "colab": {
          "base_uri": "https://localhost:8080/",
          "height": 430
        },
        "outputId": "1005dcbd-1cd1-4023-efe1-47d46bc11ea0"
      },
      "outputs": [
        {
          "output_type": "display_data",
          "data": {
            "text/plain": [
              "<Figure size 640x480 with 1 Axes>"
            ],
            "image/png": "[encoded data removed]"
          },
          "metadata": {}
        }
      ],
      "source": [
        "import matplotlib.pyplot as plt\n",
        "plt.plot(X.iloc[:,1], y, '.k') #산점도\n",
        "plt.plot(X.iloc[:,1], y_hat_NE, '-b', label = 'NE') #정규방정식\n",
        "plt.plot(X.iloc[:,1], y_hat_GD, '-r', label = 'GD') #경사하강법\n",
        "plt.legend()\n",
        "plt.show()"
      ]
    },
    {
      "cell_type": "markdown",
      "source": [
        "위의 시각화 결과 linear regression 모형의 경우 parameter 학습 방식 중 Normal Equation 방식이 Gradient Descent보다 적합한 것으로 보인다."
      ],
      "metadata": {
        "id": "NAzWDZfCo_f7"
      }
    }
  ],
  "metadata": {
    "colab": {
      "provenance": [],
      "include_colab_link": true
    },
    "kernelspec": {
      "display_name": "Python 3 (ipykernel)",
      "language": "python",
      "name": "python3"
    },
    "language_info": {
      "codemirror_mode": {
        "name": "ipython",
        "version": 3
      },
      "file_extension": ".py",
      "mimetype": "text/x-python",
      "name": "python",
      "nbconvert_exporter": "python",
      "pygments_lexer": "ipython3",
      "version": "3.10.6"
    }
  },
  "nbformat": 4,
  "nbformat_minor": 0
}