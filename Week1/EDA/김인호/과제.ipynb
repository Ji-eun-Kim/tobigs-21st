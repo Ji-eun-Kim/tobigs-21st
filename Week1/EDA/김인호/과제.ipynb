{
 "cells": [
  {
   "cell_type": "code",
   "execution_count": 1,
   "metadata": {},
   "outputs": [
    {
     "name": "stderr",
     "output_type": "stream",
     "text": [
      "C:\\Users\\r2com\\AppData\\Local\\Temp\\ipykernel_8764\\686016230.py:1: DeprecationWarning: \n",
      "Pyarrow will become a required dependency of pandas in the next major release of pandas (pandas 3.0),\n",
      "(to allow more performant data types, such as the Arrow string type, and better interoperability with other libraries)\n",
      "but was not found to be installed on your system.\n",
      "If this would cause problems for you,\n",
      "please provide us feedback at https://github.com/pandas-dev/pandas/issues/54466\n",
      "        \n",
      "  import pandas as pd\n"
     ]
    }
   ],
   "source": [
    "import pandas as pd\n",
    "import numpy as np\n",
    "import matplotlib.pyplot as plt\n",
    "import seaborn as sns\n",
    "import plotly.express as px"
   ]
  },
  {
   "cell_type": "code",
   "execution_count": 18,
   "metadata": {},
   "outputs": [],
   "source": [
    "# row 생략 없이 출력\n",
    "pd.set_option('display.max_rows', None)\n",
    "# col 생략 없이 출력\n",
    "pd.set_option('display.max_columns', None)"
   ]
  },
  {
   "cell_type": "code",
   "execution_count": 2,
   "metadata": {},
   "outputs": [],
   "source": [
    "df = pd.read_csv('data_file.csv')"
   ]
  },
  {
   "cell_type": "code",
   "execution_count": 19,
   "metadata": {},
   "outputs": [
    {
     "data": {
      "text/html": [
       "<div>\n",
       "<style scoped>\n",
       "    .dataframe tbody tr th:only-of-type {\n",
       "        vertical-align: middle;\n",
       "    }\n",
       "\n",
       "    .dataframe tbody tr th {\n",
       "        vertical-align: top;\n",
       "    }\n",
       "\n",
       "    .dataframe thead th {\n",
       "        text-align: right;\n",
       "    }\n",
       "</style>\n",
       "<table border=\"1\" class=\"dataframe\">\n",
       "  <thead>\n",
       "    <tr style=\"text-align: right;\">\n",
       "      <th></th>\n",
       "      <th>Age</th>\n",
       "      <th>Attrition</th>\n",
       "      <th>BusinessTravel</th>\n",
       "      <th>DailyRate</th>\n",
       "      <th>Department</th>\n",
       "      <th>DistanceFromHome</th>\n",
       "      <th>Education</th>\n",
       "      <th>EducationField</th>\n",
       "      <th>EmployeeCount</th>\n",
       "      <th>EmployeeNumber</th>\n",
       "      <th>EnvironmentSatisfaction</th>\n",
       "      <th>Gender</th>\n",
       "      <th>HourlyRate</th>\n",
       "      <th>JobInvolvement</th>\n",
       "      <th>JobLevel</th>\n",
       "      <th>JobRole</th>\n",
       "      <th>JobSatisfaction</th>\n",
       "      <th>MaritalStatus</th>\n",
       "      <th>MonthlyIncome</th>\n",
       "      <th>MonthlyRate</th>\n",
       "      <th>NumCompaniesWorked</th>\n",
       "      <th>Over18</th>\n",
       "      <th>OverTime</th>\n",
       "      <th>PercentSalaryHike</th>\n",
       "      <th>PerformanceRating</th>\n",
       "      <th>RelationshipSatisfaction</th>\n",
       "      <th>StandardHours</th>\n",
       "      <th>StockOptionLevel</th>\n",
       "      <th>TotalWorkingYears</th>\n",
       "      <th>TrainingTimesLastYear</th>\n",
       "      <th>WorkLifeBalance</th>\n",
       "      <th>YearsAtCompany</th>\n",
       "      <th>YearsInCurrentRole</th>\n",
       "      <th>YearsSinceLastPromotion</th>\n",
       "      <th>YearsWithCurrManager</th>\n",
       "    </tr>\n",
       "  </thead>\n",
       "  <tbody>\n",
       "    <tr>\n",
       "      <th>0</th>\n",
       "      <td>41</td>\n",
       "      <td>Yes</td>\n",
       "      <td>Travel_Rarely</td>\n",
       "      <td>1102</td>\n",
       "      <td>Sales</td>\n",
       "      <td>1</td>\n",
       "      <td>2</td>\n",
       "      <td>Life Sciences</td>\n",
       "      <td>1</td>\n",
       "      <td>1</td>\n",
       "      <td>2</td>\n",
       "      <td>Female</td>\n",
       "      <td>94</td>\n",
       "      <td>3</td>\n",
       "      <td>2</td>\n",
       "      <td>Sales Executive</td>\n",
       "      <td>4</td>\n",
       "      <td>Single</td>\n",
       "      <td>5993</td>\n",
       "      <td>19479</td>\n",
       "      <td>8</td>\n",
       "      <td>Y</td>\n",
       "      <td>Yes</td>\n",
       "      <td>11</td>\n",
       "      <td>3</td>\n",
       "      <td>1</td>\n",
       "      <td>80</td>\n",
       "      <td>0</td>\n",
       "      <td>8</td>\n",
       "      <td>0</td>\n",
       "      <td>1</td>\n",
       "      <td>6</td>\n",
       "      <td>4</td>\n",
       "      <td>0</td>\n",
       "      <td>5</td>\n",
       "    </tr>\n",
       "    <tr>\n",
       "      <th>1</th>\n",
       "      <td>49</td>\n",
       "      <td>No</td>\n",
       "      <td>Travel_Frequently</td>\n",
       "      <td>279</td>\n",
       "      <td>Research &amp; Development</td>\n",
       "      <td>8</td>\n",
       "      <td>1</td>\n",
       "      <td>Life Sciences</td>\n",
       "      <td>1</td>\n",
       "      <td>2</td>\n",
       "      <td>3</td>\n",
       "      <td>Male</td>\n",
       "      <td>61</td>\n",
       "      <td>2</td>\n",
       "      <td>2</td>\n",
       "      <td>Research Scientist</td>\n",
       "      <td>2</td>\n",
       "      <td>Married</td>\n",
       "      <td>5130</td>\n",
       "      <td>24907</td>\n",
       "      <td>1</td>\n",
       "      <td>Y</td>\n",
       "      <td>No</td>\n",
       "      <td>23</td>\n",
       "      <td>4</td>\n",
       "      <td>4</td>\n",
       "      <td>80</td>\n",
       "      <td>1</td>\n",
       "      <td>10</td>\n",
       "      <td>3</td>\n",
       "      <td>3</td>\n",
       "      <td>10</td>\n",
       "      <td>7</td>\n",
       "      <td>1</td>\n",
       "      <td>7</td>\n",
       "    </tr>\n",
       "    <tr>\n",
       "      <th>2</th>\n",
       "      <td>37</td>\n",
       "      <td>Yes</td>\n",
       "      <td>Travel_Rarely</td>\n",
       "      <td>1373</td>\n",
       "      <td>Research &amp; Development</td>\n",
       "      <td>2</td>\n",
       "      <td>2</td>\n",
       "      <td>Other</td>\n",
       "      <td>1</td>\n",
       "      <td>4</td>\n",
       "      <td>4</td>\n",
       "      <td>Male</td>\n",
       "      <td>92</td>\n",
       "      <td>2</td>\n",
       "      <td>1</td>\n",
       "      <td>Laboratory Technician</td>\n",
       "      <td>3</td>\n",
       "      <td>Single</td>\n",
       "      <td>2090</td>\n",
       "      <td>2396</td>\n",
       "      <td>6</td>\n",
       "      <td>Y</td>\n",
       "      <td>Yes</td>\n",
       "      <td>15</td>\n",
       "      <td>3</td>\n",
       "      <td>2</td>\n",
       "      <td>80</td>\n",
       "      <td>0</td>\n",
       "      <td>7</td>\n",
       "      <td>3</td>\n",
       "      <td>3</td>\n",
       "      <td>0</td>\n",
       "      <td>0</td>\n",
       "      <td>0</td>\n",
       "      <td>0</td>\n",
       "    </tr>\n",
       "    <tr>\n",
       "      <th>3</th>\n",
       "      <td>33</td>\n",
       "      <td>No</td>\n",
       "      <td>Travel_Frequently</td>\n",
       "      <td>1392</td>\n",
       "      <td>Research &amp; Development</td>\n",
       "      <td>3</td>\n",
       "      <td>4</td>\n",
       "      <td>Life Sciences</td>\n",
       "      <td>1</td>\n",
       "      <td>5</td>\n",
       "      <td>4</td>\n",
       "      <td>Female</td>\n",
       "      <td>56</td>\n",
       "      <td>3</td>\n",
       "      <td>1</td>\n",
       "      <td>Research Scientist</td>\n",
       "      <td>3</td>\n",
       "      <td>Married</td>\n",
       "      <td>2909</td>\n",
       "      <td>23159</td>\n",
       "      <td>1</td>\n",
       "      <td>Y</td>\n",
       "      <td>Yes</td>\n",
       "      <td>11</td>\n",
       "      <td>3</td>\n",
       "      <td>3</td>\n",
       "      <td>80</td>\n",
       "      <td>0</td>\n",
       "      <td>8</td>\n",
       "      <td>3</td>\n",
       "      <td>3</td>\n",
       "      <td>8</td>\n",
       "      <td>7</td>\n",
       "      <td>3</td>\n",
       "      <td>0</td>\n",
       "    </tr>\n",
       "    <tr>\n",
       "      <th>4</th>\n",
       "      <td>27</td>\n",
       "      <td>No</td>\n",
       "      <td>Travel_Rarely</td>\n",
       "      <td>591</td>\n",
       "      <td>Research &amp; Development</td>\n",
       "      <td>2</td>\n",
       "      <td>1</td>\n",
       "      <td>Medical</td>\n",
       "      <td>1</td>\n",
       "      <td>7</td>\n",
       "      <td>1</td>\n",
       "      <td>Male</td>\n",
       "      <td>40</td>\n",
       "      <td>3</td>\n",
       "      <td>1</td>\n",
       "      <td>Laboratory Technician</td>\n",
       "      <td>2</td>\n",
       "      <td>Married</td>\n",
       "      <td>3468</td>\n",
       "      <td>16632</td>\n",
       "      <td>9</td>\n",
       "      <td>Y</td>\n",
       "      <td>No</td>\n",
       "      <td>12</td>\n",
       "      <td>3</td>\n",
       "      <td>4</td>\n",
       "      <td>80</td>\n",
       "      <td>1</td>\n",
       "      <td>6</td>\n",
       "      <td>3</td>\n",
       "      <td>3</td>\n",
       "      <td>2</td>\n",
       "      <td>2</td>\n",
       "      <td>2</td>\n",
       "      <td>2</td>\n",
       "    </tr>\n",
       "  </tbody>\n",
       "</table>\n",
       "</div>"
      ],
      "text/plain": [
       "   Age Attrition     BusinessTravel  DailyRate              Department  \\\n",
       "0   41       Yes      Travel_Rarely       1102                   Sales   \n",
       "1   49        No  Travel_Frequently        279  Research & Development   \n",
       "2   37       Yes      Travel_Rarely       1373  Research & Development   \n",
       "3   33        No  Travel_Frequently       1392  Research & Development   \n",
       "4   27        No      Travel_Rarely        591  Research & Development   \n",
       "\n",
       "   DistanceFromHome  Education EducationField  EmployeeCount  EmployeeNumber  \\\n",
       "0                 1          2  Life Sciences              1               1   \n",
       "1                 8          1  Life Sciences              1               2   \n",
       "2                 2          2          Other              1               4   \n",
       "3                 3          4  Life Sciences              1               5   \n",
       "4                 2          1        Medical              1               7   \n",
       "\n",
       "   EnvironmentSatisfaction  Gender  HourlyRate  JobInvolvement  JobLevel  \\\n",
       "0                        2  Female          94               3         2   \n",
       "1                        3    Male          61               2         2   \n",
       "2                        4    Male          92               2         1   \n",
       "3                        4  Female          56               3         1   \n",
       "4                        1    Male          40               3         1   \n",
       "\n",
       "                 JobRole  JobSatisfaction MaritalStatus  MonthlyIncome  \\\n",
       "0        Sales Executive                4        Single           5993   \n",
       "1     Research Scientist                2       Married           5130   \n",
       "2  Laboratory Technician                3        Single           2090   \n",
       "3     Research Scientist                3       Married           2909   \n",
       "4  Laboratory Technician                2       Married           3468   \n",
       "\n",
       "   MonthlyRate  NumCompaniesWorked Over18 OverTime  PercentSalaryHike  \\\n",
       "0        19479                   8      Y      Yes                 11   \n",
       "1        24907                   1      Y       No                 23   \n",
       "2         2396                   6      Y      Yes                 15   \n",
       "3        23159                   1      Y      Yes                 11   \n",
       "4        16632                   9      Y       No                 12   \n",
       "\n",
       "   PerformanceRating  RelationshipSatisfaction  StandardHours  \\\n",
       "0                  3                         1             80   \n",
       "1                  4                         4             80   \n",
       "2                  3                         2             80   \n",
       "3                  3                         3             80   \n",
       "4                  3                         4             80   \n",
       "\n",
       "   StockOptionLevel  TotalWorkingYears  TrainingTimesLastYear  \\\n",
       "0                 0                  8                      0   \n",
       "1                 1                 10                      3   \n",
       "2                 0                  7                      3   \n",
       "3                 0                  8                      3   \n",
       "4                 1                  6                      3   \n",
       "\n",
       "   WorkLifeBalance  YearsAtCompany  YearsInCurrentRole  \\\n",
       "0                1               6                   4   \n",
       "1                3              10                   7   \n",
       "2                3               0                   0   \n",
       "3                3               8                   7   \n",
       "4                3               2                   2   \n",
       "\n",
       "   YearsSinceLastPromotion  YearsWithCurrManager  \n",
       "0                        0                     5  \n",
       "1                        1                     7  \n",
       "2                        0                     0  \n",
       "3                        3                     0  \n",
       "4                        2                     2  "
      ]
     },
     "execution_count": 19,
     "metadata": {},
     "output_type": "execute_result"
    }
   ],
   "source": [
    "df.head()"
   ]
  },
  {
   "cell_type": "markdown",
   "metadata": {},
   "source": [
    "### 1. 결측치, 이상치 검토하기"
   ]
  },
  {
   "cell_type": "code",
   "execution_count": 26,
   "metadata": {},
   "outputs": [
    {
     "data": {
      "text/plain": [
       "0"
      ]
     },
     "execution_count": 26,
     "metadata": {},
     "output_type": "execute_result"
    }
   ],
   "source": [
    "sum(df.isnull().sum())"
   ]
  },
  {
   "cell_type": "code",
   "execution_count": 39,
   "metadata": {},
   "outputs": [
    {
     "name": "stdout",
     "output_type": "stream",
     "text": [
      "      Age Attrition     BusinessTravel  DailyRate              Department  \\\n",
      "25     53        No      Travel_Rarely       1282  Research & Development   \n",
      "29     46        No      Travel_Rarely        705                   Sales   \n",
      "45     41       Yes      Travel_Rarely       1360  Research & Development   \n",
      "62     50        No      Travel_Rarely        989  Research & Development   \n",
      "105    59        No         Non-Travel       1420         Human Resources   \n",
      "106    50        No  Travel_Frequently       1115  Research & Development   \n",
      "112    54        No         Non-Travel        142         Human Resources   \n",
      "119    43        No  Travel_Frequently        394                   Sales   \n",
      "123    51        No      Travel_Rarely        684  Research & Development   \n",
      "147    41        No  Travel_Frequently        857  Research & Development   \n",
      "165    50        No      Travel_Rarely       1452  Research & Development   \n",
      "186    40        No      Travel_Rarely        989  Research & Development   \n",
      "187    55        No      Travel_Rarely        692  Research & Development   \n",
      "190    52        No      Travel_Rarely        699  Research & Development   \n",
      "194    45        No         Non-Travel       1195  Research & Development   \n",
      "231    42        No      Travel_Rarely        532  Research & Development   \n",
      "233    50        No      Travel_Rarely        854                   Sales   \n",
      "237    52        No         Non-Travel        771                   Sales   \n",
      "244    45        No      Travel_Rarely        252  Research & Development   \n",
      "257    40        No      Travel_Rarely       1416  Research & Development   \n",
      "263    46        No      Travel_Rarely        488                   Sales   \n",
      "270    55        No      Travel_Rarely        452  Research & Development   \n",
      "279    50        No      Travel_Rarely        797  Research & Development   \n",
      "280    53        No      Travel_Rarely       1070  Research & Development   \n",
      "290    49        No  Travel_Frequently        636  Research & Development   \n",
      "314    39        No      Travel_Rarely        117  Research & Development   \n",
      "326    39        No  Travel_Frequently        672  Research & Development   \n",
      "329    47        No      Travel_Rarely       1482  Research & Development   \n",
      "379    55        No      Travel_Rarely       1311  Research & Development   \n",
      "392    54        No      Travel_Rarely        821  Research & Development   \n",
      "400    39        No  Travel_Frequently       1218  Research & Development   \n",
      "411    60        No      Travel_Rarely        422  Research & Development   \n",
      "417    40        No      Travel_Rarely       1398                   Sales   \n",
      "425    50        No      Travel_Rarely       1099  Research & Development   \n",
      "429    46        No      Travel_Rarely       1009  Research & Development   \n",
      "445    55        No      Travel_Rarely       1117                   Sales   \n",
      "466    41        No      Travel_Rarely       1276                   Sales   \n",
      "473    49        No      Travel_Rarely       1245  Research & Development   \n",
      "477    50        No  Travel_Frequently       1246         Human Resources   \n",
      "489    43        No      Travel_Rarely        782  Research & Development   \n",
      "497    44        No      Travel_Rarely       1315  Research & Development   \n",
      "535    41        No      Travel_Rarely        427         Human Resources   \n",
      "538    41        No      Travel_Rarely        314         Human Resources   \n",
      "561    52        No      Travel_Rarely        621                   Sales   \n",
      "568    55       Yes      Travel_Rarely        725  Research & Development   \n",
      "584    42        No  Travel_Frequently        570  Research & Development   \n",
      "588    50        No      Travel_Rarely        691  Research & Development   \n",
      "592    47        No      Travel_Rarely        202  Research & Development   \n",
      "595    58       Yes      Travel_Rarely        286  Research & Development   \n",
      "609    43        No      Travel_Rarely        589  Research & Development   \n",
      "653    50        No         Non-Travel        881  Research & Development   \n",
      "699    52        No      Travel_Rarely       1053  Research & Development   \n",
      "710    33        No         Non-Travel        722                   Sales   \n",
      "714    50        No      Travel_Rarely       1126  Research & Development   \n",
      "716    41        No  Travel_Frequently        840  Research & Development   \n",
      "741    42        No      Travel_Rarely        265                   Sales   \n",
      "746    41        No         Non-Travel        247  Research & Development   \n",
      "749    52       Yes      Travel_Rarely        266                   Sales   \n",
      "755    45        No      Travel_Rarely       1234                   Sales   \n",
      "766    50        No      Travel_Rarely       1464  Research & Development   \n",
      "770    46        No      Travel_Rarely        430  Research & Development   \n",
      "774    55        No         Non-Travel        444  Research & Development   \n",
      "799    42        No      Travel_Rarely        469  Research & Development   \n",
      "804    48        No         Non-Travel       1262  Research & Development   \n",
      "810    46        No      Travel_Rarely        406                   Sales   \n",
      "814    40        No      Travel_Rarely       1308  Research & Development   \n",
      "851    56        No      Travel_Rarely        718  Research & Development   \n",
      "858    53        No      Travel_Rarely       1223  Research & Development   \n",
      "861    46        No      Travel_Rarely       1402                   Sales   \n",
      "867    50        No  Travel_Frequently       1421  Research & Development   \n",
      "869    46        No      Travel_Rarely       1450  Research & Development   \n",
      "894    54        No      Travel_Rarely        685  Research & Development   \n",
      "898    43        No      Travel_Rarely        920  Research & Development   \n",
      "899    49        No      Travel_Rarely       1098  Research & Development   \n",
      "904    48        No      Travel_Rarely        715  Research & Development   \n",
      "907    44        No      Travel_Rarely       1099                   Sales   \n",
      "913    45       Yes      Travel_Rarely       1449                   Sales   \n",
      "916    46        No      Travel_Rarely        168                   Sales   \n",
      "918    51        No  Travel_Frequently        237                   Sales   \n",
      "922    44        No      Travel_Rarely       1199  Research & Development   \n",
      "936    45        No  Travel_Frequently        364  Research & Development   \n",
      "937    39        No      Travel_Rarely        412  Research & Development   \n",
      "945    50        No      Travel_Rarely       1322  Research & Development   \n",
      "954    42        No         Non-Travel        495  Research & Development   \n",
      "955    55        No      Travel_Rarely        282  Research & Development   \n",
      "956    56        No      Travel_Rarely        206         Human Resources   \n",
      "999    42        No      Travel_Rarely       1147         Human Resources   \n",
      "1008   54        No      Travel_Rarely        971  Research & Development   \n",
      "1009   58        No      Travel_Rarely       1055  Research & Development   \n",
      "1024   47        No      Travel_Rarely        359  Research & Development   \n",
      "1043   53        No      Travel_Rarely        447  Research & Development   \n",
      "1055   34        No  Travel_Frequently        829  Research & Development   \n",
      "1080   46        No      Travel_Rarely        228                   Sales   \n",
      "1116   55        No      Travel_Rarely        685                   Sales   \n",
      "1126   50        No      Travel_Rarely        264                   Sales   \n",
      "1129   42        No      Travel_Rarely       1059  Research & Development   \n",
      "1135   46        No      Travel_Rarely        563                   Sales   \n",
      "1140   44        No      Travel_Rarely       1313  Research & Development   \n",
      "1154   47        No      Travel_Rarely       1176         Human Resources   \n",
      "1184   54        No      Travel_Rarely        584  Research & Development   \n",
      "1185   43        No      Travel_Rarely       1291  Research & Development   \n",
      "1225   45        No      Travel_Rarely       1005  Research & Development   \n",
      "1242   40        No      Travel_Rarely        611                   Sales   \n",
      "1264   55        No      Travel_Rarely        478  Research & Development   \n",
      "1277   46        No      Travel_Rarely        734  Research & Development   \n",
      "1330   43        No      Travel_Rarely        823  Research & Development   \n",
      "1331   48        No      Travel_Rarely       1224  Research & Development   \n",
      "1348   40        No      Travel_Rarely       1137  Research & Development   \n",
      "1351   48        No  Travel_Frequently        117  Research & Development   \n",
      "1374   58        No      Travel_Rarely        605                   Sales   \n",
      "1377   49        No  Travel_Frequently       1064  Research & Development   \n",
      "1401   55        No      Travel_Rarely        189         Human Resources   \n",
      "1437   39        No         Non-Travel        105  Research & Development   \n",
      "1443   42        No      Travel_Rarely        300  Research & Development   \n",
      "\n",
      "      DistanceFromHome  Education    EducationField  EmployeeCount  \\\n",
      "25                   5          3             Other              1   \n",
      "29                   2          4         Marketing              1   \n",
      "45                  12          3  Technical Degree              1   \n",
      "62                   7          2           Medical              1   \n",
      "105                  2          4   Human Resources              1   \n",
      "106                  1          3     Life Sciences              1   \n",
      "112                 26          3   Human Resources              1   \n",
      "119                 26          2     Life Sciences              1   \n",
      "123                  6          3     Life Sciences              1   \n",
      "147                 10          3     Life Sciences              1   \n",
      "165                 11          3     Life Sciences              1   \n",
      "186                  4          1           Medical              1   \n",
      "187                 14          4           Medical              1   \n",
      "190                  1          4     Life Sciences              1   \n",
      "194                  2          2           Medical              1   \n",
      "231                  4          2  Technical Degree              1   \n",
      "233                  1          4           Medical              1   \n",
      "237                  2          4     Life Sciences              1   \n",
      "244                  1          3             Other              1   \n",
      "257                  2          2           Medical              1   \n",
      "263                  2          3  Technical Degree              1   \n",
      "270                  1          3           Medical              1   \n",
      "279                  4          1     Life Sciences              1   \n",
      "280                  3          4           Medical              1   \n",
      "290                 10          4     Life Sciences              1   \n",
      "314                 10          1           Medical              1   \n",
      "326                  7          2           Medical              1   \n",
      "329                  5          5     Life Sciences              1   \n",
      "379                  2          3     Life Sciences              1   \n",
      "392                  5          2           Medical              1   \n",
      "400                  1          1     Life Sciences              1   \n",
      "411                  7          3     Life Sciences              1   \n",
      "417                  2          4     Life Sciences              1   \n",
      "425                 29          4     Life Sciences              1   \n",
      "429                  2          3     Life Sciences              1   \n",
      "445                 18          5     Life Sciences              1   \n",
      "466                  2          5     Life Sciences              1   \n",
      "473                 18          4     Life Sciences              1   \n",
      "477                  3          3           Medical              1   \n",
      "489                  6          4             Other              1   \n",
      "497                  3          4             Other              1   \n",
      "535                 10          4   Human Resources              1   \n",
      "538                  1          3   Human Resources              1   \n",
      "561                  3          4         Marketing              1   \n",
      "568                  2          3           Medical              1   \n",
      "584                  8          3     Life Sciences              1   \n",
      "588                  2          3           Medical              1   \n",
      "592                  2          2             Other              1   \n",
      "595                  2          4     Life Sciences              1   \n",
      "609                 14          2     Life Sciences              1   \n",
      "653                  2          4     Life Sciences              1   \n",
      "699                  1          2     Life Sciences              1   \n",
      "710                 17          3     Life Sciences              1   \n",
      "714                  1          2           Medical              1   \n",
      "716                  9          3           Medical              1   \n",
      "741                  5          2         Marketing              1   \n",
      "746                  7          1     Life Sciences              1   \n",
      "749                  2          1         Marketing              1   \n",
      "755                 11          2     Life Sciences              1   \n",
      "766                  2          4           Medical              1   \n",
      "770                  1          4           Medical              1   \n",
      "774                  2          1           Medical              1   \n",
      "799                  2          2           Medical              1   \n",
      "804                  1          4           Medical              1   \n",
      "810                  3          1         Marketing              1   \n",
      "814                 14          3           Medical              1   \n",
      "851                  4          4  Technical Degree              1   \n",
      "858                  7          2           Medical              1   \n",
      "861                  2          3         Marketing              1   \n",
      "867                  2          3           Medical              1   \n",
      "869                 15          2     Life Sciences              1   \n",
      "894                  3          3     Life Sciences              1   \n",
      "898                  3          3     Life Sciences              1   \n",
      "899                  4          2           Medical              1   \n",
      "904                  1          3     Life Sciences              1   \n",
      "907                  5          3         Marketing              1   \n",
      "913                  2          3         Marketing              1   \n",
      "916                  4          2         Marketing              1   \n",
      "918                  9          3     Life Sciences              1   \n",
      "922                  4          2     Life Sciences              1   \n",
      "936                 25          3           Medical              1   \n",
      "937                 13          4           Medical              1   \n",
      "945                 28          3     Life Sciences              1   \n",
      "954                  2          1     Life Sciences              1   \n",
      "955                  2          2           Medical              1   \n",
      "956                  8          4     Life Sciences              1   \n",
      "999                 10          3   Human Resources              1   \n",
      "1008                 1          3           Medical              1   \n",
      "1009                 1          3           Medical              1   \n",
      "1024                 2          4           Medical              1   \n",
      "1043                 2          3           Medical              1   \n",
      "1055                15          3           Medical              1   \n",
      "1080                 3          3     Life Sciences              1   \n",
      "1116                26          5         Marketing              1   \n",
      "1126                 9          3         Marketing              1   \n",
      "1129                 9          2             Other              1   \n",
      "1135                 1          4     Life Sciences              1   \n",
      "1140                 7          3           Medical              1   \n",
      "1154                26          4     Life Sciences              1   \n",
      "1184                22          5           Medical              1   \n",
      "1185                15          2     Life Sciences              1   \n",
      "1225                28          2  Technical Degree              1   \n",
      "1242                 7          4           Medical              1   \n",
      "1264                 2          3           Medical              1   \n",
      "1277                 2          4           Medical              1   \n",
      "1330                 6          3           Medical              1   \n",
      "1331                10          3     Life Sciences              1   \n",
      "1348                 1          4     Life Sciences              1   \n",
      "1351                22          3           Medical              1   \n",
      "1374                21          3     Life Sciences              1   \n",
      "1377                 2          1     Life Sciences              1   \n",
      "1401                26          4   Human Resources              1   \n",
      "1437                 9          3     Life Sciences              1   \n",
      "1443                 2          3     Life Sciences              1   \n",
      "\n",
      "      EmployeeNumber  EnvironmentSatisfaction  Gender  HourlyRate  \\\n",
      "25                32                        3  Female          58   \n",
      "29                38                        2  Female          83   \n",
      "45                58                        2  Female          49   \n",
      "62                80                        2  Female          43   \n",
      "105              140                        3  Female          32   \n",
      "106              141                        1  Female          73   \n",
      "112              148                        4  Female          30   \n",
      "119              158                        3    Male          92   \n",
      "123              162                        1    Male          51   \n",
      "147              199                        4    Male          91   \n",
      "165              226                        3  Female          53   \n",
      "186              253                        4  Female          46   \n",
      "187              254                        3    Male          61   \n",
      "190              259                        3    Male          65   \n",
      "194              264                        1    Male          65   \n",
      "231              319                        3    Male          58   \n",
      "233              323                        4  Female          68   \n",
      "237              329                        1    Male          79   \n",
      "244              336                        3    Male          70   \n",
      "257              352                        1    Male          49   \n",
      "263              363                        3  Female          75   \n",
      "270              374                        4    Male          81   \n",
      "279              385                        1    Male          96   \n",
      "280              386                        3    Male          45   \n",
      "290              396                        3  Female          35   \n",
      "314              429                        3    Male          99   \n",
      "326              444                        3    Male          54   \n",
      "329              447                        4    Male          42   \n",
      "379              505                        3  Female          97   \n",
      "392              522                        1    Male          86   \n",
      "400              531                        2    Male          52   \n",
      "411              549                        1  Female          41   \n",
      "417              558                        3  Female          79   \n",
      "425              569                        2    Male          88   \n",
      "429              575                        1    Male          51   \n",
      "445              597                        1  Female          83   \n",
      "466              625                        2  Female          91   \n",
      "473              638                        4    Male          58   \n",
      "477              644                        1    Male          99   \n",
      "489              661                        2    Male          50   \n",
      "497              671                        4    Male          35   \n",
      "535              731                        2    Male          73   \n",
      "538              734                        4    Male          59   \n",
      "561              776                        3    Male          31   \n",
      "568              787                        4    Male          78   \n",
      "584              809                        2    Male          66   \n",
      "588              815                        3    Male          64   \n",
      "592              820                        3  Female          33   \n",
      "595              825                        4    Male          31   \n",
      "609              843                        2    Male          94   \n",
      "653              905                        1    Male          98   \n",
      "699              976                        4    Male          70   \n",
      "710              992                        4    Male          38   \n",
      "714              997                        4    Male          66   \n",
      "716              999                        1    Male          64   \n",
      "741             1029                        4    Male          90   \n",
      "746             1035                        2  Female          55   \n",
      "749             1038                        1  Female          57   \n",
      "755             1045                        4  Female          90   \n",
      "766             1061                        2    Male          62   \n",
      "770             1069                        4    Male          40   \n",
      "774             1074                        3    Male          40   \n",
      "799             1109                        4    Male          35   \n",
      "804             1116                        1    Male          35   \n",
      "810             1124                        1    Male          52   \n",
      "814             1128                        3    Male          44   \n",
      "851             1191                        4  Female          92   \n",
      "858             1201                        4  Female          50   \n",
      "861             1204                        3  Female          69   \n",
      "867             1215                        4  Female          30   \n",
      "869             1217                        4    Male          52   \n",
      "894             1250                        4    Male          85   \n",
      "898             1255                        3    Male          96   \n",
      "899             1256                        1    Male          85   \n",
      "904             1263                        4    Male          76   \n",
      "907             1267                        2    Male          88   \n",
      "913             1277                        1  Female          94   \n",
      "916             1280                        4  Female          33   \n",
      "918             1282                        4    Male          83   \n",
      "922             1288                        3    Male          92   \n",
      "936             1306                        2  Female          83   \n",
      "937             1307                        3  Female          94   \n",
      "945             1317                        4  Female          43   \n",
      "954             1334                        3    Male          37   \n",
      "955             1336                        4  Female          58   \n",
      "956             1338                        4    Male          99   \n",
      "999             1408                        3  Female          31   \n",
      "1008            1422                        4  Female          54   \n",
      "1009            1423                        4  Female          76   \n",
      "1024            1443                        1  Female          82   \n",
      "1043            1472                        4    Male          39   \n",
      "1055            1485                        2    Male          71   \n",
      "1080            1527                        3  Female          51   \n",
      "1116            1578                        3    Male          60   \n",
      "1126            1591                        3    Male          59   \n",
      "1129            1595                        4    Male          93   \n",
      "1135            1602                        4    Male          56   \n",
      "1140            1608                        2  Female          31   \n",
      "1154            1625                        4  Female          98   \n",
      "1184            1665                        2  Female          91   \n",
      "1185            1666                        3    Male          65   \n",
      "1225            1719                        4  Female          48   \n",
      "1242            1740                        2    Male          88   \n",
      "1264            1770                        3    Male          60   \n",
      "1277            1789                        3    Male          46   \n",
      "1330            1866                        1  Female          81   \n",
      "1331            1867                        4    Male          91   \n",
      "1348            1892                        1    Male          98   \n",
      "1351            1900                        4  Female          58   \n",
      "1374            1938                        4  Female          72   \n",
      "1377            1941                        2    Male          42   \n",
      "1401            1973                        3    Male          71   \n",
      "1437            2022                        4    Male          87   \n",
      "1443            2031                        1    Male          56   \n",
      "\n",
      "      JobInvolvement  JobLevel            JobRole  JobSatisfaction  \\\n",
      "25                 3         5            Manager                3   \n",
      "29                 3         5            Manager                1   \n",
      "45                 3         5  Research Director                3   \n",
      "62                 2         5  Research Director                3   \n",
      "105                2         5            Manager                4   \n",
      "106                3         5  Research Director                2   \n",
      "112                4         4            Manager                4   \n",
      "119                3         4            Manager                4   \n",
      "123                3         5  Research Director                3   \n",
      "147                2         4            Manager                1   \n",
      "165                3         5            Manager                2   \n",
      "186                3         5            Manager                3   \n",
      "187                4         5  Research Director                2   \n",
      "190                2         5            Manager                3   \n",
      "194                2         4            Manager                4   \n",
      "231                3         5            Manager                4   \n",
      "233                3         5            Manager                4   \n",
      "237                2         5            Manager                3   \n",
      "244                4         5            Manager                4   \n",
      "257                3         5  Research Director                3   \n",
      "263                1         4            Manager                2   \n",
      "270                3         5            Manager                1   \n",
      "279                3         5  Research Director                2   \n",
      "280                3         4  Research Director                3   \n",
      "290                3         5  Research Director                1   \n",
      "314                3         4            Manager                1   \n",
      "326                2         5            Manager                4   \n",
      "329                3         5  Research Director                3   \n",
      "379                3         4            Manager                4   \n",
      "392                3         5  Research Director                1   \n",
      "400                3         5            Manager                3   \n",
      "411                3         5            Manager                1   \n",
      "417                3         5            Manager                3   \n",
      "425                2         4            Manager                3   \n",
      "429                3         4  Research Director                3   \n",
      "445                3         4            Manager                2   \n",
      "466                3         4            Manager                1   \n",
      "473                2         5  Research Director                3   \n",
      "477                3         5            Manager                2   \n",
      "489                2         4  Research Director                4   \n",
      "497                3         5            Manager                4   \n",
      "535                2         5            Manager                4   \n",
      "538                2         5            Manager                3   \n",
      "561                2         4            Manager                1   \n",
      "568                3         5            Manager                1   \n",
      "584                3         5            Manager                4   \n",
      "588                3         4  Research Director                3   \n",
      "592                3         4            Manager                4   \n",
      "595                3         5  Research Director                2   \n",
      "609                3         4  Research Director                1   \n",
      "653                3         4            Manager                1   \n",
      "699                3         4            Manager                4   \n",
      "710                3         4            Manager                3   \n",
      "714                3         4  Research Director                4   \n",
      "716                3         5  Research Director                3   \n",
      "741                3         5            Manager                3   \n",
      "746                1         5  Research Director                3   \n",
      "749                1         5            Manager                4   \n",
      "755                3         4            Manager                4   \n",
      "766                3         5  Research Director                3   \n",
      "770                3         5  Research Director                4   \n",
      "774                2         4            Manager                1   \n",
      "799                3         4            Manager                1   \n",
      "804                4         4            Manager                4   \n",
      "810                3         4            Manager                3   \n",
      "814                2         5  Research Director                3   \n",
      "851                3         5            Manager                1   \n",
      "858                3         5            Manager                3   \n",
      "861                3         4            Manager                1   \n",
      "867                3         4            Manager                1   \n",
      "869                3         5  Research Director                2   \n",
      "894                3         4  Research Director                4   \n",
      "898                1         5  Research Director                4   \n",
      "899                2         5            Manager                3   \n",
      "904                2         5  Research Director                4   \n",
      "907                3         5            Manager                2   \n",
      "913                1         5            Manager                2   \n",
      "916                2         5            Manager                2   \n",
      "918                3         5            Manager                2   \n",
      "922                4         5            Manager                1   \n",
      "936                3         5            Manager                2   \n",
      "937                2         4            Manager                2   \n",
      "945                3         4  Research Director                1   \n",
      "954                3         4            Manager                3   \n",
      "955                1         5            Manager                3   \n",
      "956                3         5            Manager                2   \n",
      "999                3         4            Manager                1   \n",
      "1008               3         4  Research Director                4   \n",
      "1009               3         5  Research Director                1   \n",
      "1024               3         4  Research Director                3   \n",
      "1043               4         4  Research Director                2   \n",
      "1055               3         4  Research Director                1   \n",
      "1080               3         4            Manager                2   \n",
      "1116               2         5            Manager                4   \n",
      "1126               3         5            Manager                3   \n",
      "1129               2         5            Manager                4   \n",
      "1135               4         4            Manager                1   \n",
      "1140               3         5  Research Director                4   \n",
      "1154               3         5            Manager                3   \n",
      "1184               3         4            Manager                3   \n",
      "1185               2         4  Research Director                3   \n",
      "1225               2         4  Research Director                2   \n",
      "1242               3         5            Manager                2   \n",
      "1264               2         5  Research Director                1   \n",
      "1277               3         5  Research Director                4   \n",
      "1330               2         5            Manager                3   \n",
      "1331               2         5  Research Director                2   \n",
      "1348               3         4            Manager                1   \n",
      "1351               3         4            Manager                4   \n",
      "1374               3         4            Manager                4   \n",
      "1377               3         5  Research Director                4   \n",
      "1401               4         5            Manager                2   \n",
      "1437               3         5            Manager                4   \n",
      "1443               3         5            Manager                3   \n",
      "\n",
      "     MaritalStatus  MonthlyIncome  MonthlyRate  NumCompaniesWorked Over18  \\\n",
      "25        Divorced          19094        10735                   4      Y   \n",
      "29          Single          18947        22822                   3      Y   \n",
      "45         Married          19545        16280                   1      Y   \n",
      "62        Divorced          18740        16701                   5      Y   \n",
      "105        Married          18844        21922                   9      Y   \n",
      "106        Married          18172         9755                   3      Y   \n",
      "112         Single          17328        13871                   2      Y   \n",
      "119        Married          16959        19494                   1      Y   \n",
      "123         Single          19537         6462                   7      Y   \n",
      "147       Divorced          17181        12888                   4      Y   \n",
      "165         Single          19926        17053                   3      Y   \n",
      "186        Married          19033         6499                   1      Y   \n",
      "187         Single          18722        13339                   8      Y   \n",
      "190        Married          19999         5678                   0      Y   \n",
      "194        Married          16792        20462                   9      Y   \n",
      "231        Married          19232         4933                   1      Y   \n",
      "233       Divorced          19517        24118                   3      Y   \n",
      "237         Single          19068        21030                   1      Y   \n",
      "244        Married          19202        15970                   0      Y   \n",
      "257       Divorced          19436         5949                   0      Y   \n",
      "263        Married          16872        14977                   3      Y   \n",
      "270         Single          19045        18938                   0      Y   \n",
      "279       Divorced          19144        15815                   3      Y   \n",
      "280        Married          17584        21016                   3      Y   \n",
      "290         Single          18665        25594                   9      Y   \n",
      "314        Married          17068         5355                   1      Y   \n",
      "326        Married          19272        21141                   1      Y   \n",
      "329        Married          18300        16375                   4      Y   \n",
      "379         Single          16659        23258                   2      Y   \n",
      "392        Married          19406         8509                   4      Y   \n",
      "400       Divorced          19197         8213                   1      Y   \n",
      "411        Married          19566         3854                   5      Y   \n",
      "417        Married          18041        13022                   0      Y   \n",
      "425        Married          17046         9314                   0      Y   \n",
      "429        Married          17861         2288                   6      Y   \n",
      "445         Single          16835         9873                   3      Y   \n",
      "466        Married          16595         5626                   7      Y   \n",
      "473       Divorced          19502         2125                   1      Y   \n",
      "477        Married          18200         7999                   1      Y   \n",
      "489       Divorced          16627         2671                   4      Y   \n",
      "497        Married          19513         9358                   4      Y   \n",
      "535       Divorced          19141         8861                   3      Y   \n",
      "538        Married          19189        19562                   1      Y   \n",
      "561        Married          16856        10084                   1      Y   \n",
      "568        Married          19859        21199                   5      Y   \n",
      "584       Divorced          18430        16225                   1      Y   \n",
      "588        Married          17639         6881                   5      Y   \n",
      "592        Married          16752        12982                   1      Y   \n",
      "595         Single          19246        25761                   7      Y   \n",
      "609        Married          17159         5200                   6      Y   \n",
      "653       Divorced          17924         4544                   1      Y   \n",
      "699        Married          17099        13829                   2      Y   \n",
      "710         Single          17444        20489                   1      Y   \n",
      "714       Divorced          17399         6615                   9      Y   \n",
      "716       Divorced          19419         3735                   2      Y   \n",
      "741        Married          18303         7770                   6      Y   \n",
      "746       Divorced          19973        20284                   1      Y   \n",
      "749        Married          19845        25846                   1      Y   \n",
      "755        Married          17650         5404                   3      Y   \n",
      "766        Married          19237        12853                   2      Y   \n",
      "770       Divorced          19627        21445                   9      Y   \n",
      "774         Single          16756        17323                   7      Y   \n",
      "799        Married          17665        14399                   0      Y   \n",
      "804         Single          16885        16154                   2      Y   \n",
      "810        Married          17465        15596                   3      Y   \n",
      "814         Single          19626        17544                   1      Y   \n",
      "851       Divorced          19943        18575                   4      Y   \n",
      "858       Divorced          18606        18640                   3      Y   \n",
      "861        Married          17048        24097                   8      Y   \n",
      "867        Married          17856         9490                   2      Y   \n",
      "869        Married          19081        10849                   5      Y   \n",
      "894        Married          17779        23474                   3      Y   \n",
      "898        Married          19740        18625                   3      Y   \n",
      "899        Married          18711        12124                   2      Y   \n",
      "904         Single          18265         8733                   6      Y   \n",
      "907        Married          18213         8751                   7      Y   \n",
      "913         Single          18824         2493                   2      Y   \n",
      "916        Married          18789         9946                   2      Y   \n",
      "918       Divorced          19847        19196                   4      Y   \n",
      "922       Divorced          19190        17477                   1      Y   \n",
      "936         Single          18061        13035                   3      Y   \n",
      "937       Divorced          17123        17334                   6      Y   \n",
      "945        Married          16880        22422                   4      Y   \n",
      "954        Married          17861        26582                   0      Y   \n",
      "955        Married          19187         6992                   4      Y   \n",
      "956         Single          19717         4022                   6      Y   \n",
      "999        Married          16799        16616                   0      Y   \n",
      "1008        Single          17328         5652                   6      Y   \n",
      "1009       Married          19701        22456                   3      Y   \n",
      "1024       Married          17169        26703                   3      Y   \n",
      "1043        Single          16598        19764                   4      Y   \n",
      "1055      Divorced          17007        11929                   7      Y   \n",
      "1080       Married          16606        11380                   8      Y   \n",
      "1116       Married          19586        23037                   1      Y   \n",
      "1126       Married          19331        19519                   4      Y   \n",
      "1129        Single          19613        26362                   8      Y   \n",
      "1135        Single          17567         3156                   1      Y   \n",
      "1140      Divorced          19049         3549                   0      Y   \n",
      "1154       Married          19658         5220                   3      Y   \n",
      "1184       Married          17426        18685                   3      Y   \n",
      "1185       Married          17603         3525                   1      Y   \n",
      "1225        Single          16704        17119                   1      Y   \n",
      "1242        Single          19833         4349                   1      Y   \n",
      "1264       Married          19038        19805                   8      Y   \n",
      "1277      Divorced          19328        14218                   7      Y   \n",
      "1330       Married          19392        22539                   7      Y   \n",
      "1331       Married          19665        13583                   4      Y   \n",
      "1348      Divorced          16823        18991                   2      Y   \n",
      "1351      Divorced          17174         2437                   3      Y   \n",
      "1374       Married          17875        11761                   4      Y   \n",
      "1377       Married          19161        13738                   3      Y   \n",
      "1401       Married          19636        25811                   4      Y   \n",
      "1437        Single          19431        15302                   2      Y   \n",
      "1443       Married          18880        17312                   5      Y   \n",
      "\n",
      "     OverTime  PercentSalaryHike  PerformanceRating  RelationshipSatisfaction  \\\n",
      "25         No                 11                  3                         4   \n",
      "29         No                 12                  3                         4   \n",
      "45         No                 12                  3                         4   \n",
      "62        Yes                 12                  3                         4   \n",
      "105        No                 21                  4                         4   \n",
      "106       Yes                 19                  3                         1   \n",
      "112       Yes                 12                  3                         3   \n",
      "119       Yes                 12                  3                         4   \n",
      "123        No                 13                  3                         3   \n",
      "147        No                 13                  3                         2   \n",
      "165        No                 15                  3                         2   \n",
      "186        No                 14                  3                         2   \n",
      "187        No                 11                  3                         4   \n",
      "190        No                 14                  3                         1   \n",
      "194        No                 23                  4                         4   \n",
      "231        No                 11                  3                         4   \n",
      "233        No                 11                  3                         3   \n",
      "237       Yes                 18                  3                         4   \n",
      "244        No                 11                  3                         3   \n",
      "257        No                 19                  3                         4   \n",
      "263       Yes                 12                  3                         2   \n",
      "270       Yes                 14                  3                         3   \n",
      "279        No                 14                  3                         1   \n",
      "280       Yes                 16                  3                         4   \n",
      "290       Yes                 11                  3                         4   \n",
      "314       Yes                 14                  3                         4   \n",
      "326        No                 15                  3                         1   \n",
      "329        No                 11                  3                         2   \n",
      "379       Yes                 13                  3                         3   \n",
      "392        No                 11                  3                         3   \n",
      "400       Yes                 14                  3                         3   \n",
      "411        No                 11                  3                         4   \n",
      "417        No                 14                  3                         4   \n",
      "425        No                 15                  3                         2   \n",
      "429        No                 13                  3                         3   \n",
      "445        No                 23                  4                         4   \n",
      "466        No                 16                  3                         2   \n",
      "473       Yes                 17                  3                         3   \n",
      "477        No                 11                  3                         3   \n",
      "489       Yes                 14                  3                         3   \n",
      "497       Yes                 12                  3                         1   \n",
      "535        No                 15                  3                         2   \n",
      "538        No                 12                  3                         2   \n",
      "561        No                 11                  3                         1   \n",
      "568       Yes                 13                  3                         4   \n",
      "584        No                 13                  3                         2   \n",
      "588        No                 16                  3                         4   \n",
      "592       Yes                 11                  3                         3   \n",
      "595       Yes                 12                  3                         4   \n",
      "609        No                 24                  4                         3   \n",
      "653        No                 11                  3                         4   \n",
      "699        No                 15                  3                         2   \n",
      "710        No                 11                  3                         4   \n",
      "714        No                 22                  4                         3   \n",
      "716        No                 17                  3                         2   \n",
      "741        No                 13                  3                         2   \n",
      "746        No                 22                  4                         2   \n",
      "749        No                 15                  3                         4   \n",
      "755        No                 13                  3                         2   \n",
      "766       Yes                 11                  3                         4   \n",
      "770        No                 17                  3                         4   \n",
      "774        No                 15                  3                         2   \n",
      "799        No                 17                  3                         4   \n",
      "804        No                 22                  4                         3   \n",
      "810        No                 12                  3                         4   \n",
      "814        No                 14                  3                         1   \n",
      "851        No                 13                  3                         4   \n",
      "858        No                 18                  3                         2   \n",
      "861        No                 23                  4                         1   \n",
      "867        No                 22                  4                         3   \n",
      "869        No                 11                  3                         1   \n",
      "894        No                 14                  3                         1   \n",
      "898        No                 14                  3                         2   \n",
      "899        No                 13                  3                         3   \n",
      "904        No                 12                  3                         3   \n",
      "907        No                 11                  3                         3   \n",
      "913       Yes                 16                  3                         1   \n",
      "916        No                 14                  3                         3   \n",
      "918       Yes                 24                  4                         1   \n",
      "922        No                 14                  3                         4   \n",
      "936        No                 22                  4                         3   \n",
      "937       Yes                 13                  3                         4   \n",
      "945       Yes                 11                  3                         2   \n",
      "954       Yes                 13                  3                         4   \n",
      "955        No                 14                  3                         4   \n",
      "956        No                 14                  3                         1   \n",
      "999        No                 14                  3                         3   \n",
      "1008       No                 19                  3                         4   \n",
      "1009      Yes                 21                  4                         3   \n",
      "1024       No                 19                  3                         2   \n",
      "1043       No                 12                  3                         2   \n",
      "1055       No                 14                  3                         4   \n",
      "1080       No                 12                  3                         4   \n",
      "1116       No                 21                  4                         3   \n",
      "1126      Yes                 16                  3                         3   \n",
      "1129       No                 22                  4                         4   \n",
      "1135       No                 15                  3                         2   \n",
      "1140      Yes                 14                  3                         4   \n",
      "1154       No                 11                  3                         3   \n",
      "1184       No                 25                  4                         3   \n",
      "1185       No                 24                  4                         1   \n",
      "1225       No                 11                  3                         3   \n",
      "1242       No                 14                  3                         2   \n",
      "1264       No                 12                  3                         2   \n",
      "1277      Yes                 17                  3                         3   \n",
      "1330       No                 13                  3                         4   \n",
      "1331       No                 12                  3                         4   \n",
      "1348       No                 11                  3                         1   \n",
      "1351       No                 11                  3                         2   \n",
      "1374      Yes                 13                  3                         3   \n",
      "1377       No                 15                  3                         4   \n",
      "1401      Yes                 18                  3                         1   \n",
      "1437       No                 13                  3                         3   \n",
      "1443       No                 11                  3                         1   \n",
      "\n",
      "      StandardHours  StockOptionLevel  TotalWorkingYears  \\\n",
      "25               80                 1                 26   \n",
      "29               80                 0                 22   \n",
      "45               80                 0                 23   \n",
      "62               80                 1                 29   \n",
      "105              80                 1                 30   \n",
      "106              80                 0                 28   \n",
      "112              80                 0                 23   \n",
      "119              80                 2                 25   \n",
      "123              80                 0                 23   \n",
      "147              80                 1                 21   \n",
      "165              80                 0                 21   \n",
      "186              80                 1                 21   \n",
      "187              80                 0                 36   \n",
      "190              80                 1                 34   \n",
      "194              80                 1                 22   \n",
      "231              80                 0                 22   \n",
      "233              80                 1                 32   \n",
      "237              80                 0                 33   \n",
      "244              80                 1                 25   \n",
      "257              80                 1                 22   \n",
      "263              80                 1                 28   \n",
      "270              80                 0                 37   \n",
      "279              80                 2                 28   \n",
      "280              80                 3                 21   \n",
      "290              80                 0                 22   \n",
      "314              80                 0                 21   \n",
      "326              80                 1                 21   \n",
      "329              80                 1                 21   \n",
      "379              80                 0                 30   \n",
      "392              80                 1                 24   \n",
      "400              80                 1                 21   \n",
      "411              80                 0                 33   \n",
      "417              80                 0                 21   \n",
      "425              80                 1                 28   \n",
      "429              80                 0                 26   \n",
      "445              80                 0                 37   \n",
      "466              80                 1                 22   \n",
      "473              80                 1                 31   \n",
      "477              80                 1                 32   \n",
      "489              80                 1                 21   \n",
      "497              80                 1                 26   \n",
      "535              80                 3                 23   \n",
      "538              80                 1                 22   \n",
      "561              80                 0                 34   \n",
      "568              80                 1                 24   \n",
      "584              80                 1                 24   \n",
      "588              80                 0                 30   \n",
      "592              80                 1                 26   \n",
      "595              80                 0                 40   \n",
      "609              80                 1                 22   \n",
      "653              80                 1                 31   \n",
      "699              80                 1                 26   \n",
      "710              80                 0                 10   \n",
      "714              80                 1                 32   \n",
      "716              80                 1                 21   \n",
      "741              80                 0                 21   \n",
      "746              80                 2                 21   \n",
      "749              80                 1                 33   \n",
      "755              80                 1                 26   \n",
      "766              80                 1                 29   \n",
      "770              80                 2                 23   \n",
      "774              80                 0                 31   \n",
      "799              80                 1                 23   \n",
      "804              80                 0                 27   \n",
      "810              80                 1                 23   \n",
      "814              80                 0                 21   \n",
      "851              80                 1                 28   \n",
      "858              80                 1                 26   \n",
      "861              80                 0                 28   \n",
      "867              80                 1                 32   \n",
      "869              80                 1                 25   \n",
      "894              80                 0                 36   \n",
      "898              80                 1                 25   \n",
      "899              80                 1                 23   \n",
      "904              80                 0                 25   \n",
      "907              80                 1                 26   \n",
      "913              80                 0                 26   \n",
      "916              80                 1                 26   \n",
      "918              80                 1                 31   \n",
      "922              80                 2                 26   \n",
      "936              80                 0                 22   \n",
      "937              80                 2                 21   \n",
      "945              80                 0                 25   \n",
      "954              80                 0                 21   \n",
      "955              80                 1                 23   \n",
      "956              80                 0                 36   \n",
      "999              80                 1                 21   \n",
      "1008             80                 0                 29   \n",
      "1009             80                 1                 32   \n",
      "1024             80                 2                 26   \n",
      "1043             80                 0                 35   \n",
      "1055             80                 2                 16   \n",
      "1080             80                 1                 23   \n",
      "1116             80                 1                 36   \n",
      "1126             80                 1                 27   \n",
      "1129             80                 0                 24   \n",
      "1135             80                 0                 27   \n",
      "1140             80                 1                 23   \n",
      "1154             80                 1                 27   \n",
      "1184             80                 1                 36   \n",
      "1185             80                 1                 14   \n",
      "1225             80                 0                 21   \n",
      "1242             80                 0                 21   \n",
      "1264             80                 3                 34   \n",
      "1277             80                 1                 24   \n",
      "1330             80                 0                 21   \n",
      "1331             80                 0                 29   \n",
      "1348             80                 1                 22   \n",
      "1351             80                 1                 24   \n",
      "1374             80                 1                 29   \n",
      "1377             80                 0                 28   \n",
      "1401             80                 1                 35   \n",
      "1437             80                 0                 21   \n",
      "1443             80                 0                 24   \n",
      "\n",
      "      TrainingTimesLastYear  WorkLifeBalance  YearsAtCompany  \\\n",
      "25                        3                2              14   \n",
      "29                        2                2               2   \n",
      "45                        0                3              22   \n",
      "62                        2                2              27   \n",
      "105                       3                3               3   \n",
      "106                       1                2               8   \n",
      "112                       3                3               5   \n",
      "119                       3                4              25   \n",
      "123                       5                3              20   \n",
      "147                       2                2               7   \n",
      "165                       5                3               5   \n",
      "186                       2                3              20   \n",
      "187                       3                3              24   \n",
      "190                       5                3              33   \n",
      "194                       1                3              20   \n",
      "231                       3                3              22   \n",
      "233                       3                2               7   \n",
      "237                       2                4              33   \n",
      "244                       2                3              24   \n",
      "257                       5                3              21   \n",
      "263                       2                2               7   \n",
      "270                       2                3              36   \n",
      "279                       4                2              10   \n",
      "280                       5                2               5   \n",
      "290                       4                3               3   \n",
      "314                       3                3              21   \n",
      "326                       2                3              21   \n",
      "329                       2                3               3   \n",
      "379                       2                3               5   \n",
      "392                       4                2               4   \n",
      "400                       3                3              21   \n",
      "411                       5                1              29   \n",
      "417                       2                3              20   \n",
      "425                       2                3              27   \n",
      "429                       2                1               3   \n",
      "445                       2                3              10   \n",
      "466                       2                3              18   \n",
      "473                       5                3              31   \n",
      "477                       2                3              32   \n",
      "489                       3                2               1   \n",
      "497                       2                4               2   \n",
      "535                       2                2              21   \n",
      "538                       3                3              22   \n",
      "561                       3                4              34   \n",
      "568                       2                3               5   \n",
      "584                       4                2              24   \n",
      "588                       3                3               4   \n",
      "592                       3                2              26   \n",
      "595                       2                3              31   \n",
      "609                       3                3               4   \n",
      "653                       3                3              31   \n",
      "699                       2                2               9   \n",
      "710                       2                3              10   \n",
      "714                       1                2               5   \n",
      "716                       2                4              18   \n",
      "741                       3                4               1   \n",
      "746                       3                3              21   \n",
      "749                       3                3              32   \n",
      "755                       4                4               9   \n",
      "766                       2                2               8   \n",
      "770                       0                3               2   \n",
      "774                       3                4               9   \n",
      "799                       3                3              22   \n",
      "804                       3                2               5   \n",
      "810                       3                3              12   \n",
      "814                       2                4              20   \n",
      "851                       2                3               5   \n",
      "858                       6                3               7   \n",
      "861                       2                3              26   \n",
      "867                       3                3               2   \n",
      "869                       2                3               4   \n",
      "894                       2                3              10   \n",
      "898                       2                3               8   \n",
      "899                       2                4               1   \n",
      "904                       3                4               1   \n",
      "907                       5                3              22   \n",
      "913                       2                3              24   \n",
      "916                       2                3              11   \n",
      "918                       5                2              29   \n",
      "922                       4                2              25   \n",
      "936                       4                3               0   \n",
      "937                       4                3              19   \n",
      "945                       2                3               3   \n",
      "954                       3                2              20   \n",
      "955                       5                3              19   \n",
      "956                       4                3               7   \n",
      "999                       5                3              20   \n",
      "1008                      3                2              20   \n",
      "1009                      3                3               9   \n",
      "1024                      2                4              20   \n",
      "1043                      2                2               9   \n",
      "1055                      3                2              14   \n",
      "1080                      2                4              13   \n",
      "1116                      3                3              36   \n",
      "1126                      2                3               1   \n",
      "1129                      2                3               1   \n",
      "1135                      5                1              26   \n",
      "1140                      4                2              22   \n",
      "1154                      2                3               5   \n",
      "1184                      6                3              10   \n",
      "1185                      3                3              14   \n",
      "1225                      2                3              21   \n",
      "1242                      3                2              21   \n",
      "1264                      2                3               1   \n",
      "1277                      3                3               2   \n",
      "1330                      2                3              16   \n",
      "1331                      3                3              22   \n",
      "1348                      3                3              19   \n",
      "1351                      3                3              22   \n",
      "1374                      2                2               1   \n",
      "1377                      3                3               5   \n",
      "1401                      0                3              10   \n",
      "1437                      3                2               6   \n",
      "1443                      2                2              22   \n",
      "\n",
      "      YearsInCurrentRole  YearsSinceLastPromotion  YearsWithCurrManager  \\\n",
      "25                    13                        4                     8   \n",
      "29                     2                        2                     1   \n",
      "45                    15                       15                     8   \n",
      "62                     3                       13                     8   \n",
      "105                    2                        2                     2   \n",
      "106                    3                        0                     7   \n",
      "112                    3                        4                     4   \n",
      "119                   12                        4                    12   \n",
      "123                   18                       15                    15   \n",
      "147                    6                        7                     7   \n",
      "165                    4                        4                     4   \n",
      "186                    8                        9                     9   \n",
      "187                   15                        2                    15   \n",
      "190                   18                       11                     9   \n",
      "194                    8                       11                     8   \n",
      "231                   17                       11                    15   \n",
      "233                    0                        0                     6   \n",
      "237                    7                       15                    12   \n",
      "244                    0                        1                     7   \n",
      "257                    7                        3                     9   \n",
      "263                    7                        7                     7   \n",
      "270                   10                        4                    13   \n",
      "279                    4                        1                     6   \n",
      "280                    3                        1                     3   \n",
      "290                    2                        1                     2   \n",
      "314                    9                       11                    10   \n",
      "326                    9                       13                     3   \n",
      "329                    2                        1                     1   \n",
      "379                    4                        1                     2   \n",
      "392                    2                        1                     2   \n",
      "400                    8                        1                     6   \n",
      "411                    8                       11                    10   \n",
      "417                   15                        1                    12   \n",
      "425                   10                       15                     7   \n",
      "429                    2                        0                     1   \n",
      "445                    9                        7                     7   \n",
      "466                   16                       11                     8   \n",
      "473                    9                        0                     9   \n",
      "477                    5                       10                     7   \n",
      "489                    0                        0                     0   \n",
      "497                    2                        0                     1   \n",
      "535                    6                       12                     6   \n",
      "538                    7                        2                    10   \n",
      "561                    6                        1                    16   \n",
      "568                    2                        1                     4   \n",
      "584                    7                       14                     9   \n",
      "588                    3                        0                     3   \n",
      "592                   14                        3                     0   \n",
      "595                   15                       13                     8   \n",
      "609                    1                        1                     0   \n",
      "653                    6                       14                     7   \n",
      "699                    8                        7                     8   \n",
      "710                    8                        6                     0   \n",
      "714                    4                        1                     3   \n",
      "716                   16                        0                    11   \n",
      "741                    0                        0                     0   \n",
      "746                   16                        5                    10   \n",
      "749                   14                        6                     9   \n",
      "755                    3                        1                     1   \n",
      "766                    1                        7                     7   \n",
      "770                    2                        2                     2   \n",
      "774                    7                        6                     2   \n",
      "799                    6                       13                     7   \n",
      "804                    4                        2                     1   \n",
      "810                    9                        4                     9   \n",
      "814                    7                        4                     9   \n",
      "851                    2                        4                     2   \n",
      "858                    7                        4                     7   \n",
      "861                   15                       15                     9   \n",
      "867                    2                        2                     2   \n",
      "869                    2                        0                     3   \n",
      "894                    9                        0                     9   \n",
      "898                    7                        0                     7   \n",
      "899                    0                        0                     0   \n",
      "904                    0                        0                     0   \n",
      "907                    9                        3                    10   \n",
      "913                   10                        1                    11   \n",
      "916                    4                        0                     8   \n",
      "918                   10                       11                    10   \n",
      "922                    9                       14                    13   \n",
      "936                    0                        0                     0   \n",
      "937                    9                       15                     2   \n",
      "945                    2                        1                     2   \n",
      "954                    8                        2                    10   \n",
      "955                    9                        9                    11   \n",
      "956                    3                        7                     7   \n",
      "999                    7                        0                     9   \n",
      "1008                   7                       12                     7   \n",
      "1009                   8                        1                     5   \n",
      "1024                  17                        5                     6   \n",
      "1043                   8                        8                     8   \n",
      "1055                   8                        6                     9   \n",
      "1080                  12                        5                     1   \n",
      "1116                   6                        2                    13   \n",
      "1126                   0                        0                     0   \n",
      "1129                   0                        0                     1   \n",
      "1135                   0                        0                    12   \n",
      "1140                   7                        1                    10   \n",
      "1154                   2                        1                     0   \n",
      "1184                   8                        4                     7   \n",
      "1185                  10                        6                    11   \n",
      "1225                   6                        8                     6   \n",
      "1242                   8                       12                     8   \n",
      "1264                   0                        0                     0   \n",
      "1277                   1                        2                     2   \n",
      "1330                  12                        6                    14   \n",
      "1331                  10                       12                     9   \n",
      "1348                   7                       11                    16   \n",
      "1351                  17                        4                     7   \n",
      "1374                   0                        0                     0   \n",
      "1377                   4                        4                     3   \n",
      "1401                   9                        1                     4   \n",
      "1437                   0                        1                     3   \n",
      "1443                   6                        4                    14   \n",
      "\n",
      "      AvgHourlyRate  \n",
      "25          160.250  \n",
      "29           88.125  \n",
      "45          170.000  \n",
      "62          123.625  \n",
      "105         177.500  \n",
      "106         139.375  \n",
      "112          17.750  \n",
      "119          49.250  \n",
      "123          85.500  \n",
      "147         107.125  \n",
      "165         181.500  \n",
      "186         123.625  \n",
      "187          86.500  \n",
      "190          87.375  \n",
      "194         149.375  \n",
      "231          66.500  \n",
      "233         106.750  \n",
      "237          96.375  \n",
      "244          31.500  \n",
      "257         177.000  \n",
      "263          61.000  \n",
      "270          56.500  \n",
      "279          99.625  \n",
      "280         133.750  \n",
      "290          79.500  \n",
      "314          14.625  \n",
      "326          84.000  \n",
      "329         185.250  \n",
      "379         163.875  \n",
      "392         102.625  \n",
      "400         152.250  \n",
      "411          52.750  \n",
      "417         174.750  \n",
      "425         137.375  \n",
      "429         126.125  \n",
      "445         139.625  \n",
      "466         159.500  \n",
      "473         155.625  \n",
      "477         155.750  \n",
      "489          97.750  \n",
      "497         164.375  \n",
      "535          53.375  \n",
      "538          39.250  \n",
      "561          77.625  \n",
      "568          90.625  \n",
      "584          71.250  \n",
      "588          86.375  \n",
      "592          25.250  \n",
      "595          35.750  \n",
      "609          73.625  \n",
      "653         110.125  \n",
      "699         131.625  \n",
      "710          90.250  \n",
      "714         140.750  \n",
      "716         105.000  \n",
      "741          33.125  \n",
      "746          30.875  \n",
      "749          33.250  \n",
      "755         154.250  \n",
      "766         183.000  \n",
      "770          53.750  \n",
      "774          55.500  \n",
      "799          58.625  \n",
      "804         157.750  \n",
      "810          50.750  \n",
      "814         163.500  \n",
      "851          89.750  \n",
      "858         152.875  \n",
      "861         175.250  \n",
      "867         177.625  \n",
      "869         181.250  \n",
      "894          85.625  \n",
      "898         115.000  \n",
      "899         137.250  \n",
      "904          89.375  \n",
      "907         137.375  \n",
      "913         181.125  \n",
      "916          21.000  \n",
      "918          29.625  \n",
      "922         149.875  \n",
      "936          45.500  \n",
      "937          51.500  \n",
      "945         165.250  \n",
      "954          61.875  \n",
      "955          35.250  \n",
      "956          25.750  \n",
      "999         143.375  \n",
      "1008        121.375  \n",
      "1009        131.875  \n",
      "1024         44.875  \n",
      "1043         55.875  \n",
      "1055        103.625  \n",
      "1080         28.500  \n",
      "1116         85.625  \n",
      "1126         33.000  \n",
      "1129        132.375  \n",
      "1135         70.375  \n",
      "1140        164.125  \n",
      "1154        147.000  \n",
      "1184         73.000  \n",
      "1185        161.375  \n",
      "1225        125.625  \n",
      "1242         76.375  \n",
      "1264         59.750  \n",
      "1277         91.750  \n",
      "1330        102.875  \n",
      "1331        153.000  \n",
      "1348        142.125  \n",
      "1351         14.625  \n",
      "1374         75.625  \n",
      "1377        133.000  \n",
      "1401         23.625  \n",
      "1437         13.125  \n",
      "1443         37.500  \n"
     ]
    }
   ],
   "source": [
    "def find_outlier_rows_iqr(df, column):\n",
    "    Q1 = df[column].quantile(0.25)\n",
    "    Q3 = df[column].quantile(0.75)\n",
    "    IQR = Q3 - Q1\n",
    "    outlier_condition = (df[column] < (Q1 - 1.5 * IQR)) | (df[column] > (Q3 + 1.5 * IQR))\n",
    "    outlier_rows = df[outlier_condition]\n",
    "    return outlier_rows\n",
    "\n",
    "\n",
    "# std가 큰 하나의 샘플 열 사용\n",
    "outlier_rows = find_outlier_rows_iqr(df, 'MonthlyIncome')\n",
    "print(outlier_rows)"
   ]
  },
  {
   "cell_type": "markdown",
   "metadata": {},
   "source": [
    "### 2. 유의미한 시각화 5개 이상 수행하기"
   ]
  },
  {
   "cell_type": "code",
   "execution_count": 9,
   "metadata": {},
   "outputs": [
    {
     "data": {
      "application/vnd.plotly.v1+json": {
       "config": {
        "plotlyServerURL": "https://plot.ly"
       },
       "data": [
        {
         "alignmentgroup": "True",
         "bingroup": "x",
         "hovertemplate": "Attrition=Yes<br>Department=%{x}<br>count=%{y}<extra></extra>",
         "legendgroup": "Yes",
         "marker": {
          "color": "#636efa",
          "pattern": {
           "shape": ""
          }
         },
         "name": "Yes",
         "offsetgroup": "Yes",
         "orientation": "v",
         "showlegend": true,
         "type": "histogram",
         "x": [
          "Sales",
          "Research & Development",
          "Research & Development",
          "Sales",
          "Research & Development",
          "Research & Development",
          "Sales",
          "Research & Development",
          "Sales",
          "Research & Development",
          "Research & Development",
          "Research & Development",
          "Research & Development",
          "Research & Development",
          "Sales",
          "Human Resources",
          "Research & Development",
          "Sales",
          "Research & Development",
          "Research & Development",
          "Sales",
          "Research & Development",
          "Sales",
          "Sales",
          "Research & Development",
          "Research & Development",
          "Sales",
          "Research & Development",
          "Sales",
          "Research & Development",
          "Research & Development",
          "Sales",
          "Sales",
          "Research & Development",
          "Sales",
          "Research & Development",
          "Research & Development",
          "Research & Development",
          "Research & Development",
          "Research & Development",
          "Research & Development",
          "Research & Development",
          "Research & Development",
          "Research & Development",
          "Research & Development",
          "Research & Development",
          "Sales",
          "Research & Development",
          "Research & Development",
          "Research & Development",
          "Sales",
          "Research & Development",
          "Sales",
          "Sales",
          "Sales",
          "Sales",
          "Sales",
          "Sales",
          "Research & Development",
          "Research & Development",
          "Research & Development",
          "Sales",
          "Sales",
          "Research & Development",
          "Human Resources",
          "Research & Development",
          "Research & Development",
          "Research & Development",
          "Human Resources",
          "Research & Development",
          "Human Resources",
          "Sales",
          "Research & Development",
          "Sales",
          "Research & Development",
          "Sales",
          "Sales",
          "Sales",
          "Sales",
          "Research & Development",
          "Research & Development",
          "Sales",
          "Sales",
          "Research & Development",
          "Research & Development",
          "Research & Development",
          "Sales",
          "Research & Development",
          "Sales",
          "Research & Development",
          "Research & Development",
          "Sales",
          "Research & Development",
          "Research & Development",
          "Sales",
          "Sales",
          "Research & Development",
          "Research & Development",
          "Sales",
          "Research & Development",
          "Research & Development",
          "Sales",
          "Research & Development",
          "Research & Development",
          "Research & Development",
          "Research & Development",
          "Sales",
          "Sales",
          "Research & Development",
          "Sales",
          "Sales",
          "Research & Development",
          "Sales",
          "Research & Development",
          "Research & Development",
          "Research & Development",
          "Research & Development",
          "Research & Development",
          "Research & Development",
          "Research & Development",
          "Sales",
          "Sales",
          "Research & Development",
          "Research & Development",
          "Research & Development",
          "Sales",
          "Research & Development",
          "Research & Development",
          "Research & Development",
          "Human Resources",
          "Sales",
          "Research & Development",
          "Research & Development",
          "Research & Development",
          "Research & Development",
          "Research & Development",
          "Sales",
          "Research & Development",
          "Research & Development",
          "Sales",
          "Research & Development",
          "Sales",
          "Sales",
          "Research & Development",
          "Sales",
          "Research & Development",
          "Research & Development",
          "Research & Development",
          "Research & Development",
          "Research & Development",
          "Sales",
          "Sales",
          "Research & Development",
          "Research & Development",
          "Research & Development",
          "Research & Development",
          "Research & Development",
          "Sales",
          "Sales",
          "Sales",
          "Research & Development",
          "Research & Development",
          "Sales",
          "Sales",
          "Sales",
          "Research & Development",
          "Research & Development",
          "Research & Development",
          "Research & Development",
          "Sales",
          "Research & Development",
          "Sales",
          "Sales",
          "Research & Development",
          "Research & Development",
          "Research & Development",
          "Human Resources",
          "Sales",
          "Sales",
          "Sales",
          "Research & Development",
          "Research & Development",
          "Research & Development",
          "Research & Development",
          "Research & Development",
          "Sales",
          "Research & Development",
          "Research & Development",
          "Research & Development",
          "Research & Development",
          "Sales",
          "Sales",
          "Sales",
          "Research & Development",
          "Sales",
          "Research & Development",
          "Sales",
          "Research & Development",
          "Sales",
          "Human Resources",
          "Sales",
          "Sales",
          "Sales",
          "Human Resources",
          "Sales",
          "Sales",
          "Sales",
          "Research & Development",
          "Sales",
          "Research & Development",
          "Research & Development",
          "Sales",
          "Research & Development",
          "Research & Development",
          "Human Resources",
          "Research & Development",
          "Human Resources",
          "Human Resources",
          "Sales",
          "Research & Development",
          "Sales",
          "Sales",
          "Research & Development",
          "Research & Development",
          "Research & Development",
          "Sales",
          "Sales",
          "Research & Development",
          "Human Resources",
          "Research & Development",
          "Sales",
          "Sales",
          "Sales",
          "Research & Development",
          "Research & Development",
          "Sales",
          "Sales"
         ],
         "xaxis": "x",
         "yaxis": "y"
        },
        {
         "alignmentgroup": "True",
         "bingroup": "x",
         "hovertemplate": "Attrition=No<br>Department=%{x}<br>count=%{y}<extra></extra>",
         "legendgroup": "No",
         "marker": {
          "color": "#EF553B",
          "pattern": {
           "shape": ""
          }
         },
         "name": "No",
         "offsetgroup": "No",
         "orientation": "v",
         "showlegend": true,
         "type": "histogram",
         "x": [
          "Research & Development",
          "Research & Development",
          "Research & Development",
          "Research & Development",
          "Research & Development",
          "Research & Development",
          "Research & Development",
          "Research & Development",
          "Research & Development",
          "Research & Development",
          "Research & Development",
          "Research & Development",
          "Research & Development",
          "Research & Development",
          "Research & Development",
          "Sales",
          "Research & Development",
          "Research & Development",
          "Research & Development",
          "Research & Development",
          "Research & Development",
          "Sales",
          "Research & Development",
          "Sales",
          "Research & Development",
          "Research & Development",
          "Research & Development",
          "Research & Development",
          "Sales",
          "Research & Development",
          "Sales",
          "Research & Development",
          "Research & Development",
          "Sales",
          "Research & Development",
          "Sales",
          "Research & Development",
          "Sales",
          "Research & Development",
          "Sales",
          "Research & Development",
          "Sales",
          "Research & Development",
          "Sales",
          "Research & Development",
          "Research & Development",
          "Research & Development",
          "Research & Development",
          "Research & Development",
          "Research & Development",
          "Sales",
          "Research & Development",
          "Research & Development",
          "Research & Development",
          "Research & Development",
          "Research & Development",
          "Sales",
          "Research & Development",
          "Research & Development",
          "Research & Development",
          "Research & Development",
          "Research & Development",
          "Sales",
          "Research & Development",
          "Research & Development",
          "Human Resources",
          "Research & Development",
          "Research & Development",
          "Sales",
          "Research & Development",
          "Research & Development",
          "Research & Development",
          "Sales",
          "Research & Development",
          "Research & Development",
          "Research & Development",
          "Sales",
          "Sales",
          "Research & Development",
          "Sales",
          "Research & Development",
          "Sales",
          "Sales",
          "Sales",
          "Research & Development",
          "Research & Development",
          "Research & Development",
          "Research & Development",
          "Human Resources",
          "Research & Development",
          "Research & Development",
          "Research & Development",
          "Research & Development",
          "Human Resources",
          "Research & Development",
          "Research & Development",
          "Sales",
          "Research & Development",
          "Sales",
          "Research & Development",
          "Sales",
          "Research & Development",
          "Sales",
          "Research & Development",
          "Research & Development",
          "Research & Development",
          "Research & Development",
          "Research & Development",
          "Sales",
          "Sales",
          "Human Resources",
          "Research & Development",
          "Sales",
          "Sales",
          "Human Resources",
          "Research & Development",
          "Research & Development",
          "Research & Development",
          "Sales",
          "Research & Development",
          "Research & Development",
          "Research & Development",
          "Research & Development",
          "Research & Development",
          "Research & Development",
          "Sales",
          "Sales",
          "Research & Development",
          "Sales",
          "Research & Development",
          "Research & Development",
          "Research & Development",
          "Sales",
          "Sales",
          "Research & Development",
          "Research & Development",
          "Research & Development",
          "Research & Development",
          "Research & Development",
          "Research & Development",
          "Research & Development",
          "Sales",
          "Sales",
          "Research & Development",
          "Research & Development",
          "Research & Development",
          "Research & Development",
          "Sales",
          "Research & Development",
          "Research & Development",
          "Sales",
          "Research & Development",
          "Research & Development",
          "Research & Development",
          "Research & Development",
          "Research & Development",
          "Research & Development",
          "Research & Development",
          "Research & Development",
          "Research & Development",
          "Research & Development",
          "Research & Development",
          "Research & Development",
          "Research & Development",
          "Research & Development",
          "Research & Development",
          "Research & Development",
          "Research & Development",
          "Research & Development",
          "Research & Development",
          "Research & Development",
          "Research & Development",
          "Research & Development",
          "Research & Development",
          "Research & Development",
          "Research & Development",
          "Research & Development",
          "Research & Development",
          "Research & Development",
          "Sales",
          "Research & Development",
          "Sales",
          "Sales",
          "Sales",
          "Research & Development",
          "Research & Development",
          "Research & Development",
          "Sales",
          "Research & Development",
          "Research & Development",
          "Sales",
          "Sales",
          "Sales",
          "Research & Development",
          "Research & Development",
          "Human Resources",
          "Sales",
          "Sales",
          "Sales",
          "Sales",
          "Research & Development",
          "Sales",
          "Research & Development",
          "Research & Development",
          "Research & Development",
          "Research & Development",
          "Research & Development",
          "Research & Development",
          "Research & Development",
          "Research & Development",
          "Research & Development",
          "Research & Development",
          "Research & Development",
          "Sales",
          "Research & Development",
          "Research & Development",
          "Research & Development",
          "Research & Development",
          "Research & Development",
          "Sales",
          "Research & Development",
          "Sales",
          "Sales",
          "Research & Development",
          "Research & Development",
          "Research & Development",
          "Research & Development",
          "Research & Development",
          "Research & Development",
          "Sales",
          "Research & Development",
          "Research & Development",
          "Research & Development",
          "Sales",
          "Research & Development",
          "Research & Development",
          "Research & Development",
          "Sales",
          "Sales",
          "Research & Development",
          "Research & Development",
          "Research & Development",
          "Research & Development",
          "Research & Development",
          "Research & Development",
          "Research & Development",
          "Sales",
          "Research & Development",
          "Sales",
          "Sales",
          "Research & Development",
          "Research & Development",
          "Sales",
          "Sales",
          "Research & Development",
          "Sales",
          "Research & Development",
          "Research & Development",
          "Sales",
          "Research & Development",
          "Research & Development",
          "Research & Development",
          "Human Resources",
          "Research & Development",
          "Research & Development",
          "Research & Development",
          "Research & Development",
          "Research & Development",
          "Research & Development",
          "Research & Development",
          "Sales",
          "Sales",
          "Sales",
          "Research & Development",
          "Research & Development",
          "Research & Development",
          "Research & Development",
          "Sales",
          "Research & Development",
          "Research & Development",
          "Sales",
          "Research & Development",
          "Research & Development",
          "Research & Development",
          "Sales",
          "Research & Development",
          "Sales",
          "Sales",
          "Research & Development",
          "Research & Development",
          "Research & Development",
          "Sales",
          "Research & Development",
          "Research & Development",
          "Research & Development",
          "Sales",
          "Research & Development",
          "Sales",
          "Human Resources",
          "Research & Development",
          "Sales",
          "Research & Development",
          "Sales",
          "Sales",
          "Research & Development",
          "Sales",
          "Sales",
          "Research & Development",
          "Research & Development",
          "Sales",
          "Research & Development",
          "Research & Development",
          "Research & Development",
          "Research & Development",
          "Research & Development",
          "Research & Development",
          "Research & Development",
          "Sales",
          "Research & Development",
          "Sales",
          "Research & Development",
          "Research & Development",
          "Sales",
          "Sales",
          "Research & Development",
          "Sales",
          "Research & Development",
          "Sales",
          "Research & Development",
          "Research & Development",
          "Research & Development",
          "Research & Development",
          "Research & Development",
          "Sales",
          "Research & Development",
          "Research & Development",
          "Research & Development",
          "Sales",
          "Research & Development",
          "Research & Development",
          "Research & Development",
          "Sales",
          "Sales",
          "Sales",
          "Research & Development",
          "Research & Development",
          "Research & Development",
          "Research & Development",
          "Research & Development",
          "Research & Development",
          "Research & Development",
          "Research & Development",
          "Research & Development",
          "Research & Development",
          "Sales",
          "Research & Development",
          "Research & Development",
          "Research & Development",
          "Sales",
          "Sales",
          "Research & Development",
          "Research & Development",
          "Sales",
          "Research & Development",
          "Research & Development",
          "Research & Development",
          "Research & Development",
          "Research & Development",
          "Sales",
          "Research & Development",
          "Sales",
          "Research & Development",
          "Research & Development",
          "Sales",
          "Sales",
          "Sales",
          "Sales",
          "Sales",
          "Research & Development",
          "Research & Development",
          "Sales",
          "Research & Development",
          "Sales",
          "Research & Development",
          "Research & Development",
          "Sales",
          "Sales",
          "Research & Development",
          "Sales",
          "Sales",
          "Sales",
          "Research & Development",
          "Research & Development",
          "Sales",
          "Sales",
          "Research & Development",
          "Sales",
          "Research & Development",
          "Research & Development",
          "Research & Development",
          "Research & Development",
          "Sales",
          "Research & Development",
          "Human Resources",
          "Sales",
          "Research & Development",
          "Research & Development",
          "Sales",
          "Research & Development",
          "Sales",
          "Research & Development",
          "Research & Development",
          "Research & Development",
          "Research & Development",
          "Research & Development",
          "Research & Development",
          "Human Resources",
          "Sales",
          "Sales",
          "Research & Development",
          "Research & Development",
          "Sales",
          "Research & Development",
          "Research & Development",
          "Sales",
          "Research & Development",
          "Research & Development",
          "Research & Development",
          "Sales",
          "Research & Development",
          "Research & Development",
          "Human Resources",
          "Research & Development",
          "Research & Development",
          "Research & Development",
          "Research & Development",
          "Sales",
          "Sales",
          "Research & Development",
          "Sales",
          "Sales",
          "Research & Development",
          "Research & Development",
          "Research & Development",
          "Research & Development",
          "Sales",
          "Research & Development",
          "Research & Development",
          "Research & Development",
          "Sales",
          "Sales",
          "Research & Development",
          "Human Resources",
          "Sales",
          "Research & Development",
          "Human Resources",
          "Sales",
          "Research & Development",
          "Research & Development",
          "Research & Development",
          "Sales",
          "Sales",
          "Sales",
          "Sales",
          "Research & Development",
          "Research & Development",
          "Human Resources",
          "Research & Development",
          "Research & Development",
          "Research & Development",
          "Sales",
          "Research & Development",
          "Research & Development",
          "Research & Development",
          "Research & Development",
          "Research & Development",
          "Sales",
          "Sales",
          "Sales",
          "Research & Development",
          "Sales",
          "Sales",
          "Research & Development",
          "Research & Development",
          "Research & Development",
          "Research & Development",
          "Research & Development",
          "Sales",
          "Research & Development",
          "Research & Development",
          "Research & Development",
          "Sales",
          "Research & Development",
          "Research & Development",
          "Sales",
          "Research & Development",
          "Research & Development",
          "Research & Development",
          "Research & Development",
          "Research & Development",
          "Research & Development",
          "Research & Development",
          "Research & Development",
          "Research & Development",
          "Research & Development",
          "Human Resources",
          "Research & Development",
          "Research & Development",
          "Research & Development",
          "Research & Development",
          "Research & Development",
          "Research & Development",
          "Research & Development",
          "Research & Development",
          "Research & Development",
          "Research & Development",
          "Sales",
          "Human Resources",
          "Research & Development",
          "Sales",
          "Research & Development",
          "Research & Development",
          "Sales",
          "Research & Development",
          "Sales",
          "Sales",
          "Research & Development",
          "Sales",
          "Sales",
          "Research & Development",
          "Research & Development",
          "Sales",
          "Human Resources",
          "Research & Development",
          "Research & Development",
          "Research & Development",
          "Human Resources",
          "Sales",
          "Research & Development",
          "Research & Development",
          "Sales",
          "Research & Development",
          "Research & Development",
          "Sales",
          "Sales",
          "Research & Development",
          "Research & Development",
          "Sales",
          "Research & Development",
          "Sales",
          "Research & Development",
          "Research & Development",
          "Sales",
          "Sales",
          "Research & Development",
          "Human Resources",
          "Human Resources",
          "Research & Development",
          "Research & Development",
          "Sales",
          "Research & Development",
          "Research & Development",
          "Sales",
          "Research & Development",
          "Research & Development",
          "Research & Development",
          "Sales",
          "Research & Development",
          "Research & Development",
          "Sales",
          "Research & Development",
          "Research & Development",
          "Research & Development",
          "Sales",
          "Research & Development",
          "Research & Development",
          "Research & Development",
          "Sales",
          "Sales",
          "Research & Development",
          "Research & Development",
          "Research & Development",
          "Research & Development",
          "Research & Development",
          "Research & Development",
          "Research & Development",
          "Sales",
          "Sales",
          "Research & Development",
          "Sales",
          "Sales",
          "Sales",
          "Sales",
          "Sales",
          "Research & Development",
          "Sales",
          "Sales",
          "Research & Development",
          "Research & Development",
          "Research & Development",
          "Research & Development",
          "Research & Development",
          "Research & Development",
          "Research & Development",
          "Sales",
          "Research & Development",
          "Research & Development",
          "Research & Development",
          "Research & Development",
          "Research & Development",
          "Research & Development",
          "Research & Development",
          "Research & Development",
          "Research & Development",
          "Research & Development",
          "Research & Development",
          "Research & Development",
          "Research & Development",
          "Research & Development",
          "Research & Development",
          "Research & Development",
          "Research & Development",
          "Sales",
          "Research & Development",
          "Research & Development",
          "Research & Development",
          "Research & Development",
          "Sales",
          "Sales",
          "Sales",
          "Research & Development",
          "Sales",
          "Sales",
          "Research & Development",
          "Sales",
          "Sales",
          "Human Resources",
          "Sales",
          "Sales",
          "Sales",
          "Research & Development",
          "Research & Development",
          "Research & Development",
          "Sales",
          "Research & Development",
          "Research & Development",
          "Sales",
          "Research & Development",
          "Research & Development",
          "Research & Development",
          "Sales",
          "Research & Development",
          "Research & Development",
          "Research & Development",
          "Research & Development",
          "Research & Development",
          "Research & Development",
          "Research & Development",
          "Research & Development",
          "Research & Development",
          "Research & Development",
          "Research & Development",
          "Research & Development",
          "Sales",
          "Research & Development",
          "Sales",
          "Research & Development",
          "Research & Development",
          "Sales",
          "Research & Development",
          "Sales",
          "Research & Development",
          "Research & Development",
          "Sales",
          "Sales",
          "Research & Development",
          "Research & Development",
          "Research & Development",
          "Research & Development",
          "Research & Development",
          "Sales",
          "Research & Development",
          "Sales",
          "Sales",
          "Research & Development",
          "Research & Development",
          "Research & Development",
          "Research & Development",
          "Human Resources",
          "Research & Development",
          "Research & Development",
          "Research & Development",
          "Research & Development",
          "Sales",
          "Human Resources",
          "Research & Development",
          "Sales",
          "Research & Development",
          "Research & Development",
          "Research & Development",
          "Sales",
          "Research & Development",
          "Research & Development",
          "Research & Development",
          "Research & Development",
          "Sales",
          "Research & Development",
          "Research & Development",
          "Research & Development",
          "Research & Development",
          "Research & Development",
          "Research & Development",
          "Research & Development",
          "Research & Development",
          "Sales",
          "Research & Development",
          "Human Resources",
          "Sales",
          "Sales",
          "Research & Development",
          "Research & Development",
          "Research & Development",
          "Sales",
          "Sales",
          "Research & Development",
          "Research & Development",
          "Research & Development",
          "Sales",
          "Research & Development",
          "Human Resources",
          "Sales",
          "Research & Development",
          "Research & Development",
          "Research & Development",
          "Research & Development",
          "Sales",
          "Sales",
          "Research & Development",
          "Research & Development",
          "Sales",
          "Research & Development",
          "Research & Development",
          "Research & Development",
          "Research & Development",
          "Research & Development",
          "Research & Development",
          "Research & Development",
          "Sales",
          "Research & Development",
          "Research & Development",
          "Research & Development",
          "Research & Development",
          "Research & Development",
          "Research & Development",
          "Research & Development",
          "Research & Development",
          "Research & Development",
          "Sales",
          "Sales",
          "Research & Development",
          "Research & Development",
          "Research & Development",
          "Research & Development",
          "Sales",
          "Sales",
          "Sales",
          "Research & Development",
          "Research & Development",
          "Research & Development",
          "Research & Development",
          "Human Resources",
          "Research & Development",
          "Research & Development",
          "Sales",
          "Research & Development",
          "Research & Development",
          "Research & Development",
          "Research & Development",
          "Research & Development",
          "Research & Development",
          "Sales",
          "Research & Development",
          "Research & Development",
          "Research & Development",
          "Research & Development",
          "Research & Development",
          "Human Resources",
          "Research & Development",
          "Research & Development",
          "Research & Development",
          "Research & Development",
          "Sales",
          "Sales",
          "Research & Development",
          "Research & Development",
          "Human Resources",
          "Research & Development",
          "Research & Development",
          "Research & Development",
          "Sales",
          "Research & Development",
          "Human Resources",
          "Sales",
          "Sales",
          "Research & Development",
          "Research & Development",
          "Sales",
          "Research & Development",
          "Sales",
          "Research & Development",
          "Research & Development",
          "Research & Development",
          "Sales",
          "Research & Development",
          "Research & Development",
          "Research & Development",
          "Research & Development",
          "Research & Development",
          "Research & Development",
          "Sales",
          "Sales",
          "Sales",
          "Research & Development",
          "Research & Development",
          "Sales",
          "Sales",
          "Research & Development",
          "Sales",
          "Research & Development",
          "Research & Development",
          "Sales",
          "Research & Development",
          "Human Resources",
          "Research & Development",
          "Research & Development",
          "Research & Development",
          "Research & Development",
          "Research & Development",
          "Human Resources",
          "Research & Development",
          "Research & Development",
          "Research & Development",
          "Sales",
          "Sales",
          "Research & Development",
          "Research & Development",
          "Research & Development",
          "Research & Development",
          "Sales",
          "Research & Development",
          "Research & Development",
          "Research & Development",
          "Research & Development",
          "Sales",
          "Sales",
          "Research & Development",
          "Research & Development",
          "Research & Development",
          "Sales",
          "Research & Development",
          "Human Resources",
          "Research & Development",
          "Sales",
          "Research & Development",
          "Sales",
          "Research & Development",
          "Research & Development",
          "Research & Development",
          "Research & Development",
          "Research & Development",
          "Sales",
          "Sales",
          "Sales",
          "Research & Development",
          "Sales",
          "Research & Development",
          "Research & Development",
          "Research & Development",
          "Research & Development",
          "Sales",
          "Sales",
          "Research & Development",
          "Sales",
          "Human Resources",
          "Research & Development",
          "Research & Development",
          "Sales",
          "Research & Development",
          "Sales",
          "Research & Development",
          "Research & Development",
          "Research & Development",
          "Research & Development",
          "Research & Development",
          "Research & Development",
          "Research & Development",
          "Research & Development",
          "Sales",
          "Research & Development",
          "Research & Development",
          "Sales",
          "Research & Development",
          "Sales",
          "Research & Development",
          "Research & Development",
          "Research & Development",
          "Research & Development",
          "Research & Development",
          "Research & Development",
          "Sales",
          "Research & Development",
          "Human Resources",
          "Research & Development",
          "Research & Development",
          "Research & Development",
          "Sales",
          "Research & Development",
          "Sales",
          "Sales",
          "Research & Development",
          "Sales",
          "Human Resources",
          "Research & Development",
          "Sales",
          "Research & Development",
          "Research & Development",
          "Research & Development",
          "Sales",
          "Research & Development",
          "Research & Development",
          "Sales",
          "Sales",
          "Sales",
          "Research & Development",
          "Research & Development",
          "Sales",
          "Research & Development",
          "Sales",
          "Research & Development",
          "Research & Development",
          "Research & Development",
          "Research & Development",
          "Research & Development",
          "Sales",
          "Research & Development",
          "Research & Development",
          "Sales",
          "Research & Development",
          "Research & Development",
          "Research & Development",
          "Research & Development",
          "Research & Development",
          "Research & Development",
          "Sales",
          "Sales",
          "Research & Development",
          "Research & Development",
          "Research & Development",
          "Research & Development",
          "Research & Development",
          "Research & Development",
          "Research & Development",
          "Research & Development",
          "Human Resources",
          "Research & Development",
          "Research & Development",
          "Research & Development",
          "Research & Development",
          "Research & Development",
          "Research & Development",
          "Research & Development",
          "Research & Development",
          "Research & Development",
          "Human Resources",
          "Research & Development",
          "Research & Development",
          "Research & Development",
          "Research & Development",
          "Sales",
          "Research & Development",
          "Research & Development",
          "Research & Development",
          "Research & Development",
          "Research & Development",
          "Sales",
          "Research & Development",
          "Research & Development",
          "Research & Development",
          "Research & Development",
          "Research & Development",
          "Research & Development",
          "Research & Development",
          "Research & Development",
          "Sales",
          "Sales",
          "Research & Development",
          "Sales",
          "Research & Development",
          "Research & Development",
          "Sales",
          "Research & Development",
          "Sales",
          "Sales",
          "Sales",
          "Research & Development",
          "Human Resources",
          "Research & Development",
          "Research & Development",
          "Research & Development",
          "Research & Development",
          "Research & Development",
          "Research & Development",
          "Research & Development",
          "Sales",
          "Research & Development",
          "Research & Development",
          "Research & Development",
          "Sales",
          "Research & Development",
          "Sales",
          "Research & Development",
          "Sales",
          "Research & Development",
          "Research & Development",
          "Research & Development",
          "Research & Development",
          "Research & Development",
          "Human Resources",
          "Research & Development",
          "Research & Development",
          "Research & Development",
          "Research & Development",
          "Research & Development",
          "Sales",
          "Sales",
          "Research & Development",
          "Research & Development",
          "Research & Development",
          "Sales",
          "Sales",
          "Human Resources",
          "Research & Development",
          "Human Resources",
          "Sales",
          "Research & Development",
          "Research & Development",
          "Sales",
          "Research & Development",
          "Sales",
          "Sales",
          "Research & Development",
          "Research & Development",
          "Research & Development",
          "Research & Development",
          "Research & Development",
          "Research & Development",
          "Research & Development",
          "Research & Development",
          "Research & Development",
          "Sales",
          "Research & Development",
          "Human Resources",
          "Sales",
          "Research & Development",
          "Sales",
          "Research & Development",
          "Sales",
          "Research & Development",
          "Research & Development",
          "Human Resources",
          "Research & Development",
          "Research & Development",
          "Research & Development",
          "Sales",
          "Research & Development",
          "Research & Development",
          "Research & Development",
          "Human Resources",
          "Sales",
          "Research & Development",
          "Research & Development",
          "Sales",
          "Research & Development",
          "Research & Development",
          "Sales",
          "Sales",
          "Research & Development",
          "Research & Development",
          "Research & Development",
          "Research & Development",
          "Sales",
          "Research & Development",
          "Sales",
          "Sales",
          "Research & Development",
          "Research & Development",
          "Sales",
          "Research & Development",
          "Sales",
          "Research & Development",
          "Research & Development",
          "Sales",
          "Research & Development",
          "Research & Development",
          "Research & Development",
          "Human Resources",
          "Research & Development",
          "Research & Development",
          "Sales",
          "Sales",
          "Human Resources",
          "Research & Development",
          "Research & Development",
          "Research & Development",
          "Research & Development",
          "Research & Development",
          "Sales",
          "Sales",
          "Research & Development",
          "Sales",
          "Research & Development",
          "Research & Development",
          "Research & Development",
          "Research & Development",
          "Human Resources",
          "Research & Development",
          "Research & Development",
          "Sales",
          "Research & Development",
          "Research & Development",
          "Sales",
          "Sales",
          "Research & Development",
          "Sales",
          "Sales",
          "Research & Development",
          "Research & Development",
          "Research & Development",
          "Sales",
          "Sales",
          "Sales",
          "Research & Development",
          "Research & Development",
          "Research & Development",
          "Sales",
          "Research & Development",
          "Research & Development",
          "Sales",
          "Research & Development",
          "Research & Development",
          "Sales",
          "Sales",
          "Research & Development",
          "Research & Development",
          "Research & Development",
          "Sales",
          "Sales",
          "Research & Development",
          "Research & Development",
          "Research & Development",
          "Research & Development",
          "Sales",
          "Sales",
          "Sales",
          "Research & Development",
          "Research & Development",
          "Research & Development",
          "Research & Development",
          "Human Resources",
          "Human Resources",
          "Research & Development",
          "Sales",
          "Research & Development",
          "Research & Development",
          "Research & Development",
          "Research & Development",
          "Research & Development",
          "Research & Development",
          "Sales",
          "Human Resources",
          "Research & Development",
          "Research & Development",
          "Research & Development",
          "Research & Development",
          "Sales",
          "Sales",
          "Research & Development",
          "Research & Development",
          "Research & Development",
          "Research & Development",
          "Research & Development",
          "Research & Development",
          "Research & Development",
          "Research & Development",
          "Research & Development",
          "Research & Development",
          "Sales",
          "Research & Development",
          "Research & Development",
          "Sales",
          "Research & Development",
          "Sales",
          "Sales",
          "Research & Development",
          "Sales",
          "Research & Development",
          "Sales",
          "Research & Development",
          "Research & Development",
          "Research & Development",
          "Research & Development",
          "Sales",
          "Sales",
          "Sales",
          "Research & Development",
          "Human Resources",
          "Sales",
          "Sales",
          "Sales",
          "Research & Development",
          "Research & Development",
          "Research & Development",
          "Research & Development",
          "Research & Development",
          "Research & Development",
          "Sales",
          "Research & Development",
          "Sales",
          "Research & Development",
          "Research & Development",
          "Research & Development",
          "Sales",
          "Research & Development"
         ],
         "xaxis": "x",
         "yaxis": "y"
        }
       ],
       "layout": {
        "autosize": false,
        "barmode": "relative",
        "legend": {
         "title": {
          "text": "Attrition"
         },
         "tracegroupgap": 0
        },
        "margin": {
         "t": 60
        },
        "template": {
         "data": {
          "bar": [
           {
            "error_x": {
             "color": "#2a3f5f"
            },
            "error_y": {
             "color": "#2a3f5f"
            },
            "marker": {
             "line": {
              "color": "#E5ECF6",
              "width": 0.5
             },
             "pattern": {
              "fillmode": "overlay",
              "size": 10,
              "solidity": 0.2
             }
            },
            "type": "bar"
           }
          ],
          "barpolar": [
           {
            "marker": {
             "line": {
              "color": "#E5ECF6",
              "width": 0.5
             },
             "pattern": {
              "fillmode": "overlay",
              "size": 10,
              "solidity": 0.2
             }
            },
            "type": "barpolar"
           }
          ],
          "carpet": [
           {
            "aaxis": {
             "endlinecolor": "#2a3f5f",
             "gridcolor": "white",
             "linecolor": "white",
             "minorgridcolor": "white",
             "startlinecolor": "#2a3f5f"
            },
            "baxis": {
             "endlinecolor": "#2a3f5f",
             "gridcolor": "white",
             "linecolor": "white",
             "minorgridcolor": "white",
             "startlinecolor": "#2a3f5f"
            },
            "type": "carpet"
           }
          ],
          "choropleth": [
           {
            "colorbar": {
             "outlinewidth": 0,
             "ticks": ""
            },
            "type": "choropleth"
           }
          ],
          "contour": [
           {
            "colorbar": {
             "outlinewidth": 0,
             "ticks": ""
            },
            "colorscale": [
             [
              0,
              "#0d0887"
             ],
             [
              0.1111111111111111,
              "#46039f"
             ],
             [
              0.2222222222222222,
              "#7201a8"
             ],
             [
              0.3333333333333333,
              "#9c179e"
             ],
             [
              0.4444444444444444,
              "#bd3786"
             ],
             [
              0.5555555555555556,
              "#d8576b"
             ],
             [
              0.6666666666666666,
              "#ed7953"
             ],
             [
              0.7777777777777778,
              "#fb9f3a"
             ],
             [
              0.8888888888888888,
              "#fdca26"
             ],
             [
              1,
              "#f0f921"
             ]
            ],
            "type": "contour"
           }
          ],
          "contourcarpet": [
           {
            "colorbar": {
             "outlinewidth": 0,
             "ticks": ""
            },
            "type": "contourcarpet"
           }
          ],
          "heatmap": [
           {
            "colorbar": {
             "outlinewidth": 0,
             "ticks": ""
            },
            "colorscale": [
             [
              0,
              "#0d0887"
             ],
             [
              0.1111111111111111,
              "#46039f"
             ],
             [
              0.2222222222222222,
              "#7201a8"
             ],
             [
              0.3333333333333333,
              "#9c179e"
             ],
             [
              0.4444444444444444,
              "#bd3786"
             ],
             [
              0.5555555555555556,
              "#d8576b"
             ],
             [
              0.6666666666666666,
              "#ed7953"
             ],
             [
              0.7777777777777778,
              "#fb9f3a"
             ],
             [
              0.8888888888888888,
              "#fdca26"
             ],
             [
              1,
              "#f0f921"
             ]
            ],
            "type": "heatmap"
           }
          ],
          "heatmapgl": [
           {
            "colorbar": {
             "outlinewidth": 0,
             "ticks": ""
            },
            "colorscale": [
             [
              0,
              "#0d0887"
             ],
             [
              0.1111111111111111,
              "#46039f"
             ],
             [
              0.2222222222222222,
              "#7201a8"
             ],
             [
              0.3333333333333333,
              "#9c179e"
             ],
             [
              0.4444444444444444,
              "#bd3786"
             ],
             [
              0.5555555555555556,
              "#d8576b"
             ],
             [
              0.6666666666666666,
              "#ed7953"
             ],
             [
              0.7777777777777778,
              "#fb9f3a"
             ],
             [
              0.8888888888888888,
              "#fdca26"
             ],
             [
              1,
              "#f0f921"
             ]
            ],
            "type": "heatmapgl"
           }
          ],
          "histogram": [
           {
            "marker": {
             "pattern": {
              "fillmode": "overlay",
              "size": 10,
              "solidity": 0.2
             }
            },
            "type": "histogram"
           }
          ],
          "histogram2d": [
           {
            "colorbar": {
             "outlinewidth": 0,
             "ticks": ""
            },
            "colorscale": [
             [
              0,
              "#0d0887"
             ],
             [
              0.1111111111111111,
              "#46039f"
             ],
             [
              0.2222222222222222,
              "#7201a8"
             ],
             [
              0.3333333333333333,
              "#9c179e"
             ],
             [
              0.4444444444444444,
              "#bd3786"
             ],
             [
              0.5555555555555556,
              "#d8576b"
             ],
             [
              0.6666666666666666,
              "#ed7953"
             ],
             [
              0.7777777777777778,
              "#fb9f3a"
             ],
             [
              0.8888888888888888,
              "#fdca26"
             ],
             [
              1,
              "#f0f921"
             ]
            ],
            "type": "histogram2d"
           }
          ],
          "histogram2dcontour": [
           {
            "colorbar": {
             "outlinewidth": 0,
             "ticks": ""
            },
            "colorscale": [
             [
              0,
              "#0d0887"
             ],
             [
              0.1111111111111111,
              "#46039f"
             ],
             [
              0.2222222222222222,
              "#7201a8"
             ],
             [
              0.3333333333333333,
              "#9c179e"
             ],
             [
              0.4444444444444444,
              "#bd3786"
             ],
             [
              0.5555555555555556,
              "#d8576b"
             ],
             [
              0.6666666666666666,
              "#ed7953"
             ],
             [
              0.7777777777777778,
              "#fb9f3a"
             ],
             [
              0.8888888888888888,
              "#fdca26"
             ],
             [
              1,
              "#f0f921"
             ]
            ],
            "type": "histogram2dcontour"
           }
          ],
          "mesh3d": [
           {
            "colorbar": {
             "outlinewidth": 0,
             "ticks": ""
            },
            "type": "mesh3d"
           }
          ],
          "parcoords": [
           {
            "line": {
             "colorbar": {
              "outlinewidth": 0,
              "ticks": ""
             }
            },
            "type": "parcoords"
           }
          ],
          "pie": [
           {
            "automargin": true,
            "type": "pie"
           }
          ],
          "scatter": [
           {
            "fillpattern": {
             "fillmode": "overlay",
             "size": 10,
             "solidity": 0.2
            },
            "type": "scatter"
           }
          ],
          "scatter3d": [
           {
            "line": {
             "colorbar": {
              "outlinewidth": 0,
              "ticks": ""
             }
            },
            "marker": {
             "colorbar": {
              "outlinewidth": 0,
              "ticks": ""
             }
            },
            "type": "scatter3d"
           }
          ],
          "scattercarpet": [
           {
            "marker": {
             "colorbar": {
              "outlinewidth": 0,
              "ticks": ""
             }
            },
            "type": "scattercarpet"
           }
          ],
          "scattergeo": [
           {
            "marker": {
             "colorbar": {
              "outlinewidth": 0,
              "ticks": ""
             }
            },
            "type": "scattergeo"
           }
          ],
          "scattergl": [
           {
            "marker": {
             "colorbar": {
              "outlinewidth": 0,
              "ticks": ""
             }
            },
            "type": "scattergl"
           }
          ],
          "scattermapbox": [
           {
            "marker": {
             "colorbar": {
              "outlinewidth": 0,
              "ticks": ""
             }
            },
            "type": "scattermapbox"
           }
          ],
          "scatterpolar": [
           {
            "marker": {
             "colorbar": {
              "outlinewidth": 0,
              "ticks": ""
             }
            },
            "type": "scatterpolar"
           }
          ],
          "scatterpolargl": [
           {
            "marker": {
             "colorbar": {
              "outlinewidth": 0,
              "ticks": ""
             }
            },
            "type": "scatterpolargl"
           }
          ],
          "scatterternary": [
           {
            "marker": {
             "colorbar": {
              "outlinewidth": 0,
              "ticks": ""
             }
            },
            "type": "scatterternary"
           }
          ],
          "surface": [
           {
            "colorbar": {
             "outlinewidth": 0,
             "ticks": ""
            },
            "colorscale": [
             [
              0,
              "#0d0887"
             ],
             [
              0.1111111111111111,
              "#46039f"
             ],
             [
              0.2222222222222222,
              "#7201a8"
             ],
             [
              0.3333333333333333,
              "#9c179e"
             ],
             [
              0.4444444444444444,
              "#bd3786"
             ],
             [
              0.5555555555555556,
              "#d8576b"
             ],
             [
              0.6666666666666666,
              "#ed7953"
             ],
             [
              0.7777777777777778,
              "#fb9f3a"
             ],
             [
              0.8888888888888888,
              "#fdca26"
             ],
             [
              1,
              "#f0f921"
             ]
            ],
            "type": "surface"
           }
          ],
          "table": [
           {
            "cells": {
             "fill": {
              "color": "#EBF0F8"
             },
             "line": {
              "color": "white"
             }
            },
            "header": {
             "fill": {
              "color": "#C8D4E3"
             },
             "line": {
              "color": "white"
             }
            },
            "type": "table"
           }
          ]
         },
         "layout": {
          "annotationdefaults": {
           "arrowcolor": "#2a3f5f",
           "arrowhead": 0,
           "arrowwidth": 1
          },
          "autotypenumbers": "strict",
          "coloraxis": {
           "colorbar": {
            "outlinewidth": 0,
            "ticks": ""
           }
          },
          "colorscale": {
           "diverging": [
            [
             0,
             "#8e0152"
            ],
            [
             0.1,
             "#c51b7d"
            ],
            [
             0.2,
             "#de77ae"
            ],
            [
             0.3,
             "#f1b6da"
            ],
            [
             0.4,
             "#fde0ef"
            ],
            [
             0.5,
             "#f7f7f7"
            ],
            [
             0.6,
             "#e6f5d0"
            ],
            [
             0.7,
             "#b8e186"
            ],
            [
             0.8,
             "#7fbc41"
            ],
            [
             0.9,
             "#4d9221"
            ],
            [
             1,
             "#276419"
            ]
           ],
           "sequential": [
            [
             0,
             "#0d0887"
            ],
            [
             0.1111111111111111,
             "#46039f"
            ],
            [
             0.2222222222222222,
             "#7201a8"
            ],
            [
             0.3333333333333333,
             "#9c179e"
            ],
            [
             0.4444444444444444,
             "#bd3786"
            ],
            [
             0.5555555555555556,
             "#d8576b"
            ],
            [
             0.6666666666666666,
             "#ed7953"
            ],
            [
             0.7777777777777778,
             "#fb9f3a"
            ],
            [
             0.8888888888888888,
             "#fdca26"
            ],
            [
             1,
             "#f0f921"
            ]
           ],
           "sequentialminus": [
            [
             0,
             "#0d0887"
            ],
            [
             0.1111111111111111,
             "#46039f"
            ],
            [
             0.2222222222222222,
             "#7201a8"
            ],
            [
             0.3333333333333333,
             "#9c179e"
            ],
            [
             0.4444444444444444,
             "#bd3786"
            ],
            [
             0.5555555555555556,
             "#d8576b"
            ],
            [
             0.6666666666666666,
             "#ed7953"
            ],
            [
             0.7777777777777778,
             "#fb9f3a"
            ],
            [
             0.8888888888888888,
             "#fdca26"
            ],
            [
             1,
             "#f0f921"
            ]
           ]
          },
          "colorway": [
           "#636efa",
           "#EF553B",
           "#00cc96",
           "#ab63fa",
           "#FFA15A",
           "#19d3f3",
           "#FF6692",
           "#B6E880",
           "#FF97FF",
           "#FECB52"
          ],
          "font": {
           "color": "#2a3f5f"
          },
          "geo": {
           "bgcolor": "white",
           "lakecolor": "white",
           "landcolor": "#E5ECF6",
           "showlakes": true,
           "showland": true,
           "subunitcolor": "white"
          },
          "hoverlabel": {
           "align": "left"
          },
          "hovermode": "closest",
          "mapbox": {
           "style": "light"
          },
          "paper_bgcolor": "white",
          "plot_bgcolor": "#E5ECF6",
          "polar": {
           "angularaxis": {
            "gridcolor": "white",
            "linecolor": "white",
            "ticks": ""
           },
           "bgcolor": "#E5ECF6",
           "radialaxis": {
            "gridcolor": "white",
            "linecolor": "white",
            "ticks": ""
           }
          },
          "scene": {
           "xaxis": {
            "backgroundcolor": "#E5ECF6",
            "gridcolor": "white",
            "gridwidth": 2,
            "linecolor": "white",
            "showbackground": true,
            "ticks": "",
            "zerolinecolor": "white"
           },
           "yaxis": {
            "backgroundcolor": "#E5ECF6",
            "gridcolor": "white",
            "gridwidth": 2,
            "linecolor": "white",
            "showbackground": true,
            "ticks": "",
            "zerolinecolor": "white"
           },
           "zaxis": {
            "backgroundcolor": "#E5ECF6",
            "gridcolor": "white",
            "gridwidth": 2,
            "linecolor": "white",
            "showbackground": true,
            "ticks": "",
            "zerolinecolor": "white"
           }
          },
          "shapedefaults": {
           "line": {
            "color": "#2a3f5f"
           }
          },
          "ternary": {
           "aaxis": {
            "gridcolor": "white",
            "linecolor": "white",
            "ticks": ""
           },
           "baxis": {
            "gridcolor": "white",
            "linecolor": "white",
            "ticks": ""
           },
           "bgcolor": "#E5ECF6",
           "caxis": {
            "gridcolor": "white",
            "linecolor": "white",
            "ticks": ""
           }
          },
          "title": {
           "x": 0.05
          },
          "xaxis": {
           "automargin": true,
           "gridcolor": "white",
           "linecolor": "white",
           "ticks": "",
           "title": {
            "standoff": 15
           },
           "zerolinecolor": "white",
           "zerolinewidth": 2
          },
          "yaxis": {
           "automargin": true,
           "gridcolor": "white",
           "linecolor": "white",
           "ticks": "",
           "title": {
            "standoff": 15
           },
           "zerolinecolor": "white",
           "zerolinewidth": 2
          }
         }
        },
        "width": 500,
        "xaxis": {
         "anchor": "y",
         "domain": [
          0,
          1
         ],
         "title": {
          "text": "Department"
         }
        },
        "yaxis": {
         "anchor": "x",
         "domain": [
          0,
          1
         ],
         "title": {
          "text": "count"
         }
        }
       }
      }
     },
     "metadata": {},
     "output_type": "display_data"
    },
    {
     "data": {
      "application/vnd.plotly.v1+json": {
       "config": {
        "plotlyServerURL": "https://plot.ly"
       },
       "data": [
        {
         "alignmentgroup": "True",
         "bingroup": "x",
         "hovertemplate": "Attrition=Yes<br>Age=%{x}<br>count=%{y}<extra></extra>",
         "legendgroup": "Yes",
         "marker": {
          "color": "#636efa",
          "pattern": {
           "shape": ""
          }
         },
         "name": "Yes",
         "offsetgroup": "Yes",
         "orientation": "v",
         "showlegend": true,
         "type": "histogram",
         "x": [
          41,
          37,
          28,
          36,
          34,
          32,
          39,
          24,
          50,
          26,
          41,
          48,
          28,
          36,
          46,
          37,
          20,
          25,
          34,
          56,
          31,
          58,
          19,
          31,
          51,
          32,
          19,
          19,
          41,
          35,
          38,
          29,
          32,
          30,
          30,
          29,
          29,
          33,
          33,
          32,
          37,
          31,
          28,
          47,
          44,
          26,
          26,
          18,
          52,
          28,
          39,
          29,
          21,
          33,
          41,
          40,
          21,
          34,
          26,
          30,
          25,
          24,
          34,
          29,
          19,
          33,
          33,
          31,
          34,
          22,
          26,
          18,
          26,
          32,
          24,
          30,
          31,
          27,
          45,
          20,
          33,
          24,
          50,
          28,
          42,
          33,
          47,
          55,
          26,
          23,
          29,
          33,
          58,
          28,
          49,
          55,
          26,
          35,
          29,
          32,
          58,
          20,
          21,
          22,
          41,
          39,
          25,
          19,
          20,
          36,
          37,
          58,
          40,
          31,
          29,
          30,
          35,
          20,
          30,
          37,
          26,
          52,
          36,
          36,
          26,
          20,
          21,
          51,
          28,
          44,
          35,
          33,
          25,
          26,
          33,
          28,
          50,
          39,
          18,
          33,
          31,
          29,
          42,
          28,
          43,
          44,
          22,
          41,
          24,
          19,
          25,
          45,
          21,
          44,
          29,
          32,
          39,
          40,
          52,
          31,
          44,
          58,
          55,
          31,
          35,
          31,
          27,
          49,
          29,
          31,
          31,
          25,
          46,
          39,
          31,
          31,
          34,
          28,
          29,
          34,
          24,
          28,
          29,
          40,
          31,
          30,
          35,
          53,
          38,
          28,
          18,
          35,
          35,
          40,
          35,
          23,
          48,
          32,
          23,
          24,
          47,
          36,
          32,
          30,
          29,
          33,
          31,
          43,
          21,
          22,
          44,
          35,
          34,
          37,
          26,
          46,
          31,
          29,
          32,
          29,
          46,
          30,
          22,
          34,
          56,
          29,
          28,
          32,
          27,
          28,
          31,
          53,
          23,
          29,
          56,
          50,
          50
         ],
         "xaxis": "x",
         "yaxis": "y"
        },
        {
         "alignmentgroup": "True",
         "bingroup": "x",
         "hovertemplate": "Attrition=No<br>Age=%{x}<br>count=%{y}<extra></extra>",
         "legendgroup": "No",
         "marker": {
          "color": "#EF553B",
          "pattern": {
           "shape": ""
          }
         },
         "name": "No",
         "offsetgroup": "No",
         "orientation": "v",
         "showlegend": true,
         "type": "histogram",
         "x": [
          49,
          33,
          27,
          32,
          59,
          30,
          38,
          36,
          35,
          29,
          31,
          34,
          29,
          32,
          22,
          53,
          38,
          24,
          34,
          21,
          53,
          42,
          44,
          46,
          33,
          44,
          30,
          43,
          35,
          36,
          33,
          35,
          27,
          27,
          30,
          34,
          37,
          46,
          35,
          44,
          35,
          26,
          33,
          35,
          35,
          31,
          37,
          32,
          38,
          50,
          59,
          36,
          55,
          36,
          45,
          35,
          59,
          29,
          31,
          32,
          36,
          31,
          35,
          45,
          37,
          46,
          30,
          35,
          55,
          38,
          34,
          56,
          23,
          51,
          30,
          40,
          51,
          30,
          46,
          32,
          54,
          24,
          28,
          58,
          44,
          32,
          34,
          37,
          59,
          50,
          25,
          22,
          51,
          54,
          24,
          34,
          37,
          34,
          36,
          36,
          43,
          30,
          33,
          51,
          26,
          22,
          49,
          43,
          50,
          41,
          26,
          36,
          39,
          25,
          30,
          45,
          38,
          30,
          32,
          30,
          30,
          41,
          41,
          19,
          40,
          35,
          53,
          45,
          32,
          29,
          51,
          58,
          40,
          34,
          22,
          27,
          28,
          57,
          27,
          50,
          41,
          30,
          38,
          32,
          27,
          36,
          30,
          45,
          56,
          33,
          46,
          38,
          31,
          34,
          50,
          53,
          33,
          40,
          55,
          34,
          51,
          52,
          27,
          43,
          45,
          37,
          35,
          42,
          38,
          38,
          27,
          49,
          34,
          40,
          22,
          36,
          40,
          46,
          30,
          27,
          51,
          41,
          45,
          54,
          36,
          33,
          37,
          38,
          31,
          59,
          37,
          29,
          35,
          52,
          42,
          59,
          50,
          43,
          52,
          32,
          39,
          32,
          41,
          40,
          45,
          31,
          33,
          34,
          37,
          45,
          39,
          29,
          42,
          29,
          25,
          42,
          40,
          51,
          32,
          38,
          32,
          46,
          29,
          31,
          25,
          45,
          36,
          55,
          28,
          37,
          21,
          37,
          35,
          38,
          26,
          50,
          53,
          42,
          29,
          55,
          26,
          37,
          38,
          28,
          49,
          36,
          31,
          37,
          42,
          35,
          36,
          51,
          41,
          18,
          28,
          31,
          39,
          36,
          32,
          38,
          58,
          31,
          31,
          45,
          31,
          33,
          39,
          43,
          49,
          27,
          32,
          27,
          31,
          32,
          30,
          31,
          39,
          33,
          47,
          43,
          27,
          54,
          43,
          45,
          40,
          29,
          30,
          27,
          37,
          38,
          31,
          29,
          35,
          23,
          41,
          47,
          42,
          29,
          42,
          32,
          48,
          37,
          30,
          26,
          42,
          36,
          36,
          57,
          40,
          21,
          37,
          46,
          50,
          31,
          29,
          35,
          27,
          28,
          49,
          51,
          36,
          55,
          24,
          30,
          22,
          36,
          37,
          40,
          42,
          37,
          43,
          40,
          54,
          34,
          31,
          43,
          43,
          25,
          37,
          31,
          39,
          56,
          30,
          41,
          28,
          52,
          45,
          52,
          42,
          30,
          60,
          46,
          42,
          38,
          40,
          26,
          30,
          29,
          30,
          57,
          50,
          30,
          60,
          47,
          46,
          35,
          54,
          34,
          46,
          31,
          30,
          35,
          42,
          36,
          48,
          55,
          41,
          35,
          40,
          39,
          31,
          42,
          45,
          29,
          33,
          31,
          40,
          41,
          26,
          35,
          34,
          37,
          46,
          41,
          37,
          52,
          24,
          38,
          37,
          49,
          24,
          26,
          24,
          50,
          25,
          34,
          35,
          31,
          27,
          37,
          20,
          42,
          43,
          38,
          43,
          48,
          44,
          34,
          21,
          44,
          22,
          33,
          32,
          30,
          53,
          34,
          26,
          37,
          29,
          35,
          33,
          54,
          36,
          27,
          35,
          23,
          25,
          38,
          29,
          48,
          27,
          37,
          50,
          34,
          39,
          32,
          38,
          27,
          32,
          47,
          40,
          53,
          41,
          60,
          27,
          41,
          50,
          36,
          38,
          44,
          47,
          30,
          29,
          43,
          34,
          23,
          39,
          56,
          40,
          27,
          29,
          53,
          35,
          32,
          38,
          34,
          52,
          25,
          45,
          23,
          34,
          36,
          52,
          26,
          29,
          34,
          54,
          27,
          37,
          38,
          34,
          35,
          30,
          40,
          34,
          42,
          24,
          52,
          50,
          33,
          47,
          36,
          29,
          35,
          42,
          36,
          32,
          40,
          30,
          45,
          42,
          38,
          34,
          43,
          27,
          35,
          28,
          34,
          27,
          51,
          44,
          25,
          33,
          35,
          36,
          32,
          30,
          53,
          45,
          32,
          52,
          37,
          28,
          22,
          44,
          42,
          36,
          25,
          35,
          32,
          25,
          49,
          24,
          32,
          38,
          42,
          31,
          53,
          35,
          37,
          53,
          43,
          47,
          37,
          50,
          39,
          33,
          29,
          44,
          28,
          43,
          36,
          47,
          28,
          27,
          34,
          42,
          33,
          58,
          31,
          35,
          49,
          48,
          31,
          36,
          38,
          32,
          40,
          26,
          41,
          36,
          31,
          40,
          32,
          33,
          45,
          29,
          35,
          52,
          53,
          30,
          38,
          35,
          39,
          47,
          36,
          33,
          33,
          45,
          50,
          33,
          41,
          27,
          45,
          47,
          50,
          38,
          46,
          24,
          31,
          18,
          54,
          35,
          30,
          26,
          22,
          48,
          48,
          41,
          39,
          27,
          35,
          42,
          50,
          59,
          55,
          41,
          38,
          44,
          50,
          39,
          33,
          45,
          32,
          34,
          59,
          45,
          53,
          34,
          28,
          38,
          50,
          37,
          40,
          26,
          46,
          54,
          56,
          36,
          55,
          43,
          46,
          26,
          30,
          41,
          38,
          40,
          27,
          55,
          28,
          33,
          28,
          34,
          37,
          42,
          33,
          34,
          48,
          45,
          52,
          38,
          29,
          28,
          46,
          38,
          43,
          40,
          21,
          39,
          36,
          31,
          28,
          35,
          49,
          34,
          29,
          42,
          29,
          38,
          28,
          41,
          37,
          27,
          34,
          35,
          40,
          42,
          35,
          24,
          26,
          30,
          40,
          35,
          34,
          35,
          32,
          56,
          29,
          19,
          45,
          37,
          20,
          53,
          29,
          46,
          44,
          33,
          30,
          40,
          50,
          28,
          46,
          35,
          33,
          36,
          30,
          44,
          20,
          46,
          42,
          60,
          32,
          32,
          36,
          33,
          40,
          25,
          30,
          42,
          35,
          27,
          54,
          44,
          29,
          54,
          31,
          31,
          59,
          43,
          49,
          36,
          48,
          27,
          29,
          48,
          29,
          34,
          44,
          33,
          19,
          23,
          26,
          55,
          46,
          34,
          51,
          59,
          34,
          28,
          44,
          34,
          35,
          42,
          43,
          36,
          28,
          51,
          30,
          28,
          25,
          32,
          45,
          39,
          58,
          30,
          36,
          46,
          28,
          50,
          30,
          39,
          31,
          41,
          42,
          55,
          56,
          40,
          34,
          40,
          41,
          35,
          51,
          38,
          34,
          25,
          40,
          36,
          48,
          27,
          51,
          18,
          35,
          27,
          56,
          34,
          40,
          34,
          38,
          34,
          28,
          39,
          51,
          41,
          37,
          33,
          32,
          39,
          25,
          52,
          43,
          27,
          26,
          42,
          52,
          37,
          35,
          25,
          26,
          29,
          54,
          58,
          55,
          36,
          30,
          31,
          34,
          27,
          36,
          36,
          47,
          37,
          56,
          47,
          24,
          32,
          34,
          41,
          40,
          31,
          45,
          31,
          45,
          48,
          40,
          28,
          44,
          53,
          49,
          40,
          44,
          33,
          34,
          30,
          42,
          44,
          30,
          57,
          49,
          34,
          35,
          24,
          44,
          29,
          30,
          55,
          33,
          47,
          28,
          28,
          49,
          29,
          28,
          33,
          32,
          54,
          44,
          39,
          46,
          35,
          23,
          34,
          50,
          34,
          42,
          37,
          29,
          33,
          45,
          42,
          40,
          33,
          40,
          24,
          40,
          45,
          35,
          32,
          36,
          48,
          29,
          33,
          38,
          35,
          30,
          32,
          48,
          34,
          55,
          34,
          26,
          38,
          38,
          36,
          29,
          35,
          39,
          29,
          50,
          23,
          36,
          42,
          35,
          34,
          40,
          43,
          35,
          46,
          22,
          50,
          32,
          44,
          30,
          45,
          45,
          31,
          36,
          34,
          49,
          39,
          27,
          35,
          28,
          21,
          47,
          39,
          40,
          35,
          37,
          39,
          45,
          38,
          37,
          40,
          44,
          48,
          24,
          27,
          27,
          29,
          36,
          25,
          39,
          49,
          50,
          20,
          34,
          36,
          49,
          36,
          36,
          54,
          43,
          38,
          29,
          33,
          32,
          31,
          49,
          38,
          47,
          49,
          41,
          20,
          33,
          36,
          44,
          38,
          53,
          26,
          55,
          34,
          60,
          33,
          37,
          34,
          44,
          35,
          43,
          24,
          41,
          29,
          36,
          45,
          26,
          45,
          32,
          31,
          41,
          40,
          24,
          46,
          35,
          30,
          47,
          46,
          23,
          31,
          39,
          32,
          40,
          45,
          30,
          24,
          31,
          27,
          29,
          30,
          34,
          33,
          49,
          38,
          29,
          30,
          32,
          38,
          42,
          55,
          33,
          41,
          34,
          53,
          43,
          34,
          38,
          31,
          51,
          37,
          46,
          36,
          37,
          33,
          28,
          39,
          46,
          40,
          42,
          35,
          38,
          39,
          43,
          41,
          41,
          30,
          40,
          34,
          58,
          35,
          47,
          40,
          54,
          31,
          28,
          38,
          26,
          58,
          18,
          45,
          36,
          43,
          27,
          29,
          32,
          42,
          47,
          46,
          28,
          29,
          42,
          46,
          27,
          29,
          43,
          48,
          27,
          39,
          55,
          28,
          36,
          31,
          34,
          29,
          37,
          35,
          45,
          36,
          40,
          26,
          27,
          48,
          44,
          36,
          41,
          42,
          31,
          34,
          31,
          26,
          45,
          33,
          28,
          39,
          27,
          34,
          47,
          56,
          39,
          38,
          58,
          38,
          49,
          42,
          35,
          28,
          31,
          36,
          34,
          34,
          26,
          29,
          32,
          31,
          38,
          35,
          27,
          32,
          54,
          33,
          43,
          38,
          55,
          31,
          39,
          42,
          31,
          54,
          24,
          23,
          40,
          40,
          25,
          30,
          25,
          47,
          33,
          38,
          31,
          38,
          42,
          41,
          47,
          35,
          22,
          35,
          33,
          32,
          40,
          32,
          39,
          38,
          32,
          37,
          25,
          52,
          44,
          21,
          39,
          36,
          36,
          56,
          42,
          41,
          34,
          36,
          41,
          32,
          35,
          38,
          36,
          45,
          40,
          35,
          40,
          35,
          29,
          29,
          39,
          31,
          26,
          36,
          39,
          27,
          49,
          34
         ],
         "xaxis": "x",
         "yaxis": "y"
        }
       ],
       "layout": {
        "autosize": false,
        "barmode": "relative",
        "legend": {
         "title": {
          "text": "Attrition"
         },
         "tracegroupgap": 0
        },
        "margin": {
         "t": 60
        },
        "template": {
         "data": {
          "bar": [
           {
            "error_x": {
             "color": "#2a3f5f"
            },
            "error_y": {
             "color": "#2a3f5f"
            },
            "marker": {
             "line": {
              "color": "#E5ECF6",
              "width": 0.5
             },
             "pattern": {
              "fillmode": "overlay",
              "size": 10,
              "solidity": 0.2
             }
            },
            "type": "bar"
           }
          ],
          "barpolar": [
           {
            "marker": {
             "line": {
              "color": "#E5ECF6",
              "width": 0.5
             },
             "pattern": {
              "fillmode": "overlay",
              "size": 10,
              "solidity": 0.2
             }
            },
            "type": "barpolar"
           }
          ],
          "carpet": [
           {
            "aaxis": {
             "endlinecolor": "#2a3f5f",
             "gridcolor": "white",
             "linecolor": "white",
             "minorgridcolor": "white",
             "startlinecolor": "#2a3f5f"
            },
            "baxis": {
             "endlinecolor": "#2a3f5f",
             "gridcolor": "white",
             "linecolor": "white",
             "minorgridcolor": "white",
             "startlinecolor": "#2a3f5f"
            },
            "type": "carpet"
           }
          ],
          "choropleth": [
           {
            "colorbar": {
             "outlinewidth": 0,
             "ticks": ""
            },
            "type": "choropleth"
           }
          ],
          "contour": [
           {
            "colorbar": {
             "outlinewidth": 0,
             "ticks": ""
            },
            "colorscale": [
             [
              0,
              "#0d0887"
             ],
             [
              0.1111111111111111,
              "#46039f"
             ],
             [
              0.2222222222222222,
              "#7201a8"
             ],
             [
              0.3333333333333333,
              "#9c179e"
             ],
             [
              0.4444444444444444,
              "#bd3786"
             ],
             [
              0.5555555555555556,
              "#d8576b"
             ],
             [
              0.6666666666666666,
              "#ed7953"
             ],
             [
              0.7777777777777778,
              "#fb9f3a"
             ],
             [
              0.8888888888888888,
              "#fdca26"
             ],
             [
              1,
              "#f0f921"
             ]
            ],
            "type": "contour"
           }
          ],
          "contourcarpet": [
           {
            "colorbar": {
             "outlinewidth": 0,
             "ticks": ""
            },
            "type": "contourcarpet"
           }
          ],
          "heatmap": [
           {
            "colorbar": {
             "outlinewidth": 0,
             "ticks": ""
            },
            "colorscale": [
             [
              0,
              "#0d0887"
             ],
             [
              0.1111111111111111,
              "#46039f"
             ],
             [
              0.2222222222222222,
              "#7201a8"
             ],
             [
              0.3333333333333333,
              "#9c179e"
             ],
             [
              0.4444444444444444,
              "#bd3786"
             ],
             [
              0.5555555555555556,
              "#d8576b"
             ],
             [
              0.6666666666666666,
              "#ed7953"
             ],
             [
              0.7777777777777778,
              "#fb9f3a"
             ],
             [
              0.8888888888888888,
              "#fdca26"
             ],
             [
              1,
              "#f0f921"
             ]
            ],
            "type": "heatmap"
           }
          ],
          "heatmapgl": [
           {
            "colorbar": {
             "outlinewidth": 0,
             "ticks": ""
            },
            "colorscale": [
             [
              0,
              "#0d0887"
             ],
             [
              0.1111111111111111,
              "#46039f"
             ],
             [
              0.2222222222222222,
              "#7201a8"
             ],
             [
              0.3333333333333333,
              "#9c179e"
             ],
             [
              0.4444444444444444,
              "#bd3786"
             ],
             [
              0.5555555555555556,
              "#d8576b"
             ],
             [
              0.6666666666666666,
              "#ed7953"
             ],
             [
              0.7777777777777778,
              "#fb9f3a"
             ],
             [
              0.8888888888888888,
              "#fdca26"
             ],
             [
              1,
              "#f0f921"
             ]
            ],
            "type": "heatmapgl"
           }
          ],
          "histogram": [
           {
            "marker": {
             "pattern": {
              "fillmode": "overlay",
              "size": 10,
              "solidity": 0.2
             }
            },
            "type": "histogram"
           }
          ],
          "histogram2d": [
           {
            "colorbar": {
             "outlinewidth": 0,
             "ticks": ""
            },
            "colorscale": [
             [
              0,
              "#0d0887"
             ],
             [
              0.1111111111111111,
              "#46039f"
             ],
             [
              0.2222222222222222,
              "#7201a8"
             ],
             [
              0.3333333333333333,
              "#9c179e"
             ],
             [
              0.4444444444444444,
              "#bd3786"
             ],
             [
              0.5555555555555556,
              "#d8576b"
             ],
             [
              0.6666666666666666,
              "#ed7953"
             ],
             [
              0.7777777777777778,
              "#fb9f3a"
             ],
             [
              0.8888888888888888,
              "#fdca26"
             ],
             [
              1,
              "#f0f921"
             ]
            ],
            "type": "histogram2d"
           }
          ],
          "histogram2dcontour": [
           {
            "colorbar": {
             "outlinewidth": 0,
             "ticks": ""
            },
            "colorscale": [
             [
              0,
              "#0d0887"
             ],
             [
              0.1111111111111111,
              "#46039f"
             ],
             [
              0.2222222222222222,
              "#7201a8"
             ],
             [
              0.3333333333333333,
              "#9c179e"
             ],
             [
              0.4444444444444444,
              "#bd3786"
             ],
             [
              0.5555555555555556,
              "#d8576b"
             ],
             [
              0.6666666666666666,
              "#ed7953"
             ],
             [
              0.7777777777777778,
              "#fb9f3a"
             ],
             [
              0.8888888888888888,
              "#fdca26"
             ],
             [
              1,
              "#f0f921"
             ]
            ],
            "type": "histogram2dcontour"
           }
          ],
          "mesh3d": [
           {
            "colorbar": {
             "outlinewidth": 0,
             "ticks": ""
            },
            "type": "mesh3d"
           }
          ],
          "parcoords": [
           {
            "line": {
             "colorbar": {
              "outlinewidth": 0,
              "ticks": ""
             }
            },
            "type": "parcoords"
           }
          ],
          "pie": [
           {
            "automargin": true,
            "type": "pie"
           }
          ],
          "scatter": [
           {
            "fillpattern": {
             "fillmode": "overlay",
             "size": 10,
             "solidity": 0.2
            },
            "type": "scatter"
           }
          ],
          "scatter3d": [
           {
            "line": {
             "colorbar": {
              "outlinewidth": 0,
              "ticks": ""
             }
            },
            "marker": {
             "colorbar": {
              "outlinewidth": 0,
              "ticks": ""
             }
            },
            "type": "scatter3d"
           }
          ],
          "scattercarpet": [
           {
            "marker": {
             "colorbar": {
              "outlinewidth": 0,
              "ticks": ""
             }
            },
            "type": "scattercarpet"
           }
          ],
          "scattergeo": [
           {
            "marker": {
             "colorbar": {
              "outlinewidth": 0,
              "ticks": ""
             }
            },
            "type": "scattergeo"
           }
          ],
          "scattergl": [
           {
            "marker": {
             "colorbar": {
              "outlinewidth": 0,
              "ticks": ""
             }
            },
            "type": "scattergl"
           }
          ],
          "scattermapbox": [
           {
            "marker": {
             "colorbar": {
              "outlinewidth": 0,
              "ticks": ""
             }
            },
            "type": "scattermapbox"
           }
          ],
          "scatterpolar": [
           {
            "marker": {
             "colorbar": {
              "outlinewidth": 0,
              "ticks": ""
             }
            },
            "type": "scatterpolar"
           }
          ],
          "scatterpolargl": [
           {
            "marker": {
             "colorbar": {
              "outlinewidth": 0,
              "ticks": ""
             }
            },
            "type": "scatterpolargl"
           }
          ],
          "scatterternary": [
           {
            "marker": {
             "colorbar": {
              "outlinewidth": 0,
              "ticks": ""
             }
            },
            "type": "scatterternary"
           }
          ],
          "surface": [
           {
            "colorbar": {
             "outlinewidth": 0,
             "ticks": ""
            },
            "colorscale": [
             [
              0,
              "#0d0887"
             ],
             [
              0.1111111111111111,
              "#46039f"
             ],
             [
              0.2222222222222222,
              "#7201a8"
             ],
             [
              0.3333333333333333,
              "#9c179e"
             ],
             [
              0.4444444444444444,
              "#bd3786"
             ],
             [
              0.5555555555555556,
              "#d8576b"
             ],
             [
              0.6666666666666666,
              "#ed7953"
             ],
             [
              0.7777777777777778,
              "#fb9f3a"
             ],
             [
              0.8888888888888888,
              "#fdca26"
             ],
             [
              1,
              "#f0f921"
             ]
            ],
            "type": "surface"
           }
          ],
          "table": [
           {
            "cells": {
             "fill": {
              "color": "#EBF0F8"
             },
             "line": {
              "color": "white"
             }
            },
            "header": {
             "fill": {
              "color": "#C8D4E3"
             },
             "line": {
              "color": "white"
             }
            },
            "type": "table"
           }
          ]
         },
         "layout": {
          "annotationdefaults": {
           "arrowcolor": "#2a3f5f",
           "arrowhead": 0,
           "arrowwidth": 1
          },
          "autotypenumbers": "strict",
          "coloraxis": {
           "colorbar": {
            "outlinewidth": 0,
            "ticks": ""
           }
          },
          "colorscale": {
           "diverging": [
            [
             0,
             "#8e0152"
            ],
            [
             0.1,
             "#c51b7d"
            ],
            [
             0.2,
             "#de77ae"
            ],
            [
             0.3,
             "#f1b6da"
            ],
            [
             0.4,
             "#fde0ef"
            ],
            [
             0.5,
             "#f7f7f7"
            ],
            [
             0.6,
             "#e6f5d0"
            ],
            [
             0.7,
             "#b8e186"
            ],
            [
             0.8,
             "#7fbc41"
            ],
            [
             0.9,
             "#4d9221"
            ],
            [
             1,
             "#276419"
            ]
           ],
           "sequential": [
            [
             0,
             "#0d0887"
            ],
            [
             0.1111111111111111,
             "#46039f"
            ],
            [
             0.2222222222222222,
             "#7201a8"
            ],
            [
             0.3333333333333333,
             "#9c179e"
            ],
            [
             0.4444444444444444,
             "#bd3786"
            ],
            [
             0.5555555555555556,
             "#d8576b"
            ],
            [
             0.6666666666666666,
             "#ed7953"
            ],
            [
             0.7777777777777778,
             "#fb9f3a"
            ],
            [
             0.8888888888888888,
             "#fdca26"
            ],
            [
             1,
             "#f0f921"
            ]
           ],
           "sequentialminus": [
            [
             0,
             "#0d0887"
            ],
            [
             0.1111111111111111,
             "#46039f"
            ],
            [
             0.2222222222222222,
             "#7201a8"
            ],
            [
             0.3333333333333333,
             "#9c179e"
            ],
            [
             0.4444444444444444,
             "#bd3786"
            ],
            [
             0.5555555555555556,
             "#d8576b"
            ],
            [
             0.6666666666666666,
             "#ed7953"
            ],
            [
             0.7777777777777778,
             "#fb9f3a"
            ],
            [
             0.8888888888888888,
             "#fdca26"
            ],
            [
             1,
             "#f0f921"
            ]
           ]
          },
          "colorway": [
           "#636efa",
           "#EF553B",
           "#00cc96",
           "#ab63fa",
           "#FFA15A",
           "#19d3f3",
           "#FF6692",
           "#B6E880",
           "#FF97FF",
           "#FECB52"
          ],
          "font": {
           "color": "#2a3f5f"
          },
          "geo": {
           "bgcolor": "white",
           "lakecolor": "white",
           "landcolor": "#E5ECF6",
           "showlakes": true,
           "showland": true,
           "subunitcolor": "white"
          },
          "hoverlabel": {
           "align": "left"
          },
          "hovermode": "closest",
          "mapbox": {
           "style": "light"
          },
          "paper_bgcolor": "white",
          "plot_bgcolor": "#E5ECF6",
          "polar": {
           "angularaxis": {
            "gridcolor": "white",
            "linecolor": "white",
            "ticks": ""
           },
           "bgcolor": "#E5ECF6",
           "radialaxis": {
            "gridcolor": "white",
            "linecolor": "white",
            "ticks": ""
           }
          },
          "scene": {
           "xaxis": {
            "backgroundcolor": "#E5ECF6",
            "gridcolor": "white",
            "gridwidth": 2,
            "linecolor": "white",
            "showbackground": true,
            "ticks": "",
            "zerolinecolor": "white"
           },
           "yaxis": {
            "backgroundcolor": "#E5ECF6",
            "gridcolor": "white",
            "gridwidth": 2,
            "linecolor": "white",
            "showbackground": true,
            "ticks": "",
            "zerolinecolor": "white"
           },
           "zaxis": {
            "backgroundcolor": "#E5ECF6",
            "gridcolor": "white",
            "gridwidth": 2,
            "linecolor": "white",
            "showbackground": true,
            "ticks": "",
            "zerolinecolor": "white"
           }
          },
          "shapedefaults": {
           "line": {
            "color": "#2a3f5f"
           }
          },
          "ternary": {
           "aaxis": {
            "gridcolor": "white",
            "linecolor": "white",
            "ticks": ""
           },
           "baxis": {
            "gridcolor": "white",
            "linecolor": "white",
            "ticks": ""
           },
           "bgcolor": "#E5ECF6",
           "caxis": {
            "gridcolor": "white",
            "linecolor": "white",
            "ticks": ""
           }
          },
          "title": {
           "x": 0.05
          },
          "xaxis": {
           "automargin": true,
           "gridcolor": "white",
           "linecolor": "white",
           "ticks": "",
           "title": {
            "standoff": 15
           },
           "zerolinecolor": "white",
           "zerolinewidth": 2
          },
          "yaxis": {
           "automargin": true,
           "gridcolor": "white",
           "linecolor": "white",
           "ticks": "",
           "title": {
            "standoff": 15
           },
           "zerolinecolor": "white",
           "zerolinewidth": 2
          }
         }
        },
        "width": 500,
        "xaxis": {
         "anchor": "y",
         "domain": [
          0,
          1
         ],
         "title": {
          "text": "Age"
         }
        },
        "yaxis": {
         "anchor": "x",
         "domain": [
          0,
          1
         ],
         "title": {
          "text": "count"
         }
        }
       }
      }
     },
     "metadata": {},
     "output_type": "display_data"
    },
    {
     "data": {
      "application/vnd.plotly.v1+json": {
       "config": {
        "plotlyServerURL": "https://plot.ly"
       },
       "data": [
        {
         "alignmentgroup": "True",
         "bingroup": "x",
         "hovertemplate": "Attrition=Yes<br>Education=%{x}<br>count=%{y}<extra></extra>",
         "legendgroup": "Yes",
         "marker": {
          "color": "#636efa",
          "pattern": {
           "shape": ""
          }
         },
         "name": "Yes",
         "offsetgroup": "Yes",
         "orientation": "v",
         "showlegend": true,
         "type": "histogram",
         "x": [
          2,
          2,
          3,
          4,
          1,
          1,
          3,
          3,
          2,
          3,
          3,
          2,
          4,
          3,
          2,
          4,
          3,
          3,
          3,
          4,
          4,
          4,
          1,
          3,
          4,
          3,
          1,
          3,
          2,
          2,
          1,
          3,
          4,
          3,
          4,
          3,
          1,
          3,
          2,
          3,
          3,
          2,
          4,
          4,
          3,
          4,
          4,
          3,
          4,
          4,
          2,
          4,
          1,
          3,
          3,
          2,
          3,
          3,
          1,
          3,
          3,
          1,
          2,
          5,
          2,
          1,
          1,
          3,
          3,
          1,
          4,
          3,
          3,
          4,
          3,
          4,
          4,
          1,
          4,
          1,
          3,
          2,
          2,
          2,
          3,
          4,
          2,
          3,
          3,
          3,
          2,
          3,
          4,
          4,
          3,
          1,
          2,
          4,
          3,
          4,
          1,
          3,
          1,
          1,
          4,
          3,
          2,
          3,
          3,
          1,
          4,
          3,
          3,
          2,
          3,
          3,
          4,
          3,
          3,
          2,
          2,
          1,
          4,
          3,
          3,
          3,
          3,
          4,
          2,
          2,
          3,
          4,
          1,
          3,
          3,
          3,
          4,
          3,
          1,
          4,
          3,
          1,
          3,
          1,
          3,
          4,
          4,
          2,
          2,
          3,
          1,
          3,
          2,
          3,
          3,
          2,
          3,
          4,
          3,
          3,
          3,
          4,
          4,
          3,
          4,
          4,
          4,
          2,
          1,
          4,
          3,
          2,
          3,
          3,
          5,
          3,
          4,
          3,
          3,
          4,
          3,
          2,
          4,
          4,
          3,
          3,
          3,
          5,
          3,
          3,
          2,
          3,
          2,
          3,
          4,
          1,
          2,
          4,
          3,
          1,
          3,
          5,
          2,
          3,
          3,
          3,
          4,
          3,
          1,
          1,
          2,
          3,
          4,
          4,
          2,
          2,
          5,
          3,
          4,
          2,
          3,
          3,
          1,
          4,
          2,
          3,
          2,
          2,
          3,
          3,
          4,
          4,
          3,
          4,
          2,
          4,
          3
         ],
         "xaxis": "x",
         "yaxis": "y"
        },
        {
         "alignmentgroup": "True",
         "bingroup": "x",
         "hovertemplate": "Attrition=No<br>Education=%{x}<br>count=%{y}<extra></extra>",
         "legendgroup": "No",
         "marker": {
          "color": "#EF553B",
          "pattern": {
           "shape": ""
          }
         },
         "name": "No",
         "offsetgroup": "No",
         "orientation": "v",
         "showlegend": true,
         "type": "histogram",
         "x": [
          1,
          4,
          1,
          2,
          3,
          1,
          3,
          3,
          3,
          2,
          1,
          2,
          4,
          2,
          2,
          4,
          3,
          2,
          4,
          2,
          3,
          4,
          4,
          4,
          3,
          4,
          2,
          2,
          3,
          4,
          3,
          2,
          4,
          3,
          2,
          4,
          2,
          4,
          1,
          5,
          2,
          3,
          2,
          5,
          4,
          4,
          4,
          3,
          5,
          2,
          3,
          3,
          3,
          3,
          3,
          3,
          1,
          3,
          4,
          3,
          3,
          4,
          4,
          4,
          4,
          2,
          1,
          3,
          2,
          3,
          2,
          3,
          1,
          4,
          3,
          4,
          4,
          2,
          3,
          4,
          4,
          2,
          3,
          4,
          3,
          1,
          4,
          2,
          4,
          3,
          1,
          3,
          4,
          3,
          1,
          4,
          3,
          3,
          2,
          2,
          2,
          3,
          2,
          3,
          3,
          1,
          4,
          3,
          3,
          1,
          1,
          2,
          4,
          3,
          3,
          3,
          5,
          3,
          2,
          3,
          1,
          3,
          4,
          1,
          3,
          5,
          2,
          3,
          3,
          1,
          4,
          3,
          4,
          4,
          1,
          3,
          3,
          2,
          3,
          3,
          3,
          3,
          4,
          5,
          3,
          2,
          3,
          2,
          3,
          3,
          2,
          2,
          1,
          2,
          3,
          2,
          3,
          1,
          4,
          1,
          3,
          4,
          3,
          3,
          2,
          3,
          3,
          2,
          4,
          3,
          1,
          4,
          4,
          2,
          3,
          1,
          5,
          4,
          1,
          3,
          4,
          3,
          3,
          3,
          2,
          4,
          3,
          3,
          4,
          3,
          4,
          1,
          3,
          3,
          2,
          2,
          4,
          3,
          4,
          2,
          4,
          4,
          2,
          2,
          3,
          4,
          4,
          4,
          2,
          4,
          4,
          3,
          2,
          2,
          3,
          3,
          2,
          3,
          3,
          2,
          1,
          3,
          3,
          3,
          2,
          2,
          3,
          3,
          3,
          4,
          2,
          4,
          3,
          2,
          3,
          1,
          4,
          1,
          2,
          2,
          2,
          3,
          4,
          2,
          4,
          3,
          3,
          3,
          3,
          3,
          4,
          3,
          4,
          3,
          2,
          3,
          3,
          4,
          3,
          2,
          4,
          4,
          3,
          3,
          4,
          4,
          1,
          4,
          2,
          3,
          2,
          3,
          3,
          4,
          2,
          2,
          2,
          3,
          5,
          4,
          1,
          4,
          3,
          4,
          2,
          5,
          3,
          4,
          2,
          2,
          4,
          1,
          4,
          1,
          3,
          1,
          5,
          3,
          1,
          3,
          1,
          3,
          2,
          3,
          4,
          5,
          4,
          4,
          4,
          2,
          3,
          4,
          3,
          4,
          3,
          4,
          2,
          4,
          3,
          2,
          3,
          3,
          4,
          1,
          3,
          2,
          3,
          2,
          4,
          4,
          3,
          3,
          2,
          4,
          2,
          3,
          4,
          2,
          5,
          2,
          1,
          3,
          3,
          3,
          2,
          3,
          2,
          2,
          2,
          3,
          3,
          3,
          4,
          2,
          4,
          3,
          3,
          4,
          4,
          3,
          4,
          3,
          3,
          2,
          3,
          3,
          4,
          4,
          3,
          1,
          1,
          3,
          2,
          4,
          5,
          5,
          2,
          3,
          3,
          1,
          1,
          3,
          3,
          3,
          5,
          3,
          3,
          4,
          2,
          3,
          4,
          3,
          1,
          5,
          4,
          2,
          3,
          3,
          4,
          4,
          3,
          2,
          2,
          3,
          1,
          2,
          2,
          4,
          4,
          3,
          3,
          4,
          4,
          1,
          5,
          4,
          4,
          3,
          1,
          4,
          1,
          4,
          4,
          3,
          1,
          5,
          3,
          3,
          2,
          4,
          3,
          4,
          2,
          4,
          3,
          3,
          3,
          4,
          4,
          1,
          1,
          2,
          1,
          3,
          4,
          3,
          4,
          2,
          2,
          4,
          4,
          3,
          4,
          4,
          2,
          3,
          4,
          3,
          3,
          3,
          3,
          5,
          3,
          3,
          2,
          1,
          3,
          3,
          1,
          3,
          3,
          3,
          4,
          4,
          5,
          5,
          4,
          1,
          2,
          1,
          3,
          4,
          4,
          2,
          3,
          4,
          4,
          1,
          1,
          4,
          4,
          4,
          3,
          2,
          2,
          3,
          3,
          4,
          3,
          3,
          2,
          3,
          2,
          4,
          2,
          3,
          3,
          4,
          3,
          3,
          3,
          3,
          4,
          2,
          1,
          3,
          4,
          2,
          3,
          4,
          3,
          1,
          3,
          1,
          2,
          4,
          4,
          2,
          3,
          2,
          4,
          4,
          2,
          2,
          4,
          1,
          3,
          1,
          3,
          3,
          1,
          3,
          1,
          2,
          3,
          3,
          4,
          3,
          3,
          2,
          4,
          3,
          2,
          2,
          4,
          3,
          2,
          1,
          2,
          4,
          3,
          1,
          4,
          3,
          3,
          3,
          2,
          4,
          3,
          4,
          1,
          2,
          4,
          2,
          4,
          3,
          3,
          4,
          3,
          3,
          4,
          3,
          4,
          4,
          3,
          2,
          3,
          3,
          2,
          2,
          2,
          3,
          4,
          5,
          4,
          4,
          3,
          1,
          4,
          2,
          4,
          3,
          4,
          2,
          2,
          3,
          1,
          2,
          1,
          1,
          2,
          3,
          4,
          2,
          2,
          1,
          3,
          4,
          2,
          1,
          4,
          3,
          2,
          3,
          3,
          4,
          1,
          4,
          3,
          3,
          3,
          1,
          2,
          4,
          4,
          2,
          4,
          3,
          4,
          1,
          4,
          4,
          3,
          3,
          1,
          4,
          4,
          3,
          5,
          1,
          3,
          4,
          2,
          3,
          2,
          1,
          4,
          5,
          1,
          3,
          3,
          2,
          1,
          4,
          2,
          3,
          4,
          4,
          4,
          4,
          4,
          4,
          3,
          1,
          2,
          3,
          3,
          1,
          3,
          4,
          3,
          1,
          2,
          4,
          2,
          3,
          3,
          1,
          3,
          3,
          4,
          2,
          3,
          1,
          4,
          4,
          4,
          4,
          3,
          4,
          3,
          2,
          3,
          3,
          4,
          1,
          4,
          1,
          2,
          3,
          3,
          3,
          2,
          1,
          3,
          3,
          3,
          4,
          4,
          3,
          4,
          2,
          4,
          3,
          4,
          4,
          4,
          3,
          4,
          5,
          4,
          3,
          2,
          3,
          3,
          3,
          4,
          3,
          5,
          2,
          3,
          4,
          1,
          3,
          3,
          2,
          3,
          3,
          3,
          2,
          3,
          2,
          2,
          3,
          3,
          3,
          3,
          3,
          5,
          3,
          2,
          2,
          1,
          2,
          3,
          3,
          4,
          3,
          4,
          2,
          3,
          1,
          4,
          4,
          4,
          3,
          2,
          2,
          3,
          3,
          3,
          3,
          4,
          4,
          3,
          4,
          2,
          3,
          3,
          4,
          2,
          4,
          2,
          1,
          2,
          4,
          2,
          3,
          3,
          3,
          4,
          3,
          2,
          2,
          1,
          4,
          3,
          3,
          3,
          2,
          3,
          3,
          1,
          3,
          1,
          1,
          3,
          3,
          4,
          3,
          4,
          3,
          3,
          1,
          1,
          1,
          2,
          1,
          2,
          3,
          3,
          1,
          3,
          4,
          3,
          2,
          3,
          3,
          3,
          3,
          3,
          4,
          4,
          4,
          5,
          4,
          1,
          4,
          4,
          3,
          2,
          2,
          4,
          1,
          5,
          3,
          5,
          4,
          2,
          3,
          2,
          3,
          3,
          1,
          3,
          3,
          3,
          4,
          3,
          3,
          3,
          3,
          1,
          2,
          5,
          3,
          2,
          4,
          3,
          1,
          2,
          1,
          3,
          3,
          4,
          4,
          3,
          3,
          3,
          2,
          1,
          1,
          5,
          3,
          4,
          3,
          3,
          3,
          3,
          1,
          3,
          5,
          2,
          3,
          3,
          1,
          3,
          3,
          3,
          2,
          4,
          2,
          2,
          2,
          4,
          4,
          2,
          4,
          4,
          3,
          4,
          4,
          3,
          4,
          4,
          4,
          4,
          5,
          4,
          3,
          3,
          3,
          4,
          1,
          4,
          3,
          1,
          3,
          3,
          4,
          2,
          3,
          4,
          2,
          3,
          2,
          4,
          2,
          5,
          4,
          3,
          3,
          5,
          3,
          4,
          4,
          4,
          4,
          5,
          3,
          5,
          3,
          1,
          4,
          2,
          3,
          4,
          3,
          3,
          2,
          2,
          3,
          3,
          5,
          5,
          1,
          3,
          3,
          3,
          4,
          1,
          3,
          4,
          5,
          3,
          3,
          3,
          1,
          4,
          2,
          5,
          2,
          3,
          3,
          4,
          3,
          4,
          3,
          3,
          4,
          3,
          2,
          1,
          3,
          4,
          3,
          2,
          4,
          3,
          3,
          2,
          4,
          3,
          4,
          3,
          3,
          4,
          3,
          3,
          3,
          4,
          4,
          1,
          4,
          2,
          3,
          4,
          3,
          2,
          1,
          4,
          4,
          1,
          4,
          3,
          1,
          1,
          3,
          3,
          4,
          3,
          4,
          3,
          3,
          3,
          3,
          2,
          4,
          3,
          4,
          2,
          3,
          3,
          4,
          3,
          3,
          3,
          3,
          4,
          3,
          4,
          3,
          2,
          2,
          4,
          3,
          2,
          4,
          3,
          2,
          4,
          3,
          1,
          2,
          2,
          3,
          2,
          3,
          3,
          3,
          3,
          1,
          3,
          3,
          2,
          3,
          4,
          3,
          3,
          4,
          4,
          3,
          4,
          3,
          4,
          3,
          4,
          4,
          4,
          2,
          1,
          4,
          4,
          4,
          2,
          2,
          1,
          3,
          3,
          1,
          1,
          3,
          3,
          3,
          4,
          4,
          3,
          4,
          3,
          3,
          3,
          4,
          2,
          2,
          1,
          4,
          2,
          2,
          3,
          4,
          2,
          3,
          3,
          2,
          1,
          3,
          3,
          4,
          4,
          2,
          4,
          4,
          4,
          4,
          5,
          2,
          3,
          3,
          2,
          1,
          4,
          4,
          3,
          2,
          4,
          3,
          4,
          3,
          3,
          4,
          3,
          3,
          4,
          3,
          4,
          2,
          2,
          3,
          4,
          4,
          1,
          4,
          2,
          3,
          3,
          2,
          2,
          3,
          2,
          3,
          2,
          1,
          3,
          2,
          4,
          2,
          4,
          4,
          3,
          1,
          4,
          2,
          4,
          2,
          4,
          4,
          4,
          1,
          3,
          4,
          3,
          2,
          4,
          3,
          1,
          3,
          3,
          2,
          4,
          3,
          4,
          3,
          4,
          3,
          3,
          4,
          2,
          4,
          3,
          4,
          4,
          4,
          4,
          2,
          4,
          1,
          3,
          3,
          2,
          1,
          3,
          3,
          3
         ],
         "xaxis": "x",
         "yaxis": "y"
        }
       ],
       "layout": {
        "autosize": false,
        "barmode": "relative",
        "legend": {
         "title": {
          "text": "Attrition"
         },
         "tracegroupgap": 0
        },
        "margin": {
         "t": 60
        },
        "template": {
         "data": {
          "bar": [
           {
            "error_x": {
             "color": "#2a3f5f"
            },
            "error_y": {
             "color": "#2a3f5f"
            },
            "marker": {
             "line": {
              "color": "#E5ECF6",
              "width": 0.5
             },
             "pattern": {
              "fillmode": "overlay",
              "size": 10,
              "solidity": 0.2
             }
            },
            "type": "bar"
           }
          ],
          "barpolar": [
           {
            "marker": {
             "line": {
              "color": "#E5ECF6",
              "width": 0.5
             },
             "pattern": {
              "fillmode": "overlay",
              "size": 10,
              "solidity": 0.2
             }
            },
            "type": "barpolar"
           }
          ],
          "carpet": [
           {
            "aaxis": {
             "endlinecolor": "#2a3f5f",
             "gridcolor": "white",
             "linecolor": "white",
             "minorgridcolor": "white",
             "startlinecolor": "#2a3f5f"
            },
            "baxis": {
             "endlinecolor": "#2a3f5f",
             "gridcolor": "white",
             "linecolor": "white",
             "minorgridcolor": "white",
             "startlinecolor": "#2a3f5f"
            },
            "type": "carpet"
           }
          ],
          "choropleth": [
           {
            "colorbar": {
             "outlinewidth": 0,
             "ticks": ""
            },
            "type": "choropleth"
           }
          ],
          "contour": [
           {
            "colorbar": {
             "outlinewidth": 0,
             "ticks": ""
            },
            "colorscale": [
             [
              0,
              "#0d0887"
             ],
             [
              0.1111111111111111,
              "#46039f"
             ],
             [
              0.2222222222222222,
              "#7201a8"
             ],
             [
              0.3333333333333333,
              "#9c179e"
             ],
             [
              0.4444444444444444,
              "#bd3786"
             ],
             [
              0.5555555555555556,
              "#d8576b"
             ],
             [
              0.6666666666666666,
              "#ed7953"
             ],
             [
              0.7777777777777778,
              "#fb9f3a"
             ],
             [
              0.8888888888888888,
              "#fdca26"
             ],
             [
              1,
              "#f0f921"
             ]
            ],
            "type": "contour"
           }
          ],
          "contourcarpet": [
           {
            "colorbar": {
             "outlinewidth": 0,
             "ticks": ""
            },
            "type": "contourcarpet"
           }
          ],
          "heatmap": [
           {
            "colorbar": {
             "outlinewidth": 0,
             "ticks": ""
            },
            "colorscale": [
             [
              0,
              "#0d0887"
             ],
             [
              0.1111111111111111,
              "#46039f"
             ],
             [
              0.2222222222222222,
              "#7201a8"
             ],
             [
              0.3333333333333333,
              "#9c179e"
             ],
             [
              0.4444444444444444,
              "#bd3786"
             ],
             [
              0.5555555555555556,
              "#d8576b"
             ],
             [
              0.6666666666666666,
              "#ed7953"
             ],
             [
              0.7777777777777778,
              "#fb9f3a"
             ],
             [
              0.8888888888888888,
              "#fdca26"
             ],
             [
              1,
              "#f0f921"
             ]
            ],
            "type": "heatmap"
           }
          ],
          "heatmapgl": [
           {
            "colorbar": {
             "outlinewidth": 0,
             "ticks": ""
            },
            "colorscale": [
             [
              0,
              "#0d0887"
             ],
             [
              0.1111111111111111,
              "#46039f"
             ],
             [
              0.2222222222222222,
              "#7201a8"
             ],
             [
              0.3333333333333333,
              "#9c179e"
             ],
             [
              0.4444444444444444,
              "#bd3786"
             ],
             [
              0.5555555555555556,
              "#d8576b"
             ],
             [
              0.6666666666666666,
              "#ed7953"
             ],
             [
              0.7777777777777778,
              "#fb9f3a"
             ],
             [
              0.8888888888888888,
              "#fdca26"
             ],
             [
              1,
              "#f0f921"
             ]
            ],
            "type": "heatmapgl"
           }
          ],
          "histogram": [
           {
            "marker": {
             "pattern": {
              "fillmode": "overlay",
              "size": 10,
              "solidity": 0.2
             }
            },
            "type": "histogram"
           }
          ],
          "histogram2d": [
           {
            "colorbar": {
             "outlinewidth": 0,
             "ticks": ""
            },
            "colorscale": [
             [
              0,
              "#0d0887"
             ],
             [
              0.1111111111111111,
              "#46039f"
             ],
             [
              0.2222222222222222,
              "#7201a8"
             ],
             [
              0.3333333333333333,
              "#9c179e"
             ],
             [
              0.4444444444444444,
              "#bd3786"
             ],
             [
              0.5555555555555556,
              "#d8576b"
             ],
             [
              0.6666666666666666,
              "#ed7953"
             ],
             [
              0.7777777777777778,
              "#fb9f3a"
             ],
             [
              0.8888888888888888,
              "#fdca26"
             ],
             [
              1,
              "#f0f921"
             ]
            ],
            "type": "histogram2d"
           }
          ],
          "histogram2dcontour": [
           {
            "colorbar": {
             "outlinewidth": 0,
             "ticks": ""
            },
            "colorscale": [
             [
              0,
              "#0d0887"
             ],
             [
              0.1111111111111111,
              "#46039f"
             ],
             [
              0.2222222222222222,
              "#7201a8"
             ],
             [
              0.3333333333333333,
              "#9c179e"
             ],
             [
              0.4444444444444444,
              "#bd3786"
             ],
             [
              0.5555555555555556,
              "#d8576b"
             ],
             [
              0.6666666666666666,
              "#ed7953"
             ],
             [
              0.7777777777777778,
              "#fb9f3a"
             ],
             [
              0.8888888888888888,
              "#fdca26"
             ],
             [
              1,
              "#f0f921"
             ]
            ],
            "type": "histogram2dcontour"
           }
          ],
          "mesh3d": [
           {
            "colorbar": {
             "outlinewidth": 0,
             "ticks": ""
            },
            "type": "mesh3d"
           }
          ],
          "parcoords": [
           {
            "line": {
             "colorbar": {
              "outlinewidth": 0,
              "ticks": ""
             }
            },
            "type": "parcoords"
           }
          ],
          "pie": [
           {
            "automargin": true,
            "type": "pie"
           }
          ],
          "scatter": [
           {
            "fillpattern": {
             "fillmode": "overlay",
             "size": 10,
             "solidity": 0.2
            },
            "type": "scatter"
           }
          ],
          "scatter3d": [
           {
            "line": {
             "colorbar": {
              "outlinewidth": 0,
              "ticks": ""
             }
            },
            "marker": {
             "colorbar": {
              "outlinewidth": 0,
              "ticks": ""
             }
            },
            "type": "scatter3d"
           }
          ],
          "scattercarpet": [
           {
            "marker": {
             "colorbar": {
              "outlinewidth": 0,
              "ticks": ""
             }
            },
            "type": "scattercarpet"
           }
          ],
          "scattergeo": [
           {
            "marker": {
             "colorbar": {
              "outlinewidth": 0,
              "ticks": ""
             }
            },
            "type": "scattergeo"
           }
          ],
          "scattergl": [
           {
            "marker": {
             "colorbar": {
              "outlinewidth": 0,
              "ticks": ""
             }
            },
            "type": "scattergl"
           }
          ],
          "scattermapbox": [
           {
            "marker": {
             "colorbar": {
              "outlinewidth": 0,
              "ticks": ""
             }
            },
            "type": "scattermapbox"
           }
          ],
          "scatterpolar": [
           {
            "marker": {
             "colorbar": {
              "outlinewidth": 0,
              "ticks": ""
             }
            },
            "type": "scatterpolar"
           }
          ],
          "scatterpolargl": [
           {
            "marker": {
             "colorbar": {
              "outlinewidth": 0,
              "ticks": ""
             }
            },
            "type": "scatterpolargl"
           }
          ],
          "scatterternary": [
           {
            "marker": {
             "colorbar": {
              "outlinewidth": 0,
              "ticks": ""
             }
            },
            "type": "scatterternary"
           }
          ],
          "surface": [
           {
            "colorbar": {
             "outlinewidth": 0,
             "ticks": ""
            },
            "colorscale": [
             [
              0,
              "#0d0887"
             ],
             [
              0.1111111111111111,
              "#46039f"
             ],
             [
              0.2222222222222222,
              "#7201a8"
             ],
             [
              0.3333333333333333,
              "#9c179e"
             ],
             [
              0.4444444444444444,
              "#bd3786"
             ],
             [
              0.5555555555555556,
              "#d8576b"
             ],
             [
              0.6666666666666666,
              "#ed7953"
             ],
             [
              0.7777777777777778,
              "#fb9f3a"
             ],
             [
              0.8888888888888888,
              "#fdca26"
             ],
             [
              1,
              "#f0f921"
             ]
            ],
            "type": "surface"
           }
          ],
          "table": [
           {
            "cells": {
             "fill": {
              "color": "#EBF0F8"
             },
             "line": {
              "color": "white"
             }
            },
            "header": {
             "fill": {
              "color": "#C8D4E3"
             },
             "line": {
              "color": "white"
             }
            },
            "type": "table"
           }
          ]
         },
         "layout": {
          "annotationdefaults": {
           "arrowcolor": "#2a3f5f",
           "arrowhead": 0,
           "arrowwidth": 1
          },
          "autotypenumbers": "strict",
          "coloraxis": {
           "colorbar": {
            "outlinewidth": 0,
            "ticks": ""
           }
          },
          "colorscale": {
           "diverging": [
            [
             0,
             "#8e0152"
            ],
            [
             0.1,
             "#c51b7d"
            ],
            [
             0.2,
             "#de77ae"
            ],
            [
             0.3,
             "#f1b6da"
            ],
            [
             0.4,
             "#fde0ef"
            ],
            [
             0.5,
             "#f7f7f7"
            ],
            [
             0.6,
             "#e6f5d0"
            ],
            [
             0.7,
             "#b8e186"
            ],
            [
             0.8,
             "#7fbc41"
            ],
            [
             0.9,
             "#4d9221"
            ],
            [
             1,
             "#276419"
            ]
           ],
           "sequential": [
            [
             0,
             "#0d0887"
            ],
            [
             0.1111111111111111,
             "#46039f"
            ],
            [
             0.2222222222222222,
             "#7201a8"
            ],
            [
             0.3333333333333333,
             "#9c179e"
            ],
            [
             0.4444444444444444,
             "#bd3786"
            ],
            [
             0.5555555555555556,
             "#d8576b"
            ],
            [
             0.6666666666666666,
             "#ed7953"
            ],
            [
             0.7777777777777778,
             "#fb9f3a"
            ],
            [
             0.8888888888888888,
             "#fdca26"
            ],
            [
             1,
             "#f0f921"
            ]
           ],
           "sequentialminus": [
            [
             0,
             "#0d0887"
            ],
            [
             0.1111111111111111,
             "#46039f"
            ],
            [
             0.2222222222222222,
             "#7201a8"
            ],
            [
             0.3333333333333333,
             "#9c179e"
            ],
            [
             0.4444444444444444,
             "#bd3786"
            ],
            [
             0.5555555555555556,
             "#d8576b"
            ],
            [
             0.6666666666666666,
             "#ed7953"
            ],
            [
             0.7777777777777778,
             "#fb9f3a"
            ],
            [
             0.8888888888888888,
             "#fdca26"
            ],
            [
             1,
             "#f0f921"
            ]
           ]
          },
          "colorway": [
           "#636efa",
           "#EF553B",
           "#00cc96",
           "#ab63fa",
           "#FFA15A",
           "#19d3f3",
           "#FF6692",
           "#B6E880",
           "#FF97FF",
           "#FECB52"
          ],
          "font": {
           "color": "#2a3f5f"
          },
          "geo": {
           "bgcolor": "white",
           "lakecolor": "white",
           "landcolor": "#E5ECF6",
           "showlakes": true,
           "showland": true,
           "subunitcolor": "white"
          },
          "hoverlabel": {
           "align": "left"
          },
          "hovermode": "closest",
          "mapbox": {
           "style": "light"
          },
          "paper_bgcolor": "white",
          "plot_bgcolor": "#E5ECF6",
          "polar": {
           "angularaxis": {
            "gridcolor": "white",
            "linecolor": "white",
            "ticks": ""
           },
           "bgcolor": "#E5ECF6",
           "radialaxis": {
            "gridcolor": "white",
            "linecolor": "white",
            "ticks": ""
           }
          },
          "scene": {
           "xaxis": {
            "backgroundcolor": "#E5ECF6",
            "gridcolor": "white",
            "gridwidth": 2,
            "linecolor": "white",
            "showbackground": true,
            "ticks": "",
            "zerolinecolor": "white"
           },
           "yaxis": {
            "backgroundcolor": "#E5ECF6",
            "gridcolor": "white",
            "gridwidth": 2,
            "linecolor": "white",
            "showbackground": true,
            "ticks": "",
            "zerolinecolor": "white"
           },
           "zaxis": {
            "backgroundcolor": "#E5ECF6",
            "gridcolor": "white",
            "gridwidth": 2,
            "linecolor": "white",
            "showbackground": true,
            "ticks": "",
            "zerolinecolor": "white"
           }
          },
          "shapedefaults": {
           "line": {
            "color": "#2a3f5f"
           }
          },
          "ternary": {
           "aaxis": {
            "gridcolor": "white",
            "linecolor": "white",
            "ticks": ""
           },
           "baxis": {
            "gridcolor": "white",
            "linecolor": "white",
            "ticks": ""
           },
           "bgcolor": "#E5ECF6",
           "caxis": {
            "gridcolor": "white",
            "linecolor": "white",
            "ticks": ""
           }
          },
          "title": {
           "x": 0.05
          },
          "xaxis": {
           "automargin": true,
           "gridcolor": "white",
           "linecolor": "white",
           "ticks": "",
           "title": {
            "standoff": 15
           },
           "zerolinecolor": "white",
           "zerolinewidth": 2
          },
          "yaxis": {
           "automargin": true,
           "gridcolor": "white",
           "linecolor": "white",
           "ticks": "",
           "title": {
            "standoff": 15
           },
           "zerolinecolor": "white",
           "zerolinewidth": 2
          }
         }
        },
        "width": 500,
        "xaxis": {
         "anchor": "y",
         "domain": [
          0,
          1
         ],
         "title": {
          "text": "Education"
         }
        },
        "yaxis": {
         "anchor": "x",
         "domain": [
          0,
          1
         ],
         "title": {
          "text": "count"
         }
        }
       }
      }
     },
     "metadata": {},
     "output_type": "display_data"
    },
    {
     "data": {
      "application/vnd.plotly.v1+json": {
       "config": {
        "plotlyServerURL": "https://plot.ly"
       },
       "data": [
        {
         "alignmentgroup": "True",
         "bingroup": "x",
         "hovertemplate": "Attrition=Yes<br>JobSatisfaction=%{x}<br>count=%{y}<extra></extra>",
         "legendgroup": "Yes",
         "marker": {
          "color": "#636efa",
          "pattern": {
           "shape": ""
          }
         },
         "name": "Yes",
         "offsetgroup": "Yes",
         "orientation": "v",
         "showlegend": true,
         "type": "histogram",
         "x": [
          4,
          3,
          3,
          1,
          1,
          1,
          4,
          4,
          3,
          3,
          3,
          3,
          3,
          3,
          4,
          1,
          4,
          3,
          3,
          2,
          3,
          4,
          3,
          3,
          4,
          1,
          1,
          4,
          2,
          3,
          1,
          4,
          4,
          1,
          1,
          3,
          4,
          4,
          1,
          3,
          3,
          2,
          3,
          2,
          3,
          2,
          4,
          3,
          2,
          4,
          3,
          1,
          2,
          3,
          2,
          3,
          2,
          4,
          1,
          4,
          1,
          2,
          3,
          2,
          4,
          3,
          4,
          3,
          1,
          3,
          3,
          2,
          4,
          3,
          3,
          1,
          1,
          1,
          1,
          3,
          1,
          3,
          3,
          2,
          3,
          4,
          3,
          1,
          1,
          1,
          1,
          1,
          2,
          3,
          4,
          4,
          3,
          2,
          3,
          4,
          4,
          3,
          4,
          3,
          4,
          1,
          2,
          2,
          1,
          4,
          3,
          3,
          2,
          1,
          1,
          3,
          2,
          1,
          2,
          2,
          1,
          4,
          1,
          3,
          1,
          4,
          1,
          3,
          1,
          1,
          1,
          3,
          4,
          3,
          2,
          2,
          3,
          4,
          3,
          1,
          3,
          1,
          1,
          4,
          3,
          3,
          4,
          1,
          2,
          2,
          4,
          2,
          3,
          4,
          3,
          3,
          1,
          2,
          2,
          2,
          1,
          1,
          3,
          4,
          3,
          3,
          3,
          1,
          4,
          3,
          2,
          1,
          4,
          1,
          2,
          4,
          3,
          3,
          2,
          2,
          1,
          1,
          1,
          1,
          3,
          1,
          1,
          4,
          2,
          2,
          4,
          1,
          4,
          1,
          4,
          3,
          3,
          2,
          4,
          3,
          3,
          1,
          2,
          4,
          2,
          1,
          3,
          3,
          2,
          1,
          2,
          4,
          1,
          1,
          2,
          2,
          1,
          1,
          2,
          4,
          2,
          4,
          2,
          1,
          4,
          1,
          3,
          3,
          2,
          4,
          4,
          1,
          1,
          4,
          3,
          3,
          1
         ],
         "xaxis": "x",
         "yaxis": "y"
        },
        {
         "alignmentgroup": "True",
         "bingroup": "x",
         "hovertemplate": "Attrition=No<br>JobSatisfaction=%{x}<br>count=%{y}<extra></extra>",
         "legendgroup": "No",
         "marker": {
          "color": "#EF553B",
          "pattern": {
           "shape": ""
          }
         },
         "name": "No",
         "offsetgroup": "No",
         "orientation": "v",
         "showlegend": true,
         "type": "histogram",
         "x": [
          2,
          3,
          2,
          4,
          1,
          3,
          3,
          3,
          2,
          3,
          3,
          4,
          1,
          2,
          4,
          4,
          4,
          3,
          2,
          4,
          3,
          2,
          4,
          1,
          4,
          4,
          3,
          3,
          4,
          1,
          1,
          4,
          1,
          3,
          4,
          3,
          2,
          4,
          4,
          1,
          1,
          4,
          4,
          1,
          1,
          4,
          3,
          4,
          4,
          3,
          1,
          3,
          3,
          2,
          1,
          1,
          3,
          2,
          2,
          2,
          4,
          4,
          1,
          1,
          3,
          2,
          4,
          3,
          4,
          4,
          2,
          4,
          1,
          4,
          4,
          2,
          4,
          2,
          1,
          3,
          3,
          3,
          3,
          3,
          2,
          1,
          3,
          4,
          4,
          2,
          4,
          4,
          1,
          4,
          3,
          2,
          4,
          1,
          4,
          4,
          4,
          3,
          2,
          3,
          2,
          4,
          1,
          3,
          4,
          3,
          3,
          2,
          3,
          3,
          4,
          4,
          3,
          3,
          4,
          1,
          4,
          1,
          1,
          2,
          2,
          2,
          3,
          2,
          4,
          3,
          3,
          2,
          4,
          3,
          4,
          2,
          4,
          4,
          3,
          2,
          3,
          4,
          4,
          3,
          2,
          2,
          1,
          1,
          1,
          4,
          1,
          4,
          4,
          2,
          3,
          1,
          2,
          3,
          2,
          3,
          2,
          3,
          2,
          4,
          4,
          1,
          2,
          3,
          3,
          4,
          1,
          4,
          3,
          4,
          2,
          4,
          4,
          1,
          3,
          3,
          2,
          4,
          4,
          1,
          2,
          2,
          4,
          3,
          3,
          4,
          4,
          4,
          3,
          4,
          4,
          3,
          4,
          4,
          3,
          2,
          3,
          4,
          1,
          4,
          4,
          3,
          4,
          1,
          1,
          3,
          3,
          4,
          1,
          4,
          3,
          1,
          3,
          4,
          2,
          4,
          1,
          2,
          2,
          4,
          1,
          4,
          4,
          1,
          4,
          4,
          3,
          4,
          2,
          1,
          2,
          2,
          3,
          3,
          4,
          4,
          1,
          4,
          4,
          4,
          1,
          2,
          2,
          4,
          2,
          2,
          4,
          2,
          2,
          3,
          1,
          4,
          4,
          2,
          3,
          2,
          3,
          4,
          1,
          1,
          4,
          2,
          1,
          4,
          3,
          2,
          2,
          3,
          4,
          4,
          4,
          3,
          4,
          4,
          3,
          3,
          2,
          3,
          1,
          4,
          4,
          4,
          3,
          2,
          4,
          4,
          4,
          2,
          2,
          4,
          2,
          3,
          4,
          3,
          3,
          2,
          3,
          1,
          3,
          3,
          4,
          4,
          4,
          3,
          3,
          4,
          1,
          3,
          4,
          2,
          4,
          2,
          2,
          4,
          3,
          4,
          3,
          4,
          3,
          2,
          2,
          3,
          1,
          2,
          1,
          2,
          2,
          3,
          1,
          3,
          1,
          4,
          3,
          4,
          3,
          1,
          3,
          1,
          3,
          1,
          1,
          3,
          4,
          4,
          3,
          4,
          1,
          3,
          4,
          4,
          3,
          4,
          4,
          3,
          1,
          4,
          3,
          4,
          1,
          4,
          3,
          3,
          3,
          3,
          4,
          2,
          2,
          3,
          3,
          4,
          4,
          2,
          4,
          3,
          3,
          3,
          4,
          1,
          2,
          4,
          3,
          4,
          1,
          3,
          3,
          3,
          4,
          4,
          3,
          1,
          2,
          1,
          4,
          3,
          2,
          3,
          4,
          2,
          2,
          2,
          3,
          4,
          4,
          4,
          3,
          3,
          2,
          4,
          4,
          1,
          3,
          1,
          3,
          3,
          3,
          4,
          3,
          3,
          4,
          3,
          1,
          4,
          4,
          3,
          3,
          4,
          4,
          2,
          2,
          4,
          3,
          1,
          2,
          4,
          4,
          2,
          4,
          4,
          3,
          2,
          3,
          4,
          4,
          1,
          4,
          1,
          1,
          3,
          4,
          1,
          1,
          3,
          2,
          1,
          3,
          3,
          3,
          4,
          3,
          4,
          3,
          1,
          2,
          4,
          4,
          1,
          2,
          4,
          1,
          4,
          3,
          1,
          1,
          4,
          3,
          3,
          4,
          1,
          4,
          4,
          3,
          4,
          1,
          4,
          1,
          1,
          1,
          4,
          3,
          2,
          1,
          4,
          2,
          3,
          3,
          3,
          4,
          2,
          3,
          3,
          4,
          2,
          3,
          3,
          4,
          3,
          2,
          1,
          4,
          1,
          4,
          3,
          2,
          4,
          4,
          3,
          2,
          1,
          1,
          1,
          4,
          4,
          4,
          4,
          1,
          3,
          4,
          3,
          4,
          4,
          4,
          4,
          1,
          1,
          3,
          4,
          1,
          1,
          4,
          2,
          2,
          4,
          4,
          4,
          2,
          4,
          4,
          4,
          4,
          2,
          1,
          4,
          2,
          4,
          1,
          4,
          2,
          4,
          4,
          3,
          3,
          2,
          3,
          1,
          2,
          3,
          4,
          2,
          3,
          3,
          4,
          1,
          2,
          2,
          1,
          1,
          3,
          4,
          2,
          1,
          4,
          2,
          4,
          3,
          4,
          3,
          3,
          4,
          4,
          3,
          3,
          4,
          3,
          4,
          4,
          4,
          2,
          3,
          2,
          1,
          4,
          3,
          3,
          3,
          3,
          1,
          4,
          3,
          3,
          1,
          4,
          1,
          3,
          3,
          3,
          4,
          4,
          4,
          3,
          4,
          4,
          2,
          3,
          4,
          4,
          3,
          1,
          4,
          4,
          3,
          4,
          4,
          2,
          2,
          3,
          2,
          3,
          3,
          2,
          1,
          3,
          4,
          3,
          3,
          4,
          1,
          4,
          1,
          1,
          1,
          3,
          3,
          4,
          3,
          2,
          3,
          4,
          3,
          4,
          4,
          1,
          2,
          4,
          4,
          3,
          2,
          3,
          4,
          2,
          3,
          2,
          1,
          3,
          2,
          2,
          4,
          4,
          2,
          4,
          2,
          3,
          2,
          4,
          4,
          3,
          3,
          4,
          4,
          3,
          3,
          3,
          3,
          1,
          3,
          2,
          4,
          3,
          4,
          2,
          1,
          4,
          1,
          1,
          4,
          1,
          3,
          4,
          3,
          3,
          4,
          1,
          3,
          3,
          1,
          2,
          1,
          1,
          2,
          1,
          3,
          3,
          3,
          4,
          4,
          4,
          1,
          4,
          2,
          3,
          1,
          4,
          2,
          4,
          2,
          1,
          4,
          1,
          3,
          4,
          4,
          4,
          1,
          1,
          4,
          4,
          3,
          2,
          2,
          3,
          4,
          4,
          4,
          3,
          2,
          3,
          4,
          3,
          4,
          2,
          2,
          1,
          2,
          4,
          2,
          3,
          1,
          2,
          3,
          2,
          4,
          2,
          4,
          3,
          3,
          1,
          2,
          4,
          2,
          2,
          3,
          4,
          3,
          1,
          4,
          1,
          1,
          3,
          3,
          2,
          3,
          3,
          2,
          3,
          4,
          4,
          1,
          3,
          2,
          1,
          1,
          4,
          2,
          1,
          4,
          4,
          2,
          4,
          4,
          4,
          2,
          3,
          3,
          3,
          3,
          4,
          1,
          4,
          2,
          4,
          3,
          4,
          2,
          3,
          3,
          3,
          3,
          4,
          4,
          1,
          1,
          3,
          4,
          4,
          1,
          1,
          4,
          1,
          4,
          2,
          1,
          2,
          1,
          1,
          4,
          1,
          4,
          3,
          1,
          3,
          3,
          4,
          2,
          3,
          3,
          4,
          1,
          2,
          4,
          1,
          2,
          1,
          3,
          2,
          3,
          3,
          2,
          1,
          1,
          3,
          4,
          3,
          3,
          3,
          2,
          1,
          3,
          2,
          3,
          3,
          3,
          3,
          2,
          3,
          3,
          1,
          1,
          2,
          2,
          3,
          4,
          4,
          1,
          2,
          2,
          2,
          3,
          3,
          4,
          3,
          2,
          4,
          1,
          2,
          4,
          4,
          1,
          3,
          4,
          1,
          4,
          2,
          3,
          2,
          4,
          3,
          3,
          1,
          3,
          1,
          2,
          1,
          1,
          4,
          4,
          4,
          4,
          2,
          2,
          3,
          1,
          3,
          3,
          4,
          3,
          3,
          1,
          4,
          3,
          3,
          1,
          2,
          4,
          1,
          3,
          3,
          4,
          4,
          2,
          1,
          1,
          1,
          3,
          4,
          1,
          1,
          1,
          1,
          1,
          4,
          3,
          3,
          3,
          3,
          3,
          3,
          4,
          3,
          2,
          4,
          4,
          4,
          4,
          3,
          4,
          3,
          1,
          3,
          2,
          2,
          1,
          3,
          2,
          2,
          3,
          3,
          1,
          3,
          3,
          4,
          2,
          4,
          2,
          4,
          1,
          2,
          2,
          3,
          3,
          1,
          4,
          3,
          4,
          3,
          4,
          4,
          2,
          4,
          4,
          2,
          4,
          4,
          4,
          4,
          4,
          3,
          3,
          3,
          4,
          3,
          3,
          2,
          3,
          3,
          2,
          1,
          1,
          2,
          3,
          4,
          2,
          4,
          2,
          4,
          4,
          3,
          2,
          3,
          1,
          4,
          3,
          4,
          3,
          1,
          4,
          2,
          4,
          2,
          1,
          3,
          2,
          4,
          2,
          1,
          2,
          1,
          3,
          3,
          4,
          4,
          3,
          4,
          3,
          2,
          4,
          1,
          2,
          1,
          4,
          3,
          2,
          1,
          1,
          4,
          2,
          4,
          3,
          2,
          3,
          3,
          4,
          3,
          2,
          3,
          2,
          1,
          4,
          1,
          1,
          4,
          4,
          3,
          3,
          3,
          2,
          4,
          4,
          4,
          4,
          3,
          3,
          4,
          4,
          3,
          3,
          1,
          3,
          2,
          3,
          2,
          1,
          4,
          4,
          2,
          3,
          3,
          4,
          1,
          1,
          2,
          4,
          4,
          1,
          3,
          3,
          4,
          1,
          2,
          2,
          1,
          4,
          4,
          3,
          4,
          3,
          3,
          4,
          3,
          2,
          4,
          2,
          1,
          1,
          2,
          4,
          4,
          4,
          4,
          1,
          3,
          1,
          2,
          4,
          3,
          1,
          1,
          4,
          1,
          1,
          4,
          4,
          4,
          3,
          3,
          3,
          2,
          2,
          4,
          1,
          3,
          3,
          1,
          3,
          4,
          3,
          2,
          2,
          2,
          3,
          3,
          3,
          2,
          3,
          3,
          1,
          4,
          2,
          3,
          3,
          3,
          4,
          2,
          4,
          2,
          4,
          3,
          4,
          4,
          3,
          4,
          4,
          1,
          4,
          4,
          2,
          3,
          3,
          2,
          3,
          4,
          2,
          1,
          4,
          4,
          4,
          3,
          3,
          3,
          3,
          4,
          2,
          1,
          4,
          1,
          3,
          4,
          1,
          2,
          2,
          3
         ],
         "xaxis": "x",
         "yaxis": "y"
        }
       ],
       "layout": {
        "autosize": false,
        "barmode": "relative",
        "legend": {
         "title": {
          "text": "Attrition"
         },
         "tracegroupgap": 0
        },
        "margin": {
         "t": 60
        },
        "template": {
         "data": {
          "bar": [
           {
            "error_x": {
             "color": "#2a3f5f"
            },
            "error_y": {
             "color": "#2a3f5f"
            },
            "marker": {
             "line": {
              "color": "#E5ECF6",
              "width": 0.5
             },
             "pattern": {
              "fillmode": "overlay",
              "size": 10,
              "solidity": 0.2
             }
            },
            "type": "bar"
           }
          ],
          "barpolar": [
           {
            "marker": {
             "line": {
              "color": "#E5ECF6",
              "width": 0.5
             },
             "pattern": {
              "fillmode": "overlay",
              "size": 10,
              "solidity": 0.2
             }
            },
            "type": "barpolar"
           }
          ],
          "carpet": [
           {
            "aaxis": {
             "endlinecolor": "#2a3f5f",
             "gridcolor": "white",
             "linecolor": "white",
             "minorgridcolor": "white",
             "startlinecolor": "#2a3f5f"
            },
            "baxis": {
             "endlinecolor": "#2a3f5f",
             "gridcolor": "white",
             "linecolor": "white",
             "minorgridcolor": "white",
             "startlinecolor": "#2a3f5f"
            },
            "type": "carpet"
           }
          ],
          "choropleth": [
           {
            "colorbar": {
             "outlinewidth": 0,
             "ticks": ""
            },
            "type": "choropleth"
           }
          ],
          "contour": [
           {
            "colorbar": {
             "outlinewidth": 0,
             "ticks": ""
            },
            "colorscale": [
             [
              0,
              "#0d0887"
             ],
             [
              0.1111111111111111,
              "#46039f"
             ],
             [
              0.2222222222222222,
              "#7201a8"
             ],
             [
              0.3333333333333333,
              "#9c179e"
             ],
             [
              0.4444444444444444,
              "#bd3786"
             ],
             [
              0.5555555555555556,
              "#d8576b"
             ],
             [
              0.6666666666666666,
              "#ed7953"
             ],
             [
              0.7777777777777778,
              "#fb9f3a"
             ],
             [
              0.8888888888888888,
              "#fdca26"
             ],
             [
              1,
              "#f0f921"
             ]
            ],
            "type": "contour"
           }
          ],
          "contourcarpet": [
           {
            "colorbar": {
             "outlinewidth": 0,
             "ticks": ""
            },
            "type": "contourcarpet"
           }
          ],
          "heatmap": [
           {
            "colorbar": {
             "outlinewidth": 0,
             "ticks": ""
            },
            "colorscale": [
             [
              0,
              "#0d0887"
             ],
             [
              0.1111111111111111,
              "#46039f"
             ],
             [
              0.2222222222222222,
              "#7201a8"
             ],
             [
              0.3333333333333333,
              "#9c179e"
             ],
             [
              0.4444444444444444,
              "#bd3786"
             ],
             [
              0.5555555555555556,
              "#d8576b"
             ],
             [
              0.6666666666666666,
              "#ed7953"
             ],
             [
              0.7777777777777778,
              "#fb9f3a"
             ],
             [
              0.8888888888888888,
              "#fdca26"
             ],
             [
              1,
              "#f0f921"
             ]
            ],
            "type": "heatmap"
           }
          ],
          "heatmapgl": [
           {
            "colorbar": {
             "outlinewidth": 0,
             "ticks": ""
            },
            "colorscale": [
             [
              0,
              "#0d0887"
             ],
             [
              0.1111111111111111,
              "#46039f"
             ],
             [
              0.2222222222222222,
              "#7201a8"
             ],
             [
              0.3333333333333333,
              "#9c179e"
             ],
             [
              0.4444444444444444,
              "#bd3786"
             ],
             [
              0.5555555555555556,
              "#d8576b"
             ],
             [
              0.6666666666666666,
              "#ed7953"
             ],
             [
              0.7777777777777778,
              "#fb9f3a"
             ],
             [
              0.8888888888888888,
              "#fdca26"
             ],
             [
              1,
              "#f0f921"
             ]
            ],
            "type": "heatmapgl"
           }
          ],
          "histogram": [
           {
            "marker": {
             "pattern": {
              "fillmode": "overlay",
              "size": 10,
              "solidity": 0.2
             }
            },
            "type": "histogram"
           }
          ],
          "histogram2d": [
           {
            "colorbar": {
             "outlinewidth": 0,
             "ticks": ""
            },
            "colorscale": [
             [
              0,
              "#0d0887"
             ],
             [
              0.1111111111111111,
              "#46039f"
             ],
             [
              0.2222222222222222,
              "#7201a8"
             ],
             [
              0.3333333333333333,
              "#9c179e"
             ],
             [
              0.4444444444444444,
              "#bd3786"
             ],
             [
              0.5555555555555556,
              "#d8576b"
             ],
             [
              0.6666666666666666,
              "#ed7953"
             ],
             [
              0.7777777777777778,
              "#fb9f3a"
             ],
             [
              0.8888888888888888,
              "#fdca26"
             ],
             [
              1,
              "#f0f921"
             ]
            ],
            "type": "histogram2d"
           }
          ],
          "histogram2dcontour": [
           {
            "colorbar": {
             "outlinewidth": 0,
             "ticks": ""
            },
            "colorscale": [
             [
              0,
              "#0d0887"
             ],
             [
              0.1111111111111111,
              "#46039f"
             ],
             [
              0.2222222222222222,
              "#7201a8"
             ],
             [
              0.3333333333333333,
              "#9c179e"
             ],
             [
              0.4444444444444444,
              "#bd3786"
             ],
             [
              0.5555555555555556,
              "#d8576b"
             ],
             [
              0.6666666666666666,
              "#ed7953"
             ],
             [
              0.7777777777777778,
              "#fb9f3a"
             ],
             [
              0.8888888888888888,
              "#fdca26"
             ],
             [
              1,
              "#f0f921"
             ]
            ],
            "type": "histogram2dcontour"
           }
          ],
          "mesh3d": [
           {
            "colorbar": {
             "outlinewidth": 0,
             "ticks": ""
            },
            "type": "mesh3d"
           }
          ],
          "parcoords": [
           {
            "line": {
             "colorbar": {
              "outlinewidth": 0,
              "ticks": ""
             }
            },
            "type": "parcoords"
           }
          ],
          "pie": [
           {
            "automargin": true,
            "type": "pie"
           }
          ],
          "scatter": [
           {
            "fillpattern": {
             "fillmode": "overlay",
             "size": 10,
             "solidity": 0.2
            },
            "type": "scatter"
           }
          ],
          "scatter3d": [
           {
            "line": {
             "colorbar": {
              "outlinewidth": 0,
              "ticks": ""
             }
            },
            "marker": {
             "colorbar": {
              "outlinewidth": 0,
              "ticks": ""
             }
            },
            "type": "scatter3d"
           }
          ],
          "scattercarpet": [
           {
            "marker": {
             "colorbar": {
              "outlinewidth": 0,
              "ticks": ""
             }
            },
            "type": "scattercarpet"
           }
          ],
          "scattergeo": [
           {
            "marker": {
             "colorbar": {
              "outlinewidth": 0,
              "ticks": ""
             }
            },
            "type": "scattergeo"
           }
          ],
          "scattergl": [
           {
            "marker": {
             "colorbar": {
              "outlinewidth": 0,
              "ticks": ""
             }
            },
            "type": "scattergl"
           }
          ],
          "scattermapbox": [
           {
            "marker": {
             "colorbar": {
              "outlinewidth": 0,
              "ticks": ""
             }
            },
            "type": "scattermapbox"
           }
          ],
          "scatterpolar": [
           {
            "marker": {
             "colorbar": {
              "outlinewidth": 0,
              "ticks": ""
             }
            },
            "type": "scatterpolar"
           }
          ],
          "scatterpolargl": [
           {
            "marker": {
             "colorbar": {
              "outlinewidth": 0,
              "ticks": ""
             }
            },
            "type": "scatterpolargl"
           }
          ],
          "scatterternary": [
           {
            "marker": {
             "colorbar": {
              "outlinewidth": 0,
              "ticks": ""
             }
            },
            "type": "scatterternary"
           }
          ],
          "surface": [
           {
            "colorbar": {
             "outlinewidth": 0,
             "ticks": ""
            },
            "colorscale": [
             [
              0,
              "#0d0887"
             ],
             [
              0.1111111111111111,
              "#46039f"
             ],
             [
              0.2222222222222222,
              "#7201a8"
             ],
             [
              0.3333333333333333,
              "#9c179e"
             ],
             [
              0.4444444444444444,
              "#bd3786"
             ],
             [
              0.5555555555555556,
              "#d8576b"
             ],
             [
              0.6666666666666666,
              "#ed7953"
             ],
             [
              0.7777777777777778,
              "#fb9f3a"
             ],
             [
              0.8888888888888888,
              "#fdca26"
             ],
             [
              1,
              "#f0f921"
             ]
            ],
            "type": "surface"
           }
          ],
          "table": [
           {
            "cells": {
             "fill": {
              "color": "#EBF0F8"
             },
             "line": {
              "color": "white"
             }
            },
            "header": {
             "fill": {
              "color": "#C8D4E3"
             },
             "line": {
              "color": "white"
             }
            },
            "type": "table"
           }
          ]
         },
         "layout": {
          "annotationdefaults": {
           "arrowcolor": "#2a3f5f",
           "arrowhead": 0,
           "arrowwidth": 1
          },
          "autotypenumbers": "strict",
          "coloraxis": {
           "colorbar": {
            "outlinewidth": 0,
            "ticks": ""
           }
          },
          "colorscale": {
           "diverging": [
            [
             0,
             "#8e0152"
            ],
            [
             0.1,
             "#c51b7d"
            ],
            [
             0.2,
             "#de77ae"
            ],
            [
             0.3,
             "#f1b6da"
            ],
            [
             0.4,
             "#fde0ef"
            ],
            [
             0.5,
             "#f7f7f7"
            ],
            [
             0.6,
             "#e6f5d0"
            ],
            [
             0.7,
             "#b8e186"
            ],
            [
             0.8,
             "#7fbc41"
            ],
            [
             0.9,
             "#4d9221"
            ],
            [
             1,
             "#276419"
            ]
           ],
           "sequential": [
            [
             0,
             "#0d0887"
            ],
            [
             0.1111111111111111,
             "#46039f"
            ],
            [
             0.2222222222222222,
             "#7201a8"
            ],
            [
             0.3333333333333333,
             "#9c179e"
            ],
            [
             0.4444444444444444,
             "#bd3786"
            ],
            [
             0.5555555555555556,
             "#d8576b"
            ],
            [
             0.6666666666666666,
             "#ed7953"
            ],
            [
             0.7777777777777778,
             "#fb9f3a"
            ],
            [
             0.8888888888888888,
             "#fdca26"
            ],
            [
             1,
             "#f0f921"
            ]
           ],
           "sequentialminus": [
            [
             0,
             "#0d0887"
            ],
            [
             0.1111111111111111,
             "#46039f"
            ],
            [
             0.2222222222222222,
             "#7201a8"
            ],
            [
             0.3333333333333333,
             "#9c179e"
            ],
            [
             0.4444444444444444,
             "#bd3786"
            ],
            [
             0.5555555555555556,
             "#d8576b"
            ],
            [
             0.6666666666666666,
             "#ed7953"
            ],
            [
             0.7777777777777778,
             "#fb9f3a"
            ],
            [
             0.8888888888888888,
             "#fdca26"
            ],
            [
             1,
             "#f0f921"
            ]
           ]
          },
          "colorway": [
           "#636efa",
           "#EF553B",
           "#00cc96",
           "#ab63fa",
           "#FFA15A",
           "#19d3f3",
           "#FF6692",
           "#B6E880",
           "#FF97FF",
           "#FECB52"
          ],
          "font": {
           "color": "#2a3f5f"
          },
          "geo": {
           "bgcolor": "white",
           "lakecolor": "white",
           "landcolor": "#E5ECF6",
           "showlakes": true,
           "showland": true,
           "subunitcolor": "white"
          },
          "hoverlabel": {
           "align": "left"
          },
          "hovermode": "closest",
          "mapbox": {
           "style": "light"
          },
          "paper_bgcolor": "white",
          "plot_bgcolor": "#E5ECF6",
          "polar": {
           "angularaxis": {
            "gridcolor": "white",
            "linecolor": "white",
            "ticks": ""
           },
           "bgcolor": "#E5ECF6",
           "radialaxis": {
            "gridcolor": "white",
            "linecolor": "white",
            "ticks": ""
           }
          },
          "scene": {
           "xaxis": {
            "backgroundcolor": "#E5ECF6",
            "gridcolor": "white",
            "gridwidth": 2,
            "linecolor": "white",
            "showbackground": true,
            "ticks": "",
            "zerolinecolor": "white"
           },
           "yaxis": {
            "backgroundcolor": "#E5ECF6",
            "gridcolor": "white",
            "gridwidth": 2,
            "linecolor": "white",
            "showbackground": true,
            "ticks": "",
            "zerolinecolor": "white"
           },
           "zaxis": {
            "backgroundcolor": "#E5ECF6",
            "gridcolor": "white",
            "gridwidth": 2,
            "linecolor": "white",
            "showbackground": true,
            "ticks": "",
            "zerolinecolor": "white"
           }
          },
          "shapedefaults": {
           "line": {
            "color": "#2a3f5f"
           }
          },
          "ternary": {
           "aaxis": {
            "gridcolor": "white",
            "linecolor": "white",
            "ticks": ""
           },
           "baxis": {
            "gridcolor": "white",
            "linecolor": "white",
            "ticks": ""
           },
           "bgcolor": "#E5ECF6",
           "caxis": {
            "gridcolor": "white",
            "linecolor": "white",
            "ticks": ""
           }
          },
          "title": {
           "x": 0.05
          },
          "xaxis": {
           "automargin": true,
           "gridcolor": "white",
           "linecolor": "white",
           "ticks": "",
           "title": {
            "standoff": 15
           },
           "zerolinecolor": "white",
           "zerolinewidth": 2
          },
          "yaxis": {
           "automargin": true,
           "gridcolor": "white",
           "linecolor": "white",
           "ticks": "",
           "title": {
            "standoff": 15
           },
           "zerolinecolor": "white",
           "zerolinewidth": 2
          }
         }
        },
        "width": 500,
        "xaxis": {
         "anchor": "y",
         "domain": [
          0,
          1
         ],
         "title": {
          "text": "JobSatisfaction"
         }
        },
        "yaxis": {
         "anchor": "x",
         "domain": [
          0,
          1
         ],
         "title": {
          "text": "count"
         }
        }
       }
      }
     },
     "metadata": {},
     "output_type": "display_data"
    },
    {
     "data": {
      "application/vnd.plotly.v1+json": {
       "config": {
        "plotlyServerURL": "https://plot.ly"
       },
       "data": [
        {
         "alignmentgroup": "True",
         "hovertemplate": "Attrition=%{x}<br>MonthlyIncome=%{y}<extra></extra>",
         "legendgroup": "",
         "marker": {
          "color": "#636efa"
         },
         "name": "",
         "notched": false,
         "offsetgroup": "",
         "orientation": "v",
         "showlegend": false,
         "type": "box",
         "x": [
          "Yes",
          "No",
          "Yes",
          "No",
          "No",
          "No",
          "No",
          "No",
          "No",
          "No",
          "No",
          "No",
          "No",
          "No",
          "Yes",
          "No",
          "No",
          "No",
          "No",
          "No",
          "No",
          "Yes",
          "No",
          "No",
          "Yes",
          "No",
          "Yes",
          "No",
          "No",
          "No",
          "No",
          "No",
          "No",
          "Yes",
          "Yes",
          "No",
          "Yes",
          "No",
          "No",
          "No",
          "No",
          "No",
          "Yes",
          "No",
          "No",
          "Yes",
          "No",
          "No",
          "No",
          "No",
          "Yes",
          "Yes",
          "No",
          "No",
          "No",
          "No",
          "No",
          "No",
          "No",
          "No",
          "No",
          "No",
          "No",
          "No",
          "No",
          "No",
          "No",
          "No",
          "No",
          "Yes",
          "No",
          "No",
          "No",
          "No",
          "No",
          "No",
          "No",
          "No",
          "No",
          "No",
          "No",
          "No",
          "No",
          "No",
          "No",
          "No",
          "No",
          "No",
          "No",
          "Yes",
          "No",
          "No",
          "No",
          "No",
          "No",
          "No",
          "No",
          "No",
          "No",
          "No",
          "Yes",
          "No",
          "Yes",
          "No",
          "No",
          "No",
          "No",
          "Yes",
          "No",
          "No",
          "No",
          "Yes",
          "No",
          "No",
          "No",
          "No",
          "No",
          "No",
          "No",
          "No",
          "No",
          "No",
          "Yes",
          "No",
          "Yes",
          "No",
          "Yes",
          "Yes",
          "No",
          "No",
          "No",
          "No",
          "Yes",
          "No",
          "No",
          "No",
          "Yes",
          "No",
          "No",
          "No",
          "Yes",
          "No",
          "No",
          "No",
          "No",
          "No",
          "No",
          "No",
          "No",
          "No",
          "No",
          "No",
          "No",
          "No",
          "No",
          "No",
          "No",
          "No",
          "No",
          "No",
          "No",
          "No",
          "No",
          "No",
          "No",
          "No",
          "No",
          "No",
          "No",
          "No",
          "No",
          "Yes",
          "No",
          "No",
          "No",
          "No",
          "No",
          "Yes",
          "No",
          "No",
          "No",
          "No",
          "Yes",
          "No",
          "No",
          "No",
          "No",
          "No",
          "No",
          "No",
          "No",
          "No",
          "Yes",
          "No",
          "No",
          "No",
          "No",
          "No",
          "No",
          "No",
          "No",
          "No",
          "No",
          "No",
          "Yes",
          "Yes",
          "No",
          "No",
          "No",
          "No",
          "Yes",
          "No",
          "No",
          "No",
          "Yes",
          "No",
          "Yes",
          "Yes",
          "No",
          "No",
          "No",
          "No",
          "No",
          "No",
          "No",
          "No",
          "No",
          "No",
          "No",
          "Yes",
          "No",
          "No",
          "No",
          "No",
          "Yes",
          "No",
          "Yes",
          "No",
          "No",
          "Yes",
          "No",
          "No",
          "No",
          "No",
          "No",
          "No",
          "No",
          "No",
          "No",
          "No",
          "Yes",
          "No",
          "No",
          "No",
          "No",
          "No",
          "No",
          "No",
          "No",
          "Yes",
          "No",
          "No",
          "No",
          "No",
          "Yes",
          "No",
          "No",
          "No",
          "No",
          "No",
          "No",
          "Yes",
          "No",
          "No",
          "No",
          "No",
          "No",
          "No",
          "No",
          "No",
          "No",
          "No",
          "No",
          "No",
          "No",
          "No",
          "Yes",
          "No",
          "Yes",
          "No",
          "No",
          "No",
          "No",
          "Yes",
          "No",
          "No",
          "Yes",
          "No",
          "No",
          "No",
          "No",
          "No",
          "No",
          "No",
          "No",
          "No",
          "No",
          "No",
          "No",
          "No",
          "No",
          "No",
          "No",
          "No",
          "No",
          "No",
          "No",
          "Yes",
          "No",
          "No",
          "No",
          "No",
          "No",
          "Yes",
          "No",
          "No",
          "No",
          "Yes",
          "No",
          "No",
          "No",
          "No",
          "No",
          "No",
          "No",
          "No",
          "Yes",
          "No",
          "No",
          "No",
          "No",
          "No",
          "No",
          "No",
          "No",
          "No",
          "No",
          "No",
          "No",
          "No",
          "No",
          "No",
          "No",
          "No",
          "No",
          "No",
          "No",
          "Yes",
          "No",
          "No",
          "No",
          "No",
          "No",
          "Yes",
          "No",
          "No",
          "Yes",
          "No",
          "Yes",
          "No",
          "Yes",
          "No",
          "No",
          "No",
          "No",
          "No",
          "No",
          "No",
          "Yes",
          "No",
          "No",
          "No",
          "Yes",
          "No",
          "No",
          "Yes",
          "No",
          "No",
          "No",
          "No",
          "No",
          "No",
          "No",
          "No",
          "No",
          "No",
          "No",
          "No",
          "No",
          "No",
          "No",
          "No",
          "No",
          "No",
          "No",
          "Yes",
          "No",
          "No",
          "No",
          "No",
          "No",
          "No",
          "No",
          "No",
          "Yes",
          "Yes",
          "No",
          "No",
          "No",
          "No",
          "No",
          "Yes",
          "Yes",
          "No",
          "No",
          "No",
          "No",
          "No",
          "No",
          "No",
          "No",
          "No",
          "No",
          "No",
          "No",
          "Yes",
          "Yes",
          "No",
          "No",
          "Yes",
          "Yes",
          "No",
          "No",
          "Yes",
          "No",
          "No",
          "No",
          "No",
          "No",
          "No",
          "No",
          "No",
          "No",
          "Yes",
          "No",
          "No",
          "No",
          "Yes",
          "No",
          "No",
          "No",
          "No",
          "No",
          "Yes",
          "No",
          "No",
          "No",
          "No",
          "No",
          "Yes",
          "No",
          "No",
          "No",
          "No",
          "No",
          "No",
          "No",
          "No",
          "No",
          "Yes",
          "Yes",
          "No",
          "Yes",
          "No",
          "No",
          "No",
          "No",
          "No",
          "No",
          "No",
          "No",
          "No",
          "No",
          "No",
          "No",
          "Yes",
          "No",
          "No",
          "No",
          "No",
          "No",
          "No",
          "No",
          "No",
          "Yes",
          "No",
          "No",
          "No",
          "No",
          "No",
          "No",
          "No",
          "No",
          "Yes",
          "Yes",
          "No",
          "No",
          "No",
          "No",
          "No",
          "No",
          "No",
          "No",
          "No",
          "No",
          "Yes",
          "No",
          "No",
          "Yes",
          "No",
          "No",
          "No",
          "No",
          "No",
          "No",
          "No",
          "No",
          "No",
          "No",
          "No",
          "Yes",
          "No",
          "No",
          "No",
          "No",
          "No",
          "No",
          "Yes",
          "No",
          "No",
          "No",
          "No",
          "No",
          "No",
          "No",
          "No",
          "No",
          "No",
          "No",
          "No",
          "No",
          "No",
          "Yes",
          "No",
          "No",
          "No",
          "Yes",
          "No",
          "Yes",
          "No",
          "No",
          "No",
          "No",
          "Yes",
          "No",
          "No",
          "No",
          "No",
          "No",
          "No",
          "No",
          "No",
          "No",
          "No",
          "No",
          "Yes",
          "No",
          "No",
          "No",
          "Yes",
          "No",
          "Yes",
          "No",
          "No",
          "No",
          "Yes",
          "No",
          "No",
          "Yes",
          "No",
          "No",
          "No",
          "No",
          "No",
          "No",
          "No",
          "No",
          "Yes",
          "Yes",
          "No",
          "No",
          "No",
          "No",
          "No",
          "Yes",
          "No",
          "No",
          "No",
          "No",
          "No",
          "No",
          "No",
          "No",
          "No",
          "No",
          "No",
          "No",
          "No",
          "No",
          "No",
          "No",
          "No",
          "No",
          "No",
          "No",
          "No",
          "Yes",
          "No",
          "No",
          "No",
          "No",
          "No",
          "No",
          "No",
          "No",
          "Yes",
          "No",
          "No",
          "No",
          "No",
          "No",
          "No",
          "No",
          "No",
          "No",
          "No",
          "Yes",
          "No",
          "No",
          "No",
          "Yes",
          "No",
          "Yes",
          "Yes",
          "No",
          "No",
          "Yes",
          "Yes",
          "No",
          "Yes",
          "No",
          "No",
          "No",
          "No",
          "No",
          "No",
          "No",
          "No",
          "No",
          "No",
          "No",
          "No",
          "No",
          "Yes",
          "No",
          "No",
          "No",
          "No",
          "Yes",
          "Yes",
          "No",
          "No",
          "No",
          "Yes",
          "No",
          "Yes",
          "No",
          "No",
          "No",
          "No",
          "Yes",
          "No",
          "No",
          "No",
          "No",
          "No",
          "Yes",
          "No",
          "No",
          "Yes",
          "No",
          "Yes",
          "No",
          "No",
          "No",
          "No",
          "No",
          "No",
          "No",
          "No",
          "Yes",
          "No",
          "No",
          "No",
          "No",
          "Yes",
          "No",
          "No",
          "No",
          "No",
          "No",
          "Yes",
          "Yes",
          "No",
          "No",
          "No",
          "No",
          "No",
          "No",
          "No",
          "No",
          "No",
          "No",
          "No",
          "Yes",
          "No",
          "No",
          "No",
          "Yes",
          "Yes",
          "No",
          "No",
          "Yes",
          "No",
          "No",
          "No",
          "No",
          "No",
          "No",
          "No",
          "No",
          "Yes",
          "Yes",
          "No",
          "No",
          "No",
          "No",
          "No",
          "No",
          "No",
          "No",
          "No",
          "No",
          "No",
          "No",
          "No",
          "Yes",
          "Yes",
          "No",
          "Yes",
          "Yes",
          "No",
          "No",
          "No",
          "No",
          "No",
          "No",
          "No",
          "No",
          "Yes",
          "No",
          "Yes",
          "Yes",
          "No",
          "No",
          "No",
          "Yes",
          "Yes",
          "Yes",
          "No",
          "Yes",
          "Yes",
          "No",
          "No",
          "No",
          "No",
          "No",
          "No",
          "No",
          "No",
          "No",
          "No",
          "No",
          "Yes",
          "No",
          "No",
          "No",
          "No",
          "No",
          "No",
          "No",
          "No",
          "No",
          "No",
          "No",
          "No",
          "No",
          "No",
          "Yes",
          "Yes",
          "No",
          "Yes",
          "No",
          "No",
          "No",
          "No",
          "Yes",
          "No",
          "Yes",
          "No",
          "No",
          "No",
          "Yes",
          "No",
          "No",
          "No",
          "No",
          "No",
          "No",
          "Yes",
          "No",
          "No",
          "No",
          "No",
          "No",
          "No",
          "No",
          "Yes",
          "No",
          "No",
          "Yes",
          "No",
          "No",
          "No",
          "Yes",
          "No",
          "No",
          "No",
          "No",
          "No",
          "No",
          "Yes",
          "No",
          "No",
          "No",
          "No",
          "No",
          "No",
          "No",
          "No",
          "No",
          "No",
          "No",
          "No",
          "No",
          "No",
          "No",
          "No",
          "No",
          "No",
          "No",
          "No",
          "Yes",
          "No",
          "No",
          "No",
          "No",
          "No",
          "No",
          "No",
          "No",
          "No",
          "No",
          "No",
          "No",
          "No",
          "No",
          "No",
          "No",
          "No",
          "No",
          "Yes",
          "No",
          "Yes",
          "No",
          "Yes",
          "No",
          "No",
          "No",
          "No",
          "No",
          "No",
          "No",
          "No",
          "No",
          "No",
          "No",
          "No",
          "Yes",
          "No",
          "No",
          "No",
          "Yes",
          "No",
          "No",
          "No",
          "No",
          "No",
          "No",
          "Yes",
          "Yes",
          "No",
          "No",
          "No",
          "No",
          "No",
          "Yes",
          "Yes",
          "No",
          "No",
          "No",
          "No",
          "Yes",
          "Yes",
          "No",
          "No",
          "No",
          "No",
          "No",
          "No",
          "No",
          "No",
          "No",
          "No",
          "No",
          "No",
          "Yes",
          "No",
          "No",
          "No",
          "No",
          "No",
          "No",
          "No",
          "No",
          "Yes",
          "No",
          "No",
          "No",
          "No",
          "Yes",
          "Yes",
          "No",
          "No",
          "No",
          "Yes",
          "No",
          "No",
          "No",
          "No",
          "No",
          "No",
          "No",
          "No",
          "No",
          "No",
          "No",
          "Yes",
          "No",
          "No",
          "No",
          "No",
          "No",
          "No",
          "No",
          "No",
          "Yes",
          "Yes",
          "No",
          "No",
          "No",
          "No",
          "Yes",
          "No",
          "No",
          "No",
          "Yes",
          "No",
          "No",
          "No",
          "No",
          "Yes",
          "No",
          "No",
          "No",
          "No",
          "No",
          "No",
          "No",
          "No",
          "No",
          "Yes",
          "Yes",
          "Yes",
          "No",
          "No",
          "Yes",
          "No",
          "No",
          "Yes",
          "No",
          "No",
          "No",
          "No",
          "No",
          "No",
          "No",
          "No",
          "No",
          "No",
          "No",
          "No",
          "No",
          "No",
          "No",
          "No",
          "Yes",
          "Yes",
          "Yes",
          "No",
          "Yes",
          "No",
          "No",
          "No",
          "No",
          "No",
          "No",
          "No",
          "Yes",
          "No",
          "No",
          "No",
          "No",
          "No",
          "No",
          "No",
          "No",
          "Yes",
          "No",
          "No",
          "No",
          "No",
          "No",
          "Yes",
          "No",
          "Yes",
          "No",
          "No",
          "No",
          "No",
          "No",
          "No",
          "No",
          "No",
          "No",
          "No",
          "No",
          "No",
          "No",
          "No",
          "No",
          "No",
          "No",
          "No",
          "No",
          "No",
          "Yes",
          "No",
          "No",
          "No",
          "Yes",
          "Yes",
          "Yes",
          "No",
          "No",
          "No",
          "No",
          "No",
          "No",
          "No",
          "No",
          "No",
          "No",
          "No",
          "No",
          "No",
          "No",
          "No",
          "No",
          "No",
          "No",
          "No",
          "No",
          "No",
          "No",
          "No",
          "Yes",
          "No",
          "No",
          "No",
          "No",
          "No",
          "No",
          "No",
          "No",
          "No",
          "No",
          "No",
          "No",
          "No",
          "No",
          "No",
          "No",
          "Yes",
          "No",
          "No",
          "No",
          "No",
          "No",
          "No",
          "No",
          "No",
          "Yes",
          "No",
          "No",
          "No",
          "No",
          "Yes",
          "No",
          "No",
          "No",
          "Yes",
          "No",
          "No",
          "No",
          "No",
          "No",
          "No",
          "No",
          "No",
          "No",
          "No",
          "No",
          "No",
          "No",
          "No",
          "Yes",
          "No",
          "No",
          "No",
          "No",
          "No",
          "No",
          "No",
          "No",
          "No",
          "No",
          "No",
          "No",
          "No",
          "No",
          "Yes",
          "No",
          "No",
          "Yes",
          "Yes",
          "No",
          "No",
          "No",
          "No",
          "No",
          "No",
          "No",
          "Yes",
          "No",
          "No",
          "No",
          "No",
          "No",
          "No",
          "No",
          "No",
          "Yes",
          "Yes",
          "No",
          "No",
          "No",
          "No",
          "No",
          "No",
          "No",
          "No",
          "No",
          "No",
          "No",
          "No",
          "Yes",
          "Yes",
          "No",
          "No",
          "No",
          "No",
          "No",
          "No",
          "No",
          "No",
          "Yes",
          "No",
          "No",
          "Yes",
          "No",
          "No",
          "No",
          "No",
          "No",
          "Yes",
          "No",
          "Yes",
          "No",
          "No",
          "No",
          "No",
          "Yes",
          "No",
          "No",
          "No",
          "No",
          "No",
          "No",
          "No",
          "No",
          "Yes",
          "No",
          "Yes",
          "No",
          "No",
          "No",
          "No",
          "No",
          "Yes",
          "No",
          "Yes",
          "No",
          "No",
          "No",
          "No",
          "No",
          "No",
          "No",
          "No",
          "Yes",
          "Yes",
          "No",
          "No",
          "No",
          "No",
          "No",
          "Yes",
          "Yes",
          "No",
          "No",
          "No",
          "No",
          "No",
          "No",
          "No",
          "No",
          "No",
          "No",
          "No",
          "No",
          "No",
          "Yes",
          "Yes",
          "No",
          "No",
          "No",
          "No",
          "No",
          "No",
          "No",
          "No",
          "No",
          "No",
          "No",
          "No",
          "Yes",
          "No",
          "No",
          "No",
          "No",
          "No",
          "Yes",
          "Yes",
          "No",
          "No",
          "No",
          "No",
          "Yes",
          "Yes",
          "No",
          "No",
          "No",
          "No",
          "No",
          "No",
          "No",
          "No",
          "No",
          "No",
          "No",
          "No",
          "No",
          "Yes",
          "Yes",
          "No",
          "No",
          "No",
          "No",
          "No",
          "No",
          "No",
          "No",
          "No",
          "No",
          "Yes",
          "No",
          "No",
          "No",
          "Yes",
          "No",
          "No",
          "No",
          "No",
          "No",
          "Yes",
          "No",
          "No",
          "No",
          "Yes",
          "No",
          "No",
          "No",
          "No",
          "No",
          "No",
          "No",
          "No",
          "No",
          "No",
          "Yes",
          "No",
          "No",
          "No",
          "No",
          "Yes",
          "Yes",
          "No",
          "No",
          "No",
          "No",
          "No",
          "No",
          "No",
          "No",
          "No",
          "No",
          "No",
          "No",
          "No",
          "No",
          "No",
          "No",
          "No",
          "No",
          "No",
          "No",
          "No",
          "No",
          "No",
          "No",
          "No",
          "No",
          "No",
          "No",
          "No",
          "No",
          "No",
          "No",
          "No",
          "No",
          "No",
          "No",
          "No",
          "No",
          "No",
          "No",
          "No",
          "Yes",
          "No",
          "No",
          "No",
          "Yes",
          "No",
          "Yes",
          "No",
          "No",
          "No",
          "No",
          "No",
          "No",
          "No",
          "Yes",
          "No",
          "No",
          "No",
          "No",
          "No",
          "No",
          "No",
          "No",
          "Yes",
          "No",
          "No",
          "No",
          "No",
          "No",
          "No",
          "No",
          "No"
         ],
         "x0": " ",
         "xaxis": "x",
         "y": [
          5993,
          5130,
          2090,
          2909,
          3468,
          3068,
          2670,
          2693,
          9526,
          5237,
          2426,
          4193,
          2911,
          2661,
          2028,
          9980,
          3298,
          2935,
          15427,
          3944,
          4011,
          3407,
          11994,
          1232,
          2960,
          19094,
          3919,
          6825,
          10248,
          18947,
          2496,
          6465,
          2206,
          2086,
          2293,
          2645,
          2683,
          2014,
          3419,
          5376,
          1951,
          2341,
          2293,
          8726,
          4011,
          19545,
          4568,
          3022,
          5772,
          2269,
          5381,
          3441,
          5454,
          9884,
          4157,
          13458,
          9069,
          4014,
          5915,
          5993,
          6162,
          2406,
          18740,
          7637,
          10096,
          14756,
          6499,
          9724,
          2194,
          3388,
          5473,
          2703,
          2501,
          6220,
          3038,
          4424,
          4312,
          13245,
          13664,
          5021,
          5126,
          2859,
          10239,
          5329,
          4325,
          7260,
          2322,
          2075,
          4152,
          9619,
          13503,
          5441,
          5209,
          10673,
          5010,
          13549,
          4999,
          4221,
          13872,
          2042,
          2073,
          2956,
          2926,
          4809,
          5163,
          18844,
          18172,
          5744,
          2889,
          2871,
          7484,
          6074,
          17328,
          2774,
          4505,
          7428,
          11631,
          9738,
          2835,
          16959,
          2613,
          6146,
          4963,
          19537,
          6172,
          2368,
          10312,
          1675,
          2523,
          6567,
          4739,
          9208,
          4559,
          8189,
          2942,
          4941,
          10650,
          5902,
          8639,
          6347,
          4200,
          3452,
          4317,
          2632,
          4668,
          3204,
          2720,
          17181,
          2238,
          1483,
          5605,
          7295,
          2306,
          2348,
          8998,
          4319,
          6132,
          3346,
          10855,
          2231,
          2323,
          2024,
          2713,
          9439,
          2566,
          19926,
          2451,
          9419,
          8686,
          3038,
          3058,
          2325,
          2088,
          3072,
          5006,
          4257,
          2500,
          1102,
          10453,
          2288,
          3929,
          2311,
          3140,
          3690,
          4450,
          2756,
          19033,
          18722,
          9547,
          13734,
          19999,
          2279,
          5916,
          2089,
          16792,
          3564,
          4425,
          5265,
          6553,
          6261,
          4298,
          6804,
          3815,
          2741,
          6673,
          7639,
          2328,
          2153,
          4876,
          9396,
          10400,
          8474,
          9981,
          12490,
          2657,
          13591,
          6696,
          2058,
          8865,
          5940,
          5914,
          2622,
          12185,
          10609,
          4345,
          2177,
          2793,
          7918,
          8789,
          2389,
          3212,
          19232,
          2267,
          19517,
          2436,
          16064,
          2707,
          19068,
          3931,
          3730,
          2232,
          4465,
          3072,
          3319,
          19202,
          13675,
          2911,
          5957,
          3920,
          6434,
          10048,
          10938,
          2340,
          6545,
          6931,
          4898,
          2593,
          19436,
          2723,
          3479,
          2794,
          5249,
          2176,
          16872,
          3485,
          6644,
          5582,
          4000,
          13496,
          3210,
          19045,
          11849,
          2070,
          6502,
          3230,
          13603,
          11996,
          5605,
          6397,
          19144,
          17584,
          4907,
          4554,
          5415,
          4741,
          2115,
          3161,
          5745,
          2373,
          3310,
          18665,
          4485,
          2789,
          5828,
          2326,
          13525,
          1420,
          8020,
          3688,
          5482,
          16015,
          1200,
          5661,
          6929,
          9613,
          5674,
          5484,
          12061,
          5660,
          4821,
          6410,
          5210,
          2695,
          11878,
          17068,
          2455,
          13964,
          4941,
          2478,
          5228,
          4478,
          7547,
          5055,
          3464,
          5775,
          8943,
          19272,
          5238,
          4682,
          18300,
          5257,
          6349,
          4869,
          9985,
          3697,
          7457,
          2119,
          3983,
          6118,
          6214,
          6347,
          11510,
          7143,
          8268,
          8095,
          2904,
          6032,
          2976,
          15992,
          4649,
          2696,
          2370,
          12504,
          5974,
          4736,
          5296,
          6781,
          2174,
          6653,
          9699,
          6755,
          2213,
          2610,
          2851,
          3452,
          5258,
          9355,
          10496,
          6380,
          2657,
          2716,
          2201,
          6540,
          3816,
          5253,
          10965,
          4936,
          2543,
          5304,
          16659,
          4260,
          2476,
          3102,
          2244,
          7596,
          2285,
          3034,
          5715,
          2576,
          4197,
          14336,
          3448,
          19406,
          6538,
          4306,
          2258,
          4522,
          4487,
          4449,
          2218,
          19197,
          13212,
          6577,
          8392,
          4558,
          4031,
          7969,
          2654,
          16555,
          4556,
          6091,
          19566,
          4810,
          4523,
          3202,
          2351,
          1702,
          18041,
          2886,
          2097,
          11935,
          2546,
          2564,
          8412,
          14118,
          17046,
          2564,
          10266,
          5070,
          17861,
          4230,
          3780,
          2768,
          9071,
          10648,
          13610,
          3408,
          2983,
          7632,
          9824,
          9950,
          2093,
          9980,
          3894,
          4051,
          16835,
          6230,
          4717,
          13237,
          3755,
          6582,
          7406,
          4805,
          2741,
          4262,
          16184,
          11557,
          1878,
          10932,
          6811,
          4306,
          4859,
          5337,
          2340,
          7491,
          10527,
          16595,
          8834,
          5577,
          4707,
          2400,
          9824,
          6447,
          19502,
          2725,
          6272,
          2127,
          18200,
          2096,
          2886,
          2033,
          3622,
          4233,
          3681,
          5460,
          2187,
          9602,
          2836,
          4089,
          16627,
          2619,
          5679,
          15402,
          5985,
          2579,
          3041,
          3447,
          19513,
          2773,
          7104,
          6322,
          2083,
          8381,
          2691,
          4286,
          2659,
          9434,
          5561,
          6646,
          7725,
          10725,
          8847,
          2045,
          1009,
          3348,
          1281,
          2819,
          4851,
          4028,
          2720,
          8120,
          4647,
          4680,
          3221,
          8621,
          4577,
          4553,
          5396,
          6796,
          7625,
          7412,
          11159,
          4960,
          10475,
          14814,
          19141,
          5405,
          8793,
          19189,
          3875,
          2216,
          11713,
          7861,
          3708,
          13770,
          5304,
          2642,
          2759,
          6804,
          6142,
          2500,
          6389,
          11103,
          2342,
          6811,
          2297,
          2450,
          5093,
          5309,
          3057,
          5121,
          16856,
          2686,
          6180,
          6632,
          3505,
          6397,
          6274,
          19859,
          7587,
          4258,
          4364,
          4335,
          5326,
          3280,
          5485,
          4342,
          2782,
          5980,
          4381,
          2572,
          3833,
          4244,
          6500,
          18430,
          1601,
          2694,
          3149,
          17639,
          2319,
          11691,
          5324,
          16752,
          5228,
          2700,
          19246,
          2506,
          6062,
          4382,
          2143,
          6162,
          5094,
          6877,
          2274,
          4434,
          6288,
          2553,
          7654,
          5160,
          17159,
          12808,
          10221,
          4779,
          3737,
          2366,
          1706,
          16307,
          5933,
          3424,
          4037,
          2559,
          6201,
          4403,
          3761,
          10934,
          10761,
          5175,
          13826,
          6334,
          4936,
          4775,
          2818,
          2515,
          2342,
          4194,
          10685,
          2022,
          2314,
          4256,
          3580,
          3162,
          6524,
          2899,
          5231,
          2356,
          2800,
          11836,
          10903,
          2973,
          14275,
          5562,
          4537,
          7642,
          17924,
          5204,
          2277,
          2795,
          2532,
          2559,
          4908,
          2380,
          4765,
          2044,
          2693,
          6586,
          3294,
          4171,
          2778,
          2377,
          2404,
          2318,
          2008,
          6244,
          2799,
          10552,
          2329,
          4014,
          7403,
          2259,
          6932,
          4678,
          13582,
          2332,
          2413,
          9705,
          4294,
          4721,
          2519,
          2121,
          2973,
          5855,
          3617,
          6725,
          10325,
          6949,
          10609,
          4447,
          2157,
          4601,
          17099,
          2479,
          14852,
          7264,
          5666,
          7823,
          7880,
          13194,
          5067,
          5079,
          2321,
          17444,
          2404,
          3452,
          2270,
          17399,
          5488,
          19419,
          2811,
          3633,
          4163,
          2132,
          13973,
          2684,
          10845,
          4377,
          3743,
          4148,
          1051,
          10739,
          10388,
          11416,
          2600,
          2422,
          5472,
          2451,
          4240,
          10999,
          5003,
          12742,
          4227,
          3917,
          18303,
          2380,
          13726,
          4777,
          6385,
          19973,
          6861,
          4969,
          19845,
          13320,
          6347,
          2743,
          10880,
          2342,
          17650,
          4025,
          9725,
          11904,
          2177,
          7525,
          4834,
          2042,
          2220,
          1052,
          2821,
          19237,
          4107,
          8396,
          2007,
          19627,
          10686,
          2942,
          8858,
          16756,
          10798,
          2323,
          1416,
          4615,
          2461,
          8722,
          3955,
          9957,
          3376,
          8823,
          10322,
          4621,
          10976,
          3660,
          10482,
          7119,
          9582,
          4508,
          2207,
          7756,
          6694,
          3691,
          2377,
          2313,
          17665,
          2596,
          4728,
          4302,
          2979,
          16885,
          5593,
          10445,
          8740,
          2514,
          7655,
          17465,
          7351,
          10820,
          12169,
          19626,
          2070,
          6782,
          7779,
          2791,
          3201,
          4968,
          13120,
          4033,
          3291,
          4272,
          5056,
          2844,
          2703,
          1904,
          8224,
          4766,
          2610,
          5731,
          2539,
          5714,
          4323,
          7336,
          13499,
          13758,
          5155,
          2258,
          3597,
          2515,
          4420,
          6578,
          4422,
          10274,
          5343,
          2376,
          5346,
          2827,
          19943,
          3131,
          2552,
          4477,
          6474,
          3033,
          2936,
          18606,
          2168,
          2853,
          17048,
          2290,
          3600,
          2107,
          4115,
          4327,
          17856,
          3196,
          19081,
          8966,
          2210,
          4539,
          2741,
          3491,
          4541,
          2678,
          7379,
          6272,
          5220,
          2743,
          4998,
          10252,
          2781,
          6852,
          4950,
          3579,
          13191,
          10377,
          2235,
          10502,
          2011,
          1859,
          3760,
          17779,
          6833,
          6812,
          5171,
          19740,
          18711,
          3692,
          2559,
          2517,
          6623,
          18265,
          16124,
          2585,
          18213,
          8380,
          2994,
          1223,
          1118,
          2875,
          18824,
          13577,
          2625,
          18789,
          4538,
          19847,
          10512,
          4444,
          2154,
          19190,
          4490,
          3506,
          2372,
          10231,
          5410,
          7978,
          3867,
          2838,
          4695,
          3339,
          2080,
          2096,
          6209,
          18061,
          17123,
          2372,
          4883,
          3904,
          4627,
          7094,
          3423,
          6674,
          16880,
          9094,
          8446,
          11916,
          4534,
          9852,
          6151,
          2302,
          2362,
          17861,
          19187,
          19717,
          3544,
          8500,
          4661,
          4103,
          4249,
          14026,
          6893,
          6125,
          3669,
          10008,
          2387,
          4639,
          7898,
          2534,
          13142,
          1611,
          5363,
          5071,
          13695,
          13402,
          2029,
          6377,
          5429,
          2785,
          4614,
          2610,
          6687,
          4724,
          6179,
          6120,
          10596,
          5467,
          2996,
          9998,
          4078,
          10920,
          6232,
          13247,
          4081,
          5769,
          2394,
          3904,
          16799,
          2950,
          3629,
          9362,
          3229,
          3578,
          7988,
          4284,
          7553,
          17328,
          19701,
          14732,
          9278,
          1359,
          4779,
          16422,
          2996,
          1261,
          2099,
          5810,
          5647,
          3420,
          4400,
          3500,
          2066,
          17169,
          4162,
          9204,
          3294,
          2127,
          3975,
          10793,
          10096,
          3646,
          7446,
          10851,
          2109,
          3722,
          9380,
          5486,
          2742,
          13757,
          8463,
          3162,
          16598,
          6651,
          2345,
          3420,
          4373,
          4759,
          5301,
          3673,
          4768,
          1274,
          4900,
          10466,
          17007,
          2909,
          5765,
          4599,
          2404,
          3172,
          2033,
          10209,
          8620,
          2064,
          4035,
          3838,
          4591,
          2561,
          1563,
          4898,
          4789,
          3180,
          6549,
          6388,
          11244,
          16032,
          2362,
          16328,
          8376,
          16606,
          8606,
          2272,
          2018,
          7083,
          4084,
          14411,
          2308,
          4841,
          4285,
          9715,
          4320,
          2132,
          10124,
          5473,
          5207,
          16437,
          2296,
          4069,
          7441,
          2430,
          5878,
          2644,
          6439,
          2451,
          6392,
          9714,
          6077,
          2450,
          9250,
          2074,
          10169,
          4855,
          4087,
          2367,
          2972,
          19586,
          5484,
          2061,
          9924,
          4198,
          6815,
          4723,
          6142,
          8237,
          8853,
          19331,
          2073,
          5562,
          19613,
          3407,
          5063,
          4639,
          4876,
          2690,
          17567,
          2408,
          2814,
          11245,
          3312,
          19049,
          2141,
          5769,
          4385,
          5332,
          4663,
          4724,
          3211,
          5377,
          4066,
          5208,
          4877,
          3117,
          1569,
          19658,
          3069,
          10435,
          4148,
          5768,
          5042,
          5770,
          7756,
          10306,
          3936,
          7945,
          5743,
          15202,
          5440,
          3760,
          3517,
          2580,
          2166,
          5869,
          8008,
          5206,
          5295,
          16413,
          13269,
          2783,
          5433,
          2013,
          13966,
          4374,
          6842,
          17426,
          17603,
          4581,
          4735,
          4187,
          5505,
          5470,
          5476,
          2587,
          2440,
          15972,
          15379,
          7082,
          2728,
          5368,
          5347,
          3195,
          3989,
          3306,
          7005,
          2655,
          1393,
          2570,
          3537,
          3986,
          10883,
          2028,
          9525,
          2929,
          2275,
          7879,
          4930,
          7847,
          4401,
          9241,
          2974,
          4502,
          10748,
          1555,
          12936,
          2305,
          16704,
          3433,
          3477,
          6430,
          6516,
          3907,
          5562,
          6883,
          2862,
          4978,
          10368,
          6134,
          6735,
          3295,
          5238,
          6472,
          9610,
          19833,
          9756,
          4968,
          2145,
          2180,
          8346,
          3445,
          2760,
          6294,
          7140,
          2932,
          5147,
          4507,
          8564,
          2468,
          8161,
          2109,
          5294,
          2718,
          5811,
          2437,
          2766,
          19038,
          3055,
          2289,
          4001,
          12965,
          3539,
          6029,
          2679,
          3702,
          2398,
          5468,
          13116,
          4189,
          19328,
          8321,
          2342,
          4071,
          5813,
          3143,
          2044,
          13464,
          7991,
          3377,
          5538,
          5762,
          2592,
          5346,
          4213,
          4127,
          2438,
          6870,
          10447,
          9667,
          2148,
          8926,
          6513,
          6799,
          16291,
          2705,
          10333,
          4448,
          6854,
          9637,
          3591,
          5405,
          4684,
          15787,
          1514,
          2956,
          2335,
          5154,
          6962,
          5675,
          2379,
          3812,
          4648,
          2936,
          2105,
          8578,
          2706,
          6384,
          3968,
          9907,
          13225,
          3540,
          2804,
          19392,
          19665,
          2439,
          7314,
          4774,
          3902,
          2662,
          2856,
          1081,
          2472,
          5673,
          4197,
          9713,
          2062,
          4284,
          4788,
          5906,
          3886,
          16823,
          2933,
          6500,
          17174,
          5033,
          2307,
          2587,
          5507,
          4393,
          13348,
          6583,
          8103,
          3978,
          2544,
          5399,
          5487,
          6834,
          1091,
          5736,
          2226,
          5747,
          9854,
          5467,
          5380,
          5151,
          2133,
          17875,
          2432,
          4771,
          19161,
          5087,
          2863,
          5561,
          2144,
          3065,
          2810,
          9888,
          8628,
          2867,
          5373,
          6667,
          5003,
          2367,
          2858,
          5204,
          4105,
          9679,
          5617,
          10448,
          2897,
          5968,
          7510,
          2991,
          19636,
          1129,
          13341,
          4332,
          11031,
          4440,
          4617,
          2647,
          6323,
          5677,
          2187,
          3748,
          3977,
          8633,
          2008,
          4440,
          3067,
          5321,
          5410,
          2782,
          11957,
          2660,
          3375,
          5098,
          4878,
          2837,
          2406,
          2269,
          4108,
          13206,
          10422,
          13744,
          4907,
          3482,
          2436,
          2380,
          19431,
          1790,
          7644,
          5131,
          6306,
          4787,
          18880,
          2339,
          13570,
          6712,
          5406,
          8938,
          2439,
          8837,
          5343,
          6728,
          6652,
          4850,
          2809,
          5689,
          2001,
          2977,
          4025,
          3785,
          10854,
          12031,
          9936,
          2966,
          2571,
          9991,
          6142,
          5390,
          4404
         ],
         "y0": " ",
         "yaxis": "y"
        }
       ],
       "layout": {
        "autosize": false,
        "boxmode": "group",
        "legend": {
         "tracegroupgap": 0
        },
        "margin": {
         "t": 60
        },
        "template": {
         "data": {
          "bar": [
           {
            "error_x": {
             "color": "#2a3f5f"
            },
            "error_y": {
             "color": "#2a3f5f"
            },
            "marker": {
             "line": {
              "color": "#E5ECF6",
              "width": 0.5
             },
             "pattern": {
              "fillmode": "overlay",
              "size": 10,
              "solidity": 0.2
             }
            },
            "type": "bar"
           }
          ],
          "barpolar": [
           {
            "marker": {
             "line": {
              "color": "#E5ECF6",
              "width": 0.5
             },
             "pattern": {
              "fillmode": "overlay",
              "size": 10,
              "solidity": 0.2
             }
            },
            "type": "barpolar"
           }
          ],
          "carpet": [
           {
            "aaxis": {
             "endlinecolor": "#2a3f5f",
             "gridcolor": "white",
             "linecolor": "white",
             "minorgridcolor": "white",
             "startlinecolor": "#2a3f5f"
            },
            "baxis": {
             "endlinecolor": "#2a3f5f",
             "gridcolor": "white",
             "linecolor": "white",
             "minorgridcolor": "white",
             "startlinecolor": "#2a3f5f"
            },
            "type": "carpet"
           }
          ],
          "choropleth": [
           {
            "colorbar": {
             "outlinewidth": 0,
             "ticks": ""
            },
            "type": "choropleth"
           }
          ],
          "contour": [
           {
            "colorbar": {
             "outlinewidth": 0,
             "ticks": ""
            },
            "colorscale": [
             [
              0,
              "#0d0887"
             ],
             [
              0.1111111111111111,
              "#46039f"
             ],
             [
              0.2222222222222222,
              "#7201a8"
             ],
             [
              0.3333333333333333,
              "#9c179e"
             ],
             [
              0.4444444444444444,
              "#bd3786"
             ],
             [
              0.5555555555555556,
              "#d8576b"
             ],
             [
              0.6666666666666666,
              "#ed7953"
             ],
             [
              0.7777777777777778,
              "#fb9f3a"
             ],
             [
              0.8888888888888888,
              "#fdca26"
             ],
             [
              1,
              "#f0f921"
             ]
            ],
            "type": "contour"
           }
          ],
          "contourcarpet": [
           {
            "colorbar": {
             "outlinewidth": 0,
             "ticks": ""
            },
            "type": "contourcarpet"
           }
          ],
          "heatmap": [
           {
            "colorbar": {
             "outlinewidth": 0,
             "ticks": ""
            },
            "colorscale": [
             [
              0,
              "#0d0887"
             ],
             [
              0.1111111111111111,
              "#46039f"
             ],
             [
              0.2222222222222222,
              "#7201a8"
             ],
             [
              0.3333333333333333,
              "#9c179e"
             ],
             [
              0.4444444444444444,
              "#bd3786"
             ],
             [
              0.5555555555555556,
              "#d8576b"
             ],
             [
              0.6666666666666666,
              "#ed7953"
             ],
             [
              0.7777777777777778,
              "#fb9f3a"
             ],
             [
              0.8888888888888888,
              "#fdca26"
             ],
             [
              1,
              "#f0f921"
             ]
            ],
            "type": "heatmap"
           }
          ],
          "heatmapgl": [
           {
            "colorbar": {
             "outlinewidth": 0,
             "ticks": ""
            },
            "colorscale": [
             [
              0,
              "#0d0887"
             ],
             [
              0.1111111111111111,
              "#46039f"
             ],
             [
              0.2222222222222222,
              "#7201a8"
             ],
             [
              0.3333333333333333,
              "#9c179e"
             ],
             [
              0.4444444444444444,
              "#bd3786"
             ],
             [
              0.5555555555555556,
              "#d8576b"
             ],
             [
              0.6666666666666666,
              "#ed7953"
             ],
             [
              0.7777777777777778,
              "#fb9f3a"
             ],
             [
              0.8888888888888888,
              "#fdca26"
             ],
             [
              1,
              "#f0f921"
             ]
            ],
            "type": "heatmapgl"
           }
          ],
          "histogram": [
           {
            "marker": {
             "pattern": {
              "fillmode": "overlay",
              "size": 10,
              "solidity": 0.2
             }
            },
            "type": "histogram"
           }
          ],
          "histogram2d": [
           {
            "colorbar": {
             "outlinewidth": 0,
             "ticks": ""
            },
            "colorscale": [
             [
              0,
              "#0d0887"
             ],
             [
              0.1111111111111111,
              "#46039f"
             ],
             [
              0.2222222222222222,
              "#7201a8"
             ],
             [
              0.3333333333333333,
              "#9c179e"
             ],
             [
              0.4444444444444444,
              "#bd3786"
             ],
             [
              0.5555555555555556,
              "#d8576b"
             ],
             [
              0.6666666666666666,
              "#ed7953"
             ],
             [
              0.7777777777777778,
              "#fb9f3a"
             ],
             [
              0.8888888888888888,
              "#fdca26"
             ],
             [
              1,
              "#f0f921"
             ]
            ],
            "type": "histogram2d"
           }
          ],
          "histogram2dcontour": [
           {
            "colorbar": {
             "outlinewidth": 0,
             "ticks": ""
            },
            "colorscale": [
             [
              0,
              "#0d0887"
             ],
             [
              0.1111111111111111,
              "#46039f"
             ],
             [
              0.2222222222222222,
              "#7201a8"
             ],
             [
              0.3333333333333333,
              "#9c179e"
             ],
             [
              0.4444444444444444,
              "#bd3786"
             ],
             [
              0.5555555555555556,
              "#d8576b"
             ],
             [
              0.6666666666666666,
              "#ed7953"
             ],
             [
              0.7777777777777778,
              "#fb9f3a"
             ],
             [
              0.8888888888888888,
              "#fdca26"
             ],
             [
              1,
              "#f0f921"
             ]
            ],
            "type": "histogram2dcontour"
           }
          ],
          "mesh3d": [
           {
            "colorbar": {
             "outlinewidth": 0,
             "ticks": ""
            },
            "type": "mesh3d"
           }
          ],
          "parcoords": [
           {
            "line": {
             "colorbar": {
              "outlinewidth": 0,
              "ticks": ""
             }
            },
            "type": "parcoords"
           }
          ],
          "pie": [
           {
            "automargin": true,
            "type": "pie"
           }
          ],
          "scatter": [
           {
            "fillpattern": {
             "fillmode": "overlay",
             "size": 10,
             "solidity": 0.2
            },
            "type": "scatter"
           }
          ],
          "scatter3d": [
           {
            "line": {
             "colorbar": {
              "outlinewidth": 0,
              "ticks": ""
             }
            },
            "marker": {
             "colorbar": {
              "outlinewidth": 0,
              "ticks": ""
             }
            },
            "type": "scatter3d"
           }
          ],
          "scattercarpet": [
           {
            "marker": {
             "colorbar": {
              "outlinewidth": 0,
              "ticks": ""
             }
            },
            "type": "scattercarpet"
           }
          ],
          "scattergeo": [
           {
            "marker": {
             "colorbar": {
              "outlinewidth": 0,
              "ticks": ""
             }
            },
            "type": "scattergeo"
           }
          ],
          "scattergl": [
           {
            "marker": {
             "colorbar": {
              "outlinewidth": 0,
              "ticks": ""
             }
            },
            "type": "scattergl"
           }
          ],
          "scattermapbox": [
           {
            "marker": {
             "colorbar": {
              "outlinewidth": 0,
              "ticks": ""
             }
            },
            "type": "scattermapbox"
           }
          ],
          "scatterpolar": [
           {
            "marker": {
             "colorbar": {
              "outlinewidth": 0,
              "ticks": ""
             }
            },
            "type": "scatterpolar"
           }
          ],
          "scatterpolargl": [
           {
            "marker": {
             "colorbar": {
              "outlinewidth": 0,
              "ticks": ""
             }
            },
            "type": "scatterpolargl"
           }
          ],
          "scatterternary": [
           {
            "marker": {
             "colorbar": {
              "outlinewidth": 0,
              "ticks": ""
             }
            },
            "type": "scatterternary"
           }
          ],
          "surface": [
           {
            "colorbar": {
             "outlinewidth": 0,
             "ticks": ""
            },
            "colorscale": [
             [
              0,
              "#0d0887"
             ],
             [
              0.1111111111111111,
              "#46039f"
             ],
             [
              0.2222222222222222,
              "#7201a8"
             ],
             [
              0.3333333333333333,
              "#9c179e"
             ],
             [
              0.4444444444444444,
              "#bd3786"
             ],
             [
              0.5555555555555556,
              "#d8576b"
             ],
             [
              0.6666666666666666,
              "#ed7953"
             ],
             [
              0.7777777777777778,
              "#fb9f3a"
             ],
             [
              0.8888888888888888,
              "#fdca26"
             ],
             [
              1,
              "#f0f921"
             ]
            ],
            "type": "surface"
           }
          ],
          "table": [
           {
            "cells": {
             "fill": {
              "color": "#EBF0F8"
             },
             "line": {
              "color": "white"
             }
            },
            "header": {
             "fill": {
              "color": "#C8D4E3"
             },
             "line": {
              "color": "white"
             }
            },
            "type": "table"
           }
          ]
         },
         "layout": {
          "annotationdefaults": {
           "arrowcolor": "#2a3f5f",
           "arrowhead": 0,
           "arrowwidth": 1
          },
          "autotypenumbers": "strict",
          "coloraxis": {
           "colorbar": {
            "outlinewidth": 0,
            "ticks": ""
           }
          },
          "colorscale": {
           "diverging": [
            [
             0,
             "#8e0152"
            ],
            [
             0.1,
             "#c51b7d"
            ],
            [
             0.2,
             "#de77ae"
            ],
            [
             0.3,
             "#f1b6da"
            ],
            [
             0.4,
             "#fde0ef"
            ],
            [
             0.5,
             "#f7f7f7"
            ],
            [
             0.6,
             "#e6f5d0"
            ],
            [
             0.7,
             "#b8e186"
            ],
            [
             0.8,
             "#7fbc41"
            ],
            [
             0.9,
             "#4d9221"
            ],
            [
             1,
             "#276419"
            ]
           ],
           "sequential": [
            [
             0,
             "#0d0887"
            ],
            [
             0.1111111111111111,
             "#46039f"
            ],
            [
             0.2222222222222222,
             "#7201a8"
            ],
            [
             0.3333333333333333,
             "#9c179e"
            ],
            [
             0.4444444444444444,
             "#bd3786"
            ],
            [
             0.5555555555555556,
             "#d8576b"
            ],
            [
             0.6666666666666666,
             "#ed7953"
            ],
            [
             0.7777777777777778,
             "#fb9f3a"
            ],
            [
             0.8888888888888888,
             "#fdca26"
            ],
            [
             1,
             "#f0f921"
            ]
           ],
           "sequentialminus": [
            [
             0,
             "#0d0887"
            ],
            [
             0.1111111111111111,
             "#46039f"
            ],
            [
             0.2222222222222222,
             "#7201a8"
            ],
            [
             0.3333333333333333,
             "#9c179e"
            ],
            [
             0.4444444444444444,
             "#bd3786"
            ],
            [
             0.5555555555555556,
             "#d8576b"
            ],
            [
             0.6666666666666666,
             "#ed7953"
            ],
            [
             0.7777777777777778,
             "#fb9f3a"
            ],
            [
             0.8888888888888888,
             "#fdca26"
            ],
            [
             1,
             "#f0f921"
            ]
           ]
          },
          "colorway": [
           "#636efa",
           "#EF553B",
           "#00cc96",
           "#ab63fa",
           "#FFA15A",
           "#19d3f3",
           "#FF6692",
           "#B6E880",
           "#FF97FF",
           "#FECB52"
          ],
          "font": {
           "color": "#2a3f5f"
          },
          "geo": {
           "bgcolor": "white",
           "lakecolor": "white",
           "landcolor": "#E5ECF6",
           "showlakes": true,
           "showland": true,
           "subunitcolor": "white"
          },
          "hoverlabel": {
           "align": "left"
          },
          "hovermode": "closest",
          "mapbox": {
           "style": "light"
          },
          "paper_bgcolor": "white",
          "plot_bgcolor": "#E5ECF6",
          "polar": {
           "angularaxis": {
            "gridcolor": "white",
            "linecolor": "white",
            "ticks": ""
           },
           "bgcolor": "#E5ECF6",
           "radialaxis": {
            "gridcolor": "white",
            "linecolor": "white",
            "ticks": ""
           }
          },
          "scene": {
           "xaxis": {
            "backgroundcolor": "#E5ECF6",
            "gridcolor": "white",
            "gridwidth": 2,
            "linecolor": "white",
            "showbackground": true,
            "ticks": "",
            "zerolinecolor": "white"
           },
           "yaxis": {
            "backgroundcolor": "#E5ECF6",
            "gridcolor": "white",
            "gridwidth": 2,
            "linecolor": "white",
            "showbackground": true,
            "ticks": "",
            "zerolinecolor": "white"
           },
           "zaxis": {
            "backgroundcolor": "#E5ECF6",
            "gridcolor": "white",
            "gridwidth": 2,
            "linecolor": "white",
            "showbackground": true,
            "ticks": "",
            "zerolinecolor": "white"
           }
          },
          "shapedefaults": {
           "line": {
            "color": "#2a3f5f"
           }
          },
          "ternary": {
           "aaxis": {
            "gridcolor": "white",
            "linecolor": "white",
            "ticks": ""
           },
           "baxis": {
            "gridcolor": "white",
            "linecolor": "white",
            "ticks": ""
           },
           "bgcolor": "#E5ECF6",
           "caxis": {
            "gridcolor": "white",
            "linecolor": "white",
            "ticks": ""
           }
          },
          "title": {
           "x": 0.05
          },
          "xaxis": {
           "automargin": true,
           "gridcolor": "white",
           "linecolor": "white",
           "ticks": "",
           "title": {
            "standoff": 15
           },
           "zerolinecolor": "white",
           "zerolinewidth": 2
          },
          "yaxis": {
           "automargin": true,
           "gridcolor": "white",
           "linecolor": "white",
           "ticks": "",
           "title": {
            "standoff": 15
           },
           "zerolinecolor": "white",
           "zerolinewidth": 2
          }
         }
        },
        "width": 500,
        "xaxis": {
         "anchor": "y",
         "domain": [
          0,
          1
         ],
         "title": {
          "text": "Attrition"
         }
        },
        "yaxis": {
         "anchor": "x",
         "domain": [
          0,
          1
         ],
         "title": {
          "text": "MonthlyIncome"
         }
        }
       }
      }
     },
     "metadata": {},
     "output_type": "display_data"
    }
   ],
   "source": [
    "import plotly.express as px\n",
    "\n",
    "import warnings\n",
    "warnings.filterwarnings('ignore')\n",
    "\n",
    "\n",
    "def draw_histogram(df, x, color):\n",
    "    fig = px.histogram(df, x=x, color=color)\n",
    "    fig.update_layout(autosize=False, width=500)\n",
    "    fig.show()\n",
    "\n",
    "def draw_boxplot(df, x, y):\n",
    "    fig = px.box(df, x=x, y=y)\n",
    "    fig.update_layout(autosize=False, width=500)\n",
    "    fig.show()   \n",
    "\n",
    "\n",
    "draw_histogram(df, \"Department\", \"Attrition\")\n",
    "draw_histogram(df, \"Age\", \"Attrition\")\n",
    "draw_histogram(df, \"Education\", \"Attrition\")\n",
    "draw_histogram(df, \"JobSatisfaction\", \"Attrition\")\n",
    "draw_boxplot(df, \"Attrition\", \"MonthlyIncome\")\n"
   ]
  },
  {
   "cell_type": "markdown",
   "metadata": {},
   "source": [
    "### 3. 수치형 변수 간 상관관계 파악하기"
   ]
  },
  {
   "cell_type": "code",
   "execution_count": 20,
   "metadata": {},
   "outputs": [
    {
     "data": {
      "application/vnd.plotly.v1+json": {
       "config": {
        "plotlyServerURL": "https://plot.ly"
       },
       "data": [
        {
         "colorscale": [
          [
           0,
           "#440154"
          ],
          [
           0.1111111111111111,
           "#482878"
          ],
          [
           0.2222222222222222,
           "#3e4989"
          ],
          [
           0.3333333333333333,
           "#31688e"
          ],
          [
           0.4444444444444444,
           "#26828e"
          ],
          [
           0.5555555555555556,
           "#1f9e89"
          ],
          [
           0.6666666666666666,
           "#35b779"
          ],
          [
           0.7777777777777778,
           "#6ece58"
          ],
          [
           0.8888888888888888,
           "#b5de2b"
          ],
          [
           1,
           "#fde725"
          ]
         ],
         "reversescale": false,
         "showscale": true,
         "type": "heatmap",
         "x": [
          "Age",
          "DailyRate",
          "DistanceFromHome",
          "Education",
          "EmployeeCount",
          "EmployeeNumber",
          "EnvironmentSatisfaction",
          "HourlyRate",
          "JobInvolvement",
          "JobLevel",
          "JobSatisfaction",
          "MonthlyIncome",
          "MonthlyRate",
          "NumCompaniesWorked",
          "PercentSalaryHike",
          "PerformanceRating",
          "RelationshipSatisfaction",
          "StandardHours",
          "StockOptionLevel",
          "TotalWorkingYears",
          "TrainingTimesLastYear",
          "WorkLifeBalance",
          "YearsAtCompany",
          "YearsInCurrentRole",
          "YearsSinceLastPromotion",
          "YearsWithCurrManager"
         ],
         "y": [
          "Age",
          "DailyRate",
          "DistanceFromHome",
          "Education",
          "EmployeeCount",
          "EmployeeNumber",
          "EnvironmentSatisfaction",
          "HourlyRate",
          "JobInvolvement",
          "JobLevel",
          "JobSatisfaction",
          "MonthlyIncome",
          "MonthlyRate",
          "NumCompaniesWorked",
          "PercentSalaryHike",
          "PerformanceRating",
          "RelationshipSatisfaction",
          "StandardHours",
          "StockOptionLevel",
          "TotalWorkingYears",
          "TrainingTimesLastYear",
          "WorkLifeBalance",
          "YearsAtCompany",
          "YearsInCurrentRole",
          "YearsSinceLastPromotion",
          "YearsWithCurrManager"
         ],
         "z": [
          [
           1,
           0.010660942645538433,
           -0.00168612014808715,
           0.2080337310142398,
           null,
           -0.0101454670768599,
           0.010146427861437268,
           0.024286542550967197,
           0.029819958629590578,
           0.5096042284323842,
           -0.00489187714868713,
           0.4978545669265801,
           0.02805116713392273,
           0.2996347579836926,
           0.0036335849148618872,
           0.0019038955127587383,
           0.053534719671229365,
           null,
           0.037509712424777526,
           0.6803805357911985,
           -0.01962081894269849,
           -0.021490027957098715,
           0.3113087697450989,
           0.21290105556556793,
           0.2165133678516537,
           0.20208860237515264
          ],
          [
           0.010660942645538433,
           1,
           -0.00498533735255263,
           -0.01680643320915763,
           null,
           -0.05099043365447757,
           0.018354854300385557,
           0.023381421528320526,
           0.04613487399781112,
           0.0029663348551116197,
           0.030571007837143983,
           0.007707058872006053,
           -0.03218160152258194,
           0.0381534342794098,
           0.022703677496334968,
           0.00047329632718855213,
           0.007846030957248387,
           null,
           0.04214279637720667,
           0.014514738706320902,
           0.002452542712083144,
           -0.03784805100578179,
           -0.03405476756854742,
           0.009932014960094215,
           -0.033228984787772024,
           -0.026363178228837676
          ],
          [
           -0.00168612014808715,
           -0.00498533735255263,
           1,
           0.021041825624123392,
           null,
           0.032916407199243845,
           -0.016075326996493524,
           0.03113058561176572,
           0.008783279886444255,
           0.005302730554496216,
           -0.0036688391677205793,
           -0.017014444745275862,
           0.02747286354888413,
           -0.029250804197293017,
           0.040235377459193075,
           0.027109618481976,
           0.006557474646578779,
           null,
           0.04487199885318152,
           0.004628425863783857,
           -0.036942234339915794,
           -0.02655600410656903,
           0.009507719899011289,
           0.018844999108945746,
           0.010028835943115395,
           0.014406048430630005
          ],
          [
           0.2080337310142398,
           -0.01680643320915763,
           0.021041825624123392,
           1,
           null,
           0.042070093029327675,
           -0.027128313256511792,
           0.01677482888096076,
           0.042437634318607954,
           0.10158888624850043,
           -0.011296116736574002,
           0.09496067704188883,
           -0.026084197160047493,
           0.12631656017668452,
           -0.011110940860654192,
           -0.024538791164833557,
           -0.009118376696381533,
           null,
           0.018422220204016834,
           0.1482796965388733,
           -0.025100241137933348,
           0.00981918930978191,
           0.06911369603133866,
           0.06023555412069576,
           0.054254333591320224,
           0.06906537825528458
          ],
          [
           null,
           null,
           null,
           null,
           null,
           null,
           null,
           null,
           null,
           null,
           null,
           null,
           null,
           null,
           null,
           null,
           null,
           null,
           null,
           null,
           null,
           null,
           null,
           null,
           null,
           null
          ],
          [
           -0.0101454670768599,
           -0.05099043365447757,
           0.032916407199243845,
           0.042070093029327675,
           null,
           1,
           0.017620802485586586,
           0.035179212418708077,
           -0.0068879229870375,
           -0.018519193974227376,
           -0.04624673493941775,
           -0.01482851587378469,
           0.012648229168461627,
           -0.0012510320398018396,
           -0.012943995546151714,
           -0.02035882514695762,
           -0.06986141146763755,
           null,
           0.06222669251362305,
           -0.014365198461301121,
           0.023603169591926734,
           0.010308641437965905,
           -0.011240463708114047,
           -0.008416311998425954,
           -0.009019064206633414,
           -0.009196645292770315
          ],
          [
           0.010146427861437268,
           0.018354854300385557,
           -0.016075326996493524,
           -0.027128313256511792,
           null,
           0.017620802485586586,
           1,
           -0.04985695620300066,
           -0.008277598171759099,
           0.001211699448913883,
           -0.006784352599075007,
           -0.0062590877547801654,
           0.037599622865715374,
           0.012594323218943297,
           -0.031701195241792046,
           -0.02954795229768088,
           0.007665383541074558,
           null,
           0.0034321577550574162,
           -0.002693070388534207,
           -0.01935930834713247,
           0.027627295460115428,
           0.0014575491911164862,
           0.01800746014287853,
           0.016193605568453326,
           -0.004998722628107581
          ],
          [
           0.024286542550967197,
           0.023381421528320526,
           0.03113058561176572,
           0.01677482888096076,
           null,
           0.035179212418708077,
           -0.04985695620300066,
           1,
           0.04286064097152976,
           -0.027853486405547218,
           -0.07133462437378787,
           -0.015794304380892982,
           -0.015296749550649661,
           0.02215688339019683,
           -0.00906198625374016,
           -0.002171697427810162,
           0.0013304527859508606,
           null,
           0.050263399065119486,
           -0.002333681823322269,
           -0.008547685209270649,
           -0.004607233750264554,
           -0.019581616209121275,
           -0.02410622020878498,
           -0.02671558606433524,
           -0.020123200184066006
          ],
          [
           0.029819958629590578,
           0.04613487399781112,
           0.008783279886444255,
           0.042437634318607954,
           null,
           -0.0068879229870375,
           -0.008277598171759099,
           0.04286064097152976,
           1,
           -0.012629882671190631,
           -0.021475910335306454,
           -0.015271490778732832,
           -0.016322079053317298,
           0.015012413243110999,
           -0.017204572244480378,
           -0.029071333439069817,
           0.034296820611197744,
           null,
           0.021522640378023858,
           -0.0055331820574074635,
           -0.015337825759429116,
           -0.014616593162761865,
           -0.021355426979629725,
           0.00871696349761169,
           -0.024184292365179074,
           0.025975807949088936
          ],
          [
           0.5096042284323842,
           0.0029663348551116197,
           0.005302730554496216,
           0.10158888624850043,
           null,
           -0.018519193974227376,
           0.001211699448913883,
           -0.027853486405547218,
           -0.012629882671190631,
           1,
           -0.0019437080267456581,
           0.9502999134798473,
           0.03956295104568388,
           0.1425011238104873,
           -0.03473049227941817,
           -0.021222082108857152,
           0.021641510532591595,
           null,
           0.013983910528615457,
           0.7822078045362748,
           -0.018190550193549416,
           0.037817745596666404,
           0.5347386873756308,
           0.3894467328766705,
           0.3538853469641021,
           0.37528060776572636
          ],
          [
           -0.00489187714868713,
           0.030571007837143983,
           -0.0036688391677205793,
           -0.011296116736574002,
           null,
           -0.04624673493941775,
           -0.006784352599075007,
           -0.07133462437378787,
           -0.021475910335306454,
           -0.0019437080267456581,
           1,
           -0.00715674235591272,
           0.0006439169427037768,
           -0.05569942601274605,
           0.020002039364081927,
           0.0022971970637806114,
           -0.012453593161926702,
           null,
           0.010690226120755746,
           -0.020185072685016788,
           -0.005779334958609115,
           -0.01945871021297396,
           -0.0038026279482880534,
           -0.002304785229830135,
           -0.01821356781019079,
           -0.027656213884289974
          ],
          [
           0.4978545669265801,
           0.007707058872006053,
           -0.017014444745275862,
           0.09496067704188883,
           null,
           -0.01482851587378469,
           -0.0062590877547801654,
           -0.015794304380892982,
           -0.015271490778732832,
           0.9502999134798473,
           -0.00715674235591272,
           1,
           0.034813626134121846,
           0.14951521598969805,
           -0.02726858644031447,
           -0.01712013823739077,
           0.025873436137557656,
           null,
           0.005407676696812238,
           0.7728932462543574,
           -0.02173627682389331,
           0.030683081556940557,
           0.5142848257331957,
           0.3638176669287084,
           0.3449776381654271,
           0.34407888325872127
          ],
          [
           0.02805116713392273,
           -0.03218160152258194,
           0.02747286354888413,
           -0.026084197160047493,
           null,
           0.012648229168461627,
           0.037599622865715374,
           -0.015296749550649661,
           -0.016322079053317298,
           0.03956295104568388,
           0.0006439169427037768,
           0.034813626134121846,
           1,
           0.017521353415571563,
           -0.006429345946711407,
           -0.00981142848936084,
           -0.004085329337519686,
           null,
           -0.034322830206660805,
           0.026442471176015385,
           0.0014668806322858448,
           0.007963157516977033,
           -0.023655106706177275,
           -0.012814874370471728,
           0.001566799514676175,
           -0.036745905336769386
          ],
          [
           0.2996347579836926,
           0.0381534342794098,
           -0.029250804197293017,
           0.12631656017668452,
           null,
           -0.0012510320398018396,
           0.012594323218943297,
           0.02215688339019683,
           0.015012413243110999,
           0.1425011238104873,
           -0.05569942601274605,
           0.14951521598969805,
           0.017521353415571563,
           1,
           -0.010238309359925521,
           -0.014094872753535133,
           0.05273304856488617,
           null,
           0.030075475096897484,
           0.23763858978479552,
           -0.06605407172783646,
           -0.008365684790058631,
           -0.11842134024259104,
           -0.0907539337008081,
           -0.03681389238350808,
           -0.11031915543773241
          ],
          [
           0.0036335849148618872,
           0.022703677496334968,
           0.040235377459193075,
           -0.011110940860654192,
           null,
           -0.012943995546151714,
           -0.031701195241792046,
           -0.00906198625374016,
           -0.017204572244480378,
           -0.03473049227941817,
           0.020002039364081927,
           -0.02726858644031447,
           -0.006429345946711407,
           -0.010238309359925521,
           1,
           0.7735499964012664,
           -0.04049008105707734,
           null,
           0.0075277478205202026,
           -0.020608487617691264,
           -0.005221012351721004,
           -0.0032796360093680704,
           -0.03599126243195373,
           -0.0015200265442777774,
           -0.022154312598866126,
           -0.01198524847236139
          ],
          [
           0.0019038955127587383,
           0.00047329632718855213,
           0.027109618481976,
           -0.024538791164833557,
           null,
           -0.02035882514695762,
           -0.02954795229768088,
           -0.002171697427810162,
           -0.029071333439069817,
           -0.021222082108857152,
           0.0022971970637806114,
           -0.01712013823739077,
           -0.00981142848936084,
           -0.014094872753535133,
           0.7735499964012664,
           1,
           -0.031351455442454886,
           null,
           0.003506471614809783,
           0.0067436679059531685,
           -0.015578881739137565,
           0.002572361317682639,
           0.0034351261159238713,
           0.034986260407194936,
           0.017896066144799785,
           0.022827168908479807
          ],
          [
           0.053534719671229365,
           0.007846030957248387,
           0.006557474646578779,
           -0.009118376696381533,
           null,
           -0.06986141146763755,
           0.007665383541074558,
           0.0013304527859508606,
           0.034296820611197744,
           0.021641510532591595,
           -0.012453593161926702,
           0.025873436137557656,
           -0.004085329337519686,
           0.05273304856488617,
           -0.04049008105707734,
           -0.031351455442454886,
           1,
           null,
           -0.045952490716561906,
           0.02405429182134145,
           0.002496526392116996,
           0.01960440570396871,
           0.019366786877455463,
           -0.015122914881937748,
           0.033492502069354176,
           -0.0008674968446256695
          ],
          [
           null,
           null,
           null,
           null,
           null,
           null,
           null,
           null,
           null,
           null,
           null,
           null,
           null,
           null,
           null,
           null,
           null,
           null,
           null,
           null,
           null,
           null,
           null,
           null,
           null,
           null
          ],
          [
           0.037509712424777526,
           0.04214279637720667,
           0.04487199885318152,
           0.018422220204016834,
           null,
           0.06222669251362305,
           0.0034321577550574162,
           0.050263399065119486,
           0.021522640378023858,
           0.013983910528615457,
           0.010690226120755746,
           0.005407676696812238,
           -0.034322830206660805,
           0.030075475096897484,
           0.0075277478205202026,
           0.003506471614809783,
           -0.045952490716561906,
           null,
           1,
           0.010135969318901629,
           0.011274069611249207,
           0.004128730002871338,
           0.015058008028094509,
           0.050817872753931646,
           0.01435218486435548,
           0.02469822656303012
          ],
          [
           0.6803805357911985,
           0.014514738706320902,
           0.004628425863783857,
           0.1482796965388733,
           null,
           -0.014365198461301121,
           -0.002693070388534207,
           -0.002333681823322269,
           -0.0055331820574074635,
           0.7822078045362748,
           -0.020185072685016788,
           0.7728932462543574,
           0.026442471176015385,
           0.23763858978479552,
           -0.020608487617691264,
           0.0067436679059531685,
           0.02405429182134145,
           null,
           0.010135969318901629,
           1,
           -0.03566157127961907,
           0.0010076456218964924,
           0.6281331552682468,
           0.46036463801180993,
           0.4048577585025587,
           0.45918839708314385
          ],
          [
           -0.01962081894269849,
           0.002452542712083144,
           -0.036942234339915794,
           -0.025100241137933348,
           null,
           0.023603169591926734,
           -0.01935930834713247,
           -0.008547685209270649,
           -0.015337825759429116,
           -0.018190550193549416,
           -0.005779334958609115,
           -0.02173627682389331,
           0.0014668806322858448,
           -0.06605407172783646,
           -0.005221012351721004,
           -0.015578881739137565,
           0.002496526392116996,
           null,
           0.011274069611249207,
           -0.03566157127961907,
           1,
           0.02807220660362872,
           0.003568665678427449,
           -0.0057375043379568925,
           -0.0020665360380059438,
           -0.004095526021226202
          ],
          [
           -0.021490027957098715,
           -0.03784805100578179,
           -0.02655600410656903,
           0.00981918930978191,
           null,
           0.010308641437965905,
           0.027627295460115428,
           -0.004607233750264554,
           -0.014616593162761865,
           0.037817745596666404,
           -0.01945871021297396,
           0.030683081556940557,
           0.007963157516977033,
           -0.008365684790058631,
           -0.0032796360093680704,
           0.002572361317682639,
           0.01960440570396871,
           null,
           0.004128730002871338,
           0.0010076456218964924,
           0.02807220660362872,
           1,
           0.012089185354581315,
           0.04985649792220436,
           0.008941249141234323,
           0.002759440242340428
          ],
          [
           0.3113087697450989,
           -0.03405476756854742,
           0.009507719899011289,
           0.06911369603133866,
           null,
           -0.011240463708114047,
           0.0014575491911164862,
           -0.019581616209121275,
           -0.021355426979629725,
           0.5347386873756308,
           -0.0038026279482880534,
           0.5142848257331957,
           -0.023655106706177275,
           -0.11842134024259104,
           -0.03599126243195373,
           0.0034351261159238713,
           0.019366786877455463,
           null,
           0.015058008028094509,
           0.6281331552682468,
           0.003568665678427449,
           0.012089185354581315,
           1,
           0.7587537366134619,
           0.6184088652176047,
           0.7692124251007031
          ],
          [
           0.21290105556556793,
           0.009932014960094215,
           0.018844999108945746,
           0.06023555412069576,
           null,
           -0.008416311998425954,
           0.01800746014287853,
           -0.02410622020878498,
           0.00871696349761169,
           0.3894467328766705,
           -0.002304785229830135,
           0.3638176669287084,
           -0.012814874370471728,
           -0.0907539337008081,
           -0.0015200265442777774,
           0.034986260407194936,
           -0.015122914881937748,
           null,
           0.050817872753931646,
           0.46036463801180993,
           -0.0057375043379568925,
           0.04985649792220436,
           0.7587537366134619,
           1,
           0.5480562476995187,
           0.7143647616385931
          ],
          [
           0.2165133678516537,
           -0.033228984787772024,
           0.010028835943115395,
           0.054254333591320224,
           null,
           -0.009019064206633414,
           0.016193605568453326,
           -0.02671558606433524,
           -0.024184292365179074,
           0.3538853469641021,
           -0.01821356781019079,
           0.3449776381654271,
           0.001566799514676175,
           -0.03681389238350808,
           -0.022154312598866126,
           0.017896066144799785,
           0.033492502069354176,
           null,
           0.01435218486435548,
           0.4048577585025587,
           -0.0020665360380059438,
           0.008941249141234323,
           0.6184088652176047,
           0.5480562476995187,
           1,
           0.5102236357788085
          ],
          [
           0.20208860237515264,
           -0.026363178228837676,
           0.014406048430630005,
           0.06906537825528458,
           null,
           -0.009196645292770315,
           -0.004998722628107581,
           -0.020123200184066006,
           0.025975807949088936,
           0.37528060776572636,
           -0.027656213884289974,
           0.34407888325872127,
           -0.036745905336769386,
           -0.11031915543773241,
           -0.01198524847236139,
           0.022827168908479807,
           -0.0008674968446256695,
           null,
           0.02469822656303012,
           0.45918839708314385,
           -0.004095526021226202,
           0.002759440242340428,
           0.7692124251007031,
           0.7143647616385931,
           0.5102236357788085,
           1
          ]
         ]
        }
       ],
       "layout": {
        "annotations": [
         {
          "font": {
           "color": "#000000"
          },
          "showarrow": false,
          "text": "1.0",
          "x": "Age",
          "xref": "x",
          "y": "Age",
          "yref": "y"
         },
         {
          "font": {
           "color": "#000000"
          },
          "showarrow": false,
          "text": "0.01",
          "x": "DailyRate",
          "xref": "x",
          "y": "Age",
          "yref": "y"
         },
         {
          "font": {
           "color": "#000000"
          },
          "showarrow": false,
          "text": "-0.0",
          "x": "DistanceFromHome",
          "xref": "x",
          "y": "Age",
          "yref": "y"
         },
         {
          "font": {
           "color": "#000000"
          },
          "showarrow": false,
          "text": "0.21",
          "x": "Education",
          "xref": "x",
          "y": "Age",
          "yref": "y"
         },
         {
          "font": {
           "color": "#000000"
          },
          "showarrow": false,
          "text": "nan",
          "x": "EmployeeCount",
          "xref": "x",
          "y": "Age",
          "yref": "y"
         },
         {
          "font": {
           "color": "#000000"
          },
          "showarrow": false,
          "text": "-0.01",
          "x": "EmployeeNumber",
          "xref": "x",
          "y": "Age",
          "yref": "y"
         },
         {
          "font": {
           "color": "#000000"
          },
          "showarrow": false,
          "text": "0.01",
          "x": "EnvironmentSatisfaction",
          "xref": "x",
          "y": "Age",
          "yref": "y"
         },
         {
          "font": {
           "color": "#000000"
          },
          "showarrow": false,
          "text": "0.02",
          "x": "HourlyRate",
          "xref": "x",
          "y": "Age",
          "yref": "y"
         },
         {
          "font": {
           "color": "#000000"
          },
          "showarrow": false,
          "text": "0.03",
          "x": "JobInvolvement",
          "xref": "x",
          "y": "Age",
          "yref": "y"
         },
         {
          "font": {
           "color": "#000000"
          },
          "showarrow": false,
          "text": "0.51",
          "x": "JobLevel",
          "xref": "x",
          "y": "Age",
          "yref": "y"
         },
         {
          "font": {
           "color": "#000000"
          },
          "showarrow": false,
          "text": "-0.0",
          "x": "JobSatisfaction",
          "xref": "x",
          "y": "Age",
          "yref": "y"
         },
         {
          "font": {
           "color": "#000000"
          },
          "showarrow": false,
          "text": "0.5",
          "x": "MonthlyIncome",
          "xref": "x",
          "y": "Age",
          "yref": "y"
         },
         {
          "font": {
           "color": "#000000"
          },
          "showarrow": false,
          "text": "0.03",
          "x": "MonthlyRate",
          "xref": "x",
          "y": "Age",
          "yref": "y"
         },
         {
          "font": {
           "color": "#000000"
          },
          "showarrow": false,
          "text": "0.3",
          "x": "NumCompaniesWorked",
          "xref": "x",
          "y": "Age",
          "yref": "y"
         },
         {
          "font": {
           "color": "#000000"
          },
          "showarrow": false,
          "text": "0.0",
          "x": "PercentSalaryHike",
          "xref": "x",
          "y": "Age",
          "yref": "y"
         },
         {
          "font": {
           "color": "#000000"
          },
          "showarrow": false,
          "text": "0.0",
          "x": "PerformanceRating",
          "xref": "x",
          "y": "Age",
          "yref": "y"
         },
         {
          "font": {
           "color": "#000000"
          },
          "showarrow": false,
          "text": "0.05",
          "x": "RelationshipSatisfaction",
          "xref": "x",
          "y": "Age",
          "yref": "y"
         },
         {
          "font": {
           "color": "#000000"
          },
          "showarrow": false,
          "text": "nan",
          "x": "StandardHours",
          "xref": "x",
          "y": "Age",
          "yref": "y"
         },
         {
          "font": {
           "color": "#000000"
          },
          "showarrow": false,
          "text": "0.04",
          "x": "StockOptionLevel",
          "xref": "x",
          "y": "Age",
          "yref": "y"
         },
         {
          "font": {
           "color": "#000000"
          },
          "showarrow": false,
          "text": "0.68",
          "x": "TotalWorkingYears",
          "xref": "x",
          "y": "Age",
          "yref": "y"
         },
         {
          "font": {
           "color": "#000000"
          },
          "showarrow": false,
          "text": "-0.02",
          "x": "TrainingTimesLastYear",
          "xref": "x",
          "y": "Age",
          "yref": "y"
         },
         {
          "font": {
           "color": "#000000"
          },
          "showarrow": false,
          "text": "-0.02",
          "x": "WorkLifeBalance",
          "xref": "x",
          "y": "Age",
          "yref": "y"
         },
         {
          "font": {
           "color": "#000000"
          },
          "showarrow": false,
          "text": "0.31",
          "x": "YearsAtCompany",
          "xref": "x",
          "y": "Age",
          "yref": "y"
         },
         {
          "font": {
           "color": "#000000"
          },
          "showarrow": false,
          "text": "0.21",
          "x": "YearsInCurrentRole",
          "xref": "x",
          "y": "Age",
          "yref": "y"
         },
         {
          "font": {
           "color": "#000000"
          },
          "showarrow": false,
          "text": "0.22",
          "x": "YearsSinceLastPromotion",
          "xref": "x",
          "y": "Age",
          "yref": "y"
         },
         {
          "font": {
           "color": "#000000"
          },
          "showarrow": false,
          "text": "0.2",
          "x": "YearsWithCurrManager",
          "xref": "x",
          "y": "Age",
          "yref": "y"
         },
         {
          "font": {
           "color": "#000000"
          },
          "showarrow": false,
          "text": "0.01",
          "x": "Age",
          "xref": "x",
          "y": "DailyRate",
          "yref": "y"
         },
         {
          "font": {
           "color": "#000000"
          },
          "showarrow": false,
          "text": "1.0",
          "x": "DailyRate",
          "xref": "x",
          "y": "DailyRate",
          "yref": "y"
         },
         {
          "font": {
           "color": "#000000"
          },
          "showarrow": false,
          "text": "-0.0",
          "x": "DistanceFromHome",
          "xref": "x",
          "y": "DailyRate",
          "yref": "y"
         },
         {
          "font": {
           "color": "#000000"
          },
          "showarrow": false,
          "text": "-0.02",
          "x": "Education",
          "xref": "x",
          "y": "DailyRate",
          "yref": "y"
         },
         {
          "font": {
           "color": "#000000"
          },
          "showarrow": false,
          "text": "nan",
          "x": "EmployeeCount",
          "xref": "x",
          "y": "DailyRate",
          "yref": "y"
         },
         {
          "font": {
           "color": "#000000"
          },
          "showarrow": false,
          "text": "-0.05",
          "x": "EmployeeNumber",
          "xref": "x",
          "y": "DailyRate",
          "yref": "y"
         },
         {
          "font": {
           "color": "#000000"
          },
          "showarrow": false,
          "text": "0.02",
          "x": "EnvironmentSatisfaction",
          "xref": "x",
          "y": "DailyRate",
          "yref": "y"
         },
         {
          "font": {
           "color": "#000000"
          },
          "showarrow": false,
          "text": "0.02",
          "x": "HourlyRate",
          "xref": "x",
          "y": "DailyRate",
          "yref": "y"
         },
         {
          "font": {
           "color": "#000000"
          },
          "showarrow": false,
          "text": "0.05",
          "x": "JobInvolvement",
          "xref": "x",
          "y": "DailyRate",
          "yref": "y"
         },
         {
          "font": {
           "color": "#000000"
          },
          "showarrow": false,
          "text": "0.0",
          "x": "JobLevel",
          "xref": "x",
          "y": "DailyRate",
          "yref": "y"
         },
         {
          "font": {
           "color": "#000000"
          },
          "showarrow": false,
          "text": "0.03",
          "x": "JobSatisfaction",
          "xref": "x",
          "y": "DailyRate",
          "yref": "y"
         },
         {
          "font": {
           "color": "#000000"
          },
          "showarrow": false,
          "text": "0.01",
          "x": "MonthlyIncome",
          "xref": "x",
          "y": "DailyRate",
          "yref": "y"
         },
         {
          "font": {
           "color": "#000000"
          },
          "showarrow": false,
          "text": "-0.03",
          "x": "MonthlyRate",
          "xref": "x",
          "y": "DailyRate",
          "yref": "y"
         },
         {
          "font": {
           "color": "#000000"
          },
          "showarrow": false,
          "text": "0.04",
          "x": "NumCompaniesWorked",
          "xref": "x",
          "y": "DailyRate",
          "yref": "y"
         },
         {
          "font": {
           "color": "#000000"
          },
          "showarrow": false,
          "text": "0.02",
          "x": "PercentSalaryHike",
          "xref": "x",
          "y": "DailyRate",
          "yref": "y"
         },
         {
          "font": {
           "color": "#000000"
          },
          "showarrow": false,
          "text": "0.0",
          "x": "PerformanceRating",
          "xref": "x",
          "y": "DailyRate",
          "yref": "y"
         },
         {
          "font": {
           "color": "#000000"
          },
          "showarrow": false,
          "text": "0.01",
          "x": "RelationshipSatisfaction",
          "xref": "x",
          "y": "DailyRate",
          "yref": "y"
         },
         {
          "font": {
           "color": "#000000"
          },
          "showarrow": false,
          "text": "nan",
          "x": "StandardHours",
          "xref": "x",
          "y": "DailyRate",
          "yref": "y"
         },
         {
          "font": {
           "color": "#000000"
          },
          "showarrow": false,
          "text": "0.04",
          "x": "StockOptionLevel",
          "xref": "x",
          "y": "DailyRate",
          "yref": "y"
         },
         {
          "font": {
           "color": "#000000"
          },
          "showarrow": false,
          "text": "0.01",
          "x": "TotalWorkingYears",
          "xref": "x",
          "y": "DailyRate",
          "yref": "y"
         },
         {
          "font": {
           "color": "#000000"
          },
          "showarrow": false,
          "text": "0.0",
          "x": "TrainingTimesLastYear",
          "xref": "x",
          "y": "DailyRate",
          "yref": "y"
         },
         {
          "font": {
           "color": "#000000"
          },
          "showarrow": false,
          "text": "-0.04",
          "x": "WorkLifeBalance",
          "xref": "x",
          "y": "DailyRate",
          "yref": "y"
         },
         {
          "font": {
           "color": "#000000"
          },
          "showarrow": false,
          "text": "-0.03",
          "x": "YearsAtCompany",
          "xref": "x",
          "y": "DailyRate",
          "yref": "y"
         },
         {
          "font": {
           "color": "#000000"
          },
          "showarrow": false,
          "text": "0.01",
          "x": "YearsInCurrentRole",
          "xref": "x",
          "y": "DailyRate",
          "yref": "y"
         },
         {
          "font": {
           "color": "#000000"
          },
          "showarrow": false,
          "text": "-0.03",
          "x": "YearsSinceLastPromotion",
          "xref": "x",
          "y": "DailyRate",
          "yref": "y"
         },
         {
          "font": {
           "color": "#000000"
          },
          "showarrow": false,
          "text": "-0.03",
          "x": "YearsWithCurrManager",
          "xref": "x",
          "y": "DailyRate",
          "yref": "y"
         },
         {
          "font": {
           "color": "#000000"
          },
          "showarrow": false,
          "text": "-0.0",
          "x": "Age",
          "xref": "x",
          "y": "DistanceFromHome",
          "yref": "y"
         },
         {
          "font": {
           "color": "#000000"
          },
          "showarrow": false,
          "text": "-0.0",
          "x": "DailyRate",
          "xref": "x",
          "y": "DistanceFromHome",
          "yref": "y"
         },
         {
          "font": {
           "color": "#000000"
          },
          "showarrow": false,
          "text": "1.0",
          "x": "DistanceFromHome",
          "xref": "x",
          "y": "DistanceFromHome",
          "yref": "y"
         },
         {
          "font": {
           "color": "#000000"
          },
          "showarrow": false,
          "text": "0.02",
          "x": "Education",
          "xref": "x",
          "y": "DistanceFromHome",
          "yref": "y"
         },
         {
          "font": {
           "color": "#000000"
          },
          "showarrow": false,
          "text": "nan",
          "x": "EmployeeCount",
          "xref": "x",
          "y": "DistanceFromHome",
          "yref": "y"
         },
         {
          "font": {
           "color": "#000000"
          },
          "showarrow": false,
          "text": "0.03",
          "x": "EmployeeNumber",
          "xref": "x",
          "y": "DistanceFromHome",
          "yref": "y"
         },
         {
          "font": {
           "color": "#000000"
          },
          "showarrow": false,
          "text": "-0.02",
          "x": "EnvironmentSatisfaction",
          "xref": "x",
          "y": "DistanceFromHome",
          "yref": "y"
         },
         {
          "font": {
           "color": "#000000"
          },
          "showarrow": false,
          "text": "0.03",
          "x": "HourlyRate",
          "xref": "x",
          "y": "DistanceFromHome",
          "yref": "y"
         },
         {
          "font": {
           "color": "#000000"
          },
          "showarrow": false,
          "text": "0.01",
          "x": "JobInvolvement",
          "xref": "x",
          "y": "DistanceFromHome",
          "yref": "y"
         },
         {
          "font": {
           "color": "#000000"
          },
          "showarrow": false,
          "text": "0.01",
          "x": "JobLevel",
          "xref": "x",
          "y": "DistanceFromHome",
          "yref": "y"
         },
         {
          "font": {
           "color": "#000000"
          },
          "showarrow": false,
          "text": "-0.0",
          "x": "JobSatisfaction",
          "xref": "x",
          "y": "DistanceFromHome",
          "yref": "y"
         },
         {
          "font": {
           "color": "#000000"
          },
          "showarrow": false,
          "text": "-0.02",
          "x": "MonthlyIncome",
          "xref": "x",
          "y": "DistanceFromHome",
          "yref": "y"
         },
         {
          "font": {
           "color": "#000000"
          },
          "showarrow": false,
          "text": "0.03",
          "x": "MonthlyRate",
          "xref": "x",
          "y": "DistanceFromHome",
          "yref": "y"
         },
         {
          "font": {
           "color": "#000000"
          },
          "showarrow": false,
          "text": "-0.03",
          "x": "NumCompaniesWorked",
          "xref": "x",
          "y": "DistanceFromHome",
          "yref": "y"
         },
         {
          "font": {
           "color": "#000000"
          },
          "showarrow": false,
          "text": "0.04",
          "x": "PercentSalaryHike",
          "xref": "x",
          "y": "DistanceFromHome",
          "yref": "y"
         },
         {
          "font": {
           "color": "#000000"
          },
          "showarrow": false,
          "text": "0.03",
          "x": "PerformanceRating",
          "xref": "x",
          "y": "DistanceFromHome",
          "yref": "y"
         },
         {
          "font": {
           "color": "#000000"
          },
          "showarrow": false,
          "text": "0.01",
          "x": "RelationshipSatisfaction",
          "xref": "x",
          "y": "DistanceFromHome",
          "yref": "y"
         },
         {
          "font": {
           "color": "#000000"
          },
          "showarrow": false,
          "text": "nan",
          "x": "StandardHours",
          "xref": "x",
          "y": "DistanceFromHome",
          "yref": "y"
         },
         {
          "font": {
           "color": "#000000"
          },
          "showarrow": false,
          "text": "0.04",
          "x": "StockOptionLevel",
          "xref": "x",
          "y": "DistanceFromHome",
          "yref": "y"
         },
         {
          "font": {
           "color": "#000000"
          },
          "showarrow": false,
          "text": "0.0",
          "x": "TotalWorkingYears",
          "xref": "x",
          "y": "DistanceFromHome",
          "yref": "y"
         },
         {
          "font": {
           "color": "#000000"
          },
          "showarrow": false,
          "text": "-0.04",
          "x": "TrainingTimesLastYear",
          "xref": "x",
          "y": "DistanceFromHome",
          "yref": "y"
         },
         {
          "font": {
           "color": "#000000"
          },
          "showarrow": false,
          "text": "-0.03",
          "x": "WorkLifeBalance",
          "xref": "x",
          "y": "DistanceFromHome",
          "yref": "y"
         },
         {
          "font": {
           "color": "#000000"
          },
          "showarrow": false,
          "text": "0.01",
          "x": "YearsAtCompany",
          "xref": "x",
          "y": "DistanceFromHome",
          "yref": "y"
         },
         {
          "font": {
           "color": "#000000"
          },
          "showarrow": false,
          "text": "0.02",
          "x": "YearsInCurrentRole",
          "xref": "x",
          "y": "DistanceFromHome",
          "yref": "y"
         },
         {
          "font": {
           "color": "#000000"
          },
          "showarrow": false,
          "text": "0.01",
          "x": "YearsSinceLastPromotion",
          "xref": "x",
          "y": "DistanceFromHome",
          "yref": "y"
         },
         {
          "font": {
           "color": "#000000"
          },
          "showarrow": false,
          "text": "0.01",
          "x": "YearsWithCurrManager",
          "xref": "x",
          "y": "DistanceFromHome",
          "yref": "y"
         },
         {
          "font": {
           "color": "#000000"
          },
          "showarrow": false,
          "text": "0.21",
          "x": "Age",
          "xref": "x",
          "y": "Education",
          "yref": "y"
         },
         {
          "font": {
           "color": "#000000"
          },
          "showarrow": false,
          "text": "-0.02",
          "x": "DailyRate",
          "xref": "x",
          "y": "Education",
          "yref": "y"
         },
         {
          "font": {
           "color": "#000000"
          },
          "showarrow": false,
          "text": "0.02",
          "x": "DistanceFromHome",
          "xref": "x",
          "y": "Education",
          "yref": "y"
         },
         {
          "font": {
           "color": "#000000"
          },
          "showarrow": false,
          "text": "1.0",
          "x": "Education",
          "xref": "x",
          "y": "Education",
          "yref": "y"
         },
         {
          "font": {
           "color": "#000000"
          },
          "showarrow": false,
          "text": "nan",
          "x": "EmployeeCount",
          "xref": "x",
          "y": "Education",
          "yref": "y"
         },
         {
          "font": {
           "color": "#000000"
          },
          "showarrow": false,
          "text": "0.04",
          "x": "EmployeeNumber",
          "xref": "x",
          "y": "Education",
          "yref": "y"
         },
         {
          "font": {
           "color": "#000000"
          },
          "showarrow": false,
          "text": "-0.03",
          "x": "EnvironmentSatisfaction",
          "xref": "x",
          "y": "Education",
          "yref": "y"
         },
         {
          "font": {
           "color": "#000000"
          },
          "showarrow": false,
          "text": "0.02",
          "x": "HourlyRate",
          "xref": "x",
          "y": "Education",
          "yref": "y"
         },
         {
          "font": {
           "color": "#000000"
          },
          "showarrow": false,
          "text": "0.04",
          "x": "JobInvolvement",
          "xref": "x",
          "y": "Education",
          "yref": "y"
         },
         {
          "font": {
           "color": "#000000"
          },
          "showarrow": false,
          "text": "0.1",
          "x": "JobLevel",
          "xref": "x",
          "y": "Education",
          "yref": "y"
         },
         {
          "font": {
           "color": "#000000"
          },
          "showarrow": false,
          "text": "-0.01",
          "x": "JobSatisfaction",
          "xref": "x",
          "y": "Education",
          "yref": "y"
         },
         {
          "font": {
           "color": "#000000"
          },
          "showarrow": false,
          "text": "0.09",
          "x": "MonthlyIncome",
          "xref": "x",
          "y": "Education",
          "yref": "y"
         },
         {
          "font": {
           "color": "#000000"
          },
          "showarrow": false,
          "text": "-0.03",
          "x": "MonthlyRate",
          "xref": "x",
          "y": "Education",
          "yref": "y"
         },
         {
          "font": {
           "color": "#000000"
          },
          "showarrow": false,
          "text": "0.13",
          "x": "NumCompaniesWorked",
          "xref": "x",
          "y": "Education",
          "yref": "y"
         },
         {
          "font": {
           "color": "#000000"
          },
          "showarrow": false,
          "text": "-0.01",
          "x": "PercentSalaryHike",
          "xref": "x",
          "y": "Education",
          "yref": "y"
         },
         {
          "font": {
           "color": "#000000"
          },
          "showarrow": false,
          "text": "-0.02",
          "x": "PerformanceRating",
          "xref": "x",
          "y": "Education",
          "yref": "y"
         },
         {
          "font": {
           "color": "#000000"
          },
          "showarrow": false,
          "text": "-0.01",
          "x": "RelationshipSatisfaction",
          "xref": "x",
          "y": "Education",
          "yref": "y"
         },
         {
          "font": {
           "color": "#000000"
          },
          "showarrow": false,
          "text": "nan",
          "x": "StandardHours",
          "xref": "x",
          "y": "Education",
          "yref": "y"
         },
         {
          "font": {
           "color": "#000000"
          },
          "showarrow": false,
          "text": "0.02",
          "x": "StockOptionLevel",
          "xref": "x",
          "y": "Education",
          "yref": "y"
         },
         {
          "font": {
           "color": "#000000"
          },
          "showarrow": false,
          "text": "0.15",
          "x": "TotalWorkingYears",
          "xref": "x",
          "y": "Education",
          "yref": "y"
         },
         {
          "font": {
           "color": "#000000"
          },
          "showarrow": false,
          "text": "-0.03",
          "x": "TrainingTimesLastYear",
          "xref": "x",
          "y": "Education",
          "yref": "y"
         },
         {
          "font": {
           "color": "#000000"
          },
          "showarrow": false,
          "text": "0.01",
          "x": "WorkLifeBalance",
          "xref": "x",
          "y": "Education",
          "yref": "y"
         },
         {
          "font": {
           "color": "#000000"
          },
          "showarrow": false,
          "text": "0.07",
          "x": "YearsAtCompany",
          "xref": "x",
          "y": "Education",
          "yref": "y"
         },
         {
          "font": {
           "color": "#000000"
          },
          "showarrow": false,
          "text": "0.06",
          "x": "YearsInCurrentRole",
          "xref": "x",
          "y": "Education",
          "yref": "y"
         },
         {
          "font": {
           "color": "#000000"
          },
          "showarrow": false,
          "text": "0.05",
          "x": "YearsSinceLastPromotion",
          "xref": "x",
          "y": "Education",
          "yref": "y"
         },
         {
          "font": {
           "color": "#000000"
          },
          "showarrow": false,
          "text": "0.07",
          "x": "YearsWithCurrManager",
          "xref": "x",
          "y": "Education",
          "yref": "y"
         },
         {
          "font": {
           "color": "#000000"
          },
          "showarrow": false,
          "text": "nan",
          "x": "Age",
          "xref": "x",
          "y": "EmployeeCount",
          "yref": "y"
         },
         {
          "font": {
           "color": "#000000"
          },
          "showarrow": false,
          "text": "nan",
          "x": "DailyRate",
          "xref": "x",
          "y": "EmployeeCount",
          "yref": "y"
         },
         {
          "font": {
           "color": "#000000"
          },
          "showarrow": false,
          "text": "nan",
          "x": "DistanceFromHome",
          "xref": "x",
          "y": "EmployeeCount",
          "yref": "y"
         },
         {
          "font": {
           "color": "#000000"
          },
          "showarrow": false,
          "text": "nan",
          "x": "Education",
          "xref": "x",
          "y": "EmployeeCount",
          "yref": "y"
         },
         {
          "font": {
           "color": "#000000"
          },
          "showarrow": false,
          "text": "nan",
          "x": "EmployeeCount",
          "xref": "x",
          "y": "EmployeeCount",
          "yref": "y"
         },
         {
          "font": {
           "color": "#000000"
          },
          "showarrow": false,
          "text": "nan",
          "x": "EmployeeNumber",
          "xref": "x",
          "y": "EmployeeCount",
          "yref": "y"
         },
         {
          "font": {
           "color": "#000000"
          },
          "showarrow": false,
          "text": "nan",
          "x": "EnvironmentSatisfaction",
          "xref": "x",
          "y": "EmployeeCount",
          "yref": "y"
         },
         {
          "font": {
           "color": "#000000"
          },
          "showarrow": false,
          "text": "nan",
          "x": "HourlyRate",
          "xref": "x",
          "y": "EmployeeCount",
          "yref": "y"
         },
         {
          "font": {
           "color": "#000000"
          },
          "showarrow": false,
          "text": "nan",
          "x": "JobInvolvement",
          "xref": "x",
          "y": "EmployeeCount",
          "yref": "y"
         },
         {
          "font": {
           "color": "#000000"
          },
          "showarrow": false,
          "text": "nan",
          "x": "JobLevel",
          "xref": "x",
          "y": "EmployeeCount",
          "yref": "y"
         },
         {
          "font": {
           "color": "#000000"
          },
          "showarrow": false,
          "text": "nan",
          "x": "JobSatisfaction",
          "xref": "x",
          "y": "EmployeeCount",
          "yref": "y"
         },
         {
          "font": {
           "color": "#000000"
          },
          "showarrow": false,
          "text": "nan",
          "x": "MonthlyIncome",
          "xref": "x",
          "y": "EmployeeCount",
          "yref": "y"
         },
         {
          "font": {
           "color": "#000000"
          },
          "showarrow": false,
          "text": "nan",
          "x": "MonthlyRate",
          "xref": "x",
          "y": "EmployeeCount",
          "yref": "y"
         },
         {
          "font": {
           "color": "#000000"
          },
          "showarrow": false,
          "text": "nan",
          "x": "NumCompaniesWorked",
          "xref": "x",
          "y": "EmployeeCount",
          "yref": "y"
         },
         {
          "font": {
           "color": "#000000"
          },
          "showarrow": false,
          "text": "nan",
          "x": "PercentSalaryHike",
          "xref": "x",
          "y": "EmployeeCount",
          "yref": "y"
         },
         {
          "font": {
           "color": "#000000"
          },
          "showarrow": false,
          "text": "nan",
          "x": "PerformanceRating",
          "xref": "x",
          "y": "EmployeeCount",
          "yref": "y"
         },
         {
          "font": {
           "color": "#000000"
          },
          "showarrow": false,
          "text": "nan",
          "x": "RelationshipSatisfaction",
          "xref": "x",
          "y": "EmployeeCount",
          "yref": "y"
         },
         {
          "font": {
           "color": "#000000"
          },
          "showarrow": false,
          "text": "nan",
          "x": "StandardHours",
          "xref": "x",
          "y": "EmployeeCount",
          "yref": "y"
         },
         {
          "font": {
           "color": "#000000"
          },
          "showarrow": false,
          "text": "nan",
          "x": "StockOptionLevel",
          "xref": "x",
          "y": "EmployeeCount",
          "yref": "y"
         },
         {
          "font": {
           "color": "#000000"
          },
          "showarrow": false,
          "text": "nan",
          "x": "TotalWorkingYears",
          "xref": "x",
          "y": "EmployeeCount",
          "yref": "y"
         },
         {
          "font": {
           "color": "#000000"
          },
          "showarrow": false,
          "text": "nan",
          "x": "TrainingTimesLastYear",
          "xref": "x",
          "y": "EmployeeCount",
          "yref": "y"
         },
         {
          "font": {
           "color": "#000000"
          },
          "showarrow": false,
          "text": "nan",
          "x": "WorkLifeBalance",
          "xref": "x",
          "y": "EmployeeCount",
          "yref": "y"
         },
         {
          "font": {
           "color": "#000000"
          },
          "showarrow": false,
          "text": "nan",
          "x": "YearsAtCompany",
          "xref": "x",
          "y": "EmployeeCount",
          "yref": "y"
         },
         {
          "font": {
           "color": "#000000"
          },
          "showarrow": false,
          "text": "nan",
          "x": "YearsInCurrentRole",
          "xref": "x",
          "y": "EmployeeCount",
          "yref": "y"
         },
         {
          "font": {
           "color": "#000000"
          },
          "showarrow": false,
          "text": "nan",
          "x": "YearsSinceLastPromotion",
          "xref": "x",
          "y": "EmployeeCount",
          "yref": "y"
         },
         {
          "font": {
           "color": "#000000"
          },
          "showarrow": false,
          "text": "nan",
          "x": "YearsWithCurrManager",
          "xref": "x",
          "y": "EmployeeCount",
          "yref": "y"
         },
         {
          "font": {
           "color": "#000000"
          },
          "showarrow": false,
          "text": "-0.01",
          "x": "Age",
          "xref": "x",
          "y": "EmployeeNumber",
          "yref": "y"
         },
         {
          "font": {
           "color": "#000000"
          },
          "showarrow": false,
          "text": "-0.05",
          "x": "DailyRate",
          "xref": "x",
          "y": "EmployeeNumber",
          "yref": "y"
         },
         {
          "font": {
           "color": "#000000"
          },
          "showarrow": false,
          "text": "0.03",
          "x": "DistanceFromHome",
          "xref": "x",
          "y": "EmployeeNumber",
          "yref": "y"
         },
         {
          "font": {
           "color": "#000000"
          },
          "showarrow": false,
          "text": "0.04",
          "x": "Education",
          "xref": "x",
          "y": "EmployeeNumber",
          "yref": "y"
         },
         {
          "font": {
           "color": "#000000"
          },
          "showarrow": false,
          "text": "nan",
          "x": "EmployeeCount",
          "xref": "x",
          "y": "EmployeeNumber",
          "yref": "y"
         },
         {
          "font": {
           "color": "#000000"
          },
          "showarrow": false,
          "text": "1.0",
          "x": "EmployeeNumber",
          "xref": "x",
          "y": "EmployeeNumber",
          "yref": "y"
         },
         {
          "font": {
           "color": "#000000"
          },
          "showarrow": false,
          "text": "0.02",
          "x": "EnvironmentSatisfaction",
          "xref": "x",
          "y": "EmployeeNumber",
          "yref": "y"
         },
         {
          "font": {
           "color": "#000000"
          },
          "showarrow": false,
          "text": "0.04",
          "x": "HourlyRate",
          "xref": "x",
          "y": "EmployeeNumber",
          "yref": "y"
         },
         {
          "font": {
           "color": "#000000"
          },
          "showarrow": false,
          "text": "-0.01",
          "x": "JobInvolvement",
          "xref": "x",
          "y": "EmployeeNumber",
          "yref": "y"
         },
         {
          "font": {
           "color": "#000000"
          },
          "showarrow": false,
          "text": "-0.02",
          "x": "JobLevel",
          "xref": "x",
          "y": "EmployeeNumber",
          "yref": "y"
         },
         {
          "font": {
           "color": "#000000"
          },
          "showarrow": false,
          "text": "-0.05",
          "x": "JobSatisfaction",
          "xref": "x",
          "y": "EmployeeNumber",
          "yref": "y"
         },
         {
          "font": {
           "color": "#000000"
          },
          "showarrow": false,
          "text": "-0.01",
          "x": "MonthlyIncome",
          "xref": "x",
          "y": "EmployeeNumber",
          "yref": "y"
         },
         {
          "font": {
           "color": "#000000"
          },
          "showarrow": false,
          "text": "0.01",
          "x": "MonthlyRate",
          "xref": "x",
          "y": "EmployeeNumber",
          "yref": "y"
         },
         {
          "font": {
           "color": "#000000"
          },
          "showarrow": false,
          "text": "-0.0",
          "x": "NumCompaniesWorked",
          "xref": "x",
          "y": "EmployeeNumber",
          "yref": "y"
         },
         {
          "font": {
           "color": "#000000"
          },
          "showarrow": false,
          "text": "-0.01",
          "x": "PercentSalaryHike",
          "xref": "x",
          "y": "EmployeeNumber",
          "yref": "y"
         },
         {
          "font": {
           "color": "#000000"
          },
          "showarrow": false,
          "text": "-0.02",
          "x": "PerformanceRating",
          "xref": "x",
          "y": "EmployeeNumber",
          "yref": "y"
         },
         {
          "font": {
           "color": "#000000"
          },
          "showarrow": false,
          "text": "-0.07",
          "x": "RelationshipSatisfaction",
          "xref": "x",
          "y": "EmployeeNumber",
          "yref": "y"
         },
         {
          "font": {
           "color": "#000000"
          },
          "showarrow": false,
          "text": "nan",
          "x": "StandardHours",
          "xref": "x",
          "y": "EmployeeNumber",
          "yref": "y"
         },
         {
          "font": {
           "color": "#000000"
          },
          "showarrow": false,
          "text": "0.06",
          "x": "StockOptionLevel",
          "xref": "x",
          "y": "EmployeeNumber",
          "yref": "y"
         },
         {
          "font": {
           "color": "#000000"
          },
          "showarrow": false,
          "text": "-0.01",
          "x": "TotalWorkingYears",
          "xref": "x",
          "y": "EmployeeNumber",
          "yref": "y"
         },
         {
          "font": {
           "color": "#000000"
          },
          "showarrow": false,
          "text": "0.02",
          "x": "TrainingTimesLastYear",
          "xref": "x",
          "y": "EmployeeNumber",
          "yref": "y"
         },
         {
          "font": {
           "color": "#000000"
          },
          "showarrow": false,
          "text": "0.01",
          "x": "WorkLifeBalance",
          "xref": "x",
          "y": "EmployeeNumber",
          "yref": "y"
         },
         {
          "font": {
           "color": "#000000"
          },
          "showarrow": false,
          "text": "-0.01",
          "x": "YearsAtCompany",
          "xref": "x",
          "y": "EmployeeNumber",
          "yref": "y"
         },
         {
          "font": {
           "color": "#000000"
          },
          "showarrow": false,
          "text": "-0.01",
          "x": "YearsInCurrentRole",
          "xref": "x",
          "y": "EmployeeNumber",
          "yref": "y"
         },
         {
          "font": {
           "color": "#000000"
          },
          "showarrow": false,
          "text": "-0.01",
          "x": "YearsSinceLastPromotion",
          "xref": "x",
          "y": "EmployeeNumber",
          "yref": "y"
         },
         {
          "font": {
           "color": "#000000"
          },
          "showarrow": false,
          "text": "-0.01",
          "x": "YearsWithCurrManager",
          "xref": "x",
          "y": "EmployeeNumber",
          "yref": "y"
         },
         {
          "font": {
           "color": "#000000"
          },
          "showarrow": false,
          "text": "0.01",
          "x": "Age",
          "xref": "x",
          "y": "EnvironmentSatisfaction",
          "yref": "y"
         },
         {
          "font": {
           "color": "#000000"
          },
          "showarrow": false,
          "text": "0.02",
          "x": "DailyRate",
          "xref": "x",
          "y": "EnvironmentSatisfaction",
          "yref": "y"
         },
         {
          "font": {
           "color": "#000000"
          },
          "showarrow": false,
          "text": "-0.02",
          "x": "DistanceFromHome",
          "xref": "x",
          "y": "EnvironmentSatisfaction",
          "yref": "y"
         },
         {
          "font": {
           "color": "#000000"
          },
          "showarrow": false,
          "text": "-0.03",
          "x": "Education",
          "xref": "x",
          "y": "EnvironmentSatisfaction",
          "yref": "y"
         },
         {
          "font": {
           "color": "#000000"
          },
          "showarrow": false,
          "text": "nan",
          "x": "EmployeeCount",
          "xref": "x",
          "y": "EnvironmentSatisfaction",
          "yref": "y"
         },
         {
          "font": {
           "color": "#000000"
          },
          "showarrow": false,
          "text": "0.02",
          "x": "EmployeeNumber",
          "xref": "x",
          "y": "EnvironmentSatisfaction",
          "yref": "y"
         },
         {
          "font": {
           "color": "#000000"
          },
          "showarrow": false,
          "text": "1.0",
          "x": "EnvironmentSatisfaction",
          "xref": "x",
          "y": "EnvironmentSatisfaction",
          "yref": "y"
         },
         {
          "font": {
           "color": "#000000"
          },
          "showarrow": false,
          "text": "-0.05",
          "x": "HourlyRate",
          "xref": "x",
          "y": "EnvironmentSatisfaction",
          "yref": "y"
         },
         {
          "font": {
           "color": "#000000"
          },
          "showarrow": false,
          "text": "-0.01",
          "x": "JobInvolvement",
          "xref": "x",
          "y": "EnvironmentSatisfaction",
          "yref": "y"
         },
         {
          "font": {
           "color": "#000000"
          },
          "showarrow": false,
          "text": "0.0",
          "x": "JobLevel",
          "xref": "x",
          "y": "EnvironmentSatisfaction",
          "yref": "y"
         },
         {
          "font": {
           "color": "#000000"
          },
          "showarrow": false,
          "text": "-0.01",
          "x": "JobSatisfaction",
          "xref": "x",
          "y": "EnvironmentSatisfaction",
          "yref": "y"
         },
         {
          "font": {
           "color": "#000000"
          },
          "showarrow": false,
          "text": "-0.01",
          "x": "MonthlyIncome",
          "xref": "x",
          "y": "EnvironmentSatisfaction",
          "yref": "y"
         },
         {
          "font": {
           "color": "#000000"
          },
          "showarrow": false,
          "text": "0.04",
          "x": "MonthlyRate",
          "xref": "x",
          "y": "EnvironmentSatisfaction",
          "yref": "y"
         },
         {
          "font": {
           "color": "#000000"
          },
          "showarrow": false,
          "text": "0.01",
          "x": "NumCompaniesWorked",
          "xref": "x",
          "y": "EnvironmentSatisfaction",
          "yref": "y"
         },
         {
          "font": {
           "color": "#000000"
          },
          "showarrow": false,
          "text": "-0.03",
          "x": "PercentSalaryHike",
          "xref": "x",
          "y": "EnvironmentSatisfaction",
          "yref": "y"
         },
         {
          "font": {
           "color": "#000000"
          },
          "showarrow": false,
          "text": "-0.03",
          "x": "PerformanceRating",
          "xref": "x",
          "y": "EnvironmentSatisfaction",
          "yref": "y"
         },
         {
          "font": {
           "color": "#000000"
          },
          "showarrow": false,
          "text": "0.01",
          "x": "RelationshipSatisfaction",
          "xref": "x",
          "y": "EnvironmentSatisfaction",
          "yref": "y"
         },
         {
          "font": {
           "color": "#000000"
          },
          "showarrow": false,
          "text": "nan",
          "x": "StandardHours",
          "xref": "x",
          "y": "EnvironmentSatisfaction",
          "yref": "y"
         },
         {
          "font": {
           "color": "#000000"
          },
          "showarrow": false,
          "text": "0.0",
          "x": "StockOptionLevel",
          "xref": "x",
          "y": "EnvironmentSatisfaction",
          "yref": "y"
         },
         {
          "font": {
           "color": "#000000"
          },
          "showarrow": false,
          "text": "-0.0",
          "x": "TotalWorkingYears",
          "xref": "x",
          "y": "EnvironmentSatisfaction",
          "yref": "y"
         },
         {
          "font": {
           "color": "#000000"
          },
          "showarrow": false,
          "text": "-0.02",
          "x": "TrainingTimesLastYear",
          "xref": "x",
          "y": "EnvironmentSatisfaction",
          "yref": "y"
         },
         {
          "font": {
           "color": "#000000"
          },
          "showarrow": false,
          "text": "0.03",
          "x": "WorkLifeBalance",
          "xref": "x",
          "y": "EnvironmentSatisfaction",
          "yref": "y"
         },
         {
          "font": {
           "color": "#000000"
          },
          "showarrow": false,
          "text": "0.0",
          "x": "YearsAtCompany",
          "xref": "x",
          "y": "EnvironmentSatisfaction",
          "yref": "y"
         },
         {
          "font": {
           "color": "#000000"
          },
          "showarrow": false,
          "text": "0.02",
          "x": "YearsInCurrentRole",
          "xref": "x",
          "y": "EnvironmentSatisfaction",
          "yref": "y"
         },
         {
          "font": {
           "color": "#000000"
          },
          "showarrow": false,
          "text": "0.02",
          "x": "YearsSinceLastPromotion",
          "xref": "x",
          "y": "EnvironmentSatisfaction",
          "yref": "y"
         },
         {
          "font": {
           "color": "#000000"
          },
          "showarrow": false,
          "text": "-0.0",
          "x": "YearsWithCurrManager",
          "xref": "x",
          "y": "EnvironmentSatisfaction",
          "yref": "y"
         },
         {
          "font": {
           "color": "#000000"
          },
          "showarrow": false,
          "text": "0.02",
          "x": "Age",
          "xref": "x",
          "y": "HourlyRate",
          "yref": "y"
         },
         {
          "font": {
           "color": "#000000"
          },
          "showarrow": false,
          "text": "0.02",
          "x": "DailyRate",
          "xref": "x",
          "y": "HourlyRate",
          "yref": "y"
         },
         {
          "font": {
           "color": "#000000"
          },
          "showarrow": false,
          "text": "0.03",
          "x": "DistanceFromHome",
          "xref": "x",
          "y": "HourlyRate",
          "yref": "y"
         },
         {
          "font": {
           "color": "#000000"
          },
          "showarrow": false,
          "text": "0.02",
          "x": "Education",
          "xref": "x",
          "y": "HourlyRate",
          "yref": "y"
         },
         {
          "font": {
           "color": "#000000"
          },
          "showarrow": false,
          "text": "nan",
          "x": "EmployeeCount",
          "xref": "x",
          "y": "HourlyRate",
          "yref": "y"
         },
         {
          "font": {
           "color": "#000000"
          },
          "showarrow": false,
          "text": "0.04",
          "x": "EmployeeNumber",
          "xref": "x",
          "y": "HourlyRate",
          "yref": "y"
         },
         {
          "font": {
           "color": "#000000"
          },
          "showarrow": false,
          "text": "-0.05",
          "x": "EnvironmentSatisfaction",
          "xref": "x",
          "y": "HourlyRate",
          "yref": "y"
         },
         {
          "font": {
           "color": "#000000"
          },
          "showarrow": false,
          "text": "1.0",
          "x": "HourlyRate",
          "xref": "x",
          "y": "HourlyRate",
          "yref": "y"
         },
         {
          "font": {
           "color": "#000000"
          },
          "showarrow": false,
          "text": "0.04",
          "x": "JobInvolvement",
          "xref": "x",
          "y": "HourlyRate",
          "yref": "y"
         },
         {
          "font": {
           "color": "#000000"
          },
          "showarrow": false,
          "text": "-0.03",
          "x": "JobLevel",
          "xref": "x",
          "y": "HourlyRate",
          "yref": "y"
         },
         {
          "font": {
           "color": "#000000"
          },
          "showarrow": false,
          "text": "-0.07",
          "x": "JobSatisfaction",
          "xref": "x",
          "y": "HourlyRate",
          "yref": "y"
         },
         {
          "font": {
           "color": "#000000"
          },
          "showarrow": false,
          "text": "-0.02",
          "x": "MonthlyIncome",
          "xref": "x",
          "y": "HourlyRate",
          "yref": "y"
         },
         {
          "font": {
           "color": "#000000"
          },
          "showarrow": false,
          "text": "-0.02",
          "x": "MonthlyRate",
          "xref": "x",
          "y": "HourlyRate",
          "yref": "y"
         },
         {
          "font": {
           "color": "#000000"
          },
          "showarrow": false,
          "text": "0.02",
          "x": "NumCompaniesWorked",
          "xref": "x",
          "y": "HourlyRate",
          "yref": "y"
         },
         {
          "font": {
           "color": "#000000"
          },
          "showarrow": false,
          "text": "-0.01",
          "x": "PercentSalaryHike",
          "xref": "x",
          "y": "HourlyRate",
          "yref": "y"
         },
         {
          "font": {
           "color": "#000000"
          },
          "showarrow": false,
          "text": "-0.0",
          "x": "PerformanceRating",
          "xref": "x",
          "y": "HourlyRate",
          "yref": "y"
         },
         {
          "font": {
           "color": "#000000"
          },
          "showarrow": false,
          "text": "0.0",
          "x": "RelationshipSatisfaction",
          "xref": "x",
          "y": "HourlyRate",
          "yref": "y"
         },
         {
          "font": {
           "color": "#000000"
          },
          "showarrow": false,
          "text": "nan",
          "x": "StandardHours",
          "xref": "x",
          "y": "HourlyRate",
          "yref": "y"
         },
         {
          "font": {
           "color": "#000000"
          },
          "showarrow": false,
          "text": "0.05",
          "x": "StockOptionLevel",
          "xref": "x",
          "y": "HourlyRate",
          "yref": "y"
         },
         {
          "font": {
           "color": "#000000"
          },
          "showarrow": false,
          "text": "-0.0",
          "x": "TotalWorkingYears",
          "xref": "x",
          "y": "HourlyRate",
          "yref": "y"
         },
         {
          "font": {
           "color": "#000000"
          },
          "showarrow": false,
          "text": "-0.01",
          "x": "TrainingTimesLastYear",
          "xref": "x",
          "y": "HourlyRate",
          "yref": "y"
         },
         {
          "font": {
           "color": "#000000"
          },
          "showarrow": false,
          "text": "-0.0",
          "x": "WorkLifeBalance",
          "xref": "x",
          "y": "HourlyRate",
          "yref": "y"
         },
         {
          "font": {
           "color": "#000000"
          },
          "showarrow": false,
          "text": "-0.02",
          "x": "YearsAtCompany",
          "xref": "x",
          "y": "HourlyRate",
          "yref": "y"
         },
         {
          "font": {
           "color": "#000000"
          },
          "showarrow": false,
          "text": "-0.02",
          "x": "YearsInCurrentRole",
          "xref": "x",
          "y": "HourlyRate",
          "yref": "y"
         },
         {
          "font": {
           "color": "#000000"
          },
          "showarrow": false,
          "text": "-0.03",
          "x": "YearsSinceLastPromotion",
          "xref": "x",
          "y": "HourlyRate",
          "yref": "y"
         },
         {
          "font": {
           "color": "#000000"
          },
          "showarrow": false,
          "text": "-0.02",
          "x": "YearsWithCurrManager",
          "xref": "x",
          "y": "HourlyRate",
          "yref": "y"
         },
         {
          "font": {
           "color": "#000000"
          },
          "showarrow": false,
          "text": "0.03",
          "x": "Age",
          "xref": "x",
          "y": "JobInvolvement",
          "yref": "y"
         },
         {
          "font": {
           "color": "#000000"
          },
          "showarrow": false,
          "text": "0.05",
          "x": "DailyRate",
          "xref": "x",
          "y": "JobInvolvement",
          "yref": "y"
         },
         {
          "font": {
           "color": "#000000"
          },
          "showarrow": false,
          "text": "0.01",
          "x": "DistanceFromHome",
          "xref": "x",
          "y": "JobInvolvement",
          "yref": "y"
         },
         {
          "font": {
           "color": "#000000"
          },
          "showarrow": false,
          "text": "0.04",
          "x": "Education",
          "xref": "x",
          "y": "JobInvolvement",
          "yref": "y"
         },
         {
          "font": {
           "color": "#000000"
          },
          "showarrow": false,
          "text": "nan",
          "x": "EmployeeCount",
          "xref": "x",
          "y": "JobInvolvement",
          "yref": "y"
         },
         {
          "font": {
           "color": "#000000"
          },
          "showarrow": false,
          "text": "-0.01",
          "x": "EmployeeNumber",
          "xref": "x",
          "y": "JobInvolvement",
          "yref": "y"
         },
         {
          "font": {
           "color": "#000000"
          },
          "showarrow": false,
          "text": "-0.01",
          "x": "EnvironmentSatisfaction",
          "xref": "x",
          "y": "JobInvolvement",
          "yref": "y"
         },
         {
          "font": {
           "color": "#000000"
          },
          "showarrow": false,
          "text": "0.04",
          "x": "HourlyRate",
          "xref": "x",
          "y": "JobInvolvement",
          "yref": "y"
         },
         {
          "font": {
           "color": "#000000"
          },
          "showarrow": false,
          "text": "1.0",
          "x": "JobInvolvement",
          "xref": "x",
          "y": "JobInvolvement",
          "yref": "y"
         },
         {
          "font": {
           "color": "#000000"
          },
          "showarrow": false,
          "text": "-0.01",
          "x": "JobLevel",
          "xref": "x",
          "y": "JobInvolvement",
          "yref": "y"
         },
         {
          "font": {
           "color": "#000000"
          },
          "showarrow": false,
          "text": "-0.02",
          "x": "JobSatisfaction",
          "xref": "x",
          "y": "JobInvolvement",
          "yref": "y"
         },
         {
          "font": {
           "color": "#000000"
          },
          "showarrow": false,
          "text": "-0.02",
          "x": "MonthlyIncome",
          "xref": "x",
          "y": "JobInvolvement",
          "yref": "y"
         },
         {
          "font": {
           "color": "#000000"
          },
          "showarrow": false,
          "text": "-0.02",
          "x": "MonthlyRate",
          "xref": "x",
          "y": "JobInvolvement",
          "yref": "y"
         },
         {
          "font": {
           "color": "#000000"
          },
          "showarrow": false,
          "text": "0.02",
          "x": "NumCompaniesWorked",
          "xref": "x",
          "y": "JobInvolvement",
          "yref": "y"
         },
         {
          "font": {
           "color": "#000000"
          },
          "showarrow": false,
          "text": "-0.02",
          "x": "PercentSalaryHike",
          "xref": "x",
          "y": "JobInvolvement",
          "yref": "y"
         },
         {
          "font": {
           "color": "#000000"
          },
          "showarrow": false,
          "text": "-0.03",
          "x": "PerformanceRating",
          "xref": "x",
          "y": "JobInvolvement",
          "yref": "y"
         },
         {
          "font": {
           "color": "#000000"
          },
          "showarrow": false,
          "text": "0.03",
          "x": "RelationshipSatisfaction",
          "xref": "x",
          "y": "JobInvolvement",
          "yref": "y"
         },
         {
          "font": {
           "color": "#000000"
          },
          "showarrow": false,
          "text": "nan",
          "x": "StandardHours",
          "xref": "x",
          "y": "JobInvolvement",
          "yref": "y"
         },
         {
          "font": {
           "color": "#000000"
          },
          "showarrow": false,
          "text": "0.02",
          "x": "StockOptionLevel",
          "xref": "x",
          "y": "JobInvolvement",
          "yref": "y"
         },
         {
          "font": {
           "color": "#000000"
          },
          "showarrow": false,
          "text": "-0.01",
          "x": "TotalWorkingYears",
          "xref": "x",
          "y": "JobInvolvement",
          "yref": "y"
         },
         {
          "font": {
           "color": "#000000"
          },
          "showarrow": false,
          "text": "-0.02",
          "x": "TrainingTimesLastYear",
          "xref": "x",
          "y": "JobInvolvement",
          "yref": "y"
         },
         {
          "font": {
           "color": "#000000"
          },
          "showarrow": false,
          "text": "-0.01",
          "x": "WorkLifeBalance",
          "xref": "x",
          "y": "JobInvolvement",
          "yref": "y"
         },
         {
          "font": {
           "color": "#000000"
          },
          "showarrow": false,
          "text": "-0.02",
          "x": "YearsAtCompany",
          "xref": "x",
          "y": "JobInvolvement",
          "yref": "y"
         },
         {
          "font": {
           "color": "#000000"
          },
          "showarrow": false,
          "text": "0.01",
          "x": "YearsInCurrentRole",
          "xref": "x",
          "y": "JobInvolvement",
          "yref": "y"
         },
         {
          "font": {
           "color": "#000000"
          },
          "showarrow": false,
          "text": "-0.02",
          "x": "YearsSinceLastPromotion",
          "xref": "x",
          "y": "JobInvolvement",
          "yref": "y"
         },
         {
          "font": {
           "color": "#000000"
          },
          "showarrow": false,
          "text": "0.03",
          "x": "YearsWithCurrManager",
          "xref": "x",
          "y": "JobInvolvement",
          "yref": "y"
         },
         {
          "font": {
           "color": "#000000"
          },
          "showarrow": false,
          "text": "0.51",
          "x": "Age",
          "xref": "x",
          "y": "JobLevel",
          "yref": "y"
         },
         {
          "font": {
           "color": "#000000"
          },
          "showarrow": false,
          "text": "0.0",
          "x": "DailyRate",
          "xref": "x",
          "y": "JobLevel",
          "yref": "y"
         },
         {
          "font": {
           "color": "#000000"
          },
          "showarrow": false,
          "text": "0.01",
          "x": "DistanceFromHome",
          "xref": "x",
          "y": "JobLevel",
          "yref": "y"
         },
         {
          "font": {
           "color": "#000000"
          },
          "showarrow": false,
          "text": "0.1",
          "x": "Education",
          "xref": "x",
          "y": "JobLevel",
          "yref": "y"
         },
         {
          "font": {
           "color": "#000000"
          },
          "showarrow": false,
          "text": "nan",
          "x": "EmployeeCount",
          "xref": "x",
          "y": "JobLevel",
          "yref": "y"
         },
         {
          "font": {
           "color": "#000000"
          },
          "showarrow": false,
          "text": "-0.02",
          "x": "EmployeeNumber",
          "xref": "x",
          "y": "JobLevel",
          "yref": "y"
         },
         {
          "font": {
           "color": "#000000"
          },
          "showarrow": false,
          "text": "0.0",
          "x": "EnvironmentSatisfaction",
          "xref": "x",
          "y": "JobLevel",
          "yref": "y"
         },
         {
          "font": {
           "color": "#000000"
          },
          "showarrow": false,
          "text": "-0.03",
          "x": "HourlyRate",
          "xref": "x",
          "y": "JobLevel",
          "yref": "y"
         },
         {
          "font": {
           "color": "#000000"
          },
          "showarrow": false,
          "text": "-0.01",
          "x": "JobInvolvement",
          "xref": "x",
          "y": "JobLevel",
          "yref": "y"
         },
         {
          "font": {
           "color": "#000000"
          },
          "showarrow": false,
          "text": "1.0",
          "x": "JobLevel",
          "xref": "x",
          "y": "JobLevel",
          "yref": "y"
         },
         {
          "font": {
           "color": "#000000"
          },
          "showarrow": false,
          "text": "-0.0",
          "x": "JobSatisfaction",
          "xref": "x",
          "y": "JobLevel",
          "yref": "y"
         },
         {
          "font": {
           "color": "#000000"
          },
          "showarrow": false,
          "text": "0.95",
          "x": "MonthlyIncome",
          "xref": "x",
          "y": "JobLevel",
          "yref": "y"
         },
         {
          "font": {
           "color": "#000000"
          },
          "showarrow": false,
          "text": "0.04",
          "x": "MonthlyRate",
          "xref": "x",
          "y": "JobLevel",
          "yref": "y"
         },
         {
          "font": {
           "color": "#000000"
          },
          "showarrow": false,
          "text": "0.14",
          "x": "NumCompaniesWorked",
          "xref": "x",
          "y": "JobLevel",
          "yref": "y"
         },
         {
          "font": {
           "color": "#000000"
          },
          "showarrow": false,
          "text": "-0.03",
          "x": "PercentSalaryHike",
          "xref": "x",
          "y": "JobLevel",
          "yref": "y"
         },
         {
          "font": {
           "color": "#000000"
          },
          "showarrow": false,
          "text": "-0.02",
          "x": "PerformanceRating",
          "xref": "x",
          "y": "JobLevel",
          "yref": "y"
         },
         {
          "font": {
           "color": "#000000"
          },
          "showarrow": false,
          "text": "0.02",
          "x": "RelationshipSatisfaction",
          "xref": "x",
          "y": "JobLevel",
          "yref": "y"
         },
         {
          "font": {
           "color": "#000000"
          },
          "showarrow": false,
          "text": "nan",
          "x": "StandardHours",
          "xref": "x",
          "y": "JobLevel",
          "yref": "y"
         },
         {
          "font": {
           "color": "#000000"
          },
          "showarrow": false,
          "text": "0.01",
          "x": "StockOptionLevel",
          "xref": "x",
          "y": "JobLevel",
          "yref": "y"
         },
         {
          "font": {
           "color": "#000000"
          },
          "showarrow": false,
          "text": "0.78",
          "x": "TotalWorkingYears",
          "xref": "x",
          "y": "JobLevel",
          "yref": "y"
         },
         {
          "font": {
           "color": "#000000"
          },
          "showarrow": false,
          "text": "-0.02",
          "x": "TrainingTimesLastYear",
          "xref": "x",
          "y": "JobLevel",
          "yref": "y"
         },
         {
          "font": {
           "color": "#000000"
          },
          "showarrow": false,
          "text": "0.04",
          "x": "WorkLifeBalance",
          "xref": "x",
          "y": "JobLevel",
          "yref": "y"
         },
         {
          "font": {
           "color": "#000000"
          },
          "showarrow": false,
          "text": "0.53",
          "x": "YearsAtCompany",
          "xref": "x",
          "y": "JobLevel",
          "yref": "y"
         },
         {
          "font": {
           "color": "#000000"
          },
          "showarrow": false,
          "text": "0.39",
          "x": "YearsInCurrentRole",
          "xref": "x",
          "y": "JobLevel",
          "yref": "y"
         },
         {
          "font": {
           "color": "#000000"
          },
          "showarrow": false,
          "text": "0.35",
          "x": "YearsSinceLastPromotion",
          "xref": "x",
          "y": "JobLevel",
          "yref": "y"
         },
         {
          "font": {
           "color": "#000000"
          },
          "showarrow": false,
          "text": "0.38",
          "x": "YearsWithCurrManager",
          "xref": "x",
          "y": "JobLevel",
          "yref": "y"
         },
         {
          "font": {
           "color": "#000000"
          },
          "showarrow": false,
          "text": "-0.0",
          "x": "Age",
          "xref": "x",
          "y": "JobSatisfaction",
          "yref": "y"
         },
         {
          "font": {
           "color": "#000000"
          },
          "showarrow": false,
          "text": "0.03",
          "x": "DailyRate",
          "xref": "x",
          "y": "JobSatisfaction",
          "yref": "y"
         },
         {
          "font": {
           "color": "#000000"
          },
          "showarrow": false,
          "text": "-0.0",
          "x": "DistanceFromHome",
          "xref": "x",
          "y": "JobSatisfaction",
          "yref": "y"
         },
         {
          "font": {
           "color": "#000000"
          },
          "showarrow": false,
          "text": "-0.01",
          "x": "Education",
          "xref": "x",
          "y": "JobSatisfaction",
          "yref": "y"
         },
         {
          "font": {
           "color": "#000000"
          },
          "showarrow": false,
          "text": "nan",
          "x": "EmployeeCount",
          "xref": "x",
          "y": "JobSatisfaction",
          "yref": "y"
         },
         {
          "font": {
           "color": "#000000"
          },
          "showarrow": false,
          "text": "-0.05",
          "x": "EmployeeNumber",
          "xref": "x",
          "y": "JobSatisfaction",
          "yref": "y"
         },
         {
          "font": {
           "color": "#000000"
          },
          "showarrow": false,
          "text": "-0.01",
          "x": "EnvironmentSatisfaction",
          "xref": "x",
          "y": "JobSatisfaction",
          "yref": "y"
         },
         {
          "font": {
           "color": "#000000"
          },
          "showarrow": false,
          "text": "-0.07",
          "x": "HourlyRate",
          "xref": "x",
          "y": "JobSatisfaction",
          "yref": "y"
         },
         {
          "font": {
           "color": "#000000"
          },
          "showarrow": false,
          "text": "-0.02",
          "x": "JobInvolvement",
          "xref": "x",
          "y": "JobSatisfaction",
          "yref": "y"
         },
         {
          "font": {
           "color": "#000000"
          },
          "showarrow": false,
          "text": "-0.0",
          "x": "JobLevel",
          "xref": "x",
          "y": "JobSatisfaction",
          "yref": "y"
         },
         {
          "font": {
           "color": "#000000"
          },
          "showarrow": false,
          "text": "1.0",
          "x": "JobSatisfaction",
          "xref": "x",
          "y": "JobSatisfaction",
          "yref": "y"
         },
         {
          "font": {
           "color": "#000000"
          },
          "showarrow": false,
          "text": "-0.01",
          "x": "MonthlyIncome",
          "xref": "x",
          "y": "JobSatisfaction",
          "yref": "y"
         },
         {
          "font": {
           "color": "#000000"
          },
          "showarrow": false,
          "text": "0.0",
          "x": "MonthlyRate",
          "xref": "x",
          "y": "JobSatisfaction",
          "yref": "y"
         },
         {
          "font": {
           "color": "#000000"
          },
          "showarrow": false,
          "text": "-0.06",
          "x": "NumCompaniesWorked",
          "xref": "x",
          "y": "JobSatisfaction",
          "yref": "y"
         },
         {
          "font": {
           "color": "#000000"
          },
          "showarrow": false,
          "text": "0.02",
          "x": "PercentSalaryHike",
          "xref": "x",
          "y": "JobSatisfaction",
          "yref": "y"
         },
         {
          "font": {
           "color": "#000000"
          },
          "showarrow": false,
          "text": "0.0",
          "x": "PerformanceRating",
          "xref": "x",
          "y": "JobSatisfaction",
          "yref": "y"
         },
         {
          "font": {
           "color": "#000000"
          },
          "showarrow": false,
          "text": "-0.01",
          "x": "RelationshipSatisfaction",
          "xref": "x",
          "y": "JobSatisfaction",
          "yref": "y"
         },
         {
          "font": {
           "color": "#000000"
          },
          "showarrow": false,
          "text": "nan",
          "x": "StandardHours",
          "xref": "x",
          "y": "JobSatisfaction",
          "yref": "y"
         },
         {
          "font": {
           "color": "#000000"
          },
          "showarrow": false,
          "text": "0.01",
          "x": "StockOptionLevel",
          "xref": "x",
          "y": "JobSatisfaction",
          "yref": "y"
         },
         {
          "font": {
           "color": "#000000"
          },
          "showarrow": false,
          "text": "-0.02",
          "x": "TotalWorkingYears",
          "xref": "x",
          "y": "JobSatisfaction",
          "yref": "y"
         },
         {
          "font": {
           "color": "#000000"
          },
          "showarrow": false,
          "text": "-0.01",
          "x": "TrainingTimesLastYear",
          "xref": "x",
          "y": "JobSatisfaction",
          "yref": "y"
         },
         {
          "font": {
           "color": "#000000"
          },
          "showarrow": false,
          "text": "-0.02",
          "x": "WorkLifeBalance",
          "xref": "x",
          "y": "JobSatisfaction",
          "yref": "y"
         },
         {
          "font": {
           "color": "#000000"
          },
          "showarrow": false,
          "text": "-0.0",
          "x": "YearsAtCompany",
          "xref": "x",
          "y": "JobSatisfaction",
          "yref": "y"
         },
         {
          "font": {
           "color": "#000000"
          },
          "showarrow": false,
          "text": "-0.0",
          "x": "YearsInCurrentRole",
          "xref": "x",
          "y": "JobSatisfaction",
          "yref": "y"
         },
         {
          "font": {
           "color": "#000000"
          },
          "showarrow": false,
          "text": "-0.02",
          "x": "YearsSinceLastPromotion",
          "xref": "x",
          "y": "JobSatisfaction",
          "yref": "y"
         },
         {
          "font": {
           "color": "#000000"
          },
          "showarrow": false,
          "text": "-0.03",
          "x": "YearsWithCurrManager",
          "xref": "x",
          "y": "JobSatisfaction",
          "yref": "y"
         },
         {
          "font": {
           "color": "#000000"
          },
          "showarrow": false,
          "text": "0.5",
          "x": "Age",
          "xref": "x",
          "y": "MonthlyIncome",
          "yref": "y"
         },
         {
          "font": {
           "color": "#000000"
          },
          "showarrow": false,
          "text": "0.01",
          "x": "DailyRate",
          "xref": "x",
          "y": "MonthlyIncome",
          "yref": "y"
         },
         {
          "font": {
           "color": "#000000"
          },
          "showarrow": false,
          "text": "-0.02",
          "x": "DistanceFromHome",
          "xref": "x",
          "y": "MonthlyIncome",
          "yref": "y"
         },
         {
          "font": {
           "color": "#000000"
          },
          "showarrow": false,
          "text": "0.09",
          "x": "Education",
          "xref": "x",
          "y": "MonthlyIncome",
          "yref": "y"
         },
         {
          "font": {
           "color": "#000000"
          },
          "showarrow": false,
          "text": "nan",
          "x": "EmployeeCount",
          "xref": "x",
          "y": "MonthlyIncome",
          "yref": "y"
         },
         {
          "font": {
           "color": "#000000"
          },
          "showarrow": false,
          "text": "-0.01",
          "x": "EmployeeNumber",
          "xref": "x",
          "y": "MonthlyIncome",
          "yref": "y"
         },
         {
          "font": {
           "color": "#000000"
          },
          "showarrow": false,
          "text": "-0.01",
          "x": "EnvironmentSatisfaction",
          "xref": "x",
          "y": "MonthlyIncome",
          "yref": "y"
         },
         {
          "font": {
           "color": "#000000"
          },
          "showarrow": false,
          "text": "-0.02",
          "x": "HourlyRate",
          "xref": "x",
          "y": "MonthlyIncome",
          "yref": "y"
         },
         {
          "font": {
           "color": "#000000"
          },
          "showarrow": false,
          "text": "-0.02",
          "x": "JobInvolvement",
          "xref": "x",
          "y": "MonthlyIncome",
          "yref": "y"
         },
         {
          "font": {
           "color": "#000000"
          },
          "showarrow": false,
          "text": "0.95",
          "x": "JobLevel",
          "xref": "x",
          "y": "MonthlyIncome",
          "yref": "y"
         },
         {
          "font": {
           "color": "#000000"
          },
          "showarrow": false,
          "text": "-0.01",
          "x": "JobSatisfaction",
          "xref": "x",
          "y": "MonthlyIncome",
          "yref": "y"
         },
         {
          "font": {
           "color": "#000000"
          },
          "showarrow": false,
          "text": "1.0",
          "x": "MonthlyIncome",
          "xref": "x",
          "y": "MonthlyIncome",
          "yref": "y"
         },
         {
          "font": {
           "color": "#000000"
          },
          "showarrow": false,
          "text": "0.03",
          "x": "MonthlyRate",
          "xref": "x",
          "y": "MonthlyIncome",
          "yref": "y"
         },
         {
          "font": {
           "color": "#000000"
          },
          "showarrow": false,
          "text": "0.15",
          "x": "NumCompaniesWorked",
          "xref": "x",
          "y": "MonthlyIncome",
          "yref": "y"
         },
         {
          "font": {
           "color": "#000000"
          },
          "showarrow": false,
          "text": "-0.03",
          "x": "PercentSalaryHike",
          "xref": "x",
          "y": "MonthlyIncome",
          "yref": "y"
         },
         {
          "font": {
           "color": "#000000"
          },
          "showarrow": false,
          "text": "-0.02",
          "x": "PerformanceRating",
          "xref": "x",
          "y": "MonthlyIncome",
          "yref": "y"
         },
         {
          "font": {
           "color": "#000000"
          },
          "showarrow": false,
          "text": "0.03",
          "x": "RelationshipSatisfaction",
          "xref": "x",
          "y": "MonthlyIncome",
          "yref": "y"
         },
         {
          "font": {
           "color": "#000000"
          },
          "showarrow": false,
          "text": "nan",
          "x": "StandardHours",
          "xref": "x",
          "y": "MonthlyIncome",
          "yref": "y"
         },
         {
          "font": {
           "color": "#000000"
          },
          "showarrow": false,
          "text": "0.01",
          "x": "StockOptionLevel",
          "xref": "x",
          "y": "MonthlyIncome",
          "yref": "y"
         },
         {
          "font": {
           "color": "#000000"
          },
          "showarrow": false,
          "text": "0.77",
          "x": "TotalWorkingYears",
          "xref": "x",
          "y": "MonthlyIncome",
          "yref": "y"
         },
         {
          "font": {
           "color": "#000000"
          },
          "showarrow": false,
          "text": "-0.02",
          "x": "TrainingTimesLastYear",
          "xref": "x",
          "y": "MonthlyIncome",
          "yref": "y"
         },
         {
          "font": {
           "color": "#000000"
          },
          "showarrow": false,
          "text": "0.03",
          "x": "WorkLifeBalance",
          "xref": "x",
          "y": "MonthlyIncome",
          "yref": "y"
         },
         {
          "font": {
           "color": "#000000"
          },
          "showarrow": false,
          "text": "0.51",
          "x": "YearsAtCompany",
          "xref": "x",
          "y": "MonthlyIncome",
          "yref": "y"
         },
         {
          "font": {
           "color": "#000000"
          },
          "showarrow": false,
          "text": "0.36",
          "x": "YearsInCurrentRole",
          "xref": "x",
          "y": "MonthlyIncome",
          "yref": "y"
         },
         {
          "font": {
           "color": "#000000"
          },
          "showarrow": false,
          "text": "0.34",
          "x": "YearsSinceLastPromotion",
          "xref": "x",
          "y": "MonthlyIncome",
          "yref": "y"
         },
         {
          "font": {
           "color": "#000000"
          },
          "showarrow": false,
          "text": "0.34",
          "x": "YearsWithCurrManager",
          "xref": "x",
          "y": "MonthlyIncome",
          "yref": "y"
         },
         {
          "font": {
           "color": "#000000"
          },
          "showarrow": false,
          "text": "0.03",
          "x": "Age",
          "xref": "x",
          "y": "MonthlyRate",
          "yref": "y"
         },
         {
          "font": {
           "color": "#000000"
          },
          "showarrow": false,
          "text": "-0.03",
          "x": "DailyRate",
          "xref": "x",
          "y": "MonthlyRate",
          "yref": "y"
         },
         {
          "font": {
           "color": "#000000"
          },
          "showarrow": false,
          "text": "0.03",
          "x": "DistanceFromHome",
          "xref": "x",
          "y": "MonthlyRate",
          "yref": "y"
         },
         {
          "font": {
           "color": "#000000"
          },
          "showarrow": false,
          "text": "-0.03",
          "x": "Education",
          "xref": "x",
          "y": "MonthlyRate",
          "yref": "y"
         },
         {
          "font": {
           "color": "#000000"
          },
          "showarrow": false,
          "text": "nan",
          "x": "EmployeeCount",
          "xref": "x",
          "y": "MonthlyRate",
          "yref": "y"
         },
         {
          "font": {
           "color": "#000000"
          },
          "showarrow": false,
          "text": "0.01",
          "x": "EmployeeNumber",
          "xref": "x",
          "y": "MonthlyRate",
          "yref": "y"
         },
         {
          "font": {
           "color": "#000000"
          },
          "showarrow": false,
          "text": "0.04",
          "x": "EnvironmentSatisfaction",
          "xref": "x",
          "y": "MonthlyRate",
          "yref": "y"
         },
         {
          "font": {
           "color": "#000000"
          },
          "showarrow": false,
          "text": "-0.02",
          "x": "HourlyRate",
          "xref": "x",
          "y": "MonthlyRate",
          "yref": "y"
         },
         {
          "font": {
           "color": "#000000"
          },
          "showarrow": false,
          "text": "-0.02",
          "x": "JobInvolvement",
          "xref": "x",
          "y": "MonthlyRate",
          "yref": "y"
         },
         {
          "font": {
           "color": "#000000"
          },
          "showarrow": false,
          "text": "0.04",
          "x": "JobLevel",
          "xref": "x",
          "y": "MonthlyRate",
          "yref": "y"
         },
         {
          "font": {
           "color": "#000000"
          },
          "showarrow": false,
          "text": "0.0",
          "x": "JobSatisfaction",
          "xref": "x",
          "y": "MonthlyRate",
          "yref": "y"
         },
         {
          "font": {
           "color": "#000000"
          },
          "showarrow": false,
          "text": "0.03",
          "x": "MonthlyIncome",
          "xref": "x",
          "y": "MonthlyRate",
          "yref": "y"
         },
         {
          "font": {
           "color": "#000000"
          },
          "showarrow": false,
          "text": "1.0",
          "x": "MonthlyRate",
          "xref": "x",
          "y": "MonthlyRate",
          "yref": "y"
         },
         {
          "font": {
           "color": "#000000"
          },
          "showarrow": false,
          "text": "0.02",
          "x": "NumCompaniesWorked",
          "xref": "x",
          "y": "MonthlyRate",
          "yref": "y"
         },
         {
          "font": {
           "color": "#000000"
          },
          "showarrow": false,
          "text": "-0.01",
          "x": "PercentSalaryHike",
          "xref": "x",
          "y": "MonthlyRate",
          "yref": "y"
         },
         {
          "font": {
           "color": "#000000"
          },
          "showarrow": false,
          "text": "-0.01",
          "x": "PerformanceRating",
          "xref": "x",
          "y": "MonthlyRate",
          "yref": "y"
         },
         {
          "font": {
           "color": "#000000"
          },
          "showarrow": false,
          "text": "-0.0",
          "x": "RelationshipSatisfaction",
          "xref": "x",
          "y": "MonthlyRate",
          "yref": "y"
         },
         {
          "font": {
           "color": "#000000"
          },
          "showarrow": false,
          "text": "nan",
          "x": "StandardHours",
          "xref": "x",
          "y": "MonthlyRate",
          "yref": "y"
         },
         {
          "font": {
           "color": "#000000"
          },
          "showarrow": false,
          "text": "-0.03",
          "x": "StockOptionLevel",
          "xref": "x",
          "y": "MonthlyRate",
          "yref": "y"
         },
         {
          "font": {
           "color": "#000000"
          },
          "showarrow": false,
          "text": "0.03",
          "x": "TotalWorkingYears",
          "xref": "x",
          "y": "MonthlyRate",
          "yref": "y"
         },
         {
          "font": {
           "color": "#000000"
          },
          "showarrow": false,
          "text": "0.0",
          "x": "TrainingTimesLastYear",
          "xref": "x",
          "y": "MonthlyRate",
          "yref": "y"
         },
         {
          "font": {
           "color": "#000000"
          },
          "showarrow": false,
          "text": "0.01",
          "x": "WorkLifeBalance",
          "xref": "x",
          "y": "MonthlyRate",
          "yref": "y"
         },
         {
          "font": {
           "color": "#000000"
          },
          "showarrow": false,
          "text": "-0.02",
          "x": "YearsAtCompany",
          "xref": "x",
          "y": "MonthlyRate",
          "yref": "y"
         },
         {
          "font": {
           "color": "#000000"
          },
          "showarrow": false,
          "text": "-0.01",
          "x": "YearsInCurrentRole",
          "xref": "x",
          "y": "MonthlyRate",
          "yref": "y"
         },
         {
          "font": {
           "color": "#000000"
          },
          "showarrow": false,
          "text": "0.0",
          "x": "YearsSinceLastPromotion",
          "xref": "x",
          "y": "MonthlyRate",
          "yref": "y"
         },
         {
          "font": {
           "color": "#000000"
          },
          "showarrow": false,
          "text": "-0.04",
          "x": "YearsWithCurrManager",
          "xref": "x",
          "y": "MonthlyRate",
          "yref": "y"
         },
         {
          "font": {
           "color": "#000000"
          },
          "showarrow": false,
          "text": "0.3",
          "x": "Age",
          "xref": "x",
          "y": "NumCompaniesWorked",
          "yref": "y"
         },
         {
          "font": {
           "color": "#000000"
          },
          "showarrow": false,
          "text": "0.04",
          "x": "DailyRate",
          "xref": "x",
          "y": "NumCompaniesWorked",
          "yref": "y"
         },
         {
          "font": {
           "color": "#000000"
          },
          "showarrow": false,
          "text": "-0.03",
          "x": "DistanceFromHome",
          "xref": "x",
          "y": "NumCompaniesWorked",
          "yref": "y"
         },
         {
          "font": {
           "color": "#000000"
          },
          "showarrow": false,
          "text": "0.13",
          "x": "Education",
          "xref": "x",
          "y": "NumCompaniesWorked",
          "yref": "y"
         },
         {
          "font": {
           "color": "#000000"
          },
          "showarrow": false,
          "text": "nan",
          "x": "EmployeeCount",
          "xref": "x",
          "y": "NumCompaniesWorked",
          "yref": "y"
         },
         {
          "font": {
           "color": "#000000"
          },
          "showarrow": false,
          "text": "-0.0",
          "x": "EmployeeNumber",
          "xref": "x",
          "y": "NumCompaniesWorked",
          "yref": "y"
         },
         {
          "font": {
           "color": "#000000"
          },
          "showarrow": false,
          "text": "0.01",
          "x": "EnvironmentSatisfaction",
          "xref": "x",
          "y": "NumCompaniesWorked",
          "yref": "y"
         },
         {
          "font": {
           "color": "#000000"
          },
          "showarrow": false,
          "text": "0.02",
          "x": "HourlyRate",
          "xref": "x",
          "y": "NumCompaniesWorked",
          "yref": "y"
         },
         {
          "font": {
           "color": "#000000"
          },
          "showarrow": false,
          "text": "0.02",
          "x": "JobInvolvement",
          "xref": "x",
          "y": "NumCompaniesWorked",
          "yref": "y"
         },
         {
          "font": {
           "color": "#000000"
          },
          "showarrow": false,
          "text": "0.14",
          "x": "JobLevel",
          "xref": "x",
          "y": "NumCompaniesWorked",
          "yref": "y"
         },
         {
          "font": {
           "color": "#000000"
          },
          "showarrow": false,
          "text": "-0.06",
          "x": "JobSatisfaction",
          "xref": "x",
          "y": "NumCompaniesWorked",
          "yref": "y"
         },
         {
          "font": {
           "color": "#000000"
          },
          "showarrow": false,
          "text": "0.15",
          "x": "MonthlyIncome",
          "xref": "x",
          "y": "NumCompaniesWorked",
          "yref": "y"
         },
         {
          "font": {
           "color": "#000000"
          },
          "showarrow": false,
          "text": "0.02",
          "x": "MonthlyRate",
          "xref": "x",
          "y": "NumCompaniesWorked",
          "yref": "y"
         },
         {
          "font": {
           "color": "#000000"
          },
          "showarrow": false,
          "text": "1.0",
          "x": "NumCompaniesWorked",
          "xref": "x",
          "y": "NumCompaniesWorked",
          "yref": "y"
         },
         {
          "font": {
           "color": "#000000"
          },
          "showarrow": false,
          "text": "-0.01",
          "x": "PercentSalaryHike",
          "xref": "x",
          "y": "NumCompaniesWorked",
          "yref": "y"
         },
         {
          "font": {
           "color": "#000000"
          },
          "showarrow": false,
          "text": "-0.01",
          "x": "PerformanceRating",
          "xref": "x",
          "y": "NumCompaniesWorked",
          "yref": "y"
         },
         {
          "font": {
           "color": "#000000"
          },
          "showarrow": false,
          "text": "0.05",
          "x": "RelationshipSatisfaction",
          "xref": "x",
          "y": "NumCompaniesWorked",
          "yref": "y"
         },
         {
          "font": {
           "color": "#000000"
          },
          "showarrow": false,
          "text": "nan",
          "x": "StandardHours",
          "xref": "x",
          "y": "NumCompaniesWorked",
          "yref": "y"
         },
         {
          "font": {
           "color": "#000000"
          },
          "showarrow": false,
          "text": "0.03",
          "x": "StockOptionLevel",
          "xref": "x",
          "y": "NumCompaniesWorked",
          "yref": "y"
         },
         {
          "font": {
           "color": "#000000"
          },
          "showarrow": false,
          "text": "0.24",
          "x": "TotalWorkingYears",
          "xref": "x",
          "y": "NumCompaniesWorked",
          "yref": "y"
         },
         {
          "font": {
           "color": "#000000"
          },
          "showarrow": false,
          "text": "-0.07",
          "x": "TrainingTimesLastYear",
          "xref": "x",
          "y": "NumCompaniesWorked",
          "yref": "y"
         },
         {
          "font": {
           "color": "#000000"
          },
          "showarrow": false,
          "text": "-0.01",
          "x": "WorkLifeBalance",
          "xref": "x",
          "y": "NumCompaniesWorked",
          "yref": "y"
         },
         {
          "font": {
           "color": "#000000"
          },
          "showarrow": false,
          "text": "-0.12",
          "x": "YearsAtCompany",
          "xref": "x",
          "y": "NumCompaniesWorked",
          "yref": "y"
         },
         {
          "font": {
           "color": "#000000"
          },
          "showarrow": false,
          "text": "-0.09",
          "x": "YearsInCurrentRole",
          "xref": "x",
          "y": "NumCompaniesWorked",
          "yref": "y"
         },
         {
          "font": {
           "color": "#000000"
          },
          "showarrow": false,
          "text": "-0.04",
          "x": "YearsSinceLastPromotion",
          "xref": "x",
          "y": "NumCompaniesWorked",
          "yref": "y"
         },
         {
          "font": {
           "color": "#000000"
          },
          "showarrow": false,
          "text": "-0.11",
          "x": "YearsWithCurrManager",
          "xref": "x",
          "y": "NumCompaniesWorked",
          "yref": "y"
         },
         {
          "font": {
           "color": "#000000"
          },
          "showarrow": false,
          "text": "0.0",
          "x": "Age",
          "xref": "x",
          "y": "PercentSalaryHike",
          "yref": "y"
         },
         {
          "font": {
           "color": "#000000"
          },
          "showarrow": false,
          "text": "0.02",
          "x": "DailyRate",
          "xref": "x",
          "y": "PercentSalaryHike",
          "yref": "y"
         },
         {
          "font": {
           "color": "#000000"
          },
          "showarrow": false,
          "text": "0.04",
          "x": "DistanceFromHome",
          "xref": "x",
          "y": "PercentSalaryHike",
          "yref": "y"
         },
         {
          "font": {
           "color": "#000000"
          },
          "showarrow": false,
          "text": "-0.01",
          "x": "Education",
          "xref": "x",
          "y": "PercentSalaryHike",
          "yref": "y"
         },
         {
          "font": {
           "color": "#000000"
          },
          "showarrow": false,
          "text": "nan",
          "x": "EmployeeCount",
          "xref": "x",
          "y": "PercentSalaryHike",
          "yref": "y"
         },
         {
          "font": {
           "color": "#000000"
          },
          "showarrow": false,
          "text": "-0.01",
          "x": "EmployeeNumber",
          "xref": "x",
          "y": "PercentSalaryHike",
          "yref": "y"
         },
         {
          "font": {
           "color": "#000000"
          },
          "showarrow": false,
          "text": "-0.03",
          "x": "EnvironmentSatisfaction",
          "xref": "x",
          "y": "PercentSalaryHike",
          "yref": "y"
         },
         {
          "font": {
           "color": "#000000"
          },
          "showarrow": false,
          "text": "-0.01",
          "x": "HourlyRate",
          "xref": "x",
          "y": "PercentSalaryHike",
          "yref": "y"
         },
         {
          "font": {
           "color": "#000000"
          },
          "showarrow": false,
          "text": "-0.02",
          "x": "JobInvolvement",
          "xref": "x",
          "y": "PercentSalaryHike",
          "yref": "y"
         },
         {
          "font": {
           "color": "#000000"
          },
          "showarrow": false,
          "text": "-0.03",
          "x": "JobLevel",
          "xref": "x",
          "y": "PercentSalaryHike",
          "yref": "y"
         },
         {
          "font": {
           "color": "#000000"
          },
          "showarrow": false,
          "text": "0.02",
          "x": "JobSatisfaction",
          "xref": "x",
          "y": "PercentSalaryHike",
          "yref": "y"
         },
         {
          "font": {
           "color": "#000000"
          },
          "showarrow": false,
          "text": "-0.03",
          "x": "MonthlyIncome",
          "xref": "x",
          "y": "PercentSalaryHike",
          "yref": "y"
         },
         {
          "font": {
           "color": "#000000"
          },
          "showarrow": false,
          "text": "-0.01",
          "x": "MonthlyRate",
          "xref": "x",
          "y": "PercentSalaryHike",
          "yref": "y"
         },
         {
          "font": {
           "color": "#000000"
          },
          "showarrow": false,
          "text": "-0.01",
          "x": "NumCompaniesWorked",
          "xref": "x",
          "y": "PercentSalaryHike",
          "yref": "y"
         },
         {
          "font": {
           "color": "#000000"
          },
          "showarrow": false,
          "text": "1.0",
          "x": "PercentSalaryHike",
          "xref": "x",
          "y": "PercentSalaryHike",
          "yref": "y"
         },
         {
          "font": {
           "color": "#000000"
          },
          "showarrow": false,
          "text": "0.77",
          "x": "PerformanceRating",
          "xref": "x",
          "y": "PercentSalaryHike",
          "yref": "y"
         },
         {
          "font": {
           "color": "#000000"
          },
          "showarrow": false,
          "text": "-0.04",
          "x": "RelationshipSatisfaction",
          "xref": "x",
          "y": "PercentSalaryHike",
          "yref": "y"
         },
         {
          "font": {
           "color": "#000000"
          },
          "showarrow": false,
          "text": "nan",
          "x": "StandardHours",
          "xref": "x",
          "y": "PercentSalaryHike",
          "yref": "y"
         },
         {
          "font": {
           "color": "#000000"
          },
          "showarrow": false,
          "text": "0.01",
          "x": "StockOptionLevel",
          "xref": "x",
          "y": "PercentSalaryHike",
          "yref": "y"
         },
         {
          "font": {
           "color": "#000000"
          },
          "showarrow": false,
          "text": "-0.02",
          "x": "TotalWorkingYears",
          "xref": "x",
          "y": "PercentSalaryHike",
          "yref": "y"
         },
         {
          "font": {
           "color": "#000000"
          },
          "showarrow": false,
          "text": "-0.01",
          "x": "TrainingTimesLastYear",
          "xref": "x",
          "y": "PercentSalaryHike",
          "yref": "y"
         },
         {
          "font": {
           "color": "#000000"
          },
          "showarrow": false,
          "text": "-0.0",
          "x": "WorkLifeBalance",
          "xref": "x",
          "y": "PercentSalaryHike",
          "yref": "y"
         },
         {
          "font": {
           "color": "#000000"
          },
          "showarrow": false,
          "text": "-0.04",
          "x": "YearsAtCompany",
          "xref": "x",
          "y": "PercentSalaryHike",
          "yref": "y"
         },
         {
          "font": {
           "color": "#000000"
          },
          "showarrow": false,
          "text": "-0.0",
          "x": "YearsInCurrentRole",
          "xref": "x",
          "y": "PercentSalaryHike",
          "yref": "y"
         },
         {
          "font": {
           "color": "#000000"
          },
          "showarrow": false,
          "text": "-0.02",
          "x": "YearsSinceLastPromotion",
          "xref": "x",
          "y": "PercentSalaryHike",
          "yref": "y"
         },
         {
          "font": {
           "color": "#000000"
          },
          "showarrow": false,
          "text": "-0.01",
          "x": "YearsWithCurrManager",
          "xref": "x",
          "y": "PercentSalaryHike",
          "yref": "y"
         },
         {
          "font": {
           "color": "#000000"
          },
          "showarrow": false,
          "text": "0.0",
          "x": "Age",
          "xref": "x",
          "y": "PerformanceRating",
          "yref": "y"
         },
         {
          "font": {
           "color": "#000000"
          },
          "showarrow": false,
          "text": "0.0",
          "x": "DailyRate",
          "xref": "x",
          "y": "PerformanceRating",
          "yref": "y"
         },
         {
          "font": {
           "color": "#000000"
          },
          "showarrow": false,
          "text": "0.03",
          "x": "DistanceFromHome",
          "xref": "x",
          "y": "PerformanceRating",
          "yref": "y"
         },
         {
          "font": {
           "color": "#000000"
          },
          "showarrow": false,
          "text": "-0.02",
          "x": "Education",
          "xref": "x",
          "y": "PerformanceRating",
          "yref": "y"
         },
         {
          "font": {
           "color": "#000000"
          },
          "showarrow": false,
          "text": "nan",
          "x": "EmployeeCount",
          "xref": "x",
          "y": "PerformanceRating",
          "yref": "y"
         },
         {
          "font": {
           "color": "#000000"
          },
          "showarrow": false,
          "text": "-0.02",
          "x": "EmployeeNumber",
          "xref": "x",
          "y": "PerformanceRating",
          "yref": "y"
         },
         {
          "font": {
           "color": "#000000"
          },
          "showarrow": false,
          "text": "-0.03",
          "x": "EnvironmentSatisfaction",
          "xref": "x",
          "y": "PerformanceRating",
          "yref": "y"
         },
         {
          "font": {
           "color": "#000000"
          },
          "showarrow": false,
          "text": "-0.0",
          "x": "HourlyRate",
          "xref": "x",
          "y": "PerformanceRating",
          "yref": "y"
         },
         {
          "font": {
           "color": "#000000"
          },
          "showarrow": false,
          "text": "-0.03",
          "x": "JobInvolvement",
          "xref": "x",
          "y": "PerformanceRating",
          "yref": "y"
         },
         {
          "font": {
           "color": "#000000"
          },
          "showarrow": false,
          "text": "-0.02",
          "x": "JobLevel",
          "xref": "x",
          "y": "PerformanceRating",
          "yref": "y"
         },
         {
          "font": {
           "color": "#000000"
          },
          "showarrow": false,
          "text": "0.0",
          "x": "JobSatisfaction",
          "xref": "x",
          "y": "PerformanceRating",
          "yref": "y"
         },
         {
          "font": {
           "color": "#000000"
          },
          "showarrow": false,
          "text": "-0.02",
          "x": "MonthlyIncome",
          "xref": "x",
          "y": "PerformanceRating",
          "yref": "y"
         },
         {
          "font": {
           "color": "#000000"
          },
          "showarrow": false,
          "text": "-0.01",
          "x": "MonthlyRate",
          "xref": "x",
          "y": "PerformanceRating",
          "yref": "y"
         },
         {
          "font": {
           "color": "#000000"
          },
          "showarrow": false,
          "text": "-0.01",
          "x": "NumCompaniesWorked",
          "xref": "x",
          "y": "PerformanceRating",
          "yref": "y"
         },
         {
          "font": {
           "color": "#000000"
          },
          "showarrow": false,
          "text": "0.77",
          "x": "PercentSalaryHike",
          "xref": "x",
          "y": "PerformanceRating",
          "yref": "y"
         },
         {
          "font": {
           "color": "#000000"
          },
          "showarrow": false,
          "text": "1.0",
          "x": "PerformanceRating",
          "xref": "x",
          "y": "PerformanceRating",
          "yref": "y"
         },
         {
          "font": {
           "color": "#000000"
          },
          "showarrow": false,
          "text": "-0.03",
          "x": "RelationshipSatisfaction",
          "xref": "x",
          "y": "PerformanceRating",
          "yref": "y"
         },
         {
          "font": {
           "color": "#000000"
          },
          "showarrow": false,
          "text": "nan",
          "x": "StandardHours",
          "xref": "x",
          "y": "PerformanceRating",
          "yref": "y"
         },
         {
          "font": {
           "color": "#000000"
          },
          "showarrow": false,
          "text": "0.0",
          "x": "StockOptionLevel",
          "xref": "x",
          "y": "PerformanceRating",
          "yref": "y"
         },
         {
          "font": {
           "color": "#000000"
          },
          "showarrow": false,
          "text": "0.01",
          "x": "TotalWorkingYears",
          "xref": "x",
          "y": "PerformanceRating",
          "yref": "y"
         },
         {
          "font": {
           "color": "#000000"
          },
          "showarrow": false,
          "text": "-0.02",
          "x": "TrainingTimesLastYear",
          "xref": "x",
          "y": "PerformanceRating",
          "yref": "y"
         },
         {
          "font": {
           "color": "#000000"
          },
          "showarrow": false,
          "text": "0.0",
          "x": "WorkLifeBalance",
          "xref": "x",
          "y": "PerformanceRating",
          "yref": "y"
         },
         {
          "font": {
           "color": "#000000"
          },
          "showarrow": false,
          "text": "0.0",
          "x": "YearsAtCompany",
          "xref": "x",
          "y": "PerformanceRating",
          "yref": "y"
         },
         {
          "font": {
           "color": "#000000"
          },
          "showarrow": false,
          "text": "0.03",
          "x": "YearsInCurrentRole",
          "xref": "x",
          "y": "PerformanceRating",
          "yref": "y"
         },
         {
          "font": {
           "color": "#000000"
          },
          "showarrow": false,
          "text": "0.02",
          "x": "YearsSinceLastPromotion",
          "xref": "x",
          "y": "PerformanceRating",
          "yref": "y"
         },
         {
          "font": {
           "color": "#000000"
          },
          "showarrow": false,
          "text": "0.02",
          "x": "YearsWithCurrManager",
          "xref": "x",
          "y": "PerformanceRating",
          "yref": "y"
         },
         {
          "font": {
           "color": "#000000"
          },
          "showarrow": false,
          "text": "0.05",
          "x": "Age",
          "xref": "x",
          "y": "RelationshipSatisfaction",
          "yref": "y"
         },
         {
          "font": {
           "color": "#000000"
          },
          "showarrow": false,
          "text": "0.01",
          "x": "DailyRate",
          "xref": "x",
          "y": "RelationshipSatisfaction",
          "yref": "y"
         },
         {
          "font": {
           "color": "#000000"
          },
          "showarrow": false,
          "text": "0.01",
          "x": "DistanceFromHome",
          "xref": "x",
          "y": "RelationshipSatisfaction",
          "yref": "y"
         },
         {
          "font": {
           "color": "#000000"
          },
          "showarrow": false,
          "text": "-0.01",
          "x": "Education",
          "xref": "x",
          "y": "RelationshipSatisfaction",
          "yref": "y"
         },
         {
          "font": {
           "color": "#000000"
          },
          "showarrow": false,
          "text": "nan",
          "x": "EmployeeCount",
          "xref": "x",
          "y": "RelationshipSatisfaction",
          "yref": "y"
         },
         {
          "font": {
           "color": "#000000"
          },
          "showarrow": false,
          "text": "-0.07",
          "x": "EmployeeNumber",
          "xref": "x",
          "y": "RelationshipSatisfaction",
          "yref": "y"
         },
         {
          "font": {
           "color": "#000000"
          },
          "showarrow": false,
          "text": "0.01",
          "x": "EnvironmentSatisfaction",
          "xref": "x",
          "y": "RelationshipSatisfaction",
          "yref": "y"
         },
         {
          "font": {
           "color": "#000000"
          },
          "showarrow": false,
          "text": "0.0",
          "x": "HourlyRate",
          "xref": "x",
          "y": "RelationshipSatisfaction",
          "yref": "y"
         },
         {
          "font": {
           "color": "#000000"
          },
          "showarrow": false,
          "text": "0.03",
          "x": "JobInvolvement",
          "xref": "x",
          "y": "RelationshipSatisfaction",
          "yref": "y"
         },
         {
          "font": {
           "color": "#000000"
          },
          "showarrow": false,
          "text": "0.02",
          "x": "JobLevel",
          "xref": "x",
          "y": "RelationshipSatisfaction",
          "yref": "y"
         },
         {
          "font": {
           "color": "#000000"
          },
          "showarrow": false,
          "text": "-0.01",
          "x": "JobSatisfaction",
          "xref": "x",
          "y": "RelationshipSatisfaction",
          "yref": "y"
         },
         {
          "font": {
           "color": "#000000"
          },
          "showarrow": false,
          "text": "0.03",
          "x": "MonthlyIncome",
          "xref": "x",
          "y": "RelationshipSatisfaction",
          "yref": "y"
         },
         {
          "font": {
           "color": "#000000"
          },
          "showarrow": false,
          "text": "-0.0",
          "x": "MonthlyRate",
          "xref": "x",
          "y": "RelationshipSatisfaction",
          "yref": "y"
         },
         {
          "font": {
           "color": "#000000"
          },
          "showarrow": false,
          "text": "0.05",
          "x": "NumCompaniesWorked",
          "xref": "x",
          "y": "RelationshipSatisfaction",
          "yref": "y"
         },
         {
          "font": {
           "color": "#000000"
          },
          "showarrow": false,
          "text": "-0.04",
          "x": "PercentSalaryHike",
          "xref": "x",
          "y": "RelationshipSatisfaction",
          "yref": "y"
         },
         {
          "font": {
           "color": "#000000"
          },
          "showarrow": false,
          "text": "-0.03",
          "x": "PerformanceRating",
          "xref": "x",
          "y": "RelationshipSatisfaction",
          "yref": "y"
         },
         {
          "font": {
           "color": "#000000"
          },
          "showarrow": false,
          "text": "1.0",
          "x": "RelationshipSatisfaction",
          "xref": "x",
          "y": "RelationshipSatisfaction",
          "yref": "y"
         },
         {
          "font": {
           "color": "#000000"
          },
          "showarrow": false,
          "text": "nan",
          "x": "StandardHours",
          "xref": "x",
          "y": "RelationshipSatisfaction",
          "yref": "y"
         },
         {
          "font": {
           "color": "#000000"
          },
          "showarrow": false,
          "text": "-0.05",
          "x": "StockOptionLevel",
          "xref": "x",
          "y": "RelationshipSatisfaction",
          "yref": "y"
         },
         {
          "font": {
           "color": "#000000"
          },
          "showarrow": false,
          "text": "0.02",
          "x": "TotalWorkingYears",
          "xref": "x",
          "y": "RelationshipSatisfaction",
          "yref": "y"
         },
         {
          "font": {
           "color": "#000000"
          },
          "showarrow": false,
          "text": "0.0",
          "x": "TrainingTimesLastYear",
          "xref": "x",
          "y": "RelationshipSatisfaction",
          "yref": "y"
         },
         {
          "font": {
           "color": "#000000"
          },
          "showarrow": false,
          "text": "0.02",
          "x": "WorkLifeBalance",
          "xref": "x",
          "y": "RelationshipSatisfaction",
          "yref": "y"
         },
         {
          "font": {
           "color": "#000000"
          },
          "showarrow": false,
          "text": "0.02",
          "x": "YearsAtCompany",
          "xref": "x",
          "y": "RelationshipSatisfaction",
          "yref": "y"
         },
         {
          "font": {
           "color": "#000000"
          },
          "showarrow": false,
          "text": "-0.02",
          "x": "YearsInCurrentRole",
          "xref": "x",
          "y": "RelationshipSatisfaction",
          "yref": "y"
         },
         {
          "font": {
           "color": "#000000"
          },
          "showarrow": false,
          "text": "0.03",
          "x": "YearsSinceLastPromotion",
          "xref": "x",
          "y": "RelationshipSatisfaction",
          "yref": "y"
         },
         {
          "font": {
           "color": "#000000"
          },
          "showarrow": false,
          "text": "-0.0",
          "x": "YearsWithCurrManager",
          "xref": "x",
          "y": "RelationshipSatisfaction",
          "yref": "y"
         },
         {
          "font": {
           "color": "#000000"
          },
          "showarrow": false,
          "text": "nan",
          "x": "Age",
          "xref": "x",
          "y": "StandardHours",
          "yref": "y"
         },
         {
          "font": {
           "color": "#000000"
          },
          "showarrow": false,
          "text": "nan",
          "x": "DailyRate",
          "xref": "x",
          "y": "StandardHours",
          "yref": "y"
         },
         {
          "font": {
           "color": "#000000"
          },
          "showarrow": false,
          "text": "nan",
          "x": "DistanceFromHome",
          "xref": "x",
          "y": "StandardHours",
          "yref": "y"
         },
         {
          "font": {
           "color": "#000000"
          },
          "showarrow": false,
          "text": "nan",
          "x": "Education",
          "xref": "x",
          "y": "StandardHours",
          "yref": "y"
         },
         {
          "font": {
           "color": "#000000"
          },
          "showarrow": false,
          "text": "nan",
          "x": "EmployeeCount",
          "xref": "x",
          "y": "StandardHours",
          "yref": "y"
         },
         {
          "font": {
           "color": "#000000"
          },
          "showarrow": false,
          "text": "nan",
          "x": "EmployeeNumber",
          "xref": "x",
          "y": "StandardHours",
          "yref": "y"
         },
         {
          "font": {
           "color": "#000000"
          },
          "showarrow": false,
          "text": "nan",
          "x": "EnvironmentSatisfaction",
          "xref": "x",
          "y": "StandardHours",
          "yref": "y"
         },
         {
          "font": {
           "color": "#000000"
          },
          "showarrow": false,
          "text": "nan",
          "x": "HourlyRate",
          "xref": "x",
          "y": "StandardHours",
          "yref": "y"
         },
         {
          "font": {
           "color": "#000000"
          },
          "showarrow": false,
          "text": "nan",
          "x": "JobInvolvement",
          "xref": "x",
          "y": "StandardHours",
          "yref": "y"
         },
         {
          "font": {
           "color": "#000000"
          },
          "showarrow": false,
          "text": "nan",
          "x": "JobLevel",
          "xref": "x",
          "y": "StandardHours",
          "yref": "y"
         },
         {
          "font": {
           "color": "#000000"
          },
          "showarrow": false,
          "text": "nan",
          "x": "JobSatisfaction",
          "xref": "x",
          "y": "StandardHours",
          "yref": "y"
         },
         {
          "font": {
           "color": "#000000"
          },
          "showarrow": false,
          "text": "nan",
          "x": "MonthlyIncome",
          "xref": "x",
          "y": "StandardHours",
          "yref": "y"
         },
         {
          "font": {
           "color": "#000000"
          },
          "showarrow": false,
          "text": "nan",
          "x": "MonthlyRate",
          "xref": "x",
          "y": "StandardHours",
          "yref": "y"
         },
         {
          "font": {
           "color": "#000000"
          },
          "showarrow": false,
          "text": "nan",
          "x": "NumCompaniesWorked",
          "xref": "x",
          "y": "StandardHours",
          "yref": "y"
         },
         {
          "font": {
           "color": "#000000"
          },
          "showarrow": false,
          "text": "nan",
          "x": "PercentSalaryHike",
          "xref": "x",
          "y": "StandardHours",
          "yref": "y"
         },
         {
          "font": {
           "color": "#000000"
          },
          "showarrow": false,
          "text": "nan",
          "x": "PerformanceRating",
          "xref": "x",
          "y": "StandardHours",
          "yref": "y"
         },
         {
          "font": {
           "color": "#000000"
          },
          "showarrow": false,
          "text": "nan",
          "x": "RelationshipSatisfaction",
          "xref": "x",
          "y": "StandardHours",
          "yref": "y"
         },
         {
          "font": {
           "color": "#000000"
          },
          "showarrow": false,
          "text": "nan",
          "x": "StandardHours",
          "xref": "x",
          "y": "StandardHours",
          "yref": "y"
         },
         {
          "font": {
           "color": "#000000"
          },
          "showarrow": false,
          "text": "nan",
          "x": "StockOptionLevel",
          "xref": "x",
          "y": "StandardHours",
          "yref": "y"
         },
         {
          "font": {
           "color": "#000000"
          },
          "showarrow": false,
          "text": "nan",
          "x": "TotalWorkingYears",
          "xref": "x",
          "y": "StandardHours",
          "yref": "y"
         },
         {
          "font": {
           "color": "#000000"
          },
          "showarrow": false,
          "text": "nan",
          "x": "TrainingTimesLastYear",
          "xref": "x",
          "y": "StandardHours",
          "yref": "y"
         },
         {
          "font": {
           "color": "#000000"
          },
          "showarrow": false,
          "text": "nan",
          "x": "WorkLifeBalance",
          "xref": "x",
          "y": "StandardHours",
          "yref": "y"
         },
         {
          "font": {
           "color": "#000000"
          },
          "showarrow": false,
          "text": "nan",
          "x": "YearsAtCompany",
          "xref": "x",
          "y": "StandardHours",
          "yref": "y"
         },
         {
          "font": {
           "color": "#000000"
          },
          "showarrow": false,
          "text": "nan",
          "x": "YearsInCurrentRole",
          "xref": "x",
          "y": "StandardHours",
          "yref": "y"
         },
         {
          "font": {
           "color": "#000000"
          },
          "showarrow": false,
          "text": "nan",
          "x": "YearsSinceLastPromotion",
          "xref": "x",
          "y": "StandardHours",
          "yref": "y"
         },
         {
          "font": {
           "color": "#000000"
          },
          "showarrow": false,
          "text": "nan",
          "x": "YearsWithCurrManager",
          "xref": "x",
          "y": "StandardHours",
          "yref": "y"
         },
         {
          "font": {
           "color": "#000000"
          },
          "showarrow": false,
          "text": "0.04",
          "x": "Age",
          "xref": "x",
          "y": "StockOptionLevel",
          "yref": "y"
         },
         {
          "font": {
           "color": "#000000"
          },
          "showarrow": false,
          "text": "0.04",
          "x": "DailyRate",
          "xref": "x",
          "y": "StockOptionLevel",
          "yref": "y"
         },
         {
          "font": {
           "color": "#000000"
          },
          "showarrow": false,
          "text": "0.04",
          "x": "DistanceFromHome",
          "xref": "x",
          "y": "StockOptionLevel",
          "yref": "y"
         },
         {
          "font": {
           "color": "#000000"
          },
          "showarrow": false,
          "text": "0.02",
          "x": "Education",
          "xref": "x",
          "y": "StockOptionLevel",
          "yref": "y"
         },
         {
          "font": {
           "color": "#000000"
          },
          "showarrow": false,
          "text": "nan",
          "x": "EmployeeCount",
          "xref": "x",
          "y": "StockOptionLevel",
          "yref": "y"
         },
         {
          "font": {
           "color": "#000000"
          },
          "showarrow": false,
          "text": "0.06",
          "x": "EmployeeNumber",
          "xref": "x",
          "y": "StockOptionLevel",
          "yref": "y"
         },
         {
          "font": {
           "color": "#000000"
          },
          "showarrow": false,
          "text": "0.0",
          "x": "EnvironmentSatisfaction",
          "xref": "x",
          "y": "StockOptionLevel",
          "yref": "y"
         },
         {
          "font": {
           "color": "#000000"
          },
          "showarrow": false,
          "text": "0.05",
          "x": "HourlyRate",
          "xref": "x",
          "y": "StockOptionLevel",
          "yref": "y"
         },
         {
          "font": {
           "color": "#000000"
          },
          "showarrow": false,
          "text": "0.02",
          "x": "JobInvolvement",
          "xref": "x",
          "y": "StockOptionLevel",
          "yref": "y"
         },
         {
          "font": {
           "color": "#000000"
          },
          "showarrow": false,
          "text": "0.01",
          "x": "JobLevel",
          "xref": "x",
          "y": "StockOptionLevel",
          "yref": "y"
         },
         {
          "font": {
           "color": "#000000"
          },
          "showarrow": false,
          "text": "0.01",
          "x": "JobSatisfaction",
          "xref": "x",
          "y": "StockOptionLevel",
          "yref": "y"
         },
         {
          "font": {
           "color": "#000000"
          },
          "showarrow": false,
          "text": "0.01",
          "x": "MonthlyIncome",
          "xref": "x",
          "y": "StockOptionLevel",
          "yref": "y"
         },
         {
          "font": {
           "color": "#000000"
          },
          "showarrow": false,
          "text": "-0.03",
          "x": "MonthlyRate",
          "xref": "x",
          "y": "StockOptionLevel",
          "yref": "y"
         },
         {
          "font": {
           "color": "#000000"
          },
          "showarrow": false,
          "text": "0.03",
          "x": "NumCompaniesWorked",
          "xref": "x",
          "y": "StockOptionLevel",
          "yref": "y"
         },
         {
          "font": {
           "color": "#000000"
          },
          "showarrow": false,
          "text": "0.01",
          "x": "PercentSalaryHike",
          "xref": "x",
          "y": "StockOptionLevel",
          "yref": "y"
         },
         {
          "font": {
           "color": "#000000"
          },
          "showarrow": false,
          "text": "0.0",
          "x": "PerformanceRating",
          "xref": "x",
          "y": "StockOptionLevel",
          "yref": "y"
         },
         {
          "font": {
           "color": "#000000"
          },
          "showarrow": false,
          "text": "-0.05",
          "x": "RelationshipSatisfaction",
          "xref": "x",
          "y": "StockOptionLevel",
          "yref": "y"
         },
         {
          "font": {
           "color": "#000000"
          },
          "showarrow": false,
          "text": "nan",
          "x": "StandardHours",
          "xref": "x",
          "y": "StockOptionLevel",
          "yref": "y"
         },
         {
          "font": {
           "color": "#000000"
          },
          "showarrow": false,
          "text": "1.0",
          "x": "StockOptionLevel",
          "xref": "x",
          "y": "StockOptionLevel",
          "yref": "y"
         },
         {
          "font": {
           "color": "#000000"
          },
          "showarrow": false,
          "text": "0.01",
          "x": "TotalWorkingYears",
          "xref": "x",
          "y": "StockOptionLevel",
          "yref": "y"
         },
         {
          "font": {
           "color": "#000000"
          },
          "showarrow": false,
          "text": "0.01",
          "x": "TrainingTimesLastYear",
          "xref": "x",
          "y": "StockOptionLevel",
          "yref": "y"
         },
         {
          "font": {
           "color": "#000000"
          },
          "showarrow": false,
          "text": "0.0",
          "x": "WorkLifeBalance",
          "xref": "x",
          "y": "StockOptionLevel",
          "yref": "y"
         },
         {
          "font": {
           "color": "#000000"
          },
          "showarrow": false,
          "text": "0.02",
          "x": "YearsAtCompany",
          "xref": "x",
          "y": "StockOptionLevel",
          "yref": "y"
         },
         {
          "font": {
           "color": "#000000"
          },
          "showarrow": false,
          "text": "0.05",
          "x": "YearsInCurrentRole",
          "xref": "x",
          "y": "StockOptionLevel",
          "yref": "y"
         },
         {
          "font": {
           "color": "#000000"
          },
          "showarrow": false,
          "text": "0.01",
          "x": "YearsSinceLastPromotion",
          "xref": "x",
          "y": "StockOptionLevel",
          "yref": "y"
         },
         {
          "font": {
           "color": "#000000"
          },
          "showarrow": false,
          "text": "0.02",
          "x": "YearsWithCurrManager",
          "xref": "x",
          "y": "StockOptionLevel",
          "yref": "y"
         },
         {
          "font": {
           "color": "#000000"
          },
          "showarrow": false,
          "text": "0.68",
          "x": "Age",
          "xref": "x",
          "y": "TotalWorkingYears",
          "yref": "y"
         },
         {
          "font": {
           "color": "#000000"
          },
          "showarrow": false,
          "text": "0.01",
          "x": "DailyRate",
          "xref": "x",
          "y": "TotalWorkingYears",
          "yref": "y"
         },
         {
          "font": {
           "color": "#000000"
          },
          "showarrow": false,
          "text": "0.0",
          "x": "DistanceFromHome",
          "xref": "x",
          "y": "TotalWorkingYears",
          "yref": "y"
         },
         {
          "font": {
           "color": "#000000"
          },
          "showarrow": false,
          "text": "0.15",
          "x": "Education",
          "xref": "x",
          "y": "TotalWorkingYears",
          "yref": "y"
         },
         {
          "font": {
           "color": "#000000"
          },
          "showarrow": false,
          "text": "nan",
          "x": "EmployeeCount",
          "xref": "x",
          "y": "TotalWorkingYears",
          "yref": "y"
         },
         {
          "font": {
           "color": "#000000"
          },
          "showarrow": false,
          "text": "-0.01",
          "x": "EmployeeNumber",
          "xref": "x",
          "y": "TotalWorkingYears",
          "yref": "y"
         },
         {
          "font": {
           "color": "#000000"
          },
          "showarrow": false,
          "text": "-0.0",
          "x": "EnvironmentSatisfaction",
          "xref": "x",
          "y": "TotalWorkingYears",
          "yref": "y"
         },
         {
          "font": {
           "color": "#000000"
          },
          "showarrow": false,
          "text": "-0.0",
          "x": "HourlyRate",
          "xref": "x",
          "y": "TotalWorkingYears",
          "yref": "y"
         },
         {
          "font": {
           "color": "#000000"
          },
          "showarrow": false,
          "text": "-0.01",
          "x": "JobInvolvement",
          "xref": "x",
          "y": "TotalWorkingYears",
          "yref": "y"
         },
         {
          "font": {
           "color": "#000000"
          },
          "showarrow": false,
          "text": "0.78",
          "x": "JobLevel",
          "xref": "x",
          "y": "TotalWorkingYears",
          "yref": "y"
         },
         {
          "font": {
           "color": "#000000"
          },
          "showarrow": false,
          "text": "-0.02",
          "x": "JobSatisfaction",
          "xref": "x",
          "y": "TotalWorkingYears",
          "yref": "y"
         },
         {
          "font": {
           "color": "#000000"
          },
          "showarrow": false,
          "text": "0.77",
          "x": "MonthlyIncome",
          "xref": "x",
          "y": "TotalWorkingYears",
          "yref": "y"
         },
         {
          "font": {
           "color": "#000000"
          },
          "showarrow": false,
          "text": "0.03",
          "x": "MonthlyRate",
          "xref": "x",
          "y": "TotalWorkingYears",
          "yref": "y"
         },
         {
          "font": {
           "color": "#000000"
          },
          "showarrow": false,
          "text": "0.24",
          "x": "NumCompaniesWorked",
          "xref": "x",
          "y": "TotalWorkingYears",
          "yref": "y"
         },
         {
          "font": {
           "color": "#000000"
          },
          "showarrow": false,
          "text": "-0.02",
          "x": "PercentSalaryHike",
          "xref": "x",
          "y": "TotalWorkingYears",
          "yref": "y"
         },
         {
          "font": {
           "color": "#000000"
          },
          "showarrow": false,
          "text": "0.01",
          "x": "PerformanceRating",
          "xref": "x",
          "y": "TotalWorkingYears",
          "yref": "y"
         },
         {
          "font": {
           "color": "#000000"
          },
          "showarrow": false,
          "text": "0.02",
          "x": "RelationshipSatisfaction",
          "xref": "x",
          "y": "TotalWorkingYears",
          "yref": "y"
         },
         {
          "font": {
           "color": "#000000"
          },
          "showarrow": false,
          "text": "nan",
          "x": "StandardHours",
          "xref": "x",
          "y": "TotalWorkingYears",
          "yref": "y"
         },
         {
          "font": {
           "color": "#000000"
          },
          "showarrow": false,
          "text": "0.01",
          "x": "StockOptionLevel",
          "xref": "x",
          "y": "TotalWorkingYears",
          "yref": "y"
         },
         {
          "font": {
           "color": "#000000"
          },
          "showarrow": false,
          "text": "1.0",
          "x": "TotalWorkingYears",
          "xref": "x",
          "y": "TotalWorkingYears",
          "yref": "y"
         },
         {
          "font": {
           "color": "#000000"
          },
          "showarrow": false,
          "text": "-0.04",
          "x": "TrainingTimesLastYear",
          "xref": "x",
          "y": "TotalWorkingYears",
          "yref": "y"
         },
         {
          "font": {
           "color": "#000000"
          },
          "showarrow": false,
          "text": "0.0",
          "x": "WorkLifeBalance",
          "xref": "x",
          "y": "TotalWorkingYears",
          "yref": "y"
         },
         {
          "font": {
           "color": "#000000"
          },
          "showarrow": false,
          "text": "0.63",
          "x": "YearsAtCompany",
          "xref": "x",
          "y": "TotalWorkingYears",
          "yref": "y"
         },
         {
          "font": {
           "color": "#000000"
          },
          "showarrow": false,
          "text": "0.46",
          "x": "YearsInCurrentRole",
          "xref": "x",
          "y": "TotalWorkingYears",
          "yref": "y"
         },
         {
          "font": {
           "color": "#000000"
          },
          "showarrow": false,
          "text": "0.4",
          "x": "YearsSinceLastPromotion",
          "xref": "x",
          "y": "TotalWorkingYears",
          "yref": "y"
         },
         {
          "font": {
           "color": "#000000"
          },
          "showarrow": false,
          "text": "0.46",
          "x": "YearsWithCurrManager",
          "xref": "x",
          "y": "TotalWorkingYears",
          "yref": "y"
         },
         {
          "font": {
           "color": "#000000"
          },
          "showarrow": false,
          "text": "-0.02",
          "x": "Age",
          "xref": "x",
          "y": "TrainingTimesLastYear",
          "yref": "y"
         },
         {
          "font": {
           "color": "#000000"
          },
          "showarrow": false,
          "text": "0.0",
          "x": "DailyRate",
          "xref": "x",
          "y": "TrainingTimesLastYear",
          "yref": "y"
         },
         {
          "font": {
           "color": "#000000"
          },
          "showarrow": false,
          "text": "-0.04",
          "x": "DistanceFromHome",
          "xref": "x",
          "y": "TrainingTimesLastYear",
          "yref": "y"
         },
         {
          "font": {
           "color": "#000000"
          },
          "showarrow": false,
          "text": "-0.03",
          "x": "Education",
          "xref": "x",
          "y": "TrainingTimesLastYear",
          "yref": "y"
         },
         {
          "font": {
           "color": "#000000"
          },
          "showarrow": false,
          "text": "nan",
          "x": "EmployeeCount",
          "xref": "x",
          "y": "TrainingTimesLastYear",
          "yref": "y"
         },
         {
          "font": {
           "color": "#000000"
          },
          "showarrow": false,
          "text": "0.02",
          "x": "EmployeeNumber",
          "xref": "x",
          "y": "TrainingTimesLastYear",
          "yref": "y"
         },
         {
          "font": {
           "color": "#000000"
          },
          "showarrow": false,
          "text": "-0.02",
          "x": "EnvironmentSatisfaction",
          "xref": "x",
          "y": "TrainingTimesLastYear",
          "yref": "y"
         },
         {
          "font": {
           "color": "#000000"
          },
          "showarrow": false,
          "text": "-0.01",
          "x": "HourlyRate",
          "xref": "x",
          "y": "TrainingTimesLastYear",
          "yref": "y"
         },
         {
          "font": {
           "color": "#000000"
          },
          "showarrow": false,
          "text": "-0.02",
          "x": "JobInvolvement",
          "xref": "x",
          "y": "TrainingTimesLastYear",
          "yref": "y"
         },
         {
          "font": {
           "color": "#000000"
          },
          "showarrow": false,
          "text": "-0.02",
          "x": "JobLevel",
          "xref": "x",
          "y": "TrainingTimesLastYear",
          "yref": "y"
         },
         {
          "font": {
           "color": "#000000"
          },
          "showarrow": false,
          "text": "-0.01",
          "x": "JobSatisfaction",
          "xref": "x",
          "y": "TrainingTimesLastYear",
          "yref": "y"
         },
         {
          "font": {
           "color": "#000000"
          },
          "showarrow": false,
          "text": "-0.02",
          "x": "MonthlyIncome",
          "xref": "x",
          "y": "TrainingTimesLastYear",
          "yref": "y"
         },
         {
          "font": {
           "color": "#000000"
          },
          "showarrow": false,
          "text": "0.0",
          "x": "MonthlyRate",
          "xref": "x",
          "y": "TrainingTimesLastYear",
          "yref": "y"
         },
         {
          "font": {
           "color": "#000000"
          },
          "showarrow": false,
          "text": "-0.07",
          "x": "NumCompaniesWorked",
          "xref": "x",
          "y": "TrainingTimesLastYear",
          "yref": "y"
         },
         {
          "font": {
           "color": "#000000"
          },
          "showarrow": false,
          "text": "-0.01",
          "x": "PercentSalaryHike",
          "xref": "x",
          "y": "TrainingTimesLastYear",
          "yref": "y"
         },
         {
          "font": {
           "color": "#000000"
          },
          "showarrow": false,
          "text": "-0.02",
          "x": "PerformanceRating",
          "xref": "x",
          "y": "TrainingTimesLastYear",
          "yref": "y"
         },
         {
          "font": {
           "color": "#000000"
          },
          "showarrow": false,
          "text": "0.0",
          "x": "RelationshipSatisfaction",
          "xref": "x",
          "y": "TrainingTimesLastYear",
          "yref": "y"
         },
         {
          "font": {
           "color": "#000000"
          },
          "showarrow": false,
          "text": "nan",
          "x": "StandardHours",
          "xref": "x",
          "y": "TrainingTimesLastYear",
          "yref": "y"
         },
         {
          "font": {
           "color": "#000000"
          },
          "showarrow": false,
          "text": "0.01",
          "x": "StockOptionLevel",
          "xref": "x",
          "y": "TrainingTimesLastYear",
          "yref": "y"
         },
         {
          "font": {
           "color": "#000000"
          },
          "showarrow": false,
          "text": "-0.04",
          "x": "TotalWorkingYears",
          "xref": "x",
          "y": "TrainingTimesLastYear",
          "yref": "y"
         },
         {
          "font": {
           "color": "#000000"
          },
          "showarrow": false,
          "text": "1.0",
          "x": "TrainingTimesLastYear",
          "xref": "x",
          "y": "TrainingTimesLastYear",
          "yref": "y"
         },
         {
          "font": {
           "color": "#000000"
          },
          "showarrow": false,
          "text": "0.03",
          "x": "WorkLifeBalance",
          "xref": "x",
          "y": "TrainingTimesLastYear",
          "yref": "y"
         },
         {
          "font": {
           "color": "#000000"
          },
          "showarrow": false,
          "text": "0.0",
          "x": "YearsAtCompany",
          "xref": "x",
          "y": "TrainingTimesLastYear",
          "yref": "y"
         },
         {
          "font": {
           "color": "#000000"
          },
          "showarrow": false,
          "text": "-0.01",
          "x": "YearsInCurrentRole",
          "xref": "x",
          "y": "TrainingTimesLastYear",
          "yref": "y"
         },
         {
          "font": {
           "color": "#000000"
          },
          "showarrow": false,
          "text": "-0.0",
          "x": "YearsSinceLastPromotion",
          "xref": "x",
          "y": "TrainingTimesLastYear",
          "yref": "y"
         },
         {
          "font": {
           "color": "#000000"
          },
          "showarrow": false,
          "text": "-0.0",
          "x": "YearsWithCurrManager",
          "xref": "x",
          "y": "TrainingTimesLastYear",
          "yref": "y"
         },
         {
          "font": {
           "color": "#000000"
          },
          "showarrow": false,
          "text": "-0.02",
          "x": "Age",
          "xref": "x",
          "y": "WorkLifeBalance",
          "yref": "y"
         },
         {
          "font": {
           "color": "#000000"
          },
          "showarrow": false,
          "text": "-0.04",
          "x": "DailyRate",
          "xref": "x",
          "y": "WorkLifeBalance",
          "yref": "y"
         },
         {
          "font": {
           "color": "#000000"
          },
          "showarrow": false,
          "text": "-0.03",
          "x": "DistanceFromHome",
          "xref": "x",
          "y": "WorkLifeBalance",
          "yref": "y"
         },
         {
          "font": {
           "color": "#000000"
          },
          "showarrow": false,
          "text": "0.01",
          "x": "Education",
          "xref": "x",
          "y": "WorkLifeBalance",
          "yref": "y"
         },
         {
          "font": {
           "color": "#000000"
          },
          "showarrow": false,
          "text": "nan",
          "x": "EmployeeCount",
          "xref": "x",
          "y": "WorkLifeBalance",
          "yref": "y"
         },
         {
          "font": {
           "color": "#000000"
          },
          "showarrow": false,
          "text": "0.01",
          "x": "EmployeeNumber",
          "xref": "x",
          "y": "WorkLifeBalance",
          "yref": "y"
         },
         {
          "font": {
           "color": "#000000"
          },
          "showarrow": false,
          "text": "0.03",
          "x": "EnvironmentSatisfaction",
          "xref": "x",
          "y": "WorkLifeBalance",
          "yref": "y"
         },
         {
          "font": {
           "color": "#000000"
          },
          "showarrow": false,
          "text": "-0.0",
          "x": "HourlyRate",
          "xref": "x",
          "y": "WorkLifeBalance",
          "yref": "y"
         },
         {
          "font": {
           "color": "#000000"
          },
          "showarrow": false,
          "text": "-0.01",
          "x": "JobInvolvement",
          "xref": "x",
          "y": "WorkLifeBalance",
          "yref": "y"
         },
         {
          "font": {
           "color": "#000000"
          },
          "showarrow": false,
          "text": "0.04",
          "x": "JobLevel",
          "xref": "x",
          "y": "WorkLifeBalance",
          "yref": "y"
         },
         {
          "font": {
           "color": "#000000"
          },
          "showarrow": false,
          "text": "-0.02",
          "x": "JobSatisfaction",
          "xref": "x",
          "y": "WorkLifeBalance",
          "yref": "y"
         },
         {
          "font": {
           "color": "#000000"
          },
          "showarrow": false,
          "text": "0.03",
          "x": "MonthlyIncome",
          "xref": "x",
          "y": "WorkLifeBalance",
          "yref": "y"
         },
         {
          "font": {
           "color": "#000000"
          },
          "showarrow": false,
          "text": "0.01",
          "x": "MonthlyRate",
          "xref": "x",
          "y": "WorkLifeBalance",
          "yref": "y"
         },
         {
          "font": {
           "color": "#000000"
          },
          "showarrow": false,
          "text": "-0.01",
          "x": "NumCompaniesWorked",
          "xref": "x",
          "y": "WorkLifeBalance",
          "yref": "y"
         },
         {
          "font": {
           "color": "#000000"
          },
          "showarrow": false,
          "text": "-0.0",
          "x": "PercentSalaryHike",
          "xref": "x",
          "y": "WorkLifeBalance",
          "yref": "y"
         },
         {
          "font": {
           "color": "#000000"
          },
          "showarrow": false,
          "text": "0.0",
          "x": "PerformanceRating",
          "xref": "x",
          "y": "WorkLifeBalance",
          "yref": "y"
         },
         {
          "font": {
           "color": "#000000"
          },
          "showarrow": false,
          "text": "0.02",
          "x": "RelationshipSatisfaction",
          "xref": "x",
          "y": "WorkLifeBalance",
          "yref": "y"
         },
         {
          "font": {
           "color": "#000000"
          },
          "showarrow": false,
          "text": "nan",
          "x": "StandardHours",
          "xref": "x",
          "y": "WorkLifeBalance",
          "yref": "y"
         },
         {
          "font": {
           "color": "#000000"
          },
          "showarrow": false,
          "text": "0.0",
          "x": "StockOptionLevel",
          "xref": "x",
          "y": "WorkLifeBalance",
          "yref": "y"
         },
         {
          "font": {
           "color": "#000000"
          },
          "showarrow": false,
          "text": "0.0",
          "x": "TotalWorkingYears",
          "xref": "x",
          "y": "WorkLifeBalance",
          "yref": "y"
         },
         {
          "font": {
           "color": "#000000"
          },
          "showarrow": false,
          "text": "0.03",
          "x": "TrainingTimesLastYear",
          "xref": "x",
          "y": "WorkLifeBalance",
          "yref": "y"
         },
         {
          "font": {
           "color": "#000000"
          },
          "showarrow": false,
          "text": "1.0",
          "x": "WorkLifeBalance",
          "xref": "x",
          "y": "WorkLifeBalance",
          "yref": "y"
         },
         {
          "font": {
           "color": "#000000"
          },
          "showarrow": false,
          "text": "0.01",
          "x": "YearsAtCompany",
          "xref": "x",
          "y": "WorkLifeBalance",
          "yref": "y"
         },
         {
          "font": {
           "color": "#000000"
          },
          "showarrow": false,
          "text": "0.05",
          "x": "YearsInCurrentRole",
          "xref": "x",
          "y": "WorkLifeBalance",
          "yref": "y"
         },
         {
          "font": {
           "color": "#000000"
          },
          "showarrow": false,
          "text": "0.01",
          "x": "YearsSinceLastPromotion",
          "xref": "x",
          "y": "WorkLifeBalance",
          "yref": "y"
         },
         {
          "font": {
           "color": "#000000"
          },
          "showarrow": false,
          "text": "0.0",
          "x": "YearsWithCurrManager",
          "xref": "x",
          "y": "WorkLifeBalance",
          "yref": "y"
         },
         {
          "font": {
           "color": "#000000"
          },
          "showarrow": false,
          "text": "0.31",
          "x": "Age",
          "xref": "x",
          "y": "YearsAtCompany",
          "yref": "y"
         },
         {
          "font": {
           "color": "#000000"
          },
          "showarrow": false,
          "text": "-0.03",
          "x": "DailyRate",
          "xref": "x",
          "y": "YearsAtCompany",
          "yref": "y"
         },
         {
          "font": {
           "color": "#000000"
          },
          "showarrow": false,
          "text": "0.01",
          "x": "DistanceFromHome",
          "xref": "x",
          "y": "YearsAtCompany",
          "yref": "y"
         },
         {
          "font": {
           "color": "#000000"
          },
          "showarrow": false,
          "text": "0.07",
          "x": "Education",
          "xref": "x",
          "y": "YearsAtCompany",
          "yref": "y"
         },
         {
          "font": {
           "color": "#000000"
          },
          "showarrow": false,
          "text": "nan",
          "x": "EmployeeCount",
          "xref": "x",
          "y": "YearsAtCompany",
          "yref": "y"
         },
         {
          "font": {
           "color": "#000000"
          },
          "showarrow": false,
          "text": "-0.01",
          "x": "EmployeeNumber",
          "xref": "x",
          "y": "YearsAtCompany",
          "yref": "y"
         },
         {
          "font": {
           "color": "#000000"
          },
          "showarrow": false,
          "text": "0.0",
          "x": "EnvironmentSatisfaction",
          "xref": "x",
          "y": "YearsAtCompany",
          "yref": "y"
         },
         {
          "font": {
           "color": "#000000"
          },
          "showarrow": false,
          "text": "-0.02",
          "x": "HourlyRate",
          "xref": "x",
          "y": "YearsAtCompany",
          "yref": "y"
         },
         {
          "font": {
           "color": "#000000"
          },
          "showarrow": false,
          "text": "-0.02",
          "x": "JobInvolvement",
          "xref": "x",
          "y": "YearsAtCompany",
          "yref": "y"
         },
         {
          "font": {
           "color": "#000000"
          },
          "showarrow": false,
          "text": "0.53",
          "x": "JobLevel",
          "xref": "x",
          "y": "YearsAtCompany",
          "yref": "y"
         },
         {
          "font": {
           "color": "#000000"
          },
          "showarrow": false,
          "text": "-0.0",
          "x": "JobSatisfaction",
          "xref": "x",
          "y": "YearsAtCompany",
          "yref": "y"
         },
         {
          "font": {
           "color": "#000000"
          },
          "showarrow": false,
          "text": "0.51",
          "x": "MonthlyIncome",
          "xref": "x",
          "y": "YearsAtCompany",
          "yref": "y"
         },
         {
          "font": {
           "color": "#000000"
          },
          "showarrow": false,
          "text": "-0.02",
          "x": "MonthlyRate",
          "xref": "x",
          "y": "YearsAtCompany",
          "yref": "y"
         },
         {
          "font": {
           "color": "#000000"
          },
          "showarrow": false,
          "text": "-0.12",
          "x": "NumCompaniesWorked",
          "xref": "x",
          "y": "YearsAtCompany",
          "yref": "y"
         },
         {
          "font": {
           "color": "#000000"
          },
          "showarrow": false,
          "text": "-0.04",
          "x": "PercentSalaryHike",
          "xref": "x",
          "y": "YearsAtCompany",
          "yref": "y"
         },
         {
          "font": {
           "color": "#000000"
          },
          "showarrow": false,
          "text": "0.0",
          "x": "PerformanceRating",
          "xref": "x",
          "y": "YearsAtCompany",
          "yref": "y"
         },
         {
          "font": {
           "color": "#000000"
          },
          "showarrow": false,
          "text": "0.02",
          "x": "RelationshipSatisfaction",
          "xref": "x",
          "y": "YearsAtCompany",
          "yref": "y"
         },
         {
          "font": {
           "color": "#000000"
          },
          "showarrow": false,
          "text": "nan",
          "x": "StandardHours",
          "xref": "x",
          "y": "YearsAtCompany",
          "yref": "y"
         },
         {
          "font": {
           "color": "#000000"
          },
          "showarrow": false,
          "text": "0.02",
          "x": "StockOptionLevel",
          "xref": "x",
          "y": "YearsAtCompany",
          "yref": "y"
         },
         {
          "font": {
           "color": "#000000"
          },
          "showarrow": false,
          "text": "0.63",
          "x": "TotalWorkingYears",
          "xref": "x",
          "y": "YearsAtCompany",
          "yref": "y"
         },
         {
          "font": {
           "color": "#000000"
          },
          "showarrow": false,
          "text": "0.0",
          "x": "TrainingTimesLastYear",
          "xref": "x",
          "y": "YearsAtCompany",
          "yref": "y"
         },
         {
          "font": {
           "color": "#000000"
          },
          "showarrow": false,
          "text": "0.01",
          "x": "WorkLifeBalance",
          "xref": "x",
          "y": "YearsAtCompany",
          "yref": "y"
         },
         {
          "font": {
           "color": "#000000"
          },
          "showarrow": false,
          "text": "1.0",
          "x": "YearsAtCompany",
          "xref": "x",
          "y": "YearsAtCompany",
          "yref": "y"
         },
         {
          "font": {
           "color": "#000000"
          },
          "showarrow": false,
          "text": "0.76",
          "x": "YearsInCurrentRole",
          "xref": "x",
          "y": "YearsAtCompany",
          "yref": "y"
         },
         {
          "font": {
           "color": "#000000"
          },
          "showarrow": false,
          "text": "0.62",
          "x": "YearsSinceLastPromotion",
          "xref": "x",
          "y": "YearsAtCompany",
          "yref": "y"
         },
         {
          "font": {
           "color": "#000000"
          },
          "showarrow": false,
          "text": "0.77",
          "x": "YearsWithCurrManager",
          "xref": "x",
          "y": "YearsAtCompany",
          "yref": "y"
         },
         {
          "font": {
           "color": "#000000"
          },
          "showarrow": false,
          "text": "0.21",
          "x": "Age",
          "xref": "x",
          "y": "YearsInCurrentRole",
          "yref": "y"
         },
         {
          "font": {
           "color": "#000000"
          },
          "showarrow": false,
          "text": "0.01",
          "x": "DailyRate",
          "xref": "x",
          "y": "YearsInCurrentRole",
          "yref": "y"
         },
         {
          "font": {
           "color": "#000000"
          },
          "showarrow": false,
          "text": "0.02",
          "x": "DistanceFromHome",
          "xref": "x",
          "y": "YearsInCurrentRole",
          "yref": "y"
         },
         {
          "font": {
           "color": "#000000"
          },
          "showarrow": false,
          "text": "0.06",
          "x": "Education",
          "xref": "x",
          "y": "YearsInCurrentRole",
          "yref": "y"
         },
         {
          "font": {
           "color": "#000000"
          },
          "showarrow": false,
          "text": "nan",
          "x": "EmployeeCount",
          "xref": "x",
          "y": "YearsInCurrentRole",
          "yref": "y"
         },
         {
          "font": {
           "color": "#000000"
          },
          "showarrow": false,
          "text": "-0.01",
          "x": "EmployeeNumber",
          "xref": "x",
          "y": "YearsInCurrentRole",
          "yref": "y"
         },
         {
          "font": {
           "color": "#000000"
          },
          "showarrow": false,
          "text": "0.02",
          "x": "EnvironmentSatisfaction",
          "xref": "x",
          "y": "YearsInCurrentRole",
          "yref": "y"
         },
         {
          "font": {
           "color": "#000000"
          },
          "showarrow": false,
          "text": "-0.02",
          "x": "HourlyRate",
          "xref": "x",
          "y": "YearsInCurrentRole",
          "yref": "y"
         },
         {
          "font": {
           "color": "#000000"
          },
          "showarrow": false,
          "text": "0.01",
          "x": "JobInvolvement",
          "xref": "x",
          "y": "YearsInCurrentRole",
          "yref": "y"
         },
         {
          "font": {
           "color": "#000000"
          },
          "showarrow": false,
          "text": "0.39",
          "x": "JobLevel",
          "xref": "x",
          "y": "YearsInCurrentRole",
          "yref": "y"
         },
         {
          "font": {
           "color": "#000000"
          },
          "showarrow": false,
          "text": "-0.0",
          "x": "JobSatisfaction",
          "xref": "x",
          "y": "YearsInCurrentRole",
          "yref": "y"
         },
         {
          "font": {
           "color": "#000000"
          },
          "showarrow": false,
          "text": "0.36",
          "x": "MonthlyIncome",
          "xref": "x",
          "y": "YearsInCurrentRole",
          "yref": "y"
         },
         {
          "font": {
           "color": "#000000"
          },
          "showarrow": false,
          "text": "-0.01",
          "x": "MonthlyRate",
          "xref": "x",
          "y": "YearsInCurrentRole",
          "yref": "y"
         },
         {
          "font": {
           "color": "#000000"
          },
          "showarrow": false,
          "text": "-0.09",
          "x": "NumCompaniesWorked",
          "xref": "x",
          "y": "YearsInCurrentRole",
          "yref": "y"
         },
         {
          "font": {
           "color": "#000000"
          },
          "showarrow": false,
          "text": "-0.0",
          "x": "PercentSalaryHike",
          "xref": "x",
          "y": "YearsInCurrentRole",
          "yref": "y"
         },
         {
          "font": {
           "color": "#000000"
          },
          "showarrow": false,
          "text": "0.03",
          "x": "PerformanceRating",
          "xref": "x",
          "y": "YearsInCurrentRole",
          "yref": "y"
         },
         {
          "font": {
           "color": "#000000"
          },
          "showarrow": false,
          "text": "-0.02",
          "x": "RelationshipSatisfaction",
          "xref": "x",
          "y": "YearsInCurrentRole",
          "yref": "y"
         },
         {
          "font": {
           "color": "#000000"
          },
          "showarrow": false,
          "text": "nan",
          "x": "StandardHours",
          "xref": "x",
          "y": "YearsInCurrentRole",
          "yref": "y"
         },
         {
          "font": {
           "color": "#000000"
          },
          "showarrow": false,
          "text": "0.05",
          "x": "StockOptionLevel",
          "xref": "x",
          "y": "YearsInCurrentRole",
          "yref": "y"
         },
         {
          "font": {
           "color": "#000000"
          },
          "showarrow": false,
          "text": "0.46",
          "x": "TotalWorkingYears",
          "xref": "x",
          "y": "YearsInCurrentRole",
          "yref": "y"
         },
         {
          "font": {
           "color": "#000000"
          },
          "showarrow": false,
          "text": "-0.01",
          "x": "TrainingTimesLastYear",
          "xref": "x",
          "y": "YearsInCurrentRole",
          "yref": "y"
         },
         {
          "font": {
           "color": "#000000"
          },
          "showarrow": false,
          "text": "0.05",
          "x": "WorkLifeBalance",
          "xref": "x",
          "y": "YearsInCurrentRole",
          "yref": "y"
         },
         {
          "font": {
           "color": "#000000"
          },
          "showarrow": false,
          "text": "0.76",
          "x": "YearsAtCompany",
          "xref": "x",
          "y": "YearsInCurrentRole",
          "yref": "y"
         },
         {
          "font": {
           "color": "#000000"
          },
          "showarrow": false,
          "text": "1.0",
          "x": "YearsInCurrentRole",
          "xref": "x",
          "y": "YearsInCurrentRole",
          "yref": "y"
         },
         {
          "font": {
           "color": "#000000"
          },
          "showarrow": false,
          "text": "0.55",
          "x": "YearsSinceLastPromotion",
          "xref": "x",
          "y": "YearsInCurrentRole",
          "yref": "y"
         },
         {
          "font": {
           "color": "#000000"
          },
          "showarrow": false,
          "text": "0.71",
          "x": "YearsWithCurrManager",
          "xref": "x",
          "y": "YearsInCurrentRole",
          "yref": "y"
         },
         {
          "font": {
           "color": "#000000"
          },
          "showarrow": false,
          "text": "0.22",
          "x": "Age",
          "xref": "x",
          "y": "YearsSinceLastPromotion",
          "yref": "y"
         },
         {
          "font": {
           "color": "#000000"
          },
          "showarrow": false,
          "text": "-0.03",
          "x": "DailyRate",
          "xref": "x",
          "y": "YearsSinceLastPromotion",
          "yref": "y"
         },
         {
          "font": {
           "color": "#000000"
          },
          "showarrow": false,
          "text": "0.01",
          "x": "DistanceFromHome",
          "xref": "x",
          "y": "YearsSinceLastPromotion",
          "yref": "y"
         },
         {
          "font": {
           "color": "#000000"
          },
          "showarrow": false,
          "text": "0.05",
          "x": "Education",
          "xref": "x",
          "y": "YearsSinceLastPromotion",
          "yref": "y"
         },
         {
          "font": {
           "color": "#000000"
          },
          "showarrow": false,
          "text": "nan",
          "x": "EmployeeCount",
          "xref": "x",
          "y": "YearsSinceLastPromotion",
          "yref": "y"
         },
         {
          "font": {
           "color": "#000000"
          },
          "showarrow": false,
          "text": "-0.01",
          "x": "EmployeeNumber",
          "xref": "x",
          "y": "YearsSinceLastPromotion",
          "yref": "y"
         },
         {
          "font": {
           "color": "#000000"
          },
          "showarrow": false,
          "text": "0.02",
          "x": "EnvironmentSatisfaction",
          "xref": "x",
          "y": "YearsSinceLastPromotion",
          "yref": "y"
         },
         {
          "font": {
           "color": "#000000"
          },
          "showarrow": false,
          "text": "-0.03",
          "x": "HourlyRate",
          "xref": "x",
          "y": "YearsSinceLastPromotion",
          "yref": "y"
         },
         {
          "font": {
           "color": "#000000"
          },
          "showarrow": false,
          "text": "-0.02",
          "x": "JobInvolvement",
          "xref": "x",
          "y": "YearsSinceLastPromotion",
          "yref": "y"
         },
         {
          "font": {
           "color": "#000000"
          },
          "showarrow": false,
          "text": "0.35",
          "x": "JobLevel",
          "xref": "x",
          "y": "YearsSinceLastPromotion",
          "yref": "y"
         },
         {
          "font": {
           "color": "#000000"
          },
          "showarrow": false,
          "text": "-0.02",
          "x": "JobSatisfaction",
          "xref": "x",
          "y": "YearsSinceLastPromotion",
          "yref": "y"
         },
         {
          "font": {
           "color": "#000000"
          },
          "showarrow": false,
          "text": "0.34",
          "x": "MonthlyIncome",
          "xref": "x",
          "y": "YearsSinceLastPromotion",
          "yref": "y"
         },
         {
          "font": {
           "color": "#000000"
          },
          "showarrow": false,
          "text": "0.0",
          "x": "MonthlyRate",
          "xref": "x",
          "y": "YearsSinceLastPromotion",
          "yref": "y"
         },
         {
          "font": {
           "color": "#000000"
          },
          "showarrow": false,
          "text": "-0.04",
          "x": "NumCompaniesWorked",
          "xref": "x",
          "y": "YearsSinceLastPromotion",
          "yref": "y"
         },
         {
          "font": {
           "color": "#000000"
          },
          "showarrow": false,
          "text": "-0.02",
          "x": "PercentSalaryHike",
          "xref": "x",
          "y": "YearsSinceLastPromotion",
          "yref": "y"
         },
         {
          "font": {
           "color": "#000000"
          },
          "showarrow": false,
          "text": "0.02",
          "x": "PerformanceRating",
          "xref": "x",
          "y": "YearsSinceLastPromotion",
          "yref": "y"
         },
         {
          "font": {
           "color": "#000000"
          },
          "showarrow": false,
          "text": "0.03",
          "x": "RelationshipSatisfaction",
          "xref": "x",
          "y": "YearsSinceLastPromotion",
          "yref": "y"
         },
         {
          "font": {
           "color": "#000000"
          },
          "showarrow": false,
          "text": "nan",
          "x": "StandardHours",
          "xref": "x",
          "y": "YearsSinceLastPromotion",
          "yref": "y"
         },
         {
          "font": {
           "color": "#000000"
          },
          "showarrow": false,
          "text": "0.01",
          "x": "StockOptionLevel",
          "xref": "x",
          "y": "YearsSinceLastPromotion",
          "yref": "y"
         },
         {
          "font": {
           "color": "#000000"
          },
          "showarrow": false,
          "text": "0.4",
          "x": "TotalWorkingYears",
          "xref": "x",
          "y": "YearsSinceLastPromotion",
          "yref": "y"
         },
         {
          "font": {
           "color": "#000000"
          },
          "showarrow": false,
          "text": "-0.0",
          "x": "TrainingTimesLastYear",
          "xref": "x",
          "y": "YearsSinceLastPromotion",
          "yref": "y"
         },
         {
          "font": {
           "color": "#000000"
          },
          "showarrow": false,
          "text": "0.01",
          "x": "WorkLifeBalance",
          "xref": "x",
          "y": "YearsSinceLastPromotion",
          "yref": "y"
         },
         {
          "font": {
           "color": "#000000"
          },
          "showarrow": false,
          "text": "0.62",
          "x": "YearsAtCompany",
          "xref": "x",
          "y": "YearsSinceLastPromotion",
          "yref": "y"
         },
         {
          "font": {
           "color": "#000000"
          },
          "showarrow": false,
          "text": "0.55",
          "x": "YearsInCurrentRole",
          "xref": "x",
          "y": "YearsSinceLastPromotion",
          "yref": "y"
         },
         {
          "font": {
           "color": "#000000"
          },
          "showarrow": false,
          "text": "1.0",
          "x": "YearsSinceLastPromotion",
          "xref": "x",
          "y": "YearsSinceLastPromotion",
          "yref": "y"
         },
         {
          "font": {
           "color": "#000000"
          },
          "showarrow": false,
          "text": "0.51",
          "x": "YearsWithCurrManager",
          "xref": "x",
          "y": "YearsSinceLastPromotion",
          "yref": "y"
         },
         {
          "font": {
           "color": "#000000"
          },
          "showarrow": false,
          "text": "0.2",
          "x": "Age",
          "xref": "x",
          "y": "YearsWithCurrManager",
          "yref": "y"
         },
         {
          "font": {
           "color": "#000000"
          },
          "showarrow": false,
          "text": "-0.03",
          "x": "DailyRate",
          "xref": "x",
          "y": "YearsWithCurrManager",
          "yref": "y"
         },
         {
          "font": {
           "color": "#000000"
          },
          "showarrow": false,
          "text": "0.01",
          "x": "DistanceFromHome",
          "xref": "x",
          "y": "YearsWithCurrManager",
          "yref": "y"
         },
         {
          "font": {
           "color": "#000000"
          },
          "showarrow": false,
          "text": "0.07",
          "x": "Education",
          "xref": "x",
          "y": "YearsWithCurrManager",
          "yref": "y"
         },
         {
          "font": {
           "color": "#000000"
          },
          "showarrow": false,
          "text": "nan",
          "x": "EmployeeCount",
          "xref": "x",
          "y": "YearsWithCurrManager",
          "yref": "y"
         },
         {
          "font": {
           "color": "#000000"
          },
          "showarrow": false,
          "text": "-0.01",
          "x": "EmployeeNumber",
          "xref": "x",
          "y": "YearsWithCurrManager",
          "yref": "y"
         },
         {
          "font": {
           "color": "#000000"
          },
          "showarrow": false,
          "text": "-0.0",
          "x": "EnvironmentSatisfaction",
          "xref": "x",
          "y": "YearsWithCurrManager",
          "yref": "y"
         },
         {
          "font": {
           "color": "#000000"
          },
          "showarrow": false,
          "text": "-0.02",
          "x": "HourlyRate",
          "xref": "x",
          "y": "YearsWithCurrManager",
          "yref": "y"
         },
         {
          "font": {
           "color": "#000000"
          },
          "showarrow": false,
          "text": "0.03",
          "x": "JobInvolvement",
          "xref": "x",
          "y": "YearsWithCurrManager",
          "yref": "y"
         },
         {
          "font": {
           "color": "#000000"
          },
          "showarrow": false,
          "text": "0.38",
          "x": "JobLevel",
          "xref": "x",
          "y": "YearsWithCurrManager",
          "yref": "y"
         },
         {
          "font": {
           "color": "#000000"
          },
          "showarrow": false,
          "text": "-0.03",
          "x": "JobSatisfaction",
          "xref": "x",
          "y": "YearsWithCurrManager",
          "yref": "y"
         },
         {
          "font": {
           "color": "#000000"
          },
          "showarrow": false,
          "text": "0.34",
          "x": "MonthlyIncome",
          "xref": "x",
          "y": "YearsWithCurrManager",
          "yref": "y"
         },
         {
          "font": {
           "color": "#000000"
          },
          "showarrow": false,
          "text": "-0.04",
          "x": "MonthlyRate",
          "xref": "x",
          "y": "YearsWithCurrManager",
          "yref": "y"
         },
         {
          "font": {
           "color": "#000000"
          },
          "showarrow": false,
          "text": "-0.11",
          "x": "NumCompaniesWorked",
          "xref": "x",
          "y": "YearsWithCurrManager",
          "yref": "y"
         },
         {
          "font": {
           "color": "#000000"
          },
          "showarrow": false,
          "text": "-0.01",
          "x": "PercentSalaryHike",
          "xref": "x",
          "y": "YearsWithCurrManager",
          "yref": "y"
         },
         {
          "font": {
           "color": "#000000"
          },
          "showarrow": false,
          "text": "0.02",
          "x": "PerformanceRating",
          "xref": "x",
          "y": "YearsWithCurrManager",
          "yref": "y"
         },
         {
          "font": {
           "color": "#000000"
          },
          "showarrow": false,
          "text": "-0.0",
          "x": "RelationshipSatisfaction",
          "xref": "x",
          "y": "YearsWithCurrManager",
          "yref": "y"
         },
         {
          "font": {
           "color": "#000000"
          },
          "showarrow": false,
          "text": "nan",
          "x": "StandardHours",
          "xref": "x",
          "y": "YearsWithCurrManager",
          "yref": "y"
         },
         {
          "font": {
           "color": "#000000"
          },
          "showarrow": false,
          "text": "0.02",
          "x": "StockOptionLevel",
          "xref": "x",
          "y": "YearsWithCurrManager",
          "yref": "y"
         },
         {
          "font": {
           "color": "#000000"
          },
          "showarrow": false,
          "text": "0.46",
          "x": "TotalWorkingYears",
          "xref": "x",
          "y": "YearsWithCurrManager",
          "yref": "y"
         },
         {
          "font": {
           "color": "#000000"
          },
          "showarrow": false,
          "text": "-0.0",
          "x": "TrainingTimesLastYear",
          "xref": "x",
          "y": "YearsWithCurrManager",
          "yref": "y"
         },
         {
          "font": {
           "color": "#000000"
          },
          "showarrow": false,
          "text": "0.0",
          "x": "WorkLifeBalance",
          "xref": "x",
          "y": "YearsWithCurrManager",
          "yref": "y"
         },
         {
          "font": {
           "color": "#000000"
          },
          "showarrow": false,
          "text": "0.77",
          "x": "YearsAtCompany",
          "xref": "x",
          "y": "YearsWithCurrManager",
          "yref": "y"
         },
         {
          "font": {
           "color": "#000000"
          },
          "showarrow": false,
          "text": "0.71",
          "x": "YearsInCurrentRole",
          "xref": "x",
          "y": "YearsWithCurrManager",
          "yref": "y"
         },
         {
          "font": {
           "color": "#000000"
          },
          "showarrow": false,
          "text": "0.51",
          "x": "YearsSinceLastPromotion",
          "xref": "x",
          "y": "YearsWithCurrManager",
          "yref": "y"
         },
         {
          "font": {
           "color": "#000000"
          },
          "showarrow": false,
          "text": "1.0",
          "x": "YearsWithCurrManager",
          "xref": "x",
          "y": "YearsWithCurrManager",
          "yref": "y"
         }
        ],
        "height": 1500,
        "template": {
         "data": {
          "bar": [
           {
            "error_x": {
             "color": "#2a3f5f"
            },
            "error_y": {
             "color": "#2a3f5f"
            },
            "marker": {
             "line": {
              "color": "#E5ECF6",
              "width": 0.5
             },
             "pattern": {
              "fillmode": "overlay",
              "size": 10,
              "solidity": 0.2
             }
            },
            "type": "bar"
           }
          ],
          "barpolar": [
           {
            "marker": {
             "line": {
              "color": "#E5ECF6",
              "width": 0.5
             },
             "pattern": {
              "fillmode": "overlay",
              "size": 10,
              "solidity": 0.2
             }
            },
            "type": "barpolar"
           }
          ],
          "carpet": [
           {
            "aaxis": {
             "endlinecolor": "#2a3f5f",
             "gridcolor": "white",
             "linecolor": "white",
             "minorgridcolor": "white",
             "startlinecolor": "#2a3f5f"
            },
            "baxis": {
             "endlinecolor": "#2a3f5f",
             "gridcolor": "white",
             "linecolor": "white",
             "minorgridcolor": "white",
             "startlinecolor": "#2a3f5f"
            },
            "type": "carpet"
           }
          ],
          "choropleth": [
           {
            "colorbar": {
             "outlinewidth": 0,
             "ticks": ""
            },
            "type": "choropleth"
           }
          ],
          "contour": [
           {
            "colorbar": {
             "outlinewidth": 0,
             "ticks": ""
            },
            "colorscale": [
             [
              0,
              "#0d0887"
             ],
             [
              0.1111111111111111,
              "#46039f"
             ],
             [
              0.2222222222222222,
              "#7201a8"
             ],
             [
              0.3333333333333333,
              "#9c179e"
             ],
             [
              0.4444444444444444,
              "#bd3786"
             ],
             [
              0.5555555555555556,
              "#d8576b"
             ],
             [
              0.6666666666666666,
              "#ed7953"
             ],
             [
              0.7777777777777778,
              "#fb9f3a"
             ],
             [
              0.8888888888888888,
              "#fdca26"
             ],
             [
              1,
              "#f0f921"
             ]
            ],
            "type": "contour"
           }
          ],
          "contourcarpet": [
           {
            "colorbar": {
             "outlinewidth": 0,
             "ticks": ""
            },
            "type": "contourcarpet"
           }
          ],
          "heatmap": [
           {
            "colorbar": {
             "outlinewidth": 0,
             "ticks": ""
            },
            "colorscale": [
             [
              0,
              "#0d0887"
             ],
             [
              0.1111111111111111,
              "#46039f"
             ],
             [
              0.2222222222222222,
              "#7201a8"
             ],
             [
              0.3333333333333333,
              "#9c179e"
             ],
             [
              0.4444444444444444,
              "#bd3786"
             ],
             [
              0.5555555555555556,
              "#d8576b"
             ],
             [
              0.6666666666666666,
              "#ed7953"
             ],
             [
              0.7777777777777778,
              "#fb9f3a"
             ],
             [
              0.8888888888888888,
              "#fdca26"
             ],
             [
              1,
              "#f0f921"
             ]
            ],
            "type": "heatmap"
           }
          ],
          "heatmapgl": [
           {
            "colorbar": {
             "outlinewidth": 0,
             "ticks": ""
            },
            "colorscale": [
             [
              0,
              "#0d0887"
             ],
             [
              0.1111111111111111,
              "#46039f"
             ],
             [
              0.2222222222222222,
              "#7201a8"
             ],
             [
              0.3333333333333333,
              "#9c179e"
             ],
             [
              0.4444444444444444,
              "#bd3786"
             ],
             [
              0.5555555555555556,
              "#d8576b"
             ],
             [
              0.6666666666666666,
              "#ed7953"
             ],
             [
              0.7777777777777778,
              "#fb9f3a"
             ],
             [
              0.8888888888888888,
              "#fdca26"
             ],
             [
              1,
              "#f0f921"
             ]
            ],
            "type": "heatmapgl"
           }
          ],
          "histogram": [
           {
            "marker": {
             "pattern": {
              "fillmode": "overlay",
              "size": 10,
              "solidity": 0.2
             }
            },
            "type": "histogram"
           }
          ],
          "histogram2d": [
           {
            "colorbar": {
             "outlinewidth": 0,
             "ticks": ""
            },
            "colorscale": [
             [
              0,
              "#0d0887"
             ],
             [
              0.1111111111111111,
              "#46039f"
             ],
             [
              0.2222222222222222,
              "#7201a8"
             ],
             [
              0.3333333333333333,
              "#9c179e"
             ],
             [
              0.4444444444444444,
              "#bd3786"
             ],
             [
              0.5555555555555556,
              "#d8576b"
             ],
             [
              0.6666666666666666,
              "#ed7953"
             ],
             [
              0.7777777777777778,
              "#fb9f3a"
             ],
             [
              0.8888888888888888,
              "#fdca26"
             ],
             [
              1,
              "#f0f921"
             ]
            ],
            "type": "histogram2d"
           }
          ],
          "histogram2dcontour": [
           {
            "colorbar": {
             "outlinewidth": 0,
             "ticks": ""
            },
            "colorscale": [
             [
              0,
              "#0d0887"
             ],
             [
              0.1111111111111111,
              "#46039f"
             ],
             [
              0.2222222222222222,
              "#7201a8"
             ],
             [
              0.3333333333333333,
              "#9c179e"
             ],
             [
              0.4444444444444444,
              "#bd3786"
             ],
             [
              0.5555555555555556,
              "#d8576b"
             ],
             [
              0.6666666666666666,
              "#ed7953"
             ],
             [
              0.7777777777777778,
              "#fb9f3a"
             ],
             [
              0.8888888888888888,
              "#fdca26"
             ],
             [
              1,
              "#f0f921"
             ]
            ],
            "type": "histogram2dcontour"
           }
          ],
          "mesh3d": [
           {
            "colorbar": {
             "outlinewidth": 0,
             "ticks": ""
            },
            "type": "mesh3d"
           }
          ],
          "parcoords": [
           {
            "line": {
             "colorbar": {
              "outlinewidth": 0,
              "ticks": ""
             }
            },
            "type": "parcoords"
           }
          ],
          "pie": [
           {
            "automargin": true,
            "type": "pie"
           }
          ],
          "scatter": [
           {
            "fillpattern": {
             "fillmode": "overlay",
             "size": 10,
             "solidity": 0.2
            },
            "type": "scatter"
           }
          ],
          "scatter3d": [
           {
            "line": {
             "colorbar": {
              "outlinewidth": 0,
              "ticks": ""
             }
            },
            "marker": {
             "colorbar": {
              "outlinewidth": 0,
              "ticks": ""
             }
            },
            "type": "scatter3d"
           }
          ],
          "scattercarpet": [
           {
            "marker": {
             "colorbar": {
              "outlinewidth": 0,
              "ticks": ""
             }
            },
            "type": "scattercarpet"
           }
          ],
          "scattergeo": [
           {
            "marker": {
             "colorbar": {
              "outlinewidth": 0,
              "ticks": ""
             }
            },
            "type": "scattergeo"
           }
          ],
          "scattergl": [
           {
            "marker": {
             "colorbar": {
              "outlinewidth": 0,
              "ticks": ""
             }
            },
            "type": "scattergl"
           }
          ],
          "scattermapbox": [
           {
            "marker": {
             "colorbar": {
              "outlinewidth": 0,
              "ticks": ""
             }
            },
            "type": "scattermapbox"
           }
          ],
          "scatterpolar": [
           {
            "marker": {
             "colorbar": {
              "outlinewidth": 0,
              "ticks": ""
             }
            },
            "type": "scatterpolar"
           }
          ],
          "scatterpolargl": [
           {
            "marker": {
             "colorbar": {
              "outlinewidth": 0,
              "ticks": ""
             }
            },
            "type": "scatterpolargl"
           }
          ],
          "scatterternary": [
           {
            "marker": {
             "colorbar": {
              "outlinewidth": 0,
              "ticks": ""
             }
            },
            "type": "scatterternary"
           }
          ],
          "surface": [
           {
            "colorbar": {
             "outlinewidth": 0,
             "ticks": ""
            },
            "colorscale": [
             [
              0,
              "#0d0887"
             ],
             [
              0.1111111111111111,
              "#46039f"
             ],
             [
              0.2222222222222222,
              "#7201a8"
             ],
             [
              0.3333333333333333,
              "#9c179e"
             ],
             [
              0.4444444444444444,
              "#bd3786"
             ],
             [
              0.5555555555555556,
              "#d8576b"
             ],
             [
              0.6666666666666666,
              "#ed7953"
             ],
             [
              0.7777777777777778,
              "#fb9f3a"
             ],
             [
              0.8888888888888888,
              "#fdca26"
             ],
             [
              1,
              "#f0f921"
             ]
            ],
            "type": "surface"
           }
          ],
          "table": [
           {
            "cells": {
             "fill": {
              "color": "#EBF0F8"
             },
             "line": {
              "color": "white"
             }
            },
            "header": {
             "fill": {
              "color": "#C8D4E3"
             },
             "line": {
              "color": "white"
             }
            },
            "type": "table"
           }
          ]
         },
         "layout": {
          "annotationdefaults": {
           "arrowcolor": "#2a3f5f",
           "arrowhead": 0,
           "arrowwidth": 1
          },
          "autotypenumbers": "strict",
          "coloraxis": {
           "colorbar": {
            "outlinewidth": 0,
            "ticks": ""
           }
          },
          "colorscale": {
           "diverging": [
            [
             0,
             "#8e0152"
            ],
            [
             0.1,
             "#c51b7d"
            ],
            [
             0.2,
             "#de77ae"
            ],
            [
             0.3,
             "#f1b6da"
            ],
            [
             0.4,
             "#fde0ef"
            ],
            [
             0.5,
             "#f7f7f7"
            ],
            [
             0.6,
             "#e6f5d0"
            ],
            [
             0.7,
             "#b8e186"
            ],
            [
             0.8,
             "#7fbc41"
            ],
            [
             0.9,
             "#4d9221"
            ],
            [
             1,
             "#276419"
            ]
           ],
           "sequential": [
            [
             0,
             "#0d0887"
            ],
            [
             0.1111111111111111,
             "#46039f"
            ],
            [
             0.2222222222222222,
             "#7201a8"
            ],
            [
             0.3333333333333333,
             "#9c179e"
            ],
            [
             0.4444444444444444,
             "#bd3786"
            ],
            [
             0.5555555555555556,
             "#d8576b"
            ],
            [
             0.6666666666666666,
             "#ed7953"
            ],
            [
             0.7777777777777778,
             "#fb9f3a"
            ],
            [
             0.8888888888888888,
             "#fdca26"
            ],
            [
             1,
             "#f0f921"
            ]
           ],
           "sequentialminus": [
            [
             0,
             "#0d0887"
            ],
            [
             0.1111111111111111,
             "#46039f"
            ],
            [
             0.2222222222222222,
             "#7201a8"
            ],
            [
             0.3333333333333333,
             "#9c179e"
            ],
            [
             0.4444444444444444,
             "#bd3786"
            ],
            [
             0.5555555555555556,
             "#d8576b"
            ],
            [
             0.6666666666666666,
             "#ed7953"
            ],
            [
             0.7777777777777778,
             "#fb9f3a"
            ],
            [
             0.8888888888888888,
             "#fdca26"
            ],
            [
             1,
             "#f0f921"
            ]
           ]
          },
          "colorway": [
           "#636efa",
           "#EF553B",
           "#00cc96",
           "#ab63fa",
           "#FFA15A",
           "#19d3f3",
           "#FF6692",
           "#B6E880",
           "#FF97FF",
           "#FECB52"
          ],
          "font": {
           "color": "#2a3f5f"
          },
          "geo": {
           "bgcolor": "white",
           "lakecolor": "white",
           "landcolor": "#E5ECF6",
           "showlakes": true,
           "showland": true,
           "subunitcolor": "white"
          },
          "hoverlabel": {
           "align": "left"
          },
          "hovermode": "closest",
          "mapbox": {
           "style": "light"
          },
          "paper_bgcolor": "white",
          "plot_bgcolor": "#E5ECF6",
          "polar": {
           "angularaxis": {
            "gridcolor": "white",
            "linecolor": "white",
            "ticks": ""
           },
           "bgcolor": "#E5ECF6",
           "radialaxis": {
            "gridcolor": "white",
            "linecolor": "white",
            "ticks": ""
           }
          },
          "scene": {
           "xaxis": {
            "backgroundcolor": "#E5ECF6",
            "gridcolor": "white",
            "gridwidth": 2,
            "linecolor": "white",
            "showbackground": true,
            "ticks": "",
            "zerolinecolor": "white"
           },
           "yaxis": {
            "backgroundcolor": "#E5ECF6",
            "gridcolor": "white",
            "gridwidth": 2,
            "linecolor": "white",
            "showbackground": true,
            "ticks": "",
            "zerolinecolor": "white"
           },
           "zaxis": {
            "backgroundcolor": "#E5ECF6",
            "gridcolor": "white",
            "gridwidth": 2,
            "linecolor": "white",
            "showbackground": true,
            "ticks": "",
            "zerolinecolor": "white"
           }
          },
          "shapedefaults": {
           "line": {
            "color": "#2a3f5f"
           }
          },
          "ternary": {
           "aaxis": {
            "gridcolor": "white",
            "linecolor": "white",
            "ticks": ""
           },
           "baxis": {
            "gridcolor": "white",
            "linecolor": "white",
            "ticks": ""
           },
           "bgcolor": "#E5ECF6",
           "caxis": {
            "gridcolor": "white",
            "linecolor": "white",
            "ticks": ""
           }
          },
          "title": {
           "x": 0.05
          },
          "xaxis": {
           "automargin": true,
           "gridcolor": "white",
           "linecolor": "white",
           "ticks": "",
           "title": {
            "standoff": 15
           },
           "zerolinecolor": "white",
           "zerolinewidth": 2
          },
          "yaxis": {
           "automargin": true,
           "gridcolor": "white",
           "linecolor": "white",
           "ticks": "",
           "title": {
            "standoff": 15
           },
           "zerolinecolor": "white",
           "zerolinewidth": 2
          }
         }
        },
        "width": 1500,
        "xaxis": {
         "dtick": 1,
         "gridcolor": "rgb(0, 0, 0)",
         "side": "top",
         "ticks": ""
        },
        "yaxis": {
         "dtick": 1,
         "ticks": "",
         "ticksuffix": "  "
        }
       }
      }
     },
     "metadata": {},
     "output_type": "display_data"
    }
   ],
   "source": [
    "import plotly.figure_factory as ff\n",
    "\n",
    "numerical_df = df.select_dtypes(include=[np.number])\n",
    "\n",
    "corr = numerical_df.corr()\n",
    "\n",
    "fig = ff.create_annotated_heatmap(\n",
    "    z=corr.values,\n",
    "    x=list(corr.columns),\n",
    "    y=list(corr.index),\n",
    "    annotation_text=corr.round(2).values,\n",
    "    showscale=True,\n",
    "    colorscale='Viridis'\n",
    ")\n",
    "\n",
    "fig.update_layout(width=1500, height=1500)\n",
    "fig.show()\n"
   ]
  },
  {
   "cell_type": "markdown",
   "metadata": {},
   "source": [
    "### 4. 파생변수 생성하기"
   ]
  },
  {
   "cell_type": "code",
   "execution_count": 30,
   "metadata": {},
   "outputs": [],
   "source": [
    "# 일반적으로 하루 근무 시간을 8시간으로 가정하여 평균 시급 계산\n",
    "df['AvgHourlyRate'] = df['DailyRate'] / 8"
   ]
  }
 ],
 "metadata": {
  "kernelspec": {
   "display_name": "Python 3",
   "language": "python",
   "name": "python3"
  },
  "language_info": {
   "codemirror_mode": {
    "name": "ipython",
    "version": 3
   },
   "file_extension": ".py",
   "mimetype": "text/x-python",
   "name": "python",
   "nbconvert_exporter": "python",
   "pygments_lexer": "ipython3",
   "version": "3.9.13"
  }
 },
 "nbformat": 4,
 "nbformat_minor": 2
}
