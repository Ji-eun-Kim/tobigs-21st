{
 "cells": [
  {
   "cell_type": "markdown",
   "metadata": {},
   "source": [
    "## Library와 Framework의 차이 간단하게 서술하기. (100자 내외) \n",
    "\n",
    "라이브러리는 개발자가 호출하여 사용할 수 있는 도구 모음이며, 프레임워크는 개발 규칙을 제공하여 개발자가 코드를 작성하고 실행하는 방식을 정의한 것을 의미한다."
   ]
  },
  {
   "cell_type": "markdown",
   "metadata": {},
   "source": [
    "## Deep Learning과 Machine Learning의 차이 간단하게 서술하기\n",
    "\n",
    "크게 보면 딥러닝이 머신러닝의 하위 분야에 속한다. 머신러닝은 데이터에서 패턴을 학습하고 예측하는 모델을 구축하는 것이며, 딥러닝은 인공 신경망을 통해 더 복잡하고 추상적인 특징을 자동으로 학습하는 것을 의미한다."
   ]
  }
 ],
 "metadata": {
  "language_info": {
   "name": "python"
  }
 },
 "nbformat": 4,
 "nbformat_minor": 2
}
