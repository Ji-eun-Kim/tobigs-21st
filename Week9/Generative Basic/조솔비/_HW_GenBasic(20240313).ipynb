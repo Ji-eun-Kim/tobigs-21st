{
  "cells": [
    {
      "cell_type": "markdown",
      "id": "6c991686-b1df-4d45-8f6b-e71dfc918fcb",
      "metadata": {
        "id": "6c991686-b1df-4d45-8f6b-e71dfc918fcb"
      },
      "source": [
        "# Generative Basic Assignment (2024/03/13)\n",
        "#### Questions(1,2) are below\n",
        "#### Contact -> toa2413@naver.com / 송인혁(투빅스20기)"
      ]
    },
    {
      "cell_type": "code",
      "execution_count": 1,
      "id": "14fd7ae3-4bd1-4d39-a971-596bb5888da4",
      "metadata": {
        "id": "14fd7ae3-4bd1-4d39-a971-596bb5888da4"
      },
      "outputs": [],
      "source": [
        "import datetime\n",
        "import os\n",
        "\n",
        "import torch\n",
        "import torchvision\n",
        "import torch.nn as nn\n",
        "import torch.optim as optim\n",
        "from torch.utils.data import Dataset, DataLoader\n",
        "import matplotlib.pylab as plt\n",
        "\n",
        "import torchvision.datasets as datasets\n",
        "import torchvision.transforms as transforms\n",
        "\n",
        "import numpy as np\n",
        "\n",
        "device = torch.device(\"cuda\" if torch.cuda.is_available() else \"cpu\")"
      ]
    },
    {
      "cell_type": "code",
      "execution_count": 2,
      "id": "af2defe5-ecc7-4539-939a-e432598481d8",
      "metadata": {
        "colab": {
          "base_uri": "https://localhost:8080/"
        },
        "id": "af2defe5-ecc7-4539-939a-e432598481d8",
        "outputId": "ba18bca3-8170-4639-a69f-c3c2f2a9acf6"
      },
      "outputs": [
        {
          "output_type": "stream",
          "name": "stdout",
          "text": [
            "Downloading http://yann.lecun.com/exdb/mnist/train-images-idx3-ubyte.gz\n",
            "Downloading http://yann.lecun.com/exdb/mnist/train-images-idx3-ubyte.gz to ../data/MNIST/raw/train-images-idx3-ubyte.gz\n"
          ]
        },
        {
          "output_type": "stream",
          "name": "stderr",
          "text": [
            "100%|██████████| 9912422/9912422 [00:00<00:00, 58579781.61it/s]\n"
          ]
        },
        {
          "output_type": "stream",
          "name": "stdout",
          "text": [
            "Extracting ../data/MNIST/raw/train-images-idx3-ubyte.gz to ../data/MNIST/raw\n",
            "\n",
            "Downloading http://yann.lecun.com/exdb/mnist/train-labels-idx1-ubyte.gz\n",
            "Downloading http://yann.lecun.com/exdb/mnist/train-labels-idx1-ubyte.gz to ../data/MNIST/raw/train-labels-idx1-ubyte.gz\n"
          ]
        },
        {
          "output_type": "stream",
          "name": "stderr",
          "text": [
            "100%|██████████| 28881/28881 [00:00<00:00, 23448643.79it/s]\n"
          ]
        },
        {
          "output_type": "stream",
          "name": "stdout",
          "text": [
            "Extracting ../data/MNIST/raw/train-labels-idx1-ubyte.gz to ../data/MNIST/raw\n",
            "\n",
            "Downloading http://yann.lecun.com/exdb/mnist/t10k-images-idx3-ubyte.gz\n",
            "Downloading http://yann.lecun.com/exdb/mnist/t10k-images-idx3-ubyte.gz to ../data/MNIST/raw/t10k-images-idx3-ubyte.gz\n"
          ]
        },
        {
          "output_type": "stream",
          "name": "stderr",
          "text": [
            "100%|██████████| 1648877/1648877 [00:00<00:00, 32744147.51it/s]\n"
          ]
        },
        {
          "output_type": "stream",
          "name": "stdout",
          "text": [
            "Extracting ../data/MNIST/raw/t10k-images-idx3-ubyte.gz to ../data/MNIST/raw\n",
            "\n",
            "Downloading http://yann.lecun.com/exdb/mnist/t10k-labels-idx1-ubyte.gz\n",
            "Downloading http://yann.lecun.com/exdb/mnist/t10k-labels-idx1-ubyte.gz to ../data/MNIST/raw/t10k-labels-idx1-ubyte.gz\n"
          ]
        },
        {
          "output_type": "stream",
          "name": "stderr",
          "text": [
            "100%|██████████| 4542/4542 [00:00<00:00, 3496151.36it/s]"
          ]
        },
        {
          "output_type": "stream",
          "name": "stdout",
          "text": [
            "Extracting ../data/MNIST/raw/t10k-labels-idx1-ubyte.gz to ../data/MNIST/raw\n",
            "\n"
          ]
        },
        {
          "output_type": "stream",
          "name": "stderr",
          "text": [
            "\n",
            "/usr/local/lib/python3.10/dist-packages/torch/utils/data/dataloader.py:558: UserWarning: This DataLoader will create 4 worker processes in total. Our suggested max number of worker in current system is 2, which is smaller than what this DataLoader is going to create. Please be aware that excessive worker creation might get DataLoader running slow or even freeze, lower the worker number to avoid potential slowness/freeze if necessary.\n",
            "  warnings.warn(_create_warning_msg(\n"
          ]
        }
      ],
      "source": [
        "transform = transforms.Compose([transforms.ToTensor()])\n",
        "\n",
        "train_dataset = datasets.MNIST(\n",
        "    root=\"../data\", train=True, transform=transform, download=True)\n",
        "\n",
        "test_dataset = datasets.MNIST(\n",
        "    root=\"../data\", train=False, transform=transform, download=True)\n",
        "\n",
        "train_loader = DataLoader(\n",
        "    train_dataset, batch_size=100, shuffle=True, num_workers=4, pin_memory=False)\n",
        "\n",
        "test_loader = DataLoader(\n",
        "    test_dataset, batch_size=100, shuffle=False, num_workers=4)"
      ]
    },
    {
      "cell_type": "markdown",
      "id": "4204de8f-0019-4599-9a91-c1582d71db4d",
      "metadata": {
        "id": "4204de8f-0019-4599-9a91-c1582d71db4d"
      },
      "source": [
        "### Q1. Encoder/Decoder Implementation\n",
        "    Show me your visualizations(MNIST images) using a VAE model made up of your own 'Encoder2/Decoder2'\n",
        "    I can see your visualizations at the last part of this code file (Assignment 1 ; Visualization)\n",
        "    \n",
        "***You can refer to the examples right under this markdown, please make your own Encoder (Class name; Encoder2/Decoder2)***"
      ]
    },
    {
      "cell_type": "code",
      "execution_count": 3,
      "id": "c1391ab2-4371-45f6-9698-f5ccac05f470",
      "metadata": {
        "id": "c1391ab2-4371-45f6-9698-f5ccac05f470"
      },
      "outputs": [],
      "source": [
        "# You can freely choose one of architectures you want that looks promising\n",
        "class Encoder(nn.Module):\n",
        "    def __init__(self, input_dim, hidden_dim, hidden_dim2, latent_dim):\n",
        "        super(Encoder, self).__init__()\n",
        "        self.input1 = nn.Linear(input_dim, hidden_dim)\n",
        "        self.input2 = nn.Linear(hidden_dim, hidden_dim2)\n",
        "        self.mean = nn.Linear(hidden_dim2, latent_dim)\n",
        "        self.var = nn.Linear (hidden_dim2, latent_dim)\n",
        "\n",
        "        self.LeakyReLU = nn.LeakyReLU(0.2)\n",
        "        self.training = True\n",
        "\n",
        "    def forward(self, x):\n",
        "        h_ = self.LeakyReLU(self.input1(x))\n",
        "        h_ = self.LeakyReLU(self.input2(h_))\n",
        "        mean = self.mean(h_)\n",
        "        log_var = self.var(h_)\n",
        "        return mean, log_var"
      ]
    },
    {
      "cell_type": "code",
      "execution_count": 4,
      "id": "dd98c352-ebff-4bb0-a107-369ca560657a",
      "metadata": {
        "id": "dd98c352-ebff-4bb0-a107-369ca560657a"
      },
      "outputs": [],
      "source": [
        "class Encoder2(nn.Module):\n",
        "    def __init__(self, input_dim, hidden_dim, hidden_dim2, latent_dim):\n",
        "        super(Encoder2, self).__init__()\n",
        "        self.input1 = nn.Linear(input_dim, hidden_dim)\n",
        "        self.input2 = nn.Linear(hidden_dim, hidden_dim2)\n",
        "        self.mean = nn.Linear(hidden_dim2, latent_dim)\n",
        "        self.var = nn.Linear(hidden_dim2, latent_dim)\n",
        "        self.relu = nn.ReLU()\n",
        "\n",
        "    def forward(self, x):\n",
        "        h_ = self.relu(self.input1(x))\n",
        "        h_ = self.relu(self.input2(h_))\n",
        "        mean = self.mean(h_)\n",
        "        log_var = self.var(h_)\n",
        "        return mean, log_var"
      ]
    },
    {
      "cell_type": "code",
      "execution_count": 5,
      "id": "c629498b-7c6b-4108-bcaf-263ce44b45fb",
      "metadata": {
        "id": "c629498b-7c6b-4108-bcaf-263ce44b45fb"
      },
      "outputs": [],
      "source": [
        "class Decoder(nn.Module):\n",
        "    def __init__(self, latent_dim, hidden_dim, hidden_dim2, output_dim):\n",
        "        super(Decoder, self).__init__()\n",
        "        self.hidden1 = nn.Linear(latent_dim, hidden_dim2)\n",
        "        self.hidden2 = nn.Linear(hidden_dim2, hidden_dim)\n",
        "        self.output = nn.Linear(hidden_dim, output_dim)\n",
        "        self.LeakyReLU = nn.LeakyReLU(0.2)\n",
        "\n",
        "    def forward(self, x):\n",
        "        h = self.LeakyReLU(self.hidden1(x))\n",
        "        h = self.LeakyReLU(self.hidden2(h))\n",
        "        x_hat = torch.sigmoid(self.output(h))\n",
        "        return x_hat"
      ]
    },
    {
      "cell_type": "code",
      "execution_count": 6,
      "id": "a947ccbf-e8be-4b60-93e6-efa6d64a8231",
      "metadata": {
        "id": "a947ccbf-e8be-4b60-93e6-efa6d64a8231"
      },
      "outputs": [],
      "source": [
        "class Decoder2(nn.Module):\n",
        "    def __init__(self, latent_dim, hidden_dim, hidden_dim2, output_dim):\n",
        "        super(Decoder2, self).__init__()\n",
        "        self.hidden1 = nn.Linear(latent_dim, hidden_dim2)\n",
        "        self.hidden2 = nn.Linear(hidden_dim2, hidden_dim)\n",
        "        self.output = nn.Linear(hidden_dim, output_dim)\n",
        "        self.relu = nn.ReLU()\n",
        "\n",
        "    def forward(self, x):\n",
        "        h = self.relu(self.hidden1(x))\n",
        "        h = self.relu(self.hidden2(h))\n",
        "        x_hat = torch.sigmoid(self.output(h))\n",
        "        return x_hat"
      ]
    },
    {
      "cell_type": "code",
      "execution_count": 7,
      "id": "3696228c-9624-4abe-a48e-3ad00bededc8",
      "metadata": {
        "id": "3696228c-9624-4abe-a48e-3ad00bededc8"
      },
      "outputs": [],
      "source": [
        "class Model(nn.Module):\n",
        "    def __init__(self, Encoder, Decoder):\n",
        "        super(Model, self).__init__()\n",
        "        self.Encoder = Encoder\n",
        "        self.Decoder = Decoder\n",
        "\n",
        "    # Think about why you need reparameterization trick (Hint; backpropagation)\n",
        "    def reparameterization(self, mean, var):\n",
        "        epsilon = torch.randn_like(var).to(device)\n",
        "        z = mean + var*epsilon\n",
        "        return z\n",
        "\n",
        "    def forward(self, x):\n",
        "        mean, log_var = self.Encoder(x)\n",
        "        z = self.reparameterization(mean, torch.exp(0.5 * log_var))\n",
        "        x_hat = self.Decoder(z)\n",
        "        return x_hat, mean, log_var"
      ]
    },
    {
      "cell_type": "code",
      "execution_count": 8,
      "id": "e5641e6d-f5c6-441d-86f8-22bf575a9eaa",
      "metadata": {
        "id": "e5641e6d-f5c6-441d-86f8-22bf575a9eaa"
      },
      "outputs": [],
      "source": [
        "# Any modifications are allowed depending on your own Encoder2/Decoder2\n",
        "# -----------------------------------\n",
        "x_dim  = 784\n",
        "hidden_dim = 400\n",
        "hidden_dim2 = 200\n",
        "latent_dim = 20\n",
        "epochs = 30\n",
        "batch_size = 100\n",
        "# -----------------------------------\n",
        "\n",
        "\n",
        "\n",
        "# encoder = Encoder(input_dim=x_dim, hidden_dim=hidden_dim, hidden_dim2=hidden_dim2, latent_dim=latent_dim)\n",
        "encoder = Encoder2(input_dim=x_dim, hidden_dim=hidden_dim, hidden_dim2=hidden_dim2, latent_dim=latent_dim)\n",
        "\n",
        "# decoder = Decoder(latent_dim=latent_dim, hidden_dim = hidden_dim, hidden_dim2=hidden_dim2, output_dim = x_dim)\n",
        "decoder = Decoder2(latent_dim=latent_dim, hidden_dim = hidden_dim, hidden_dim2=hidden_dim2, output_dim = x_dim)\n",
        "\n",
        "model = Model(Encoder=encoder, Decoder=decoder).to(device)"
      ]
    },
    {
      "cell_type": "markdown",
      "id": "1a1dda96-70cb-4f76-9ce6-fd97f3163e43",
      "metadata": {
        "id": "1a1dda96-70cb-4f76-9ce6-fd97f3163e43"
      },
      "source": [
        "### Q2. (Optional Assignment)\n",
        "    Refering to Beta-VAE(https://openreview.net/forum?id=Sy2fzU9gl), give any kind of manipulations on pre-made loss function, and visualize your samples.\n",
        "    It would be nice to see whether the fidelity of sample data is improved or not! Also guess why.\n",
        "***Warning)  you don't have to take all the contents of this paper! Look carefully at the Equation (4)***"
      ]
    },
    {
      "cell_type": "code",
      "execution_count": 9,
      "id": "57224c98-da41-48f1-a1fc-52d922492ab7",
      "metadata": {
        "id": "57224c98-da41-48f1-a1fc-52d922492ab7"
      },
      "outputs": [],
      "source": [
        "# (Optional Assignment)\n",
        "def loss_function(x, x_hat, mean, log_var):\n",
        "    reproduction_loss = nn.functional.binary_cross_entropy(x_hat, x, reduction='sum')\n",
        "    # Think about how to calculate KLDivergence in closed form (Hint; assumptions for Gaussian), please refer to the following links\n",
        "    # https://stats.stackexchange.com/questions/7440/kl-divergence-between-two-univariate-gaussians\n",
        "    KLD = - 0.5 * torch.sum(1+ log_var - mean.pow(2) - log_var.exp())\n",
        "    return reproduction_loss, KLD\n",
        "\n",
        "optimizer = torch.optim.Adam(model.parameters(), lr=1e-3)"
      ]
    },
    {
      "cell_type": "code",
      "execution_count": 10,
      "id": "7e517f22-c296-44ba-882a-78788900064e",
      "metadata": {
        "id": "7e517f22-c296-44ba-882a-78788900064e"
      },
      "outputs": [],
      "source": [
        "def train(epoch, model, train_loader, optimizer):\n",
        "    model.train()\n",
        "    train_loss = 0\n",
        "    for batch_idx, (x, _) in enumerate(train_loader):\n",
        "        x = x.view(batch_size, x_dim)\n",
        "        x = x.to(device)\n",
        "\n",
        "        optimizer.zero_grad()\n",
        "        x_hat, mean, log_var = model(x)\n",
        "        BCE, KLD = loss_function(x, x_hat, mean, log_var)\n",
        "        loss = BCE + KLD\n",
        "\n",
        "        train_loss += loss.item()\n",
        "        loss.backward()\n",
        "        optimizer.step()\n",
        "\n",
        "        if batch_idx % 100 == 0:\n",
        "            print('Train Epoch: {} [{}/{} ({:.0f}%)]\\t Loss: {:.6f}'.format(\n",
        "                epoch, batch_idx * len(x), len(train_loader.dataset),\n",
        "                100. * batch_idx / len(train_loader),\n",
        "                loss.item() / len(x)))\n",
        "\n",
        "    print(\"======> Epoch: {} Average loss: {:.4f}\".format(\n",
        "        epoch, train_loss / len(train_loader.dataset)))"
      ]
    },
    {
      "cell_type": "code",
      "execution_count": 11,
      "id": "03734a8e-7df4-4f82-bcf7-f1b83e888f3a",
      "metadata": {
        "id": "03734a8e-7df4-4f82-bcf7-f1b83e888f3a"
      },
      "outputs": [],
      "source": [
        "def test(epoch, model, test_loader):\n",
        "    model.eval()\n",
        "    test_loss = 0\n",
        "    with torch.no_grad():\n",
        "        for batch_idx, (x, _) in enumerate(test_loader):\n",
        "            x = x.view(batch_size, x_dim)\n",
        "            x = x.to(device)\n",
        "            x_hat, mean, log_var = model(x)\n",
        "            BCE, KLD = loss_function(x, x_hat, mean, log_var)\n",
        "            loss = BCE + KLD\n",
        "\n",
        "            test_loss += loss.item()\n",
        "\n",
        "            if batch_idx == 0:\n",
        "                n = min(x.size(0), 8)\n",
        "                comparison = torch.cat([x[:n], x_hat.view(batch_size, x_dim)[:n]])\n",
        "                grid = torchvision.utils.make_grid(comparison.cpu())"
      ]
    },
    {
      "cell_type": "code",
      "execution_count": 12,
      "id": "d8aba750-5e8d-47aa-9dcc-369c302c9d9a",
      "metadata": {
        "colab": {
          "base_uri": "https://localhost:8080/",
          "height": 1000,
          "referenced_widgets": [
            "530f4a8c46da42db95056f203c10ea2a",
            "648c798a3dbc4db59d6d6ad38c4492fe",
            "efd753961cca4ee3b13ce62ce44a5124",
            "74cfd14cae9e47359ce8187df0faa754",
            "6c4dc2e684c9453b946d5cc116618e83",
            "9770f6e7e0f94573aa76269c8001e316",
            "004cbe9ed5b546bcb24e09b737a5d29e",
            "482076309eee4c3ab96a89a979bd10d8",
            "0df19b8e127842fc9f8c239df1e0340b",
            "37a3900630674d78870a8af036882c42",
            "c9c9a4de4e3a480ebfb664daaa6046b4"
          ]
        },
        "id": "d8aba750-5e8d-47aa-9dcc-369c302c9d9a",
        "outputId": "70a500e6-93f2-4fd6-8e9f-3a9be5798547"
      },
      "outputs": [
        {
          "output_type": "display_data",
          "data": {
            "text/plain": [
              "  0%|          | 0/30 [00:00<?, ?it/s]"
            ],
            "application/vnd.jupyter.widget-view+json": {
              "version_major": 2,
              "version_minor": 0,
              "model_id": "530f4a8c46da42db95056f203c10ea2a"
            }
          },
          "metadata": {}
        },
        {
          "output_type": "stream",
          "name": "stdout",
          "text": [
            "Train Epoch: 0 [0/60000 (0%)]\t Loss: 544.401562\n",
            "Train Epoch: 0 [10000/60000 (17%)]\t Loss: 206.081191\n",
            "Train Epoch: 0 [20000/60000 (33%)]\t Loss: 191.155918\n",
            "Train Epoch: 0 [30000/60000 (50%)]\t Loss: 170.860859\n",
            "Train Epoch: 0 [40000/60000 (67%)]\t Loss: 152.600176\n",
            "Train Epoch: 0 [50000/60000 (83%)]\t Loss: 142.874561\n",
            "======> Epoch: 0 Average loss: 174.4284\n",
            "\n",
            "\n",
            "Train Epoch: 1 [0/60000 (0%)]\t Loss: 137.535186\n",
            "Train Epoch: 1 [10000/60000 (17%)]\t Loss: 130.189707\n",
            "Train Epoch: 1 [20000/60000 (33%)]\t Loss: 130.523877\n",
            "Train Epoch: 1 [30000/60000 (50%)]\t Loss: 125.306367\n",
            "Train Epoch: 1 [40000/60000 (67%)]\t Loss: 119.317090\n",
            "Train Epoch: 1 [50000/60000 (83%)]\t Loss: 122.052402\n",
            "======> Epoch: 1 Average loss: 127.7035\n",
            "\n",
            "\n",
            "Train Epoch: 2 [0/60000 (0%)]\t Loss: 118.872295\n",
            "Train Epoch: 2 [10000/60000 (17%)]\t Loss: 121.762617\n",
            "Train Epoch: 2 [20000/60000 (33%)]\t Loss: 121.534951\n",
            "Train Epoch: 2 [30000/60000 (50%)]\t Loss: 118.634775\n",
            "Train Epoch: 2 [40000/60000 (67%)]\t Loss: 119.641582\n",
            "Train Epoch: 2 [50000/60000 (83%)]\t Loss: 113.162432\n",
            "======> Epoch: 2 Average loss: 117.6470\n",
            "\n",
            "\n",
            "Train Epoch: 3 [0/60000 (0%)]\t Loss: 118.855098\n",
            "Train Epoch: 3 [10000/60000 (17%)]\t Loss: 111.460049\n",
            "Train Epoch: 3 [20000/60000 (33%)]\t Loss: 113.365742\n",
            "Train Epoch: 3 [30000/60000 (50%)]\t Loss: 107.580762\n",
            "Train Epoch: 3 [40000/60000 (67%)]\t Loss: 114.223047\n",
            "Train Epoch: 3 [50000/60000 (83%)]\t Loss: 117.676592\n",
            "======> Epoch: 3 Average loss: 112.8511\n",
            "\n",
            "\n",
            "Train Epoch: 4 [0/60000 (0%)]\t Loss: 112.709131\n",
            "Train Epoch: 4 [10000/60000 (17%)]\t Loss: 105.003428\n",
            "Train Epoch: 4 [20000/60000 (33%)]\t Loss: 113.841787\n",
            "Train Epoch: 4 [30000/60000 (50%)]\t Loss: 109.579092\n",
            "Train Epoch: 4 [40000/60000 (67%)]\t Loss: 107.973887\n",
            "Train Epoch: 4 [50000/60000 (83%)]\t Loss: 103.455967\n",
            "======> Epoch: 4 Average loss: 109.9797\n",
            "\n",
            "\n",
            "Train Epoch: 5 [0/60000 (0%)]\t Loss: 108.946484\n",
            "Train Epoch: 5 [10000/60000 (17%)]\t Loss: 108.948936\n",
            "Train Epoch: 5 [20000/60000 (33%)]\t Loss: 105.517490\n",
            "Train Epoch: 5 [30000/60000 (50%)]\t Loss: 104.966973\n",
            "Train Epoch: 5 [40000/60000 (67%)]\t Loss: 101.472314\n",
            "Train Epoch: 5 [50000/60000 (83%)]\t Loss: 110.185664\n",
            "======> Epoch: 5 Average loss: 107.9887\n",
            "\n",
            "\n",
            "Train Epoch: 6 [0/60000 (0%)]\t Loss: 102.355859\n",
            "Train Epoch: 6 [10000/60000 (17%)]\t Loss: 104.995391\n",
            "Train Epoch: 6 [20000/60000 (33%)]\t Loss: 104.235313\n",
            "Train Epoch: 6 [30000/60000 (50%)]\t Loss: 107.567715\n",
            "Train Epoch: 6 [40000/60000 (67%)]\t Loss: 106.832080\n",
            "Train Epoch: 6 [50000/60000 (83%)]\t Loss: 106.638740\n",
            "======> Epoch: 6 Average loss: 106.4905\n",
            "\n",
            "\n",
            "Train Epoch: 7 [0/60000 (0%)]\t Loss: 105.554658\n",
            "Train Epoch: 7 [10000/60000 (17%)]\t Loss: 105.766230\n",
            "Train Epoch: 7 [20000/60000 (33%)]\t Loss: 101.245381\n",
            "Train Epoch: 7 [30000/60000 (50%)]\t Loss: 108.061729\n",
            "Train Epoch: 7 [40000/60000 (67%)]\t Loss: 101.590488\n",
            "Train Epoch: 7 [50000/60000 (83%)]\t Loss: 104.424873\n",
            "======> Epoch: 7 Average loss: 105.4030\n",
            "\n",
            "\n",
            "Train Epoch: 8 [0/60000 (0%)]\t Loss: 109.484326\n",
            "Train Epoch: 8 [10000/60000 (17%)]\t Loss: 105.171162\n",
            "Train Epoch: 8 [20000/60000 (33%)]\t Loss: 105.365195\n",
            "Train Epoch: 8 [30000/60000 (50%)]\t Loss: 110.527227\n",
            "Train Epoch: 8 [40000/60000 (67%)]\t Loss: 103.706553\n",
            "Train Epoch: 8 [50000/60000 (83%)]\t Loss: 109.883652\n",
            "======> Epoch: 8 Average loss: 104.5896\n",
            "\n",
            "\n",
            "Train Epoch: 9 [0/60000 (0%)]\t Loss: 104.620430\n",
            "Train Epoch: 9 [10000/60000 (17%)]\t Loss: 107.145986\n",
            "Train Epoch: 9 [20000/60000 (33%)]\t Loss: 100.271680\n",
            "Train Epoch: 9 [30000/60000 (50%)]\t Loss: 107.395332\n",
            "Train Epoch: 9 [40000/60000 (67%)]\t Loss: 106.298291\n",
            "Train Epoch: 9 [50000/60000 (83%)]\t Loss: 102.754609\n",
            "======> Epoch: 9 Average loss: 103.9185\n",
            "\n",
            "\n",
            "Train Epoch: 10 [0/60000 (0%)]\t Loss: 102.203721\n",
            "Train Epoch: 10 [10000/60000 (17%)]\t Loss: 100.343584\n",
            "Train Epoch: 10 [20000/60000 (33%)]\t Loss: 102.147529\n",
            "Train Epoch: 10 [30000/60000 (50%)]\t Loss: 103.007344\n",
            "Train Epoch: 10 [40000/60000 (67%)]\t Loss: 106.979326\n",
            "Train Epoch: 10 [50000/60000 (83%)]\t Loss: 101.906523\n",
            "======> Epoch: 10 Average loss: 103.3190\n",
            "\n",
            "\n",
            "Train Epoch: 11 [0/60000 (0%)]\t Loss: 108.194219\n",
            "Train Epoch: 11 [10000/60000 (17%)]\t Loss: 99.206992\n",
            "Train Epoch: 11 [20000/60000 (33%)]\t Loss: 104.837197\n",
            "Train Epoch: 11 [30000/60000 (50%)]\t Loss: 105.186611\n",
            "Train Epoch: 11 [40000/60000 (67%)]\t Loss: 106.302607\n",
            "Train Epoch: 11 [50000/60000 (83%)]\t Loss: 106.482705\n",
            "======> Epoch: 11 Average loss: 102.8736\n",
            "\n",
            "\n",
            "Train Epoch: 12 [0/60000 (0%)]\t Loss: 101.925879\n",
            "Train Epoch: 12 [10000/60000 (17%)]\t Loss: 101.891328\n",
            "Train Epoch: 12 [20000/60000 (33%)]\t Loss: 99.883984\n",
            "Train Epoch: 12 [30000/60000 (50%)]\t Loss: 98.549219\n",
            "Train Epoch: 12 [40000/60000 (67%)]\t Loss: 106.652334\n",
            "Train Epoch: 12 [50000/60000 (83%)]\t Loss: 102.315010\n",
            "======> Epoch: 12 Average loss: 102.4211\n",
            "\n",
            "\n",
            "Train Epoch: 13 [0/60000 (0%)]\t Loss: 100.175771\n",
            "Train Epoch: 13 [10000/60000 (17%)]\t Loss: 102.968965\n",
            "Train Epoch: 13 [20000/60000 (33%)]\t Loss: 104.539727\n",
            "Train Epoch: 13 [30000/60000 (50%)]\t Loss: 105.102773\n",
            "Train Epoch: 13 [40000/60000 (67%)]\t Loss: 101.058320\n",
            "Train Epoch: 13 [50000/60000 (83%)]\t Loss: 99.388672\n",
            "======> Epoch: 13 Average loss: 102.0527\n",
            "\n",
            "\n",
            "Train Epoch: 14 [0/60000 (0%)]\t Loss: 103.076484\n",
            "Train Epoch: 14 [10000/60000 (17%)]\t Loss: 99.281387\n",
            "Train Epoch: 14 [20000/60000 (33%)]\t Loss: 100.913125\n",
            "Train Epoch: 14 [30000/60000 (50%)]\t Loss: 102.460723\n",
            "Train Epoch: 14 [40000/60000 (67%)]\t Loss: 102.373633\n",
            "Train Epoch: 14 [50000/60000 (83%)]\t Loss: 106.125791\n",
            "======> Epoch: 14 Average loss: 101.7455\n",
            "\n",
            "\n",
            "Train Epoch: 15 [0/60000 (0%)]\t Loss: 100.610977\n",
            "Train Epoch: 15 [10000/60000 (17%)]\t Loss: 98.643711\n",
            "Train Epoch: 15 [20000/60000 (33%)]\t Loss: 101.017813\n",
            "Train Epoch: 15 [30000/60000 (50%)]\t Loss: 107.564414\n",
            "Train Epoch: 15 [40000/60000 (67%)]\t Loss: 100.625557\n",
            "Train Epoch: 15 [50000/60000 (83%)]\t Loss: 101.762412\n",
            "======> Epoch: 15 Average loss: 101.4085\n",
            "\n",
            "\n",
            "Train Epoch: 16 [0/60000 (0%)]\t Loss: 100.277539\n",
            "Train Epoch: 16 [10000/60000 (17%)]\t Loss: 98.191709\n",
            "Train Epoch: 16 [20000/60000 (33%)]\t Loss: 100.138672\n",
            "Train Epoch: 16 [30000/60000 (50%)]\t Loss: 98.023174\n",
            "Train Epoch: 16 [40000/60000 (67%)]\t Loss: 100.999590\n",
            "Train Epoch: 16 [50000/60000 (83%)]\t Loss: 103.744287\n",
            "======> Epoch: 16 Average loss: 101.2182\n",
            "\n",
            "\n",
            "Train Epoch: 17 [0/60000 (0%)]\t Loss: 101.232441\n",
            "Train Epoch: 17 [10000/60000 (17%)]\t Loss: 95.322676\n",
            "Train Epoch: 17 [20000/60000 (33%)]\t Loss: 104.280674\n",
            "Train Epoch: 17 [30000/60000 (50%)]\t Loss: 97.480459\n",
            "Train Epoch: 17 [40000/60000 (67%)]\t Loss: 103.421807\n",
            "Train Epoch: 17 [50000/60000 (83%)]\t Loss: 100.789365\n",
            "======> Epoch: 17 Average loss: 100.9829\n",
            "\n",
            "\n",
            "Train Epoch: 18 [0/60000 (0%)]\t Loss: 97.984883\n",
            "Train Epoch: 18 [10000/60000 (17%)]\t Loss: 100.949629\n",
            "Train Epoch: 18 [20000/60000 (33%)]\t Loss: 97.764199\n",
            "Train Epoch: 18 [30000/60000 (50%)]\t Loss: 98.802500\n",
            "Train Epoch: 18 [40000/60000 (67%)]\t Loss: 99.555879\n",
            "Train Epoch: 18 [50000/60000 (83%)]\t Loss: 98.963076\n",
            "======> Epoch: 18 Average loss: 100.7008\n",
            "\n",
            "\n",
            "Train Epoch: 19 [0/60000 (0%)]\t Loss: 98.519824\n",
            "Train Epoch: 19 [10000/60000 (17%)]\t Loss: 101.823613\n",
            "Train Epoch: 19 [20000/60000 (33%)]\t Loss: 97.706777\n",
            "Train Epoch: 19 [30000/60000 (50%)]\t Loss: 99.569238\n",
            "Train Epoch: 19 [40000/60000 (67%)]\t Loss: 100.176846\n",
            "Train Epoch: 19 [50000/60000 (83%)]\t Loss: 97.508330\n",
            "======> Epoch: 19 Average loss: 100.5911\n",
            "\n",
            "\n",
            "Train Epoch: 20 [0/60000 (0%)]\t Loss: 98.896543\n",
            "Train Epoch: 20 [10000/60000 (17%)]\t Loss: 95.793320\n",
            "Train Epoch: 20 [20000/60000 (33%)]\t Loss: 105.733184\n",
            "Train Epoch: 20 [30000/60000 (50%)]\t Loss: 101.969502\n",
            "Train Epoch: 20 [40000/60000 (67%)]\t Loss: 99.757520\n",
            "Train Epoch: 20 [50000/60000 (83%)]\t Loss: 94.773594\n",
            "======> Epoch: 20 Average loss: 100.3670\n",
            "\n",
            "\n",
            "Train Epoch: 21 [0/60000 (0%)]\t Loss: 97.423428\n",
            "Train Epoch: 21 [10000/60000 (17%)]\t Loss: 106.371602\n",
            "Train Epoch: 21 [20000/60000 (33%)]\t Loss: 94.151016\n",
            "Train Epoch: 21 [30000/60000 (50%)]\t Loss: 102.756406\n",
            "Train Epoch: 21 [40000/60000 (67%)]\t Loss: 99.636689\n",
            "Train Epoch: 21 [50000/60000 (83%)]\t Loss: 94.196621\n",
            "======> Epoch: 21 Average loss: 100.1724\n",
            "\n",
            "\n",
            "Train Epoch: 22 [0/60000 (0%)]\t Loss: 97.005879\n",
            "Train Epoch: 22 [10000/60000 (17%)]\t Loss: 101.995264\n",
            "Train Epoch: 22 [20000/60000 (33%)]\t Loss: 103.513223\n",
            "Train Epoch: 22 [30000/60000 (50%)]\t Loss: 98.813477\n",
            "Train Epoch: 22 [40000/60000 (67%)]\t Loss: 102.192842\n",
            "Train Epoch: 22 [50000/60000 (83%)]\t Loss: 101.598955\n",
            "======> Epoch: 22 Average loss: 100.0581\n",
            "\n",
            "\n",
            "Train Epoch: 23 [0/60000 (0%)]\t Loss: 99.530898\n",
            "Train Epoch: 23 [10000/60000 (17%)]\t Loss: 100.762607\n",
            "Train Epoch: 23 [20000/60000 (33%)]\t Loss: 98.061318\n",
            "Train Epoch: 23 [30000/60000 (50%)]\t Loss: 96.655205\n",
            "Train Epoch: 23 [40000/60000 (67%)]\t Loss: 100.051426\n",
            "Train Epoch: 23 [50000/60000 (83%)]\t Loss: 100.983799\n",
            "======> Epoch: 23 Average loss: 99.9038\n",
            "\n",
            "\n",
            "Train Epoch: 24 [0/60000 (0%)]\t Loss: 92.430898\n",
            "Train Epoch: 24 [10000/60000 (17%)]\t Loss: 104.327441\n",
            "Train Epoch: 24 [20000/60000 (33%)]\t Loss: 103.085762\n",
            "Train Epoch: 24 [30000/60000 (50%)]\t Loss: 101.660410\n",
            "Train Epoch: 24 [40000/60000 (67%)]\t Loss: 101.359414\n",
            "Train Epoch: 24 [50000/60000 (83%)]\t Loss: 99.773184\n",
            "======> Epoch: 24 Average loss: 99.7510\n",
            "\n",
            "\n",
            "Train Epoch: 25 [0/60000 (0%)]\t Loss: 102.977197\n",
            "Train Epoch: 25 [10000/60000 (17%)]\t Loss: 101.336562\n",
            "Train Epoch: 25 [20000/60000 (33%)]\t Loss: 95.057891\n",
            "Train Epoch: 25 [30000/60000 (50%)]\t Loss: 99.610273\n",
            "Train Epoch: 25 [40000/60000 (67%)]\t Loss: 99.486035\n",
            "Train Epoch: 25 [50000/60000 (83%)]\t Loss: 102.107754\n",
            "======> Epoch: 25 Average loss: 99.6164\n",
            "\n",
            "\n",
            "Train Epoch: 26 [0/60000 (0%)]\t Loss: 102.247949\n",
            "Train Epoch: 26 [10000/60000 (17%)]\t Loss: 100.257363\n",
            "Train Epoch: 26 [20000/60000 (33%)]\t Loss: 98.571230\n",
            "Train Epoch: 26 [30000/60000 (50%)]\t Loss: 99.511953\n",
            "Train Epoch: 26 [40000/60000 (67%)]\t Loss: 103.415391\n",
            "Train Epoch: 26 [50000/60000 (83%)]\t Loss: 99.868477\n",
            "======> Epoch: 26 Average loss: 99.4969\n",
            "\n",
            "\n",
            "Train Epoch: 27 [0/60000 (0%)]\t Loss: 98.319658\n",
            "Train Epoch: 27 [10000/60000 (17%)]\t Loss: 101.558506\n",
            "Train Epoch: 27 [20000/60000 (33%)]\t Loss: 104.053887\n",
            "Train Epoch: 27 [30000/60000 (50%)]\t Loss: 101.311816\n",
            "Train Epoch: 27 [40000/60000 (67%)]\t Loss: 97.606387\n",
            "Train Epoch: 27 [50000/60000 (83%)]\t Loss: 102.047266\n",
            "======> Epoch: 27 Average loss: 99.3694\n",
            "\n",
            "\n",
            "Train Epoch: 28 [0/60000 (0%)]\t Loss: 95.258506\n",
            "Train Epoch: 28 [10000/60000 (17%)]\t Loss: 97.216475\n",
            "Train Epoch: 28 [20000/60000 (33%)]\t Loss: 100.533994\n",
            "Train Epoch: 28 [30000/60000 (50%)]\t Loss: 99.759365\n",
            "Train Epoch: 28 [40000/60000 (67%)]\t Loss: 98.490762\n",
            "Train Epoch: 28 [50000/60000 (83%)]\t Loss: 101.587207\n",
            "======> Epoch: 28 Average loss: 99.2787\n",
            "\n",
            "\n",
            "Train Epoch: 29 [0/60000 (0%)]\t Loss: 98.812480\n",
            "Train Epoch: 29 [10000/60000 (17%)]\t Loss: 103.687305\n",
            "Train Epoch: 29 [20000/60000 (33%)]\t Loss: 98.470039\n",
            "Train Epoch: 29 [30000/60000 (50%)]\t Loss: 101.240107\n",
            "Train Epoch: 29 [40000/60000 (67%)]\t Loss: 101.137422\n",
            "Train Epoch: 29 [50000/60000 (83%)]\t Loss: 97.310205\n",
            "======> Epoch: 29 Average loss: 99.1564\n",
            "\n",
            "\n"
          ]
        }
      ],
      "source": [
        "# Trackning the process\n",
        "# If you have difficulty on installing 'tqdm', modifications are allowed. Not necessary\n",
        "from tqdm.auto import tqdm\n",
        "\n",
        "# Training an VAE model, and record losses\n",
        "for epoch in tqdm(range(0, epochs)):\n",
        "    train(epoch, model, train_loader, optimizer)\n",
        "    test(epoch, model, test_loader)\n",
        "    print(\"\\n\")\n"
      ]
    },
    {
      "cell_type": "code",
      "execution_count": 13,
      "id": "229e80ee-486b-4946-af44-398071a116e1",
      "metadata": {
        "colab": {
          "base_uri": "https://localhost:8080/",
          "height": 58
        },
        "id": "229e80ee-486b-4946-af44-398071a116e1",
        "outputId": "ab7d521d-3624-402f-a7e2-1c930b2016e3"
      },
      "outputs": [
        {
          "output_type": "display_data",
          "data": {
            "text/plain": [
              "<Figure size 2000x800 with 20 Axes>"
            ],
            "image/png": "[encoded data removed]"
          },
          "metadata": {}
        }
      ],
      "source": [
        "# After training decoder, begin visualize what comes after decoder given input z\n",
        "def visualize(decoder,z):\n",
        "    x_sample = decoder(z).view(20,28,28).detach().numpy()\n",
        "    fig, axes = plt.subplots(nrows=1, ncols=20, figsize=(20, 8))\n",
        "    for i, ax in enumerate(axes.flat):\n",
        "        ax.imshow(x_sample[i], cmap='gray')\n",
        "        ax.axis('off')\n",
        "    plt.tight_layout()\n",
        "    plt.show()\n",
        "\n",
        "z_sample = torch.randn(20,20)\n",
        "\n",
        "# (Assignment 1 ; Visualization)\n",
        "visualize(decoder,z_sample)\n"
      ]
    },
    {
      "cell_type": "code",
      "execution_count": 14,
      "id": "d8f29311-a0fc-4f9f-a15c-a2f1224d0344",
      "metadata": {
        "colab": {
          "base_uri": "https://localhost:8080/",
          "height": 58
        },
        "id": "d8f29311-a0fc-4f9f-a15c-a2f1224d0344",
        "outputId": "78ae32ae-f6a9-4b30-c136-9b99e367fc7d"
      },
      "outputs": [
        {
          "output_type": "display_data",
          "data": {
            "text/plain": [
              "<Figure size 2000x800 with 20 Axes>"
            ],
            "image/png": "[encoded data removed]"
          },
          "metadata": {}
        }
      ],
      "source": [
        "# Set seed numbers to take reproducibility\n",
        "seed = 3\n",
        "torch.manual_seed(seed)\n",
        "# torch.cuda.manual_seed(seed)\n",
        "np.random.seed(seed)\n",
        "\n",
        "# Random z\n",
        "z = torch.randn(20)\n",
        "# Make copies\n",
        "z = z.repeat(20,1)\n",
        "\n",
        "# Interpolation in latent space z\n",
        "for i in range(20):\n",
        "    z[i, 0] += i * 0.5 - (20 - 1) * 0.5 / 2\n",
        "\n",
        "# (Assignment 1 ; Visualization)\n",
        "visualize(decoder,z)"
      ]
    },
    {
      "cell_type": "markdown",
      "id": "d01be24b-3ef5-4069-9099-c8d4d734466b",
      "metadata": {
        "id": "d01be24b-3ef5-4069-9099-c8d4d734466b"
      },
      "source": [
        "## Answer(Q2; Optional) : Please write any codes or statements below this space\n"
      ]
    },
    {
      "cell_type": "code",
      "execution_count": 14,
      "id": "d33a0d36-14e2-4f75-b846-e364b711ced8",
      "metadata": {
        "id": "d33a0d36-14e2-4f75-b846-e364b711ced8"
      },
      "outputs": [],
      "source": []
    }
  ],
  "metadata": {
    "kernelspec": {
      "display_name": "Python 3",
      "language": "python",
      "name": "python3"
    },
    "language_info": {
      "codemirror_mode": {
        "name": "ipython",
        "version": 3
      },
      "file_extension": ".py",
      "mimetype": "text/x-python",
      "name": "python",
      "nbconvert_exporter": "python",
      "pygments_lexer": "ipython3",
      "version": "3.7.16"
    },
    "colab": {
      "provenance": []
    },
    "widgets": {
      "application/vnd.jupyter.widget-state+json": {
        "530f4a8c46da42db95056f203c10ea2a": {
          "model_module": "@jupyter-widgets/controls",
          "model_name": "HBoxModel",
          "model_module_version": "1.5.0",
          "state": {
            "_dom_classes": [],
            "_model_module": "@jupyter-widgets/controls",
            "_model_module_version": "1.5.0",
            "_model_name": "HBoxModel",
            "_view_count": null,
            "_view_module": "@jupyter-widgets/controls",
            "_view_module_version": "1.5.0",
            "_view_name": "HBoxView",
            "box_style": "",
            "children": [
              "IPY_MODEL_648c798a3dbc4db59d6d6ad38c4492fe",
              "IPY_MODEL_efd753961cca4ee3b13ce62ce44a5124",
              "IPY_MODEL_74cfd14cae9e47359ce8187df0faa754"
            ],
            "layout": "IPY_MODEL_6c4dc2e684c9453b946d5cc116618e83"
          }
        },
        "648c798a3dbc4db59d6d6ad38c4492fe": {
          "model_module": "@jupyter-widgets/controls",
          "model_name": "HTMLModel",
          "model_module_version": "1.5.0",
          "state": {
            "_dom_classes": [],
            "_model_module": "@jupyter-widgets/controls",
            "_model_module_version": "1.5.0",
            "_model_name": "HTMLModel",
            "_view_count": null,
            "_view_module": "@jupyter-widgets/controls",
            "_view_module_version": "1.5.0",
            "_view_name": "HTMLView",
            "description": "",
            "description_tooltip": null,
            "layout": "IPY_MODEL_9770f6e7e0f94573aa76269c8001e316",
            "placeholder": "​",
            "style": "IPY_MODEL_004cbe9ed5b546bcb24e09b737a5d29e",
            "value": "100%"
          }
        },
        "efd753961cca4ee3b13ce62ce44a5124": {
          "model_module": "@jupyter-widgets/controls",
          "model_name": "FloatProgressModel",
          "model_module_version": "1.5.0",
          "state": {
            "_dom_classes": [],
            "_model_module": "@jupyter-widgets/controls",
            "_model_module_version": "1.5.0",
            "_model_name": "FloatProgressModel",
            "_view_count": null,
            "_view_module": "@jupyter-widgets/controls",
            "_view_module_version": "1.5.0",
            "_view_name": "ProgressView",
            "bar_style": "success",
            "description": "",
            "description_tooltip": null,
            "layout": "IPY_MODEL_482076309eee4c3ab96a89a979bd10d8",
            "max": 30,
            "min": 0,
            "orientation": "horizontal",
            "style": "IPY_MODEL_0df19b8e127842fc9f8c239df1e0340b",
            "value": 30
          }
        },
        "74cfd14cae9e47359ce8187df0faa754": {
          "model_module": "@jupyter-widgets/controls",
          "model_name": "HTMLModel",
          "model_module_version": "1.5.0",
          "state": {
            "_dom_classes": [],
            "_model_module": "@jupyter-widgets/controls",
            "_model_module_version": "1.5.0",
            "_model_name": "HTMLModel",
            "_view_count": null,
            "_view_module": "@jupyter-widgets/controls",
            "_view_module_version": "1.5.0",
            "_view_name": "HTMLView",
            "description": "",
            "description_tooltip": null,
            "layout": "IPY_MODEL_37a3900630674d78870a8af036882c42",
            "placeholder": "​",
            "style": "IPY_MODEL_c9c9a4de4e3a480ebfb664daaa6046b4",
            "value": " 30/30 [11:30&lt;00:00, 23.27s/it]"
          }
        },
        "6c4dc2e684c9453b946d5cc116618e83": {
          "model_module": "@jupyter-widgets/base",
          "model_name": "LayoutModel",
          "model_module_version": "1.2.0",
          "state": {
            "_model_module": "@jupyter-widgets/base",
            "_model_module_version": "1.2.0",
            "_model_name": "LayoutModel",
            "_view_count": null,
            "_view_module": "@jupyter-widgets/base",
            "_view_module_version": "1.2.0",
            "_view_name": "LayoutView",
            "align_content": null,
            "align_items": null,
            "align_self": null,
            "border": null,
            "bottom": null,
            "display": null,
            "flex": null,
            "flex_flow": null,
            "grid_area": null,
            "grid_auto_columns": null,
            "grid_auto_flow": null,
            "grid_auto_rows": null,
            "grid_column": null,
            "grid_gap": null,
            "grid_row": null,
            "grid_template_areas": null,
            "grid_template_columns": null,
            "grid_template_rows": null,
            "height": null,
            "justify_content": null,
            "justify_items": null,
            "left": null,
            "margin": null,
            "max_height": null,
            "max_width": null,
            "min_height": null,
            "min_width": null,
            "object_fit": null,
            "object_position": null,
            "order": null,
            "overflow": null,
            "overflow_x": null,
            "overflow_y": null,
            "padding": null,
            "right": null,
            "top": null,
            "visibility": null,
            "width": null
          }
        },
        "9770f6e7e0f94573aa76269c8001e316": {
          "model_module": "@jupyter-widgets/base",
          "model_name": "LayoutModel",
          "model_module_version": "1.2.0",
          "state": {
            "_model_module": "@jupyter-widgets/base",
            "_model_module_version": "1.2.0",
            "_model_name": "LayoutModel",
            "_view_count": null,
            "_view_module": "@jupyter-widgets/base",
            "_view_module_version": "1.2.0",
            "_view_name": "LayoutView",
            "align_content": null,
            "align_items": null,
            "align_self": null,
            "border": null,
            "bottom": null,
            "display": null,
            "flex": null,
            "flex_flow": null,
            "grid_area": null,
            "grid_auto_columns": null,
            "grid_auto_flow": null,
            "grid_auto_rows": null,
            "grid_column": null,
            "grid_gap": null,
            "grid_row": null,
            "grid_template_areas": null,
            "grid_template_columns": null,
            "grid_template_rows": null,
            "height": null,
            "justify_content": null,
            "justify_items": null,
            "left": null,
            "margin": null,
            "max_height": null,
            "max_width": null,
            "min_height": null,
            "min_width": null,
            "object_fit": null,
            "object_position": null,
            "order": null,
            "overflow": null,
            "overflow_x": null,
            "overflow_y": null,
            "padding": null,
            "right": null,
            "top": null,
            "visibility": null,
            "width": null
          }
        },
        "004cbe9ed5b546bcb24e09b737a5d29e": {
          "model_module": "@jupyter-widgets/controls",
          "model_name": "DescriptionStyleModel",
          "model_module_version": "1.5.0",
          "state": {
            "_model_module": "@jupyter-widgets/controls",
            "_model_module_version": "1.5.0",
            "_model_name": "DescriptionStyleModel",
            "_view_count": null,
            "_view_module": "@jupyter-widgets/base",
            "_view_module_version": "1.2.0",
            "_view_name": "StyleView",
            "description_width": ""
          }
        },
        "482076309eee4c3ab96a89a979bd10d8": {
          "model_module": "@jupyter-widgets/base",
          "model_name": "LayoutModel",
          "model_module_version": "1.2.0",
          "state": {
            "_model_module": "@jupyter-widgets/base",
            "_model_module_version": "1.2.0",
            "_model_name": "LayoutModel",
            "_view_count": null,
            "_view_module": "@jupyter-widgets/base",
            "_view_module_version": "1.2.0",
            "_view_name": "LayoutView",
            "align_content": null,
            "align_items": null,
            "align_self": null,
            "border": null,
            "bottom": null,
            "display": null,
            "flex": null,
            "flex_flow": null,
            "grid_area": null,
            "grid_auto_columns": null,
            "grid_auto_flow": null,
            "grid_auto_rows": null,
            "grid_column": null,
            "grid_gap": null,
            "grid_row": null,
            "grid_template_areas": null,
            "grid_template_columns": null,
            "grid_template_rows": null,
            "height": null,
            "justify_content": null,
            "justify_items": null,
            "left": null,
            "margin": null,
            "max_height": null,
            "max_width": null,
            "min_height": null,
            "min_width": null,
            "object_fit": null,
            "object_position": null,
            "order": null,
            "overflow": null,
            "overflow_x": null,
            "overflow_y": null,
            "padding": null,
            "right": null,
            "top": null,
            "visibility": null,
            "width": null
          }
        },
        "0df19b8e127842fc9f8c239df1e0340b": {
          "model_module": "@jupyter-widgets/controls",
          "model_name": "ProgressStyleModel",
          "model_module_version": "1.5.0",
          "state": {
            "_model_module": "@jupyter-widgets/controls",
            "_model_module_version": "1.5.0",
            "_model_name": "ProgressStyleModel",
            "_view_count": null,
            "_view_module": "@jupyter-widgets/base",
            "_view_module_version": "1.2.0",
            "_view_name": "StyleView",
            "bar_color": null,
            "description_width": ""
          }
        },
        "37a3900630674d78870a8af036882c42": {
          "model_module": "@jupyter-widgets/base",
          "model_name": "LayoutModel",
          "model_module_version": "1.2.0",
          "state": {
            "_model_module": "@jupyter-widgets/base",
            "_model_module_version": "1.2.0",
            "_model_name": "LayoutModel",
            "_view_count": null,
            "_view_module": "@jupyter-widgets/base",
            "_view_module_version": "1.2.0",
            "_view_name": "LayoutView",
            "align_content": null,
            "align_items": null,
            "align_self": null,
            "border": null,
            "bottom": null,
            "display": null,
            "flex": null,
            "flex_flow": null,
            "grid_area": null,
            "grid_auto_columns": null,
            "grid_auto_flow": null,
            "grid_auto_rows": null,
            "grid_column": null,
            "grid_gap": null,
            "grid_row": null,
            "grid_template_areas": null,
            "grid_template_columns": null,
            "grid_template_rows": null,
            "height": null,
            "justify_content": null,
            "justify_items": null,
            "left": null,
            "margin": null,
            "max_height": null,
            "max_width": null,
            "min_height": null,
            "min_width": null,
            "object_fit": null,
            "object_position": null,
            "order": null,
            "overflow": null,
            "overflow_x": null,
            "overflow_y": null,
            "padding": null,
            "right": null,
            "top": null,
            "visibility": null,
            "width": null
          }
        },
        "c9c9a4de4e3a480ebfb664daaa6046b4": {
          "model_module": "@jupyter-widgets/controls",
          "model_name": "DescriptionStyleModel",
          "model_module_version": "1.5.0",
          "state": {
            "_model_module": "@jupyter-widgets/controls",
            "_model_module_version": "1.5.0",
            "_model_name": "DescriptionStyleModel",
            "_view_count": null,
            "_view_module": "@jupyter-widgets/base",
            "_view_module_version": "1.2.0",
            "_view_name": "StyleView",
            "description_width": ""
          }
        }
      }
    }
  },
  "nbformat": 4,
  "nbformat_minor": 5
}