{
 "cells": [
  {
   "cell_type": "markdown",
   "id": "6c991686-b1df-4d45-8f6b-e71dfc918fcb",
   "metadata": {},
   "source": [
    "# Generative Basic Assignment (2024/03/13)\n",
    "#### Questions(1,2) are below\n",
    "#### Contact -> toa2413@naver.com / 송인혁(투빅스20기)"
   ]
  },
  {
   "cell_type": "code",
   "execution_count": 2,
   "id": "14fd7ae3-4bd1-4d39-a971-596bb5888da4",
   "metadata": {},
   "outputs": [],
   "source": [
    "import datetime\n",
    "import os\n",
    "\n",
    "import torch\n",
    "import torchvision\n",
    "import torch.nn as nn\n",
    "import torch.optim as optim\n",
    "from torch.utils.data import Dataset, DataLoader\n",
    "import matplotlib.pylab as plt\n",
    "\n",
    "import torchvision.datasets as datasets\n",
    "import torchvision.transforms as transforms\n",
    "\n",
    "import numpy as np\n",
    "\n",
    "device = torch.device(\"cuda\" if torch.cuda.is_available() else \"cpu\")"
   ]
  },
  {
   "cell_type": "code",
   "execution_count": 3,
   "id": "af2defe5-ecc7-4539-939a-e432598481d8",
   "metadata": {},
   "outputs": [
    {
     "name": "stdout",
     "output_type": "stream",
     "text": [
      "Downloading http://yann.lecun.com/exdb/mnist/train-images-idx3-ubyte.gz\n",
      "Downloading http://yann.lecun.com/exdb/mnist/train-images-idx3-ubyte.gz to ../data/MNIST/raw/train-images-idx3-ubyte.gz\n"
     ]
    },
    {
     "name": "stderr",
     "output_type": "stream",
     "text": [
      "100.0%\n"
     ]
    },
    {
     "name": "stdout",
     "output_type": "stream",
     "text": [
      "Extracting ../data/MNIST/raw/train-images-idx3-ubyte.gz to ../data/MNIST/raw\n",
      "\n",
      "Downloading http://yann.lecun.com/exdb/mnist/train-labels-idx1-ubyte.gz\n",
      "Downloading http://yann.lecun.com/exdb/mnist/train-labels-idx1-ubyte.gz to ../data/MNIST/raw/train-labels-idx1-ubyte.gz\n"
     ]
    },
    {
     "name": "stderr",
     "output_type": "stream",
     "text": [
      "100.0%\n"
     ]
    },
    {
     "name": "stdout",
     "output_type": "stream",
     "text": [
      "Extracting ../data/MNIST/raw/train-labels-idx1-ubyte.gz to ../data/MNIST/raw\n",
      "\n",
      "Downloading http://yann.lecun.com/exdb/mnist/t10k-images-idx3-ubyte.gz\n",
      "Downloading http://yann.lecun.com/exdb/mnist/t10k-images-idx3-ubyte.gz to ../data/MNIST/raw/t10k-images-idx3-ubyte.gz\n"
     ]
    },
    {
     "name": "stderr",
     "output_type": "stream",
     "text": [
      "100.0%\n"
     ]
    },
    {
     "name": "stdout",
     "output_type": "stream",
     "text": [
      "Extracting ../data/MNIST/raw/t10k-images-idx3-ubyte.gz to ../data/MNIST/raw\n",
      "\n",
      "Downloading http://yann.lecun.com/exdb/mnist/t10k-labels-idx1-ubyte.gz\n"
     ]
    },
    {
     "name": "stderr",
     "output_type": "stream",
     "text": [
      "100.0%"
     ]
    },
    {
     "name": "stdout",
     "output_type": "stream",
     "text": [
      "Downloading http://yann.lecun.com/exdb/mnist/t10k-labels-idx1-ubyte.gz to ../data/MNIST/raw/t10k-labels-idx1-ubyte.gz\n",
      "Extracting ../data/MNIST/raw/t10k-labels-idx1-ubyte.gz to ../data/MNIST/raw\n",
      "\n"
     ]
    },
    {
     "name": "stderr",
     "output_type": "stream",
     "text": [
      "\n"
     ]
    }
   ],
   "source": [
    "transform = transforms.Compose([transforms.ToTensor()])\n",
    "\n",
    "train_dataset = datasets.MNIST(\n",
    "    root=\"../data\", train=True, transform=transform, download=True)\n",
    "\n",
    "test_dataset = datasets.MNIST(\n",
    "    root=\"../data\", train=False, transform=transform, download=True)\n",
    "\n",
    "train_loader = DataLoader(\n",
    "    train_dataset, batch_size=100, shuffle=True, num_workers=4, pin_memory=False)\n",
    "\n",
    "test_loader = DataLoader(\n",
    "    test_dataset, batch_size=100, shuffle=False, num_workers=4)"
   ]
  },
  {
   "cell_type": "markdown",
   "id": "4204de8f-0019-4599-9a91-c1582d71db4d",
   "metadata": {},
   "source": [
    "### Q1. Encoder/Decoder Implementation\n",
    "    Show me your visualizations(MNIST images) using a VAE model made up of your own 'Encoder2/Decoder2'\n",
    "    I can see your visualizations at the last part of this code file (Assignment 1 ; Visualization)\n",
    "    \n",
    "***You can refer to the examples right under this markdown, please make your own Encoder (Class name; Encoder2/Decoder2)***"
   ]
  },
  {
   "cell_type": "code",
   "execution_count": 4,
   "id": "c1391ab2-4371-45f6-9698-f5ccac05f470",
   "metadata": {},
   "outputs": [],
   "source": [
    "# You can freely choose one of architectures you want that looks promising\n",
    "class Encoder(nn.Module):    \n",
    "    def __init__(self, input_dim, hidden_dim, hidden_dim2, latent_dim):\n",
    "        super(Encoder, self).__init__()\n",
    "        self.input1 = nn.Linear(input_dim, hidden_dim)\n",
    "        self.input2 = nn.Linear(hidden_dim, hidden_dim2)\n",
    "        self.mean = nn.Linear(hidden_dim2, latent_dim)\n",
    "        self.var = nn.Linear (hidden_dim2, latent_dim)\n",
    "        \n",
    "        self.LeakyReLU = nn.LeakyReLU(0.2)        \n",
    "        self.training = True\n",
    "        \n",
    "    def forward(self, x):\n",
    "        h_ = self.LeakyReLU(self.input1(x))\n",
    "        h_ = self.LeakyReLU(self.input2(h_))\n",
    "        mean = self.mean(h_)\n",
    "        log_var = self.var(h_)                         \n",
    "        return mean, log_var"
   ]
  },
  {
   "cell_type": "code",
   "execution_count": 5,
   "id": "dd98c352-ebff-4bb0-a107-369ca560657a",
   "metadata": {},
   "outputs": [],
   "source": [
    "class Encoder2(nn.Module):\n",
    "    def __init__(self,x_dim,h_dim,z_dim):\n",
    "        super().__init__()\n",
    "\n",
    "        self.fc1 = nn.Sequential(\n",
    "            nn.Linear(x_dim,h_dim),\n",
    "            nn.LeakyReLU(),\n",
    "            nn.Dropout(0.2)\n",
    "        )\n",
    "\n",
    "        self.fc2 = nn.Sequential(\n",
    "            nn.Linear(h_dim,h_dim),\n",
    "            nn.LeakyReLU(),\n",
    "            nn.Dropout(0.2)\n",
    "        )\n",
    "\n",
    "        self.mu = nn.Linear(h_dim,z_dim)\n",
    "        self.var = nn.Linear(h_dim,z_dim)\n",
    "\n",
    "    def forward(self,x):\n",
    "        x = self.fc1(x)\n",
    "        x = self.fc2(x)\n",
    "\n",
    "        mu = self.mu(x)\n",
    "        logvar = self.var(x)\n",
    "\n",
    "        return mu, logvar"
   ]
  },
  {
   "cell_type": "code",
   "execution_count": 6,
   "id": "c629498b-7c6b-4108-bcaf-263ce44b45fb",
   "metadata": {},
   "outputs": [],
   "source": [
    "class Decoder(nn.Module):\n",
    "    def __init__(self, latent_dim, hidden_dim, hidden_dim2, output_dim):\n",
    "        super(Decoder, self).__init__()\n",
    "        self.hidden1 = nn.Linear(latent_dim, hidden_dim2)\n",
    "        self.hidden2 = nn.Linear(hidden_dim2, hidden_dim)\n",
    "        self.output = nn.Linear(hidden_dim, output_dim)        \n",
    "        self.LeakyReLU = nn.LeakyReLU(0.2)\n",
    "        \n",
    "    def forward(self, x):\n",
    "        h = self.LeakyReLU(self.hidden1(x))\n",
    "        h = self.LeakyReLU(self.hidden2(h))        \n",
    "        x_hat = torch.sigmoid(self.output(h))\n",
    "        return x_hat"
   ]
  },
  {
   "cell_type": "code",
   "execution_count": 7,
   "id": "a947ccbf-e8be-4b60-93e6-efa6d64a8231",
   "metadata": {},
   "outputs": [],
   "source": [
    "class Decoder2(nn.Module):\n",
    "    def __init__(self,x_dim,h_dim,z_dim):\n",
    "        super().__init__()\n",
    "\n",
    "        self.fc1 = nn.Sequential(\n",
    "            nn.Linear(z_dim,h_dim),\n",
    "            nn.LeakyReLU(),\n",
    "            nn.Dropout(0.2)\n",
    "        )\n",
    "\n",
    "        self.fc2 = nn.Sequential(\n",
    "            nn.Linear(h_dim,h_dim),\n",
    "            nn.LeakyReLU(),\n",
    "            nn.Dropout(0.2)\n",
    "        )\n",
    "\n",
    "        self.p = nn.Sequential(\n",
    "                nn.Linear(h_dim,x_dim),\n",
    "                nn.Sigmoid()\n",
    "            )\n",
    "\n",
    "\n",
    "    def forward(self,z):\n",
    "        z = self.fc1(z)\n",
    "        z = self.fc2(z)\n",
    "\n",
    "        p = self.p(z)\n",
    "\n",
    "        return p"
   ]
  },
  {
   "cell_type": "code",
   "execution_count": 8,
   "id": "3696228c-9624-4abe-a48e-3ad00bededc8",
   "metadata": {},
   "outputs": [],
   "source": [
    "class Model(nn.Module):\n",
    "    def __init__(self, Encoder, Decoder):\n",
    "        super(Model, self).__init__()\n",
    "        self.Encoder = Encoder.to(device)\n",
    "        self.Decoder = Decoder.to(device)\n",
    "\n",
    "    # Think about why you need reparameterization trick (Hint; backpropagation)\n",
    "    def reparameterization(self, mean, var):\n",
    "        epsilon = torch.randn_like(var).to(device)                \n",
    "        z = mean + var*epsilon                          \n",
    "        return z\n",
    "                        \n",
    "    def forward(self, x):\n",
    "        mean, log_var = self.Encoder(x)\n",
    "        z = self.reparameterization(mean, torch.exp(0.5 * log_var)) \n",
    "        x_hat = self.Decoder(z)        \n",
    "        return x_hat, mean, log_var"
   ]
  },
  {
   "cell_type": "code",
   "execution_count": 29,
   "id": "e5641e6d-f5c6-441d-86f8-22bf575a9eaa",
   "metadata": {},
   "outputs": [],
   "source": [
    "# Any modifications are allowed depending on your own Encoder2/Decoder2\n",
    "# -----------------------------------\n",
    "beta = 1\n",
    "x_dim  = 784\n",
    "hidden_dim = 512\n",
    "latent_dim = 256\n",
    "epochs = 50\n",
    "batch_size = 100\n",
    "# -----------------------------------\n",
    "\n",
    "\n",
    "\n",
    "# encoder = Encoder(input_dim=x_dim, hidden_dim=hidden_dim, hidden_dim2=hidden_dim2, latent_dim=latent_dim)\n",
    "encoder = Encoder2(x_dim,hidden_dim,latent_dim)\n",
    "\n",
    "# decoder = Decoder(latent_dim=latent_dim, hidden_dim = hidden_dim, hidden_dim2=hidden_dim2, output_dim = x_dim)\n",
    "decoder = Decoder2(x_dim,hidden_dim,latent_dim)\n",
    "\n",
    "model = Model(Encoder=encoder, Decoder=decoder).to(device)"
   ]
  },
  {
   "cell_type": "markdown",
   "id": "1a1dda96-70cb-4f76-9ce6-fd97f3163e43",
   "metadata": {},
   "source": [
    "### Q2. (Optional Assignment)\n",
    "    Refering to Beta-VAE(https://openreview.net/forum?id=Sy2fzU9gl), give any kind of manipulations on pre-made loss function, and visualize your samples.\n",
    "    It would be nice to see whether the fidelity of sample data is improved or not! Also guess why.\n",
    "***Warning)  you don't have to take all the contents of this paper! Look carefully at the Equation (4)***"
   ]
  },
  {
   "cell_type": "code",
   "execution_count": 31,
   "id": "57224c98-da41-48f1-a1fc-52d922492ab7",
   "metadata": {},
   "outputs": [],
   "source": [
    "# (Optional Assignment)\n",
    "def loss_function(x, x_hat, mean, log_var,beta):\n",
    "    reproduction_loss = nn.functional.binary_cross_entropy(x_hat, x, reduction='sum')\n",
    "    # Think about how to calculate KLDivergence in closed form (Hint; assumptions for Gaussian), please refer to the following links\n",
    "    # https://stats.stackexchange.com/questions/7440/kl-divergence-between-two-univariate-gaussians\n",
    "    KLD = - 0.5 * torch.sum(1+ log_var - mean.pow(2) - log_var.exp())\n",
    "    KLD = beta * KLD\n",
    "    return reproduction_loss, KLD\n",
    "\n",
    "optimizer = torch.optim.Adam(model.parameters(), lr=1e-3)"
   ]
  },
  {
   "cell_type": "code",
   "execution_count": 34,
   "id": "7e517f22-c296-44ba-882a-78788900064e",
   "metadata": {},
   "outputs": [],
   "source": [
    "def train(epoch, model, train_loader, optimizer):\n",
    "    model.train()\n",
    "    train_loss = 0\n",
    "    for batch_idx, (x, _) in enumerate(train_loader):\n",
    "        x = x.view(batch_size, x_dim)\n",
    "        x = x.to(device)\n",
    "\n",
    "        optimizer.zero_grad()\n",
    "        x_hat, mean, log_var = model(x)\n",
    "        BCE, KLD = loss_function(x, x_hat, mean, log_var,beta)\n",
    "        loss = BCE + KLD\n",
    "        \n",
    "        train_loss += loss.item()  \n",
    "        loss.backward()\n",
    "        optimizer.step()\n",
    "          \n",
    "        if batch_idx % 100 == 0:\n",
    "            print('Train Epoch: {} [{}/{} ({:.0f}%)]\\t Loss: {:.6f}'.format(\n",
    "                epoch, batch_idx * len(x), len(train_loader.dataset),\n",
    "                100. * batch_idx / len(train_loader),\n",
    "                loss.item() / len(x)))\n",
    "            \n",
    "    print(\"======> Epoch: {} Average loss: {:.4f}\".format(\n",
    "        epoch, train_loss / len(train_loader.dataset)))"
   ]
  },
  {
   "cell_type": "code",
   "execution_count": 35,
   "id": "03734a8e-7df4-4f82-bcf7-f1b83e888f3a",
   "metadata": {},
   "outputs": [],
   "source": [
    "def test(epoch, model, test_loader):\n",
    "    model.eval()\n",
    "    test_loss = 0\n",
    "    with torch.no_grad():\n",
    "        for batch_idx, (x, _) in enumerate(test_loader):\n",
    "            x = x.view(batch_size, x_dim)\n",
    "            x = x.to(device)        \n",
    "            x_hat, mean, log_var = model(x)\n",
    "            BCE, KLD = loss_function(x, x_hat, mean, log_var,beta)\n",
    "            loss = BCE + KLD\n",
    "\n",
    "            test_loss += loss.item()\n",
    "\n",
    "            if batch_idx == 0:\n",
    "                n = min(x.size(0), 8)\n",
    "                comparison = torch.cat([x[:n], x_hat.view(batch_size, x_dim)[:n]])\n",
    "                grid = torchvision.utils.make_grid(comparison.cpu())"
   ]
  },
  {
   "cell_type": "code",
   "execution_count": 36,
   "id": "d8aba750-5e8d-47aa-9dcc-369c302c9d9a",
   "metadata": {},
   "outputs": [
    {
     "name": "stderr",
     "output_type": "stream",
     "text": [
      "  0%|          | 0/50 [00:00<?, ?it/s]"
     ]
    },
    {
     "name": "stdout",
     "output_type": "stream",
     "text": [
      "Train Epoch: 0 [0/60000 (0%)]\t Loss: 545.627930\n",
      "Train Epoch: 0 [10000/60000 (17%)]\t Loss: 204.287344\n",
      "Train Epoch: 0 [20000/60000 (33%)]\t Loss: 194.465254\n",
      "Train Epoch: 0 [30000/60000 (50%)]\t Loss: 175.980703\n",
      "Train Epoch: 0 [40000/60000 (67%)]\t Loss: 174.247773\n",
      "Train Epoch: 0 [50000/60000 (83%)]\t Loss: 174.925176\n",
      "======> Epoch: 0 Average loss: 187.0761\n"
     ]
    },
    {
     "name": "stderr",
     "output_type": "stream",
     "text": [
      "  2%|▏         | 1/50 [00:03<02:51,  3.49s/it]"
     ]
    },
    {
     "name": "stdout",
     "output_type": "stream",
     "text": [
      "\n",
      "\n",
      "Train Epoch: 1 [0/60000 (0%)]\t Loss: 161.811816\n",
      "Train Epoch: 1 [10000/60000 (17%)]\t Loss: 151.275537\n",
      "Train Epoch: 1 [20000/60000 (33%)]\t Loss: 161.133965\n",
      "Train Epoch: 1 [30000/60000 (50%)]\t Loss: 156.476543\n",
      "Train Epoch: 1 [40000/60000 (67%)]\t Loss: 155.051572\n",
      "Train Epoch: 1 [50000/60000 (83%)]\t Loss: 147.381670\n",
      "======> Epoch: 1 Average loss: 155.7265\n"
     ]
    },
    {
     "name": "stderr",
     "output_type": "stream",
     "text": [
      "  4%|▍         | 2/50 [00:06<02:29,  3.12s/it]"
     ]
    },
    {
     "name": "stdout",
     "output_type": "stream",
     "text": [
      "\n",
      "\n",
      "Train Epoch: 2 [0/60000 (0%)]\t Loss: 142.910732\n",
      "Train Epoch: 2 [10000/60000 (17%)]\t Loss: 143.399922\n",
      "Train Epoch: 2 [20000/60000 (33%)]\t Loss: 145.392627\n",
      "Train Epoch: 2 [30000/60000 (50%)]\t Loss: 139.767227\n",
      "Train Epoch: 2 [40000/60000 (67%)]\t Loss: 132.928271\n",
      "Train Epoch: 2 [50000/60000 (83%)]\t Loss: 137.384033\n",
      "======> Epoch: 2 Average loss: 141.0838\n"
     ]
    },
    {
     "name": "stderr",
     "output_type": "stream",
     "text": [
      "  6%|▌         | 3/50 [00:09<02:21,  3.01s/it]"
     ]
    },
    {
     "name": "stdout",
     "output_type": "stream",
     "text": [
      "\n",
      "\n",
      "Train Epoch: 3 [0/60000 (0%)]\t Loss: 136.290586\n",
      "Train Epoch: 3 [10000/60000 (17%)]\t Loss: 137.852383\n",
      "Train Epoch: 3 [20000/60000 (33%)]\t Loss: 134.424062\n",
      "Train Epoch: 3 [30000/60000 (50%)]\t Loss: 136.667441\n",
      "Train Epoch: 3 [40000/60000 (67%)]\t Loss: 137.328496\n",
      "Train Epoch: 3 [50000/60000 (83%)]\t Loss: 127.545547\n",
      "======> Epoch: 3 Average loss: 131.8055\n"
     ]
    },
    {
     "name": "stderr",
     "output_type": "stream",
     "text": [
      "  8%|▊         | 4/50 [00:11<02:03,  2.69s/it]"
     ]
    },
    {
     "name": "stdout",
     "output_type": "stream",
     "text": [
      "\n",
      "\n",
      "Train Epoch: 4 [0/60000 (0%)]\t Loss: 129.247041\n",
      "Train Epoch: 4 [10000/60000 (17%)]\t Loss: 130.829336\n",
      "Train Epoch: 4 [20000/60000 (33%)]\t Loss: 131.022402\n",
      "Train Epoch: 4 [30000/60000 (50%)]\t Loss: 125.453213\n",
      "Train Epoch: 4 [40000/60000 (67%)]\t Loss: 130.854160\n",
      "Train Epoch: 4 [50000/60000 (83%)]\t Loss: 128.643926\n",
      "======> Epoch: 4 Average loss: 127.4595\n"
     ]
    },
    {
     "name": "stderr",
     "output_type": "stream",
     "text": [
      " 10%|█         | 5/50 [00:15<02:15,  3.01s/it]"
     ]
    },
    {
     "name": "stdout",
     "output_type": "stream",
     "text": [
      "\n",
      "\n",
      "Train Epoch: 5 [0/60000 (0%)]\t Loss: 126.366396\n",
      "Train Epoch: 5 [10000/60000 (17%)]\t Loss: 123.134072\n",
      "Train Epoch: 5 [20000/60000 (33%)]\t Loss: 124.230820\n",
      "Train Epoch: 5 [30000/60000 (50%)]\t Loss: 127.185576\n",
      "Train Epoch: 5 [40000/60000 (67%)]\t Loss: 127.374795\n",
      "Train Epoch: 5 [50000/60000 (83%)]\t Loss: 133.035830\n",
      "======> Epoch: 5 Average loss: 125.2316\n"
     ]
    },
    {
     "name": "stderr",
     "output_type": "stream",
     "text": [
      " 12%|█▏        | 6/50 [00:18<02:16,  3.09s/it]"
     ]
    },
    {
     "name": "stdout",
     "output_type": "stream",
     "text": [
      "\n",
      "\n",
      "Train Epoch: 6 [0/60000 (0%)]\t Loss: 126.630098\n",
      "Train Epoch: 6 [10000/60000 (17%)]\t Loss: 120.285752\n",
      "Train Epoch: 6 [20000/60000 (33%)]\t Loss: 129.188848\n",
      "Train Epoch: 6 [30000/60000 (50%)]\t Loss: 125.494658\n",
      "Train Epoch: 6 [40000/60000 (67%)]\t Loss: 118.551045\n",
      "Train Epoch: 6 [50000/60000 (83%)]\t Loss: 123.437598\n",
      "======> Epoch: 6 Average loss: 123.9142\n"
     ]
    },
    {
     "name": "stderr",
     "output_type": "stream",
     "text": [
      " 14%|█▍        | 7/50 [00:21<02:16,  3.16s/it]"
     ]
    },
    {
     "name": "stdout",
     "output_type": "stream",
     "text": [
      "\n",
      "\n",
      "Train Epoch: 7 [0/60000 (0%)]\t Loss: 117.402197\n",
      "Train Epoch: 7 [10000/60000 (17%)]\t Loss: 124.484658\n",
      "Train Epoch: 7 [20000/60000 (33%)]\t Loss: 119.342764\n",
      "Train Epoch: 7 [30000/60000 (50%)]\t Loss: 126.782773\n",
      "Train Epoch: 7 [40000/60000 (67%)]\t Loss: 121.828486\n",
      "Train Epoch: 7 [50000/60000 (83%)]\t Loss: 124.443789\n",
      "======> Epoch: 7 Average loss: 122.7274\n"
     ]
    },
    {
     "name": "stderr",
     "output_type": "stream",
     "text": [
      " 16%|█▌        | 8/50 [00:24<02:06,  3.01s/it]"
     ]
    },
    {
     "name": "stdout",
     "output_type": "stream",
     "text": [
      "\n",
      "\n",
      "Train Epoch: 8 [0/60000 (0%)]\t Loss: 124.259756\n",
      "Train Epoch: 8 [10000/60000 (17%)]\t Loss: 124.530752\n",
      "Train Epoch: 8 [20000/60000 (33%)]\t Loss: 119.174141\n",
      "Train Epoch: 8 [30000/60000 (50%)]\t Loss: 119.882949\n",
      "Train Epoch: 8 [40000/60000 (67%)]\t Loss: 126.726279\n",
      "Train Epoch: 8 [50000/60000 (83%)]\t Loss: 122.016387\n",
      "======> Epoch: 8 Average loss: 121.5447\n"
     ]
    },
    {
     "name": "stderr",
     "output_type": "stream",
     "text": [
      " 18%|█▊        | 9/50 [00:27<02:07,  3.10s/it]"
     ]
    },
    {
     "name": "stdout",
     "output_type": "stream",
     "text": [
      "\n",
      "\n",
      "Train Epoch: 9 [0/60000 (0%)]\t Loss: 125.496348\n",
      "Train Epoch: 9 [10000/60000 (17%)]\t Loss: 117.692900\n",
      "Train Epoch: 9 [20000/60000 (33%)]\t Loss: 113.906904\n",
      "Train Epoch: 9 [30000/60000 (50%)]\t Loss: 117.183467\n",
      "Train Epoch: 9 [40000/60000 (67%)]\t Loss: 118.283916\n",
      "Train Epoch: 9 [50000/60000 (83%)]\t Loss: 120.783574\n",
      "======> Epoch: 9 Average loss: 120.8476\n"
     ]
    },
    {
     "name": "stderr",
     "output_type": "stream",
     "text": [
      " 20%|██        | 10/50 [00:31<02:14,  3.36s/it]"
     ]
    },
    {
     "name": "stdout",
     "output_type": "stream",
     "text": [
      "\n",
      "\n",
      "Train Epoch: 10 [0/60000 (0%)]\t Loss: 116.317031\n",
      "Train Epoch: 10 [10000/60000 (17%)]\t Loss: 125.524355\n",
      "Train Epoch: 10 [20000/60000 (33%)]\t Loss: 124.294902\n",
      "Train Epoch: 10 [30000/60000 (50%)]\t Loss: 122.280332\n",
      "Train Epoch: 10 [40000/60000 (67%)]\t Loss: 127.583516\n",
      "Train Epoch: 10 [50000/60000 (83%)]\t Loss: 117.893711\n",
      "======> Epoch: 10 Average loss: 120.3034\n"
     ]
    },
    {
     "name": "stderr",
     "output_type": "stream",
     "text": [
      " 22%|██▏       | 11/50 [00:34<02:05,  3.22s/it]"
     ]
    },
    {
     "name": "stdout",
     "output_type": "stream",
     "text": [
      "\n",
      "\n",
      "Train Epoch: 11 [0/60000 (0%)]\t Loss: 126.090156\n",
      "Train Epoch: 11 [10000/60000 (17%)]\t Loss: 121.919170\n",
      "Train Epoch: 11 [20000/60000 (33%)]\t Loss: 120.561006\n",
      "Train Epoch: 11 [30000/60000 (50%)]\t Loss: 117.194336\n",
      "Train Epoch: 11 [40000/60000 (67%)]\t Loss: 122.932148\n",
      "Train Epoch: 11 [50000/60000 (83%)]\t Loss: 120.961895\n",
      "======> Epoch: 11 Average loss: 119.8918\n"
     ]
    },
    {
     "name": "stderr",
     "output_type": "stream",
     "text": [
      " 24%|██▍       | 12/50 [00:38<02:10,  3.43s/it]"
     ]
    },
    {
     "name": "stdout",
     "output_type": "stream",
     "text": [
      "\n",
      "\n",
      "Train Epoch: 12 [0/60000 (0%)]\t Loss: 121.749619\n",
      "Train Epoch: 12 [10000/60000 (17%)]\t Loss: 123.321504\n",
      "Train Epoch: 12 [20000/60000 (33%)]\t Loss: 117.207090\n",
      "Train Epoch: 12 [30000/60000 (50%)]\t Loss: 121.528926\n",
      "Train Epoch: 12 [40000/60000 (67%)]\t Loss: 120.792539\n",
      "Train Epoch: 12 [50000/60000 (83%)]\t Loss: 115.510342\n",
      "======> Epoch: 12 Average loss: 119.5222\n"
     ]
    },
    {
     "name": "stderr",
     "output_type": "stream",
     "text": [
      " 26%|██▌       | 13/50 [00:40<01:56,  3.14s/it]"
     ]
    },
    {
     "name": "stdout",
     "output_type": "stream",
     "text": [
      "\n",
      "\n",
      "Train Epoch: 13 [0/60000 (0%)]\t Loss: 121.166074\n",
      "Train Epoch: 13 [10000/60000 (17%)]\t Loss: 123.115010\n",
      "Train Epoch: 13 [20000/60000 (33%)]\t Loss: 119.928008\n",
      "Train Epoch: 13 [30000/60000 (50%)]\t Loss: 119.425859\n",
      "Train Epoch: 13 [40000/60000 (67%)]\t Loss: 117.009326\n",
      "Train Epoch: 13 [50000/60000 (83%)]\t Loss: 121.152070\n",
      "======> Epoch: 13 Average loss: 119.1505\n"
     ]
    },
    {
     "name": "stderr",
     "output_type": "stream",
     "text": [
      " 28%|██▊       | 14/50 [00:44<01:54,  3.19s/it]"
     ]
    },
    {
     "name": "stdout",
     "output_type": "stream",
     "text": [
      "\n",
      "\n",
      "Train Epoch: 14 [0/60000 (0%)]\t Loss: 117.687676\n",
      "Train Epoch: 14 [10000/60000 (17%)]\t Loss: 118.841992\n",
      "Train Epoch: 14 [20000/60000 (33%)]\t Loss: 119.322695\n",
      "Train Epoch: 14 [30000/60000 (50%)]\t Loss: 118.200381\n",
      "Train Epoch: 14 [40000/60000 (67%)]\t Loss: 117.485791\n",
      "Train Epoch: 14 [50000/60000 (83%)]\t Loss: 126.536943\n",
      "======> Epoch: 14 Average loss: 118.9049\n"
     ]
    },
    {
     "name": "stderr",
     "output_type": "stream",
     "text": [
      " 30%|███       | 15/50 [00:46<01:44,  2.99s/it]"
     ]
    },
    {
     "name": "stdout",
     "output_type": "stream",
     "text": [
      "\n",
      "\n",
      "Train Epoch: 15 [0/60000 (0%)]\t Loss: 121.496826\n",
      "Train Epoch: 15 [10000/60000 (17%)]\t Loss: 125.732510\n",
      "Train Epoch: 15 [20000/60000 (33%)]\t Loss: 120.675605\n",
      "Train Epoch: 15 [30000/60000 (50%)]\t Loss: 122.444414\n",
      "Train Epoch: 15 [40000/60000 (67%)]\t Loss: 115.333145\n",
      "Train Epoch: 15 [50000/60000 (83%)]\t Loss: 118.670928\n",
      "======> Epoch: 15 Average loss: 118.5458\n"
     ]
    },
    {
     "name": "stderr",
     "output_type": "stream",
     "text": [
      " 32%|███▏      | 16/50 [00:50<01:51,  3.27s/it]"
     ]
    },
    {
     "name": "stdout",
     "output_type": "stream",
     "text": [
      "\n",
      "\n",
      "Train Epoch: 16 [0/60000 (0%)]\t Loss: 117.346543\n",
      "Train Epoch: 16 [10000/60000 (17%)]\t Loss: 119.142441\n",
      "Train Epoch: 16 [20000/60000 (33%)]\t Loss: 123.427188\n",
      "Train Epoch: 16 [30000/60000 (50%)]\t Loss: 122.683711\n",
      "Train Epoch: 16 [40000/60000 (67%)]\t Loss: 119.692227\n",
      "Train Epoch: 16 [50000/60000 (83%)]\t Loss: 124.883096\n",
      "======> Epoch: 16 Average loss: 118.3617\n"
     ]
    },
    {
     "name": "stderr",
     "output_type": "stream",
     "text": [
      " 34%|███▍      | 17/50 [00:54<01:51,  3.38s/it]"
     ]
    },
    {
     "name": "stdout",
     "output_type": "stream",
     "text": [
      "\n",
      "\n",
      "Train Epoch: 17 [0/60000 (0%)]\t Loss: 113.355059\n",
      "Train Epoch: 17 [10000/60000 (17%)]\t Loss: 119.031445\n",
      "Train Epoch: 17 [20000/60000 (33%)]\t Loss: 120.101836\n",
      "Train Epoch: 17 [30000/60000 (50%)]\t Loss: 119.111865\n",
      "Train Epoch: 17 [40000/60000 (67%)]\t Loss: 120.105889\n",
      "Train Epoch: 17 [50000/60000 (83%)]\t Loss: 117.743193\n",
      "======> Epoch: 17 Average loss: 118.1614\n"
     ]
    },
    {
     "name": "stderr",
     "output_type": "stream",
     "text": [
      " 36%|███▌      | 18/50 [00:56<01:41,  3.16s/it]"
     ]
    },
    {
     "name": "stdout",
     "output_type": "stream",
     "text": [
      "\n",
      "\n",
      "Train Epoch: 18 [0/60000 (0%)]\t Loss: 115.769043\n",
      "Train Epoch: 18 [10000/60000 (17%)]\t Loss: 120.521719\n",
      "Train Epoch: 18 [20000/60000 (33%)]\t Loss: 115.573682\n",
      "Train Epoch: 18 [30000/60000 (50%)]\t Loss: 119.020205\n",
      "Train Epoch: 18 [40000/60000 (67%)]\t Loss: 115.044336\n",
      "Train Epoch: 18 [50000/60000 (83%)]\t Loss: 117.588105\n",
      "======> Epoch: 18 Average loss: 118.0263\n"
     ]
    },
    {
     "name": "stderr",
     "output_type": "stream",
     "text": [
      " 38%|███▊      | 19/50 [01:00<01:41,  3.29s/it]"
     ]
    },
    {
     "name": "stdout",
     "output_type": "stream",
     "text": [
      "\n",
      "\n",
      "Train Epoch: 19 [0/60000 (0%)]\t Loss: 124.136562\n",
      "Train Epoch: 19 [10000/60000 (17%)]\t Loss: 122.855957\n",
      "Train Epoch: 19 [20000/60000 (33%)]\t Loss: 116.722090\n",
      "Train Epoch: 19 [30000/60000 (50%)]\t Loss: 118.297520\n",
      "Train Epoch: 19 [40000/60000 (67%)]\t Loss: 111.892676\n",
      "Train Epoch: 19 [50000/60000 (83%)]\t Loss: 122.900254\n",
      "======> Epoch: 19 Average loss: 117.8109\n"
     ]
    },
    {
     "name": "stderr",
     "output_type": "stream",
     "text": [
      " 40%|████      | 20/50 [01:02<01:30,  3.03s/it]"
     ]
    },
    {
     "name": "stdout",
     "output_type": "stream",
     "text": [
      "\n",
      "\n",
      "Train Epoch: 20 [0/60000 (0%)]\t Loss: 117.723477\n",
      "Train Epoch: 20 [10000/60000 (17%)]\t Loss: 120.786377\n",
      "Train Epoch: 20 [20000/60000 (33%)]\t Loss: 109.237324\n",
      "Train Epoch: 20 [30000/60000 (50%)]\t Loss: 122.090156\n",
      "Train Epoch: 20 [40000/60000 (67%)]\t Loss: 124.098086\n",
      "Train Epoch: 20 [50000/60000 (83%)]\t Loss: 114.224102\n",
      "======> Epoch: 20 Average loss: 117.6899\n"
     ]
    },
    {
     "name": "stderr",
     "output_type": "stream",
     "text": [
      " 42%|████▏     | 21/50 [01:05<01:25,  2.94s/it]"
     ]
    },
    {
     "name": "stdout",
     "output_type": "stream",
     "text": [
      "\n",
      "\n",
      "Train Epoch: 21 [0/60000 (0%)]\t Loss: 117.662383\n",
      "Train Epoch: 21 [10000/60000 (17%)]\t Loss: 115.984482\n",
      "Train Epoch: 21 [20000/60000 (33%)]\t Loss: 120.363291\n",
      "Train Epoch: 21 [30000/60000 (50%)]\t Loss: 120.517314\n",
      "Train Epoch: 21 [40000/60000 (67%)]\t Loss: 119.494150\n",
      "Train Epoch: 21 [50000/60000 (83%)]\t Loss: 117.798203\n",
      "======> Epoch: 21 Average loss: 117.6071\n"
     ]
    },
    {
     "name": "stderr",
     "output_type": "stream",
     "text": [
      " 44%|████▍     | 22/50 [01:08<01:22,  2.95s/it]"
     ]
    },
    {
     "name": "stdout",
     "output_type": "stream",
     "text": [
      "\n",
      "\n",
      "Train Epoch: 22 [0/60000 (0%)]\t Loss: 115.585010\n",
      "Train Epoch: 22 [10000/60000 (17%)]\t Loss: 111.858369\n",
      "Train Epoch: 22 [20000/60000 (33%)]\t Loss: 121.101611\n",
      "Train Epoch: 22 [30000/60000 (50%)]\t Loss: 117.201680\n",
      "Train Epoch: 22 [40000/60000 (67%)]\t Loss: 119.570869\n",
      "Train Epoch: 22 [50000/60000 (83%)]\t Loss: 118.161445\n",
      "======> Epoch: 22 Average loss: 117.3961\n"
     ]
    },
    {
     "name": "stderr",
     "output_type": "stream",
     "text": [
      " 46%|████▌     | 23/50 [01:11<01:18,  2.90s/it]"
     ]
    },
    {
     "name": "stdout",
     "output_type": "stream",
     "text": [
      "\n",
      "\n",
      "Train Epoch: 23 [0/60000 (0%)]\t Loss: 123.609346\n",
      "Train Epoch: 23 [10000/60000 (17%)]\t Loss: 127.649639\n",
      "Train Epoch: 23 [20000/60000 (33%)]\t Loss: 122.931748\n",
      "Train Epoch: 23 [30000/60000 (50%)]\t Loss: 113.329512\n",
      "Train Epoch: 23 [40000/60000 (67%)]\t Loss: 123.272646\n",
      "Train Epoch: 23 [50000/60000 (83%)]\t Loss: 113.213379\n",
      "======> Epoch: 23 Average loss: 117.1451\n"
     ]
    },
    {
     "name": "stderr",
     "output_type": "stream",
     "text": [
      " 48%|████▊     | 24/50 [01:14<01:19,  3.06s/it]"
     ]
    },
    {
     "name": "stdout",
     "output_type": "stream",
     "text": [
      "\n",
      "\n",
      "Train Epoch: 24 [0/60000 (0%)]\t Loss: 115.976475\n",
      "Train Epoch: 24 [10000/60000 (17%)]\t Loss: 114.699316\n",
      "Train Epoch: 24 [20000/60000 (33%)]\t Loss: 121.124834\n",
      "Train Epoch: 24 [30000/60000 (50%)]\t Loss: 116.495645\n",
      "Train Epoch: 24 [40000/60000 (67%)]\t Loss: 115.393086\n",
      "Train Epoch: 24 [50000/60000 (83%)]\t Loss: 120.715801\n",
      "======> Epoch: 24 Average loss: 117.0317\n"
     ]
    },
    {
     "name": "stderr",
     "output_type": "stream",
     "text": [
      " 50%|█████     | 25/50 [01:17<01:17,  3.10s/it]"
     ]
    },
    {
     "name": "stdout",
     "output_type": "stream",
     "text": [
      "\n",
      "\n",
      "Train Epoch: 25 [0/60000 (0%)]\t Loss: 119.120830\n",
      "Train Epoch: 25 [10000/60000 (17%)]\t Loss: 115.790303\n",
      "Train Epoch: 25 [20000/60000 (33%)]\t Loss: 118.314609\n",
      "Train Epoch: 25 [30000/60000 (50%)]\t Loss: 114.520996\n",
      "Train Epoch: 25 [40000/60000 (67%)]\t Loss: 116.730889\n",
      "Train Epoch: 25 [50000/60000 (83%)]\t Loss: 111.088916\n",
      "======> Epoch: 25 Average loss: 116.9132\n"
     ]
    },
    {
     "name": "stderr",
     "output_type": "stream",
     "text": [
      " 52%|█████▏    | 26/50 [01:20<01:08,  2.86s/it]"
     ]
    },
    {
     "name": "stdout",
     "output_type": "stream",
     "text": [
      "\n",
      "\n",
      "Train Epoch: 26 [0/60000 (0%)]\t Loss: 120.061328\n",
      "Train Epoch: 26 [10000/60000 (17%)]\t Loss: 119.327246\n",
      "Train Epoch: 26 [20000/60000 (33%)]\t Loss: 116.630381\n",
      "Train Epoch: 26 [30000/60000 (50%)]\t Loss: 114.913066\n",
      "Train Epoch: 26 [40000/60000 (67%)]\t Loss: 117.451865\n",
      "Train Epoch: 26 [50000/60000 (83%)]\t Loss: 114.259414\n",
      "======> Epoch: 26 Average loss: 116.7035\n"
     ]
    },
    {
     "name": "stderr",
     "output_type": "stream",
     "text": [
      " 54%|█████▍    | 27/50 [01:22<01:04,  2.81s/it]"
     ]
    },
    {
     "name": "stdout",
     "output_type": "stream",
     "text": [
      "\n",
      "\n",
      "Train Epoch: 27 [0/60000 (0%)]\t Loss: 116.715264\n",
      "Train Epoch: 27 [10000/60000 (17%)]\t Loss: 116.535664\n",
      "Train Epoch: 27 [20000/60000 (33%)]\t Loss: 118.101514\n",
      "Train Epoch: 27 [30000/60000 (50%)]\t Loss: 116.685498\n",
      "Train Epoch: 27 [40000/60000 (67%)]\t Loss: 117.874424\n",
      "Train Epoch: 27 [50000/60000 (83%)]\t Loss: 113.262100\n",
      "======> Epoch: 27 Average loss: 116.6135\n"
     ]
    },
    {
     "name": "stderr",
     "output_type": "stream",
     "text": [
      " 56%|█████▌    | 28/50 [01:25<01:03,  2.87s/it]"
     ]
    },
    {
     "name": "stdout",
     "output_type": "stream",
     "text": [
      "\n",
      "\n",
      "Train Epoch: 28 [0/60000 (0%)]\t Loss: 118.262539\n",
      "Train Epoch: 28 [10000/60000 (17%)]\t Loss: 113.160273\n",
      "Train Epoch: 28 [20000/60000 (33%)]\t Loss: 118.785820\n",
      "Train Epoch: 28 [30000/60000 (50%)]\t Loss: 119.743086\n",
      "Train Epoch: 28 [40000/60000 (67%)]\t Loss: 113.011533\n",
      "Train Epoch: 28 [50000/60000 (83%)]\t Loss: 119.206934\n",
      "======> Epoch: 28 Average loss: 116.5333\n"
     ]
    },
    {
     "name": "stderr",
     "output_type": "stream",
     "text": [
      " 58%|█████▊    | 29/50 [01:28<00:57,  2.75s/it]"
     ]
    },
    {
     "name": "stdout",
     "output_type": "stream",
     "text": [
      "\n",
      "\n",
      "Train Epoch: 29 [0/60000 (0%)]\t Loss: 119.637266\n",
      "Train Epoch: 29 [10000/60000 (17%)]\t Loss: 118.767412\n",
      "Train Epoch: 29 [20000/60000 (33%)]\t Loss: 116.113398\n",
      "Train Epoch: 29 [30000/60000 (50%)]\t Loss: 116.660977\n",
      "Train Epoch: 29 [40000/60000 (67%)]\t Loss: 121.951348\n",
      "Train Epoch: 29 [50000/60000 (83%)]\t Loss: 112.048389\n",
      "======> Epoch: 29 Average loss: 116.3309\n"
     ]
    },
    {
     "name": "stderr",
     "output_type": "stream",
     "text": [
      " 60%|██████    | 30/50 [01:31<00:55,  2.78s/it]"
     ]
    },
    {
     "name": "stdout",
     "output_type": "stream",
     "text": [
      "\n",
      "\n",
      "Train Epoch: 30 [0/60000 (0%)]\t Loss: 114.961328\n",
      "Train Epoch: 30 [10000/60000 (17%)]\t Loss: 115.955654\n",
      "Train Epoch: 30 [20000/60000 (33%)]\t Loss: 117.605039\n",
      "Train Epoch: 30 [30000/60000 (50%)]\t Loss: 118.548242\n",
      "Train Epoch: 30 [40000/60000 (67%)]\t Loss: 119.270488\n",
      "Train Epoch: 30 [50000/60000 (83%)]\t Loss: 112.626484\n",
      "======> Epoch: 30 Average loss: 116.2487\n"
     ]
    },
    {
     "name": "stderr",
     "output_type": "stream",
     "text": [
      " 62%|██████▏   | 31/50 [01:34<00:54,  2.85s/it]"
     ]
    },
    {
     "name": "stdout",
     "output_type": "stream",
     "text": [
      "\n",
      "\n",
      "Train Epoch: 31 [0/60000 (0%)]\t Loss: 113.118955\n",
      "Train Epoch: 31 [10000/60000 (17%)]\t Loss: 117.430049\n",
      "Train Epoch: 31 [20000/60000 (33%)]\t Loss: 113.580137\n",
      "Train Epoch: 31 [30000/60000 (50%)]\t Loss: 120.040547\n",
      "Train Epoch: 31 [40000/60000 (67%)]\t Loss: 113.342832\n",
      "Train Epoch: 31 [50000/60000 (83%)]\t Loss: 122.342109\n",
      "======> Epoch: 31 Average loss: 116.2024\n"
     ]
    },
    {
     "name": "stderr",
     "output_type": "stream",
     "text": [
      " 64%|██████▍   | 32/50 [01:36<00:49,  2.74s/it]"
     ]
    },
    {
     "name": "stdout",
     "output_type": "stream",
     "text": [
      "\n",
      "\n",
      "Train Epoch: 32 [0/60000 (0%)]\t Loss: 111.132539\n",
      "Train Epoch: 32 [10000/60000 (17%)]\t Loss: 118.713447\n",
      "Train Epoch: 32 [20000/60000 (33%)]\t Loss: 119.209863\n",
      "Train Epoch: 32 [30000/60000 (50%)]\t Loss: 117.252246\n",
      "Train Epoch: 32 [40000/60000 (67%)]\t Loss: 114.949541\n",
      "Train Epoch: 32 [50000/60000 (83%)]\t Loss: 121.162285\n",
      "======> Epoch: 32 Average loss: 116.1425\n"
     ]
    },
    {
     "name": "stderr",
     "output_type": "stream",
     "text": [
      " 66%|██████▌   | 33/50 [01:39<00:45,  2.65s/it]"
     ]
    },
    {
     "name": "stdout",
     "output_type": "stream",
     "text": [
      "\n",
      "\n",
      "Train Epoch: 33 [0/60000 (0%)]\t Loss: 110.308584\n",
      "Train Epoch: 33 [10000/60000 (17%)]\t Loss: 121.596094\n",
      "Train Epoch: 33 [20000/60000 (33%)]\t Loss: 115.285576\n",
      "Train Epoch: 33 [30000/60000 (50%)]\t Loss: 110.952354\n",
      "Train Epoch: 33 [40000/60000 (67%)]\t Loss: 122.010801\n",
      "Train Epoch: 33 [50000/60000 (83%)]\t Loss: 123.166426\n",
      "======> Epoch: 33 Average loss: 116.0540\n"
     ]
    },
    {
     "name": "stderr",
     "output_type": "stream",
     "text": [
      " 68%|██████▊   | 34/50 [01:42<00:45,  2.82s/it]"
     ]
    },
    {
     "name": "stdout",
     "output_type": "stream",
     "text": [
      "\n",
      "\n",
      "Train Epoch: 34 [0/60000 (0%)]\t Loss: 116.938584\n",
      "Train Epoch: 34 [10000/60000 (17%)]\t Loss: 110.361406\n",
      "Train Epoch: 34 [20000/60000 (33%)]\t Loss: 120.133662\n",
      "Train Epoch: 34 [30000/60000 (50%)]\t Loss: 127.312754\n",
      "Train Epoch: 34 [40000/60000 (67%)]\t Loss: 119.979346\n",
      "Train Epoch: 34 [50000/60000 (83%)]\t Loss: 117.949189\n",
      "======> Epoch: 34 Average loss: 115.9317\n"
     ]
    },
    {
     "name": "stderr",
     "output_type": "stream",
     "text": [
      " 70%|███████   | 35/50 [01:44<00:40,  2.68s/it]"
     ]
    },
    {
     "name": "stdout",
     "output_type": "stream",
     "text": [
      "\n",
      "\n",
      "Train Epoch: 35 [0/60000 (0%)]\t Loss: 116.482344\n",
      "Train Epoch: 35 [10000/60000 (17%)]\t Loss: 118.712871\n",
      "Train Epoch: 35 [20000/60000 (33%)]\t Loss: 119.593359\n",
      "Train Epoch: 35 [30000/60000 (50%)]\t Loss: 112.634639\n",
      "Train Epoch: 35 [40000/60000 (67%)]\t Loss: 114.690977\n",
      "Train Epoch: 35 [50000/60000 (83%)]\t Loss: 110.385664\n",
      "======> Epoch: 35 Average loss: 115.9382\n"
     ]
    },
    {
     "name": "stderr",
     "output_type": "stream",
     "text": [
      " 72%|███████▏  | 36/50 [01:48<00:40,  2.89s/it]"
     ]
    },
    {
     "name": "stdout",
     "output_type": "stream",
     "text": [
      "\n",
      "\n",
      "Train Epoch: 36 [0/60000 (0%)]\t Loss: 109.696465\n",
      "Train Epoch: 36 [10000/60000 (17%)]\t Loss: 107.447178\n",
      "Train Epoch: 36 [20000/60000 (33%)]\t Loss: 115.097480\n",
      "Train Epoch: 36 [30000/60000 (50%)]\t Loss: 112.751582\n",
      "Train Epoch: 36 [40000/60000 (67%)]\t Loss: 116.400244\n",
      "Train Epoch: 36 [50000/60000 (83%)]\t Loss: 117.858662\n",
      "======> Epoch: 36 Average loss: 115.8291\n"
     ]
    },
    {
     "name": "stderr",
     "output_type": "stream",
     "text": [
      " 74%|███████▍  | 37/50 [01:51<00:41,  3.17s/it]"
     ]
    },
    {
     "name": "stdout",
     "output_type": "stream",
     "text": [
      "\n",
      "\n",
      "Train Epoch: 37 [0/60000 (0%)]\t Loss: 116.607490\n",
      "Train Epoch: 37 [10000/60000 (17%)]\t Loss: 115.376230\n",
      "Train Epoch: 37 [20000/60000 (33%)]\t Loss: 119.598213\n",
      "Train Epoch: 37 [30000/60000 (50%)]\t Loss: 113.056582\n",
      "Train Epoch: 37 [40000/60000 (67%)]\t Loss: 121.530020\n",
      "Train Epoch: 37 [50000/60000 (83%)]\t Loss: 112.571328\n",
      "======> Epoch: 37 Average loss: 115.8216\n"
     ]
    },
    {
     "name": "stderr",
     "output_type": "stream",
     "text": [
      " 76%|███████▌  | 38/50 [01:55<00:39,  3.30s/it]"
     ]
    },
    {
     "name": "stdout",
     "output_type": "stream",
     "text": [
      "\n",
      "\n",
      "Train Epoch: 38 [0/60000 (0%)]\t Loss: 112.250889\n",
      "Train Epoch: 38 [10000/60000 (17%)]\t Loss: 120.635625\n",
      "Train Epoch: 38 [20000/60000 (33%)]\t Loss: 115.740547\n",
      "Train Epoch: 38 [30000/60000 (50%)]\t Loss: 122.049941\n",
      "Train Epoch: 38 [40000/60000 (67%)]\t Loss: 115.549492\n",
      "Train Epoch: 38 [50000/60000 (83%)]\t Loss: 112.078672\n",
      "======> Epoch: 38 Average loss: 115.6913\n"
     ]
    },
    {
     "name": "stderr",
     "output_type": "stream",
     "text": [
      " 78%|███████▊  | 39/50 [01:58<00:36,  3.28s/it]"
     ]
    },
    {
     "name": "stdout",
     "output_type": "stream",
     "text": [
      "\n",
      "\n",
      "Train Epoch: 39 [0/60000 (0%)]\t Loss: 117.860859\n",
      "Train Epoch: 39 [10000/60000 (17%)]\t Loss: 109.728184\n",
      "Train Epoch: 39 [20000/60000 (33%)]\t Loss: 118.734902\n",
      "Train Epoch: 39 [30000/60000 (50%)]\t Loss: 110.548408\n",
      "Train Epoch: 39 [40000/60000 (67%)]\t Loss: 114.741738\n",
      "Train Epoch: 39 [50000/60000 (83%)]\t Loss: 112.763271\n",
      "======> Epoch: 39 Average loss: 115.6639\n"
     ]
    },
    {
     "name": "stderr",
     "output_type": "stream",
     "text": [
      " 80%|████████  | 40/50 [02:01<00:31,  3.10s/it]"
     ]
    },
    {
     "name": "stdout",
     "output_type": "stream",
     "text": [
      "\n",
      "\n",
      "Train Epoch: 40 [0/60000 (0%)]\t Loss: 116.374062\n",
      "Train Epoch: 40 [10000/60000 (17%)]\t Loss: 118.703115\n",
      "Train Epoch: 40 [20000/60000 (33%)]\t Loss: 115.867900\n",
      "Train Epoch: 40 [30000/60000 (50%)]\t Loss: 112.896631\n",
      "Train Epoch: 40 [40000/60000 (67%)]\t Loss: 113.520898\n",
      "Train Epoch: 40 [50000/60000 (83%)]\t Loss: 118.162227\n",
      "======> Epoch: 40 Average loss: 115.6024\n"
     ]
    },
    {
     "name": "stderr",
     "output_type": "stream",
     "text": [
      " 82%|████████▏ | 41/50 [02:04<00:27,  3.03s/it]"
     ]
    },
    {
     "name": "stdout",
     "output_type": "stream",
     "text": [
      "\n",
      "\n",
      "Train Epoch: 41 [0/60000 (0%)]\t Loss: 114.308887\n",
      "Train Epoch: 41 [10000/60000 (17%)]\t Loss: 115.506846\n",
      "Train Epoch: 41 [20000/60000 (33%)]\t Loss: 116.639824\n",
      "Train Epoch: 41 [30000/60000 (50%)]\t Loss: 119.017852\n",
      "Train Epoch: 41 [40000/60000 (67%)]\t Loss: 110.515303\n",
      "Train Epoch: 41 [50000/60000 (83%)]\t Loss: 115.723721\n",
      "======> Epoch: 41 Average loss: 115.5809\n"
     ]
    },
    {
     "name": "stderr",
     "output_type": "stream",
     "text": [
      " 84%|████████▍ | 42/50 [02:06<00:22,  2.85s/it]"
     ]
    },
    {
     "name": "stdout",
     "output_type": "stream",
     "text": [
      "\n",
      "\n",
      "Train Epoch: 42 [0/60000 (0%)]\t Loss: 119.524082\n",
      "Train Epoch: 42 [10000/60000 (17%)]\t Loss: 113.355918\n",
      "Train Epoch: 42 [20000/60000 (33%)]\t Loss: 118.317109\n",
      "Train Epoch: 42 [30000/60000 (50%)]\t Loss: 112.442168\n",
      "Train Epoch: 42 [40000/60000 (67%)]\t Loss: 105.391816\n",
      "Train Epoch: 42 [50000/60000 (83%)]\t Loss: 115.846748\n",
      "======> Epoch: 42 Average loss: 115.4352\n"
     ]
    },
    {
     "name": "stderr",
     "output_type": "stream",
     "text": [
      " 86%|████████▌ | 43/50 [02:10<00:20,  2.99s/it]"
     ]
    },
    {
     "name": "stdout",
     "output_type": "stream",
     "text": [
      "\n",
      "\n",
      "Train Epoch: 43 [0/60000 (0%)]\t Loss: 113.889482\n",
      "Train Epoch: 43 [10000/60000 (17%)]\t Loss: 115.921729\n",
      "Train Epoch: 43 [20000/60000 (33%)]\t Loss: 112.591934\n",
      "Train Epoch: 43 [30000/60000 (50%)]\t Loss: 113.955879\n",
      "Train Epoch: 43 [40000/60000 (67%)]\t Loss: 112.595400\n",
      "Train Epoch: 43 [50000/60000 (83%)]\t Loss: 118.924229\n",
      "======> Epoch: 43 Average loss: 115.4091\n"
     ]
    },
    {
     "name": "stderr",
     "output_type": "stream",
     "text": [
      " 88%|████████▊ | 44/50 [02:13<00:19,  3.26s/it]"
     ]
    },
    {
     "name": "stdout",
     "output_type": "stream",
     "text": [
      "\n",
      "\n",
      "Train Epoch: 44 [0/60000 (0%)]\t Loss: 107.464258\n",
      "Train Epoch: 44 [10000/60000 (17%)]\t Loss: 120.702373\n",
      "Train Epoch: 44 [20000/60000 (33%)]\t Loss: 113.457686\n",
      "Train Epoch: 44 [30000/60000 (50%)]\t Loss: 119.110957\n",
      "Train Epoch: 44 [40000/60000 (67%)]\t Loss: 110.417939\n",
      "Train Epoch: 44 [50000/60000 (83%)]\t Loss: 123.363096\n",
      "======> Epoch: 44 Average loss: 115.4404\n"
     ]
    },
    {
     "name": "stderr",
     "output_type": "stream",
     "text": [
      " 90%|█████████ | 45/50 [02:16<00:14,  2.99s/it]"
     ]
    },
    {
     "name": "stdout",
     "output_type": "stream",
     "text": [
      "\n",
      "\n",
      "Train Epoch: 45 [0/60000 (0%)]\t Loss: 111.739141\n",
      "Train Epoch: 45 [10000/60000 (17%)]\t Loss: 116.644297\n",
      "Train Epoch: 45 [20000/60000 (33%)]\t Loss: 119.238740\n",
      "Train Epoch: 45 [30000/60000 (50%)]\t Loss: 110.587725\n",
      "Train Epoch: 45 [40000/60000 (67%)]\t Loss: 114.705244\n",
      "Train Epoch: 45 [50000/60000 (83%)]\t Loss: 111.570049\n",
      "======> Epoch: 45 Average loss: 115.3058\n"
     ]
    },
    {
     "name": "stderr",
     "output_type": "stream",
     "text": [
      " 92%|█████████▏| 46/50 [02:19<00:12,  3.16s/it]"
     ]
    },
    {
     "name": "stdout",
     "output_type": "stream",
     "text": [
      "\n",
      "\n",
      "Train Epoch: 46 [0/60000 (0%)]\t Loss: 116.159219\n",
      "Train Epoch: 46 [10000/60000 (17%)]\t Loss: 116.000391\n",
      "Train Epoch: 46 [20000/60000 (33%)]\t Loss: 116.547314\n",
      "Train Epoch: 46 [30000/60000 (50%)]\t Loss: 115.150469\n",
      "Train Epoch: 46 [40000/60000 (67%)]\t Loss: 115.290781\n",
      "Train Epoch: 46 [50000/60000 (83%)]\t Loss: 122.142471\n",
      "======> Epoch: 46 Average loss: 115.2926\n"
     ]
    },
    {
     "name": "stderr",
     "output_type": "stream",
     "text": [
      " 94%|█████████▍| 47/50 [02:22<00:08,  2.99s/it]"
     ]
    },
    {
     "name": "stdout",
     "output_type": "stream",
     "text": [
      "\n",
      "\n",
      "Train Epoch: 47 [0/60000 (0%)]\t Loss: 117.137812\n",
      "Train Epoch: 47 [10000/60000 (17%)]\t Loss: 112.843164\n",
      "Train Epoch: 47 [20000/60000 (33%)]\t Loss: 112.093535\n",
      "Train Epoch: 47 [30000/60000 (50%)]\t Loss: 117.163018\n",
      "Train Epoch: 47 [40000/60000 (67%)]\t Loss: 117.190879\n",
      "Train Epoch: 47 [50000/60000 (83%)]\t Loss: 111.859219\n",
      "======> Epoch: 47 Average loss: 115.2626\n"
     ]
    },
    {
     "name": "stderr",
     "output_type": "stream",
     "text": [
      " 96%|█████████▌| 48/50 [02:26<00:06,  3.26s/it]"
     ]
    },
    {
     "name": "stdout",
     "output_type": "stream",
     "text": [
      "\n",
      "\n",
      "Train Epoch: 48 [0/60000 (0%)]\t Loss: 114.883184\n",
      "Train Epoch: 48 [10000/60000 (17%)]\t Loss: 113.079941\n",
      "Train Epoch: 48 [20000/60000 (33%)]\t Loss: 120.042754\n",
      "Train Epoch: 48 [30000/60000 (50%)]\t Loss: 113.669648\n",
      "Train Epoch: 48 [40000/60000 (67%)]\t Loss: 112.710537\n",
      "Train Epoch: 48 [50000/60000 (83%)]\t Loss: 116.867871\n",
      "======> Epoch: 48 Average loss: 115.1804\n"
     ]
    },
    {
     "name": "stderr",
     "output_type": "stream",
     "text": [
      " 98%|█████████▊| 49/50 [02:29<00:03,  3.12s/it]"
     ]
    },
    {
     "name": "stdout",
     "output_type": "stream",
     "text": [
      "\n",
      "\n",
      "Train Epoch: 49 [0/60000 (0%)]\t Loss: 114.696758\n",
      "Train Epoch: 49 [10000/60000 (17%)]\t Loss: 118.009629\n",
      "Train Epoch: 49 [20000/60000 (33%)]\t Loss: 113.475967\n",
      "Train Epoch: 49 [30000/60000 (50%)]\t Loss: 118.129004\n",
      "Train Epoch: 49 [40000/60000 (67%)]\t Loss: 116.693066\n",
      "Train Epoch: 49 [50000/60000 (83%)]\t Loss: 119.764102\n",
      "======> Epoch: 49 Average loss: 115.2226\n"
     ]
    },
    {
     "name": "stderr",
     "output_type": "stream",
     "text": [
      "100%|██████████| 50/50 [02:32<00:00,  3.04s/it]"
     ]
    },
    {
     "name": "stdout",
     "output_type": "stream",
     "text": [
      "\n",
      "\n"
     ]
    },
    {
     "name": "stderr",
     "output_type": "stream",
     "text": [
      "\n"
     ]
    }
   ],
   "source": [
    "# Trackning the process\n",
    "# If you have difficulty on installing 'tqdm', modifications are allowed. Not necessary \n",
    "from tqdm.auto import tqdm\n",
    "\n",
    "# Training an VAE model, and record losses\n",
    "for epoch in tqdm(range(0, epochs)):\n",
    "    train(epoch, model, train_loader, optimizer)\n",
    "    test(epoch, model, test_loader)\n",
    "    print(\"\\n\")\n"
   ]
  },
  {
   "cell_type": "code",
   "execution_count": 37,
   "id": "229e80ee-486b-4946-af44-398071a116e1",
   "metadata": {},
   "outputs": [
    {
     "data": {
      "image/png": "[encoded data removed]",
      "text/plain": [
       "<Figure size 2000x800 with 20 Axes>"
      ]
     },
     "metadata": {},
     "output_type": "display_data"
    }
   ],
   "source": [
    "# After training decoder, begin visualize what comes after decoder given input z\n",
    "def visualize(decoder,z):\n",
    "    x_sample = decoder(z.to(device)).view(20,28,28).detach().cpu().numpy()\n",
    "    fig, axes = plt.subplots(nrows=1, ncols=20, figsize=(20, 8))\n",
    "    for i, ax in enumerate(axes.flat):\n",
    "        ax.imshow(x_sample[i], cmap='gray')\n",
    "        ax.axis('off')\n",
    "    plt.tight_layout()\n",
    "    plt.show()\n",
    "\n",
    "z_sample = torch.randn(20,256)\n",
    "\n",
    "# (Assignment 1 ; Visualization)\n",
    "visualize(decoder,z_sample)"
   ]
  },
  {
   "cell_type": "code",
   "execution_count": 39,
   "id": "d8f29311-a0fc-4f9f-a15c-a2f1224d0344",
   "metadata": {},
   "outputs": [
    {
     "data": {
      "image/png": "[encoded data removed]",
      "text/plain": [
       "<Figure size 2000x800 with 20 Axes>"
      ]
     },
     "metadata": {},
     "output_type": "display_data"
    }
   ],
   "source": [
    "# Set seed numbers to take reproducibility\n",
    "seed = 3\n",
    "torch.manual_seed(seed)\n",
    "# torch.cuda.manual_seed(seed)\n",
    "np.random.seed(seed)\n",
    "\n",
    "# Random z\n",
    "z = torch.randn(256)\n",
    "# Make copies\n",
    "z = z.repeat(20,1)\n",
    "\n",
    "# Interpolation in latent space z \n",
    "for i in range(20):\n",
    "    z[i, 0] += i * 0.5 - (20 - 1) * 0.5 / 2\n",
    "\n",
    "# (Assignment 1 ; Visualization)\n",
    "visualize(decoder,z)"
   ]
  },
  {
   "cell_type": "markdown",
   "id": "d01be24b-3ef5-4069-9099-c8d4d734466b",
   "metadata": {},
   "source": [
    "## Answer(Q2; Optional) : Please write any codes or statements below this space\n"
   ]
  },
  {
   "cell_type": "code",
   "execution_count": null,
   "id": "d33a0d36-14e2-4f75-b846-e364b711ced8",
   "metadata": {},
   "outputs": [],
   "source": []
  }
 ],
 "metadata": {
  "kernelspec": {
   "display_name": "Python 3 (ipykernel)",
   "language": "python",
   "name": "python3"
  },
  "language_info": {
   "codemirror_mode": {
    "name": "ipython",
    "version": 3
   },
   "file_extension": ".py",
   "mimetype": "text/x-python",
   "name": "python",
   "nbconvert_exporter": "python",
   "pygments_lexer": "ipython3",
   "version": "3.8.0"
  }
 },
 "nbformat": 4,
 "nbformat_minor": 5
}
