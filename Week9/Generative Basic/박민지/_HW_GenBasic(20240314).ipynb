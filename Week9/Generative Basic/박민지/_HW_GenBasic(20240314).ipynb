{
  "cells": [
    {
      "cell_type": "markdown",
      "id": "6c991686-b1df-4d45-8f6b-e71dfc918fcb",
      "metadata": {
        "id": "6c991686-b1df-4d45-8f6b-e71dfc918fcb"
      },
      "source": [
        "# Generative Basic Assignment (2024/03/13)\n",
        "#### Questions(1,2) are below\n",
        "#### Contact -> toa2413@naver.com / 송인혁(투빅스20기)"
      ]
    },
    {
      "cell_type": "code",
      "execution_count": 1,
      "id": "14fd7ae3-4bd1-4d39-a971-596bb5888da4",
      "metadata": {
        "id": "14fd7ae3-4bd1-4d39-a971-596bb5888da4"
      },
      "outputs": [],
      "source": [
        "import datetime\n",
        "import os\n",
        "\n",
        "import torch\n",
        "import torchvision\n",
        "import torch.nn as nn\n",
        "import torch.optim as optim\n",
        "from torch.utils.data import Dataset, DataLoader\n",
        "import matplotlib.pylab as plt\n",
        "\n",
        "import torchvision.datasets as datasets\n",
        "import torchvision.transforms as transforms\n",
        "\n",
        "import numpy as np\n",
        "\n",
        "device = torch.device(\"cuda\" if torch.cuda.is_available() else \"cpu\")"
      ]
    },
    {
      "cell_type": "code",
      "execution_count": 2,
      "id": "af2defe5-ecc7-4539-939a-e432598481d8",
      "metadata": {
        "colab": {
          "base_uri": "https://localhost:8080/"
        },
        "id": "af2defe5-ecc7-4539-939a-e432598481d8",
        "outputId": "47655297-b59e-4e85-95c9-5261ae22903d"
      },
      "outputs": [
        {
          "output_type": "stream",
          "name": "stdout",
          "text": [
            "Downloading http://yann.lecun.com/exdb/mnist/train-images-idx3-ubyte.gz\n",
            "Downloading http://yann.lecun.com/exdb/mnist/train-images-idx3-ubyte.gz to ../data/MNIST/raw/train-images-idx3-ubyte.gz\n"
          ]
        },
        {
          "output_type": "stream",
          "name": "stderr",
          "text": [
            "100%|██████████| 9912422/9912422 [00:00<00:00, 174395493.46it/s]\n"
          ]
        },
        {
          "output_type": "stream",
          "name": "stdout",
          "text": [
            "Extracting ../data/MNIST/raw/train-images-idx3-ubyte.gz to ../data/MNIST/raw\n",
            "\n",
            "Downloading http://yann.lecun.com/exdb/mnist/train-labels-idx1-ubyte.gz\n",
            "Downloading http://yann.lecun.com/exdb/mnist/train-labels-idx1-ubyte.gz to ../data/MNIST/raw/train-labels-idx1-ubyte.gz\n"
          ]
        },
        {
          "output_type": "stream",
          "name": "stderr",
          "text": [
            "100%|██████████| 28881/28881 [00:00<00:00, 120653081.50it/s]\n"
          ]
        },
        {
          "output_type": "stream",
          "name": "stdout",
          "text": [
            "Extracting ../data/MNIST/raw/train-labels-idx1-ubyte.gz to ../data/MNIST/raw\n",
            "\n",
            "Downloading http://yann.lecun.com/exdb/mnist/t10k-images-idx3-ubyte.gz\n",
            "Downloading http://yann.lecun.com/exdb/mnist/t10k-images-idx3-ubyte.gz to ../data/MNIST/raw/t10k-images-idx3-ubyte.gz\n"
          ]
        },
        {
          "output_type": "stream",
          "name": "stderr",
          "text": [
            "100%|██████████| 1648877/1648877 [00:00<00:00, 42204038.60it/s]\n"
          ]
        },
        {
          "output_type": "stream",
          "name": "stdout",
          "text": [
            "Extracting ../data/MNIST/raw/t10k-images-idx3-ubyte.gz to ../data/MNIST/raw\n",
            "\n",
            "Downloading http://yann.lecun.com/exdb/mnist/t10k-labels-idx1-ubyte.gz\n",
            "Downloading http://yann.lecun.com/exdb/mnist/t10k-labels-idx1-ubyte.gz to ../data/MNIST/raw/t10k-labels-idx1-ubyte.gz\n"
          ]
        },
        {
          "output_type": "stream",
          "name": "stderr",
          "text": [
            "100%|██████████| 4542/4542 [00:00<00:00, 20684613.21it/s]\n"
          ]
        },
        {
          "output_type": "stream",
          "name": "stdout",
          "text": [
            "Extracting ../data/MNIST/raw/t10k-labels-idx1-ubyte.gz to ../data/MNIST/raw\n",
            "\n"
          ]
        },
        {
          "output_type": "stream",
          "name": "stderr",
          "text": [
            "/usr/local/lib/python3.10/dist-packages/torch/utils/data/dataloader.py:558: UserWarning: This DataLoader will create 4 worker processes in total. Our suggested max number of worker in current system is 2, which is smaller than what this DataLoader is going to create. Please be aware that excessive worker creation might get DataLoader running slow or even freeze, lower the worker number to avoid potential slowness/freeze if necessary.\n",
            "  warnings.warn(_create_warning_msg(\n"
          ]
        }
      ],
      "source": [
        "transform = transforms.Compose([transforms.ToTensor()])\n",
        "\n",
        "train_dataset = datasets.MNIST(\n",
        "    root=\"../data\", train=True, transform=transform, download=True)\n",
        "\n",
        "test_dataset = datasets.MNIST(\n",
        "    root=\"../data\", train=False, transform=transform, download=True)\n",
        "\n",
        "train_loader = DataLoader(\n",
        "    train_dataset, batch_size=100, shuffle=True, num_workers=4, pin_memory=False)\n",
        "\n",
        "test_loader = DataLoader(\n",
        "    test_dataset, batch_size=100, shuffle=False, num_workers=4)"
      ]
    },
    {
      "cell_type": "markdown",
      "id": "4204de8f-0019-4599-9a91-c1582d71db4d",
      "metadata": {
        "id": "4204de8f-0019-4599-9a91-c1582d71db4d"
      },
      "source": [
        "### Q1. Encoder/Decoder Implementation\n",
        "    Show me your visualizations(MNIST images) using a VAE model made up of your own 'Encoder2/Decoder2'\n",
        "    I can see your visualizations at the last part of this code file (Assignment 1 ; Visualization)\n",
        "    \n",
        "***You can refer to the examples right under this markdown, please make your own Encoder (Class name; Encoder2/Decoder2)***"
      ]
    },
    {
      "cell_type": "code",
      "execution_count": 3,
      "id": "c1391ab2-4371-45f6-9698-f5ccac05f470",
      "metadata": {
        "id": "c1391ab2-4371-45f6-9698-f5ccac05f470"
      },
      "outputs": [],
      "source": [
        "# You can freely choose one of architectures you want that looks promising\n",
        "class Encoder(nn.Module):\n",
        "    def __init__(self, input_dim, hidden_dim, hidden_dim2, latent_dim):\n",
        "        super(Encoder, self).__init__()\n",
        "        self.input1 = nn.Linear(input_dim, hidden_dim)\n",
        "        self.input2 = nn.Linear(hidden_dim, hidden_dim2)\n",
        "        self.mean = nn.Linear(hidden_dim2, latent_dim)\n",
        "        self.var = nn.Linear (hidden_dim2, latent_dim)\n",
        "\n",
        "        self.LeakyReLU = nn.LeakyReLU(0.2)\n",
        "        self.training = True\n",
        "\n",
        "    def forward(self, x):\n",
        "        h_ = self.LeakyReLU(self.input1(x))\n",
        "        h_ = self.LeakyReLU(self.input2(h_))\n",
        "        mean = self.mean(h_)\n",
        "        log_var = self.var(h_)\n",
        "        return mean, log_var"
      ]
    },
    {
      "cell_type": "code",
      "execution_count": 16,
      "id": "dd98c352-ebff-4bb0-a107-369ca560657a",
      "metadata": {
        "id": "dd98c352-ebff-4bb0-a107-369ca560657a"
      },
      "outputs": [],
      "source": [
        "class Encoder2(nn.Module):\n",
        "    def __init__(self, input_dim, hidden_dim, hidden_dim2, latent_dim):\n",
        "        super(Encoder2, self).__init__()\n",
        "        self.input1 = nn.Linear(input_dim, hidden_dim)\n",
        "        self.input2 = nn.Linear(hidden_dim, hidden_dim2)\n",
        "        self.input3 = nn.Linear(hidden_dim2, hidden_dim2)\n",
        "        self.mean = nn.Linear(hidden_dim2, latent_dim)\n",
        "        self.var = nn.Linear(hidden_dim2, latent_dim)\n",
        "        self.LeakyReLU = nn.LeakyReLU(0.2)\n",
        "        self.training = True\n",
        "\n",
        "\n",
        "    def forward(self, x):\n",
        "        h_ = self.LeakyReLU(self.input1(x))\n",
        "        h_ = self.LeakyReLU(self.input2(h_))\n",
        "        h_ = self.LeakyReLU(self.input3(h_))\n",
        "        mean = self.mean(h_)\n",
        "        log_var = self.var(h_)\n",
        "        return mean, log_var"
      ]
    },
    {
      "cell_type": "code",
      "execution_count": 4,
      "id": "c629498b-7c6b-4108-bcaf-263ce44b45fb",
      "metadata": {
        "id": "c629498b-7c6b-4108-bcaf-263ce44b45fb"
      },
      "outputs": [],
      "source": [
        "class Decoder(nn.Module):\n",
        "    def __init__(self, latent_dim, hidden_dim, hidden_dim2, output_dim):\n",
        "        super(Decoder, self).__init__()\n",
        "        self.hidden1 = nn.Linear(latent_dim, hidden_dim2)\n",
        "        self.hidden2 = nn.Linear(hidden_dim2, hidden_dim)\n",
        "        self.output = nn.Linear(hidden_dim, output_dim)\n",
        "        self.LeakyReLU = nn.LeakyReLU(0.2)\n",
        "\n",
        "    def forward(self, x):\n",
        "        h = self.LeakyReLU(self.hidden1(x))\n",
        "        h = self.LeakyReLU(self.hidden2(h))\n",
        "        x_hat = torch.sigmoid(self.output(h))\n",
        "        return x_hat"
      ]
    },
    {
      "cell_type": "code",
      "execution_count": 15,
      "id": "a947ccbf-e8be-4b60-93e6-efa6d64a8231",
      "metadata": {
        "id": "a947ccbf-e8be-4b60-93e6-efa6d64a8231"
      },
      "outputs": [],
      "source": [
        "class Decoder2(nn.Module):\n",
        "    def __init__(self, latent_dim, hidden_dim, hidden_dim2, output_dim):\n",
        "        super(Decoder2, self).__init__()\n",
        "        self.hidden1 = nn.Linear(latent_dim, hidden_dim2)\n",
        "        self.hidden2 = nn.Linear(hidden_dim2, hidden_dim)\n",
        "        self.output = nn.Linear(hidden_dim, output_dim)\n",
        "        self.LeakyReLU = nn.LeakyReLU(0.2)\n",
        "\n",
        "    def forward(self, x):\n",
        "        h = self.LeakyReLU(self.hidden1(x))\n",
        "        h = self.LeakyReLU(self.hidden2(h))\n",
        "        x_hat = torch.sigmoid(self.output(h))\n",
        "        return x_hat\n"
      ]
    },
    {
      "cell_type": "code",
      "execution_count": 17,
      "id": "3696228c-9624-4abe-a48e-3ad00bededc8",
      "metadata": {
        "id": "3696228c-9624-4abe-a48e-3ad00bededc8"
      },
      "outputs": [],
      "source": [
        "class Model(nn.Module):\n",
        "    def __init__(self, Encoder, Decoder):\n",
        "        super(Model, self).__init__()\n",
        "        self.Encoder = Encoder\n",
        "        self.Decoder = Decoder\n",
        "\n",
        "    # Think about why you need reparameterization trick (Hint; backpropagation)\n",
        "\n",
        "    # sampling은 weight update가 불가하므로, paramter변환으로, mu, sigma variable로 두어야함.\n",
        "    # sampling은 eps이 담당\n",
        "\n",
        "    def reparameterization(self, mean, var):\n",
        "        epsilon = torch.randn_like(var).to(device)\n",
        "        z = mean + var*epsilon\n",
        "        return z\n",
        "\n",
        "    def forward(self, x):\n",
        "        mean, log_var = self.Encoder(x)\n",
        "        z = self.reparameterization(mean, torch.exp(0.5 * log_var))\n",
        "        x_hat = self.Decoder(z)\n",
        "        return x_hat, mean, log_var"
      ]
    },
    {
      "cell_type": "code",
      "execution_count": 18,
      "id": "e5641e6d-f5c6-441d-86f8-22bf575a9eaa",
      "metadata": {
        "id": "e5641e6d-f5c6-441d-86f8-22bf575a9eaa"
      },
      "outputs": [],
      "source": [
        "# Any modifications are allowed depending on your own Encoder2/Decoder2\n",
        "# -----------------------------------\n",
        "x_dim  = 784\n",
        "hidden_dim = 400\n",
        "hidden_dim2 = 200\n",
        "latent_dim = 20\n",
        "epochs = 30\n",
        "batch_size = 100\n",
        "# -----------------------------------\n",
        "\n",
        "\n",
        "\n",
        "#encoder = Encoder(input_dim=x_dim, hidden_dim=hidden_dim, hidden_dim2=hidden_dim2, latent_dim=latent_dim)\n",
        "encoder = Encoder2(input_dim = x_dim, hidden_dim = hidden_dim, hidden_dim2 = hidden_dim2, latent_dim = latent_dim)\n",
        "\n",
        "#decoder = Decoder(latent_dim=latent_dim, hidden_dim = hidden_dim, hidden_dim2=hidden_dim2, output_dim = x_dim)\n",
        "decoder = Decoder2(latent_dim=latent_dim, hidden_dim = hidden_dim, hidden_dim2=hidden_dim2, output_dim = x_dim)\n",
        "\n",
        "model = Model(Encoder=encoder, Decoder=decoder).to(device)"
      ]
    },
    {
      "cell_type": "markdown",
      "id": "1a1dda96-70cb-4f76-9ce6-fd97f3163e43",
      "metadata": {
        "id": "1a1dda96-70cb-4f76-9ce6-fd97f3163e43"
      },
      "source": [
        "### Q2. (Optional Assignment)\n",
        "    Refering to Beta-VAE(https://openreview.net/forum?id=Sy2fzU9gl), give any kind of manipulations on pre-made loss function, and visualize your samples.\n",
        "    It would be nice to see whether the fidelity of sample data is improved or not! Also guess why.\n",
        "***Warning)  you don't have to take all the contents of this paper! Look carefully at the Equation (4)***"
      ]
    },
    {
      "cell_type": "code",
      "execution_count": 19,
      "id": "57224c98-da41-48f1-a1fc-52d922492ab7",
      "metadata": {
        "id": "57224c98-da41-48f1-a1fc-52d922492ab7"
      },
      "outputs": [],
      "source": [
        "# (Optional Assignment)\n",
        "def loss_function(x, x_hat, mean, log_var):\n",
        "    reproduction_loss = nn.functional.binary_cross_entropy(x_hat, x, reduction='sum')\n",
        "    # Think about how to calculate KLDivergence in closed form (Hint; assumptions for Gaussian), please refer to the following links\n",
        "    # https://stats.stackexchange.com/questions/7440/kl-divergence-between-two-univariate-gaussians\n",
        "    KLD = - 0.5 * torch.sum(1+ log_var - mean.pow(2) - log_var.exp())\n",
        "    return reproduction_loss, KLD\n",
        "\n",
        "optimizer = torch.optim.Adam(list(model.parameters()), lr=1e-3)"
      ]
    },
    {
      "cell_type": "code",
      "execution_count": 20,
      "id": "7e517f22-c296-44ba-882a-78788900064e",
      "metadata": {
        "id": "7e517f22-c296-44ba-882a-78788900064e"
      },
      "outputs": [],
      "source": [
        "def train(epoch, model, train_loader, optimizer):\n",
        "    model.train()\n",
        "    train_loss = 0\n",
        "    for batch_idx, (x, _) in enumerate(train_loader):\n",
        "        x = x.view(batch_size, x_dim)\n",
        "        x = x.to(device)\n",
        "\n",
        "        optimizer.zero_grad()\n",
        "        x_hat, mean, log_var = model(x)\n",
        "        BCE, KLD = loss_function(x, x_hat, mean, log_var)\n",
        "        loss = BCE + KLD\n",
        "\n",
        "        train_loss += loss.item()\n",
        "        loss.backward()\n",
        "        optimizer.step()\n",
        "\n",
        "        if batch_idx % 100 == 0:\n",
        "            print('Train Epoch: {} [{}/{} ({:.0f}%)]\\t Loss: {:.6f}'.format(\n",
        "                epoch, batch_idx * len(x), len(train_loader.dataset),\n",
        "                100. * batch_idx / len(train_loader),\n",
        "                loss.item() / len(x)))\n",
        "\n",
        "    print(\"======> Epoch: {} Average loss: {:.4f}\".format(\n",
        "        epoch, train_loss / len(train_loader.dataset)))"
      ]
    },
    {
      "cell_type": "code",
      "execution_count": 21,
      "id": "03734a8e-7df4-4f82-bcf7-f1b83e888f3a",
      "metadata": {
        "id": "03734a8e-7df4-4f82-bcf7-f1b83e888f3a"
      },
      "outputs": [],
      "source": [
        "def test(epoch, model, test_loader):\n",
        "    model.eval()\n",
        "    test_loss = 0\n",
        "    with torch.no_grad():\n",
        "        for batch_idx, (x, _) in enumerate(test_loader):\n",
        "            x = x.view(batch_size, x_dim)\n",
        "            x = x.to(device)\n",
        "            x_hat, mean, log_var = model(x)\n",
        "            BCE, KLD = loss_function(x, x_hat, mean, log_var)\n",
        "            loss = BCE + KLD\n",
        "\n",
        "            test_loss += loss.item()\n",
        "\n",
        "            if batch_idx == 0:\n",
        "                n = min(x.size(0), 8)\n",
        "                comparison = torch.cat([x[:n], x_hat.view(batch_size, x_dim)[:n]])\n",
        "                grid = torchvision.utils.make_grid(comparison.cpu())"
      ]
    },
    {
      "cell_type": "code",
      "execution_count": 22,
      "id": "d8aba750-5e8d-47aa-9dcc-369c302c9d9a",
      "metadata": {
        "colab": {
          "base_uri": "https://localhost:8080/",
          "height": 1000,
          "referenced_widgets": [
            "734bf69dbe5c4de08b0e38a276300e80",
            "0170901029b84e35a836c09fc6942356",
            "eb8445cd95ad465981276b44f338e93f",
            "2039306f196045c0925f93d147f08f56",
            "e9a90dd0d18b4c5283ec9b795ca620d9",
            "6c0aa7ca311c4ee99abe994baae595bd",
            "938d8f80d1b74db78e42949a6d45df96",
            "6b3dc34373974fa4bd5ec63d6db2029b",
            "4b3ebc14e0db4b89a6a801bae000d609",
            "5739964ccd864de0b7dd82b782ef33af",
            "4a31c61ded4f46d48c119005ae58fee7"
          ]
        },
        "id": "d8aba750-5e8d-47aa-9dcc-369c302c9d9a",
        "outputId": "d8027ac9-4091-40e7-f119-0a90832ce797"
      },
      "outputs": [
        {
          "output_type": "display_data",
          "data": {
            "text/plain": [
              "  0%|          | 0/30 [00:00<?, ?it/s]"
            ],
            "application/vnd.jupyter.widget-view+json": {
              "version_major": 2,
              "version_minor": 0,
              "model_id": "734bf69dbe5c4de08b0e38a276300e80"
            }
          },
          "metadata": {}
        },
        {
          "output_type": "stream",
          "name": "stderr",
          "text": [
            "/usr/local/lib/python3.10/dist-packages/torch/utils/data/dataloader.py:558: UserWarning: This DataLoader will create 4 worker processes in total. Our suggested max number of worker in current system is 2, which is smaller than what this DataLoader is going to create. Please be aware that excessive worker creation might get DataLoader running slow or even freeze, lower the worker number to avoid potential slowness/freeze if necessary.\n",
            "  warnings.warn(_create_warning_msg(\n"
          ]
        },
        {
          "output_type": "stream",
          "name": "stdout",
          "text": [
            "Train Epoch: 0 [0/60000 (0%)]\t Loss: 544.788203\n",
            "Train Epoch: 0 [10000/60000 (17%)]\t Loss: 192.694590\n",
            "Train Epoch: 0 [20000/60000 (33%)]\t Loss: 188.935898\n",
            "Train Epoch: 0 [30000/60000 (50%)]\t Loss: 158.812520\n",
            "Train Epoch: 0 [40000/60000 (67%)]\t Loss: 139.380674\n",
            "Train Epoch: 0 [50000/60000 (83%)]\t Loss: 143.574336\n",
            "======> Epoch: 0 Average loss: 171.3486\n",
            "\n",
            "\n",
            "Train Epoch: 1 [0/60000 (0%)]\t Loss: 138.981504\n",
            "Train Epoch: 1 [10000/60000 (17%)]\t Loss: 132.754277\n",
            "Train Epoch: 1 [20000/60000 (33%)]\t Loss: 123.207480\n",
            "Train Epoch: 1 [30000/60000 (50%)]\t Loss: 126.743545\n",
            "Train Epoch: 1 [40000/60000 (67%)]\t Loss: 119.850439\n",
            "Train Epoch: 1 [50000/60000 (83%)]\t Loss: 124.036709\n",
            "======> Epoch: 1 Average loss: 126.6999\n",
            "\n",
            "\n",
            "Train Epoch: 2 [0/60000 (0%)]\t Loss: 122.315703\n",
            "Train Epoch: 2 [10000/60000 (17%)]\t Loss: 123.119893\n",
            "Train Epoch: 2 [20000/60000 (33%)]\t Loss: 116.445332\n",
            "Train Epoch: 2 [30000/60000 (50%)]\t Loss: 120.179404\n",
            "Train Epoch: 2 [40000/60000 (67%)]\t Loss: 120.979922\n",
            "Train Epoch: 2 [50000/60000 (83%)]\t Loss: 110.592666\n",
            "======> Epoch: 2 Average loss: 117.4720\n",
            "\n",
            "\n",
            "Train Epoch: 3 [0/60000 (0%)]\t Loss: 119.224258\n",
            "Train Epoch: 3 [10000/60000 (17%)]\t Loss: 119.533564\n",
            "Train Epoch: 3 [20000/60000 (33%)]\t Loss: 114.408438\n",
            "Train Epoch: 3 [30000/60000 (50%)]\t Loss: 110.195205\n",
            "Train Epoch: 3 [40000/60000 (67%)]\t Loss: 110.886367\n",
            "Train Epoch: 3 [50000/60000 (83%)]\t Loss: 117.252979\n",
            "======> Epoch: 3 Average loss: 113.5116\n",
            "\n",
            "\n",
            "Train Epoch: 4 [0/60000 (0%)]\t Loss: 110.222637\n",
            "Train Epoch: 4 [10000/60000 (17%)]\t Loss: 114.058340\n",
            "Train Epoch: 4 [20000/60000 (33%)]\t Loss: 116.329766\n",
            "Train Epoch: 4 [30000/60000 (50%)]\t Loss: 111.280557\n",
            "Train Epoch: 4 [40000/60000 (67%)]\t Loss: 106.364707\n",
            "Train Epoch: 4 [50000/60000 (83%)]\t Loss: 112.919795\n",
            "======> Epoch: 4 Average loss: 111.0596\n",
            "\n",
            "\n",
            "Train Epoch: 5 [0/60000 (0%)]\t Loss: 111.587451\n",
            "Train Epoch: 5 [10000/60000 (17%)]\t Loss: 110.090459\n",
            "Train Epoch: 5 [20000/60000 (33%)]\t Loss: 108.342070\n",
            "Train Epoch: 5 [30000/60000 (50%)]\t Loss: 112.211221\n",
            "Train Epoch: 5 [40000/60000 (67%)]\t Loss: 105.418311\n",
            "Train Epoch: 5 [50000/60000 (83%)]\t Loss: 110.336641\n",
            "======> Epoch: 5 Average loss: 109.3542\n",
            "\n",
            "\n",
            "Train Epoch: 6 [0/60000 (0%)]\t Loss: 107.723516\n",
            "Train Epoch: 6 [10000/60000 (17%)]\t Loss: 105.775312\n",
            "Train Epoch: 6 [20000/60000 (33%)]\t Loss: 111.889033\n",
            "Train Epoch: 6 [30000/60000 (50%)]\t Loss: 102.843545\n",
            "Train Epoch: 6 [40000/60000 (67%)]\t Loss: 108.236914\n",
            "Train Epoch: 6 [50000/60000 (83%)]\t Loss: 108.547646\n",
            "======> Epoch: 6 Average loss: 108.1800\n",
            "\n",
            "\n",
            "Train Epoch: 7 [0/60000 (0%)]\t Loss: 104.545059\n",
            "Train Epoch: 7 [10000/60000 (17%)]\t Loss: 112.672100\n",
            "Train Epoch: 7 [20000/60000 (33%)]\t Loss: 106.089482\n",
            "Train Epoch: 7 [30000/60000 (50%)]\t Loss: 103.605430\n",
            "Train Epoch: 7 [40000/60000 (67%)]\t Loss: 105.346895\n",
            "Train Epoch: 7 [50000/60000 (83%)]\t Loss: 105.856055\n",
            "======> Epoch: 7 Average loss: 107.2729\n",
            "\n",
            "\n",
            "Train Epoch: 8 [0/60000 (0%)]\t Loss: 96.247148\n",
            "Train Epoch: 8 [10000/60000 (17%)]\t Loss: 102.854990\n",
            "Train Epoch: 8 [20000/60000 (33%)]\t Loss: 106.444795\n",
            "Train Epoch: 8 [30000/60000 (50%)]\t Loss: 105.623486\n",
            "Train Epoch: 8 [40000/60000 (67%)]\t Loss: 106.267822\n",
            "Train Epoch: 8 [50000/60000 (83%)]\t Loss: 110.086836\n",
            "======> Epoch: 8 Average loss: 106.3910\n",
            "\n",
            "\n",
            "Train Epoch: 9 [0/60000 (0%)]\t Loss: 104.797813\n",
            "Train Epoch: 9 [10000/60000 (17%)]\t Loss: 108.008828\n",
            "Train Epoch: 9 [20000/60000 (33%)]\t Loss: 103.641895\n",
            "Train Epoch: 9 [30000/60000 (50%)]\t Loss: 112.396367\n",
            "Train Epoch: 9 [40000/60000 (67%)]\t Loss: 107.559473\n",
            "Train Epoch: 9 [50000/60000 (83%)]\t Loss: 107.989395\n",
            "======> Epoch: 9 Average loss: 105.7131\n",
            "\n",
            "\n",
            "Train Epoch: 10 [0/60000 (0%)]\t Loss: 104.276094\n",
            "Train Epoch: 10 [10000/60000 (17%)]\t Loss: 100.199736\n",
            "Train Epoch: 10 [20000/60000 (33%)]\t Loss: 102.496162\n",
            "Train Epoch: 10 [30000/60000 (50%)]\t Loss: 106.271572\n",
            "Train Epoch: 10 [40000/60000 (67%)]\t Loss: 107.377959\n",
            "Train Epoch: 10 [50000/60000 (83%)]\t Loss: 105.311865\n",
            "======> Epoch: 10 Average loss: 105.1192\n",
            "\n",
            "\n",
            "Train Epoch: 11 [0/60000 (0%)]\t Loss: 113.911182\n",
            "Train Epoch: 11 [10000/60000 (17%)]\t Loss: 105.462246\n",
            "Train Epoch: 11 [20000/60000 (33%)]\t Loss: 103.391035\n",
            "Train Epoch: 11 [30000/60000 (50%)]\t Loss: 105.298750\n",
            "Train Epoch: 11 [40000/60000 (67%)]\t Loss: 105.733818\n",
            "Train Epoch: 11 [50000/60000 (83%)]\t Loss: 102.440518\n",
            "======> Epoch: 11 Average loss: 104.6244\n",
            "\n",
            "\n",
            "Train Epoch: 12 [0/60000 (0%)]\t Loss: 102.641436\n",
            "Train Epoch: 12 [10000/60000 (17%)]\t Loss: 102.653984\n",
            "Train Epoch: 12 [20000/60000 (33%)]\t Loss: 102.867090\n",
            "Train Epoch: 12 [30000/60000 (50%)]\t Loss: 105.054941\n",
            "Train Epoch: 12 [40000/60000 (67%)]\t Loss: 106.258154\n",
            "Train Epoch: 12 [50000/60000 (83%)]\t Loss: 108.546211\n",
            "======> Epoch: 12 Average loss: 104.1834\n",
            "\n",
            "\n",
            "Train Epoch: 13 [0/60000 (0%)]\t Loss: 103.725752\n",
            "Train Epoch: 13 [10000/60000 (17%)]\t Loss: 105.556338\n",
            "Train Epoch: 13 [20000/60000 (33%)]\t Loss: 108.779336\n",
            "Train Epoch: 13 [30000/60000 (50%)]\t Loss: 101.941211\n",
            "Train Epoch: 13 [40000/60000 (67%)]\t Loss: 101.442422\n",
            "Train Epoch: 13 [50000/60000 (83%)]\t Loss: 102.476982\n",
            "======> Epoch: 13 Average loss: 103.8110\n",
            "\n",
            "\n",
            "Train Epoch: 14 [0/60000 (0%)]\t Loss: 104.065371\n",
            "Train Epoch: 14 [10000/60000 (17%)]\t Loss: 105.966387\n",
            "Train Epoch: 14 [20000/60000 (33%)]\t Loss: 105.999180\n",
            "Train Epoch: 14 [30000/60000 (50%)]\t Loss: 108.266055\n",
            "Train Epoch: 14 [40000/60000 (67%)]\t Loss: 102.731855\n",
            "Train Epoch: 14 [50000/60000 (83%)]\t Loss: 99.469805\n",
            "======> Epoch: 14 Average loss: 103.4077\n",
            "\n",
            "\n",
            "Train Epoch: 15 [0/60000 (0%)]\t Loss: 99.971826\n",
            "Train Epoch: 15 [10000/60000 (17%)]\t Loss: 106.616260\n",
            "Train Epoch: 15 [20000/60000 (33%)]\t Loss: 103.311816\n",
            "Train Epoch: 15 [30000/60000 (50%)]\t Loss: 105.140898\n",
            "Train Epoch: 15 [40000/60000 (67%)]\t Loss: 105.496523\n",
            "Train Epoch: 15 [50000/60000 (83%)]\t Loss: 105.345879\n",
            "======> Epoch: 15 Average loss: 103.0899\n",
            "\n",
            "\n",
            "Train Epoch: 16 [0/60000 (0%)]\t Loss: 102.845771\n",
            "Train Epoch: 16 [10000/60000 (17%)]\t Loss: 108.232432\n",
            "Train Epoch: 16 [20000/60000 (33%)]\t Loss: 105.049980\n",
            "Train Epoch: 16 [30000/60000 (50%)]\t Loss: 96.677441\n",
            "Train Epoch: 16 [40000/60000 (67%)]\t Loss: 104.203516\n",
            "Train Epoch: 16 [50000/60000 (83%)]\t Loss: 106.820801\n",
            "======> Epoch: 16 Average loss: 102.8422\n",
            "\n",
            "\n",
            "Train Epoch: 17 [0/60000 (0%)]\t Loss: 105.502305\n",
            "Train Epoch: 17 [10000/60000 (17%)]\t Loss: 105.497803\n",
            "Train Epoch: 17 [20000/60000 (33%)]\t Loss: 101.628291\n",
            "Train Epoch: 17 [30000/60000 (50%)]\t Loss: 100.939580\n",
            "Train Epoch: 17 [40000/60000 (67%)]\t Loss: 103.102910\n",
            "Train Epoch: 17 [50000/60000 (83%)]\t Loss: 103.917227\n",
            "======> Epoch: 17 Average loss: 102.5348\n",
            "\n",
            "\n",
            "Train Epoch: 18 [0/60000 (0%)]\t Loss: 99.404941\n",
            "Train Epoch: 18 [10000/60000 (17%)]\t Loss: 104.339570\n",
            "Train Epoch: 18 [20000/60000 (33%)]\t Loss: 101.902100\n",
            "Train Epoch: 18 [30000/60000 (50%)]\t Loss: 102.975752\n",
            "Train Epoch: 18 [40000/60000 (67%)]\t Loss: 103.148105\n",
            "Train Epoch: 18 [50000/60000 (83%)]\t Loss: 101.489619\n",
            "======> Epoch: 18 Average loss: 102.3112\n",
            "\n",
            "\n",
            "Train Epoch: 19 [0/60000 (0%)]\t Loss: 99.479531\n",
            "Train Epoch: 19 [10000/60000 (17%)]\t Loss: 101.930391\n",
            "Train Epoch: 19 [20000/60000 (33%)]\t Loss: 105.761836\n",
            "Train Epoch: 19 [30000/60000 (50%)]\t Loss: 99.732334\n",
            "Train Epoch: 19 [40000/60000 (67%)]\t Loss: 105.363496\n",
            "Train Epoch: 19 [50000/60000 (83%)]\t Loss: 98.142617\n",
            "======> Epoch: 19 Average loss: 102.0717\n",
            "\n",
            "\n",
            "Train Epoch: 20 [0/60000 (0%)]\t Loss: 104.695752\n",
            "Train Epoch: 20 [10000/60000 (17%)]\t Loss: 98.946836\n",
            "Train Epoch: 20 [20000/60000 (33%)]\t Loss: 97.300605\n",
            "Train Epoch: 20 [30000/60000 (50%)]\t Loss: 102.255059\n",
            "Train Epoch: 20 [40000/60000 (67%)]\t Loss: 104.070234\n",
            "Train Epoch: 20 [50000/60000 (83%)]\t Loss: 104.662129\n",
            "======> Epoch: 20 Average loss: 101.8227\n",
            "\n",
            "\n",
            "Train Epoch: 21 [0/60000 (0%)]\t Loss: 94.524336\n",
            "Train Epoch: 21 [10000/60000 (17%)]\t Loss: 100.131748\n",
            "Train Epoch: 21 [20000/60000 (33%)]\t Loss: 96.685527\n",
            "Train Epoch: 21 [30000/60000 (50%)]\t Loss: 97.931045\n",
            "Train Epoch: 21 [40000/60000 (67%)]\t Loss: 103.454951\n",
            "Train Epoch: 21 [50000/60000 (83%)]\t Loss: 96.350254\n",
            "======> Epoch: 21 Average loss: 101.7059\n",
            "\n",
            "\n",
            "Train Epoch: 22 [0/60000 (0%)]\t Loss: 93.425586\n",
            "Train Epoch: 22 [10000/60000 (17%)]\t Loss: 100.711416\n",
            "Train Epoch: 22 [20000/60000 (33%)]\t Loss: 95.524805\n",
            "Train Epoch: 22 [30000/60000 (50%)]\t Loss: 100.272979\n",
            "Train Epoch: 22 [40000/60000 (67%)]\t Loss: 100.840713\n",
            "Train Epoch: 22 [50000/60000 (83%)]\t Loss: 102.513955\n",
            "======> Epoch: 22 Average loss: 101.4461\n",
            "\n",
            "\n",
            "Train Epoch: 23 [0/60000 (0%)]\t Loss: 99.446455\n",
            "Train Epoch: 23 [10000/60000 (17%)]\t Loss: 102.134316\n",
            "Train Epoch: 23 [20000/60000 (33%)]\t Loss: 102.258809\n",
            "Train Epoch: 23 [30000/60000 (50%)]\t Loss: 101.075625\n",
            "Train Epoch: 23 [40000/60000 (67%)]\t Loss: 100.925566\n",
            "Train Epoch: 23 [50000/60000 (83%)]\t Loss: 105.863848\n",
            "======> Epoch: 23 Average loss: 101.2979\n",
            "\n",
            "\n",
            "Train Epoch: 24 [0/60000 (0%)]\t Loss: 100.075254\n",
            "Train Epoch: 24 [10000/60000 (17%)]\t Loss: 99.841729\n",
            "Train Epoch: 24 [20000/60000 (33%)]\t Loss: 103.661543\n",
            "Train Epoch: 24 [30000/60000 (50%)]\t Loss: 99.554521\n",
            "Train Epoch: 24 [40000/60000 (67%)]\t Loss: 100.566680\n",
            "Train Epoch: 24 [50000/60000 (83%)]\t Loss: 101.658018\n",
            "======> Epoch: 24 Average loss: 101.1258\n",
            "\n",
            "\n",
            "Train Epoch: 25 [0/60000 (0%)]\t Loss: 102.814238\n",
            "Train Epoch: 25 [10000/60000 (17%)]\t Loss: 94.930312\n",
            "Train Epoch: 25 [20000/60000 (33%)]\t Loss: 102.511895\n",
            "Train Epoch: 25 [30000/60000 (50%)]\t Loss: 101.643486\n",
            "Train Epoch: 25 [40000/60000 (67%)]\t Loss: 100.139473\n",
            "Train Epoch: 25 [50000/60000 (83%)]\t Loss: 96.907285\n",
            "======> Epoch: 25 Average loss: 101.0091\n",
            "\n",
            "\n",
            "Train Epoch: 26 [0/60000 (0%)]\t Loss: 100.683818\n",
            "Train Epoch: 26 [10000/60000 (17%)]\t Loss: 102.962559\n",
            "Train Epoch: 26 [20000/60000 (33%)]\t Loss: 100.852490\n",
            "Train Epoch: 26 [30000/60000 (50%)]\t Loss: 102.700957\n",
            "Train Epoch: 26 [40000/60000 (67%)]\t Loss: 101.303535\n",
            "Train Epoch: 26 [50000/60000 (83%)]\t Loss: 98.203867\n",
            "======> Epoch: 26 Average loss: 100.8329\n",
            "\n",
            "\n",
            "Train Epoch: 27 [0/60000 (0%)]\t Loss: 104.253516\n",
            "Train Epoch: 27 [10000/60000 (17%)]\t Loss: 99.852812\n",
            "Train Epoch: 27 [20000/60000 (33%)]\t Loss: 99.327754\n",
            "Train Epoch: 27 [30000/60000 (50%)]\t Loss: 99.125537\n",
            "Train Epoch: 27 [40000/60000 (67%)]\t Loss: 103.701543\n",
            "Train Epoch: 27 [50000/60000 (83%)]\t Loss: 99.606270\n",
            "======> Epoch: 27 Average loss: 100.6657\n",
            "\n",
            "\n",
            "Train Epoch: 28 [0/60000 (0%)]\t Loss: 101.435654\n",
            "Train Epoch: 28 [10000/60000 (17%)]\t Loss: 102.397012\n",
            "Train Epoch: 28 [20000/60000 (33%)]\t Loss: 100.551426\n",
            "Train Epoch: 28 [30000/60000 (50%)]\t Loss: 98.473486\n",
            "Train Epoch: 28 [40000/60000 (67%)]\t Loss: 105.605723\n",
            "Train Epoch: 28 [50000/60000 (83%)]\t Loss: 101.661895\n",
            "======> Epoch: 28 Average loss: 100.6004\n",
            "\n",
            "\n",
            "Train Epoch: 29 [0/60000 (0%)]\t Loss: 99.347871\n",
            "Train Epoch: 29 [10000/60000 (17%)]\t Loss: 97.220742\n",
            "Train Epoch: 29 [20000/60000 (33%)]\t Loss: 102.787207\n",
            "Train Epoch: 29 [30000/60000 (50%)]\t Loss: 99.594766\n",
            "Train Epoch: 29 [40000/60000 (67%)]\t Loss: 102.580234\n",
            "Train Epoch: 29 [50000/60000 (83%)]\t Loss: 97.898066\n",
            "======> Epoch: 29 Average loss: 100.4423\n",
            "\n",
            "\n"
          ]
        }
      ],
      "source": [
        "# Trackning the process\n",
        "# If you have difficulty on installing 'tqdm', modifications are allowed. Not necessary\n",
        "from tqdm.auto import tqdm\n",
        "\n",
        "# Training an VAE model, and record losses\n",
        "for epoch in tqdm(range(0, epochs)):\n",
        "    train(epoch, model, train_loader, optimizer)\n",
        "    test(epoch, model, test_loader)\n",
        "    print(\"\\n\")\n"
      ]
    },
    {
      "cell_type": "code",
      "execution_count": 23,
      "id": "229e80ee-486b-4946-af44-398071a116e1",
      "metadata": {
        "colab": {
          "base_uri": "https://localhost:8080/",
          "height": 102
        },
        "id": "229e80ee-486b-4946-af44-398071a116e1",
        "outputId": "d8aec48b-7713-477e-eb3f-339c03a29f38"
      },
      "outputs": [
        {
          "output_type": "display_data",
          "data": {
            "text/plain": [
              "<Figure size 2000x800 with 20 Axes>"
            ],
            "image/png": "[encoded data removed]"
          },
          "metadata": {}
        }
      ],
      "source": [
        "# After training decoder, begin visualize what comes after decoder given input z\n",
        "def visualize(decoder,z):\n",
        "    x_sample = decoder(z.to(device)).view(20,28,28).detach().cpu().numpy()\n",
        "    fig, axes = plt.subplots(nrows=1, ncols=20, figsize=(20, 8))\n",
        "    for i, ax in enumerate(axes.flat):\n",
        "        ax.imshow(x_sample[i], cmap='gray')\n",
        "        ax.axis('off')\n",
        "    plt.tight_layout()\n",
        "    plt.show()\n",
        "\n",
        "z_sample = torch.randn(20,20)\n",
        "\n",
        "# (Assignment 1 ; Visualization)\n",
        "visualize(decoder,z_sample)\n"
      ]
    },
    {
      "cell_type": "code",
      "execution_count": 24,
      "id": "d8f29311-a0fc-4f9f-a15c-a2f1224d0344",
      "metadata": {
        "colab": {
          "base_uri": "https://localhost:8080/",
          "height": 102
        },
        "id": "d8f29311-a0fc-4f9f-a15c-a2f1224d0344",
        "outputId": "041b3022-b823-46ed-dc46-d732c9f0ea90"
      },
      "outputs": [
        {
          "output_type": "display_data",
          "data": {
            "text/plain": [
              "<Figure size 2000x800 with 20 Axes>"
            ],
            "image/png": "[encoded data removed]"
          },
          "metadata": {}
        }
      ],
      "source": [
        "# Set seed numbers to take reproducibility\n",
        "seed = 3\n",
        "torch.manual_seed(seed)\n",
        "# torch.cuda.manual_seed(seed)\n",
        "np.random.seed(seed)\n",
        "\n",
        "# Random z\n",
        "z = torch.randn(20)\n",
        "# Make copies\n",
        "z = z.repeat(20,1)\n",
        "\n",
        "# Interpolation in latent space z\n",
        "for i in range(20):\n",
        "    z[i, 0] += i * 0.5 - (20 - 1) * 0.5 / 2\n",
        "\n",
        "# (Assignment 1 ; Visualization)\n",
        "visualize(decoder,z)"
      ]
    },
    {
      "cell_type": "markdown",
      "id": "d01be24b-3ef5-4069-9099-c8d4d734466b",
      "metadata": {
        "id": "d01be24b-3ef5-4069-9099-c8d4d734466b"
      },
      "source": [
        "## Answer(Q2; Optional) : Please write any codes or statements below this space\n"
      ]
    },
    {
      "cell_type": "code",
      "execution_count": null,
      "id": "d33a0d36-14e2-4f75-b846-e364b711ced8",
      "metadata": {
        "id": "d33a0d36-14e2-4f75-b846-e364b711ced8"
      },
      "outputs": [],
      "source": []
    }
  ],
  "metadata": {
    "kernelspec": {
      "display_name": "Python 3",
      "name": "python3"
    },
    "language_info": {
      "codemirror_mode": {
        "name": "ipython",
        "version": 3
      },
      "file_extension": ".py",
      "mimetype": "text/x-python",
      "name": "python",
      "nbconvert_exporter": "python",
      "pygments_lexer": "ipython3",
      "version": "3.11.5"
    },
    "colab": {
      "provenance": [],
      "gpuType": "T4"
    },
    "accelerator": "GPU",
    "widgets": {
      "application/vnd.jupyter.widget-state+json": {
        "734bf69dbe5c4de08b0e38a276300e80": {
          "model_module": "@jupyter-widgets/controls",
          "model_name": "HBoxModel",
          "model_module_version": "1.5.0",
          "state": {
            "_dom_classes": [],
            "_model_module": "@jupyter-widgets/controls",
            "_model_module_version": "1.5.0",
            "_model_name": "HBoxModel",
            "_view_count": null,
            "_view_module": "@jupyter-widgets/controls",
            "_view_module_version": "1.5.0",
            "_view_name": "HBoxView",
            "box_style": "",
            "children": [
              "IPY_MODEL_0170901029b84e35a836c09fc6942356",
              "IPY_MODEL_eb8445cd95ad465981276b44f338e93f",
              "IPY_MODEL_2039306f196045c0925f93d147f08f56"
            ],
            "layout": "IPY_MODEL_e9a90dd0d18b4c5283ec9b795ca620d9"
          }
        },
        "0170901029b84e35a836c09fc6942356": {
          "model_module": "@jupyter-widgets/controls",
          "model_name": "HTMLModel",
          "model_module_version": "1.5.0",
          "state": {
            "_dom_classes": [],
            "_model_module": "@jupyter-widgets/controls",
            "_model_module_version": "1.5.0",
            "_model_name": "HTMLModel",
            "_view_count": null,
            "_view_module": "@jupyter-widgets/controls",
            "_view_module_version": "1.5.0",
            "_view_name": "HTMLView",
            "description": "",
            "description_tooltip": null,
            "layout": "IPY_MODEL_6c0aa7ca311c4ee99abe994baae595bd",
            "placeholder": "​",
            "style": "IPY_MODEL_938d8f80d1b74db78e42949a6d45df96",
            "value": "100%"
          }
        },
        "eb8445cd95ad465981276b44f338e93f": {
          "model_module": "@jupyter-widgets/controls",
          "model_name": "FloatProgressModel",
          "model_module_version": "1.5.0",
          "state": {
            "_dom_classes": [],
            "_model_module": "@jupyter-widgets/controls",
            "_model_module_version": "1.5.0",
            "_model_name": "FloatProgressModel",
            "_view_count": null,
            "_view_module": "@jupyter-widgets/controls",
            "_view_module_version": "1.5.0",
            "_view_name": "ProgressView",
            "bar_style": "success",
            "description": "",
            "description_tooltip": null,
            "layout": "IPY_MODEL_6b3dc34373974fa4bd5ec63d6db2029b",
            "max": 30,
            "min": 0,
            "orientation": "horizontal",
            "style": "IPY_MODEL_4b3ebc14e0db4b89a6a801bae000d609",
            "value": 30
          }
        },
        "2039306f196045c0925f93d147f08f56": {
          "model_module": "@jupyter-widgets/controls",
          "model_name": "HTMLModel",
          "model_module_version": "1.5.0",
          "state": {
            "_dom_classes": [],
            "_model_module": "@jupyter-widgets/controls",
            "_model_module_version": "1.5.0",
            "_model_name": "HTMLModel",
            "_view_count": null,
            "_view_module": "@jupyter-widgets/controls",
            "_view_module_version": "1.5.0",
            "_view_name": "HTMLView",
            "description": "",
            "description_tooltip": null,
            "layout": "IPY_MODEL_5739964ccd864de0b7dd82b782ef33af",
            "placeholder": "​",
            "style": "IPY_MODEL_4a31c61ded4f46d48c119005ae58fee7",
            "value": " 30/30 [05:20&lt;00:00, 10.55s/it]"
          }
        },
        "e9a90dd0d18b4c5283ec9b795ca620d9": {
          "model_module": "@jupyter-widgets/base",
          "model_name": "LayoutModel",
          "model_module_version": "1.2.0",
          "state": {
            "_model_module": "@jupyter-widgets/base",
            "_model_module_version": "1.2.0",
            "_model_name": "LayoutModel",
            "_view_count": null,
            "_view_module": "@jupyter-widgets/base",
            "_view_module_version": "1.2.0",
            "_view_name": "LayoutView",
            "align_content": null,
            "align_items": null,
            "align_self": null,
            "border": null,
            "bottom": null,
            "display": null,
            "flex": null,
            "flex_flow": null,
            "grid_area": null,
            "grid_auto_columns": null,
            "grid_auto_flow": null,
            "grid_auto_rows": null,
            "grid_column": null,
            "grid_gap": null,
            "grid_row": null,
            "grid_template_areas": null,
            "grid_template_columns": null,
            "grid_template_rows": null,
            "height": null,
            "justify_content": null,
            "justify_items": null,
            "left": null,
            "margin": null,
            "max_height": null,
            "max_width": null,
            "min_height": null,
            "min_width": null,
            "object_fit": null,
            "object_position": null,
            "order": null,
            "overflow": null,
            "overflow_x": null,
            "overflow_y": null,
            "padding": null,
            "right": null,
            "top": null,
            "visibility": null,
            "width": null
          }
        },
        "6c0aa7ca311c4ee99abe994baae595bd": {
          "model_module": "@jupyter-widgets/base",
          "model_name": "LayoutModel",
          "model_module_version": "1.2.0",
          "state": {
            "_model_module": "@jupyter-widgets/base",
            "_model_module_version": "1.2.0",
            "_model_name": "LayoutModel",
            "_view_count": null,
            "_view_module": "@jupyter-widgets/base",
            "_view_module_version": "1.2.0",
            "_view_name": "LayoutView",
            "align_content": null,
            "align_items": null,
            "align_self": null,
            "border": null,
            "bottom": null,
            "display": null,
            "flex": null,
            "flex_flow": null,
            "grid_area": null,
            "grid_auto_columns": null,
            "grid_auto_flow": null,
            "grid_auto_rows": null,
            "grid_column": null,
            "grid_gap": null,
            "grid_row": null,
            "grid_template_areas": null,
            "grid_template_columns": null,
            "grid_template_rows": null,
            "height": null,
            "justify_content": null,
            "justify_items": null,
            "left": null,
            "margin": null,
            "max_height": null,
            "max_width": null,
            "min_height": null,
            "min_width": null,
            "object_fit": null,
            "object_position": null,
            "order": null,
            "overflow": null,
            "overflow_x": null,
            "overflow_y": null,
            "padding": null,
            "right": null,
            "top": null,
            "visibility": null,
            "width": null
          }
        },
        "938d8f80d1b74db78e42949a6d45df96": {
          "model_module": "@jupyter-widgets/controls",
          "model_name": "DescriptionStyleModel",
          "model_module_version": "1.5.0",
          "state": {
            "_model_module": "@jupyter-widgets/controls",
            "_model_module_version": "1.5.0",
            "_model_name": "DescriptionStyleModel",
            "_view_count": null,
            "_view_module": "@jupyter-widgets/base",
            "_view_module_version": "1.2.0",
            "_view_name": "StyleView",
            "description_width": ""
          }
        },
        "6b3dc34373974fa4bd5ec63d6db2029b": {
          "model_module": "@jupyter-widgets/base",
          "model_name": "LayoutModel",
          "model_module_version": "1.2.0",
          "state": {
            "_model_module": "@jupyter-widgets/base",
            "_model_module_version": "1.2.0",
            "_model_name": "LayoutModel",
            "_view_count": null,
            "_view_module": "@jupyter-widgets/base",
            "_view_module_version": "1.2.0",
            "_view_name": "LayoutView",
            "align_content": null,
            "align_items": null,
            "align_self": null,
            "border": null,
            "bottom": null,
            "display": null,
            "flex": null,
            "flex_flow": null,
            "grid_area": null,
            "grid_auto_columns": null,
            "grid_auto_flow": null,
            "grid_auto_rows": null,
            "grid_column": null,
            "grid_gap": null,
            "grid_row": null,
            "grid_template_areas": null,
            "grid_template_columns": null,
            "grid_template_rows": null,
            "height": null,
            "justify_content": null,
            "justify_items": null,
            "left": null,
            "margin": null,
            "max_height": null,
            "max_width": null,
            "min_height": null,
            "min_width": null,
            "object_fit": null,
            "object_position": null,
            "order": null,
            "overflow": null,
            "overflow_x": null,
            "overflow_y": null,
            "padding": null,
            "right": null,
            "top": null,
            "visibility": null,
            "width": null
          }
        },
        "4b3ebc14e0db4b89a6a801bae000d609": {
          "model_module": "@jupyter-widgets/controls",
          "model_name": "ProgressStyleModel",
          "model_module_version": "1.5.0",
          "state": {
            "_model_module": "@jupyter-widgets/controls",
            "_model_module_version": "1.5.0",
            "_model_name": "ProgressStyleModel",
            "_view_count": null,
            "_view_module": "@jupyter-widgets/base",
            "_view_module_version": "1.2.0",
            "_view_name": "StyleView",
            "bar_color": null,
            "description_width": ""
          }
        },
        "5739964ccd864de0b7dd82b782ef33af": {
          "model_module": "@jupyter-widgets/base",
          "model_name": "LayoutModel",
          "model_module_version": "1.2.0",
          "state": {
            "_model_module": "@jupyter-widgets/base",
            "_model_module_version": "1.2.0",
            "_model_name": "LayoutModel",
            "_view_count": null,
            "_view_module": "@jupyter-widgets/base",
            "_view_module_version": "1.2.0",
            "_view_name": "LayoutView",
            "align_content": null,
            "align_items": null,
            "align_self": null,
            "border": null,
            "bottom": null,
            "display": null,
            "flex": null,
            "flex_flow": null,
            "grid_area": null,
            "grid_auto_columns": null,
            "grid_auto_flow": null,
            "grid_auto_rows": null,
            "grid_column": null,
            "grid_gap": null,
            "grid_row": null,
            "grid_template_areas": null,
            "grid_template_columns": null,
            "grid_template_rows": null,
            "height": null,
            "justify_content": null,
            "justify_items": null,
            "left": null,
            "margin": null,
            "max_height": null,
            "max_width": null,
            "min_height": null,
            "min_width": null,
            "object_fit": null,
            "object_position": null,
            "order": null,
            "overflow": null,
            "overflow_x": null,
            "overflow_y": null,
            "padding": null,
            "right": null,
            "top": null,
            "visibility": null,
            "width": null
          }
        },
        "4a31c61ded4f46d48c119005ae58fee7": {
          "model_module": "@jupyter-widgets/controls",
          "model_name": "DescriptionStyleModel",
          "model_module_version": "1.5.0",
          "state": {
            "_model_module": "@jupyter-widgets/controls",
            "_model_module_version": "1.5.0",
            "_model_name": "DescriptionStyleModel",
            "_view_count": null,
            "_view_module": "@jupyter-widgets/base",
            "_view_module_version": "1.2.0",
            "_view_name": "StyleView",
            "description_width": ""
          }
        }
      }
    }
  },
  "nbformat": 4,
  "nbformat_minor": 5
}