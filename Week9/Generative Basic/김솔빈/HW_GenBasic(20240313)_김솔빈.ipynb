{
  "cells": [
    {
      "cell_type": "markdown",
      "id": "6c991686-b1df-4d45-8f6b-e71dfc918fcb",
      "metadata": {
        "id": "6c991686-b1df-4d45-8f6b-e71dfc918fcb"
      },
      "source": [
        "# Generative Basic Assignment (2024/03/13)\n",
        "#### Questions(1,2) are below\n",
        "#### Contact -> toa2413@naver.com / 송인혁(투빅스20기)"
      ]
    },
    {
      "cell_type": "code",
      "execution_count": 1,
      "id": "14fd7ae3-4bd1-4d39-a971-596bb5888da4",
      "metadata": {
        "id": "14fd7ae3-4bd1-4d39-a971-596bb5888da4"
      },
      "outputs": [],
      "source": [
        "import datetime\n",
        "import os\n",
        "\n",
        "import torch\n",
        "import torchvision\n",
        "import torch.nn as nn\n",
        "import torch.optim as optim\n",
        "from torch.utils.data import Dataset, DataLoader\n",
        "import matplotlib.pylab as plt\n",
        "\n",
        "import torchvision.datasets as datasets\n",
        "import torchvision.transforms as transforms\n",
        "\n",
        "import numpy as np\n",
        "\n",
        "device = torch.device(\"cuda\" if torch.cuda.is_available() else \"cpu\")"
      ]
    },
    {
      "cell_type": "code",
      "execution_count": 2,
      "id": "af2defe5-ecc7-4539-939a-e432598481d8",
      "metadata": {
        "id": "af2defe5-ecc7-4539-939a-e432598481d8",
        "colab": {
          "base_uri": "https://localhost:8080/"
        },
        "outputId": "696e02e0-5d33-42a7-b0d1-41a88b8d27cb"
      },
      "outputs": [
        {
          "output_type": "stream",
          "name": "stdout",
          "text": [
            "Downloading http://yann.lecun.com/exdb/mnist/train-images-idx3-ubyte.gz\n",
            "Downloading http://yann.lecun.com/exdb/mnist/train-images-idx3-ubyte.gz to ../data/MNIST/raw/train-images-idx3-ubyte.gz\n"
          ]
        },
        {
          "output_type": "stream",
          "name": "stderr",
          "text": [
            "100%|██████████| 9912422/9912422 [00:00<00:00, 55977637.93it/s]\n"
          ]
        },
        {
          "output_type": "stream",
          "name": "stdout",
          "text": [
            "Extracting ../data/MNIST/raw/train-images-idx3-ubyte.gz to ../data/MNIST/raw\n",
            "\n",
            "Downloading http://yann.lecun.com/exdb/mnist/train-labels-idx1-ubyte.gz\n",
            "Downloading http://yann.lecun.com/exdb/mnist/train-labels-idx1-ubyte.gz to ../data/MNIST/raw/train-labels-idx1-ubyte.gz\n"
          ]
        },
        {
          "output_type": "stream",
          "name": "stderr",
          "text": [
            "100%|██████████| 28881/28881 [00:00<00:00, 70020632.27it/s]"
          ]
        },
        {
          "output_type": "stream",
          "name": "stdout",
          "text": [
            "Extracting ../data/MNIST/raw/train-labels-idx1-ubyte.gz to ../data/MNIST/raw\n",
            "\n",
            "Downloading http://yann.lecun.com/exdb/mnist/t10k-images-idx3-ubyte.gz\n"
          ]
        },
        {
          "output_type": "stream",
          "name": "stderr",
          "text": [
            "\n"
          ]
        },
        {
          "output_type": "stream",
          "name": "stdout",
          "text": [
            "Downloading http://yann.lecun.com/exdb/mnist/t10k-images-idx3-ubyte.gz to ../data/MNIST/raw/t10k-images-idx3-ubyte.gz\n"
          ]
        },
        {
          "output_type": "stream",
          "name": "stderr",
          "text": [
            "100%|██████████| 1648877/1648877 [00:00<00:00, 24182791.33it/s]\n"
          ]
        },
        {
          "output_type": "stream",
          "name": "stdout",
          "text": [
            "Extracting ../data/MNIST/raw/t10k-images-idx3-ubyte.gz to ../data/MNIST/raw\n",
            "\n",
            "Downloading http://yann.lecun.com/exdb/mnist/t10k-labels-idx1-ubyte.gz\n",
            "Downloading http://yann.lecun.com/exdb/mnist/t10k-labels-idx1-ubyte.gz to ../data/MNIST/raw/t10k-labels-idx1-ubyte.gz\n"
          ]
        },
        {
          "output_type": "stream",
          "name": "stderr",
          "text": [
            "100%|██████████| 4542/4542 [00:00<00:00, 4468808.06it/s]"
          ]
        },
        {
          "output_type": "stream",
          "name": "stdout",
          "text": [
            "Extracting ../data/MNIST/raw/t10k-labels-idx1-ubyte.gz to ../data/MNIST/raw\n",
            "\n"
          ]
        },
        {
          "output_type": "stream",
          "name": "stderr",
          "text": [
            "\n",
            "/usr/local/lib/python3.10/dist-packages/torch/utils/data/dataloader.py:558: UserWarning: This DataLoader will create 4 worker processes in total. Our suggested max number of worker in current system is 2, which is smaller than what this DataLoader is going to create. Please be aware that excessive worker creation might get DataLoader running slow or even freeze, lower the worker number to avoid potential slowness/freeze if necessary.\n",
            "  warnings.warn(_create_warning_msg(\n"
          ]
        }
      ],
      "source": [
        "transform = transforms.Compose([transforms.ToTensor()])\n",
        "\n",
        "train_dataset = datasets.MNIST(\n",
        "    root=\"../data\", train=True, transform=transform, download=True)\n",
        "\n",
        "test_dataset = datasets.MNIST(\n",
        "    root=\"../data\", train=False, transform=transform, download=True)\n",
        "\n",
        "train_loader = DataLoader(\n",
        "    train_dataset, batch_size=100, shuffle=True, num_workers=4, pin_memory=False)\n",
        "\n",
        "test_loader = DataLoader(\n",
        "    test_dataset, batch_size=100, shuffle=False, num_workers=4)"
      ]
    },
    {
      "cell_type": "markdown",
      "id": "4204de8f-0019-4599-9a91-c1582d71db4d",
      "metadata": {
        "id": "4204de8f-0019-4599-9a91-c1582d71db4d"
      },
      "source": [
        "### Q1. Encoder/Decoder Implementation\n",
        "    Show me your visualizations(MNIST images) using a VAE model made up of your own 'Encoder2/Decoder2'\n",
        "    I can see your visualizations at the last part of this code file (Assignment 1 ; Visualization)\n",
        "    \n",
        "***You can refer to the examples right under this markdown, please make your own Encoder (Class name; Encoder2/Decoder2)***"
      ]
    },
    {
      "cell_type": "code",
      "execution_count": 3,
      "id": "c1391ab2-4371-45f6-9698-f5ccac05f470",
      "metadata": {
        "id": "c1391ab2-4371-45f6-9698-f5ccac05f470"
      },
      "outputs": [],
      "source": [
        "# You can freely choose one of architectures you want that looks promising\n",
        "class Encoder(nn.Module):\n",
        "    def __init__(self, input_dim, hidden_dim, hidden_dim2, latent_dim):\n",
        "        super(Encoder, self).__init__()\n",
        "        self.input1 = nn.Linear(input_dim, hidden_dim)\n",
        "        self.input2 = nn.Linear(hidden_dim, hidden_dim2)\n",
        "        self.mean = nn.Linear(hidden_dim2, latent_dim)\n",
        "        self.var = nn.Linear (hidden_dim2, latent_dim)\n",
        "\n",
        "        self.LeakyReLU = nn.LeakyReLU(0.2)\n",
        "        self.training = True\n",
        "\n",
        "    def forward(self, x):\n",
        "        h_ = self.LeakyReLU(self.input1(x))\n",
        "        h_ = self.LeakyReLU(self.input2(h_))\n",
        "        mean = self.mean(h_)\n",
        "        log_var = self.var(h_)\n",
        "        return mean, log_var"
      ]
    },
    {
      "cell_type": "code",
      "source": [
        "class Encoder2(nn.Module):\n",
        "    def __init__(self, input_dim, hidden_dim, hidden_dim2, latent_dim):\n",
        "        super(Encoder2, self).__init__()\n",
        "        self.input1 = nn.Linear(input_dim, hidden_dim)\n",
        "        self.input2 = nn.Linear(hidden_dim, hidden_dim2)\n",
        "        self.mean = nn.Linear(hidden_dim2, latent_dim)\n",
        "        self.var = nn.Linear(hidden_dim2, latent_dim)\n",
        "        self.relu = nn.ReLU(0.2)\n",
        "\n",
        "    def forward(self, x):\n",
        "        h_ = self.relu(self.input1(x))\n",
        "        h_ = self.relu(self.input2(h_))\n",
        "        mean = self.mean(h_)\n",
        "        log_var = self.var(h_)\n",
        "        return mean, log_var"
      ],
      "metadata": {
        "id": "Tk8g8ffSTov8"
      },
      "id": "Tk8g8ffSTov8",
      "execution_count": 4,
      "outputs": []
    },
    {
      "cell_type": "code",
      "execution_count": 5,
      "id": "c629498b-7c6b-4108-bcaf-263ce44b45fb",
      "metadata": {
        "id": "c629498b-7c6b-4108-bcaf-263ce44b45fb"
      },
      "outputs": [],
      "source": [
        "class Decoder(nn.Module):\n",
        "    def __init__(self, latent_dim, hidden_dim, hidden_dim2, output_dim):\n",
        "        super(Decoder, self).__init__()\n",
        "        self.hidden1 = nn.Linear(latent_dim, hidden_dim2)\n",
        "        self.hidden2 = nn.Linear(hidden_dim2, hidden_dim)\n",
        "        self.output = nn.Linear(hidden_dim, output_dim)\n",
        "        self.LeakyReLU = nn.LeakyReLU(0.2)\n",
        "\n",
        "    def forward(self, x):\n",
        "        h = self.LeakyReLU(self.hidden1(x))\n",
        "        h = self.LeakyReLU(self.hidden2(h))\n",
        "        x_hat = torch.sigmoid(self.output(h))\n",
        "        return x_hat"
      ]
    },
    {
      "cell_type": "code",
      "source": [
        "class Decoder2(nn.Module):\n",
        "    def __init__(self, latent_dim, hidden_dim, hidden_dim2, output_dim):\n",
        "        super(Decoder2, self).__init__()\n",
        "        self.hidden1 = nn.Linear(latent_dim, hidden_dim2)\n",
        "        self.hidden2 = nn.Linear(hidden_dim2, hidden_dim)\n",
        "        self.output = nn.Linear(hidden_dim, output_dim)\n",
        "        self.relu  = nn.ReLU(0.2)\n",
        "\n",
        "    def forward(self, x):\n",
        "        h = self.relu (self.hidden1(x))\n",
        "        h = self.relu (self.hidden2(h))\n",
        "        x_hat = torch.sigmoid(self.output(h))\n",
        "        return x_hat"
      ],
      "metadata": {
        "id": "Wo58OZV-TjaW"
      },
      "id": "Wo58OZV-TjaW",
      "execution_count": 6,
      "outputs": []
    },
    {
      "cell_type": "code",
      "execution_count": 7,
      "id": "3696228c-9624-4abe-a48e-3ad00bededc8",
      "metadata": {
        "id": "3696228c-9624-4abe-a48e-3ad00bededc8"
      },
      "outputs": [],
      "source": [
        "class Model(nn.Module):\n",
        "    def __init__(self, Encoder, Decoder):\n",
        "        super(Model, self).__init__()\n",
        "        self.Encoder = Encoder\n",
        "        self.Decoder = Decoder\n",
        "\n",
        "    # Think about why you need reparameterization trick (Hint; backpropagation)\n",
        "    def reparameterization(self, mean, var):\n",
        "        epsilon = torch.randn_like(var).to(device)\n",
        "        z = mean + var*epsilon\n",
        "        return z\n",
        "\n",
        "    def forward(self, x):\n",
        "        mean, log_var = self.Encoder(x)\n",
        "        z = self.reparameterization(mean, torch.exp(0.5 * log_var))\n",
        "        x_hat = self.Decoder(z)\n",
        "        return x_hat, mean, log_var"
      ]
    },
    {
      "cell_type": "code",
      "execution_count": 8,
      "id": "e5641e6d-f5c6-441d-86f8-22bf575a9eaa",
      "metadata": {
        "id": "e5641e6d-f5c6-441d-86f8-22bf575a9eaa"
      },
      "outputs": [],
      "source": [
        "# Any modifications are allowed depending on your own Encoder2/Decoder2\n",
        "# -----------------------------------\n",
        "\n",
        "x_dim  = 784\n",
        "hidden_dim = 400\n",
        "hidden_dim2 = 200\n",
        "latent_dim = 20\n",
        "epochs = 30\n",
        "batch_size = 100\n",
        "\n",
        "# -----------------------------------\n",
        "\n",
        "\n",
        "\n",
        "# encoder = Encoder(input_dim=x_dim, hidden_dim=hidden_dim, hidden_dim2=hidden_dim2, latent_dim=latent_dim)\n",
        "##encoder = Encoder2(*) //to do\n",
        "\n",
        "# decoder = Decoder(latent_dim=latent_dim, hidden_dim = hidden_dim, hidden_dim2=hidden_dim2, output_dim = x_dim)\n",
        "##decoder = Decoder2(*) //to do\n",
        "\n",
        "encoder = Encoder2(input_dim=x_dim, hidden_dim=hidden_dim, hidden_dim2=hidden_dim2, latent_dim=latent_dim)\n",
        "decoder = Decoder2(latent_dim=latent_dim, hidden_dim=hidden_dim, hidden_dim2=hidden_dim2, output_dim=x_dim)\n",
        "\n",
        "model = Model(Encoder=encoder, Decoder=decoder).to(device)"
      ]
    },
    {
      "cell_type": "markdown",
      "id": "1a1dda96-70cb-4f76-9ce6-fd97f3163e43",
      "metadata": {
        "id": "1a1dda96-70cb-4f76-9ce6-fd97f3163e43"
      },
      "source": [
        "### Q2. (Optional Assignment)\n",
        "    Refering to Beta-VAE(https://openreview.net/forum?id=Sy2fzU9gl), give any kind of manipulations on pre-made loss function, and visualize your samples.\n",
        "    It would be nice to see whether the fidelity of sample data is improved or not! Also guess why.\n",
        "***Warning)  you don't have to take all the contents of this paper! Look carefully at the Equation (4)***"
      ]
    },
    {
      "cell_type": "code",
      "execution_count": 9,
      "id": "57224c98-da41-48f1-a1fc-52d922492ab7",
      "metadata": {
        "id": "57224c98-da41-48f1-a1fc-52d922492ab7"
      },
      "outputs": [],
      "source": [
        "# (Optional Assignment)\n",
        "def loss_function(x, x_hat, mean, log_var):\n",
        "    reproduction_loss = nn.functional.binary_cross_entropy(x_hat, x, reduction='sum')\n",
        "    # Think about how to calculate KLDivergence in closed form (Hint; assumptions for Gaussian), please refer to the following links\n",
        "    # https://stats.stackexchange.com/questions/7440/kl-divergence-between-two-univariate-gaussians\n",
        "    KLD = - 0.5 * torch.sum(1+ log_var - mean.pow(2) - log_var.exp())\n",
        "    return reproduction_loss, KLD\n",
        "\n",
        "optimizer = torch.optim.Adam(model.parameters(), lr=1e-3)"
      ]
    },
    {
      "cell_type": "code",
      "execution_count": 10,
      "id": "7e517f22-c296-44ba-882a-78788900064e",
      "metadata": {
        "id": "7e517f22-c296-44ba-882a-78788900064e"
      },
      "outputs": [],
      "source": [
        "def train(epoch, model, train_loader, optimizer):\n",
        "    model.train()\n",
        "    train_loss = 0\n",
        "    for batch_idx, (x, _) in enumerate(train_loader):\n",
        "        x = x.view(batch_size, x_dim)\n",
        "        x = x.to(device)\n",
        "\n",
        "        optimizer.zero_grad()\n",
        "        x_hat, mean, log_var = model(x)\n",
        "        BCE, KLD = loss_function(x, x_hat, mean, log_var)\n",
        "        loss = BCE + KLD\n",
        "\n",
        "        train_loss += loss.item()\n",
        "        loss.backward()\n",
        "        optimizer.step()\n",
        "\n",
        "        if batch_idx % 100 == 0:\n",
        "            print('Train Epoch: {} [{}/{} ({:.0f}%)]\\t Loss: {:.6f}'.format(\n",
        "                epoch, batch_idx * len(x), len(train_loader.dataset),\n",
        "                100. * batch_idx / len(train_loader),\n",
        "                loss.item() / len(x)))\n",
        "\n",
        "    print(\"======> Epoch: {} Average loss: {:.4f}\".format(\n",
        "        epoch, train_loss / len(train_loader.dataset)))"
      ]
    },
    {
      "cell_type": "code",
      "execution_count": 11,
      "id": "03734a8e-7df4-4f82-bcf7-f1b83e888f3a",
      "metadata": {
        "id": "03734a8e-7df4-4f82-bcf7-f1b83e888f3a"
      },
      "outputs": [],
      "source": [
        "def test(epoch, model, test_loader):\n",
        "    model.eval()\n",
        "    test_loss = 0\n",
        "    with torch.no_grad():\n",
        "        for batch_idx, (x, _) in enumerate(test_loader):\n",
        "            x = x.view(batch_size, x_dim)\n",
        "            x = x.to(device)\n",
        "            x_hat, mean, log_var = model(x)\n",
        "            BCE, KLD = loss_function(x, x_hat, mean, log_var)\n",
        "            loss = BCE + KLD\n",
        "\n",
        "            test_loss += loss.item()\n",
        "\n",
        "            if batch_idx == 0:\n",
        "                n = min(x.size(0), 8)\n",
        "                comparison = torch.cat([x[:n], x_hat.view(batch_size, x_dim)[:n]])\n",
        "                grid = torchvision.utils.make_grid(comparison.cpu())"
      ]
    },
    {
      "cell_type": "code",
      "execution_count": 12,
      "id": "d8aba750-5e8d-47aa-9dcc-369c302c9d9a",
      "metadata": {
        "colab": {
          "base_uri": "https://localhost:8080/",
          "height": 1000,
          "referenced_widgets": [
            "c1441ee4fc6c4b62bd6fcc82def3eb92",
            "3915d57f3ea04be6af1614b91ca6d6cd",
            "bcc7ca91a8a942b6bd49fdb56fa361a1",
            "844e2104fba1423fbfb589f2c9c47741",
            "e7c3d80fce194db89c48a39130153099",
            "ea7a8a2d7a144e19bb33715ce1e2aa3b",
            "3817ff99793041f49f4c38ef3f2bb880",
            "c408b423d58b4334a7904cf9e33117c6",
            "e0a8b26d137c4db2b3194ac501c0cb92",
            "9b08877c00ff4fc3af52fce2f519ab8c",
            "fca25b015d6242fa93b0072b1f57ce5b"
          ]
        },
        "id": "d8aba750-5e8d-47aa-9dcc-369c302c9d9a",
        "outputId": "35f94c85-a661-4d75-ff99-1bdb6332fe54"
      },
      "outputs": [
        {
          "output_type": "display_data",
          "data": {
            "text/plain": [
              "  0%|          | 0/30 [00:00<?, ?it/s]"
            ],
            "application/vnd.jupyter.widget-view+json": {
              "version_major": 2,
              "version_minor": 0,
              "model_id": "c1441ee4fc6c4b62bd6fcc82def3eb92"
            }
          },
          "metadata": {}
        },
        {
          "output_type": "stream",
          "name": "stdout",
          "text": [
            "Train Epoch: 0 [0/60000 (0%)]\t Loss: 545.107227\n",
            "Train Epoch: 0 [10000/60000 (17%)]\t Loss: 196.376621\n",
            "Train Epoch: 0 [20000/60000 (33%)]\t Loss: 178.420410\n",
            "Train Epoch: 0 [30000/60000 (50%)]\t Loss: 174.642207\n",
            "Train Epoch: 0 [40000/60000 (67%)]\t Loss: 152.708096\n",
            "Train Epoch: 0 [50000/60000 (83%)]\t Loss: 149.509238\n",
            "======> Epoch: 0 Average loss: 172.9361\n",
            "\n",
            "\n",
            "Train Epoch: 1 [0/60000 (0%)]\t Loss: 138.081562\n",
            "Train Epoch: 1 [10000/60000 (17%)]\t Loss: 135.275078\n",
            "Train Epoch: 1 [20000/60000 (33%)]\t Loss: 134.001348\n",
            "Train Epoch: 1 [30000/60000 (50%)]\t Loss: 123.945098\n",
            "Train Epoch: 1 [40000/60000 (67%)]\t Loss: 124.722793\n",
            "Train Epoch: 1 [50000/60000 (83%)]\t Loss: 113.057051\n",
            "======> Epoch: 1 Average loss: 126.9723\n",
            "\n",
            "\n",
            "Train Epoch: 2 [0/60000 (0%)]\t Loss: 114.591504\n",
            "Train Epoch: 2 [10000/60000 (17%)]\t Loss: 114.813945\n",
            "Train Epoch: 2 [20000/60000 (33%)]\t Loss: 112.760283\n",
            "Train Epoch: 2 [30000/60000 (50%)]\t Loss: 115.014580\n",
            "Train Epoch: 2 [40000/60000 (67%)]\t Loss: 115.571836\n",
            "Train Epoch: 2 [50000/60000 (83%)]\t Loss: 113.305703\n",
            "======> Epoch: 2 Average loss: 117.3670\n",
            "\n",
            "\n",
            "Train Epoch: 3 [0/60000 (0%)]\t Loss: 108.314648\n",
            "Train Epoch: 3 [10000/60000 (17%)]\t Loss: 117.987861\n",
            "Train Epoch: 3 [20000/60000 (33%)]\t Loss: 113.317012\n",
            "Train Epoch: 3 [30000/60000 (50%)]\t Loss: 115.459199\n",
            "Train Epoch: 3 [40000/60000 (67%)]\t Loss: 111.473682\n",
            "Train Epoch: 3 [50000/60000 (83%)]\t Loss: 114.289189\n",
            "======> Epoch: 3 Average loss: 113.0252\n",
            "\n",
            "\n",
            "Train Epoch: 4 [0/60000 (0%)]\t Loss: 115.800928\n",
            "Train Epoch: 4 [10000/60000 (17%)]\t Loss: 113.941143\n",
            "Train Epoch: 4 [20000/60000 (33%)]\t Loss: 109.300215\n",
            "Train Epoch: 4 [30000/60000 (50%)]\t Loss: 107.218760\n",
            "Train Epoch: 4 [40000/60000 (67%)]\t Loss: 110.674229\n",
            "Train Epoch: 4 [50000/60000 (83%)]\t Loss: 110.962803\n",
            "======> Epoch: 4 Average loss: 110.6417\n",
            "\n",
            "\n",
            "Train Epoch: 5 [0/60000 (0%)]\t Loss: 113.842871\n",
            "Train Epoch: 5 [10000/60000 (17%)]\t Loss: 113.326699\n",
            "Train Epoch: 5 [20000/60000 (33%)]\t Loss: 111.490791\n",
            "Train Epoch: 5 [30000/60000 (50%)]\t Loss: 107.475781\n",
            "Train Epoch: 5 [40000/60000 (67%)]\t Loss: 111.019629\n",
            "Train Epoch: 5 [50000/60000 (83%)]\t Loss: 106.232881\n",
            "======> Epoch: 5 Average loss: 109.0113\n",
            "\n",
            "\n",
            "Train Epoch: 6 [0/60000 (0%)]\t Loss: 113.808154\n",
            "Train Epoch: 6 [10000/60000 (17%)]\t Loss: 108.417500\n",
            "Train Epoch: 6 [20000/60000 (33%)]\t Loss: 108.978125\n",
            "Train Epoch: 6 [30000/60000 (50%)]\t Loss: 101.976855\n",
            "Train Epoch: 6 [40000/60000 (67%)]\t Loss: 110.343242\n",
            "Train Epoch: 6 [50000/60000 (83%)]\t Loss: 105.845117\n",
            "======> Epoch: 6 Average loss: 107.7805\n",
            "\n",
            "\n",
            "Train Epoch: 7 [0/60000 (0%)]\t Loss: 112.453115\n",
            "Train Epoch: 7 [10000/60000 (17%)]\t Loss: 108.437129\n",
            "Train Epoch: 7 [20000/60000 (33%)]\t Loss: 113.046533\n",
            "Train Epoch: 7 [30000/60000 (50%)]\t Loss: 104.915137\n",
            "Train Epoch: 7 [40000/60000 (67%)]\t Loss: 106.292256\n",
            "Train Epoch: 7 [50000/60000 (83%)]\t Loss: 106.928438\n",
            "======> Epoch: 7 Average loss: 106.7263\n",
            "\n",
            "\n",
            "Train Epoch: 8 [0/60000 (0%)]\t Loss: 105.278340\n",
            "Train Epoch: 8 [10000/60000 (17%)]\t Loss: 106.131182\n",
            "Train Epoch: 8 [20000/60000 (33%)]\t Loss: 105.154238\n",
            "Train Epoch: 8 [30000/60000 (50%)]\t Loss: 104.933574\n",
            "Train Epoch: 8 [40000/60000 (67%)]\t Loss: 104.987510\n",
            "Train Epoch: 8 [50000/60000 (83%)]\t Loss: 106.468926\n",
            "======> Epoch: 8 Average loss: 105.8114\n",
            "\n",
            "\n",
            "Train Epoch: 9 [0/60000 (0%)]\t Loss: 104.118428\n",
            "Train Epoch: 9 [10000/60000 (17%)]\t Loss: 105.248467\n",
            "Train Epoch: 9 [20000/60000 (33%)]\t Loss: 106.410547\n",
            "Train Epoch: 9 [30000/60000 (50%)]\t Loss: 108.271025\n",
            "Train Epoch: 9 [40000/60000 (67%)]\t Loss: 100.076787\n",
            "Train Epoch: 9 [50000/60000 (83%)]\t Loss: 104.938389\n",
            "======> Epoch: 9 Average loss: 105.0504\n",
            "\n",
            "\n",
            "Train Epoch: 10 [0/60000 (0%)]\t Loss: 103.766426\n",
            "Train Epoch: 10 [10000/60000 (17%)]\t Loss: 103.637627\n",
            "Train Epoch: 10 [20000/60000 (33%)]\t Loss: 102.366309\n",
            "Train Epoch: 10 [30000/60000 (50%)]\t Loss: 104.918994\n",
            "Train Epoch: 10 [40000/60000 (67%)]\t Loss: 106.316064\n",
            "Train Epoch: 10 [50000/60000 (83%)]\t Loss: 106.884004\n",
            "======> Epoch: 10 Average loss: 104.3885\n",
            "\n",
            "\n",
            "Train Epoch: 11 [0/60000 (0%)]\t Loss: 103.560654\n",
            "Train Epoch: 11 [10000/60000 (17%)]\t Loss: 105.046631\n",
            "Train Epoch: 11 [20000/60000 (33%)]\t Loss: 103.983037\n",
            "Train Epoch: 11 [30000/60000 (50%)]\t Loss: 102.932383\n",
            "Train Epoch: 11 [40000/60000 (67%)]\t Loss: 102.237139\n",
            "Train Epoch: 11 [50000/60000 (83%)]\t Loss: 101.833701\n",
            "======> Epoch: 11 Average loss: 103.7197\n",
            "\n",
            "\n",
            "Train Epoch: 12 [0/60000 (0%)]\t Loss: 107.219141\n",
            "Train Epoch: 12 [10000/60000 (17%)]\t Loss: 104.074854\n",
            "Train Epoch: 12 [20000/60000 (33%)]\t Loss: 100.129053\n",
            "Train Epoch: 12 [30000/60000 (50%)]\t Loss: 104.433887\n",
            "Train Epoch: 12 [40000/60000 (67%)]\t Loss: 106.879668\n",
            "Train Epoch: 12 [50000/60000 (83%)]\t Loss: 101.344336\n",
            "======> Epoch: 12 Average loss: 103.1887\n",
            "\n",
            "\n",
            "Train Epoch: 13 [0/60000 (0%)]\t Loss: 102.681309\n",
            "Train Epoch: 13 [10000/60000 (17%)]\t Loss: 97.983145\n",
            "Train Epoch: 13 [20000/60000 (33%)]\t Loss: 109.819971\n",
            "Train Epoch: 13 [30000/60000 (50%)]\t Loss: 100.999453\n",
            "Train Epoch: 13 [40000/60000 (67%)]\t Loss: 101.653975\n",
            "Train Epoch: 13 [50000/60000 (83%)]\t Loss: 104.223584\n",
            "======> Epoch: 13 Average loss: 102.8097\n",
            "\n",
            "\n",
            "Train Epoch: 14 [0/60000 (0%)]\t Loss: 101.475146\n",
            "Train Epoch: 14 [10000/60000 (17%)]\t Loss: 104.660508\n",
            "Train Epoch: 14 [20000/60000 (33%)]\t Loss: 106.950244\n",
            "Train Epoch: 14 [30000/60000 (50%)]\t Loss: 105.444346\n",
            "Train Epoch: 14 [40000/60000 (67%)]\t Loss: 99.624414\n",
            "Train Epoch: 14 [50000/60000 (83%)]\t Loss: 100.325293\n",
            "======> Epoch: 14 Average loss: 102.4198\n",
            "\n",
            "\n",
            "Train Epoch: 15 [0/60000 (0%)]\t Loss: 98.139111\n",
            "Train Epoch: 15 [10000/60000 (17%)]\t Loss: 102.984238\n",
            "Train Epoch: 15 [20000/60000 (33%)]\t Loss: 102.709746\n",
            "Train Epoch: 15 [30000/60000 (50%)]\t Loss: 102.054541\n",
            "Train Epoch: 15 [40000/60000 (67%)]\t Loss: 99.439883\n",
            "Train Epoch: 15 [50000/60000 (83%)]\t Loss: 99.433691\n",
            "======> Epoch: 15 Average loss: 102.1561\n",
            "\n",
            "\n",
            "Train Epoch: 16 [0/60000 (0%)]\t Loss: 102.453408\n",
            "Train Epoch: 16 [10000/60000 (17%)]\t Loss: 97.500068\n",
            "Train Epoch: 16 [20000/60000 (33%)]\t Loss: 103.031807\n",
            "Train Epoch: 16 [30000/60000 (50%)]\t Loss: 104.652930\n",
            "Train Epoch: 16 [40000/60000 (67%)]\t Loss: 103.661172\n",
            "Train Epoch: 16 [50000/60000 (83%)]\t Loss: 101.420430\n",
            "======> Epoch: 16 Average loss: 101.8048\n",
            "\n",
            "\n",
            "Train Epoch: 17 [0/60000 (0%)]\t Loss: 101.259941\n",
            "Train Epoch: 17 [10000/60000 (17%)]\t Loss: 100.183926\n",
            "Train Epoch: 17 [20000/60000 (33%)]\t Loss: 100.367676\n",
            "Train Epoch: 17 [30000/60000 (50%)]\t Loss: 102.404219\n",
            "Train Epoch: 17 [40000/60000 (67%)]\t Loss: 100.749219\n",
            "Train Epoch: 17 [50000/60000 (83%)]\t Loss: 102.620420\n",
            "======> Epoch: 17 Average loss: 101.5697\n",
            "\n",
            "\n",
            "Train Epoch: 18 [0/60000 (0%)]\t Loss: 97.887461\n",
            "Train Epoch: 18 [10000/60000 (17%)]\t Loss: 103.839023\n",
            "Train Epoch: 18 [20000/60000 (33%)]\t Loss: 101.598232\n",
            "Train Epoch: 18 [30000/60000 (50%)]\t Loss: 98.788213\n",
            "Train Epoch: 18 [40000/60000 (67%)]\t Loss: 100.920127\n",
            "Train Epoch: 18 [50000/60000 (83%)]\t Loss: 100.678896\n",
            "======> Epoch: 18 Average loss: 101.3720\n",
            "\n",
            "\n",
            "Train Epoch: 19 [0/60000 (0%)]\t Loss: 100.513027\n",
            "Train Epoch: 19 [10000/60000 (17%)]\t Loss: 100.234131\n",
            "Train Epoch: 19 [20000/60000 (33%)]\t Loss: 101.990488\n",
            "Train Epoch: 19 [30000/60000 (50%)]\t Loss: 104.657080\n",
            "Train Epoch: 19 [40000/60000 (67%)]\t Loss: 106.725850\n",
            "Train Epoch: 19 [50000/60000 (83%)]\t Loss: 103.863838\n",
            "======> Epoch: 19 Average loss: 101.1707\n",
            "\n",
            "\n",
            "Train Epoch: 20 [0/60000 (0%)]\t Loss: 97.329434\n",
            "Train Epoch: 20 [10000/60000 (17%)]\t Loss: 104.940625\n",
            "Train Epoch: 20 [20000/60000 (33%)]\t Loss: 104.009756\n",
            "Train Epoch: 20 [30000/60000 (50%)]\t Loss: 99.745508\n",
            "Train Epoch: 20 [40000/60000 (67%)]\t Loss: 101.345684\n",
            "Train Epoch: 20 [50000/60000 (83%)]\t Loss: 107.091240\n",
            "======> Epoch: 20 Average loss: 100.9423\n",
            "\n",
            "\n",
            "Train Epoch: 21 [0/60000 (0%)]\t Loss: 98.229619\n",
            "Train Epoch: 21 [10000/60000 (17%)]\t Loss: 98.215020\n",
            "Train Epoch: 21 [20000/60000 (33%)]\t Loss: 100.169805\n",
            "Train Epoch: 21 [30000/60000 (50%)]\t Loss: 98.220059\n",
            "Train Epoch: 21 [40000/60000 (67%)]\t Loss: 101.506172\n",
            "Train Epoch: 21 [50000/60000 (83%)]\t Loss: 98.663828\n",
            "======> Epoch: 21 Average loss: 100.7695\n",
            "\n",
            "\n",
            "Train Epoch: 22 [0/60000 (0%)]\t Loss: 103.971455\n",
            "Train Epoch: 22 [10000/60000 (17%)]\t Loss: 101.983740\n",
            "Train Epoch: 22 [20000/60000 (33%)]\t Loss: 98.400615\n",
            "Train Epoch: 22 [30000/60000 (50%)]\t Loss: 99.930068\n",
            "Train Epoch: 22 [40000/60000 (67%)]\t Loss: 104.916689\n",
            "Train Epoch: 22 [50000/60000 (83%)]\t Loss: 101.417168\n",
            "======> Epoch: 22 Average loss: 100.5798\n",
            "\n",
            "\n",
            "Train Epoch: 23 [0/60000 (0%)]\t Loss: 100.606680\n",
            "Train Epoch: 23 [10000/60000 (17%)]\t Loss: 103.914316\n",
            "Train Epoch: 23 [20000/60000 (33%)]\t Loss: 102.415098\n",
            "Train Epoch: 23 [30000/60000 (50%)]\t Loss: 101.084492\n",
            "Train Epoch: 23 [40000/60000 (67%)]\t Loss: 102.340859\n",
            "Train Epoch: 23 [50000/60000 (83%)]\t Loss: 103.655000\n",
            "======> Epoch: 23 Average loss: 100.4161\n",
            "\n",
            "\n",
            "Train Epoch: 24 [0/60000 (0%)]\t Loss: 102.781406\n",
            "Train Epoch: 24 [10000/60000 (17%)]\t Loss: 101.520791\n",
            "Train Epoch: 24 [20000/60000 (33%)]\t Loss: 97.665312\n",
            "Train Epoch: 24 [30000/60000 (50%)]\t Loss: 98.972363\n",
            "Train Epoch: 24 [40000/60000 (67%)]\t Loss: 98.498652\n",
            "Train Epoch: 24 [50000/60000 (83%)]\t Loss: 95.490664\n",
            "======> Epoch: 24 Average loss: 100.2580\n",
            "\n",
            "\n",
            "Train Epoch: 25 [0/60000 (0%)]\t Loss: 97.703516\n",
            "Train Epoch: 25 [10000/60000 (17%)]\t Loss: 101.077080\n",
            "Train Epoch: 25 [20000/60000 (33%)]\t Loss: 101.487217\n",
            "Train Epoch: 25 [30000/60000 (50%)]\t Loss: 100.042109\n",
            "Train Epoch: 25 [40000/60000 (67%)]\t Loss: 98.964541\n",
            "Train Epoch: 25 [50000/60000 (83%)]\t Loss: 101.303955\n",
            "======> Epoch: 25 Average loss: 100.1418\n",
            "\n",
            "\n",
            "Train Epoch: 26 [0/60000 (0%)]\t Loss: 97.025713\n",
            "Train Epoch: 26 [10000/60000 (17%)]\t Loss: 104.220244\n",
            "Train Epoch: 26 [20000/60000 (33%)]\t Loss: 101.298975\n",
            "Train Epoch: 26 [30000/60000 (50%)]\t Loss: 102.521162\n",
            "Train Epoch: 26 [40000/60000 (67%)]\t Loss: 103.103018\n",
            "Train Epoch: 26 [50000/60000 (83%)]\t Loss: 99.525400\n",
            "======> Epoch: 26 Average loss: 100.0202\n",
            "\n",
            "\n",
            "Train Epoch: 27 [0/60000 (0%)]\t Loss: 102.937334\n",
            "Train Epoch: 27 [10000/60000 (17%)]\t Loss: 99.458975\n",
            "Train Epoch: 27 [20000/60000 (33%)]\t Loss: 98.891113\n",
            "Train Epoch: 27 [30000/60000 (50%)]\t Loss: 98.371406\n",
            "Train Epoch: 27 [40000/60000 (67%)]\t Loss: 100.232949\n",
            "Train Epoch: 27 [50000/60000 (83%)]\t Loss: 99.038496\n",
            "======> Epoch: 27 Average loss: 99.8897\n",
            "\n",
            "\n",
            "Train Epoch: 28 [0/60000 (0%)]\t Loss: 107.455664\n",
            "Train Epoch: 28 [10000/60000 (17%)]\t Loss: 97.312021\n",
            "Train Epoch: 28 [20000/60000 (33%)]\t Loss: 99.808730\n",
            "Train Epoch: 28 [30000/60000 (50%)]\t Loss: 99.247520\n",
            "Train Epoch: 28 [40000/60000 (67%)]\t Loss: 98.971992\n",
            "Train Epoch: 28 [50000/60000 (83%)]\t Loss: 95.392344\n",
            "======> Epoch: 28 Average loss: 99.8082\n",
            "\n",
            "\n",
            "Train Epoch: 29 [0/60000 (0%)]\t Loss: 103.073379\n",
            "Train Epoch: 29 [10000/60000 (17%)]\t Loss: 94.126992\n",
            "Train Epoch: 29 [20000/60000 (33%)]\t Loss: 98.893916\n",
            "Train Epoch: 29 [30000/60000 (50%)]\t Loss: 101.386318\n",
            "Train Epoch: 29 [40000/60000 (67%)]\t Loss: 98.142803\n",
            "Train Epoch: 29 [50000/60000 (83%)]\t Loss: 100.678730\n",
            "======> Epoch: 29 Average loss: 99.6586\n",
            "\n",
            "\n"
          ]
        }
      ],
      "source": [
        "# Trackning the process\n",
        "# If you have difficulty on installing 'tqdm', modifications are allowed. Not necessary\n",
        "from tqdm.auto import tqdm\n",
        "\n",
        "# Training an VAE model, and record losses\n",
        "for epoch in tqdm(range(0, epochs)):\n",
        "    train(epoch, model, train_loader, optimizer)\n",
        "    test(epoch, model, test_loader)\n",
        "    print(\"\\n\")\n"
      ]
    },
    {
      "cell_type": "code",
      "execution_count": 13,
      "id": "229e80ee-486b-4946-af44-398071a116e1",
      "metadata": {
        "colab": {
          "base_uri": "https://localhost:8080/",
          "height": 89
        },
        "id": "229e80ee-486b-4946-af44-398071a116e1",
        "outputId": "0d9b5df8-cd67-429a-87b3-2240a3f4c4c9"
      },
      "outputs": [
        {
          "output_type": "display_data",
          "data": {
            "text/plain": [
              "<Figure size 2000x800 with 20 Axes>"
            ],
            "image/png": "[encoded data removed]"
          },
          "metadata": {}
        }
      ],
      "source": [
        "# After training decoder, begin visualize what comes after decoder given input z\n",
        "def visualize(decoder,z):\n",
        "    # 디코더로부터 샘플 생성\n",
        "    x_sample = decoder(z).view(20,28,28).detach().numpy()\n",
        "    # 샘플 시각화\n",
        "    fig, axes = plt.subplots(nrows=1, ncols=20, figsize=(20, 8))\n",
        "    for i, ax in enumerate(axes.flat):\n",
        "        ax.imshow(x_sample[i], cmap='gray')\n",
        "        ax.axis('off')\n",
        "    plt.tight_layout()\n",
        "    plt.show()\n",
        "\n",
        "z_sample = torch.randn(20,20)\n",
        "\n",
        "# (Assignment 1 ; Visualization)\n",
        "visualize(decoder,z_sample)\n"
      ]
    },
    {
      "cell_type": "code",
      "execution_count": 14,
      "id": "d8f29311-a0fc-4f9f-a15c-a2f1224d0344",
      "metadata": {
        "colab": {
          "base_uri": "https://localhost:8080/",
          "height": 89
        },
        "id": "d8f29311-a0fc-4f9f-a15c-a2f1224d0344",
        "outputId": "089bbfec-1ab0-4b68-a702-10efdd4603cc"
      },
      "outputs": [
        {
          "output_type": "display_data",
          "data": {
            "text/plain": [
              "<Figure size 2000x800 with 20 Axes>"
            ],
            "image/png": "[encoded data removed]"
          },
          "metadata": {}
        }
      ],
      "source": [
        "# Set seed numbers to take reproducibility\n",
        "seed = 3\n",
        "torch.manual_seed(seed)\n",
        "# torch.cuda.manual_seed(seed)\n",
        "np.random.seed(seed)\n",
        "\n",
        "# Random z\n",
        "z = torch.randn(20)\n",
        "# Make copies\n",
        "# Interpolation을 위해 첫 번째 차원의 변화를 만들기 위한 z의 복사본을 생성\n",
        "z = z.repeat(20,1)\n",
        "\n",
        "# Interpolation in latent space z\n",
        "for i in range(20):\n",
        "  # 인접한 점들 사이의 선형 보간\n",
        "    z[i, 0] += i * 0.5 - (20 - 1) * 0.5 / 2\n",
        "\n",
        "# (Assignment 1 ; Visualization)\n",
        "visualize(decoder,z)"
      ]
    },
    {
      "cell_type": "markdown",
      "id": "d01be24b-3ef5-4069-9099-c8d4d734466b",
      "metadata": {
        "id": "d01be24b-3ef5-4069-9099-c8d4d734466b"
      },
      "source": [
        "## Answer(Q2; Optional) : Please write any codes or statements below this space\n"
      ]
    },
    {
      "cell_type": "code",
      "execution_count": 1,
      "id": "d33a0d36-14e2-4f75-b846-e364b711ced8",
      "metadata": {
        "id": "d33a0d36-14e2-4f75-b846-e364b711ced8",
        "colab": {
          "base_uri": "https://localhost:8080/",
          "height": 210
        },
        "outputId": "a0b22afa-acb7-45aa-ee40-2ff7b7f8b192"
      },
      "outputs": [
        {
          "output_type": "error",
          "ename": "NameError",
          "evalue": "name 'torch' is not defined",
          "traceback": [
            "\u001b[0;31m---------------------------------------------------------------------------\u001b[0m",
            "\u001b[0;31mNameError\u001b[0m                                 Traceback (most recent call last)",
            "\u001b[0;32m<ipython-input-1-38805f11c700>\u001b[0m in \u001b[0;36m<cell line: 9>\u001b[0;34m()\u001b[0m\n\u001b[1;32m      7\u001b[0m \u001b[0mbeta\u001b[0m \u001b[0;34m=\u001b[0m \u001b[0;36m4.0\u001b[0m\u001b[0;34m\u001b[0m\u001b[0;34m\u001b[0m\u001b[0m\n\u001b[1;32m      8\u001b[0m \u001b[0;34m\u001b[0m\u001b[0m\n\u001b[0;32m----> 9\u001b[0;31m \u001b[0moptimizer\u001b[0m \u001b[0;34m=\u001b[0m \u001b[0mtorch\u001b[0m\u001b[0;34m.\u001b[0m\u001b[0moptim\u001b[0m\u001b[0;34m.\u001b[0m\u001b[0mAdam\u001b[0m\u001b[0;34m(\u001b[0m\u001b[0mmodel\u001b[0m\u001b[0;34m.\u001b[0m\u001b[0mparameters\u001b[0m\u001b[0;34m(\u001b[0m\u001b[0;34m)\u001b[0m\u001b[0;34m,\u001b[0m \u001b[0mlr\u001b[0m\u001b[0;34m=\u001b[0m\u001b[0;36m1e-3\u001b[0m\u001b[0;34m)\u001b[0m\u001b[0;34m\u001b[0m\u001b[0;34m\u001b[0m\u001b[0m\n\u001b[0m\u001b[1;32m     10\u001b[0m \u001b[0;34m\u001b[0m\u001b[0m\n\u001b[1;32m     11\u001b[0m \u001b[0;32mdef\u001b[0m \u001b[0mtrain_beta\u001b[0m\u001b[0;34m(\u001b[0m\u001b[0mepoch\u001b[0m\u001b[0;34m,\u001b[0m \u001b[0mmodel\u001b[0m\u001b[0;34m,\u001b[0m \u001b[0mtrain_loader\u001b[0m\u001b[0;34m,\u001b[0m \u001b[0moptimizer\u001b[0m\u001b[0;34m,\u001b[0m \u001b[0mbeta\u001b[0m\u001b[0;34m)\u001b[0m\u001b[0;34m:\u001b[0m\u001b[0;34m\u001b[0m\u001b[0;34m\u001b[0m\u001b[0m\n",
            "\u001b[0;31mNameError\u001b[0m: name 'torch' is not defined"
          ]
        }
      ],
      "source": [
        "def loss_function_beta(x, x_hat, mean, log_var, beta):\n",
        "    reproduction_loss = nn.functional.binary_cross_entropy(x_hat, x, reduction='sum')\n",
        "    KLD = - 0.5 * torch.sum(1 + log_var - mean.pow(2) - log_var.exp())\n",
        "    KLD *= beta\n",
        "    return reproduction_loss, KLD\n",
        "\n",
        "beta = 4.0\n",
        "\n",
        "optimizer = torch.optim.Adam(model.parameters(), lr=1e-3)\n",
        "\n",
        "def train_beta(epoch, model, train_loader, optimizer, beta):\n",
        "    model.train()\n",
        "    train_loss = 0\n",
        "    for batch_idx, (x, _) in enumerate(train_loader):\n",
        "        x = x.view(batch_size, x_dim)\n",
        "        x = x.to(device)\n",
        "\n",
        "        optimizer.zero_grad()\n",
        "        x_hat, mean, log_var = model(x)\n",
        "        BCE, KLD = loss_function_beta(x, x_hat, mean, log_var, beta)\n",
        "        loss = BCE + KLD\n",
        "\n",
        "        train_loss += loss.item()\n",
        "        loss.backward()\n",
        "        optimizer.step()\n",
        "\n",
        "        if batch_idx % 100 == 0:\n",
        "              print('Train Epoch: {} [{}/{} ({:.0f}%)]\\t Loss: {:.6f}'.format(\n",
        "                epoch, batch_idx * len(x), len(train_loader.dataset),\n",
        "                100. * batch_idx / len(train_loader),\n",
        "                loss.item() / len(x)))\n",
        "\n",
        "    print(\"======> Epoch: {} Average loss: {:.4f}\".format(\n",
        "        epoch, train_loss / len(train_loader.dataset)))\n",
        "\n",
        "for epoch in tqdm(range(0, epochs)):\n",
        "    train_beta(epoch, model, train_loader, optimizer, beta)\n",
        "    test(epoch, model, test_loader)\n",
        "    print(\"\\n\")\n"
      ]
    },
    {
      "cell_type": "code",
      "source": [],
      "metadata": {
        "id": "fWRG0fqCaQo6"
      },
      "id": "fWRG0fqCaQo6",
      "execution_count": null,
      "outputs": []
    }
  ],
  "metadata": {
    "kernelspec": {
      "display_name": "Python 3 (ipykernel)",
      "language": "python",
      "name": "python3"
    },
    "language_info": {
      "codemirror_mode": {
        "name": "ipython",
        "version": 3
      },
      "file_extension": ".py",
      "mimetype": "text/x-python",
      "name": "python",
      "nbconvert_exporter": "python",
      "pygments_lexer": "ipython3",
      "version": "3.11.5"
    },
    "colab": {
      "provenance": []
    },
    "widgets": {
      "application/vnd.jupyter.widget-state+json": {
        "c1441ee4fc6c4b62bd6fcc82def3eb92": {
          "model_module": "@jupyter-widgets/controls",
          "model_name": "HBoxModel",
          "model_module_version": "1.5.0",
          "state": {
            "_dom_classes": [],
            "_model_module": "@jupyter-widgets/controls",
            "_model_module_version": "1.5.0",
            "_model_name": "HBoxModel",
            "_view_count": null,
            "_view_module": "@jupyter-widgets/controls",
            "_view_module_version": "1.5.0",
            "_view_name": "HBoxView",
            "box_style": "",
            "children": [
              "IPY_MODEL_3915d57f3ea04be6af1614b91ca6d6cd",
              "IPY_MODEL_bcc7ca91a8a942b6bd49fdb56fa361a1",
              "IPY_MODEL_844e2104fba1423fbfb589f2c9c47741"
            ],
            "layout": "IPY_MODEL_e7c3d80fce194db89c48a39130153099"
          }
        },
        "3915d57f3ea04be6af1614b91ca6d6cd": {
          "model_module": "@jupyter-widgets/controls",
          "model_name": "HTMLModel",
          "model_module_version": "1.5.0",
          "state": {
            "_dom_classes": [],
            "_model_module": "@jupyter-widgets/controls",
            "_model_module_version": "1.5.0",
            "_model_name": "HTMLModel",
            "_view_count": null,
            "_view_module": "@jupyter-widgets/controls",
            "_view_module_version": "1.5.0",
            "_view_name": "HTMLView",
            "description": "",
            "description_tooltip": null,
            "layout": "IPY_MODEL_ea7a8a2d7a144e19bb33715ce1e2aa3b",
            "placeholder": "​",
            "style": "IPY_MODEL_3817ff99793041f49f4c38ef3f2bb880",
            "value": "100%"
          }
        },
        "bcc7ca91a8a942b6bd49fdb56fa361a1": {
          "model_module": "@jupyter-widgets/controls",
          "model_name": "FloatProgressModel",
          "model_module_version": "1.5.0",
          "state": {
            "_dom_classes": [],
            "_model_module": "@jupyter-widgets/controls",
            "_model_module_version": "1.5.0",
            "_model_name": "FloatProgressModel",
            "_view_count": null,
            "_view_module": "@jupyter-widgets/controls",
            "_view_module_version": "1.5.0",
            "_view_name": "ProgressView",
            "bar_style": "success",
            "description": "",
            "description_tooltip": null,
            "layout": "IPY_MODEL_c408b423d58b4334a7904cf9e33117c6",
            "max": 30,
            "min": 0,
            "orientation": "horizontal",
            "style": "IPY_MODEL_e0a8b26d137c4db2b3194ac501c0cb92",
            "value": 30
          }
        },
        "844e2104fba1423fbfb589f2c9c47741": {
          "model_module": "@jupyter-widgets/controls",
          "model_name": "HTMLModel",
          "model_module_version": "1.5.0",
          "state": {
            "_dom_classes": [],
            "_model_module": "@jupyter-widgets/controls",
            "_model_module_version": "1.5.0",
            "_model_name": "HTMLModel",
            "_view_count": null,
            "_view_module": "@jupyter-widgets/controls",
            "_view_module_version": "1.5.0",
            "_view_name": "HTMLView",
            "description": "",
            "description_tooltip": null,
            "layout": "IPY_MODEL_9b08877c00ff4fc3af52fce2f519ab8c",
            "placeholder": "​",
            "style": "IPY_MODEL_fca25b015d6242fa93b0072b1f57ce5b",
            "value": " 30/30 [11:16&lt;00:00, 22.30s/it]"
          }
        },
        "e7c3d80fce194db89c48a39130153099": {
          "model_module": "@jupyter-widgets/base",
          "model_name": "LayoutModel",
          "model_module_version": "1.2.0",
          "state": {
            "_model_module": "@jupyter-widgets/base",
            "_model_module_version": "1.2.0",
            "_model_name": "LayoutModel",
            "_view_count": null,
            "_view_module": "@jupyter-widgets/base",
            "_view_module_version": "1.2.0",
            "_view_name": "LayoutView",
            "align_content": null,
            "align_items": null,
            "align_self": null,
            "border": null,
            "bottom": null,
            "display": null,
            "flex": null,
            "flex_flow": null,
            "grid_area": null,
            "grid_auto_columns": null,
            "grid_auto_flow": null,
            "grid_auto_rows": null,
            "grid_column": null,
            "grid_gap": null,
            "grid_row": null,
            "grid_template_areas": null,
            "grid_template_columns": null,
            "grid_template_rows": null,
            "height": null,
            "justify_content": null,
            "justify_items": null,
            "left": null,
            "margin": null,
            "max_height": null,
            "max_width": null,
            "min_height": null,
            "min_width": null,
            "object_fit": null,
            "object_position": null,
            "order": null,
            "overflow": null,
            "overflow_x": null,
            "overflow_y": null,
            "padding": null,
            "right": null,
            "top": null,
            "visibility": null,
            "width": null
          }
        },
        "ea7a8a2d7a144e19bb33715ce1e2aa3b": {
          "model_module": "@jupyter-widgets/base",
          "model_name": "LayoutModel",
          "model_module_version": "1.2.0",
          "state": {
            "_model_module": "@jupyter-widgets/base",
            "_model_module_version": "1.2.0",
            "_model_name": "LayoutModel",
            "_view_count": null,
            "_view_module": "@jupyter-widgets/base",
            "_view_module_version": "1.2.0",
            "_view_name": "LayoutView",
            "align_content": null,
            "align_items": null,
            "align_self": null,
            "border": null,
            "bottom": null,
            "display": null,
            "flex": null,
            "flex_flow": null,
            "grid_area": null,
            "grid_auto_columns": null,
            "grid_auto_flow": null,
            "grid_auto_rows": null,
            "grid_column": null,
            "grid_gap": null,
            "grid_row": null,
            "grid_template_areas": null,
            "grid_template_columns": null,
            "grid_template_rows": null,
            "height": null,
            "justify_content": null,
            "justify_items": null,
            "left": null,
            "margin": null,
            "max_height": null,
            "max_width": null,
            "min_height": null,
            "min_width": null,
            "object_fit": null,
            "object_position": null,
            "order": null,
            "overflow": null,
            "overflow_x": null,
            "overflow_y": null,
            "padding": null,
            "right": null,
            "top": null,
            "visibility": null,
            "width": null
          }
        },
        "3817ff99793041f49f4c38ef3f2bb880": {
          "model_module": "@jupyter-widgets/controls",
          "model_name": "DescriptionStyleModel",
          "model_module_version": "1.5.0",
          "state": {
            "_model_module": "@jupyter-widgets/controls",
            "_model_module_version": "1.5.0",
            "_model_name": "DescriptionStyleModel",
            "_view_count": null,
            "_view_module": "@jupyter-widgets/base",
            "_view_module_version": "1.2.0",
            "_view_name": "StyleView",
            "description_width": ""
          }
        },
        "c408b423d58b4334a7904cf9e33117c6": {
          "model_module": "@jupyter-widgets/base",
          "model_name": "LayoutModel",
          "model_module_version": "1.2.0",
          "state": {
            "_model_module": "@jupyter-widgets/base",
            "_model_module_version": "1.2.0",
            "_model_name": "LayoutModel",
            "_view_count": null,
            "_view_module": "@jupyter-widgets/base",
            "_view_module_version": "1.2.0",
            "_view_name": "LayoutView",
            "align_content": null,
            "align_items": null,
            "align_self": null,
            "border": null,
            "bottom": null,
            "display": null,
            "flex": null,
            "flex_flow": null,
            "grid_area": null,
            "grid_auto_columns": null,
            "grid_auto_flow": null,
            "grid_auto_rows": null,
            "grid_column": null,
            "grid_gap": null,
            "grid_row": null,
            "grid_template_areas": null,
            "grid_template_columns": null,
            "grid_template_rows": null,
            "height": null,
            "justify_content": null,
            "justify_items": null,
            "left": null,
            "margin": null,
            "max_height": null,
            "max_width": null,
            "min_height": null,
            "min_width": null,
            "object_fit": null,
            "object_position": null,
            "order": null,
            "overflow": null,
            "overflow_x": null,
            "overflow_y": null,
            "padding": null,
            "right": null,
            "top": null,
            "visibility": null,
            "width": null
          }
        },
        "e0a8b26d137c4db2b3194ac501c0cb92": {
          "model_module": "@jupyter-widgets/controls",
          "model_name": "ProgressStyleModel",
          "model_module_version": "1.5.0",
          "state": {
            "_model_module": "@jupyter-widgets/controls",
            "_model_module_version": "1.5.0",
            "_model_name": "ProgressStyleModel",
            "_view_count": null,
            "_view_module": "@jupyter-widgets/base",
            "_view_module_version": "1.2.0",
            "_view_name": "StyleView",
            "bar_color": null,
            "description_width": ""
          }
        },
        "9b08877c00ff4fc3af52fce2f519ab8c": {
          "model_module": "@jupyter-widgets/base",
          "model_name": "LayoutModel",
          "model_module_version": "1.2.0",
          "state": {
            "_model_module": "@jupyter-widgets/base",
            "_model_module_version": "1.2.0",
            "_model_name": "LayoutModel",
            "_view_count": null,
            "_view_module": "@jupyter-widgets/base",
            "_view_module_version": "1.2.0",
            "_view_name": "LayoutView",
            "align_content": null,
            "align_items": null,
            "align_self": null,
            "border": null,
            "bottom": null,
            "display": null,
            "flex": null,
            "flex_flow": null,
            "grid_area": null,
            "grid_auto_columns": null,
            "grid_auto_flow": null,
            "grid_auto_rows": null,
            "grid_column": null,
            "grid_gap": null,
            "grid_row": null,
            "grid_template_areas": null,
            "grid_template_columns": null,
            "grid_template_rows": null,
            "height": null,
            "justify_content": null,
            "justify_items": null,
            "left": null,
            "margin": null,
            "max_height": null,
            "max_width": null,
            "min_height": null,
            "min_width": null,
            "object_fit": null,
            "object_position": null,
            "order": null,
            "overflow": null,
            "overflow_x": null,
            "overflow_y": null,
            "padding": null,
            "right": null,
            "top": null,
            "visibility": null,
            "width": null
          }
        },
        "fca25b015d6242fa93b0072b1f57ce5b": {
          "model_module": "@jupyter-widgets/controls",
          "model_name": "DescriptionStyleModel",
          "model_module_version": "1.5.0",
          "state": {
            "_model_module": "@jupyter-widgets/controls",
            "_model_module_version": "1.5.0",
            "_model_name": "DescriptionStyleModel",
            "_view_count": null,
            "_view_module": "@jupyter-widgets/base",
            "_view_module_version": "1.2.0",
            "_view_name": "StyleView",
            "description_width": ""
          }
        }
      }
    }
  },
  "nbformat": 4,
  "nbformat_minor": 5
}