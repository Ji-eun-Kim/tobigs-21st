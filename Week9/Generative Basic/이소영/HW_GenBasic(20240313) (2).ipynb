{
  "cells": [
    {
      "cell_type": "markdown",
      "id": "6c991686-b1df-4d45-8f6b-e71dfc918fcb",
      "metadata": {
        "id": "6c991686-b1df-4d45-8f6b-e71dfc918fcb"
      },
      "source": [
        "# Generative Basic Assignment (2024/03/13)\n",
        "#### Questions(1,2) are below\n",
        "#### Contact -> toa2413@naver.com / 송인혁(투빅스20기)"
      ]
    },
    {
      "cell_type": "code",
      "execution_count": 1,
      "id": "14fd7ae3-4bd1-4d39-a971-596bb5888da4",
      "metadata": {
        "id": "14fd7ae3-4bd1-4d39-a971-596bb5888da4"
      },
      "outputs": [],
      "source": [
        "import datetime\n",
        "import os\n",
        "\n",
        "import torch\n",
        "import torchvision\n",
        "import torch.nn as nn\n",
        "import torch.optim as optim\n",
        "from torch.utils.data import Dataset, DataLoader\n",
        "import matplotlib.pylab as plt\n",
        "\n",
        "import torchvision.datasets as datasets\n",
        "import torchvision.transforms as transforms\n",
        "\n",
        "import numpy as np\n",
        "\n",
        "device = torch.device(\"cuda\" if torch.cuda.is_available() else \"cpu\")"
      ]
    },
    {
      "cell_type": "code",
      "execution_count": 2,
      "id": "af2defe5-ecc7-4539-939a-e432598481d8",
      "metadata": {
        "colab": {
          "base_uri": "https://localhost:8080/"
        },
        "id": "af2defe5-ecc7-4539-939a-e432598481d8",
        "outputId": "ba405d9b-ccae-41a3-9637-7d7375813b6b"
      },
      "outputs": [
        {
          "output_type": "stream",
          "name": "stdout",
          "text": [
            "Downloading http://yann.lecun.com/exdb/mnist/train-images-idx3-ubyte.gz\n",
            "Downloading http://yann.lecun.com/exdb/mnist/train-images-idx3-ubyte.gz to ../data/MNIST/raw/train-images-idx3-ubyte.gz\n"
          ]
        },
        {
          "output_type": "stream",
          "name": "stderr",
          "text": [
            "100%|██████████| 9912422/9912422 [00:00<00:00, 138161089.07it/s]\n"
          ]
        },
        {
          "output_type": "stream",
          "name": "stdout",
          "text": [
            "Extracting ../data/MNIST/raw/train-images-idx3-ubyte.gz to ../data/MNIST/raw\n",
            "\n",
            "Downloading http://yann.lecun.com/exdb/mnist/train-labels-idx1-ubyte.gz\n",
            "Downloading http://yann.lecun.com/exdb/mnist/train-labels-idx1-ubyte.gz to ../data/MNIST/raw/train-labels-idx1-ubyte.gz\n"
          ]
        },
        {
          "output_type": "stream",
          "name": "stderr",
          "text": [
            "100%|██████████| 28881/28881 [00:00<00:00, 38565964.29it/s]\n"
          ]
        },
        {
          "output_type": "stream",
          "name": "stdout",
          "text": [
            "Extracting ../data/MNIST/raw/train-labels-idx1-ubyte.gz to ../data/MNIST/raw\n",
            "\n",
            "Downloading http://yann.lecun.com/exdb/mnist/t10k-images-idx3-ubyte.gz\n",
            "Downloading http://yann.lecun.com/exdb/mnist/t10k-images-idx3-ubyte.gz to ../data/MNIST/raw/t10k-images-idx3-ubyte.gz\n"
          ]
        },
        {
          "output_type": "stream",
          "name": "stderr",
          "text": [
            "100%|██████████| 1648877/1648877 [00:00<00:00, 40385003.10it/s]\n"
          ]
        },
        {
          "output_type": "stream",
          "name": "stdout",
          "text": [
            "Extracting ../data/MNIST/raw/t10k-images-idx3-ubyte.gz to ../data/MNIST/raw\n",
            "\n",
            "Downloading http://yann.lecun.com/exdb/mnist/t10k-labels-idx1-ubyte.gz\n",
            "Downloading http://yann.lecun.com/exdb/mnist/t10k-labels-idx1-ubyte.gz to ../data/MNIST/raw/t10k-labels-idx1-ubyte.gz\n"
          ]
        },
        {
          "output_type": "stream",
          "name": "stderr",
          "text": [
            "100%|██████████| 4542/4542 [00:00<00:00, 14509161.29it/s]\n"
          ]
        },
        {
          "output_type": "stream",
          "name": "stdout",
          "text": [
            "Extracting ../data/MNIST/raw/t10k-labels-idx1-ubyte.gz to ../data/MNIST/raw\n",
            "\n"
          ]
        },
        {
          "output_type": "stream",
          "name": "stderr",
          "text": [
            "/usr/local/lib/python3.10/dist-packages/torch/utils/data/dataloader.py:558: UserWarning: This DataLoader will create 4 worker processes in total. Our suggested max number of worker in current system is 2, which is smaller than what this DataLoader is going to create. Please be aware that excessive worker creation might get DataLoader running slow or even freeze, lower the worker number to avoid potential slowness/freeze if necessary.\n",
            "  warnings.warn(_create_warning_msg(\n"
          ]
        }
      ],
      "source": [
        "transform = transforms.Compose([transforms.ToTensor()])\n",
        "\n",
        "train_dataset = datasets.MNIST(\n",
        "    root=\"../data\", train=True, transform=transform, download=True)\n",
        "\n",
        "test_dataset = datasets.MNIST(\n",
        "    root=\"../data\", train=False, transform=transform, download=True)\n",
        "\n",
        "train_loader = DataLoader(\n",
        "    train_dataset, batch_size=100, shuffle=True, num_workers=4, pin_memory=False)\n",
        "\n",
        "test_loader = DataLoader(\n",
        "    test_dataset, batch_size=100, shuffle=False, num_workers=4)"
      ]
    },
    {
      "cell_type": "markdown",
      "id": "4204de8f-0019-4599-9a91-c1582d71db4d",
      "metadata": {
        "id": "4204de8f-0019-4599-9a91-c1582d71db4d"
      },
      "source": [
        "### Q1. Encoder/Decoder Implementation\n",
        "    Show me your visualizations(MNIST images) using a VAE model made up of your own 'Encoder2/Decoder2'\n",
        "    I can see your visualizations at the last part of this code file (Assignment 1 ; Visualization)\n",
        "    \n",
        "***You can refer to the examples right under this markdown, please make your own Encoder (Class name; Encoder2/Decoder2)***"
      ]
    },
    {
      "cell_type": "code",
      "execution_count": 3,
      "id": "c1391ab2-4371-45f6-9698-f5ccac05f470",
      "metadata": {
        "id": "c1391ab2-4371-45f6-9698-f5ccac05f470"
      },
      "outputs": [],
      "source": [
        "# You can freely choose one of architectures you want that looks promising\n",
        "class Encoder(nn.Module):\n",
        "    def __init__(self, input_dim, hidden_dim, hidden_dim2, latent_dim):\n",
        "        super(Encoder, self).__init__()\n",
        "        self.input1 = nn.Linear(input_dim, hidden_dim)\n",
        "        self.input2 = nn.Linear(hidden_dim, hidden_dim2)\n",
        "        self.mean = nn.Linear(hidden_dim2, latent_dim)\n",
        "        self.var = nn.Linear (hidden_dim2, latent_dim)\n",
        "\n",
        "        self.LeakyReLU = nn.LeakyReLU(0.2)\n",
        "        self.training = True\n",
        "\n",
        "    def forward(self, x):\n",
        "        h_ = self.LeakyReLU(self.input1(x))\n",
        "        h_ = self.LeakyReLU(self.input2(h_))\n",
        "        mean = self.mean(h_)\n",
        "        log_var = self.var(h_)\n",
        "        return mean, log_var"
      ]
    },
    {
      "cell_type": "code",
      "execution_count": 4,
      "id": "dd98c352-ebff-4bb0-a107-369ca560657a",
      "metadata": {
        "id": "dd98c352-ebff-4bb0-a107-369ca560657a"
      },
      "outputs": [],
      "source": [
        "class Encoder2(nn.Module):\n",
        "    def __init__(self, input_dim, hidden_dim, hidden_dim2, latent_dim):\n",
        "        super(Encoder2, self).__init__()\n",
        "        self.input1 = nn.Linear(input_dim, hidden_dim)\n",
        "        self.input2 = nn.Linear(hidden_dim, hidden_dim2)\n",
        "        self.mean = nn.Linear(hidden_dim2, latent_dim)\n",
        "        self.var = nn.Linear(hidden_dim2, latent_dim)\n",
        "        self.LeakyReLU = nn.LeakyReLU(0.2)\n",
        "\n",
        "    def forward(self, x):\n",
        "        h_ = self.LeakyReLU(self.input1(x))\n",
        "        h_ = self.LeakyReLU(self.input2(h_))\n",
        "        mean = self.mean(h_)\n",
        "        log_var = self.var(h_)\n",
        "        return mean, log_var"
      ]
    },
    {
      "cell_type": "code",
      "execution_count": 5,
      "id": "c629498b-7c6b-4108-bcaf-263ce44b45fb",
      "metadata": {
        "id": "c629498b-7c6b-4108-bcaf-263ce44b45fb"
      },
      "outputs": [],
      "source": [
        "class Decoder(nn.Module):\n",
        "    def __init__(self, latent_dim, hidden_dim, hidden_dim2, output_dim):\n",
        "        super(Decoder, self).__init__()\n",
        "        self.hidden1 = nn.Linear(latent_dim, hidden_dim2)\n",
        "        self.hidden2 = nn.Linear(hidden_dim2, hidden_dim)\n",
        "        self.output = nn.Linear(hidden_dim, output_dim)\n",
        "        self.LeakyReLU = nn.LeakyReLU(0.2)\n",
        "\n",
        "    def forward(self, x):\n",
        "        h = self.LeakyReLU(self.hidden1(x))\n",
        "        h = self.LeakyReLU(self.hidden2(h))\n",
        "        x_hat = torch.sigmoid(self.output(h))\n",
        "        return x_hat"
      ]
    },
    {
      "cell_type": "code",
      "execution_count": 6,
      "id": "a947ccbf-e8be-4b60-93e6-efa6d64a8231",
      "metadata": {
        "id": "a947ccbf-e8be-4b60-93e6-efa6d64a8231"
      },
      "outputs": [],
      "source": [
        "class Decoder2(nn.Module):\n",
        "    def __init__(self, latent_dim, hidden_dim2, hidden_dim, output_dim):\n",
        "        super(Decoder2, self).__init__()\n",
        "        self.hidden1 = nn.Linear(latent_dim, hidden_dim2)\n",
        "        self.hidden2 = nn.Linear(hidden_dim2, hidden_dim)\n",
        "        self.output_layer = nn.Linear(hidden_dim, output_dim)\n",
        "        self.LeakyReLU = nn.LeakyReLU(0.2)\n",
        "\n",
        "    def forward(self, z):\n",
        "        h = self.LeakyReLU(self.hidden1(z))\n",
        "        h = self.LeakyReLU(self.hidden2(h))\n",
        "        x_recon = torch.sigmoid(self.output_layer(h))\n",
        "        return x_recon"
      ]
    },
    {
      "cell_type": "code",
      "execution_count": 7,
      "id": "3696228c-9624-4abe-a48e-3ad00bededc8",
      "metadata": {
        "id": "3696228c-9624-4abe-a48e-3ad00bededc8"
      },
      "outputs": [],
      "source": [
        "class Model(nn.Module):\n",
        "    def __init__(self, Encoder, Decoder):\n",
        "        super(Model, self).__init__()\n",
        "        self.Encoder = Encoder\n",
        "        self.Decoder = Decoder\n",
        "\n",
        "    # Think about why you need reparameterization trick (Hint; backpropagation)\n",
        "    def reparameterization(self, mean, var):\n",
        "        epsilon = torch.randn_like(var).to(device)\n",
        "        z = mean + var*epsilon\n",
        "        return z\n",
        "\n",
        "    def forward(self, x):\n",
        "        mean, log_var = self.Encoder(x)\n",
        "        z = self.reparameterization(mean, torch.exp(0.5 * log_var))\n",
        "        x_hat = self.Decoder(z)\n",
        "        return x_hat, mean, log_var"
      ]
    },
    {
      "cell_type": "code",
      "execution_count": 9,
      "id": "e5641e6d-f5c6-441d-86f8-22bf575a9eaa",
      "metadata": {
        "id": "e5641e6d-f5c6-441d-86f8-22bf575a9eaa"
      },
      "outputs": [],
      "source": [
        "# Any modifications are allowed depending on your own Encoder2/Decoder2\n",
        "# -----------------------------------\n",
        "x_dim  = 784\n",
        "hidden_dim = 400\n",
        "hidden_dim2 = 200\n",
        "latent_dim = 20\n",
        "epochs = 30\n",
        "batch_size = 100\n",
        "# -----------------------------------\n",
        "\n",
        "\n",
        "\n",
        "# encoder = Encoder(input_dim=x_dim, hidden_dim=hidden_dim, hidden_dim2=hidden_dim2, latent_dim=latent_dim)\n",
        "encoder = Encoder2(input_dim=x_dim, hidden_dim=hidden_dim, hidden_dim2=hidden_dim2, latent_dim=latent_dim)\n",
        "\n",
        "# decoder = Decoder(latent_dim=latent_dim, hidden_dim = hidden_dim, hidden_dim2=hidden_dim2, output_dim = x_dim)\n",
        "decoder = Decoder2(latent_dim=latent_dim, hidden_dim=hidden_dim, hidden_dim2=hidden_dim2, output_dim=x_dim)\n",
        "\n",
        "\n",
        "model = Model(Encoder=encoder, Decoder=decoder).to(device)"
      ]
    },
    {
      "cell_type": "markdown",
      "id": "1a1dda96-70cb-4f76-9ce6-fd97f3163e43",
      "metadata": {
        "id": "1a1dda96-70cb-4f76-9ce6-fd97f3163e43"
      },
      "source": [
        "### Q2. (Optional Assignment)\n",
        "    Refering to Beta-VAE(https://openreview.net/forum?id=Sy2fzU9gl), give any kind of manipulations on pre-made loss function, and visualize your samples.\n",
        "    It would be nice to see whether the fidelity of sample data is improved or not! Also guess why.\n",
        "***Warning)  you don't have to take all the contents of this paper! Look carefully at the Equation (4)***"
      ]
    },
    {
      "cell_type": "code",
      "execution_count": null,
      "id": "57224c98-da41-48f1-a1fc-52d922492ab7",
      "metadata": {
        "id": "57224c98-da41-48f1-a1fc-52d922492ab7"
      },
      "outputs": [],
      "source": [
        "# (Optional Assignment)\n",
        "def loss_function(x, x_hat, mean, log_var):\n",
        "    reproduction_loss = nn.functional.binary_cross_entropy(x_hat, x, reduction='sum')\n",
        "    # Think about how to calculate KLDivergence in closed form (Hint; assumptions for Gaussian), please refer to the following links\n",
        "    # https://stats.stackexchange.com/questions/7440/kl-divergence-between-two-univariate-gaussians\n",
        "    KLD = - 0.5 * torch.sum(1+ log_var - mean.pow(2) - log_var.exp())\n",
        "    return reproduction_loss, KLD\n",
        "\n",
        "optimizer = torch.optim.Adam(model.parameters(), lr=1e-3)"
      ]
    },
    {
      "cell_type": "code",
      "execution_count": null,
      "id": "7e517f22-c296-44ba-882a-78788900064e",
      "metadata": {
        "id": "7e517f22-c296-44ba-882a-78788900064e"
      },
      "outputs": [],
      "source": [
        "def train(epoch, model, train_loader, optimizer):\n",
        "    model.train()\n",
        "    train_loss = 0\n",
        "    for batch_idx, (x, _) in enumerate(train_loader):\n",
        "        x = x.view(batch_size, x_dim)\n",
        "        x = x.to(device)\n",
        "\n",
        "        optimizer.zero_grad()\n",
        "        x_hat, mean, log_var = model(x)\n",
        "        BCE, KLD = loss_function(x, x_hat, mean, log_var)\n",
        "        loss = BCE + KLD\n",
        "\n",
        "        train_loss += loss.item()\n",
        "        loss.backward()\n",
        "        optimizer.step()\n",
        "\n",
        "        if batch_idx % 100 == 0:\n",
        "            print('Train Epoch: {} [{}/{} ({:.0f}%)]\\t Loss: {:.6f}'.format(\n",
        "                epoch, batch_idx * len(x), len(train_loader.dataset),\n",
        "                100. * batch_idx / len(train_loader),\n",
        "                loss.item() / len(x)))\n",
        "\n",
        "    print(\"======> Epoch: {} Average loss: {:.4f}\".format(\n",
        "        epoch, train_loss / len(train_loader.dataset)))"
      ]
    },
    {
      "cell_type": "code",
      "execution_count": null,
      "id": "03734a8e-7df4-4f82-bcf7-f1b83e888f3a",
      "metadata": {
        "id": "03734a8e-7df4-4f82-bcf7-f1b83e888f3a"
      },
      "outputs": [],
      "source": [
        "def test(epoch, model, test_loader):\n",
        "    model.eval()\n",
        "    test_loss = 0\n",
        "    with torch.no_grad():\n",
        "        for batch_idx, (x, _) in enumerate(test_loader):\n",
        "            x = x.view(batch_size, x_dim)\n",
        "            x = x.to(device)\n",
        "            x_hat, mean, log_var = model(x)\n",
        "            BCE, KLD = loss_function(x, x_hat, mean, log_var)\n",
        "            loss = BCE + KLD\n",
        "\n",
        "            test_loss += loss.item()\n",
        "\n",
        "            if batch_idx == 0:\n",
        "                n = min(x.size(0), 8)\n",
        "                comparison = torch.cat([x[:n], x_hat.view(batch_size, x_dim)[:n]])\n",
        "                grid = torchvision.utils.make_grid(comparison.cpu())"
      ]
    },
    {
      "cell_type": "code",
      "execution_count": null,
      "id": "d8aba750-5e8d-47aa-9dcc-369c302c9d9a",
      "metadata": {
        "colab": {
          "referenced_widgets": [
            "1af2288635a949d2a8d73af73418919c"
          ]
        },
        "id": "d8aba750-5e8d-47aa-9dcc-369c302c9d9a",
        "outputId": "b176bd81-4e58-48a6-efc1-41ab07deb792"
      },
      "outputs": [
        {
          "data": {
            "application/vnd.jupyter.widget-view+json": {
              "model_id": "1af2288635a949d2a8d73af73418919c",
              "version_major": 2,
              "version_minor": 0
            },
            "text/plain": [
              "  0%|          | 0/30 [00:00<?, ?it/s]"
            ]
          },
          "metadata": {},
          "output_type": "display_data"
        },
        {
          "name": "stdout",
          "output_type": "stream",
          "text": [
            "Train Epoch: 0 [0/60000 (0%)]\t Loss: 543.296133\n",
            "Train Epoch: 0 [10000/60000 (17%)]\t Loss: 193.658320\n",
            "Train Epoch: 0 [20000/60000 (33%)]\t Loss: 155.153721\n",
            "Train Epoch: 0 [30000/60000 (50%)]\t Loss: 154.759990\n",
            "Train Epoch: 0 [40000/60000 (67%)]\t Loss: 134.413740\n",
            "Train Epoch: 0 [50000/60000 (83%)]\t Loss: 131.900049\n",
            "======> Epoch: 0 Average loss: 162.6388\n",
            "\n",
            "\n",
            "Train Epoch: 1 [0/60000 (0%)]\t Loss: 124.876689\n",
            "Train Epoch: 1 [10000/60000 (17%)]\t Loss: 124.254482\n",
            "Train Epoch: 1 [20000/60000 (33%)]\t Loss: 127.952910\n",
            "Train Epoch: 1 [30000/60000 (50%)]\t Loss: 126.136631\n",
            "Train Epoch: 1 [40000/60000 (67%)]\t Loss: 119.269746\n",
            "Train Epoch: 1 [50000/60000 (83%)]\t Loss: 117.644727\n",
            "======> Epoch: 1 Average loss: 121.1214\n",
            "\n",
            "\n",
            "Train Epoch: 2 [0/60000 (0%)]\t Loss: 116.733047\n",
            "Train Epoch: 2 [10000/60000 (17%)]\t Loss: 119.624834\n",
            "Train Epoch: 2 [20000/60000 (33%)]\t Loss: 117.608955\n",
            "Train Epoch: 2 [30000/60000 (50%)]\t Loss: 114.939746\n",
            "Train Epoch: 2 [40000/60000 (67%)]\t Loss: 113.184375\n",
            "Train Epoch: 2 [50000/60000 (83%)]\t Loss: 114.720254\n",
            "======> Epoch: 2 Average loss: 113.8846\n",
            "\n",
            "\n",
            "Train Epoch: 3 [0/60000 (0%)]\t Loss: 114.246182\n",
            "Train Epoch: 3 [10000/60000 (17%)]\t Loss: 105.945410\n",
            "Train Epoch: 3 [20000/60000 (33%)]\t Loss: 107.689844\n",
            "Train Epoch: 3 [30000/60000 (50%)]\t Loss: 112.594199\n",
            "Train Epoch: 3 [40000/60000 (67%)]\t Loss: 113.434844\n",
            "Train Epoch: 3 [50000/60000 (83%)]\t Loss: 116.823721\n",
            "======> Epoch: 3 Average loss: 110.6094\n",
            "\n",
            "\n",
            "Train Epoch: 4 [0/60000 (0%)]\t Loss: 110.836338\n",
            "Train Epoch: 4 [10000/60000 (17%)]\t Loss: 112.819404\n",
            "Train Epoch: 4 [20000/60000 (33%)]\t Loss: 102.749502\n",
            "Train Epoch: 4 [30000/60000 (50%)]\t Loss: 104.888223\n",
            "Train Epoch: 4 [40000/60000 (67%)]\t Loss: 108.378770\n",
            "Train Epoch: 4 [50000/60000 (83%)]\t Loss: 108.769639\n",
            "======> Epoch: 4 Average loss: 108.6044\n",
            "\n",
            "\n",
            "Train Epoch: 5 [0/60000 (0%)]\t Loss: 107.701895\n",
            "Train Epoch: 5 [10000/60000 (17%)]\t Loss: 105.020781\n",
            "Train Epoch: 5 [20000/60000 (33%)]\t Loss: 104.545557\n",
            "Train Epoch: 5 [30000/60000 (50%)]\t Loss: 107.131211\n",
            "Train Epoch: 5 [40000/60000 (67%)]\t Loss: 110.801553\n",
            "Train Epoch: 5 [50000/60000 (83%)]\t Loss: 106.380879\n",
            "======> Epoch: 5 Average loss: 107.1553\n",
            "\n",
            "\n",
            "Train Epoch: 6 [0/60000 (0%)]\t Loss: 109.290137\n",
            "Train Epoch: 6 [10000/60000 (17%)]\t Loss: 106.472920\n",
            "Train Epoch: 6 [20000/60000 (33%)]\t Loss: 105.496494\n",
            "Train Epoch: 6 [30000/60000 (50%)]\t Loss: 108.426709\n",
            "Train Epoch: 6 [40000/60000 (67%)]\t Loss: 106.153604\n",
            "Train Epoch: 6 [50000/60000 (83%)]\t Loss: 100.742754\n",
            "======> Epoch: 6 Average loss: 106.0353\n",
            "\n",
            "\n",
            "Train Epoch: 7 [0/60000 (0%)]\t Loss: 104.119062\n",
            "Train Epoch: 7 [10000/60000 (17%)]\t Loss: 100.091250\n",
            "Train Epoch: 7 [20000/60000 (33%)]\t Loss: 103.952129\n",
            "Train Epoch: 7 [30000/60000 (50%)]\t Loss: 111.033652\n",
            "Train Epoch: 7 [40000/60000 (67%)]\t Loss: 103.586572\n",
            "Train Epoch: 7 [50000/60000 (83%)]\t Loss: 102.122949\n",
            "======> Epoch: 7 Average loss: 105.1172\n",
            "\n",
            "\n",
            "Train Epoch: 8 [0/60000 (0%)]\t Loss: 103.133955\n",
            "Train Epoch: 8 [10000/60000 (17%)]\t Loss: 106.019326\n",
            "Train Epoch: 8 [20000/60000 (33%)]\t Loss: 104.770977\n",
            "Train Epoch: 8 [30000/60000 (50%)]\t Loss: 105.374512\n",
            "Train Epoch: 8 [40000/60000 (67%)]\t Loss: 103.820547\n",
            "Train Epoch: 8 [50000/60000 (83%)]\t Loss: 104.988975\n",
            "======> Epoch: 8 Average loss: 104.5036\n",
            "\n",
            "\n",
            "Train Epoch: 9 [0/60000 (0%)]\t Loss: 104.491895\n",
            "Train Epoch: 9 [10000/60000 (17%)]\t Loss: 102.622861\n",
            "Train Epoch: 9 [20000/60000 (33%)]\t Loss: 98.583281\n",
            "Train Epoch: 9 [30000/60000 (50%)]\t Loss: 109.383770\n",
            "Train Epoch: 9 [40000/60000 (67%)]\t Loss: 104.107930\n",
            "Train Epoch: 9 [50000/60000 (83%)]\t Loss: 100.963730\n",
            "======> Epoch: 9 Average loss: 103.9192\n",
            "\n",
            "\n",
            "Train Epoch: 10 [0/60000 (0%)]\t Loss: 101.011553\n",
            "Train Epoch: 10 [10000/60000 (17%)]\t Loss: 102.137695\n",
            "Train Epoch: 10 [20000/60000 (33%)]\t Loss: 104.736016\n",
            "Train Epoch: 10 [30000/60000 (50%)]\t Loss: 113.674883\n",
            "Train Epoch: 10 [40000/60000 (67%)]\t Loss: 100.438115\n",
            "Train Epoch: 10 [50000/60000 (83%)]\t Loss: 108.649521\n",
            "======> Epoch: 10 Average loss: 103.4168\n",
            "\n",
            "\n",
            "Train Epoch: 11 [0/60000 (0%)]\t Loss: 101.609160\n",
            "Train Epoch: 11 [10000/60000 (17%)]\t Loss: 98.626719\n",
            "Train Epoch: 11 [20000/60000 (33%)]\t Loss: 100.367236\n",
            "Train Epoch: 11 [30000/60000 (50%)]\t Loss: 107.004502\n",
            "Train Epoch: 11 [40000/60000 (67%)]\t Loss: 101.810840\n",
            "Train Epoch: 11 [50000/60000 (83%)]\t Loss: 103.768486\n",
            "======> Epoch: 11 Average loss: 102.9540\n",
            "\n",
            "\n",
            "Train Epoch: 12 [0/60000 (0%)]\t Loss: 102.197705\n",
            "Train Epoch: 12 [10000/60000 (17%)]\t Loss: 103.167002\n",
            "Train Epoch: 12 [20000/60000 (33%)]\t Loss: 102.819092\n",
            "Train Epoch: 12 [30000/60000 (50%)]\t Loss: 104.175156\n",
            "Train Epoch: 12 [40000/60000 (67%)]\t Loss: 96.801748\n",
            "Train Epoch: 12 [50000/60000 (83%)]\t Loss: 104.977676\n",
            "======> Epoch: 12 Average loss: 102.6734\n",
            "\n",
            "\n",
            "Train Epoch: 13 [0/60000 (0%)]\t Loss: 103.739316\n",
            "Train Epoch: 13 [10000/60000 (17%)]\t Loss: 98.808857\n",
            "Train Epoch: 13 [20000/60000 (33%)]\t Loss: 98.211797\n",
            "Train Epoch: 13 [30000/60000 (50%)]\t Loss: 100.972695\n",
            "Train Epoch: 13 [40000/60000 (67%)]\t Loss: 98.733135\n",
            "Train Epoch: 13 [50000/60000 (83%)]\t Loss: 102.601689\n",
            "======> Epoch: 13 Average loss: 102.3259\n",
            "\n",
            "\n",
            "Train Epoch: 14 [0/60000 (0%)]\t Loss: 101.997158\n",
            "Train Epoch: 14 [10000/60000 (17%)]\t Loss: 105.272559\n",
            "Train Epoch: 14 [20000/60000 (33%)]\t Loss: 103.410449\n",
            "Train Epoch: 14 [30000/60000 (50%)]\t Loss: 102.017578\n",
            "Train Epoch: 14 [40000/60000 (67%)]\t Loss: 103.712295\n",
            "Train Epoch: 14 [50000/60000 (83%)]\t Loss: 104.022217\n",
            "======> Epoch: 14 Average loss: 102.0223\n",
            "\n",
            "\n",
            "Train Epoch: 15 [0/60000 (0%)]\t Loss: 102.108555\n",
            "Train Epoch: 15 [10000/60000 (17%)]\t Loss: 103.520898\n",
            "Train Epoch: 15 [20000/60000 (33%)]\t Loss: 103.408926\n",
            "Train Epoch: 15 [30000/60000 (50%)]\t Loss: 95.863301\n",
            "Train Epoch: 15 [40000/60000 (67%)]\t Loss: 105.830684\n",
            "Train Epoch: 15 [50000/60000 (83%)]\t Loss: 102.582988\n",
            "======> Epoch: 15 Average loss: 101.8100\n",
            "\n",
            "\n",
            "Train Epoch: 16 [0/60000 (0%)]\t Loss: 106.369775\n",
            "Train Epoch: 16 [10000/60000 (17%)]\t Loss: 103.664795\n",
            "Train Epoch: 16 [20000/60000 (33%)]\t Loss: 103.087666\n",
            "Train Epoch: 16 [30000/60000 (50%)]\t Loss: 102.075693\n",
            "Train Epoch: 16 [40000/60000 (67%)]\t Loss: 98.700195\n",
            "Train Epoch: 16 [50000/60000 (83%)]\t Loss: 107.589268\n",
            "======> Epoch: 16 Average loss: 101.5243\n",
            "\n",
            "\n",
            "Train Epoch: 17 [0/60000 (0%)]\t Loss: 97.758223\n",
            "Train Epoch: 17 [10000/60000 (17%)]\t Loss: 104.000400\n",
            "Train Epoch: 17 [20000/60000 (33%)]\t Loss: 101.638008\n",
            "Train Epoch: 17 [30000/60000 (50%)]\t Loss: 102.167441\n",
            "Train Epoch: 17 [40000/60000 (67%)]\t Loss: 100.250313\n",
            "Train Epoch: 17 [50000/60000 (83%)]\t Loss: 98.375566\n",
            "======> Epoch: 17 Average loss: 101.3128\n",
            "\n",
            "\n",
            "Train Epoch: 18 [0/60000 (0%)]\t Loss: 103.980469\n",
            "Train Epoch: 18 [10000/60000 (17%)]\t Loss: 99.405332\n",
            "Train Epoch: 18 [20000/60000 (33%)]\t Loss: 100.033525\n",
            "Train Epoch: 18 [30000/60000 (50%)]\t Loss: 102.383652\n",
            "Train Epoch: 18 [40000/60000 (67%)]\t Loss: 100.632402\n",
            "Train Epoch: 18 [50000/60000 (83%)]\t Loss: 101.245176\n",
            "======> Epoch: 18 Average loss: 101.0887\n",
            "\n",
            "\n",
            "Train Epoch: 19 [0/60000 (0%)]\t Loss: 99.360107\n",
            "Train Epoch: 19 [10000/60000 (17%)]\t Loss: 96.131328\n",
            "Train Epoch: 19 [20000/60000 (33%)]\t Loss: 101.046162\n",
            "Train Epoch: 19 [30000/60000 (50%)]\t Loss: 96.293730\n",
            "Train Epoch: 19 [40000/60000 (67%)]\t Loss: 103.043164\n",
            "Train Epoch: 19 [50000/60000 (83%)]\t Loss: 105.028828\n",
            "======> Epoch: 19 Average loss: 100.8850\n",
            "\n",
            "\n",
            "Train Epoch: 20 [0/60000 (0%)]\t Loss: 102.743965\n",
            "Train Epoch: 20 [10000/60000 (17%)]\t Loss: 100.487188\n",
            "Train Epoch: 20 [20000/60000 (33%)]\t Loss: 104.454346\n",
            "Train Epoch: 20 [30000/60000 (50%)]\t Loss: 97.971406\n",
            "Train Epoch: 20 [40000/60000 (67%)]\t Loss: 104.902852\n",
            "Train Epoch: 20 [50000/60000 (83%)]\t Loss: 105.954688\n",
            "======> Epoch: 20 Average loss: 100.7448\n",
            "\n",
            "\n",
            "Train Epoch: 21 [0/60000 (0%)]\t Loss: 103.194561\n",
            "Train Epoch: 21 [10000/60000 (17%)]\t Loss: 95.396016\n",
            "Train Epoch: 21 [20000/60000 (33%)]\t Loss: 101.581436\n",
            "Train Epoch: 21 [30000/60000 (50%)]\t Loss: 95.571572\n",
            "Train Epoch: 21 [40000/60000 (67%)]\t Loss: 99.562764\n",
            "Train Epoch: 21 [50000/60000 (83%)]\t Loss: 96.956582\n",
            "======> Epoch: 21 Average loss: 100.5859\n",
            "\n",
            "\n",
            "Train Epoch: 22 [0/60000 (0%)]\t Loss: 100.513320\n",
            "Train Epoch: 22 [10000/60000 (17%)]\t Loss: 100.777920\n",
            "Train Epoch: 22 [20000/60000 (33%)]\t Loss: 101.014736\n",
            "Train Epoch: 22 [30000/60000 (50%)]\t Loss: 103.883818\n",
            "Train Epoch: 22 [40000/60000 (67%)]\t Loss: 103.986768\n",
            "Train Epoch: 22 [50000/60000 (83%)]\t Loss: 101.548564\n",
            "======> Epoch: 22 Average loss: 100.4108\n",
            "\n",
            "\n",
            "Train Epoch: 23 [0/60000 (0%)]\t Loss: 105.503828\n",
            "Train Epoch: 23 [10000/60000 (17%)]\t Loss: 99.460361\n",
            "Train Epoch: 23 [20000/60000 (33%)]\t Loss: 98.682070\n",
            "Train Epoch: 23 [30000/60000 (50%)]\t Loss: 101.130410\n",
            "Train Epoch: 23 [40000/60000 (67%)]\t Loss: 102.649961\n",
            "Train Epoch: 23 [50000/60000 (83%)]\t Loss: 100.871055\n",
            "======> Epoch: 23 Average loss: 100.2525\n",
            "\n",
            "\n",
            "Train Epoch: 24 [0/60000 (0%)]\t Loss: 99.284619\n",
            "Train Epoch: 24 [10000/60000 (17%)]\t Loss: 97.498467\n",
            "Train Epoch: 24 [20000/60000 (33%)]\t Loss: 98.682969\n",
            "Train Epoch: 24 [30000/60000 (50%)]\t Loss: 96.485928\n",
            "Train Epoch: 24 [40000/60000 (67%)]\t Loss: 101.816699\n",
            "Train Epoch: 24 [50000/60000 (83%)]\t Loss: 96.359658\n",
            "======> Epoch: 24 Average loss: 100.1378\n",
            "\n",
            "\n",
            "Train Epoch: 25 [0/60000 (0%)]\t Loss: 99.587109\n",
            "Train Epoch: 25 [10000/60000 (17%)]\t Loss: 101.543867\n",
            "Train Epoch: 25 [20000/60000 (33%)]\t Loss: 96.807363\n",
            "Train Epoch: 25 [30000/60000 (50%)]\t Loss: 95.668340\n",
            "Train Epoch: 25 [40000/60000 (67%)]\t Loss: 98.453896\n",
            "Train Epoch: 25 [50000/60000 (83%)]\t Loss: 100.431768\n",
            "======> Epoch: 25 Average loss: 100.0127\n",
            "\n",
            "\n",
            "Train Epoch: 26 [0/60000 (0%)]\t Loss: 102.454502\n",
            "Train Epoch: 26 [10000/60000 (17%)]\t Loss: 102.486045\n",
            "Train Epoch: 26 [20000/60000 (33%)]\t Loss: 102.542949\n",
            "Train Epoch: 26 [30000/60000 (50%)]\t Loss: 102.719141\n",
            "Train Epoch: 26 [40000/60000 (67%)]\t Loss: 98.395957\n",
            "Train Epoch: 26 [50000/60000 (83%)]\t Loss: 103.414629\n",
            "======> Epoch: 26 Average loss: 99.8903\n",
            "\n",
            "\n",
            "Train Epoch: 27 [0/60000 (0%)]\t Loss: 99.050078\n",
            "Train Epoch: 27 [10000/60000 (17%)]\t Loss: 104.363301\n",
            "Train Epoch: 27 [20000/60000 (33%)]\t Loss: 100.890723\n",
            "Train Epoch: 27 [30000/60000 (50%)]\t Loss: 100.975762\n",
            "Train Epoch: 27 [40000/60000 (67%)]\t Loss: 101.772676\n",
            "Train Epoch: 27 [50000/60000 (83%)]\t Loss: 101.592549\n",
            "======> Epoch: 27 Average loss: 99.7959\n",
            "\n",
            "\n",
            "Train Epoch: 28 [0/60000 (0%)]\t Loss: 96.006113\n",
            "Train Epoch: 28 [10000/60000 (17%)]\t Loss: 94.319121\n",
            "Train Epoch: 28 [20000/60000 (33%)]\t Loss: 93.156289\n",
            "Train Epoch: 28 [30000/60000 (50%)]\t Loss: 96.799883\n",
            "Train Epoch: 28 [40000/60000 (67%)]\t Loss: 98.636465\n",
            "Train Epoch: 28 [50000/60000 (83%)]\t Loss: 101.619951\n",
            "======> Epoch: 28 Average loss: 99.6415\n",
            "\n",
            "\n",
            "Train Epoch: 29 [0/60000 (0%)]\t Loss: 101.255195\n",
            "Train Epoch: 29 [10000/60000 (17%)]\t Loss: 102.618643\n",
            "Train Epoch: 29 [20000/60000 (33%)]\t Loss: 96.683770\n",
            "Train Epoch: 29 [30000/60000 (50%)]\t Loss: 99.353535\n",
            "Train Epoch: 29 [40000/60000 (67%)]\t Loss: 102.009922\n",
            "Train Epoch: 29 [50000/60000 (83%)]\t Loss: 101.270459\n",
            "======> Epoch: 29 Average loss: 99.6004\n",
            "\n",
            "\n"
          ]
        }
      ],
      "source": [
        "# Trackning the process\n",
        "# If you have difficulty on installing 'tqdm', modifications are allowed. Not necessary\n",
        "from tqdm.auto import tqdm\n",
        "\n",
        "# Training an VAE model, and record losses\n",
        "for epoch in tqdm(range(0, epochs)):\n",
        "    train(epoch, model, train_loader, optimizer)\n",
        "    test(epoch, model, test_loader)\n",
        "    print(\"\\n\")\n"
      ]
    },
    {
      "cell_type": "code",
      "execution_count": null,
      "id": "229e80ee-486b-4946-af44-398071a116e1",
      "metadata": {
        "id": "229e80ee-486b-4946-af44-398071a116e1",
        "outputId": "d7c93225-c077-4fff-ae45-1df66228672a"
      },
      "outputs": [
        {
          "data": {
            "image/png": "[encoded data removed]",
            "text/plain": [
              "<Figure size 2000x800 with 20 Axes>"
            ]
          },
          "metadata": {},
          "output_type": "display_data"
        }
      ],
      "source": [
        "# After training decoder, begin visualize what comes after decoder given input z\n",
        "def visualize(decoder,z):\n",
        "    x_sample = decoder(z).view(20,28,28).detach().numpy()\n",
        "    fig, axes = plt.subplots(nrows=1, ncols=20, figsize=(20, 8))\n",
        "    for i, ax in enumerate(axes.flat):\n",
        "        ax.imshow(x_sample[i], cmap='gray')\n",
        "        ax.axis('off')\n",
        "    plt.tight_layout()\n",
        "    plt.show()\n",
        "\n",
        "z_sample = torch.randn(20,20)\n",
        "\n",
        "# (Assignment 1 ; Visualization)\n",
        "visualize(decoder,z_sample)\n"
      ]
    },
    {
      "cell_type": "code",
      "execution_count": null,
      "id": "d8f29311-a0fc-4f9f-a15c-a2f1224d0344",
      "metadata": {
        "id": "d8f29311-a0fc-4f9f-a15c-a2f1224d0344",
        "outputId": "f33cc61b-d70e-46c2-89c0-77332e6bec8d"
      },
      "outputs": [
        {
          "data": {
            "image/png": "[encoded data removed]",
            "text/plain": [
              "<Figure size 2000x800 with 20 Axes>"
            ]
          },
          "metadata": {},
          "output_type": "display_data"
        }
      ],
      "source": [
        "# Set seed numbers to take reproducibility\n",
        "seed = 3\n",
        "torch.manual_seed(seed)\n",
        "# torch.cuda.manual_seed(seed)\n",
        "np.random.seed(seed)\n",
        "\n",
        "# Random z\n",
        "z = torch.randn(20)\n",
        "# Make copies\n",
        "z = z.repeat(20,1)\n",
        "\n",
        "# Interpolation in latent space z\n",
        "for i in range(20):\n",
        "    z[i, 0] += i * 0.5 - (20 - 1) * 0.5 / 2\n",
        "\n",
        "# (Assignment 1 ; Visualization)\n",
        "visualize(decoder,z)"
      ]
    },
    {
      "cell_type": "markdown",
      "id": "d01be24b-3ef5-4069-9099-c8d4d734466b",
      "metadata": {
        "id": "d01be24b-3ef5-4069-9099-c8d4d734466b"
      },
      "source": [
        "## Answer(Q2; Optional) : Please write any codes or statements below this space\n"
      ]
    }
  ],
  "metadata": {
    "kernelspec": {
      "display_name": "Python 3 (ipykernel)",
      "language": "python",
      "name": "python3"
    },
    "language_info": {
      "codemirror_mode": {
        "name": "ipython",
        "version": 3
      },
      "file_extension": ".py",
      "mimetype": "text/x-python",
      "name": "python",
      "nbconvert_exporter": "python",
      "pygments_lexer": "ipython3",
      "version": "3.11.5"
    },
    "colab": {
      "provenance": []
    }
  },
  "nbformat": 4,
  "nbformat_minor": 5
}