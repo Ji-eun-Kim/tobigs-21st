{
  "cells": [
    {
      "cell_type": "markdown",
      "metadata": {
        "id": "zSEihWzoN9re"
      },
      "source": [
        "## 9주차 recsys basic 과제: Q1, Q2에있는 빈칸을 채워주세요"
      ]
    },
    {
      "cell_type": "markdown",
      "metadata": {
        "id": "SJl6f2eIN9rg"
      },
      "source": [
        "## Movielens data 탐방하기"
      ]
    },
    {
      "cell_type": "code",
      "execution_count": 69,
      "metadata": {
        "id": "VwQdBfM9N9rh"
      },
      "outputs": [],
      "source": [
        "\n",
        "import argparse\n",
        "\n",
        "import torch\n",
        "\n",
        "#다양한 hyperparameter를 조절하기 위한 argparser\n",
        "argparser = argparse.ArgumentParser()\n",
        "argparser.add_argument('--latent_dim', type=int, default=10)\n",
        "argparser.add_argument('--batch_size', type=int, default=500)\n",
        "args = argparser.parse_args(\"\")"
      ]
    },
    {
      "cell_type": "code",
      "execution_count": 70,
      "metadata": {
        "id": "Yw6f0_RBN9ri"
      },
      "outputs": [],
      "source": [
        "import pandas as pd\n",
        "import numpy as np\n",
        "# 이건 토치용입니다.\n",
        "from torch.utils.data import Dataset, DataLoader\n",
        "import torch\n",
        "\n",
        "class MlDataLoader(Dataset):\n",
        "    def __init__(self, x, y):\n",
        "        self.x = x\n",
        "        self.y = y\n",
        "\n",
        "    def __len__(self):\n",
        "        return len(self.y)\n",
        "\n",
        "    def __getitem__(self, idx):\n",
        "        return self.x[idx], self.y[idx]\n",
        ""
      ]
    },
    {
      "cell_type": "markdown",
      "metadata": {
        "id": "a_nwNJzxN9rj"
      },
      "source": [
        "## 무비렌즈 데이터 불러주는  class: ml100k\n",
        "ML100k 클래스에서 data_path만 여러분이 u.data를 불러올 수 있는 경로로 바꿔주세요!!"
      ]
    },
    {
      "cell_type": "code",
      "execution_count": 71,
      "metadata": {
        "id": "20nnhAyHN9rj"
      },
      "outputs": [],
      "source": [
        "import pandas as pd\n",
        "# traintest split\n",
        "from sklearn.model_selection import train_test_split\n",
        "import torch\n",
        "from torch.utils.data import Dataset, DataLoader\n",
        "#from src.preprocess.mldataloader import MlDataLoader\n",
        "\n",
        "\n",
        "class ML100k():\n",
        "\n",
        "    def __init__(self,args) -> None:\n",
        "        self.args=args\n",
        "        self.call_data(args)\n",
        "        pass\n",
        "\n",
        "    def call_data(self, args) -> None:\n",
        "        self.args = args\n",
        "        data_path=\"/content/sample_data/u.data\" #이부분을 다운받은 데이터를 코랩에서 실행할 수 잇도록 바꿔주세요\n",
        "\n",
        "        self.data= pd.read_csv(data_path, sep='\\t', header=None, names=['user', 'item', 'rating', 'timestamp'])\n",
        "        self.num_users = self.data.user.nunique()\n",
        "        self.num_items = self.data.item.nunique()\n",
        "        self.num_ratings = len(self.data)\n",
        "\n",
        "        # user, item index를 0부터 시작하도록 변경-. nn.Embedding에서 index가 0부터 시작하므로 1을 빼줍니다.\n",
        "        self.data.user = self.data.user -1\n",
        "        self.data.item = self.data.item -1\n",
        "\n",
        "\n",
        "        self.x = self.data[['user', 'item']].values\n",
        "        self.y= self.data.rating.values\n",
        "\n",
        "        # split data into train and test\n",
        "        self.x_train, self.x_test, self.y_train, self.y_test = train_test_split(self.x, self.y, test_size=0.2, random_state=42)\n",
        "\n",
        "\n",
        "\n",
        "\n",
        "    def get_dataframe(self):\n",
        "        # sort dataframe by user\n",
        "        return self.data[['user', 'item','rating']]\n",
        "\n",
        "\n",
        "    def load_torch_data(self):\n",
        "\n",
        "        # convert x to integer, y to floattenser\n",
        "        self.x_train = torch.tensor(self.x_train, dtype=torch.long)\n",
        "        self.y_train = torch.tensor(self.y_train, dtype=torch.float)\n",
        "        self.x_test = torch.tensor(self.x_test, dtype=torch.long)\n",
        "        self.y_test = torch.tensor(self.y_test, dtype=torch.float)\n",
        "\n",
        "\n",
        "        train_dataset = MlDataLoader(self.x_train, self.y_train)\n",
        "        test_dataset = MlDataLoader(self.x_test, self.y_test)\n",
        "\n",
        "        train_loader = DataLoader(train_dataset, batch_size=self.args.batch_size, shuffle=True)\n",
        "        test_loader = DataLoader(test_dataset, batch_size=self.args.batch_size, shuffle=False)\n",
        "\n",
        "        return train_loader, test_loader\n"
      ]
    },
    {
      "cell_type": "code",
      "execution_count": 72,
      "metadata": {
        "id": "x3cxjaP7N9rk"
      },
      "outputs": [],
      "source": [
        "ml100k=ML100k(args)\n",
        "dataframe=ml100k.get_dataframe()"
      ]
    },
    {
      "cell_type": "code",
      "execution_count": 73,
      "metadata": {
        "colab": {
          "base_uri": "https://localhost:8080/",
          "height": 423
        },
        "id": "Jx1GO4-gN9rk",
        "outputId": "572b0d73-6625-4d31-f278-03999e8b6bd5"
      },
      "outputs": [
        {
          "output_type": "execute_result",
          "data": {
            "text/plain": [
              "       user  item  rating\n",
              "0       195   241       3\n",
              "1       185   301       3\n",
              "2        21   376       1\n",
              "3       243    50       2\n",
              "4       165   345       1\n",
              "...     ...   ...     ...\n",
              "99995   879   475       3\n",
              "99996   715   203       5\n",
              "99997   275  1089       1\n",
              "99998    12   224       2\n",
              "99999    11   202       3\n",
              "\n",
              "[100000 rows x 3 columns]"
            ],
            "text/html": [
              "\n",
              "  <div id=\"df-163e1725-0a20-4532-9a6c-9f4e9b584e11\" class=\"colab-df-container\">\n",
              "    <div>\n",
              "<style scoped>\n",
              "    .dataframe tbody tr th:only-of-type {\n",
              "        vertical-align: middle;\n",
              "    }\n",
              "\n",
              "    .dataframe tbody tr th {\n",
              "        vertical-align: top;\n",
              "    }\n",
              "\n",
              "    .dataframe thead th {\n",
              "        text-align: right;\n",
              "    }\n",
              "</style>\n",
              "<table border=\"1\" class=\"dataframe\">\n",
              "  <thead>\n",
              "    <tr style=\"text-align: right;\">\n",
              "      <th></th>\n",
              "      <th>user</th>\n",
              "      <th>item</th>\n",
              "      <th>rating</th>\n",
              "    </tr>\n",
              "  </thead>\n",
              "  <tbody>\n",
              "    <tr>\n",
              "      <th>0</th>\n",
              "      <td>195</td>\n",
              "      <td>241</td>\n",
              "      <td>3</td>\n",
              "    </tr>\n",
              "    <tr>\n",
              "      <th>1</th>\n",
              "      <td>185</td>\n",
              "      <td>301</td>\n",
              "      <td>3</td>\n",
              "    </tr>\n",
              "    <tr>\n",
              "      <th>2</th>\n",
              "      <td>21</td>\n",
              "      <td>376</td>\n",
              "      <td>1</td>\n",
              "    </tr>\n",
              "    <tr>\n",
              "      <th>3</th>\n",
              "      <td>243</td>\n",
              "      <td>50</td>\n",
              "      <td>2</td>\n",
              "    </tr>\n",
              "    <tr>\n",
              "      <th>4</th>\n",
              "      <td>165</td>\n",
              "      <td>345</td>\n",
              "      <td>1</td>\n",
              "    </tr>\n",
              "    <tr>\n",
              "      <th>...</th>\n",
              "      <td>...</td>\n",
              "      <td>...</td>\n",
              "      <td>...</td>\n",
              "    </tr>\n",
              "    <tr>\n",
              "      <th>99995</th>\n",
              "      <td>879</td>\n",
              "      <td>475</td>\n",
              "      <td>3</td>\n",
              "    </tr>\n",
              "    <tr>\n",
              "      <th>99996</th>\n",
              "      <td>715</td>\n",
              "      <td>203</td>\n",
              "      <td>5</td>\n",
              "    </tr>\n",
              "    <tr>\n",
              "      <th>99997</th>\n",
              "      <td>275</td>\n",
              "      <td>1089</td>\n",
              "      <td>1</td>\n",
              "    </tr>\n",
              "    <tr>\n",
              "      <th>99998</th>\n",
              "      <td>12</td>\n",
              "      <td>224</td>\n",
              "      <td>2</td>\n",
              "    </tr>\n",
              "    <tr>\n",
              "      <th>99999</th>\n",
              "      <td>11</td>\n",
              "      <td>202</td>\n",
              "      <td>3</td>\n",
              "    </tr>\n",
              "  </tbody>\n",
              "</table>\n",
              "<p>100000 rows × 3 columns</p>\n",
              "</div>\n",
              "    <div class=\"colab-df-buttons\">\n",
              "\n",
              "  <div class=\"colab-df-container\">\n",
              "    <button class=\"colab-df-convert\" onclick=\"convertToInteractive('df-163e1725-0a20-4532-9a6c-9f4e9b584e11')\"\n",
              "            title=\"Convert this dataframe to an interactive table.\"\n",
              "            style=\"display:none;\">\n",
              "\n",
              "  <svg xmlns=\"http://www.w3.org/2000/svg\" height=\"24px\" viewBox=\"0 -960 960 960\">\n",
              "    <path d=\"M120-120v-720h720v720H120Zm60-500h600v-160H180v160Zm220 220h160v-160H400v160Zm0 220h160v-160H400v160ZM180-400h160v-160H180v160Zm440 0h160v-160H620v160ZM180-180h160v-160H180v160Zm440 0h160v-160H620v160Z\"/>\n",
              "  </svg>\n",
              "    </button>\n",
              "\n",
              "  <style>\n",
              "    .colab-df-container {\n",
              "      display:flex;\n",
              "      gap: 12px;\n",
              "    }\n",
              "\n",
              "    .colab-df-convert {\n",
              "      background-color: #E8F0FE;\n",
              "      border: none;\n",
              "      border-radius: 50%;\n",
              "      cursor: pointer;\n",
              "      display: none;\n",
              "      fill: #1967D2;\n",
              "      height: 32px;\n",
              "      padding: 0 0 0 0;\n",
              "      width: 32px;\n",
              "    }\n",
              "\n",
              "    .colab-df-convert:hover {\n",
              "      background-color: #E2EBFA;\n",
              "      box-shadow: 0px 1px 2px rgba(60, 64, 67, 0.3), 0px 1px 3px 1px rgba(60, 64, 67, 0.15);\n",
              "      fill: #174EA6;\n",
              "    }\n",
              "\n",
              "    .colab-df-buttons div {\n",
              "      margin-bottom: 4px;\n",
              "    }\n",
              "\n",
              "    [theme=dark] .colab-df-convert {\n",
              "      background-color: #3B4455;\n",
              "      fill: #D2E3FC;\n",
              "    }\n",
              "\n",
              "    [theme=dark] .colab-df-convert:hover {\n",
              "      background-color: #434B5C;\n",
              "      box-shadow: 0px 1px 3px 1px rgba(0, 0, 0, 0.15);\n",
              "      filter: drop-shadow(0px 1px 2px rgba(0, 0, 0, 0.3));\n",
              "      fill: #FFFFFF;\n",
              "    }\n",
              "  </style>\n",
              "\n",
              "    <script>\n",
              "      const buttonEl =\n",
              "        document.querySelector('#df-163e1725-0a20-4532-9a6c-9f4e9b584e11 button.colab-df-convert');\n",
              "      buttonEl.style.display =\n",
              "        google.colab.kernel.accessAllowed ? 'block' : 'none';\n",
              "\n",
              "      async function convertToInteractive(key) {\n",
              "        const element = document.querySelector('#df-163e1725-0a20-4532-9a6c-9f4e9b584e11');\n",
              "        const dataTable =\n",
              "          await google.colab.kernel.invokeFunction('convertToInteractive',\n",
              "                                                    [key], {});\n",
              "        if (!dataTable) return;\n",
              "\n",
              "        const docLinkHtml = 'Like what you see? Visit the ' +\n",
              "          '<a target=\"_blank\" href=https://colab.research.google.com/notebooks/data_table.ipynb>data table notebook</a>'\n",
              "          + ' to learn more about interactive tables.';\n",
              "        element.innerHTML = '';\n",
              "        dataTable['output_type'] = 'display_data';\n",
              "        await google.colab.output.renderOutput(dataTable, element);\n",
              "        const docLink = document.createElement('div');\n",
              "        docLink.innerHTML = docLinkHtml;\n",
              "        element.appendChild(docLink);\n",
              "      }\n",
              "    </script>\n",
              "  </div>\n",
              "\n",
              "\n",
              "<div id=\"df-3c72f502-07a1-41fe-984b-88fa11d47e1d\">\n",
              "  <button class=\"colab-df-quickchart\" onclick=\"quickchart('df-3c72f502-07a1-41fe-984b-88fa11d47e1d')\"\n",
              "            title=\"Suggest charts\"\n",
              "            style=\"display:none;\">\n",
              "\n",
              "<svg xmlns=\"http://www.w3.org/2000/svg\" height=\"24px\"viewBox=\"0 0 24 24\"\n",
              "     width=\"24px\">\n",
              "    <g>\n",
              "        <path d=\"M19 3H5c-1.1 0-2 .9-2 2v14c0 1.1.9 2 2 2h14c1.1 0 2-.9 2-2V5c0-1.1-.9-2-2-2zM9 17H7v-7h2v7zm4 0h-2V7h2v10zm4 0h-2v-4h2v4z\"/>\n",
              "    </g>\n",
              "</svg>\n",
              "  </button>\n",
              "\n",
              "<style>\n",
              "  .colab-df-quickchart {\n",
              "      --bg-color: #E8F0FE;\n",
              "      --fill-color: #1967D2;\n",
              "      --hover-bg-color: #E2EBFA;\n",
              "      --hover-fill-color: #174EA6;\n",
              "      --disabled-fill-color: #AAA;\n",
              "      --disabled-bg-color: #DDD;\n",
              "  }\n",
              "\n",
              "  [theme=dark] .colab-df-quickchart {\n",
              "      --bg-color: #3B4455;\n",
              "      --fill-color: #D2E3FC;\n",
              "      --hover-bg-color: #434B5C;\n",
              "      --hover-fill-color: #FFFFFF;\n",
              "      --disabled-bg-color: #3B4455;\n",
              "      --disabled-fill-color: #666;\n",
              "  }\n",
              "\n",
              "  .colab-df-quickchart {\n",
              "    background-color: var(--bg-color);\n",
              "    border: none;\n",
              "    border-radius: 50%;\n",
              "    cursor: pointer;\n",
              "    display: none;\n",
              "    fill: var(--fill-color);\n",
              "    height: 32px;\n",
              "    padding: 0;\n",
              "    width: 32px;\n",
              "  }\n",
              "\n",
              "  .colab-df-quickchart:hover {\n",
              "    background-color: var(--hover-bg-color);\n",
              "    box-shadow: 0 1px 2px rgba(60, 64, 67, 0.3), 0 1px 3px 1px rgba(60, 64, 67, 0.15);\n",
              "    fill: var(--button-hover-fill-color);\n",
              "  }\n",
              "\n",
              "  .colab-df-quickchart-complete:disabled,\n",
              "  .colab-df-quickchart-complete:disabled:hover {\n",
              "    background-color: var(--disabled-bg-color);\n",
              "    fill: var(--disabled-fill-color);\n",
              "    box-shadow: none;\n",
              "  }\n",
              "\n",
              "  .colab-df-spinner {\n",
              "    border: 2px solid var(--fill-color);\n",
              "    border-color: transparent;\n",
              "    border-bottom-color: var(--fill-color);\n",
              "    animation:\n",
              "      spin 1s steps(1) infinite;\n",
              "  }\n",
              "\n",
              "  @keyframes spin {\n",
              "    0% {\n",
              "      border-color: transparent;\n",
              "      border-bottom-color: var(--fill-color);\n",
              "      border-left-color: var(--fill-color);\n",
              "    }\n",
              "    20% {\n",
              "      border-color: transparent;\n",
              "      border-left-color: var(--fill-color);\n",
              "      border-top-color: var(--fill-color);\n",
              "    }\n",
              "    30% {\n",
              "      border-color: transparent;\n",
              "      border-left-color: var(--fill-color);\n",
              "      border-top-color: var(--fill-color);\n",
              "      border-right-color: var(--fill-color);\n",
              "    }\n",
              "    40% {\n",
              "      border-color: transparent;\n",
              "      border-right-color: var(--fill-color);\n",
              "      border-top-color: var(--fill-color);\n",
              "    }\n",
              "    60% {\n",
              "      border-color: transparent;\n",
              "      border-right-color: var(--fill-color);\n",
              "    }\n",
              "    80% {\n",
              "      border-color: transparent;\n",
              "      border-right-color: var(--fill-color);\n",
              "      border-bottom-color: var(--fill-color);\n",
              "    }\n",
              "    90% {\n",
              "      border-color: transparent;\n",
              "      border-bottom-color: var(--fill-color);\n",
              "    }\n",
              "  }\n",
              "</style>\n",
              "\n",
              "  <script>\n",
              "    async function quickchart(key) {\n",
              "      const quickchartButtonEl =\n",
              "        document.querySelector('#' + key + ' button');\n",
              "      quickchartButtonEl.disabled = true;  // To prevent multiple clicks.\n",
              "      quickchartButtonEl.classList.add('colab-df-spinner');\n",
              "      try {\n",
              "        const charts = await google.colab.kernel.invokeFunction(\n",
              "            'suggestCharts', [key], {});\n",
              "      } catch (error) {\n",
              "        console.error('Error during call to suggestCharts:', error);\n",
              "      }\n",
              "      quickchartButtonEl.classList.remove('colab-df-spinner');\n",
              "      quickchartButtonEl.classList.add('colab-df-quickchart-complete');\n",
              "    }\n",
              "    (() => {\n",
              "      let quickchartButtonEl =\n",
              "        document.querySelector('#df-3c72f502-07a1-41fe-984b-88fa11d47e1d button');\n",
              "      quickchartButtonEl.style.display =\n",
              "        google.colab.kernel.accessAllowed ? 'block' : 'none';\n",
              "    })();\n",
              "  </script>\n",
              "</div>\n",
              "\n",
              "  <div id=\"id_adf2865e-a0f8-40f3-9bbe-2574d31caeb4\">\n",
              "    <style>\n",
              "      .colab-df-generate {\n",
              "        background-color: #E8F0FE;\n",
              "        border: none;\n",
              "        border-radius: 50%;\n",
              "        cursor: pointer;\n",
              "        display: none;\n",
              "        fill: #1967D2;\n",
              "        height: 32px;\n",
              "        padding: 0 0 0 0;\n",
              "        width: 32px;\n",
              "      }\n",
              "\n",
              "      .colab-df-generate:hover {\n",
              "        background-color: #E2EBFA;\n",
              "        box-shadow: 0px 1px 2px rgba(60, 64, 67, 0.3), 0px 1px 3px 1px rgba(60, 64, 67, 0.15);\n",
              "        fill: #174EA6;\n",
              "      }\n",
              "\n",
              "      [theme=dark] .colab-df-generate {\n",
              "        background-color: #3B4455;\n",
              "        fill: #D2E3FC;\n",
              "      }\n",
              "\n",
              "      [theme=dark] .colab-df-generate:hover {\n",
              "        background-color: #434B5C;\n",
              "        box-shadow: 0px 1px 3px 1px rgba(0, 0, 0, 0.15);\n",
              "        filter: drop-shadow(0px 1px 2px rgba(0, 0, 0, 0.3));\n",
              "        fill: #FFFFFF;\n",
              "      }\n",
              "    </style>\n",
              "    <button class=\"colab-df-generate\" onclick=\"generateWithVariable('dataframe')\"\n",
              "            title=\"Generate code using this dataframe.\"\n",
              "            style=\"display:none;\">\n",
              "\n",
              "  <svg xmlns=\"http://www.w3.org/2000/svg\" height=\"24px\"viewBox=\"0 0 24 24\"\n",
              "       width=\"24px\">\n",
              "    <path d=\"M7,19H8.4L18.45,9,17,7.55,7,17.6ZM5,21V16.75L18.45,3.32a2,2,0,0,1,2.83,0l1.4,1.43a1.91,1.91,0,0,1,.58,1.4,1.91,1.91,0,0,1-.58,1.4L9.25,21ZM18.45,9,17,7.55Zm-12,3A5.31,5.31,0,0,0,4.9,8.1,5.31,5.31,0,0,0,1,6.5,5.31,5.31,0,0,0,4.9,4.9,5.31,5.31,0,0,0,6.5,1,5.31,5.31,0,0,0,8.1,4.9,5.31,5.31,0,0,0,12,6.5,5.46,5.46,0,0,0,6.5,12Z\"/>\n",
              "  </svg>\n",
              "    </button>\n",
              "    <script>\n",
              "      (() => {\n",
              "      const buttonEl =\n",
              "        document.querySelector('#id_adf2865e-a0f8-40f3-9bbe-2574d31caeb4 button.colab-df-generate');\n",
              "      buttonEl.style.display =\n",
              "        google.colab.kernel.accessAllowed ? 'block' : 'none';\n",
              "\n",
              "      buttonEl.onclick = () => {\n",
              "        google.colab.notebook.generateWithVariable('dataframe');\n",
              "      }\n",
              "      })();\n",
              "    </script>\n",
              "  </div>\n",
              "\n",
              "    </div>\n",
              "  </div>\n"
            ],
            "application/vnd.google.colaboratory.intrinsic+json": {
              "type": "dataframe",
              "variable_name": "dataframe",
              "summary": "{\n  \"name\": \"dataframe\",\n  \"rows\": 100000,\n  \"fields\": [\n    {\n      \"column\": \"user\",\n      \"properties\": {\n        \"dtype\": \"number\",\n        \"std\": 266,\n        \"min\": 0,\n        \"max\": 942,\n        \"num_unique_values\": 943,\n        \"samples\": [\n          261,\n          135,\n          820\n        ],\n        \"semantic_type\": \"\",\n        \"description\": \"\"\n      }\n    },\n    {\n      \"column\": \"item\",\n      \"properties\": {\n        \"dtype\": \"number\",\n        \"std\": 330,\n        \"min\": 0,\n        \"max\": 1681,\n        \"num_unique_values\": 1682,\n        \"samples\": [\n          1556,\n          807,\n          1617\n        ],\n        \"semantic_type\": \"\",\n        \"description\": \"\"\n      }\n    },\n    {\n      \"column\": \"rating\",\n      \"properties\": {\n        \"dtype\": \"number\",\n        \"std\": 1,\n        \"min\": 1,\n        \"max\": 5,\n        \"num_unique_values\": 5,\n        \"samples\": [\n          1,\n          5,\n          2\n        ],\n        \"semantic_type\": \"\",\n        \"description\": \"\"\n      }\n    }\n  ]\n}"
            }
          },
          "metadata": {},
          "execution_count": 73
        }
      ],
      "source": [
        "dataframe# 아래와 같이 user, item, rating으로 이루어진 데이터프레임이 나오게 됩니다."
      ]
    },
    {
      "cell_type": "markdown",
      "metadata": {
        "id": "gyUacmg5N9rl"
      },
      "source": [
        "##  Q1 : 해당 데이터 프레임을 통해서 각각의 유저가 item들의 점수를 어떻게 매겼는지를 나타내는 user-item matrix(rating matrix)를 만들어 주세요!!\n",
        "이 때 유저가 시청하지 않은 데이터는 -1로 처리해주세요!"
      ]
    },
    {
      "cell_type": "code",
      "source": [
        "rating_matrix = np.full((dataframe['user'].max() + 1, dataframe['item'].max() + 1), -1)\n",
        "\n",
        "rating_matrix[dataframe['user'], dataframe['item']] = dataframe['rating']\n",
        "rating_matrix"
      ],
      "metadata": {
        "colab": {
          "base_uri": "https://localhost:8080/"
        },
        "id": "hXCw7zxDUB1L",
        "outputId": "044b11ba-6247-433e-e88b-2565f8ba54a0"
      },
      "execution_count": 74,
      "outputs": [
        {
          "output_type": "execute_result",
          "data": {
            "text/plain": [
              "array([[ 5,  3,  4, ..., -1, -1, -1],\n",
              "       [ 4, -1, -1, ..., -1, -1, -1],\n",
              "       [-1, -1, -1, ..., -1, -1, -1],\n",
              "       ...,\n",
              "       [ 5, -1, -1, ..., -1, -1, -1],\n",
              "       [-1, -1, -1, ..., -1, -1, -1],\n",
              "       [-1,  5, -1, ..., -1, -1, -1]])"
            ]
          },
          "metadata": {},
          "execution_count": 74
        }
      ]
    },
    {
      "cell_type": "markdown",
      "metadata": {
        "id": "8EGGZkMmN9rm"
      },
      "source": [
        "## -1로 채워진 부분들을 채워주기 위해서 matrix factorization을 해봅시다\n",
        "이때 torch를 활용해서 sgd기반의 방법으로 user embedding과 item embedding을 훈련시켜 보겠습니다.\n"
      ]
    },
    {
      "cell_type": "code",
      "execution_count": 75,
      "metadata": {
        "id": "0mfVeXqPN9rm"
      },
      "outputs": [],
      "source": [
        "# 위에 ml100k 클래스에서 torch dataloader를 불러오는 함수를 호출하여 데이터로더 형태의 train_loader, test_loader를 불러옵니다.\n",
        "train_loader, test_loader=ml100k.load_torch_data()\n",
        "\n"
      ]
    },
    {
      "cell_type": "markdown",
      "metadata": {
        "id": "lFdVyYHNN9rm"
      },
      "source": [
        "이제 Matrix factorization model을 구현해봅시다."
      ]
    },
    {
      "cell_type": "code",
      "execution_count": 76,
      "metadata": {
        "id": "xPJdkX0xN9rm"
      },
      "outputs": [],
      "source": [
        "import torch\n",
        "import torch.nn as nn\n",
        "\n",
        "class MF(nn.Module):\n",
        "\n",
        "    def __init__(self, args ,num_users,num_items) -> None:\n",
        "        super().__init__()\n",
        "        self.num_users = num_users\n",
        "        self.num_items = num_items\n",
        "        self.latent_dim = args.latent_dim\n",
        "        self.user_embedding = nn.Embedding(self.num_users, self.latent_dim)\n",
        "        self.item_embedding = nn.Embedding(self.num_items, self.latent_dim)\n",
        "        #self.dropout = nn.Dropout(p=args.dropout)\n",
        "\n",
        "\n",
        "    def forward(self, x) -> None:\n",
        "        # x: (batch_size, 2) : index 0:user, index 1:item\n",
        "        user = x[:, 0]\n",
        "        item = x[:, 1]\n",
        "        user = self.user_embedding(user)\n",
        "        #user shape: (batch_size, latent_dim) 우리가 원하는 유저가 표현된 latent_dim 차원의 벡터\n",
        "        item = self.item_embedding(item)\n",
        "        #item shape: (batch_size, latent_dim) 우리가 원하는 아이템이 표현된 latent_dim 차원의 벡터\n",
        "\n",
        "        out = torch.sum(user * item, dim=1) # 내적을 통해서 구하기,\n",
        "\n",
        "        return out\n"
      ]
    },
    {
      "cell_type": "markdown",
      "metadata": {
        "id": "YyCwVe1YN9rn"
      },
      "source": [
        "여기서 잠깐 EMbedding이 어떻게 동작하는지 확인한번만 해봅시다"
      ]
    },
    {
      "cell_type": "code",
      "execution_count": 77,
      "metadata": {
        "id": "4Vte-MY8N9rn"
      },
      "outputs": [],
      "source": [
        "uemb_temp=nn.Embedding(ml100k.num_users, args.latent_dim)\n",
        "iembe_temp=nn.Embedding(ml100k.num_items, args.latent_dim)"
      ]
    },
    {
      "cell_type": "code",
      "execution_count": 78,
      "metadata": {
        "colab": {
          "base_uri": "https://localhost:8080/"
        },
        "id": "tRNF6QwAN9rn",
        "outputId": "63f68eec-7b19-4eae-d02c-565a0093fbb9"
      },
      "outputs": [
        {
          "output_type": "stream",
          "name": "stdout",
          "text": [
            "torch.Size([943, 10])\n",
            "torch.Size([1682, 10])\n"
          ]
        }
      ],
      "source": [
        "print(uemb_temp.weight.shape)\n",
        "print(iembe_temp.weight.shape)"
      ]
    },
    {
      "cell_type": "code",
      "execution_count": 79,
      "metadata": {
        "colab": {
          "base_uri": "https://localhost:8080/"
        },
        "id": "OMEm7ZDyN9rn",
        "outputId": "bfc0e578-0d4a-4b5d-cb75-118d8e02d9d1"
      },
      "outputs": [
        {
          "output_type": "execute_result",
          "data": {
            "text/plain": [
              "Parameter containing:\n",
              "tensor([[ 1.6092, -0.2925,  0.3341,  ...,  0.6207, -0.2889,  0.4803],\n",
              "        [-0.7693, -0.3107,  1.1864,  ...,  0.6789, -1.2579,  1.8524],\n",
              "        [-1.2727,  0.4376, -0.4932,  ..., -0.5677,  1.3732,  0.3531],\n",
              "        ...,\n",
              "        [ 0.4895, -0.9799,  2.1518,  ..., -0.4165,  0.6835,  0.8495],\n",
              "        [ 0.0333,  0.3687,  0.1292,  ..., -0.0571,  0.8550,  0.2734],\n",
              "        [ 0.0932,  3.4748,  1.9297,  ..., -0.9134,  1.4667, -0.4475]],\n",
              "       requires_grad=True)"
            ]
          },
          "metadata": {},
          "execution_count": 79
        }
      ],
      "source": [
        "uemb_temp.weight"
      ]
    },
    {
      "cell_type": "code",
      "execution_count": 80,
      "metadata": {
        "colab": {
          "base_uri": "https://localhost:8080/"
        },
        "id": "NR0scjZvN9rn",
        "outputId": "8b4e93e2-cd7a-48ae-bdb6-79959d71ff7f"
      },
      "outputs": [
        {
          "output_type": "execute_result",
          "data": {
            "text/plain": [
              "Parameter containing:\n",
              "tensor([[-1.0616, -0.6290,  0.8885,  ..., -1.1581,  0.6008, -0.1896],\n",
              "        [-0.9930, -1.5063,  0.6419,  ..., -1.5270, -0.7092, -0.1773],\n",
              "        [ 0.2015,  1.7572,  1.7929,  ..., -0.9768,  0.4656,  0.1508],\n",
              "        ...,\n",
              "        [-0.9637, -0.1488,  2.3127,  ..., -1.7764, -1.0335, -0.3968],\n",
              "        [-1.6026,  0.7100,  1.5547,  ..., -1.5642, -0.4212,  1.1615],\n",
              "        [ 0.6856, -0.2166, -0.6354,  ..., -0.1072, -0.5295,  1.0799]],\n",
              "       requires_grad=True)"
            ]
          },
          "metadata": {},
          "execution_count": 80
        }
      ],
      "source": [
        "iembe_temp.weight"
      ]
    },
    {
      "cell_type": "markdown",
      "metadata": {
        "id": "nepzMJwQN9ro"
      },
      "source": [
        "즉 nn.Embedding을 통해서 유저, 아이템에 대한 embedding matrix를 저장하고 훈련시킬 수 잇는 네트워크라고 보시면 됩니다.(자연어에서 사용되는 nn.embedding과 같습니다.`)"
      ]
    },
    {
      "cell_type": "markdown",
      "metadata": {
        "id": "Vp-fNG5BN9ro"
      },
      "source": [
        "그럼 이제 모델을 훈련시켜봅시다. 엄밀히 훈련시키려면 regularization,earlystopping등의 장치가 추가적으로 필요하지만, 돌아가는거만 확인하기 위해서 최대한 간단한 형태로 구현했습니다."
      ]
    },
    {
      "cell_type": "code",
      "execution_count": 81,
      "metadata": {
        "id": "mk67rFdmN9ro"
      },
      "outputs": [],
      "source": [
        "import torch\n",
        "class Trainer():\n",
        "\n",
        "    def __init__(self, model, optimizer, criterion, device):\n",
        "        self.model = model\n",
        "        self.optimizer = optimizer\n",
        "        self.criterion = criterion\n",
        "        self.device = device\n",
        "\n",
        "\n",
        "    def train(self, data, test_data, epochs):\n",
        "        for epoch in range(epochs):\n",
        "            for (x,y) in data:\n",
        "                x = x.to(self.device)\n",
        "                y = y.to(self.device)\n",
        "                self.optimizer.zero_grad()\n",
        "                output = self.model(x)\n",
        "                loss = self.criterion(output, y)\n",
        "                loss.backward()\n",
        "                self.optimizer.step()\n",
        "                # print test loss\n",
        "            test_loss = 0\n",
        "            with torch.no_grad():\n",
        "                for (x,y) in test_data:\n",
        "                    x = x.to(self.device)\n",
        "                    y = y.to(self.device)\n",
        "                    output = self.model(x)\n",
        "                    test_loss += self.criterion(output, y)\n",
        "\n",
        "                #normalize test loss\n",
        "            test_loss /= len(test_data)\n",
        "            print(f\"Epoch {epoch} train loss: {loss.item()} test loss: {test_loss.item()}\")\n",
        "\n",
        "        print(\"Training finished\")\n",
        "\n",
        "\n"
      ]
    },
    {
      "cell_type": "code",
      "execution_count": 82,
      "metadata": {
        "colab": {
          "base_uri": "https://localhost:8080/"
        },
        "id": "7wKgdDO_N9ro",
        "outputId": "741a1501-183b-48ec-e654-51bea4739f0c"
      },
      "outputs": [
        {
          "output_type": "stream",
          "name": "stdout",
          "text": [
            "Epoch 0 train loss: 2.051802635192871 test loss: 2.033735513687134\n",
            "Epoch 1 train loss: 1.1321650743484497 test loss: 1.2944684028625488\n",
            "Epoch 2 train loss: 0.8841235637664795 test loss: 1.223599910736084\n",
            "Epoch 3 train loss: 0.8270114064216614 test loss: 1.1969594955444336\n",
            "Epoch 4 train loss: 0.9763408899307251 test loss: 1.2240242958068848\n",
            "Epoch 5 train loss: 0.8443388938903809 test loss: 1.2199833393096924\n",
            "Epoch 6 train loss: 1.0285223722457886 test loss: 1.237939715385437\n",
            "Epoch 7 train loss: 0.8599250912666321 test loss: 1.2642741203308105\n",
            "Epoch 8 train loss: 0.979418933391571 test loss: 1.285125970840454\n",
            "Epoch 9 train loss: 0.8273536562919617 test loss: 1.2779037952423096\n",
            "Training finished\n"
          ]
        }
      ],
      "source": [
        "# model, optimizer, criterion, device를 정의합니다.\n",
        "model = MF(args, ml100k.num_users, ml100k.num_items)\n",
        "optimizer = torch.optim.Adam(model.parameters(),lr=0.05)\n",
        "criterion = nn.MSELoss()\n",
        "device = torch.device('cuda' if torch.cuda.is_available() else 'cpu')\n",
        "model.to(device)\n",
        "criterion.to(device)\n",
        "\n",
        "# trainer를 정의합니다.\n",
        "trainer = Trainer(model, optimizer, criterion, device)\n",
        "trainer.train(train_loader, test_loader, 10)"
      ]
    },
    {
      "cell_type": "markdown",
      "metadata": {
        "id": "cEZf0MXZN9rp"
      },
      "source": [
        "이제 아까 빈칸이었던 user-item matrix를 채워봅시다!\n",
        "\n",
        "\n"
      ]
    },
    {
      "cell_type": "code",
      "execution_count": 83,
      "metadata": {
        "id": "iDKXvmo-N9rp"
      },
      "outputs": [],
      "source": [
        "user_item_matrix=dataframe.pivot(index='user', columns='item', values='rating').fillna(-1) #pandas로 하면 너무느려져서 numpy로 바구고 진행합시다\n",
        "user_item_matrix=user_item_matrix.to_numpy()"
      ]
    },
    {
      "cell_type": "code",
      "execution_count": 84,
      "metadata": {
        "id": "7uBPFnqwN9rp"
      },
      "outputs": [],
      "source": [
        "model=model.cpu() #모델을 cpu로 바꿔주고\n",
        "# 훈련된 embedding을 numpy로 바꿔줍니다.\n",
        "np_userembedding=model.user_embedding.weight.detach().numpy()\n",
        "np_itemembedding=model.item_embedding.weight.detach().numpy()"
      ]
    },
    {
      "cell_type": "code",
      "execution_count": 85,
      "metadata": {
        "colab": {
          "base_uri": "https://localhost:8080/"
        },
        "id": "sqtkWUB7N9rp",
        "outputId": "c3f8bd12-713d-4531-dc9f-d2f10791efc9"
      },
      "outputs": [
        {
          "output_type": "execute_result",
          "data": {
            "text/plain": [
              "array([[ 5.,  3.,  4., ..., -1., -1., -1.],\n",
              "       [ 4., -1., -1., ..., -1., -1., -1.],\n",
              "       [-1., -1., -1., ..., -1., -1., -1.],\n",
              "       ...,\n",
              "       [ 5., -1., -1., ..., -1., -1., -1.],\n",
              "       [-1., -1., -1., ..., -1., -1., -1.],\n",
              "       [-1.,  5., -1., ..., -1., -1., -1.]])"
            ]
          },
          "metadata": {},
          "execution_count": 85
        }
      ],
      "source": [
        "user_item_matrix"
      ]
    },
    {
      "cell_type": "markdown",
      "metadata": {
        "id": "G3dGfvn6N9rp"
      },
      "source": [
        "## Q2. 아래 코드를 완성해주세요!"
      ]
    },
    {
      "cell_type": "code",
      "execution_count": 88,
      "metadata": {
        "id": "WFoHeNIpN9rp"
      },
      "outputs": [],
      "source": [
        "# 아래 코드를 완성해주세요\n",
        "for i in range(ml100k.num_users):\n",
        "    for j in range(ml100k.num_items):\n",
        "        if user_item_matrix[i,j]==-1:\n",
        "            user_item_matrix[i,j]= np.dot(np_userembedding[i], np_itemembedding[j]) # 물음표를 채워주세요! , HInt  : 내적"
      ]
    },
    {
      "cell_type": "markdown",
      "metadata": {
        "id": "UyBLkIh2N9rq"
      },
      "source": [
        "## 결과"
      ]
    },
    {
      "cell_type": "code",
      "execution_count": 89,
      "metadata": {
        "colab": {
          "base_uri": "https://localhost:8080/"
        },
        "id": "IXnLNmI0N9rq",
        "outputId": "c25442b7-6a0a-40a6-fd4e-9927abca33a7"
      },
      "outputs": [
        {
          "output_type": "execute_result",
          "data": {
            "text/plain": [
              "array([[ 5.        ,  3.        ,  4.        , ...,  1.03263474,\n",
              "         2.61526203,  1.48521328],\n",
              "       [ 4.        ,  3.96665692,  3.61533237, ...,  0.34918749,\n",
              "         3.74052668,  1.50529671],\n",
              "       [ 4.01101589,  1.05548322,  4.06618261, ...,  0.58951843,\n",
              "         7.57634878,  0.56986988],\n",
              "       ...,\n",
              "       [ 5.        ,  4.70909214,  4.33556032, ...,  3.03859639,\n",
              "         1.08628368,  3.50494242],\n",
              "       [ 4.6394043 ,  3.54699659,  4.25739908, ..., -0.78449368,\n",
              "         4.16478205,  0.18332827],\n",
              "       [ 2.977283  ,  5.        ,  2.67085958, ...,  1.07822251,\n",
              "         2.22594523,  0.45104298]])"
            ]
          },
          "metadata": {},
          "execution_count": 89
        }
      ],
      "source": [
        "user_item_matrix"
      ]
    },
    {
      "cell_type": "markdown",
      "metadata": {
        "id": "HvtXH29jN9rq"
      },
      "source": [
        "### 추가로....\n",
        "결과를 보면 범위가 -3 에서  +5보다 큰 값도 나왔는데, 일반적으로는 0.5~5 사이로 normalization을 시켜주는 것 같습니다. 이건 생략하겠습니다 ㅎㅎ.."
      ]
    },
    {
      "cell_type": "code",
      "execution_count": null,
      "metadata": {
        "id": "fbDm4Aa7N9rq"
      },
      "outputs": [],
      "source": []
    }
  ],
  "metadata": {
    "kernelspec": {
      "display_name": ".venv",
      "language": "python",
      "name": "python3"
    },
    "language_info": {
      "codemirror_mode": {
        "name": "ipython",
        "version": 3
      },
      "file_extension": ".py",
      "mimetype": "text/x-python",
      "name": "python",
      "nbconvert_exporter": "python",
      "pygments_lexer": "ipython3",
      "version": "3.10.12"
    },
    "colab": {
      "provenance": []
    }
  },
  "nbformat": 4,
  "nbformat_minor": 0
}